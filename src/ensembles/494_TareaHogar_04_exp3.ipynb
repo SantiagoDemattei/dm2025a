{
 "cells": [
  {
   "cell_type": "markdown",
   "metadata": {
    "id": "0cEmzeUKFkPh"
   },
   "source": [
    "# Tarea para el Hogar 04"
   ]
  },
  {
   "cell_type": "markdown",
   "metadata": {
    "id": "nSICPpyTGQmC"
   },
   "source": [
    "Esta Tarea para el Hogar 02 se entrega el final de la cuarta clase\n",
    "<br> se espera de usted que intente avanzar con los desafios propuestos y que los traiga terminados para la Clase 05 que será el viernes 01-agosto"
   ]
  },
  {
   "cell_type": "markdown",
   "metadata": {
    "id": "DenyKXkiJ5JN"
   },
   "source": [
    "##  1. Cazatalentos"
   ]
  },
  {
   "cell_type": "markdown",
   "metadata": {
    "id": "l-K2_ZsZGrVD"
   },
   "source": [
    "En la Clase 03 nos hemos enfrentado a  \"La Maldicion del Ganandor\",  elegir el modelo con el mejor puntaje simple no suele ser la mejor estrategia.\n",
    "<br> Lea y ejecute el notebook  **src/CazaTalentos/CazaTalentos.ipynb**\n",
    "<br> en caso de interesarle, participe del Desafío Ordenamiento  que vence el sábado 02 de agosto a las 19:00"
   ]
  },
  {
   "cell_type": "markdown",
   "metadata": {
    "id": "K9GkTOk5J9t3"
   },
   "source": [
    "## 2. Hiperparámetros del LightGBM"
   ]
  },
  {
   "cell_type": "markdown",
   "metadata": {
    "id": "VmEFy0ukKL5T"
   },
   "source": [
    "Los objetivos de esta tarea son:\n",
    "\n",
    "\n",
    "*   Aumentar la rentabilidad de la campaña de marketing de retención proactiva de clientes.\n",
    "*   Generar un mejor modelo optimizando sus hiperparámetros\n",
    "*   Conceptual : investigar los mas relevantes hiperparámetros de LightGBM\n",
    "*   Familiarizarse con la Bayesian Optimization, sus largos tiempos de corrida y opciones para reducirlos\n",
    "*   Familiarizarse con el uso de máquinas virtuales de Google Colab\n",
    "*   Ver un pipeline completo de optimización de hiperparámetros y puesta en producción"
   ]
  },
  {
   "cell_type": "markdown",
   "metadata": {
    "id": "5yvlS6JQLRMd"
   },
   "source": [
    "LightGBM cuenta con mas de 60 hiperparámetros, siendo posible utilizar 40 al mismo tiempo, aunque no razonable.\n",
    "<br> La documentación oficial de los hiperparámetros de LightGBM es  https://lightgbm.readthedocs.io/en/latest/Parameters.html#core-parameters\n"
   ]
  },
  {
   "cell_type": "markdown",
   "metadata": {
    "id": "eydI4YNAsFaf"
   },
   "source": [
    "Se lo alerta sobre que una Optimizacion Bayesiana lleva varias horas de corrida, y usted deberá correr VARIAS optimizaciones para descubrir cuales parámetros conviene optimizar.\n",
    "<br> A pesar que la próxima clase es recien en viernes 01 de agosto, inicie la tarea con tiempo, aprenda a planificar estratégicamente sus corridas como un@ científ@  de datos."
   ]
  },
  {
   "cell_type": "markdown",
   "metadata": {
    "id": "RzU4S0SeMcpp"
   },
   "source": [
    "Es necesario investigar cuales son los hiperparámetros de LightGBM que vale la pena optimizar en una Bayesian Optimization, ya que los realmente utiles son apenas un reducido subconjunto.\n",
    "<br>Usted deberá investigar cuales son los hiperparámetros mas relevantes de LightGBM, su primer alternativa es preguntándole a su amigo con capacidades especiales ChatGPT o sus endogámicos familiares Claude, DeepSeek, Gemini, Grok, etc\n",
    "<br> La segunda alternativa es la propia documentación de LightGBM  https://lightgbm.readthedocs.io/en/latest/Parameters-Tuning.html\n"
   ]
  },
  {
   "cell_type": "markdown",
   "metadata": {
    "id": "LNptUgI_NWWG"
   },
   "source": [
    "Adicionalmente podra buscar información como la que proveen esta diminuta muestra aleatoria de artículos ligeros:\n",
    "*  https://medium.com/@sarahzouinina/a-deep-dive-into-lightgbm-how-to-choose-and-tune-parameters-7c584945842e\n",
    "*  https://www.kaggle.com/code/somang1418/tuning-hyperparameters-under-10-minutes-lgbm\n",
    "*  https://towardsdatascience.com/beginners-guide-to-the-must-know-lightgbm-hyperparameters-a0005a812702/\n",
    "\n",
    "\n",
    "<br>  La muestra anterior se brinda a modo de ejemplo, usted deberá buscar muuuuchas  fuentes adicionales de información\n",
    "<br> Tenga presente que LightGBM es el estado del arte en modelado predictivo para datasets estructurado, que son el 90% del trabajo del 95% de los Data Scientists en Argentina."
   ]
  },
  {
   "cell_type": "markdown",
   "metadata": {
    "id": "WpUThBojODyK"
   },
   "source": [
    "El desafío de esta tarea es:\n",
    "* Qué hiperparparámetros conviene optimizar?  Las recomendaciones de los artículos ligeros es siempre sensata?  Sus autores realmente hicieron experimentos o son siemplemente escritores de entretenimiento carente de base científica?\n",
    "* Elegidos los hiperparámetros, cual es el  <desde, hasta> que se debe utilizar en la Bayesian Optimization ?\n",
    "* Realmente vale la pena optimizar 10 o 16 hiperparámetros al mismo tiempo ?  No resulta contraproducente una búsqueda en un espacio de tal alta dimensionalidad ?"
   ]
  },
  {
   "cell_type": "markdown",
   "metadata": {
    "id": "PX0qg_c0yqob"
   },
   "source": [
    "#### 2.1  Seteo del ambiente en Google Colab"
   ]
  },
  {
   "cell_type": "markdown",
   "metadata": {
    "id": "NGY7H9xza7Zr"
   },
   "source": [
    "Esta parte se debe correr con el runtime en Python3\n",
    "<br>Ir al menu, Runtime -> Change Runtime Type -> Runtime type ->  **Python 3**"
   ]
  },
  {
   "cell_type": "markdown",
   "metadata": {
    "id": "7PupIBNba7Zr"
   },
   "source": [
    "Conectar la virtual machine donde esta corriendo Google Colab con el  Google Drive, para poder tener persistencia de archivos"
   ]
  },
  {
   "cell_type": "code",
   "execution_count": null,
   "metadata": {
    "id": "9LpZCst5a7Zs"
   },
   "outputs": [],
   "source": [
    "# primero establecer el Runtime de Python 3\n",
    "from google.colab import drive\n",
    "drive.mount('/content/.drive')"
   ]
  },
  {
   "cell_type": "markdown",
   "metadata": {
    "id": "JYC_F-wla7Zs"
   },
   "source": [
    "Para correr la siguiente celda es fundamental en Arranque en Frio haber copiado el archivo kaggle.json al Google Drive, en la carpeta indicada en el instructivo\n",
    "\n",
    "<br>los siguientes comando estan en shell script de Linux\n",
    "*   Crear las carpetas en el Google Drive\n",
    "*   \"instalar\" el archivo kaggle.json desde el Google Drive a la virtual machine para que pueda ser utilizado por la libreria  kaggle de Python\n",
    "*   Bajar el  **dataset_pequeno**  al  Google Drive  y tambien al disco local de la virtual machine que esta corriendo Google Colab\n",
    "\n"
   ]
  },
  {
   "cell_type": "code",
   "execution_count": null,
   "metadata": {
    "id": "XWLelftXa7Zt"
   },
   "outputs": [],
   "source": [
    "%%shell\n",
    "\n",
    "mkdir -p \"/content/.drive/My Drive/dm\"\n",
    "mkdir -p \"/content/buckets\"\n",
    "ln -s \"/content/.drive/My Drive/dm\" /content/buckets/b1\n",
    "\n",
    "mkdir -p ~/.kaggle\n",
    "cp /content/buckets/b1/kaggle/kaggle.json  ~/.kaggle\n",
    "chmod 600 ~/.kaggle/kaggle.json\n",
    "\n",
    "\n",
    "mkdir -p /content/buckets/b1/exp\n",
    "mkdir -p /content/buckets/b1/datasets\n",
    "mkdir -p /content/datasets\n",
    "\n",
    "\n",
    "\n",
    "archivo_origen=\"https://storage.googleapis.com/open-courses/itba2025-8d0a/dataset_pequeno.csv\"\n",
    "archivo_destino=\"/content/datasets/dataset_pequeno.csv\"\n",
    "archivo_destino_bucket=\"/content/buckets/b1/datasets/dataset_pequeno.csv\"\n",
    "\n",
    "if ! test -f $archivo_destino_bucket; then\n",
    "  wget  $archivo_origen  -O $archivo_destino_bucket\n",
    "fi\n",
    "\n",
    "\n",
    "if ! test -f $archivo_destino; then\n",
    "  cp  $archivo_destino_bucket  $archivo_destino\n",
    "fi\n"
   ]
  },
  {
   "cell_type": "markdown",
   "metadata": {
    "id": "oSKhZRToy2F7"
   },
   "source": [
    "### 2.2 Optimizacion Hiperparámetros"
   ]
  },
  {
   "cell_type": "markdown",
   "metadata": {
    "id": "2kwPpHAtSmix"
   },
   "source": [
    "Esta parte se debe correr con el runtime en lenguaje R Ir al menu, Runtime -> Change Runtime Type -> Runtime type -> R"
   ]
  },
  {
   "cell_type": "markdown",
   "metadata": {
    "id": "xp4-Bj3aYI8d"
   },
   "source": [
    "### 2.2.1 Inicio"
   ]
  },
  {
   "cell_type": "markdown",
   "metadata": {
    "id": "zy8YTZfESxeJ"
   },
   "source": [
    "limpio el ambiente de R"
   ]
  },
  {
   "cell_type": "code",
   "execution_count": 1,
   "metadata": {
    "id": "gBq__iAdQliq"
   },
   "outputs": [
    {
     "data": {
      "text/html": [
       "'Tue Jul 22 22:07:03 2025'"
      ],
      "text/latex": [
       "'Tue Jul 22 22:07:03 2025'"
      ],
      "text/markdown": [
       "'Tue Jul 22 22:07:03 2025'"
      ],
      "text/plain": [
       "[1] \"Tue Jul 22 22:07:03 2025\""
      ]
     },
     "metadata": {},
     "output_type": "display_data"
    }
   ],
   "source": [
    "format(Sys.time(), \"%a %b %d %X %Y\")"
   ]
  },
  {
   "cell_type": "code",
   "execution_count": 2,
   "metadata": {
    "id": "7rdVrBojS1IV"
   },
   "outputs": [
    {
     "data": {
      "text/html": [
       "<table class=\"dataframe\">\n",
       "<caption>A matrix: 2 × 6 of type dbl</caption>\n",
       "<thead>\n",
       "\t<tr><th></th><th scope=col>used</th><th scope=col>(Mb)</th><th scope=col>gc trigger</th><th scope=col>(Mb)</th><th scope=col>max used</th><th scope=col>(Mb)</th></tr>\n",
       "</thead>\n",
       "<tbody>\n",
       "\t<tr><th scope=row>Ncells</th><td> 656930</td><td>35.1</td><td>1439374</td><td>76.9</td><td>1431355</td><td>76.5</td></tr>\n",
       "\t<tr><th scope=row>Vcells</th><td>1224911</td><td> 9.4</td><td>8388608</td><td>64.0</td><td>1924961</td><td>14.7</td></tr>\n",
       "</tbody>\n",
       "</table>\n"
      ],
      "text/latex": [
       "A matrix: 2 × 6 of type dbl\n",
       "\\begin{tabular}{r|llllll}\n",
       "  & used & (Mb) & gc trigger & (Mb) & max used & (Mb)\\\\\n",
       "\\hline\n",
       "\tNcells &  656930 & 35.1 & 1439374 & 76.9 & 1431355 & 76.5\\\\\n",
       "\tVcells & 1224911 &  9.4 & 8388608 & 64.0 & 1924961 & 14.7\\\\\n",
       "\\end{tabular}\n"
      ],
      "text/markdown": [
       "\n",
       "A matrix: 2 × 6 of type dbl\n",
       "\n",
       "| <!--/--> | used | (Mb) | gc trigger | (Mb) | max used | (Mb) |\n",
       "|---|---|---|---|---|---|---|\n",
       "| Ncells |  656930 | 35.1 | 1439374 | 76.9 | 1431355 | 76.5 |\n",
       "| Vcells | 1224911 |  9.4 | 8388608 | 64.0 | 1924961 | 14.7 |\n",
       "\n"
      ],
      "text/plain": [
       "       used    (Mb) gc trigger (Mb) max used (Mb)\n",
       "Ncells  656930 35.1 1439374    76.9 1431355  76.5\n",
       "Vcells 1224911  9.4 8388608    64.0 1924961  14.7"
      ]
     },
     "metadata": {},
     "output_type": "display_data"
    }
   ],
   "source": [
    "# limpio la memoria\n",
    "rm(list=ls(all.names=TRUE)) # remove all objects\n",
    "gc(full=TRUE, verbose=FALSE) # garbage collection"
   ]
  },
  {
   "cell_type": "markdown",
   "metadata": {
    "id": "kuPfQ7ksjwW3"
   },
   "source": [
    "### 2.2.2 Carga de Librerias"
   ]
  },
  {
   "cell_type": "code",
   "execution_count": 3,
   "metadata": {
    "id": "lVyxLaJ1j1J_"
   },
   "outputs": [
    {
     "name": "stderr",
     "output_type": "stream",
     "text": [
      "Loading required package: data.table\n",
      "\n",
      "Loading required package: parallel\n",
      "\n",
      "Loading required package: primes\n",
      "\n",
      "Loading required package: rlist\n",
      "\n",
      "Loading required package: yaml\n",
      "\n",
      "Loading required package: lightgbm\n",
      "\n",
      "Loading required package: DiceKriging\n",
      "\n",
      "Loading required package: mlrMBO\n",
      "\n",
      "Loading required package: mlr\n",
      "\n",
      "Loading required package: ParamHelpers\n",
      "\n",
      "Loading required package: smoof\n",
      "\n",
      "Loading required package: checkmate\n",
      "\n",
      "\n",
      "Attaching package: ‘checkmate’\n",
      "\n",
      "\n",
      "The following object is masked from ‘package:DiceKriging’:\n",
      "\n",
      "    checkNames\n",
      "\n",
      "\n"
     ]
    }
   ],
   "source": [
    "# cargo las librerias que necesito\n",
    "require(\"data.table\")\n",
    "require(\"parallel\")\n",
    "\n",
    "if( !require(\"primes\") ) install.packages(\"primes\")\n",
    "require(\"primes\")\n",
    "\n",
    "if( !require(\"utils\") ) install.packages(\"utils\")\n",
    "require(\"utils\")\n",
    "\n",
    "if( !require(\"rlist\") ) install.packages(\"rlist\")\n",
    "require(\"rlist\")\n",
    "\n",
    "if( !require(\"yaml\")) install.packages(\"yaml\")\n",
    "require(\"yaml\")\n",
    "\n",
    "if( !require(\"lightgbm\") ) install.packages(\"lightgbm\")\n",
    "require(\"lightgbm\")\n",
    "\n",
    "if( !require(\"DiceKriging\") ) install.packages(\"DiceKriging\")\n",
    "require(\"DiceKriging\")\n",
    "\n",
    "if( !require(\"mlrMBO\") ) install.packages(\"mlrMBO\")\n",
    "require(\"mlrMBO\")"
   ]
  },
  {
   "cell_type": "markdown",
   "metadata": {
    "id": "Iz-6Qt6BUaA3"
   },
   "source": [
    "### 2.2.3 Definicion de Parametros"
   ]
  },
  {
   "cell_type": "markdown",
   "metadata": {
    "id": "cOdlKd7lUm2I"
   },
   "source": [
    "aqui debe cargar SU semilla primigenia\n",
    "<br>recuerde cambiar el numero de experimento en cada corrida nueva"
   ]
  },
  {
   "cell_type": "code",
   "execution_count": 4,
   "metadata": {
    "id": "ASYkebOu2mF6"
   },
   "outputs": [],
   "source": [
    "PARAM <- list()\n",
    "PARAM$experimento <- 4943\n",
    "PARAM$semilla_primigenia <- 100129\n"
   ]
  },
  {
   "cell_type": "code",
   "execution_count": 5,
   "metadata": {
    "id": "ezOhQdbA293o"
   },
   "outputs": [],
   "source": [
    "PARAM$kaggle$competencia <- \"data-mining-analista-sr-2025-a\"\n",
    "PARAM$kaggle$cortes <- seq(10000, 12000, by= 500)"
   ]
  },
  {
   "cell_type": "code",
   "execution_count": 6,
   "metadata": {
    "id": "jtB0Lub42rHO"
   },
   "outputs": [],
   "source": [
    "# un undersampling de 0.1  toma solo el 10% de los CONTINUA\n",
    "# undersampling de 1.0  implica tomar TODOS los datos\n",
    "\n",
    "PARAM$trainingstrategy$undersampling <- 0.5"
   ]
  },
  {
   "cell_type": "code",
   "execution_count": 7,
   "metadata": {
    "id": "OFxm-xiNUOJX"
   },
   "outputs": [],
   "source": [
    "# Parametros LightGBM\n",
    "\n",
    "PARAM$hyperparametertuning$xval_folds <- 5\n",
    "\n",
    "# parametros fijos del LightGBM que se pisaran con la parte variable de la BO\n",
    "PARAM$lgbm$param_fijos <-  list(\n",
    "  boosting= \"gbdt\", # puede ir  dart  , ni pruebe random_forest\n",
    "  objective= \"binary\",\n",
    "  metric= \"auc\",\n",
    "  first_metric_only= FALSE,\n",
    "  boost_from_average= TRUE,\n",
    "  feature_pre_filter= FALSE,\n",
    "  force_row_wise= TRUE, # para reducir warnings\n",
    "  verbosity= -100,\n",
    "\n",
    "  seed= PARAM$semilla_primigenia,\n",
    "\n",
    "  max_depth= -1L, # -1 significa no limitar,  por ahora lo dejo fijo\n",
    "  min_gain_to_split= 0, # min_gain_to_split >= 0\n",
    "  min_sum_hessian_in_leaf= 0.001, #  min_sum_hessian_in_leaf >= 0.0\n",
    "  lambda_l1= 0.0, # lambda_l1 >= 0.0\n",
    "  lambda_l2= 0.0, # lambda_l2 >= 0.0\n",
    "  max_bin= 31L, # lo debo dejar fijo, no participa de la BO\n",
    "\n",
    "  bagging_fraction= 1.0, # 0.0 < bagging_fraction <= 1.0\n",
    "  pos_bagging_fraction= 1.0, # 0.0 < pos_bagging_fraction <= 1.0\n",
    "  neg_bagging_fraction= 1.0, # 0.0 < neg_bagging_fraction <= 1.0\n",
    "  is_unbalance= FALSE, #\n",
    "  scale_pos_weight= 1.0, # scale_pos_weight > 0.0\n",
    "\n",
    "  drop_rate= 0.1, # 0.0 < neg_bagging_fraction <= 1.0\n",
    "  max_drop= 50, # <=0 means no limit\n",
    "  skip_drop= 0.5, # 0.0 <= skip_drop <= 1.0\n",
    "\n",
    "  extra_trees= FALSE,\n",
    "\n",
    "  num_iterations= 1200,\n",
    "  learning_rate= 0.02,\n",
    "  feature_fraction= 0.5,\n",
    "  num_leaves= 750,\n",
    "  min_data_in_leaf= 5000\n",
    ")\n"
   ]
  },
  {
   "cell_type": "markdown",
   "metadata": {
    "id": "D5Yj-JV4yvOt"
   },
   "source": [
    "Aqui se definen los hiperparámetros de LightGBM que participan de la Bayesian Optimization\n",
    "<br> si es un numero entero debe ir  makeIntegerParam\n",
    "<br> si es un numero real (con decimales) debe ir  makeNumericParam\n",
    "<br> es muy importante leer cuales son un lower y upper  permitidos y ademas razonables"
   ]
  },
  {
   "cell_type": "code",
   "execution_count": 8,
   "metadata": {
    "id": "jENpR26ZyuS8"
   },
   "outputs": [],
   "source": [
    "# Aqui se cargan los bordes de los hiperparametros de la BO\n",
    "PARAM$hypeparametertuning$hs <- makeParamSet(\n",
    "  makeIntegerParam(\"num_iterations\", lower = 900L, upper = 1100L),\n",
    "  makeNumericParam(\"learning_rate\", lower = 0.015, upper = 0.02),\n",
    "  makeNumericParam(\"feature_fraction\", lower = 0.4, upper = 0.7),\n",
    "  makeIntegerParam(\"min_data_in_leaf\", lower = 250L, upper = 400L),\n",
    "  makeIntegerParam(\"num_leaves\", lower = 180L, upper = 210L),\n",
    "  makeIntegerParam(\"max_depth\", lower = 9L, upper = 11L),\n",
    "  makeNumericParam(\"lambda_l1\", lower = 4.0, upper = 4.5),\n",
    "  makeNumericParam(\"lambda_l2\", lower = 3.4, upper = 3.7),\n",
    "  makeNumericParam(\"min_gain_to_split\", lower = 0.08, upper = 0.15),\n",
    "  makeNumericParam(\"bagging_fraction\", lower = 0.83, upper = 0.9)\n",
    ")"
   ]
  },
  {
   "cell_type": "markdown",
   "metadata": {
    "id": "-_RPFUb3zMoW"
   },
   "source": [
    "A mayor cantidad de hiperparámetros, se debe aumentar las iteraciones de la Bayesian Optimization\n",
    "<br> 30 es un valor muy tacaño, pero corre rápido\n",
    "<br> deberia partir de 50, alcanzando los 100 si se dispone de tiempo"
   ]
  },
  {
   "cell_type": "code",
   "execution_count": 9,
   "metadata": {
    "id": "q5Rd3pnbzSiG"
   },
   "outputs": [],
   "source": [
    "PARAM$hyperparametertuning$iteraciones <- 50 # iteraciones bayesianas"
   ]
  },
  {
   "cell_type": "markdown",
   "metadata": {
    "id": "4RWZXL1VZjMI"
   },
   "source": [
    "### 2.2.4  Preprocesamiento"
   ]
  },
  {
   "cell_type": "code",
   "execution_count": 10,
   "metadata": {
    "id": "j3toG9-lZm4K"
   },
   "outputs": [],
   "source": [
    "# carpeta de trabajo\n",
    "\n",
    "setwd(\"/content/buckets/b1/exp\")\n",
    "experimento_folder <- paste0(\"HT\", PARAM$experimento)\n",
    "dir.create(experimento_folder, showWarnings=FALSE)\n",
    "setwd( paste0(\"/content/buckets/b1/exp/\", experimento_folder ))"
   ]
  },
  {
   "cell_type": "code",
   "execution_count": 11,
   "metadata": {
    "id": "FM3lxKoLZ643"
   },
   "outputs": [],
   "source": [
    "# lectura del dataset\n",
    "\n",
    "dataset <- fread(\"/content/datasets/dataset_pequeno.csv\")"
   ]
  },
  {
   "cell_type": "code",
   "execution_count": 12,
   "metadata": {
    "id": "OsJ-91UeZ-I_"
   },
   "outputs": [],
   "source": [
    "dataset_train <- dataset[foto_mes %in% c(202107)]"
   ]
  },
  {
   "cell_type": "code",
   "execution_count": 13,
   "metadata": {
    "id": "vrWE7BE0aB2J"
   },
   "outputs": [],
   "source": [
    "# paso la clase a binaria que tome valores {0,1}  enteros\n",
    "#  BAJA+1 y BAJA+2  son  1,   CONTINUA es 0\n",
    "\n",
    "dataset_train[,\n",
    "  clase01 := ifelse(clase_ternaria %in% c(\"BAJA+2\",\"BAJA+1\"), 1L, 0L)\n",
    "]"
   ]
  },
  {
   "cell_type": "code",
   "execution_count": 14,
   "metadata": {
    "id": "jP7YlQBnaW6W"
   },
   "outputs": [],
   "source": [
    "# defino los datos que forma parte del training\n",
    "# aqui se hace el undersampling de los CONTINUA\n",
    "# notar que para esto utilizo la SEGUNDA semilla\n",
    "\n",
    "set.seed(PARAM$semilla_primigenia, kind = \"L'Ecuyer-CMRG\")\n",
    "dataset_train[, azar := runif(nrow(dataset_train))]\n",
    "dataset_train[, training := 0L]\n",
    "\n",
    "dataset_train[\n",
    "  foto_mes %in% c(202107) &\n",
    "    (azar <= PARAM$trainingstrategy$undersampling | clase_ternaria %in% c(\"BAJA+1\", \"BAJA+2\")),\n",
    "  training := 1L\n",
    "]"
   ]
  },
  {
   "cell_type": "code",
   "execution_count": 15,
   "metadata": {
    "id": "xElu4s5W4rX7"
   },
   "outputs": [],
   "source": [
    "# los campos que se van a utilizar\n",
    "\n",
    "campos_buenos <- setdiff(\n",
    "  colnames(dataset_train),\n",
    "  c(\"clase_ternaria\", \"clase01\", \"azar\", \"training\")\n",
    ")"
   ]
  },
  {
   "cell_type": "code",
   "execution_count": 16,
   "metadata": {
    "id": "PppMHcGYaaol"
   },
   "outputs": [
    {
     "data": {
      "text/html": [
       "83679"
      ],
      "text/latex": [
       "83679"
      ],
      "text/markdown": [
       "83679"
      ],
      "text/plain": [
       "[1] 83679"
      ]
     },
     "metadata": {},
     "output_type": "display_data"
    },
    {
     "data": {
      "text/html": [
       "154"
      ],
      "text/latex": [
       "154"
      ],
      "text/markdown": [
       "154"
      ],
      "text/plain": [
       "[1] 154"
      ]
     },
     "metadata": {},
     "output_type": "display_data"
    }
   ],
   "source": [
    "# dejo los datos en el formato que necesita LightGBM\n",
    "\n",
    "dtrain <- lgb.Dataset(\n",
    "  data= data.matrix(dataset_train[training == 1L, campos_buenos, with= FALSE]),\n",
    "  label= dataset_train[training == 1L, clase01],\n",
    "  free_raw_data= FALSE\n",
    ")\n",
    "\n",
    "nrow(dtrain)\n",
    "ncol(dtrain)"
   ]
  },
  {
   "cell_type": "markdown",
   "metadata": {
    "id": "Ta-EkOu3cphF"
   },
   "source": [
    "2.2.5 Configuracion Bayesian Optimization"
   ]
  },
  {
   "cell_type": "code",
   "execution_count": 17,
   "metadata": {
    "id": "cjgfurjdfiXb"
   },
   "outputs": [],
   "source": [
    "# En el argumento x llegan los parmaetros de la bayesiana\n",
    "#  devuelve la AUC en cross validation del modelo entrenado\n",
    "\n",
    "EstimarGanancia_AUC_lightgbm <- function(x) {\n",
    "\n",
    "  # x pisa (o agrega) a param_fijos\n",
    "  param_completo <- modifyList(PARAM$lgbm$param_fijos, x)\n",
    "\n",
    "  # entreno LightGBM\n",
    "  modelocv <- lgb.cv(\n",
    "    data= dtrain,\n",
    "    nfold= PARAM$hyperparametertuning$xval_folds,\n",
    "    stratified= TRUE,\n",
    "    param= param_completo\n",
    "  )\n",
    "\n",
    "  # obtengo la ganancia\n",
    "  AUC <- modelocv$best_score\n",
    "\n",
    "  # hago espacio en la memoria\n",
    "  rm(modelocv)\n",
    "  gc(full= TRUE, verbose= FALSE)\n",
    "\n",
    "  message(format(Sys.time(), \"%a %b %d %X %Y\"), \" AUC \", AUC)\n",
    "\n",
    "  return(AUC)\n",
    "}"
   ]
  },
  {
   "cell_type": "code",
   "execution_count": 18,
   "metadata": {
    "id": "WLi_o1hocvN-"
   },
   "outputs": [],
   "source": [
    "# Aqui comienza la configuracion de la Bayesian Optimization\n",
    "\n",
    "# en este archivo quedan la evolucion binaria de la BO\n",
    "kbayesiana <- \"bayesiana.RDATA\"\n",
    "\n",
    "funcion_optimizar <- EstimarGanancia_AUC_lightgbm # la funcion que voy a maximizar\n",
    "\n",
    "configureMlr(show.learner.output= FALSE)\n",
    "\n",
    "# configuro la busqueda bayesiana,  los hiperparametros que se van a optimizar\n",
    "# por favor, no desesperarse por lo complejo\n",
    "\n",
    "obj.fun <- makeSingleObjectiveFunction(\n",
    "  fn= funcion_optimizar, # la funcion que voy a maximizar\n",
    "  minimize= FALSE, # estoy Maximizando la ganancia\n",
    "  noisy= TRUE,\n",
    "  par.set= PARAM$hypeparametertuning$hs, # definido al comienzo del programa\n",
    "  has.simple.signature= FALSE # paso los parametros en una lista\n",
    ")\n",
    "\n",
    "# cada 600 segundos guardo el resultado intermedio\n",
    "ctrl <- makeMBOControl(\n",
    "  save.on.disk.at.time= 600, # se graba cada 600 segundos\n",
    "  save.file.path= kbayesiana\n",
    ") # se graba cada 600 segundos\n",
    "\n",
    "# indico la cantidad de iteraciones que va a tener la Bayesian Optimization\n",
    "ctrl <- setMBOControlTermination(\n",
    "  ctrl,\n",
    "  iters= PARAM$hyperparametertuning$iteraciones\n",
    ") # cantidad de iteraciones\n",
    "\n",
    "# defino el método estandar para la creacion de los puntos iniciales,\n",
    "# los \"No Inteligentes\"\n",
    "ctrl <- setMBOControlInfill(ctrl, crit= makeMBOInfillCritEI())\n",
    "\n",
    "# establezco la funcion que busca el maximo\n",
    "surr.km <- makeLearner(\n",
    "  \"regr.km\",\n",
    "  predict.type= \"se\",\n",
    "  covtype= \"matern3_2\",\n",
    "  control= list(trace= TRUE)\n",
    ")\n"
   ]
  },
  {
   "cell_type": "markdown",
   "metadata": {
    "id": "_uUeVo5pc4zc"
   },
   "source": [
    "2.2.6 Corrida Bayesian Optimization"
   ]
  },
  {
   "cell_type": "code",
   "execution_count": 19,
   "metadata": {
    "id": "RcABNaKGciaz"
   },
   "outputs": [
    {
     "name": "stderr",
     "output_type": "stream",
     "text": [
      "Computing y column(s) for design. Not provided.\n",
      "\n",
      "Tue Jul 22 22:11:10 2025 AUC 0.931023305281039\n",
      "\n",
      "Tue Jul 22 22:11:49 2025 AUC 0.930346739482351\n",
      "\n",
      "Tue Jul 22 22:12:22 2025 AUC 0.930415048550631\n",
      "\n",
      "Tue Jul 22 22:13:03 2025 AUC 0.930384732054558\n",
      "\n",
      "Tue Jul 22 22:13:44 2025 AUC 0.930339203125431\n",
      "\n",
      "Tue Jul 22 22:14:27 2025 AUC 0.930208983188519\n",
      "\n",
      "Tue Jul 22 22:15:08 2025 AUC 0.931364241027118\n",
      "\n",
      "Tue Jul 22 22:15:52 2025 AUC 0.930950309007585\n",
      "\n",
      "Tue Jul 22 22:16:34 2025 AUC 0.931110903028668\n",
      "\n",
      "Tue Jul 22 22:17:15 2025 AUC 0.930875752697511\n",
      "\n",
      "Tue Jul 22 22:17:58 2025 AUC 0.930202242147112\n",
      "\n",
      "Tue Jul 22 22:18:35 2025 AUC 0.931374617913932\n",
      "\n",
      "Tue Jul 22 22:19:20 2025 AUC 0.93085107910109\n",
      "\n",
      "Tue Jul 22 22:20:00 2025 AUC 0.930092671026318\n",
      "\n",
      "Tue Jul 22 22:20:38 2025 AUC 0.931221037398146\n",
      "\n",
      "Tue Jul 22 22:21:17 2025 AUC 0.930044039149913\n",
      "\n",
      "Tue Jul 22 22:21:55 2025 AUC 0.930254180260113\n",
      "\n",
      "Tue Jul 22 22:22:40 2025 AUC 0.931926773819148\n",
      "\n",
      "Tue Jul 22 22:23:21 2025 AUC 0.930547706754568\n",
      "\n",
      "Tue Jul 22 22:23:58 2025 AUC 0.930518875581228\n",
      "\n",
      "Tue Jul 22 22:24:40 2025 AUC 0.93109502318493\n",
      "\n",
      "Tue Jul 22 22:25:22 2025 AUC 0.930025167186967\n",
      "\n",
      "Tue Jul 22 22:26:03 2025 AUC 0.930619478819708\n",
      "\n",
      "Tue Jul 22 22:26:41 2025 AUC 0.930635423068866\n",
      "\n",
      "Tue Jul 22 22:27:21 2025 AUC 0.930828028287\n",
      "\n",
      "Tue Jul 22 22:28:02 2025 AUC 0.930422530705175\n",
      "\n",
      "Tue Jul 22 22:28:45 2025 AUC 0.930538403267714\n",
      "\n",
      "Tue Jul 22 22:29:26 2025 AUC 0.930127540940236\n",
      "\n",
      "Tue Jul 22 22:30:06 2025 AUC 0.930918949201746\n",
      "\n",
      "Tue Jul 22 22:30:37 2025 AUC 0.930651763460077\n",
      "\n",
      "Tue Jul 22 22:31:13 2025 AUC 0.93100085936407\n",
      "\n",
      "Tue Jul 22 22:31:58 2025 AUC 0.930791870269811\n",
      "\n",
      "Tue Jul 22 22:32:43 2025 AUC 0.931087533571118\n",
      "\n",
      "Tue Jul 22 22:33:12 2025 AUC 0.929402629550717\n",
      "\n",
      "Tue Jul 22 22:33:46 2025 AUC 0.929757861636553\n",
      "\n",
      "Tue Jul 22 22:34:24 2025 AUC 0.93159697280722\n",
      "\n",
      "Tue Jul 22 22:35:05 2025 AUC 0.930325227396225\n",
      "\n",
      "Tue Jul 22 22:35:52 2025 AUC 0.930830282498712\n",
      "\n",
      "Tue Jul 22 22:36:34 2025 AUC 0.930034260155703\n",
      "\n",
      "Tue Jul 22 22:37:14 2025 AUC 0.93088843897259\n",
      "\n",
      "[mbo] 0: num_iterations=1027; learning_rate=0.0184; feature_fraction=0.426; min_data_in_leaf=254; num_leaves=194; max_depth=11; lambda_l1=4.44; lambda_l2=3.54; min_gain_to_split=0.136; bagging_fraction=0.868 : y = 0.931 : 42.5 secs : initdesign\n",
      "\n",
      "[mbo] 0: num_iterations=973; learning_rate=0.0169; feature_fraction=0.604; min_data_in_leaf=365; num_leaves=196; max_depth=11; lambda_l1=4.26; lambda_l2=3.45; min_gain_to_split=0.136; bagging_fraction=0.863 : y = 0.93 : 38.2 secs : initdesign\n",
      "\n",
      "[mbo] 0: num_iterations=980; learning_rate=0.0173; feature_fraction=0.662; min_data_in_leaf=306; num_leaves=187; max_depth=10; lambda_l1=4.42; lambda_l2=3.57; min_gain_to_split=0.142; bagging_fraction=0.86 : y = 0.93 : 33.2 secs : initdesign\n",
      "\n",
      "[mbo] 0: num_iterations=976; learning_rate=0.0174; feature_fraction=0.46; min_data_in_leaf=326; num_leaves=183; max_depth=9; lambda_l1=4.17; lambda_l2=3.53; min_gain_to_split=0.0991; bagging_fraction=0.886 : y = 0.93 : 41.5 secs : initdesign\n",
      "\n",
      "[mbo] 0: num_iterations=994; learning_rate=0.0188; feature_fraction=0.471; min_data_in_leaf=343; num_leaves=201; max_depth=10; lambda_l1=4.28; lambda_l2=3.54; min_gain_to_split=0.14; bagging_fraction=0.843 : y = 0.93 : 40.7 secs : initdesign\n",
      "\n",
      "[mbo] 0: num_iterations=1021; learning_rate=0.0176; feature_fraction=0.522; min_data_in_leaf=336; num_leaves=189; max_depth=10; lambda_l1=4.09; lambda_l2=3.64; min_gain_to_split=0.125; bagging_fraction=0.83 : y = 0.93 : 43.3 secs : initdesign\n",
      "\n",
      "[mbo] 0: num_iterations=952; learning_rate=0.0156; feature_fraction=0.57; min_data_in_leaf=270; num_leaves=190; max_depth=9; lambda_l1=4.3; lambda_l2=3.51; min_gain_to_split=0.116; bagging_fraction=0.878 : y = 0.931 : 40.7 secs : initdesign\n",
      "\n",
      "[mbo] 0: num_iterations=962; learning_rate=0.0152; feature_fraction=0.485; min_data_in_leaf=332; num_leaves=206; max_depth=10; lambda_l1=4.23; lambda_l2=3.48; min_gain_to_split=0.113; bagging_fraction=0.857 : y = 0.931 : 43.6 secs : initdesign\n",
      "\n",
      "[mbo] 0: num_iterations=936; learning_rate=0.0178; feature_fraction=0.551; min_data_in_leaf=279; num_leaves=195; max_depth=11; lambda_l1=4.26; lambda_l2=3.42; min_gain_to_split=0.106; bagging_fraction=0.866 : y = 0.931 : 42.2 secs : initdesign\n",
      "\n",
      "[mbo] 0: num_iterations=1018; learning_rate=0.0192; feature_fraction=0.518; min_data_in_leaf=313; num_leaves=197; max_depth=10; lambda_l1=4.32; lambda_l2=3.61; min_gain_to_split=0.109; bagging_fraction=0.888 : y = 0.931 : 40.7 secs : initdesign\n",
      "\n",
      "[mbo] 0: num_iterations=1053; learning_rate=0.0171; feature_fraction=0.505; min_data_in_leaf=391; num_leaves=193; max_depth=9; lambda_l1=4.44; lambda_l2=3.4; min_gain_to_split=0.103; bagging_fraction=0.891 : y = 0.93 : 43.8 secs : initdesign\n",
      "\n",
      "[mbo] 0: num_iterations=900; learning_rate=0.0162; feature_fraction=0.593; min_data_in_leaf=376; num_leaves=188; max_depth=9; lambda_l1=4.18; lambda_l2=3.61; min_gain_to_split=0.121; bagging_fraction=0.897 : y = 0.931 : 36.6 secs : initdesign\n",
      "\n",
      "[mbo] 0: num_iterations=1078; learning_rate=0.0181; feature_fraction=0.546; min_data_in_leaf=339; num_leaves=200; max_depth=11; lambda_l1=4.19; lambda_l2=3.43; min_gain_to_split=0.11; bagging_fraction=0.876 : y = 0.931 : 45.0 secs : initdesign\n",
      "\n",
      "[mbo] 0: num_iterations=1059; learning_rate=0.0154; feature_fraction=0.698; min_data_in_leaf=299; num_leaves=210; max_depth=11; lambda_l1=4.25; lambda_l2=3.53; min_gain_to_split=0.119; bagging_fraction=0.84 : y = 0.93 : 39.8 secs : initdesign\n",
      "\n",
      "[mbo] 0: num_iterations=946; learning_rate=0.019; feature_fraction=0.632; min_data_in_leaf=380; num_leaves=204; max_depth=10; lambda_l1=4.04; lambda_l2=3.59; min_gain_to_split=0.0886; bagging_fraction=0.872 : y = 0.931 : 37.9 secs : initdesign\n",
      "\n",
      "[mbo] 0: num_iterations=989; learning_rate=0.0177; feature_fraction=0.624; min_data_in_leaf=261; num_leaves=202; max_depth=10; lambda_l1=4.33; lambda_l2=3.49; min_gain_to_split=0.0841; bagging_fraction=0.872 : y = 0.93 : 39.1 secs : initdesign\n",
      "\n",
      "[mbo] 0: num_iterations=934; learning_rate=0.0187; feature_fraction=0.587; min_data_in_leaf=266; num_leaves=186; max_depth=10; lambda_l1=4.09; lambda_l2=3.56; min_gain_to_split=0.123; bagging_fraction=0.85 : y = 0.93 : 38.0 secs : initdesign\n",
      "\n",
      "[mbo] 0: num_iterations=1061; learning_rate=0.0168; feature_fraction=0.434; min_data_in_leaf=325; num_leaves=192; max_depth=10; lambda_l1=4.35; lambda_l2=3.68; min_gain_to_split=0.1; bagging_fraction=0.848 : y = 0.932 : 45.5 secs : initdesign\n",
      "\n",
      "[mbo] 0: num_iterations=1048; learning_rate=0.0185; feature_fraction=0.53; min_data_in_leaf=362; num_leaves=191; max_depth=11; lambda_l1=4.31; lambda_l2=3.69; min_gain_to_split=0.146; bagging_fraction=0.891 : y = 0.931 : 41.1 secs : initdesign\n",
      "\n",
      "[mbo] 0: num_iterations=925; learning_rate=0.0166; feature_fraction=0.612; min_data_in_leaf=351; num_leaves=184; max_depth=10; lambda_l1=4.41; lambda_l2=3.58; min_gain_to_split=0.127; bagging_fraction=0.833 : y = 0.931 : 36.4 secs : initdesign\n",
      "\n",
      "[mbo] 0: num_iterations=959; learning_rate=0.0191; feature_fraction=0.412; min_data_in_leaf=293; num_leaves=210; max_depth=11; lambda_l1=4.2; lambda_l2=3.44; min_gain_to_split=0.0922; bagging_fraction=0.869 : y = 0.931 : 42.3 secs : initdesign\n",
      "\n",
      "[mbo] 0: num_iterations=1014; learning_rate=0.0165; feature_fraction=0.404; min_data_in_leaf=320; num_leaves=203; max_depth=10; lambda_l1=4.06; lambda_l2=3.58; min_gain_to_split=0.131; bagging_fraction=0.882 : y = 0.93 : 41.9 secs : initdesign\n",
      "\n",
      "[mbo] 0: num_iterations=1034; learning_rate=0.0182; feature_fraction=0.448; min_data_in_leaf=291; num_leaves=196; max_depth=9; lambda_l1=4.4; lambda_l2=3.41; min_gain_to_split=0.128; bagging_fraction=0.854 : y = 0.931 : 40.8 secs : initdesign\n",
      "\n",
      "[mbo] 0: num_iterations=1037; learning_rate=0.0197; feature_fraction=0.58; min_data_in_leaf=352; num_leaves=181; max_depth=9; lambda_l1=4.22; lambda_l2=3.67; min_gain_to_split=0.105; bagging_fraction=0.846 : y = 0.931 : 38.0 secs : initdesign\n",
      "\n",
      "[mbo] 0: num_iterations=967; learning_rate=0.0171; feature_fraction=0.443; min_data_in_leaf=384; num_leaves=206; max_depth=9; lambda_l1=4.03; lambda_l2=3.66; min_gain_to_split=0.0858; bagging_fraction=0.856 : y = 0.931 : 40.4 secs : initdesign\n",
      "\n",
      "[mbo] 0: num_iterations=1073; learning_rate=0.0156; feature_fraction=0.637; min_data_in_leaf=283; num_leaves=188; max_depth=10; lambda_l1=4.45; lambda_l2=3.51; min_gain_to_split=0.117; bagging_fraction=0.875 : y = 0.93 : 40.5 secs : initdesign\n",
      "\n",
      "[mbo] 0: num_iterations=1004; learning_rate=0.0158; feature_fraction=0.655; min_data_in_leaf=315; num_leaves=199; max_depth=11; lambda_l1=4.11; lambda_l2=3.6; min_gain_to_split=0.0831; bagging_fraction=0.899 : y = 0.931 : 43.2 secs : initdesign\n",
      "\n",
      "[mbo] 0: num_iterations=918; learning_rate=0.0179; feature_fraction=0.538; min_data_in_leaf=373; num_leaves=198; max_depth=10; lambda_l1=4.48; lambda_l2=3.68; min_gain_to_split=0.0803; bagging_fraction=0.86 : y = 0.93 : 41.4 secs : initdesign\n",
      "\n",
      "[mbo] 0: num_iterations=923; learning_rate=0.0167; feature_fraction=0.602; min_data_in_leaf=358; num_leaves=209; max_depth=11; lambda_l1=4.06; lambda_l2=3.63; min_gain_to_split=0.13; bagging_fraction=0.835 : y = 0.931 : 40.1 secs : initdesign\n",
      "\n",
      "[mbo] 0: num_iterations=997; learning_rate=0.0198; feature_fraction=0.689; min_data_in_leaf=297; num_leaves=207; max_depth=9; lambda_l1=4.01; lambda_l2=3.46; min_gain_to_split=0.134; bagging_fraction=0.852 : y = 0.931 : 30.9 secs : initdesign\n",
      "\n",
      "[mbo] 0: num_iterations=1086; learning_rate=0.0195; feature_fraction=0.675; min_data_in_leaf=389; num_leaves=181; max_depth=11; lambda_l1=4.46; lambda_l2=3.5; min_gain_to_split=0.0948; bagging_fraction=0.88 : y = 0.931 : 35.4 secs : initdesign\n",
      "\n",
      "[mbo] 0: num_iterations=1098; learning_rate=0.0163; feature_fraction=0.563; min_data_in_leaf=398; num_leaves=205; max_depth=9; lambda_l1=4.36; lambda_l2=3.5; min_gain_to_split=0.0936; bagging_fraction=0.835 : y = 0.931 : 45.7 secs : initdesign\n",
      "\n",
      "[mbo] 0: num_iterations=1069; learning_rate=0.0199; feature_fraction=0.494; min_data_in_leaf=274; num_leaves=191; max_depth=11; lambda_l1=4.14; lambda_l2=3.47; min_gain_to_split=0.0963; bagging_fraction=0.838 : y = 0.931 : 44.6 secs : initdesign\n",
      "\n",
      "[mbo] 0: num_iterations=1092; learning_rate=0.0193; feature_fraction=0.681; min_data_in_leaf=307; num_leaves=200; max_depth=9; lambda_l1=4.5; lambda_l2=3.55; min_gain_to_split=0.144; bagging_fraction=0.862 : y = 0.929 : 28.7 secs : initdesign\n",
      "\n",
      "[mbo] 0: num_iterations=912; learning_rate=0.0161; feature_fraction=0.665; min_data_in_leaf=287; num_leaves=180; max_depth=10; lambda_l1=4.12; lambda_l2=3.65; min_gain_to_split=0.139; bagging_fraction=0.895 : y = 0.93 : 34.3 secs : initdesign\n",
      "\n",
      "[mbo] 0: num_iterations=909; learning_rate=0.0195; feature_fraction=0.462; min_data_in_leaf=251; num_leaves=183; max_depth=9; lambda_l1=4.38; lambda_l2=3.65; min_gain_to_split=0.102; bagging_fraction=0.883 : y = 0.932 : 37.6 secs : initdesign\n",
      "\n",
      "[mbo] 0: num_iterations=1006; learning_rate=0.0159; feature_fraction=0.416; min_data_in_leaf=394; num_leaves=185; max_depth=11; lambda_l1=4.34; lambda_l2=3.47; min_gain_to_split=0.147; bagging_fraction=0.844 : y = 0.93 : 41.8 secs : initdesign\n",
      "\n",
      "[mbo] 0: num_iterations=1043; learning_rate=0.0153; feature_fraction=0.478; min_data_in_leaf=259; num_leaves=185; max_depth=9; lambda_l1=4.13; lambda_l2=3.62; min_gain_to_split=0.0894; bagging_fraction=0.842 : y = 0.931 : 47.1 secs : initdesign\n",
      "\n",
      "[mbo] 0: num_iterations=1081; learning_rate=0.0151; feature_fraction=0.642; min_data_in_leaf=346; num_leaves=207; max_depth=11; lambda_l1=4.02; lambda_l2=3.7; min_gain_to_split=0.149; bagging_fraction=0.885 : y = 0.93 : 41.2 secs : initdesign\n",
      "\n",
      "[mbo] 0: num_iterations=943; learning_rate=0.0186; feature_fraction=0.504; min_data_in_leaf=367; num_leaves=202; max_depth=9; lambda_l1=4.16; lambda_l2=3.43; min_gain_to_split=0.114; bagging_fraction=0.894 : y = 0.931 : 40.7 secs : initdesign\n",
      "\n",
      "Saved the current state after iteration 1 in the file bayesiana.RDATA.\n",
      "\n",
      "Tue Jul 22 22:38:08 2025 AUC 0.931247045751069\n",
      "\n",
      "[mbo] 1: num_iterations=1066; learning_rate=0.0154; feature_fraction=0.406; min_data_in_leaf=333; num_leaves=198; max_depth=10; lambda_l1=4.31; lambda_l2=3.64; min_gain_to_split=0.1; bagging_fraction=0.834 : y = 0.931 : 46.6 secs : infill_ei\n",
      "\n",
      "Tue Jul 22 22:38:54 2025 AUC 0.932091934561862\n",
      "\n",
      "[mbo] 2: num_iterations=1054; learning_rate=0.0172; feature_fraction=0.446; min_data_in_leaf=356; num_leaves=198; max_depth=10; lambda_l1=4.35; lambda_l2=3.59; min_gain_to_split=0.101; bagging_fraction=0.85 : y = 0.932 : 45.2 secs : infill_ei\n",
      "\n",
      "Tue Jul 22 22:39:37 2025 AUC 0.930984077862056\n",
      "\n",
      "[mbo] 3: num_iterations=1052; learning_rate=0.0184; feature_fraction=0.404; min_data_in_leaf=354; num_leaves=194; max_depth=10; lambda_l1=4.35; lambda_l2=3.61; min_gain_to_split=0.1; bagging_fraction=0.853 : y = 0.931 : 42.6 secs : infill_ei\n",
      "\n",
      "Tue Jul 22 22:40:23 2025 AUC 0.931157745470014\n",
      "\n",
      "[mbo] 4: num_iterations=1057; learning_rate=0.0169; feature_fraction=0.484; min_data_in_leaf=369; num_leaves=202; max_depth=10; lambda_l1=4.37; lambda_l2=3.54; min_gain_to_split=0.102; bagging_fraction=0.843 : y = 0.931 : 44.6 secs : infill_ei\n",
      "\n",
      "Tue Jul 22 22:41:08 2025 AUC 0.930346322661024\n",
      "\n",
      "[mbo] 5: num_iterations=1003; learning_rate=0.0157; feature_fraction=0.448; min_data_in_leaf=319; num_leaves=196; max_depth=10; lambda_l1=4.35; lambda_l2=3.58; min_gain_to_split=0.101; bagging_fraction=0.832 : y = 0.93 : 44.5 secs : infill_ei\n",
      "\n",
      "Tue Jul 22 22:41:52 2025 AUC 0.931336428405467\n",
      "\n",
      "[mbo] 6: num_iterations=994; learning_rate=0.0174; feature_fraction=0.445; min_data_in_leaf=330; num_leaves=198; max_depth=10; lambda_l1=4.34; lambda_l2=3.61; min_gain_to_split=0.101; bagging_fraction=0.849 : y = 0.931 : 43.1 secs : infill_ei\n",
      "\n",
      "Tue Jul 22 22:42:37 2025 AUC 0.930651600862937\n",
      "\n",
      "[mbo] 7: num_iterations=1085; learning_rate=0.017; feature_fraction=0.443; min_data_in_leaf=374; num_leaves=193; max_depth=10; lambda_l1=4.36; lambda_l2=3.62; min_gain_to_split=0.101; bagging_fraction=0.85 : y = 0.931 : 45.0 secs : infill_ei\n",
      "\n",
      "Tue Jul 22 22:43:23 2025 AUC 0.931032285488515\n",
      "\n",
      "[mbo] 8: num_iterations=1056; learning_rate=0.0169; feature_fraction=0.44; min_data_in_leaf=293; num_leaves=196; max_depth=10; lambda_l1=4.33; lambda_l2=3.63; min_gain_to_split=0.101; bagging_fraction=0.849 : y = 0.931 : 44.5 secs : infill_ei\n",
      "\n",
      "Tue Jul 22 22:44:10 2025 AUC 0.930783578669586\n",
      "\n",
      "[mbo] 9: num_iterations=1058; learning_rate=0.0155; feature_fraction=0.462; min_data_in_leaf=349; num_leaves=198; max_depth=10; lambda_l1=4.32; lambda_l2=3.59; min_gain_to_split=0.102; bagging_fraction=0.851 : y = 0.931 : 46.5 secs : infill_ei\n",
      "\n",
      "Tue Jul 22 22:44:55 2025 AUC 0.931600821226718\n",
      "\n",
      "[mbo] 10: num_iterations=1056; learning_rate=0.0183; feature_fraction=0.453; min_data_in_leaf=356; num_leaves=200; max_depth=10; lambda_l1=4.16; lambda_l2=3.61; min_gain_to_split=0.0969; bagging_fraction=0.839 : y = 0.932 : 44.3 secs : infill_ei\n",
      "\n",
      "Tue Jul 22 22:45:40 2025 AUC 0.931540786125759\n",
      "\n",
      "[mbo] 11: num_iterations=1084; learning_rate=0.0177; feature_fraction=0.493; min_data_in_leaf=356; num_leaves=191; max_depth=10; lambda_l1=4.37; lambda_l2=3.58; min_gain_to_split=0.121; bagging_fraction=0.873 : y = 0.932 : 44.2 secs : infill_ei\n",
      "\n",
      "Tue Jul 22 22:46:25 2025 AUC 0.929843149824099\n",
      "\n",
      "[mbo] 12: num_iterations=1038; learning_rate=0.0168; feature_fraction=0.532; min_data_in_leaf=356; num_leaves=200; max_depth=10; lambda_l1=4.29; lambda_l2=3.58; min_gain_to_split=0.104; bagging_fraction=0.848 : y = 0.93 : 44.2 secs : infill_ei\n",
      "\n",
      "Tue Jul 22 22:47:10 2025 AUC 0.930496968912969\n",
      "\n",
      "[mbo] 13: num_iterations=1055; learning_rate=0.0182; feature_fraction=0.465; min_data_in_leaf=280; num_leaves=201; max_depth=10; lambda_l1=4.26; lambda_l2=3.63; min_gain_to_split=0.101; bagging_fraction=0.843 : y = 0.93 : 44.0 secs : infill_ei\n",
      "\n",
      "Tue Jul 22 22:47:56 2025 AUC 0.930264996743841\n",
      "\n",
      "[mbo] 14: num_iterations=1056; learning_rate=0.0173; feature_fraction=0.443; min_data_in_leaf=346; num_leaves=197; max_depth=10; lambda_l1=4.3; lambda_l2=3.6; min_gain_to_split=0.0951; bagging_fraction=0.844 : y = 0.93 : 45.5 secs : infill_ei\n",
      "\n",
      "Saved the current state after iteration 15 in the file bayesiana.RDATA.\n",
      "\n",
      "Tue Jul 22 22:48:46 2025 AUC 0.930425275147134\n",
      "\n",
      "[mbo] 15: num_iterations=1041; learning_rate=0.0161; feature_fraction=0.419; min_data_in_leaf=250; num_leaves=191; max_depth=9; lambda_l1=4.25; lambda_l2=3.41; min_gain_to_split=0.105; bagging_fraction=0.887 : y = 0.93 : 44.0 secs : infill_ei\n",
      "\n",
      "Tue Jul 22 22:49:29 2025 AUC 0.931251869019763\n",
      "\n",
      "[mbo] 16: num_iterations=1048; learning_rate=0.0162; feature_fraction=0.422; min_data_in_leaf=305; num_leaves=188; max_depth=11; lambda_l1=4.29; lambda_l2=3.64; min_gain_to_split=0.142; bagging_fraction=0.866 : y = 0.931 : 42.5 secs : infill_ei\n",
      "\n",
      "Tue Jul 22 22:50:14 2025 AUC 0.930024331159104\n",
      "\n",
      "[mbo] 17: num_iterations=1078; learning_rate=0.0172; feature_fraction=0.447; min_data_in_leaf=364; num_leaves=198; max_depth=10; lambda_l1=4.43; lambda_l2=3.55; min_gain_to_split=0.107; bagging_fraction=0.857 : y = 0.93 : 44.1 secs : infill_ei\n",
      "\n",
      "Tue Jul 22 22:50:45 2025 AUC 0.929480316912809\n",
      "\n",
      "[mbo] 18: num_iterations=905; learning_rate=0.0195; feature_fraction=0.676; min_data_in_leaf=313; num_leaves=191; max_depth=9; lambda_l1=4.31; lambda_l2=3.41; min_gain_to_split=0.111; bagging_fraction=0.89 : y = 0.929 : 30.3 secs : infill_ei\n",
      "\n",
      "Tue Jul 22 22:51:24 2025 AUC 0.931588937528504\n",
      "\n",
      "[mbo] 19: num_iterations=918; learning_rate=0.0192; feature_fraction=0.454; min_data_in_leaf=356; num_leaves=192; max_depth=9; lambda_l1=4.14; lambda_l2=3.53; min_gain_to_split=0.0885; bagging_fraction=0.879 : y = 0.932 : 38.6 secs : infill_ei\n",
      "\n",
      "Tue Jul 22 22:52:03 2025 AUC 0.9303642356446\n",
      "\n",
      "[mbo] 20: num_iterations=949; learning_rate=0.0193; feature_fraction=0.564; min_data_in_leaf=263; num_leaves=192; max_depth=10; lambda_l1=4.49; lambda_l2=3.63; min_gain_to_split=0.106; bagging_fraction=0.871 : y = 0.93 : 38.6 secs : infill_ei\n",
      "\n",
      "Tue Jul 22 22:52:51 2025 AUC 0.930737354145093\n",
      "\n",
      "[mbo] 21: num_iterations=1062; learning_rate=0.016; feature_fraction=0.445; min_data_in_leaf=356; num_leaves=195; max_depth=10; lambda_l1=4.38; lambda_l2=3.54; min_gain_to_split=0.0965; bagging_fraction=0.875 : y = 0.931 : 46.2 secs : infill_ei\n",
      "\n",
      "Tue Jul 22 22:53:28 2025 AUC 0.930337120220213\n",
      "\n",
      "[mbo] 22: num_iterations=964; learning_rate=0.0172; feature_fraction=0.603; min_data_in_leaf=288; num_leaves=199; max_depth=10; lambda_l1=4.25; lambda_l2=3.66; min_gain_to_split=0.132; bagging_fraction=0.848 : y = 0.93 : 36.2 secs : infill_ei\n",
      "\n",
      "Tue Jul 22 22:54:14 2025 AUC 0.930431481751331\n",
      "\n",
      "[mbo] 23: num_iterations=987; learning_rate=0.0151; feature_fraction=0.548; min_data_in_leaf=314; num_leaves=209; max_depth=11; lambda_l1=4.2; lambda_l2=3.66; min_gain_to_split=0.14; bagging_fraction=0.884 : y = 0.93 : 45.3 secs : infill_ei\n",
      "\n",
      "Tue Jul 22 22:54:58 2025 AUC 0.930890386143278\n",
      "\n",
      "[mbo] 24: num_iterations=1071; learning_rate=0.0189; feature_fraction=0.461; min_data_in_leaf=302; num_leaves=187; max_depth=9; lambda_l1=4.39; lambda_l2=3.58; min_gain_to_split=0.0849; bagging_fraction=0.85 : y = 0.931 : 43.4 secs : infill_ei\n",
      "\n",
      "Tue Jul 22 22:55:41 2025 AUC 0.930302027794482\n",
      "\n",
      "[mbo] 25: num_iterations=1004; learning_rate=0.0178; feature_fraction=0.554; min_data_in_leaf=363; num_leaves=197; max_depth=10; lambda_l1=4.46; lambda_l2=3.67; min_gain_to_split=0.104; bagging_fraction=0.863 : y = 0.93 : 42.6 secs : infill_ei\n",
      "\n",
      "Tue Jul 22 22:56:20 2025 AUC 0.930378521280734\n",
      "\n",
      "[mbo] 26: num_iterations=916; learning_rate=0.0193; feature_fraction=0.456; min_data_in_leaf=315; num_leaves=195; max_depth=10; lambda_l1=4.14; lambda_l2=3.56; min_gain_to_split=0.124; bagging_fraction=0.892 : y = 0.93 : 38.1 secs : infill_ei\n",
      "\n",
      "Tue Jul 22 22:57:02 2025 AUC 0.930889274326346\n",
      "\n",
      "[mbo] 27: num_iterations=1073; learning_rate=0.0169; feature_fraction=0.483; min_data_in_leaf=306; num_leaves=196; max_depth=9; lambda_l1=4.26; lambda_l2=3.66; min_gain_to_split=0.146; bagging_fraction=0.834 : y = 0.931 : 41.6 secs : infill_ei\n",
      "\n",
      "Tue Jul 22 22:57:48 2025 AUC 0.930630489847481\n",
      "\n",
      "[mbo] 28: num_iterations=1057; learning_rate=0.017; feature_fraction=0.466; min_data_in_leaf=385; num_leaves=197; max_depth=10; lambda_l1=4.35; lambda_l2=3.5; min_gain_to_split=0.0934; bagging_fraction=0.848 : y = 0.931 : 45.4 secs : infill_ei\n",
      "\n",
      "Tue Jul 22 22:58:25 2025 AUC 0.930513799896222\n",
      "\n",
      "[mbo] 29: num_iterations=1088; learning_rate=0.0167; feature_fraction=0.643; min_data_in_leaf=291; num_leaves=191; max_depth=10; lambda_l1=4.38; lambda_l2=3.47; min_gain_to_split=0.116; bagging_fraction=0.883 : y = 0.931 : 35.9 secs : infill_ei\n",
      "\n",
      "Saved the current state after iteration 30 in the file bayesiana.RDATA.\n",
      "\n",
      "Tue Jul 22 22:59:11 2025 AUC 0.931282598327194\n",
      "\n",
      "[mbo] 30: num_iterations=981; learning_rate=0.0191; feature_fraction=0.475; min_data_in_leaf=274; num_leaves=193; max_depth=9; lambda_l1=4.47; lambda_l2=3.57; min_gain_to_split=0.145; bagging_fraction=0.868 : y = 0.931 : 38.1 secs : infill_ei\n",
      "\n",
      "Tue Jul 22 22:59:56 2025 AUC 0.930858876200355\n",
      "\n",
      "[mbo] 31: num_iterations=1061; learning_rate=0.0155; feature_fraction=0.435; min_data_in_leaf=325; num_leaves=190; max_depth=10; lambda_l1=4.31; lambda_l2=3.46; min_gain_to_split=0.147; bagging_fraction=0.868 : y = 0.931 : 43.5 secs : infill_ei\n",
      "\n",
      "Tue Jul 22 23:00:36 2025 AUC 0.929991276976025\n",
      "\n",
      "[mbo] 32: num_iterations=1021; learning_rate=0.0199; feature_fraction=0.603; min_data_in_leaf=349; num_leaves=186; max_depth=11; lambda_l1=4.19; lambda_l2=3.41; min_gain_to_split=0.105; bagging_fraction=0.869 : y = 0.93 : 39.2 secs : infill_ei\n",
      "\n",
      "Tue Jul 22 23:01:19 2025 AUC 0.930805028194941\n",
      "\n",
      "[mbo] 33: num_iterations=942; learning_rate=0.0151; feature_fraction=0.417; min_data_in_leaf=289; num_leaves=190; max_depth=11; lambda_l1=4.34; lambda_l2=3.51; min_gain_to_split=0.139; bagging_fraction=0.893 : y = 0.931 : 42.8 secs : infill_ei\n",
      "\n",
      "Tue Jul 22 23:01:54 2025 AUC 0.930659973793296\n",
      "\n",
      "[mbo] 34: num_iterations=1043; learning_rate=0.0193; feature_fraction=0.619; min_data_in_leaf=400; num_leaves=198; max_depth=11; lambda_l1=4.08; lambda_l2=3.61; min_gain_to_split=0.144; bagging_fraction=0.853 : y = 0.931 : 34.1 secs : infill_ei\n",
      "\n",
      "Tue Jul 22 23:02:35 2025 AUC 0.930723513388506\n",
      "\n",
      "[mbo] 35: num_iterations=932; learning_rate=0.0164; feature_fraction=0.434; min_data_in_leaf=302; num_leaves=199; max_depth=11; lambda_l1=4.48; lambda_l2=3.55; min_gain_to_split=0.134; bagging_fraction=0.84 : y = 0.931 : 40.7 secs : infill_ei\n",
      "\n",
      "Tue Jul 22 23:03:15 2025 AUC 0.930379532437312\n",
      "\n",
      "[mbo] 36: num_iterations=988; learning_rate=0.0174; feature_fraction=0.594; min_data_in_leaf=371; num_leaves=197; max_depth=11; lambda_l1=4.44; lambda_l2=3.42; min_gain_to_split=0.127; bagging_fraction=0.866 : y = 0.93 : 39.0 secs : infill_ei\n",
      "\n",
      "Tue Jul 22 23:04:00 2025 AUC 0.930891780901165\n",
      "\n",
      "[mbo] 37: num_iterations=1080; learning_rate=0.0158; feature_fraction=0.418; min_data_in_leaf=256; num_leaves=191; max_depth=9; lambda_l1=4.42; lambda_l2=3.54; min_gain_to_split=0.131; bagging_fraction=0.844 : y = 0.931 : 43.8 secs : infill_ei\n",
      "\n",
      "Tue Jul 22 23:04:43 2025 AUC 0.930230161966538\n",
      "\n",
      "[mbo] 38: num_iterations=958; learning_rate=0.0179; feature_fraction=0.562; min_data_in_leaf=356; num_leaves=205; max_depth=10; lambda_l1=4.26; lambda_l2=3.7; min_gain_to_split=0.0979; bagging_fraction=0.884 : y = 0.93 : 43.0 secs : infill_ei\n",
      "\n",
      "Tue Jul 22 23:05:27 2025 AUC 0.930238588085348\n",
      "\n",
      "[mbo] 39: num_iterations=1039; learning_rate=0.0196; feature_fraction=0.524; min_data_in_leaf=393; num_leaves=184; max_depth=10; lambda_l1=4.15; lambda_l2=3.57; min_gain_to_split=0.092; bagging_fraction=0.846 : y = 0.93 : 42.6 secs : infill_ei\n",
      "\n",
      "Tue Jul 22 23:06:13 2025 AUC 0.930519862294194\n",
      "\n",
      "[mbo] 40: num_iterations=1050; learning_rate=0.0172; feature_fraction=0.447; min_data_in_leaf=338; num_leaves=198; max_depth=10; lambda_l1=4.35; lambda_l2=3.63; min_gain_to_split=0.104; bagging_fraction=0.879 : y = 0.931 : 45.1 secs : infill_ei\n",
      "\n",
      "Tue Jul 22 23:06:44 2025 AUC 0.930335148955822\n",
      "\n",
      "[mbo] 41: num_iterations=957; learning_rate=0.0197; feature_fraction=0.65; min_data_in_leaf=275; num_leaves=200; max_depth=11; lambda_l1=4.48; lambda_l2=3.55; min_gain_to_split=0.144; bagging_fraction=0.849 : y = 0.93 : 29.8 secs : infill_ei\n",
      "\n",
      "Tue Jul 22 23:07:28 2025 AUC 0.930711564620715\n",
      "\n",
      "[mbo] 42: num_iterations=1005; learning_rate=0.0174; feature_fraction=0.486; min_data_in_leaf=356; num_leaves=197; max_depth=10; lambda_l1=4.35; lambda_l2=3.59; min_gain_to_split=0.0886; bagging_fraction=0.879 : y = 0.931 : 44.0 secs : infill_ei\n",
      "\n",
      "Tue Jul 22 23:08:09 2025 AUC 0.931611070484552\n",
      "\n",
      "[mbo] 43: num_iterations=954; learning_rate=0.0191; feature_fraction=0.511; min_data_in_leaf=339; num_leaves=192; max_depth=10; lambda_l1=4.11; lambda_l2=3.63; min_gain_to_split=0.124; bagging_fraction=0.848 : y = 0.932 : 40.0 secs : infill_ei\n",
      "\n",
      "Tue Jul 22 23:08:50 2025 AUC 0.93064399228459\n",
      "\n",
      "[mbo] 44: num_iterations=904; learning_rate=0.0177; feature_fraction=0.56; min_data_in_leaf=282; num_leaves=180; max_depth=11; lambda_l1=4.38; lambda_l2=3.5; min_gain_to_split=0.111; bagging_fraction=0.868 : y = 0.931 : 40.1 secs : infill_ei\n",
      "\n",
      "Saved the current state after iteration 45 in the file bayesiana.RDATA.\n",
      "\n",
      "Tue Jul 22 23:09:35 2025 AUC 0.930297752873718\n",
      "\n",
      "[mbo] 45: num_iterations=921; learning_rate=0.0195; feature_fraction=0.493; min_data_in_leaf=338; num_leaves=207; max_depth=11; lambda_l1=4.14; lambda_l2=3.44; min_gain_to_split=0.129; bagging_fraction=0.888 : y = 0.93 : 38.4 secs : infill_ei\n",
      "\n",
      "Tue Jul 22 23:10:17 2025 AUC 0.931606450459034\n",
      "\n",
      "[mbo] 46: num_iterations=909; learning_rate=0.0153; feature_fraction=0.521; min_data_in_leaf=315; num_leaves=198; max_depth=10; lambda_l1=4.14; lambda_l2=3.49; min_gain_to_split=0.147; bagging_fraction=0.892 : y = 0.932 : 41.8 secs : infill_ei\n",
      "\n",
      "Tue Jul 22 23:11:01 2025 AUC 0.930798294671668\n",
      "\n",
      "[mbo] 47: num_iterations=1084; learning_rate=0.019; feature_fraction=0.448; min_data_in_leaf=322; num_leaves=203; max_depth=11; lambda_l1=4.3; lambda_l2=3.51; min_gain_to_split=0.129; bagging_fraction=0.879 : y = 0.931 : 42.7 secs : infill_ei\n",
      "\n",
      "Tue Jul 22 23:11:43 2025 AUC 0.930463410410763\n",
      "\n",
      "[mbo] 48: num_iterations=999; learning_rate=0.0168; feature_fraction=0.584; min_data_in_leaf=261; num_leaves=192; max_depth=10; lambda_l1=4.33; lambda_l2=3.44; min_gain_to_split=0.0935; bagging_fraction=0.886 : y = 0.93 : 41.3 secs : infill_ei\n",
      "\n",
      "Tue Jul 22 23:12:31 2025 AUC 0.930420301806438\n",
      "\n",
      "[mbo] 49: num_iterations=1074; learning_rate=0.0172; feature_fraction=0.555; min_data_in_leaf=311; num_leaves=194; max_depth=11; lambda_l1=4.36; lambda_l2=3.44; min_gain_to_split=0.0805; bagging_fraction=0.871 : y = 0.93 : 47.7 secs : infill_ei\n",
      "\n",
      "Tue Jul 22 23:13:13 2025 AUC 0.929066820070492\n",
      "\n",
      "[mbo] 50: num_iterations=1056; learning_rate=0.0161; feature_fraction=0.68; min_data_in_leaf=310; num_leaves=185; max_depth=11; lambda_l1=4.37; lambda_l2=3.55; min_gain_to_split=0.0852; bagging_fraction=0.86 : y = 0.929 : 41.1 secs : infill_ei\n",
      "\n",
      "Saved the final state in the file bayesiana.RDATA\n",
      "\n"
     ]
    }
   ],
   "source": [
    "# inicio la optimizacion bayesiana, retomando si ya existe\n",
    "# es la celda mas lenta de todo el notebook\n",
    "\n",
    "if (!file.exists(kbayesiana)) {\n",
    "  bayesiana_salida <- mbo(obj.fun, learner= surr.km, control= ctrl)\n",
    "} else {\n",
    "  bayesiana_salida <- mboContinue(kbayesiana) # retomo en caso que ya exista\n",
    "}"
   ]
  },
  {
   "cell_type": "code",
   "execution_count": 20,
   "metadata": {
    "id": "ssk5nnMk6INK"
   },
   "outputs": [
    {
     "data": {
      "text/html": [
       "<style>\n",
       ".list-inline {list-style: none; margin:0; padding: 0}\n",
       ".list-inline>li {display: inline-block}\n",
       ".list-inline>li:not(:last-child)::after {content: \"\\00b7\"; padding: 0 .5ex}\n",
       "</style>\n",
       "<ol class=list-inline><li>'num_iterations'</li><li>'learning_rate'</li><li>'feature_fraction'</li><li>'min_data_in_leaf'</li><li>'num_leaves'</li><li>'max_depth'</li><li>'lambda_l1'</li><li>'lambda_l2'</li><li>'min_gain_to_split'</li><li>'bagging_fraction'</li><li>'y'</li><li>'dob'</li><li>'eol'</li><li>'error.message'</li><li>'exec.time'</li><li>'ei'</li><li>'error.model'</li><li>'train.time'</li><li>'prop.type'</li><li>'propose.time'</li><li>'se'</li><li>'mean'</li></ol>\n"
      ],
      "text/latex": [
       "\\begin{enumerate*}\n",
       "\\item 'num\\_iterations'\n",
       "\\item 'learning\\_rate'\n",
       "\\item 'feature\\_fraction'\n",
       "\\item 'min\\_data\\_in\\_leaf'\n",
       "\\item 'num\\_leaves'\n",
       "\\item 'max\\_depth'\n",
       "\\item 'lambda\\_l1'\n",
       "\\item 'lambda\\_l2'\n",
       "\\item 'min\\_gain\\_to\\_split'\n",
       "\\item 'bagging\\_fraction'\n",
       "\\item 'y'\n",
       "\\item 'dob'\n",
       "\\item 'eol'\n",
       "\\item 'error.message'\n",
       "\\item 'exec.time'\n",
       "\\item 'ei'\n",
       "\\item 'error.model'\n",
       "\\item 'train.time'\n",
       "\\item 'prop.type'\n",
       "\\item 'propose.time'\n",
       "\\item 'se'\n",
       "\\item 'mean'\n",
       "\\end{enumerate*}\n"
      ],
      "text/markdown": [
       "1. 'num_iterations'\n",
       "2. 'learning_rate'\n",
       "3. 'feature_fraction'\n",
       "4. 'min_data_in_leaf'\n",
       "5. 'num_leaves'\n",
       "6. 'max_depth'\n",
       "7. 'lambda_l1'\n",
       "8. 'lambda_l2'\n",
       "9. 'min_gain_to_split'\n",
       "10. 'bagging_fraction'\n",
       "11. 'y'\n",
       "12. 'dob'\n",
       "13. 'eol'\n",
       "14. 'error.message'\n",
       "15. 'exec.time'\n",
       "16. 'ei'\n",
       "17. 'error.model'\n",
       "18. 'train.time'\n",
       "19. 'prop.type'\n",
       "20. 'propose.time'\n",
       "21. 'se'\n",
       "22. 'mean'\n",
       "\n",
       "\n"
      ],
      "text/plain": [
       " [1] \"num_iterations\"    \"learning_rate\"     \"feature_fraction\" \n",
       " [4] \"min_data_in_leaf\"  \"num_leaves\"        \"max_depth\"        \n",
       " [7] \"lambda_l1\"         \"lambda_l2\"         \"min_gain_to_split\"\n",
       "[10] \"bagging_fraction\"  \"y\"                 \"dob\"              \n",
       "[13] \"eol\"               \"error.message\"     \"exec.time\"        \n",
       "[16] \"ei\"                \"error.model\"       \"train.time\"       \n",
       "[19] \"prop.type\"         \"propose.time\"      \"se\"               \n",
       "[22] \"mean\"             "
      ]
     },
     "metadata": {},
     "output_type": "display_data"
    }
   ],
   "source": [
    "\n",
    "tb_bayesiana <- as.data.table(bayesiana_salida$opt.path)\n",
    "colnames( tb_bayesiana)"
   ]
  },
  {
   "cell_type": "code",
   "execution_count": 22,
   "metadata": {
    "id": "u4zq-vknhjGc"
   },
   "outputs": [],
   "source": [
    "# almaceno los resultados de la Bayesian Optimization\n",
    "# y capturo los mejores hiperparametros encontrados\n",
    "\n",
    "tb_bayesiana <- as.data.table(bayesiana_salida$opt.path)\n",
    "\n",
    "tb_bayesiana[, iter := .I]\n",
    "\n",
    "# ordeno en forma descendente por AUC = y\n",
    "setorder(tb_bayesiana, -y)\n",
    "\n",
    "# grabo para eventualmente poder utilizarlos en OTRA corrida\n",
    "fwrite( tb_bayesiana,\n",
    "  file= \"BO_log.txt\",\n",
    "  sep= \"\\t\"\n",
    ")\n",
    "\n",
    "# los mejores hiperparámetros son los que quedaron en el registro 1 de la tabla\n",
    "PARAM$out$lgbm$mejores_hiperparametros <- tb_bayesiana[\n",
    "  1, # el primero es el de mejor AUC\n",
    "  setdiff(colnames(tb_bayesiana),\n",
    "    c(\"y\",\"dob\",\"eol\",\"error.message\",\"exec.time\",\"ei\",\"error.model\",\n",
    "      \"train.time\",\"prop.type\",\"propose.time\",\"se\",\"mean\",\"iter\")),\n",
    "  with= FALSE\n",
    "]\n",
    "\n",
    "\n",
    "PARAM$out$lgbm$y <- tb_bayesiana[1, y]\n"
   ]
  },
  {
   "cell_type": "code",
   "execution_count": 23,
   "metadata": {
    "id": "E8v2eA427N8e"
   },
   "outputs": [],
   "source": [
    "write_yaml( PARAM, file=\"PARAM.yml\")"
   ]
  },
  {
   "cell_type": "code",
   "execution_count": 24,
   "metadata": {
    "id": "iBTWexVU7PGC"
   },
   "outputs": [
    {
     "name": "stdout",
     "output_type": "stream",
     "text": [
      "   num_iterations learning_rate feature_fraction min_data_in_leaf num_leaves\n",
      "            <int>         <num>            <num>            <int>      <int>\n",
      "1:           1054    0.01718918        0.4459226              356        198\n",
      "   max_depth lambda_l1 lambda_l2 min_gain_to_split bagging_fraction\n",
      "       <int>     <num>     <num>             <num>            <num>\n",
      "1:        10  4.349969   3.59128         0.1011521        0.8495607\n",
      "[1] 0.9320919\n"
     ]
    }
   ],
   "source": [
    "print(PARAM$out$lgbm$mejores_hiperparametros)\n",
    "print(PARAM$out$lgbm$y)"
   ]
  },
  {
   "cell_type": "markdown",
   "metadata": {
    "id": "TKsVZmAnhwX-"
   },
   "source": [
    "## 2.3  Produccion"
   ]
  },
  {
   "cell_type": "markdown",
   "metadata": {
    "id": "RQ_C33Tr5B_9"
   },
   "source": [
    "### Final Training\n",
    "Construyo el modelo final, que es uno solo, no hace ningun tipo de particion < training, validation, testing>]"
   ]
  },
  {
   "cell_type": "code",
   "execution_count": 25,
   "metadata": {
    "id": "eDqfyA14hzwv"
   },
   "outputs": [],
   "source": [
    "setwd(\"/content/buckets/b1/exp\")\n",
    "experimento <- paste0(\"exp\", PARAM$experimento)\n",
    "dir.create(experimento, showWarnings= FALSE)\n",
    "setwd( paste0(\"/content/buckets/b1/exp/\", experimento ))"
   ]
  },
  {
   "cell_type": "markdown",
   "metadata": {
    "id": "8qFmFivf5Iet"
   },
   "source": [
    "#### Final Training Dataset\n",
    "\n",
    "Aqui esta la gran decision de en qué meses hago el Final Training\n",
    "<br> debo utilizar los mejores hiperparámetros que encontré en la optimización bayesiana"
   ]
  },
  {
   "cell_type": "code",
   "execution_count": 26,
   "metadata": {
    "id": "lg5WVZncvc7H"
   },
   "outputs": [],
   "source": [
    "# clase01\n",
    "dataset[, clase01 := ifelse(clase_ternaria %in% c(\"BAJA+1\", \"BAJA+2\"), 1L, 0L)]"
   ]
  },
  {
   "cell_type": "code",
   "execution_count": 27,
   "metadata": {
    "id": "yc9QzXREv0xf"
   },
   "outputs": [],
   "source": [
    "dataset_train <- dataset[foto_mes %in% c(202107)]"
   ]
  },
  {
   "cell_type": "code",
   "execution_count": 28,
   "metadata": {
    "id": "thjdqEBLuvNt"
   },
   "outputs": [],
   "source": [
    "# dejo los datos en el formato que necesita LightGBM\n",
    "\n",
    "dtrain <- lgb.Dataset(\n",
    "  data= data.matrix(dataset_train[, campos_buenos, with= FALSE]),\n",
    "  label= dataset_train[, clase01]\n",
    ")"
   ]
  },
  {
   "cell_type": "markdown",
   "metadata": {
    "id": "VNUa-WSz5Oqu"
   },
   "source": [
    "#### Final Training Hyperparameters"
   ]
  },
  {
   "cell_type": "code",
   "execution_count": 29,
   "metadata": {
    "id": "FgCcvBfEwImu"
   },
   "outputs": [
    {
     "data": {
      "text/html": [
       "<dl>\n",
       "\t<dt>$boosting</dt>\n",
       "\t\t<dd>'gbdt'</dd>\n",
       "\t<dt>$objective</dt>\n",
       "\t\t<dd>'binary'</dd>\n",
       "\t<dt>$metric</dt>\n",
       "\t\t<dd>'auc'</dd>\n",
       "\t<dt>$first_metric_only</dt>\n",
       "\t\t<dd>FALSE</dd>\n",
       "\t<dt>$boost_from_average</dt>\n",
       "\t\t<dd>TRUE</dd>\n",
       "\t<dt>$feature_pre_filter</dt>\n",
       "\t\t<dd>FALSE</dd>\n",
       "\t<dt>$force_row_wise</dt>\n",
       "\t\t<dd>TRUE</dd>\n",
       "\t<dt>$verbosity</dt>\n",
       "\t\t<dd>-100</dd>\n",
       "\t<dt>$seed</dt>\n",
       "\t\t<dd>100129</dd>\n",
       "\t<dt>$max_depth</dt>\n",
       "\t\t<dd>10</dd>\n",
       "\t<dt>$min_gain_to_split</dt>\n",
       "\t\t<dd>0.101152137331665</dd>\n",
       "\t<dt>$min_sum_hessian_in_leaf</dt>\n",
       "\t\t<dd>0.001</dd>\n",
       "\t<dt>$lambda_l1</dt>\n",
       "\t\t<dd>4.34996856292014</dd>\n",
       "\t<dt>$lambda_l2</dt>\n",
       "\t\t<dd>3.59127953771277</dd>\n",
       "\t<dt>$max_bin</dt>\n",
       "\t\t<dd>31</dd>\n",
       "\t<dt>$bagging_fraction</dt>\n",
       "\t\t<dd>0.849560653388297</dd>\n",
       "\t<dt>$pos_bagging_fraction</dt>\n",
       "\t\t<dd>1</dd>\n",
       "\t<dt>$neg_bagging_fraction</dt>\n",
       "\t\t<dd>1</dd>\n",
       "\t<dt>$is_unbalance</dt>\n",
       "\t\t<dd>FALSE</dd>\n",
       "\t<dt>$scale_pos_weight</dt>\n",
       "\t\t<dd>1</dd>\n",
       "\t<dt>$drop_rate</dt>\n",
       "\t\t<dd>0.1</dd>\n",
       "\t<dt>$max_drop</dt>\n",
       "\t\t<dd>50</dd>\n",
       "\t<dt>$skip_drop</dt>\n",
       "\t\t<dd>0.5</dd>\n",
       "\t<dt>$extra_trees</dt>\n",
       "\t\t<dd>FALSE</dd>\n",
       "\t<dt>$num_iterations</dt>\n",
       "\t\t<dd>1054</dd>\n",
       "\t<dt>$learning_rate</dt>\n",
       "\t\t<dd>0.0171891775045433</dd>\n",
       "\t<dt>$feature_fraction</dt>\n",
       "\t\t<dd>0.445922604850618</dd>\n",
       "\t<dt>$num_leaves</dt>\n",
       "\t\t<dd>198</dd>\n",
       "\t<dt>$min_data_in_leaf</dt>\n",
       "\t\t<dd>356</dd>\n",
       "</dl>\n"
      ],
      "text/latex": [
       "\\begin{description}\n",
       "\\item[\\$boosting] 'gbdt'\n",
       "\\item[\\$objective] 'binary'\n",
       "\\item[\\$metric] 'auc'\n",
       "\\item[\\$first\\_metric\\_only] FALSE\n",
       "\\item[\\$boost\\_from\\_average] TRUE\n",
       "\\item[\\$feature\\_pre\\_filter] FALSE\n",
       "\\item[\\$force\\_row\\_wise] TRUE\n",
       "\\item[\\$verbosity] -100\n",
       "\\item[\\$seed] 100129\n",
       "\\item[\\$max\\_depth] 10\n",
       "\\item[\\$min\\_gain\\_to\\_split] 0.101152137331665\n",
       "\\item[\\$min\\_sum\\_hessian\\_in\\_leaf] 0.001\n",
       "\\item[\\$lambda\\_l1] 4.34996856292014\n",
       "\\item[\\$lambda\\_l2] 3.59127953771277\n",
       "\\item[\\$max\\_bin] 31\n",
       "\\item[\\$bagging\\_fraction] 0.849560653388297\n",
       "\\item[\\$pos\\_bagging\\_fraction] 1\n",
       "\\item[\\$neg\\_bagging\\_fraction] 1\n",
       "\\item[\\$is\\_unbalance] FALSE\n",
       "\\item[\\$scale\\_pos\\_weight] 1\n",
       "\\item[\\$drop\\_rate] 0.1\n",
       "\\item[\\$max\\_drop] 50\n",
       "\\item[\\$skip\\_drop] 0.5\n",
       "\\item[\\$extra\\_trees] FALSE\n",
       "\\item[\\$num\\_iterations] 1054\n",
       "\\item[\\$learning\\_rate] 0.0171891775045433\n",
       "\\item[\\$feature\\_fraction] 0.445922604850618\n",
       "\\item[\\$num\\_leaves] 198\n",
       "\\item[\\$min\\_data\\_in\\_leaf] 356\n",
       "\\end{description}\n"
      ],
      "text/markdown": [
       "$boosting\n",
       ":   'gbdt'\n",
       "$objective\n",
       ":   'binary'\n",
       "$metric\n",
       ":   'auc'\n",
       "$first_metric_only\n",
       ":   FALSE\n",
       "$boost_from_average\n",
       ":   TRUE\n",
       "$feature_pre_filter\n",
       ":   FALSE\n",
       "$force_row_wise\n",
       ":   TRUE\n",
       "$verbosity\n",
       ":   -100\n",
       "$seed\n",
       ":   100129\n",
       "$max_depth\n",
       ":   10\n",
       "$min_gain_to_split\n",
       ":   0.101152137331665\n",
       "$min_sum_hessian_in_leaf\n",
       ":   0.001\n",
       "$lambda_l1\n",
       ":   4.34996856292014\n",
       "$lambda_l2\n",
       ":   3.59127953771277\n",
       "$max_bin\n",
       ":   31\n",
       "$bagging_fraction\n",
       ":   0.849560653388297\n",
       "$pos_bagging_fraction\n",
       ":   1\n",
       "$neg_bagging_fraction\n",
       ":   1\n",
       "$is_unbalance\n",
       ":   FALSE\n",
       "$scale_pos_weight\n",
       ":   1\n",
       "$drop_rate\n",
       ":   0.1\n",
       "$max_drop\n",
       ":   50\n",
       "$skip_drop\n",
       ":   0.5\n",
       "$extra_trees\n",
       ":   FALSE\n",
       "$num_iterations\n",
       ":   1054\n",
       "$learning_rate\n",
       ":   0.0171891775045433\n",
       "$feature_fraction\n",
       ":   0.445922604850618\n",
       "$num_leaves\n",
       ":   198\n",
       "$min_data_in_leaf\n",
       ":   356\n",
       "\n",
       "\n"
      ],
      "text/plain": [
       "$boosting\n",
       "[1] \"gbdt\"\n",
       "\n",
       "$objective\n",
       "[1] \"binary\"\n",
       "\n",
       "$metric\n",
       "[1] \"auc\"\n",
       "\n",
       "$first_metric_only\n",
       "[1] FALSE\n",
       "\n",
       "$boost_from_average\n",
       "[1] TRUE\n",
       "\n",
       "$feature_pre_filter\n",
       "[1] FALSE\n",
       "\n",
       "$force_row_wise\n",
       "[1] TRUE\n",
       "\n",
       "$verbosity\n",
       "[1] -100\n",
       "\n",
       "$seed\n",
       "[1] 100129\n",
       "\n",
       "$max_depth\n",
       "[1] 10\n",
       "\n",
       "$min_gain_to_split\n",
       "[1] 0.1011521\n",
       "\n",
       "$min_sum_hessian_in_leaf\n",
       "[1] 0.001\n",
       "\n",
       "$lambda_l1\n",
       "[1] 4.349969\n",
       "\n",
       "$lambda_l2\n",
       "[1] 3.59128\n",
       "\n",
       "$max_bin\n",
       "[1] 31\n",
       "\n",
       "$bagging_fraction\n",
       "[1] 0.8495607\n",
       "\n",
       "$pos_bagging_fraction\n",
       "[1] 1\n",
       "\n",
       "$neg_bagging_fraction\n",
       "[1] 1\n",
       "\n",
       "$is_unbalance\n",
       "[1] FALSE\n",
       "\n",
       "$scale_pos_weight\n",
       "[1] 1\n",
       "\n",
       "$drop_rate\n",
       "[1] 0.1\n",
       "\n",
       "$max_drop\n",
       "[1] 50\n",
       "\n",
       "$skip_drop\n",
       "[1] 0.5\n",
       "\n",
       "$extra_trees\n",
       "[1] FALSE\n",
       "\n",
       "$num_iterations\n",
       "[1] 1054\n",
       "\n",
       "$learning_rate\n",
       "[1] 0.01718918\n",
       "\n",
       "$feature_fraction\n",
       "[1] 0.4459226\n",
       "\n",
       "$num_leaves\n",
       "[1] 198\n",
       "\n",
       "$min_data_in_leaf\n",
       "[1] 356\n"
      ]
     },
     "metadata": {},
     "output_type": "display_data"
    }
   ],
   "source": [
    "param_final <- modifyList(PARAM$lgbm$param_fijos,\n",
    "  PARAM$out$lgbm$mejores_hiperparametros)\n",
    "\n",
    "param_final"
   ]
  },
  {
   "cell_type": "markdown",
   "metadata": {
    "id": "TZIYn4l95TBH"
   },
   "source": [
    "#### Training\n",
    "Genero el modelo final, siempre sobre TODOS los datos de  final_train, sin hacer ningun tipo de undersampling de la clase mayoritaria"
   ]
  },
  {
   "cell_type": "code",
   "execution_count": 30,
   "metadata": {
    "id": "vPLsd4mMRe4u"
   },
   "outputs": [],
   "source": [
    "# este punto es muy SUTIL  y será revisado en la Clase 05\n",
    "\n",
    "param_normalizado <- copy(param_final)\n",
    "param_normalizado$min_data_in_leaf <-  param_final$min_data_in_leaf / PARAM$trainingstrategy$undersampling"
   ]
  },
  {
   "cell_type": "code",
   "execution_count": 31,
   "metadata": {
    "id": "WRI_-taRwOXO"
   },
   "outputs": [],
   "source": [
    "  # entreno LightGBM\n",
    "\n",
    "  modelo_final <- lgb.train(\n",
    "    data= dtrain,\n",
    "    param= param_normalizado\n",
    "  )"
   ]
  },
  {
   "cell_type": "code",
   "execution_count": 32,
   "metadata": {
    "id": "_bkhnCvj0g3Q"
   },
   "outputs": [],
   "source": [
    "# ahora imprimo la importancia de variables\n",
    "\n",
    "tb_importancia <- as.data.table(lgb.importance(modelo_final))\n",
    "archivo_importancia <- \"impo.txt\"\n",
    "\n",
    "fwrite(tb_importancia,\n",
    "  file= archivo_importancia,\n",
    "  sep= \"\\t\"\n",
    ")"
   ]
  },
  {
   "cell_type": "code",
   "execution_count": 33,
   "metadata": {
    "id": "lZ3sLmbh0kFj"
   },
   "outputs": [],
   "source": [
    "# grabo a disco el modelo en un formato para seres humanos ... ponele ...\n",
    "\n",
    "lgb.save(modelo_final, \"modelo.txt\" )"
   ]
  },
  {
   "cell_type": "markdown",
   "metadata": {
    "id": "VEtp2--t5Ymg"
   },
   "source": [
    "### Scoring"
   ]
  },
  {
   "cell_type": "markdown",
   "metadata": {
    "id": "hI5008Mj5ZdI"
   },
   "source": [
    "Aplico el modelo final a los datos del futuro"
   ]
  },
  {
   "cell_type": "code",
   "execution_count": 34,
   "metadata": {
    "id": "PimBY3N_0ryP"
   },
   "outputs": [],
   "source": [
    "# aplico el modelo a los datos sin clase\n",
    "dfuture <- dataset[foto_mes == 202109]\n",
    "\n",
    "# aplico el modelo a los datos nuevos\n",
    "prediccion <- predict(\n",
    "  modelo_final,\n",
    "  data.matrix(dfuture[, campos_buenos, with= FALSE])\n",
    ")"
   ]
  },
  {
   "cell_type": "markdown",
   "metadata": {
    "id": "D26rNRh55gpw"
   },
   "source": [
    "#### Tabla Prediccion"
   ]
  },
  {
   "cell_type": "code",
   "execution_count": 35,
   "metadata": {
    "id": "RJwg7LHd11yu"
   },
   "outputs": [],
   "source": [
    "# tabla de prediccion\n",
    "\n",
    "tb_prediccion <- dfuture[, list(numero_de_cliente)]\n",
    "tb_prediccion[, prob := prediccion ]\n",
    "\n",
    "# grabo las probabilidad del modelo\n",
    "fwrite(tb_prediccion,\n",
    "  file= \"prediccion.txt\",\n",
    "  sep= \"\\t\"\n",
    ")"
   ]
  },
  {
   "cell_type": "markdown",
   "metadata": {
    "id": "jOt4eG_55ltv"
   },
   "source": [
    "Kaggle Competition Submit"
   ]
  },
  {
   "cell_type": "code",
   "execution_count": 36,
   "metadata": {
    "id": "gWW3tatE12je"
   },
   "outputs": [
    {
     "name": "stdout",
     "output_type": "stream",
     "text": [
      "Successfully submitted to Data Mining, Analista Sr 2025A \n",
      "Successfully submitted to Data Mining, Analista Sr 2025A \n",
      "Successfully submitted to Data Mining, Analista Sr 2025A \n",
      "Successfully submitted to Data Mining, Analista Sr 2025A \n",
      "Successfully submitted to Data Mining, Analista Sr 2025A \n"
     ]
    }
   ],
   "source": [
    "# genero archivos con los  \"envios\" mejores\n",
    "# suba TODOS los archivos a Kaggle\n",
    "\n",
    "# ordeno por probabilidad descendente\n",
    "setorder(tb_prediccion, -prob)\n",
    "\n",
    "dir.create(\"kaggle\")\n",
    "\n",
    "for (envios in PARAM$kaggle$cortes) {\n",
    "\n",
    "  tb_prediccion[, Predicted := 0L] # seteo inicial a 0\n",
    "  tb_prediccion[1:envios, Predicted := 1L] # marclo los primeros\n",
    "\n",
    "  archivo_kaggle <- paste0(\"./kaggle/KA\", PARAM$experimento, \"_\", envios, \".csv\")\n",
    "\n",
    "  # grabo el archivo\n",
    "  fwrite(tb_prediccion[, list(numero_de_cliente, Predicted)],\n",
    "    file= archivo_kaggle,\n",
    "    sep= \",\"\n",
    "  )\n",
    "\n",
    "  # subida a Kaggle, armo la linea de comando\n",
    "  comando <- \"kaggle competitions submit\"\n",
    "  competencia <- paste(\"-c\", PARAM$kaggle$competencia)\n",
    "  arch <- paste( \"-f\", archivo_kaggle)\n",
    "\n",
    "  mensaje <- paste0(\"-m 'envios=\", envios,\n",
    "  \"  semilla=\", PARAM$semilla_primigenia,\n",
    "    \"'\" )\n",
    "\n",
    "  linea <- paste( comando, competencia, arch, mensaje)\n",
    "\n",
    "  salida <- system(linea, intern=TRUE) # el submit a Kaggle\n",
    "  cat(salida, \"\\n\")\n",
    "}"
   ]
  },
  {
   "cell_type": "code",
   "execution_count": 37,
   "metadata": {
    "id": "B9tB2X4439Hg"
   },
   "outputs": [],
   "source": [
    "write_yaml( PARAM, file=\"PARAM.yml\")"
   ]
  },
  {
   "cell_type": "code",
   "execution_count": 38,
   "metadata": {
    "id": "9zA_W25c15DP"
   },
   "outputs": [
    {
     "data": {
      "text/html": [
       "'Tue Jul 22 23:17:46 2025'"
      ],
      "text/latex": [
       "'Tue Jul 22 23:17:46 2025'"
      ],
      "text/markdown": [
       "'Tue Jul 22 23:17:46 2025'"
      ],
      "text/plain": [
       "[1] \"Tue Jul 22 23:17:46 2025\""
      ]
     },
     "metadata": {},
     "output_type": "display_data"
    }
   ],
   "source": [
    "format(Sys.time(), \"%a %b %d %X %Y\")"
   ]
  },
  {
   "cell_type": "markdown",
   "metadata": {
    "id": "UdVZucdLHzZ0"
   },
   "source": [
    "Finalmente usted deberá cargar el resultado de su corrida en la Google Sheet Colaborativa,  hoja **TareaHogar04**\n",
    "<br> Siéntase libre de agregar las columnas que hagan falta a la planilla"
   ]
  },
  {
   "cell_type": "code",
   "execution_count": null,
   "metadata": {
    "id": "WMHh7uNVIJkT"
   },
   "outputs": [],
   "source": []
  }
 ],
 "metadata": {
  "colab": {
   "provenance": []
  },
  "kernelspec": {
   "display_name": "R",
   "language": "R",
   "name": "ir"
  },
  "language_info": {
   "codemirror_mode": "r",
   "file_extension": ".r",
   "mimetype": "text/x-r-source",
   "name": "R",
   "pygments_lexer": "r",
   "version": "4.4.3"
  }
 },
 "nbformat": 4,
 "nbformat_minor": 4
}
