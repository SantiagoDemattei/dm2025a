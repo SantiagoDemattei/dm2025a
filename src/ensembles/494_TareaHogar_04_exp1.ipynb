{
 "cells": [
  {
   "cell_type": "markdown",
   "metadata": {
    "id": "0cEmzeUKFkPh"
   },
   "source": [
    "# Tarea para el Hogar 04"
   ]
  },
  {
   "cell_type": "markdown",
   "metadata": {
    "id": "nSICPpyTGQmC"
   },
   "source": [
    "Esta Tarea para el Hogar 02 se entrega el final de la cuarta clase\n",
    "<br> se espera de usted que intente avanzar con los desafios propuestos y que los traiga terminados para la Clase 05 que será el viernes 01-agosto"
   ]
  },
  {
   "cell_type": "markdown",
   "metadata": {
    "id": "DenyKXkiJ5JN"
   },
   "source": [
    "##  1. Cazatalentos"
   ]
  },
  {
   "cell_type": "markdown",
   "metadata": {
    "id": "l-K2_ZsZGrVD"
   },
   "source": [
    "En la Clase 03 nos hemos enfrentado a  \"La Maldicion del Ganandor\",  elegir el modelo con el mejor puntaje simple no suele ser la mejor estrategia.\n",
    "<br> Lea y ejecute el notebook  **src/CazaTalentos/CazaTalentos.ipynb**\n",
    "<br> en caso de interesarle, participe del Desafío Ordenamiento  que vence el sábado 02 de agosto a las 19:00"
   ]
  },
  {
   "cell_type": "markdown",
   "metadata": {
    "id": "K9GkTOk5J9t3"
   },
   "source": [
    "## 2. Hiperparámetros del LightGBM"
   ]
  },
  {
   "cell_type": "markdown",
   "metadata": {
    "id": "VmEFy0ukKL5T"
   },
   "source": [
    "Los objetivos de esta tarea son:\n",
    "\n",
    "\n",
    "*   Aumentar la rentabilidad de la campaña de marketing de retención proactiva de clientes.\n",
    "*   Generar un mejor modelo optimizando sus hiperparámetros\n",
    "*   Conceptual : investigar los mas relevantes hiperparámetros de LightGBM\n",
    "*   Familiarizarse con la Bayesian Optimization, sus largos tiempos de corrida y opciones para reducirlos\n",
    "*   Familiarizarse con el uso de máquinas virtuales de Google Colab\n",
    "*   Ver un pipeline completo de optimización de hiperparámetros y puesta en producción"
   ]
  },
  {
   "cell_type": "markdown",
   "metadata": {
    "id": "5yvlS6JQLRMd"
   },
   "source": [
    "LightGBM cuenta con mas de 60 hiperparámetros, siendo posible utilizar 40 al mismo tiempo, aunque no razonable.\n",
    "<br> La documentación oficial de los hiperparámetros de LightGBM es  https://lightgbm.readthedocs.io/en/latest/Parameters.html#core-parameters\n"
   ]
  },
  {
   "cell_type": "markdown",
   "metadata": {
    "id": "eydI4YNAsFaf"
   },
   "source": [
    "Se lo alerta sobre que una Optimizacion Bayesiana lleva varias horas de corrida, y usted deberá correr VARIAS optimizaciones para descubrir cuales parámetros conviene optimizar.\n",
    "<br> A pesar que la próxima clase es recien en viernes 01 de agosto, inicie la tarea con tiempo, aprenda a planificar estratégicamente sus corridas como un@ científ@  de datos."
   ]
  },
  {
   "cell_type": "markdown",
   "metadata": {
    "id": "RzU4S0SeMcpp"
   },
   "source": [
    "Es necesario investigar cuales son los hiperparámetros de LightGBM que vale la pena optimizar en una Bayesian Optimization, ya que los realmente utiles son apenas un reducido subconjunto.\n",
    "<br>Usted deberá investigar cuales son los hiperparámetros mas relevantes de LightGBM, su primer alternativa es preguntándole a su amigo con capacidades especiales ChatGPT o sus endogámicos familiares Claude, DeepSeek, Gemini, Grok, etc\n",
    "<br> La segunda alternativa es la propia documentación de LightGBM  https://lightgbm.readthedocs.io/en/latest/Parameters-Tuning.html\n"
   ]
  },
  {
   "cell_type": "markdown",
   "metadata": {
    "id": "LNptUgI_NWWG"
   },
   "source": [
    "Adicionalmente podra buscar información como la que proveen esta diminuta muestra aleatoria de artículos ligeros:\n",
    "*  https://medium.com/@sarahzouinina/a-deep-dive-into-lightgbm-how-to-choose-and-tune-parameters-7c584945842e\n",
    "*  https://www.kaggle.com/code/somang1418/tuning-hyperparameters-under-10-minutes-lgbm\n",
    "*  https://towardsdatascience.com/beginners-guide-to-the-must-know-lightgbm-hyperparameters-a0005a812702/\n",
    "\n",
    "\n",
    "<br>  La muestra anterior se brinda a modo de ejemplo, usted deberá buscar muuuuchas  fuentes adicionales de información\n",
    "<br> Tenga presente que LightGBM es el estado del arte en modelado predictivo para datasets estructurado, que son el 90% del trabajo del 95% de los Data Scientists en Argentina."
   ]
  },
  {
   "cell_type": "markdown",
   "metadata": {
    "id": "WpUThBojODyK"
   },
   "source": [
    "El desafío de esta tarea es:\n",
    "* Qué hiperparparámetros conviene optimizar?  Las recomendaciones de los artículos ligeros es siempre sensata?  Sus autores realmente hicieron experimentos o son siemplemente escritores de entretenimiento carente de base científica?\n",
    "* Elegidos los hiperparámetros, cual es el  <desde, hasta> que se debe utilizar en la Bayesian Optimization ?\n",
    "* Realmente vale la pena optimizar 10 o 16 hiperparámetros al mismo tiempo ?  No resulta contraproducente una búsqueda en un espacio de tal alta dimensionalidad ?"
   ]
  },
  {
   "cell_type": "markdown",
   "metadata": {
    "id": "PX0qg_c0yqob"
   },
   "source": [
    "#### 2.1  Seteo del ambiente en Google Colab"
   ]
  },
  {
   "cell_type": "markdown",
   "metadata": {
    "id": "NGY7H9xza7Zr"
   },
   "source": [
    "Esta parte se debe correr con el runtime en Python3\n",
    "<br>Ir al menu, Runtime -> Change Runtime Type -> Runtime type ->  **Python 3**"
   ]
  },
  {
   "cell_type": "markdown",
   "metadata": {
    "id": "7PupIBNba7Zr"
   },
   "source": [
    "Conectar la virtual machine donde esta corriendo Google Colab con el  Google Drive, para poder tener persistencia de archivos"
   ]
  },
  {
   "cell_type": "code",
   "execution_count": null,
   "metadata": {
    "id": "9LpZCst5a7Zs"
   },
   "outputs": [],
   "source": [
    "# primero establecer el Runtime de Python 3\n",
    "from google.colab import drive\n",
    "drive.mount('/content/.drive')"
   ]
  },
  {
   "cell_type": "markdown",
   "metadata": {
    "id": "JYC_F-wla7Zs"
   },
   "source": [
    "Para correr la siguiente celda es fundamental en Arranque en Frio haber copiado el archivo kaggle.json al Google Drive, en la carpeta indicada en el instructivo\n",
    "\n",
    "<br>los siguientes comando estan en shell script de Linux\n",
    "*   Crear las carpetas en el Google Drive\n",
    "*   \"instalar\" el archivo kaggle.json desde el Google Drive a la virtual machine para que pueda ser utilizado por la libreria  kaggle de Python\n",
    "*   Bajar el  **dataset_pequeno**  al  Google Drive  y tambien al disco local de la virtual machine que esta corriendo Google Colab\n",
    "\n"
   ]
  },
  {
   "cell_type": "code",
   "execution_count": null,
   "metadata": {
    "id": "XWLelftXa7Zt"
   },
   "outputs": [],
   "source": [
    "%%shell\n",
    "\n",
    "mkdir -p \"/content/.drive/My Drive/dm\"\n",
    "mkdir -p \"/content/buckets\"\n",
    "ln -s \"/content/.drive/My Drive/dm\" /content/buckets/b1\n",
    "\n",
    "mkdir -p ~/.kaggle\n",
    "cp /content/buckets/b1/kaggle/kaggle.json  ~/.kaggle\n",
    "chmod 600 ~/.kaggle/kaggle.json\n",
    "\n",
    "\n",
    "mkdir -p /content/buckets/b1/exp\n",
    "mkdir -p /content/buckets/b1/datasets\n",
    "mkdir -p /content/datasets\n",
    "\n",
    "\n",
    "\n",
    "archivo_origen=\"https://storage.googleapis.com/open-courses/itba2025-8d0a/dataset_pequeno.csv\"\n",
    "archivo_destino=\"/content/datasets/dataset_pequeno.csv\"\n",
    "archivo_destino_bucket=\"/content/buckets/b1/datasets/dataset_pequeno.csv\"\n",
    "\n",
    "if ! test -f $archivo_destino_bucket; then\n",
    "  wget  $archivo_origen  -O $archivo_destino_bucket\n",
    "fi\n",
    "\n",
    "\n",
    "if ! test -f $archivo_destino; then\n",
    "  cp  $archivo_destino_bucket  $archivo_destino\n",
    "fi\n"
   ]
  },
  {
   "cell_type": "markdown",
   "metadata": {
    "id": "oSKhZRToy2F7"
   },
   "source": [
    "### 2.2 Optimizacion Hiperparámetros"
   ]
  },
  {
   "cell_type": "markdown",
   "metadata": {
    "id": "2kwPpHAtSmix"
   },
   "source": [
    "Esta parte se debe correr con el runtime en lenguaje R Ir al menu, Runtime -> Change Runtime Type -> Runtime type -> R"
   ]
  },
  {
   "cell_type": "markdown",
   "metadata": {
    "id": "xp4-Bj3aYI8d"
   },
   "source": [
    "### 2.2.1 Inicio"
   ]
  },
  {
   "cell_type": "markdown",
   "metadata": {
    "id": "zy8YTZfESxeJ"
   },
   "source": [
    "limpio el ambiente de R"
   ]
  },
  {
   "cell_type": "code",
   "execution_count": 1,
   "metadata": {
    "id": "gBq__iAdQliq"
   },
   "outputs": [
    {
     "data": {
      "text/html": [
       "'Tue Jul 22 20:00:20 2025'"
      ],
      "text/latex": [
       "'Tue Jul 22 20:00:20 2025'"
      ],
      "text/markdown": [
       "'Tue Jul 22 20:00:20 2025'"
      ],
      "text/plain": [
       "[1] \"Tue Jul 22 20:00:20 2025\""
      ]
     },
     "metadata": {},
     "output_type": "display_data"
    }
   ],
   "source": [
    "format(Sys.time(), \"%a %b %d %X %Y\")"
   ]
  },
  {
   "cell_type": "code",
   "execution_count": 2,
   "metadata": {
    "id": "7rdVrBojS1IV"
   },
   "outputs": [
    {
     "data": {
      "text/html": [
       "<table class=\"dataframe\">\n",
       "<caption>A matrix: 2 × 6 of type dbl</caption>\n",
       "<thead>\n",
       "\t<tr><th></th><th scope=col>used</th><th scope=col>(Mb)</th><th scope=col>gc trigger</th><th scope=col>(Mb)</th><th scope=col>max used</th><th scope=col>(Mb)</th></tr>\n",
       "</thead>\n",
       "<tbody>\n",
       "\t<tr><th scope=row>Ncells</th><td> 656846</td><td>35.1</td><td>1435131</td><td>76.7</td><td>1435131</td><td>76.7</td></tr>\n",
       "\t<tr><th scope=row>Vcells</th><td>1224771</td><td> 9.4</td><td>8388608</td><td>64.0</td><td>1924961</td><td>14.7</td></tr>\n",
       "</tbody>\n",
       "</table>\n"
      ],
      "text/latex": [
       "A matrix: 2 × 6 of type dbl\n",
       "\\begin{tabular}{r|llllll}\n",
       "  & used & (Mb) & gc trigger & (Mb) & max used & (Mb)\\\\\n",
       "\\hline\n",
       "\tNcells &  656846 & 35.1 & 1435131 & 76.7 & 1435131 & 76.7\\\\\n",
       "\tVcells & 1224771 &  9.4 & 8388608 & 64.0 & 1924961 & 14.7\\\\\n",
       "\\end{tabular}\n"
      ],
      "text/markdown": [
       "\n",
       "A matrix: 2 × 6 of type dbl\n",
       "\n",
       "| <!--/--> | used | (Mb) | gc trigger | (Mb) | max used | (Mb) |\n",
       "|---|---|---|---|---|---|---|\n",
       "| Ncells |  656846 | 35.1 | 1435131 | 76.7 | 1435131 | 76.7 |\n",
       "| Vcells | 1224771 |  9.4 | 8388608 | 64.0 | 1924961 | 14.7 |\n",
       "\n"
      ],
      "text/plain": [
       "       used    (Mb) gc trigger (Mb) max used (Mb)\n",
       "Ncells  656846 35.1 1435131    76.7 1435131  76.7\n",
       "Vcells 1224771  9.4 8388608    64.0 1924961  14.7"
      ]
     },
     "metadata": {},
     "output_type": "display_data"
    }
   ],
   "source": [
    "# limpio la memoria\n",
    "rm(list=ls(all.names=TRUE)) # remove all objects\n",
    "gc(full=TRUE, verbose=FALSE) # garbage collection"
   ]
  },
  {
   "cell_type": "markdown",
   "metadata": {
    "id": "kuPfQ7ksjwW3"
   },
   "source": [
    "### 2.2.2 Carga de Librerias"
   ]
  },
  {
   "cell_type": "code",
   "execution_count": 3,
   "metadata": {
    "id": "lVyxLaJ1j1J_"
   },
   "outputs": [
    {
     "name": "stderr",
     "output_type": "stream",
     "text": [
      "Loading required package: data.table\n",
      "\n",
      "Loading required package: parallel\n",
      "\n",
      "Loading required package: primes\n",
      "\n",
      "Loading required package: rlist\n",
      "\n",
      "Loading required package: yaml\n",
      "\n",
      "Loading required package: lightgbm\n",
      "\n",
      "Loading required package: DiceKriging\n",
      "\n",
      "Loading required package: mlrMBO\n",
      "\n",
      "Loading required package: mlr\n",
      "\n",
      "Loading required package: ParamHelpers\n",
      "\n",
      "Loading required package: smoof\n",
      "\n",
      "Loading required package: checkmate\n",
      "\n",
      "\n",
      "Attaching package: ‘checkmate’\n",
      "\n",
      "\n",
      "The following object is masked from ‘package:DiceKriging’:\n",
      "\n",
      "    checkNames\n",
      "\n",
      "\n"
     ]
    }
   ],
   "source": [
    "# cargo las librerias que necesito\n",
    "require(\"data.table\")\n",
    "require(\"parallel\")\n",
    "\n",
    "if( !require(\"primes\") ) install.packages(\"primes\")\n",
    "require(\"primes\")\n",
    "\n",
    "if( !require(\"utils\") ) install.packages(\"utils\")\n",
    "require(\"utils\")\n",
    "\n",
    "if( !require(\"rlist\") ) install.packages(\"rlist\")\n",
    "require(\"rlist\")\n",
    "\n",
    "if( !require(\"yaml\")) install.packages(\"yaml\")\n",
    "require(\"yaml\")\n",
    "\n",
    "if( !require(\"lightgbm\") ) install.packages(\"lightgbm\")\n",
    "require(\"lightgbm\")\n",
    "\n",
    "if( !require(\"DiceKriging\") ) install.packages(\"DiceKriging\")\n",
    "require(\"DiceKriging\")\n",
    "\n",
    "if( !require(\"mlrMBO\") ) install.packages(\"mlrMBO\")\n",
    "require(\"mlrMBO\")"
   ]
  },
  {
   "cell_type": "markdown",
   "metadata": {
    "id": "Iz-6Qt6BUaA3"
   },
   "source": [
    "### 2.2.3 Definicion de Parametros"
   ]
  },
  {
   "cell_type": "markdown",
   "metadata": {
    "id": "cOdlKd7lUm2I"
   },
   "source": [
    "aqui debe cargar SU semilla primigenia\n",
    "<br>recuerde cambiar el numero de experimento en cada corrida nueva"
   ]
  },
  {
   "cell_type": "code",
   "execution_count": 4,
   "metadata": {
    "id": "ASYkebOu2mF6"
   },
   "outputs": [],
   "source": [
    "PARAM <- list()\n",
    "PARAM$experimento <- 4941\n",
    "PARAM$semilla_primigenia <- 100129\n"
   ]
  },
  {
   "cell_type": "code",
   "execution_count": 5,
   "metadata": {
    "id": "ezOhQdbA293o"
   },
   "outputs": [],
   "source": [
    "PARAM$kaggle$competencia <- \"data-mining-analista-sr-2025-a\"\n",
    "PARAM$kaggle$cortes <- seq(10000, 12000, by= 500)"
   ]
  },
  {
   "cell_type": "code",
   "execution_count": 6,
   "metadata": {
    "id": "jtB0Lub42rHO"
   },
   "outputs": [],
   "source": [
    "# un undersampling de 0.1  toma solo el 10% de los CONTINUA\n",
    "# undersampling de 1.0  implica tomar TODOS los datos\n",
    "\n",
    "PARAM$trainingstrategy$undersampling <- 0.5"
   ]
  },
  {
   "cell_type": "code",
   "execution_count": 7,
   "metadata": {
    "id": "OFxm-xiNUOJX"
   },
   "outputs": [],
   "source": [
    "# Parametros LightGBM\n",
    "\n",
    "PARAM$hyperparametertuning$xval_folds <- 5\n",
    "\n",
    "# parametros fijos del LightGBM que se pisaran con la parte variable de la BO\n",
    "PARAM$lgbm$param_fijos <-  list(\n",
    "  boosting= \"gbdt\", # puede ir  dart  , ni pruebe random_forest\n",
    "  objective= \"binary\",\n",
    "  metric= \"auc\",\n",
    "  first_metric_only= FALSE,\n",
    "  boost_from_average= TRUE,\n",
    "  feature_pre_filter= FALSE,\n",
    "  force_row_wise= TRUE, # para reducir warnings\n",
    "  verbosity= -100,\n",
    "\n",
    "  seed= PARAM$semilla_primigenia,\n",
    "\n",
    "  max_depth= -1L, # -1 significa no limitar,  por ahora lo dejo fijo\n",
    "  min_gain_to_split= 0, # min_gain_to_split >= 0\n",
    "  min_sum_hessian_in_leaf= 0.001, #  min_sum_hessian_in_leaf >= 0.0\n",
    "  lambda_l1= 0.0, # lambda_l1 >= 0.0\n",
    "  lambda_l2= 0.0, # lambda_l2 >= 0.0\n",
    "  max_bin= 31L, # lo debo dejar fijo, no participa de la BO\n",
    "\n",
    "  bagging_fraction= 1.0, # 0.0 < bagging_fraction <= 1.0\n",
    "  pos_bagging_fraction= 1.0, # 0.0 < pos_bagging_fraction <= 1.0\n",
    "  neg_bagging_fraction= 1.0, # 0.0 < neg_bagging_fraction <= 1.0\n",
    "  is_unbalance= FALSE, #\n",
    "  scale_pos_weight= 1.0, # scale_pos_weight > 0.0\n",
    "\n",
    "  drop_rate= 0.1, # 0.0 < neg_bagging_fraction <= 1.0\n",
    "  max_drop= 50, # <=0 means no limit\n",
    "  skip_drop= 0.5, # 0.0 <= skip_drop <= 1.0\n",
    "\n",
    "  extra_trees= FALSE,\n",
    "\n",
    "  num_iterations= 1200,\n",
    "  learning_rate= 0.02,\n",
    "  feature_fraction= 0.5,\n",
    "  num_leaves= 750,\n",
    "  min_data_in_leaf= 5000\n",
    ")\n"
   ]
  },
  {
   "cell_type": "markdown",
   "metadata": {
    "id": "D5Yj-JV4yvOt"
   },
   "source": [
    "Aqui se definen los hiperparámetros de LightGBM que participan de la Bayesian Optimization\n",
    "<br> si es un numero entero debe ir  makeIntegerParam\n",
    "<br> si es un numero real (con decimales) debe ir  makeNumericParam\n",
    "<br> es muy importante leer cuales son un lower y upper  permitidos y ademas razonables"
   ]
  },
  {
   "cell_type": "code",
   "execution_count": 8,
   "metadata": {
    "id": "jENpR26ZyuS8"
   },
   "outputs": [],
   "source": [
    "# Aqui se cargan los bordes de los hiperparametros de la BO\n",
    "PARAM$hypeparametertuning$hs <- makeParamSet(\n",
    "  makeIntegerParam(\"num_iterations\", lower=300L, upper=1500L),\n",
    "  makeNumericParam(\"learning_rate\", lower=0.01, upper=0.1),\n",
    "  makeNumericParam(\"feature_fraction\", lower=0.3, upper=1.0),\n",
    "  makeIntegerParam(\"min_data_in_leaf\", lower=100L, upper=5000L),\n",
    "  makeIntegerParam(\"num_leaves\", lower=20L, upper=512L),\n",
    "  makeIntegerParam(\"max_depth\", lower=3L, upper=16L),\n",
    "  makeNumericParam(\"lambda_l1\", lower=0.0, upper=5.0),\n",
    "  makeNumericParam(\"lambda_l2\", lower=0.0, upper=5.0),\n",
    "  makeNumericParam(\"min_gain_to_split\", lower=0.0, upper=1.0),\n",
    "  makeNumericParam(\"bagging_fraction\", lower=0.5, upper=1.0)\n",
    ")"
   ]
  },
  {
   "cell_type": "markdown",
   "metadata": {
    "id": "-_RPFUb3zMoW"
   },
   "source": [
    "A mayor cantidad de hiperparámetros, se debe aumentar las iteraciones de la Bayesian Optimization\n",
    "<br> 30 es un valor muy tacaño, pero corre rápido\n",
    "<br> deberia partir de 50, alcanzando los 100 si se dispone de tiempo"
   ]
  },
  {
   "cell_type": "code",
   "execution_count": 9,
   "metadata": {
    "id": "q5Rd3pnbzSiG"
   },
   "outputs": [],
   "source": [
    "PARAM$hyperparametertuning$iteraciones <- 50 # iteraciones bayesianas"
   ]
  },
  {
   "cell_type": "markdown",
   "metadata": {
    "id": "4RWZXL1VZjMI"
   },
   "source": [
    "### 2.2.4  Preprocesamiento"
   ]
  },
  {
   "cell_type": "code",
   "execution_count": 10,
   "metadata": {
    "id": "j3toG9-lZm4K"
   },
   "outputs": [],
   "source": [
    "# carpeta de trabajo\n",
    "\n",
    "setwd(\"/content/buckets/b1/exp\")\n",
    "experimento_folder <- paste0(\"HT\", PARAM$experimento)\n",
    "dir.create(experimento_folder, showWarnings=FALSE)\n",
    "setwd( paste0(\"/content/buckets/b1/exp/\", experimento_folder ))"
   ]
  },
  {
   "cell_type": "code",
   "execution_count": 11,
   "metadata": {
    "id": "FM3lxKoLZ643"
   },
   "outputs": [],
   "source": [
    "# lectura del dataset\n",
    "\n",
    "dataset <- fread(\"/content/datasets/dataset_pequeno.csv\")"
   ]
  },
  {
   "cell_type": "code",
   "execution_count": 12,
   "metadata": {
    "id": "OsJ-91UeZ-I_"
   },
   "outputs": [],
   "source": [
    "dataset_train <- dataset[foto_mes %in% c(202107)]"
   ]
  },
  {
   "cell_type": "code",
   "execution_count": 13,
   "metadata": {
    "id": "vrWE7BE0aB2J"
   },
   "outputs": [],
   "source": [
    "# paso la clase a binaria que tome valores {0,1}  enteros\n",
    "#  BAJA+1 y BAJA+2  son  1,   CONTINUA es 0\n",
    "\n",
    "dataset_train[,\n",
    "  clase01 := ifelse(clase_ternaria %in% c(\"BAJA+2\",\"BAJA+1\"), 1L, 0L)\n",
    "]"
   ]
  },
  {
   "cell_type": "code",
   "execution_count": 14,
   "metadata": {
    "id": "jP7YlQBnaW6W"
   },
   "outputs": [],
   "source": [
    "# defino los datos que forma parte del training\n",
    "# aqui se hace el undersampling de los CONTINUA\n",
    "# notar que para esto utilizo la SEGUNDA semilla\n",
    "\n",
    "set.seed(PARAM$semilla_primigenia, kind = \"L'Ecuyer-CMRG\")\n",
    "dataset_train[, azar := runif(nrow(dataset_train))]\n",
    "dataset_train[, training := 0L]\n",
    "\n",
    "dataset_train[\n",
    "  foto_mes %in% c(202107) &\n",
    "    (azar <= PARAM$trainingstrategy$undersampling | clase_ternaria %in% c(\"BAJA+1\", \"BAJA+2\")),\n",
    "  training := 1L\n",
    "]"
   ]
  },
  {
   "cell_type": "code",
   "execution_count": 15,
   "metadata": {
    "id": "xElu4s5W4rX7"
   },
   "outputs": [],
   "source": [
    "# los campos que se van a utilizar\n",
    "\n",
    "campos_buenos <- setdiff(\n",
    "  colnames(dataset_train),\n",
    "  c(\"clase_ternaria\", \"clase01\", \"azar\", \"training\")\n",
    ")"
   ]
  },
  {
   "cell_type": "code",
   "execution_count": 16,
   "metadata": {
    "id": "PppMHcGYaaol"
   },
   "outputs": [
    {
     "data": {
      "text/html": [
       "83679"
      ],
      "text/latex": [
       "83679"
      ],
      "text/markdown": [
       "83679"
      ],
      "text/plain": [
       "[1] 83679"
      ]
     },
     "metadata": {},
     "output_type": "display_data"
    },
    {
     "data": {
      "text/html": [
       "154"
      ],
      "text/latex": [
       "154"
      ],
      "text/markdown": [
       "154"
      ],
      "text/plain": [
       "[1] 154"
      ]
     },
     "metadata": {},
     "output_type": "display_data"
    }
   ],
   "source": [
    "# dejo los datos en el formato que necesita LightGBM\n",
    "\n",
    "dtrain <- lgb.Dataset(\n",
    "  data= data.matrix(dataset_train[training == 1L, campos_buenos, with= FALSE]),\n",
    "  label= dataset_train[training == 1L, clase01],\n",
    "  free_raw_data= FALSE\n",
    ")\n",
    "\n",
    "nrow(dtrain)\n",
    "ncol(dtrain)"
   ]
  },
  {
   "cell_type": "markdown",
   "metadata": {
    "id": "Ta-EkOu3cphF"
   },
   "source": [
    "2.2.5 Configuracion Bayesian Optimization"
   ]
  },
  {
   "cell_type": "code",
   "execution_count": 17,
   "metadata": {
    "id": "cjgfurjdfiXb"
   },
   "outputs": [],
   "source": [
    "# En el argumento x llegan los parmaetros de la bayesiana\n",
    "#  devuelve la AUC en cross validation del modelo entrenado\n",
    "\n",
    "EstimarGanancia_AUC_lightgbm <- function(x) {\n",
    "\n",
    "  # x pisa (o agrega) a param_fijos\n",
    "  param_completo <- modifyList(PARAM$lgbm$param_fijos, x)\n",
    "\n",
    "  # entreno LightGBM\n",
    "  modelocv <- lgb.cv(\n",
    "    data= dtrain,\n",
    "    nfold= PARAM$hyperparametertuning$xval_folds,\n",
    "    stratified= TRUE,\n",
    "    param= param_completo\n",
    "  )\n",
    "\n",
    "  # obtengo la ganancia\n",
    "  AUC <- modelocv$best_score\n",
    "\n",
    "  # hago espacio en la memoria\n",
    "  rm(modelocv)\n",
    "  gc(full= TRUE, verbose= FALSE)\n",
    "\n",
    "  message(format(Sys.time(), \"%a %b %d %X %Y\"), \" AUC \", AUC)\n",
    "\n",
    "  return(AUC)\n",
    "}"
   ]
  },
  {
   "cell_type": "code",
   "execution_count": 18,
   "metadata": {
    "id": "WLi_o1hocvN-"
   },
   "outputs": [],
   "source": [
    "# Aqui comienza la configuracion de la Bayesian Optimization\n",
    "\n",
    "# en este archivo quedan la evolucion binaria de la BO\n",
    "kbayesiana <- \"bayesiana.RDATA\"\n",
    "\n",
    "funcion_optimizar <- EstimarGanancia_AUC_lightgbm # la funcion que voy a maximizar\n",
    "\n",
    "configureMlr(show.learner.output= FALSE)\n",
    "\n",
    "# configuro la busqueda bayesiana,  los hiperparametros que se van a optimizar\n",
    "# por favor, no desesperarse por lo complejo\n",
    "\n",
    "obj.fun <- makeSingleObjectiveFunction(\n",
    "  fn= funcion_optimizar, # la funcion que voy a maximizar\n",
    "  minimize= FALSE, # estoy Maximizando la ganancia\n",
    "  noisy= TRUE,\n",
    "  par.set= PARAM$hypeparametertuning$hs, # definido al comienzo del programa\n",
    "  has.simple.signature= FALSE # paso los parametros en una lista\n",
    ")\n",
    "\n",
    "# cada 600 segundos guardo el resultado intermedio\n",
    "ctrl <- makeMBOControl(\n",
    "  save.on.disk.at.time= 600, # se graba cada 600 segundos\n",
    "  save.file.path= kbayesiana\n",
    ") # se graba cada 600 segundos\n",
    "\n",
    "# indico la cantidad de iteraciones que va a tener la Bayesian Optimization\n",
    "ctrl <- setMBOControlTermination(\n",
    "  ctrl,\n",
    "  iters= PARAM$hyperparametertuning$iteraciones\n",
    ") # cantidad de iteraciones\n",
    "\n",
    "# defino el método estandar para la creacion de los puntos iniciales,\n",
    "# los \"No Inteligentes\"\n",
    "ctrl <- setMBOControlInfill(ctrl, crit= makeMBOInfillCritEI())\n",
    "\n",
    "# establezco la funcion que busca el maximo\n",
    "surr.km <- makeLearner(\n",
    "  \"regr.km\",\n",
    "  predict.type= \"se\",\n",
    "  covtype= \"matern3_2\",\n",
    "  control= list(trace= TRUE)\n",
    ")\n"
   ]
  },
  {
   "cell_type": "markdown",
   "metadata": {
    "id": "_uUeVo5pc4zc"
   },
   "source": [
    "2.2.6 Corrida Bayesian Optimization"
   ]
  },
  {
   "cell_type": "code",
   "execution_count": 19,
   "metadata": {
    "id": "RcABNaKGciaz"
   },
   "outputs": [
    {
     "name": "stderr",
     "output_type": "stream",
     "text": [
      "Computing y column(s) for design. Not provided.\n",
      "\n",
      "Tue Jul 22 20:01:41 2025 AUC 0.93072029639593\n",
      "\n",
      "Tue Jul 22 20:01:51 2025 AUC 0.926079083105392\n",
      "\n",
      "Tue Jul 22 20:02:01 2025 AUC 0.92691202732511\n",
      "\n",
      "Tue Jul 22 20:02:23 2025 AUC 0.927047532864942\n",
      "\n",
      "Tue Jul 22 20:02:44 2025 AUC 0.92552938514974\n",
      "\n",
      "Tue Jul 22 20:03:05 2025 AUC 0.926339030091521\n",
      "\n",
      "Tue Jul 22 20:03:16 2025 AUC 0.929122096155802\n",
      "\n",
      "Tue Jul 22 20:03:39 2025 AUC 0.926607103873829\n",
      "\n",
      "Tue Jul 22 20:03:49 2025 AUC 0.928746325622738\n",
      "\n",
      "Tue Jul 22 20:04:10 2025 AUC 0.927600775298259\n",
      "\n",
      "Tue Jul 22 20:04:40 2025 AUC 0.92583024836022\n",
      "\n",
      "Tue Jul 22 20:04:45 2025 AUC 0.922294328194159\n",
      "\n",
      "Tue Jul 22 20:05:02 2025 AUC 0.926490812449557\n",
      "\n",
      "Tue Jul 22 20:05:27 2025 AUC 0.928032096530902\n",
      "\n",
      "Tue Jul 22 20:05:40 2025 AUC 0.927194652393479\n",
      "\n",
      "Tue Jul 22 20:05:57 2025 AUC 0.930158589926978\n",
      "\n",
      "Tue Jul 22 20:06:05 2025 AUC 0.929764461576963\n",
      "\n",
      "Tue Jul 22 20:06:38 2025 AUC 0.928191963455768\n",
      "\n",
      "Tue Jul 22 20:06:57 2025 AUC 0.925581212445241\n",
      "\n",
      "Tue Jul 22 20:07:05 2025 AUC 0.925437497564697\n",
      "\n",
      "Tue Jul 22 20:07:24 2025 AUC 0.927834608842842\n",
      "\n",
      "Tue Jul 22 20:07:48 2025 AUC 0.926842999452032\n",
      "\n",
      "Tue Jul 22 20:08:14 2025 AUC 0.927092504536989\n",
      "\n",
      "Tue Jul 22 20:08:27 2025 AUC 0.926862408370345\n",
      "\n",
      "Tue Jul 22 20:08:47 2025 AUC 0.926363036466024\n",
      "\n",
      "Tue Jul 22 20:09:08 2025 AUC 0.928194598574524\n",
      "\n",
      "Tue Jul 22 20:09:35 2025 AUC 0.928437435860422\n",
      "\n",
      "Tue Jul 22 20:09:44 2025 AUC 0.927376722256481\n",
      "\n",
      "Tue Jul 22 20:09:54 2025 AUC 0.926241530535603\n",
      "\n",
      "Tue Jul 22 20:10:04 2025 AUC 0.927211183460218\n",
      "\n",
      "Tue Jul 22 20:10:22 2025 AUC 0.927604704425747\n",
      "\n",
      "Tue Jul 22 20:10:46 2025 AUC 0.925950560248154\n",
      "\n",
      "Tue Jul 22 20:11:19 2025 AUC 0.928539907474904\n",
      "\n",
      "Tue Jul 22 20:11:33 2025 AUC 0.924751310643268\n",
      "\n",
      "Tue Jul 22 20:11:43 2025 AUC 0.927095809519529\n",
      "\n",
      "Tue Jul 22 20:11:53 2025 AUC 0.931404105249618\n",
      "\n",
      "Tue Jul 22 20:12:16 2025 AUC 0.924739641387009\n",
      "\n",
      "Tue Jul 22 20:12:48 2025 AUC 0.92910557449243\n",
      "\n",
      "Tue Jul 22 20:13:16 2025 AUC 0.925498109733403\n",
      "\n",
      "Tue Jul 22 20:13:32 2025 AUC 0.926215115461951\n",
      "\n",
      "[mbo] 0: num_iterations=1064; learning_rate=0.0707; feature_fraction=0.361; min_data_in_leaf=248; num_leaves=245; max_depth=13; lambda_l1=4.36; lambda_l2=2.39; min_gain_to_split=0.804; bagging_fraction=0.77 : y = 0.931 : 25.7 secs : initdesign\n",
      "\n",
      "[mbo] 0: num_iterations=741; learning_rate=0.0448; feature_fraction=0.776; min_data_in_leaf=3840; num_leaves=285; max_depth=12; lambda_l1=2.65; lambda_l2=0.839; min_gain_to_split=0.796; bagging_fraction=0.739 : y = 0.926 : 10.3 secs : initdesign\n",
      "\n",
      "[mbo] 0: num_iterations=780; learning_rate=0.0516; feature_fraction=0.91; min_data_in_leaf=1935; num_leaves=141; max_depth=7; lambda_l1=4.24; lambda_l2=2.77; min_gain_to_split=0.888; bagging_fraction=0.718 : y = 0.927 : 9.7 secs : initdesign\n",
      "\n",
      "[mbo] 0: num_iterations=754; learning_rate=0.0528; feature_fraction=0.439; min_data_in_leaf=2590; num_leaves=74; max_depth=6; lambda_l1=1.67; lambda_l2=2.09; min_gain_to_split=0.273; bagging_fraction=0.902 : y = 0.927 : 22.4 secs : initdesign\n",
      "\n",
      "[mbo] 0: num_iterations=863; learning_rate=0.0792; feature_fraction=0.466; min_data_in_leaf=3127; num_leaves=361; max_depth=10; lambda_l1=2.82; lambda_l2=2.36; min_gain_to_split=0.863; bagging_fraction=0.591 : y = 0.926 : 20.8 secs : initdesign\n",
      "\n",
      "[mbo] 0: num_iterations=1025; learning_rate=0.0561; feature_fraction=0.585; min_data_in_leaf=2915; num_leaves=176; max_depth=11; lambda_l1=0.862; lambda_l2=3.97; min_gain_to_split=0.643; bagging_fraction=0.503 : y = 0.926 : 21.2 secs : initdesign\n",
      "\n",
      "[mbo] 0: num_iterations=615; learning_rate=0.0213; feature_fraction=0.698; min_data_in_leaf=777; num_leaves=191; max_depth=4; lambda_l1=3; lambda_l2=1.88; min_gain_to_split=0.512; bagging_fraction=0.841 : y = 0.929 : 10.7 secs : initdesign\n",
      "\n",
      "[mbo] 0: num_iterations=676; learning_rate=0.0143; feature_fraction=0.499; min_data_in_leaf=2786; num_leaves=447; max_depth=8; lambda_l1=2.29; lambda_l2=1.29; min_gain_to_split=0.474; bagging_fraction=0.694 : y = 0.927 : 22.9 secs : initdesign\n",
      "\n",
      "[mbo] 0: num_iterations=516; learning_rate=0.0607; feature_fraction=0.652; min_data_in_leaf=1047; num_leaves=259; max_depth=14; lambda_l1=2.62; lambda_l2=0.263; min_gain_to_split=0.376; bagging_fraction=0.76 : y = 0.929 : 10.3 secs : initdesign\n",
      "\n",
      "[mbo] 0: num_iterations=1010; learning_rate=0.0857; feature_fraction=0.575; min_data_in_leaf=2165; num_leaves=297; max_depth=9; lambda_l1=3.21; lambda_l2=3.43; min_gain_to_split=0.414; bagging_fraction=0.914 : y = 0.928 : 21.1 secs : initdesign\n",
      "\n",
      "[mbo] 0: num_iterations=1219; learning_rate=0.0481; feature_fraction=0.546; min_data_in_leaf=4697; num_leaves=237; max_depth=5; lambda_l1=4.43; lambda_l2=0.0482; min_gain_to_split=0.326; bagging_fraction=0.938 : y = 0.926 : 30.0 secs : initdesign\n",
      "\n",
      "[mbo] 0: num_iterations=302; learning_rate=0.0324; feature_fraction=0.751; min_data_in_leaf=4204; num_leaves=153; max_depth=3; lambda_l1=1.78; lambda_l2=3.57; min_gain_to_split=0.579; bagging_fraction=0.976 : y = 0.922 : 4.7 secs : initdesign\n",
      "\n",
      "[mbo] 0: num_iterations=1366; learning_rate=0.0653; feature_fraction=0.641; min_data_in_leaf=3010; num_leaves=345; max_depth=16; lambda_l1=1.94; lambda_l2=0.467; min_gain_to_split=0.433; bagging_fraction=0.83 : y = 0.926 : 17.6 secs : initdesign\n",
      "\n",
      "[mbo] 0: num_iterations=1255; learning_rate=0.0173; feature_fraction=0.996; min_data_in_leaf=1704; num_leaves=511; max_depth=12; lambda_l1=2.48; lambda_l2=2.17; min_gain_to_split=0.551; bagging_fraction=0.575 : y = 0.928 : 24.7 secs : initdesign\n",
      "\n",
      "[mbo] 0: num_iterations=576; learning_rate=0.0815; feature_fraction=0.842; min_data_in_leaf=4349; num_leaves=409; max_depth=9; lambda_l1=0.441; lambda_l2=3.18; min_gain_to_split=0.123; bagging_fraction=0.801 : y = 0.927 : 12.6 secs : initdesign\n",
      "\n",
      "[mbo] 0: num_iterations=836; learning_rate=0.0581; feature_fraction=0.823; min_data_in_leaf=479; num_leaves=375; max_depth=8; lambda_l1=3.32; lambda_l2=1.46; min_gain_to_split=0.0582; bagging_fraction=0.799 : y = 0.93 : 17.6 secs : initdesign\n",
      "\n",
      "[mbo] 0: num_iterations=506; learning_rate=0.076; feature_fraction=0.736; min_data_in_leaf=620; num_leaves=118; max_depth=9; lambda_l1=0.938; lambda_l2=2.64; min_gain_to_split=0.619; bagging_fraction=0.645 : y = 0.93 : 8.1 secs : initdesign\n",
      "\n",
      "[mbo] 0: num_iterations=1263; learning_rate=0.0433; feature_fraction=0.379; min_data_in_leaf=2546; num_leaves=223; max_depth=8; lambda_l1=3.53; lambda_l2=4.65; min_gain_to_split=0.292; bagging_fraction=0.627 : y = 0.928 : 32.6 secs : initdesign\n",
      "\n",
      "[mbo] 0: num_iterations=1185; learning_rate=0.0726; feature_fraction=0.602; min_data_in_leaf=3746; num_leaves=201; max_depth=13; lambda_l1=3.1; lambda_l2=4.87; min_gain_to_split=0.945; bagging_fraction=0.937 : y = 0.926 : 18.4 secs : initdesign\n",
      "\n",
      "[mbo] 0: num_iterations=451; learning_rate=0.039; feature_fraction=0.794; min_data_in_leaf=3396; num_leaves=85; max_depth=10; lambda_l1=4.11; lambda_l2=3.03; min_gain_to_split=0.666; bagging_fraction=0.524 : y = 0.925 : 8.3 secs : initdesign\n",
      "\n",
      "[mbo] 0: num_iterations=657; learning_rate=0.0835; feature_fraction=0.327; min_data_in_leaf=1500; num_leaves=499; max_depth=16; lambda_l1=2.01; lambda_l2=0.664; min_gain_to_split=0.174; bagging_fraction=0.781 : y = 0.928 : 19.0 secs : initdesign\n",
      "\n",
      "[mbo] 0: num_iterations=983; learning_rate=0.0366; feature_fraction=0.31; min_data_in_leaf=2397; num_leaves=397; max_depth=11; lambda_l1=0.641; lambda_l2=2.96; min_gain_to_split=0.734; bagging_fraction=0.868 : y = 0.927 : 24.6 secs : initdesign\n",
      "\n",
      "[mbo] 0: num_iterations=1105; learning_rate=0.0668; feature_fraction=0.412; min_data_in_leaf=1434; num_leaves=277; max_depth=4; lambda_l1=3.97; lambda_l2=0.141; min_gain_to_split=0.68; bagging_fraction=0.67 : y = 0.927 : 25.5 secs : initdesign\n",
      "\n",
      "[mbo] 0: num_iterations=1119; learning_rate=0.0952; feature_fraction=0.719; min_data_in_leaf=3414; num_leaves=40; max_depth=5; lambda_l1=2.18; lambda_l2=4.47; min_gain_to_split=0.362; bagging_fraction=0.614 : y = 0.927 : 13.3 secs : initdesign\n",
      "\n",
      "[mbo] 0: num_iterations=702; learning_rate=0.0485; feature_fraction=0.4; min_data_in_leaf=4450; num_leaves=437; max_depth=4; lambda_l1=0.273; lambda_l2=4.34; min_gain_to_split=0.0834; bagging_fraction=0.683 : y = 0.926 : 19.4 secs : initdesign\n",
      "\n",
      "[mbo] 0: num_iterations=1338; learning_rate=0.02; feature_fraction=0.852; min_data_in_leaf=1180; num_leaves=158; max_depth=12; lambda_l1=4.53; lambda_l2=1.8; min_gain_to_split=0.526; bagging_fraction=0.824 : y = 0.928 : 21.8 secs : initdesign\n",
      "\n",
      "[mbo] 0: num_iterations=927; learning_rate=0.0243; feature_fraction=0.895; min_data_in_leaf=2215; num_leaves=322; max_depth=14; lambda_l1=1.06; lambda_l2=3.28; min_gain_to_split=0.0437; bagging_fraction=0.989 : y = 0.928 : 26.2 secs : initdesign\n",
      "\n",
      "[mbo] 0: num_iterations=409; learning_rate=0.0627; feature_fraction=0.622; min_data_in_leaf=4114; num_leaves=311; max_depth=10; lambda_l1=4.79; lambda_l2=4.61; min_gain_to_split=0.00416; bagging_fraction=0.711 : y = 0.927 : 9.7 secs : initdesign\n",
      "\n",
      "[mbo] 0: num_iterations=437; learning_rate=0.0412; feature_fraction=0.771; min_data_in_leaf=3619; num_leaves=486; max_depth=16; lambda_l1=0.588; lambda_l2=3.87; min_gain_to_split=0.708; bagging_fraction=0.533 : y = 0.926 : 9.2 secs : initdesign\n",
      "\n",
      "[mbo] 0: num_iterations=881; learning_rate=0.0955; feature_fraction=0.974; min_data_in_leaf=1638; num_leaves=464; max_depth=5; lambda_l1=0.0708; lambda_l2=0.941; min_gain_to_split=0.771; bagging_fraction=0.655 : y = 0.927 : 10.6 secs : initdesign\n",
      "\n",
      "[mbo] 0: num_iterations=1413; learning_rate=0.0902; feature_fraction=0.941; min_data_in_leaf=4626; num_leaves=51; max_depth=15; lambda_l1=4.64; lambda_l2=1.67; min_gain_to_split=0.211; bagging_fraction=0.861 : y = 0.928 : 17.8 secs : initdesign\n",
      "\n",
      "[mbo] 0: num_iterations=1488; learning_rate=0.0327; feature_fraction=0.681; min_data_in_leaf=4921; num_leaves=420; max_depth=6; lambda_l1=3.64; lambda_l2=1.59; min_gain_to_split=0.194; bagging_fraction=0.538 : y = 0.926 : 24.2 secs : initdesign\n",
      "\n",
      "[mbo] 0: num_iterations=1312; learning_rate=0.0982; feature_fraction=0.519; min_data_in_leaf=885; num_leaves=206; max_depth=14; lambda_l1=1.4; lambda_l2=1.11; min_gain_to_split=0.233; bagging_fraction=0.561 : y = 0.929 : 32.8 secs : initdesign\n",
      "\n",
      "[mbo] 0: num_iterations=1451; learning_rate=0.088; feature_fraction=0.957; min_data_in_leaf=1973; num_leaves=339; max_depth=3; lambda_l1=4.97; lambda_l2=2.52; min_gain_to_split=0.92; bagging_fraction=0.725 : y = 0.925 : 14.6 secs : initdesign\n",
      "\n",
      "[mbo] 0: num_iterations=372; learning_rate=0.0295; feature_fraction=0.918; min_data_in_leaf=1303; num_leaves=27; max_depth=11; lambda_l1=1.16; lambda_l2=4.11; min_gain_to_split=0.849; bagging_fraction=0.964 : y = 0.927 : 9.8 secs : initdesign\n",
      "\n",
      "[mbo] 0: num_iterations=357; learning_rate=0.0917; feature_fraction=0.444; min_data_in_leaf=140; num_leaves=67; max_depth=6; lambda_l1=3.75; lambda_l2=4.18; min_gain_to_split=0.311; bagging_fraction=0.879 : y = 0.931 : 10.2 secs : initdesign\n",
      "\n",
      "[mbo] 0: num_iterations=935; learning_rate=0.0263; feature_fraction=0.338; min_data_in_leaf=4793; num_leaves=99; max_depth=15; lambda_l1=3.44; lambda_l2=1.16; min_gain_to_split=0.957; bagging_fraction=0.6 : y = 0.925 : 22.9 secs : initdesign\n",
      "\n",
      "[mbo] 0: num_iterations=1154; learning_rate=0.0161; feature_fraction=0.482; min_data_in_leaf=418; num_leaves=106; max_depth=3; lambda_l1=1.28; lambda_l2=3.67; min_gain_to_split=0.134; bagging_fraction=0.584 : y = 0.929 : 31.7 secs : initdesign\n",
      "\n",
      "[mbo] 0: num_iterations=1383; learning_rate=0.0112; feature_fraction=0.865; min_data_in_leaf=3222; num_leaves=457; max_depth=15; lambda_l1=0.162; lambda_l2=4.94; min_gain_to_split=0.981; bagging_fraction=0.893 : y = 0.925 : 27.9 secs : initdesign\n",
      "\n",
      "[mbo] 0: num_iterations=561; learning_rate=0.0745; feature_fraction=0.543; min_data_in_leaf=3901; num_leaves=378; max_depth=7; lambda_l1=1.6; lambda_l2=0.55; min_gain_to_split=0.48; bagging_fraction=0.957 : y = 0.926 : 15.5 secs : initdesign\n",
      "\n",
      "Saved the current state after iteration 1 in the file bayesiana.RDATA.\n",
      "\n",
      "Tue Jul 22 20:13:57 2025 AUC 0.930887231015914\n",
      "\n",
      "[mbo] 1: num_iterations=728; learning_rate=0.0659; feature_fraction=0.351; min_data_in_leaf=105; num_leaves=175; max_depth=10; lambda_l1=4.53; lambda_l2=4.47; min_gain_to_split=0.352; bagging_fraction=0.86 : y = 0.931 : 18.8 secs : infill_ei\n",
      "\n",
      "Tue Jul 22 20:14:14 2025 AUC 0.930524574544434\n",
      "\n",
      "[mbo] 2: num_iterations=586; learning_rate=0.0897; feature_fraction=0.373; min_data_in_leaf=102; num_leaves=51; max_depth=9; lambda_l1=4.18; lambda_l2=3.02; min_gain_to_split=0.117; bagging_fraction=0.702 : y = 0.931 : 16.5 secs : infill_ei\n",
      "\n",
      "Tue Jul 22 20:14:23 2025 AUC 0.929518743727125\n",
      "\n",
      "[mbo] 3: num_iterations=552; learning_rate=0.0932; feature_fraction=0.65; min_data_in_leaf=108; num_leaves=191; max_depth=6; lambda_l1=3.46; lambda_l2=2.4; min_gain_to_split=0.472; bagging_fraction=0.902 : y = 0.93 : 8.0 secs : infill_ei\n",
      "\n",
      "Tue Jul 22 20:14:35 2025 AUC 0.930581391375413\n",
      "\n",
      "[mbo] 4: num_iterations=340; learning_rate=0.0912; feature_fraction=0.376; min_data_in_leaf=395; num_leaves=158; max_depth=7; lambda_l1=2.47; lambda_l2=4.78; min_gain_to_split=0.16; bagging_fraction=0.755 : y = 0.931 : 11.6 secs : infill_ei\n",
      "\n",
      "Tue Jul 22 20:14:46 2025 AUC 0.930241847400781\n",
      "\n",
      "[mbo] 5: num_iterations=392; learning_rate=0.0806; feature_fraction=0.355; min_data_in_leaf=118; num_leaves=21; max_depth=12; lambda_l1=4.14; lambda_l2=4.1; min_gain_to_split=0.636; bagging_fraction=0.708 : y = 0.93 : 10.3 secs : infill_ei\n",
      "\n",
      "Tue Jul 22 20:15:28 2025 AUC 0.93131725581821\n",
      "\n",
      "[mbo] 6: num_iterations=951; learning_rate=0.0236; feature_fraction=0.411; min_data_in_leaf=101; num_leaves=269; max_depth=12; lambda_l1=4.09; lambda_l2=3.39; min_gain_to_split=0.0883; bagging_fraction=0.805 : y = 0.931 : 41.0 secs : infill_ei\n",
      "\n",
      "Tue Jul 22 20:15:47 2025 AUC 0.930242057318319\n",
      "\n",
      "[mbo] 7: num_iterations=505; learning_rate=0.0457; feature_fraction=0.459; min_data_in_leaf=165; num_leaves=396; max_depth=9; lambda_l1=2.87; lambda_l2=3.52; min_gain_to_split=0.203; bagging_fraction=0.822 : y = 0.93 : 18.8 secs : infill_ei\n",
      "\n",
      "Tue Jul 22 20:16:19 2025 AUC 0.930736517001374\n",
      "\n",
      "[mbo] 8: num_iterations=771; learning_rate=0.0506; feature_fraction=0.504; min_data_in_leaf=127; num_leaves=79; max_depth=7; lambda_l1=4.26; lambda_l2=4.2; min_gain_to_split=0.0116; bagging_fraction=0.807 : y = 0.931 : 30.5 secs : infill_ei\n",
      "\n",
      "Tue Jul 22 20:16:49 2025 AUC 0.930109093397053\n",
      "\n",
      "[mbo] 9: num_iterations=1028; learning_rate=0.0392; feature_fraction=0.37; min_data_in_leaf=156; num_leaves=252; max_depth=14; lambda_l1=4.12; lambda_l2=3.2; min_gain_to_split=0.312; bagging_fraction=0.784 : y = 0.93 : 30.0 secs : infill_ei\n",
      "\n",
      "Tue Jul 22 20:17:30 2025 AUC 0.931436174917687\n",
      "\n",
      "[mbo] 10: num_iterations=861; learning_rate=0.0185; feature_fraction=0.375; min_data_in_leaf=343; num_leaves=207; max_depth=11; lambda_l1=4.33; lambda_l2=3.58; min_gain_to_split=0.0764; bagging_fraction=0.892 : y = 0.931 : 39.8 secs : infill_ei\n",
      "\n",
      "Tue Jul 22 20:18:00 2025 AUC 0.930918726100997\n",
      "\n",
      "[mbo] 11: num_iterations=881; learning_rate=0.027; feature_fraction=0.679; min_data_in_leaf=268; num_leaves=233; max_depth=12; lambda_l1=4.98; lambda_l2=4.26; min_gain_to_split=0.0687; bagging_fraction=0.887 : y = 0.931 : 29.5 secs : infill_ei\n",
      "\n",
      "Tue Jul 22 20:18:13 2025 AUC 0.930300106606769\n",
      "\n",
      "[mbo] 12: num_iterations=374; learning_rate=0.0509; feature_fraction=0.378; min_data_in_leaf=292; num_leaves=24; max_depth=7; lambda_l1=4.54; lambda_l2=4.31; min_gain_to_split=0.284; bagging_fraction=0.92 : y = 0.93 : 12.1 secs : infill_ei\n",
      "\n",
      "Tue Jul 22 20:18:40 2025 AUC 0.929229041072417\n",
      "\n",
      "[mbo] 13: num_iterations=993; learning_rate=0.0995; feature_fraction=0.366; min_data_in_leaf=100; num_leaves=62; max_depth=12; lambda_l1=4.74; lambda_l2=4.68; min_gain_to_split=0.103; bagging_fraction=0.997 : y = 0.929 : 25.9 secs : infill_ei\n",
      "\n",
      "Tue Jul 22 20:19:32 2025 AUC 0.930123497152264\n",
      "\n",
      "[mbo] 14: num_iterations=1037; learning_rate=0.0179; feature_fraction=0.449; min_data_in_leaf=281; num_leaves=270; max_depth=10; lambda_l1=4.29; lambda_l2=2.6; min_gain_to_split=0.00188; bagging_fraction=0.833 : y = 0.93 : 51.6 secs : infill_ei\n",
      "\n",
      "Tue Jul 22 20:20:08 2025 AUC 0.9311849219745\n",
      "\n",
      "[mbo] 15: num_iterations=790; learning_rate=0.0175; feature_fraction=0.432; min_data_in_leaf=112; num_leaves=187; max_depth=11; lambda_l1=4.29; lambda_l2=3.77; min_gain_to_split=0.201; bagging_fraction=0.65 : y = 0.931 : 35.1 secs : infill_ei\n",
      "\n",
      "Tue Jul 22 20:20:55 2025 AUC 0.931221579896779\n",
      "\n",
      "[mbo] 16: num_iterations=817; learning_rate=0.0179; feature_fraction=0.461; min_data_in_leaf=107; num_leaves=243; max_depth=11; lambda_l1=3.5; lambda_l2=3.85; min_gain_to_split=0.0918; bagging_fraction=0.809 : y = 0.931 : 45.8 secs : infill_ei\n",
      "\n",
      "Tue Jul 22 20:21:22 2025 AUC 0.930134221200101\n",
      "\n",
      "[mbo] 17: num_iterations=790; learning_rate=0.0489; feature_fraction=0.491; min_data_in_leaf=429; num_leaves=162; max_depth=12; lambda_l1=4.6; lambda_l2=3.49; min_gain_to_split=0.1; bagging_fraction=0.602 : y = 0.93 : 26.4 secs : infill_ei\n",
      "\n",
      "Tue Jul 22 20:21:41 2025 AUC 0.929939364429108\n",
      "\n",
      "[mbo] 18: num_iterations=637; learning_rate=0.0767; feature_fraction=0.352; min_data_in_leaf=106; num_leaves=127; max_depth=6; lambda_l1=3.69; lambda_l2=3.97; min_gain_to_split=0.26; bagging_fraction=0.834 : y = 0.93 : 18.0 secs : infill_ei\n",
      "\n",
      "Tue Jul 22 20:21:51 2025 AUC 0.930994588593594\n",
      "\n",
      "[mbo] 19: num_iterations=303; learning_rate=0.0928; feature_fraction=0.454; min_data_in_leaf=100; num_leaves=39; max_depth=8; lambda_l1=4.98; lambda_l2=3.52; min_gain_to_split=0.204; bagging_fraction=0.802 : y = 0.931 : 9.7 secs : infill_ei\n",
      "\n",
      "Tue Jul 22 20:22:26 2025 AUC 0.930177670147698\n",
      "\n",
      "[mbo] 20: num_iterations=766; learning_rate=0.0238; feature_fraction=0.347; min_data_in_leaf=103; num_leaves=135; max_depth=11; lambda_l1=4.59; lambda_l2=4.01; min_gain_to_split=0.107; bagging_fraction=0.89 : y = 0.93 : 34.1 secs : infill_ei\n",
      "\n",
      "Tue Jul 22 20:23:06 2025 AUC 0.930759544964521\n",
      "\n",
      "[mbo] 21: num_iterations=884; learning_rate=0.0147; feature_fraction=0.403; min_data_in_leaf=119; num_leaves=225; max_depth=8; lambda_l1=4.36; lambda_l2=2.84; min_gain_to_split=0.0635; bagging_fraction=0.739 : y = 0.931 : 38.2 secs : infill_ei\n",
      "\n",
      "Tue Jul 22 20:23:24 2025 AUC 0.930728287708747\n",
      "\n",
      "[mbo] 22: num_iterations=445; learning_rate=0.0254; feature_fraction=0.324; min_data_in_leaf=171; num_leaves=218; max_depth=12; lambda_l1=3.38; lambda_l2=3.79; min_gain_to_split=0.463; bagging_fraction=0.754 : y = 0.931 : 17.9 secs : infill_ei\n",
      "\n",
      "Tue Jul 22 20:23:58 2025 AUC 0.93029310899972\n",
      "\n",
      "[mbo] 23: num_iterations=711; learning_rate=0.0204; feature_fraction=0.713; min_data_in_leaf=104; num_leaves=262; max_depth=9; lambda_l1=1.67; lambda_l2=4.41; min_gain_to_split=0.0219; bagging_fraction=0.742 : y = 0.93 : 33.1 secs : infill_ei\n",
      "\n",
      "Saved the current state after iteration 24 in the file bayesiana.RDATA.\n",
      "\n",
      "Tue Jul 22 20:24:30 2025 AUC 0.930434115502342\n",
      "\n",
      "[mbo] 24: num_iterations=718; learning_rate=0.0165; feature_fraction=0.511; min_data_in_leaf=327; num_leaves=338; max_depth=10; lambda_l1=4.9; lambda_l2=3.53; min_gain_to_split=0.453; bagging_fraction=0.756 : y = 0.93 : 27.5 secs : infill_ei\n",
      "\n",
      "Tue Jul 22 20:24:37 2025 AUC 0.929899412598229\n",
      "\n",
      "[mbo] 25: num_iterations=326; learning_rate=0.0915; feature_fraction=0.754; min_data_in_leaf=245; num_leaves=35; max_depth=8; lambda_l1=3.75; lambda_l2=4.27; min_gain_to_split=0.322; bagging_fraction=0.797 : y = 0.93 : 6.6 secs : infill_ei\n",
      "\n",
      "Tue Jul 22 20:25:10 2025 AUC 0.929988285409535\n",
      "\n",
      "[mbo] 26: num_iterations=743; learning_rate=0.0246; feature_fraction=0.325; min_data_in_leaf=112; num_leaves=297; max_depth=12; lambda_l1=4.62; lambda_l2=4.88; min_gain_to_split=0.112; bagging_fraction=0.682 : y = 0.93 : 31.9 secs : infill_ei\n",
      "\n",
      "Tue Jul 22 20:25:38 2025 AUC 0.930611389815186\n",
      "\n",
      "[mbo] 27: num_iterations=837; learning_rate=0.0231; feature_fraction=0.448; min_data_in_leaf=105; num_leaves=216; max_depth=8; lambda_l1=4.9; lambda_l2=3.6; min_gain_to_split=0.358; bagging_fraction=0.798 : y = 0.931 : 27.4 secs : infill_ei\n",
      "\n",
      "Tue Jul 22 20:25:51 2025 AUC 0.931045502834378\n",
      "\n",
      "[mbo] 28: num_iterations=410; learning_rate=0.0568; feature_fraction=0.398; min_data_in_leaf=109; num_leaves=214; max_depth=11; lambda_l1=3.71; lambda_l2=4; min_gain_to_split=0.733; bagging_fraction=0.901 : y = 0.931 : 12.0 secs : infill_ei\n",
      "\n",
      "Tue Jul 22 20:26:21 2025 AUC 0.930096210181739\n",
      "\n",
      "[mbo] 29: num_iterations=871; learning_rate=0.0168; feature_fraction=0.391; min_data_in_leaf=295; num_leaves=262; max_depth=11; lambda_l1=3.57; lambda_l2=3.3; min_gain_to_split=0.579; bagging_fraction=0.862 : y = 0.93 : 29.2 secs : infill_ei\n",
      "\n",
      "Tue Jul 22 20:26:34 2025 AUC 0.929687938264151\n",
      "\n",
      "[mbo] 30: num_iterations=391; learning_rate=0.0934; feature_fraction=0.415; min_data_in_leaf=208; num_leaves=197; max_depth=10; lambda_l1=3.83; lambda_l2=4.61; min_gain_to_split=0.487; bagging_fraction=0.835 : y = 0.93 : 11.8 secs : infill_ei\n",
      "\n",
      "Tue Jul 22 20:27:02 2025 AUC 0.929399372139666\n",
      "\n",
      "[mbo] 31: num_iterations=933; learning_rate=0.0593; feature_fraction=0.577; min_data_in_leaf=175; num_leaves=279; max_depth=12; lambda_l1=3.63; lambda_l2=4.04; min_gain_to_split=0.0808; bagging_fraction=0.976 : y = 0.929 : 26.6 secs : infill_ei\n",
      "\n",
      "Tue Jul 22 20:27:14 2025 AUC 0.930370125466969\n",
      "\n",
      "[mbo] 32: num_iterations=405; learning_rate=0.0643; feature_fraction=0.382; min_data_in_leaf=116; num_leaves=197; max_depth=13; lambda_l1=4.58; lambda_l2=2.79; min_gain_to_split=0.732; bagging_fraction=0.764 : y = 0.93 : 11.4 secs : infill_ei\n",
      "\n",
      "Tue Jul 22 20:27:50 2025 AUC 0.931093175905152\n",
      "\n",
      "[mbo] 33: num_iterations=716; learning_rate=0.0169; feature_fraction=0.458; min_data_in_leaf=485; num_leaves=235; max_depth=12; lambda_l1=4.13; lambda_l2=3.52; min_gain_to_split=0.0491; bagging_fraction=0.741 : y = 0.931 : 35.1 secs : infill_ei\n",
      "\n",
      "Tue Jul 22 20:28:12 2025 AUC 0.930626535316222\n",
      "\n",
      "[mbo] 34: num_iterations=823; learning_rate=0.061; feature_fraction=0.408; min_data_in_leaf=171; num_leaves=158; max_depth=9; lambda_l1=2.92; lambda_l2=4.16; min_gain_to_split=0.712; bagging_fraction=0.784 : y = 0.931 : 21.2 secs : infill_ei\n",
      "\n",
      "Tue Jul 22 20:28:24 2025 AUC 0.929560174713784\n",
      "\n",
      "[mbo] 35: num_iterations=308; learning_rate=0.0923; feature_fraction=0.394; min_data_in_leaf=291; num_leaves=59; max_depth=6; lambda_l1=0.775; lambda_l2=4.29; min_gain_to_split=0.291; bagging_fraction=0.578 : y = 0.93 : 11.0 secs : infill_ei\n",
      "\n",
      "Tue Jul 22 20:28:47 2025 AUC 0.931088195580506\n",
      "\n",
      "[mbo] 36: num_iterations=449; learning_rate=0.0275; feature_fraction=0.566; min_data_in_leaf=229; num_leaves=225; max_depth=10; lambda_l1=3.5; lambda_l2=3.31; min_gain_to_split=0.216; bagging_fraction=0.677 : y = 0.931 : 21.9 secs : infill_ei\n",
      "\n",
      "Tue Jul 22 20:29:15 2025 AUC 0.931002184674858\n",
      "\n",
      "[mbo] 37: num_iterations=537; learning_rate=0.0243; feature_fraction=0.739; min_data_in_leaf=138; num_leaves=341; max_depth=15; lambda_l1=2.95; lambda_l2=3.53; min_gain_to_split=0.209; bagging_fraction=0.869 : y = 0.931 : 26.9 secs : infill_ei\n",
      "\n",
      "Tue Jul 22 20:29:28 2025 AUC 0.930301284284484\n",
      "\n",
      "[mbo] 38: num_iterations=473; learning_rate=0.0888; feature_fraction=0.347; min_data_in_leaf=450; num_leaves=66; max_depth=7; lambda_l1=3.08; lambda_l2=2.58; min_gain_to_split=0.667; bagging_fraction=0.955 : y = 0.93 : 11.9 secs : infill_ei\n",
      "\n",
      "Tue Jul 22 20:29:49 2025 AUC 0.930269582661556\n",
      "\n",
      "[mbo] 39: num_iterations=812; learning_rate=0.0668; feature_fraction=0.392; min_data_in_leaf=468; num_leaves=219; max_depth=11; lambda_l1=3.82; lambda_l2=1.87; min_gain_to_split=0.694; bagging_fraction=0.71 : y = 0.93 : 20.3 secs : infill_ei\n",
      "\n",
      "Tue Jul 22 20:30:14 2025 AUC 0.929935058480008\n",
      "\n",
      "[mbo] 40: num_iterations=544; learning_rate=0.0197; feature_fraction=0.876; min_data_in_leaf=105; num_leaves=213; max_depth=9; lambda_l1=4.03; lambda_l2=3.4; min_gain_to_split=0.144; bagging_fraction=0.813 : y = 0.93 : 24.0 secs : infill_ei\n",
      "\n",
      "Tue Jul 22 20:30:47 2025 AUC 0.93003448681076\n",
      "\n",
      "[mbo] 41: num_iterations=860; learning_rate=0.0256; feature_fraction=0.634; min_data_in_leaf=331; num_leaves=246; max_depth=14; lambda_l1=2.83; lambda_l2=3.61; min_gain_to_split=0.163; bagging_fraction=0.68 : y = 0.93 : 31.9 secs : infill_ei\n",
      "\n",
      "Tue Jul 22 20:31:20 2025 AUC 0.92993357235398\n",
      "\n",
      "[mbo] 42: num_iterations=719; learning_rate=0.0295; feature_fraction=0.441; min_data_in_leaf=100; num_leaves=208; max_depth=12; lambda_l1=4.47; lambda_l2=2.81; min_gain_to_split=0.0721; bagging_fraction=0.891 : y = 0.93 : 32.3 secs : infill_ei\n",
      "\n",
      "Tue Jul 22 20:31:41 2025 AUC 0.929896565042503\n",
      "\n",
      "[mbo] 43: num_iterations=426; learning_rate=0.023; feature_fraction=0.673; min_data_in_leaf=210; num_leaves=335; max_depth=10; lambda_l1=4.06; lambda_l2=3.87; min_gain_to_split=0.159; bagging_fraction=0.829 : y = 0.93 : 19.4 secs : infill_ei\n",
      "\n",
      "Tue Jul 22 20:32:15 2025 AUC 0.92968604935595\n",
      "\n",
      "[mbo] 44: num_iterations=538; learning_rate=0.0125; feature_fraction=0.533; min_data_in_leaf=165; num_leaves=236; max_depth=13; lambda_l1=2.38; lambda_l2=2.8; min_gain_to_split=0.166; bagging_fraction=0.573 : y = 0.93 : 32.4 secs : infill_ei\n",
      "\n",
      "Tue Jul 22 20:32:28 2025 AUC 0.931149121389399\n",
      "\n",
      "[mbo] 45: num_iterations=330; learning_rate=0.0882; feature_fraction=0.499; min_data_in_leaf=350; num_leaves=37; max_depth=6; lambda_l1=3.52; lambda_l2=4.48; min_gain_to_split=0.0913; bagging_fraction=0.921 : y = 0.931 : 12.1 secs : infill_ei\n",
      "\n",
      "Tue Jul 22 20:33:06 2025 AUC 0.931238782505632\n",
      "\n",
      "[mbo] 46: num_iterations=940; learning_rate=0.0307; feature_fraction=0.327; min_data_in_leaf=267; num_leaves=208; max_depth=9; lambda_l1=2.01; lambda_l2=4.32; min_gain_to_split=0.098; bagging_fraction=0.702 : y = 0.931 : 36.9 secs : infill_ei\n",
      "\n",
      "Tue Jul 22 20:33:25 2025 AUC 0.929544383861323\n",
      "\n",
      "[mbo] 47: num_iterations=564; learning_rate=0.0492; feature_fraction=0.402; min_data_in_leaf=389; num_leaves=203; max_depth=9; lambda_l1=4.78; lambda_l2=3.62; min_gain_to_split=0.196; bagging_fraction=0.726 : y = 0.93 : 18.0 secs : infill_ei\n",
      "\n",
      "Tue Jul 22 20:34:01 2025 AUC 0.931131979024288\n",
      "\n",
      "[mbo] 48: num_iterations=770; learning_rate=0.0215; feature_fraction=0.337; min_data_in_leaf=185; num_leaves=217; max_depth=9; lambda_l1=2.68; lambda_l2=3.48; min_gain_to_split=0.0286; bagging_fraction=0.58 : y = 0.931 : 35.0 secs : infill_ei\n",
      "\n",
      "Tue Jul 22 20:34:52 2025 AUC 0.930519371917026\n",
      "\n",
      "[mbo] 49: num_iterations=986; learning_rate=0.0233; feature_fraction=0.429; min_data_in_leaf=201; num_leaves=183; max_depth=10; lambda_l1=4.46; lambda_l2=4.56; min_gain_to_split=0.0186; bagging_fraction=0.602 : y = 0.931 : 49.6 secs : infill_ei\n",
      "\n",
      "Saved the current state after iteration 50 in the file bayesiana.RDATA.\n",
      "\n",
      "Tue Jul 22 20:35:11 2025 AUC 0.930709834908676\n",
      "\n",
      "[mbo] 50: num_iterations=329; learning_rate=0.0601; feature_fraction=0.498; min_data_in_leaf=236; num_leaves=82; max_depth=13; lambda_l1=3.67; lambda_l2=4.55; min_gain_to_split=0.409; bagging_fraction=0.82 : y = 0.931 : 12.0 secs : infill_ei\n",
      "\n",
      "Saved the final state in the file bayesiana.RDATA\n",
      "\n"
     ]
    }
   ],
   "source": [
    "# inicio la optimizacion bayesiana, retomando si ya existe\n",
    "# es la celda mas lenta de todo el notebook\n",
    "\n",
    "if (!file.exists(kbayesiana)) {\n",
    "  bayesiana_salida <- mbo(obj.fun, learner= surr.km, control= ctrl)\n",
    "} else {\n",
    "  bayesiana_salida <- mboContinue(kbayesiana) # retomo en caso que ya exista\n",
    "}"
   ]
  },
  {
   "cell_type": "code",
   "execution_count": 20,
   "metadata": {
    "id": "ssk5nnMk6INK"
   },
   "outputs": [
    {
     "data": {
      "text/html": [
       "<style>\n",
       ".list-inline {list-style: none; margin:0; padding: 0}\n",
       ".list-inline>li {display: inline-block}\n",
       ".list-inline>li:not(:last-child)::after {content: \"\\00b7\"; padding: 0 .5ex}\n",
       "</style>\n",
       "<ol class=list-inline><li>'num_iterations'</li><li>'learning_rate'</li><li>'feature_fraction'</li><li>'min_data_in_leaf'</li><li>'num_leaves'</li><li>'max_depth'</li><li>'lambda_l1'</li><li>'lambda_l2'</li><li>'min_gain_to_split'</li><li>'bagging_fraction'</li><li>'y'</li><li>'dob'</li><li>'eol'</li><li>'error.message'</li><li>'exec.time'</li><li>'ei'</li><li>'error.model'</li><li>'train.time'</li><li>'prop.type'</li><li>'propose.time'</li><li>'se'</li><li>'mean'</li></ol>\n"
      ],
      "text/latex": [
       "\\begin{enumerate*}\n",
       "\\item 'num\\_iterations'\n",
       "\\item 'learning\\_rate'\n",
       "\\item 'feature\\_fraction'\n",
       "\\item 'min\\_data\\_in\\_leaf'\n",
       "\\item 'num\\_leaves'\n",
       "\\item 'max\\_depth'\n",
       "\\item 'lambda\\_l1'\n",
       "\\item 'lambda\\_l2'\n",
       "\\item 'min\\_gain\\_to\\_split'\n",
       "\\item 'bagging\\_fraction'\n",
       "\\item 'y'\n",
       "\\item 'dob'\n",
       "\\item 'eol'\n",
       "\\item 'error.message'\n",
       "\\item 'exec.time'\n",
       "\\item 'ei'\n",
       "\\item 'error.model'\n",
       "\\item 'train.time'\n",
       "\\item 'prop.type'\n",
       "\\item 'propose.time'\n",
       "\\item 'se'\n",
       "\\item 'mean'\n",
       "\\end{enumerate*}\n"
      ],
      "text/markdown": [
       "1. 'num_iterations'\n",
       "2. 'learning_rate'\n",
       "3. 'feature_fraction'\n",
       "4. 'min_data_in_leaf'\n",
       "5. 'num_leaves'\n",
       "6. 'max_depth'\n",
       "7. 'lambda_l1'\n",
       "8. 'lambda_l2'\n",
       "9. 'min_gain_to_split'\n",
       "10. 'bagging_fraction'\n",
       "11. 'y'\n",
       "12. 'dob'\n",
       "13. 'eol'\n",
       "14. 'error.message'\n",
       "15. 'exec.time'\n",
       "16. 'ei'\n",
       "17. 'error.model'\n",
       "18. 'train.time'\n",
       "19. 'prop.type'\n",
       "20. 'propose.time'\n",
       "21. 'se'\n",
       "22. 'mean'\n",
       "\n",
       "\n"
      ],
      "text/plain": [
       " [1] \"num_iterations\"    \"learning_rate\"     \"feature_fraction\" \n",
       " [4] \"min_data_in_leaf\"  \"num_leaves\"        \"max_depth\"        \n",
       " [7] \"lambda_l1\"         \"lambda_l2\"         \"min_gain_to_split\"\n",
       "[10] \"bagging_fraction\"  \"y\"                 \"dob\"              \n",
       "[13] \"eol\"               \"error.message\"     \"exec.time\"        \n",
       "[16] \"ei\"                \"error.model\"       \"train.time\"       \n",
       "[19] \"prop.type\"         \"propose.time\"      \"se\"               \n",
       "[22] \"mean\"             "
      ]
     },
     "metadata": {},
     "output_type": "display_data"
    }
   ],
   "source": [
    "\n",
    "tb_bayesiana <- as.data.table(bayesiana_salida$opt.path)\n",
    "colnames( tb_bayesiana)"
   ]
  },
  {
   "cell_type": "code",
   "execution_count": 21,
   "metadata": {
    "id": "u4zq-vknhjGc"
   },
   "outputs": [],
   "source": [
    "# almaceno los resultados de la Bayesian Optimization\n",
    "# y capturo los mejores hiperparametros encontrados\n",
    "\n",
    "tb_bayesiana <- as.data.table(bayesiana_salida$opt.path)\n",
    "\n",
    "tb_bayesiana[, iter := .I]\n",
    "\n",
    "# ordeno en forma descendente por AUC = y\n",
    "setorder(tb_bayesiana, -y)\n",
    "\n",
    "# grabo para eventualmente poder utilizarlos en OTRA corrida\n",
    "fwrite( tb_bayesiana,\n",
    "  file= \"BO_log.txt\",\n",
    "  sep= \"\\t\"\n",
    ")\n",
    "\n",
    "# los mejores hiperparámetros son los que quedaron en el registro 1 de la tabla\n",
    "PARAM$out$lgbm$mejores_hiperparametros <- tb_bayesiana[\n",
    "  1, # el primero es el de mejor AUC\n",
    "  setdiff(colnames(tb_bayesiana),\n",
    "    c(\"y\",\"dob\",\"eol\",\"error.message\",\"exec.time\",\"ei\",\"error.model\",\n",
    "      \"train.time\",\"prop.type\",\"propose.time\",\"se\",\"mean\",\"iter\")),\n",
    "  with= FALSE\n",
    "]\n",
    "\n",
    "\n",
    "PARAM$out$lgbm$y <- tb_bayesiana[1, y]\n"
   ]
  },
  {
   "cell_type": "code",
   "execution_count": 22,
   "metadata": {
    "id": "E8v2eA427N8e"
   },
   "outputs": [],
   "source": [
    "write_yaml( PARAM, file=\"PARAM.yml\")"
   ]
  },
  {
   "cell_type": "code",
   "execution_count": 23,
   "metadata": {
    "id": "iBTWexVU7PGC"
   },
   "outputs": [
    {
     "name": "stdout",
     "output_type": "stream",
     "text": [
      "   num_iterations learning_rate feature_fraction min_data_in_leaf num_leaves\n",
      "            <int>         <num>            <num>            <int>      <int>\n",
      "1:            861    0.01848408         0.374541              343        207\n",
      "   max_depth lambda_l1 lambda_l2 min_gain_to_split bagging_fraction\n",
      "       <int>     <num>     <num>             <num>            <num>\n",
      "1:        11  4.334406  3.579943        0.07635391        0.8923526\n",
      "[1] 0.9314362\n"
     ]
    }
   ],
   "source": [
    "print(PARAM$out$lgbm$mejores_hiperparametros)\n",
    "print(PARAM$out$lgbm$y)"
   ]
  },
  {
   "cell_type": "markdown",
   "metadata": {
    "id": "TKsVZmAnhwX-"
   },
   "source": [
    "## 2.3  Produccion"
   ]
  },
  {
   "cell_type": "markdown",
   "metadata": {
    "id": "RQ_C33Tr5B_9"
   },
   "source": [
    "### Final Training\n",
    "Construyo el modelo final, que es uno solo, no hace ningun tipo de particion < training, validation, testing>]"
   ]
  },
  {
   "cell_type": "code",
   "execution_count": 24,
   "metadata": {
    "id": "eDqfyA14hzwv"
   },
   "outputs": [],
   "source": [
    "setwd(\"/content/buckets/b1/exp\")\n",
    "experimento <- paste0(\"exp\", PARAM$experimento)\n",
    "dir.create(experimento, showWarnings= FALSE)\n",
    "setwd( paste0(\"/content/buckets/b1/exp/\", experimento ))"
   ]
  },
  {
   "cell_type": "markdown",
   "metadata": {
    "id": "8qFmFivf5Iet"
   },
   "source": [
    "#### Final Training Dataset\n",
    "\n",
    "Aqui esta la gran decision de en qué meses hago el Final Training\n",
    "<br> debo utilizar los mejores hiperparámetros que encontré en la optimización bayesiana"
   ]
  },
  {
   "cell_type": "code",
   "execution_count": 25,
   "metadata": {
    "id": "lg5WVZncvc7H"
   },
   "outputs": [],
   "source": [
    "# clase01\n",
    "dataset[, clase01 := ifelse(clase_ternaria %in% c(\"BAJA+1\", \"BAJA+2\"), 1L, 0L)]"
   ]
  },
  {
   "cell_type": "code",
   "execution_count": 26,
   "metadata": {
    "id": "yc9QzXREv0xf"
   },
   "outputs": [],
   "source": [
    "dataset_train <- dataset[foto_mes %in% c(202107)]"
   ]
  },
  {
   "cell_type": "code",
   "execution_count": 27,
   "metadata": {
    "id": "thjdqEBLuvNt"
   },
   "outputs": [],
   "source": [
    "# dejo los datos en el formato que necesita LightGBM\n",
    "\n",
    "dtrain <- lgb.Dataset(\n",
    "  data= data.matrix(dataset_train[, campos_buenos, with= FALSE]),\n",
    "  label= dataset_train[, clase01]\n",
    ")"
   ]
  },
  {
   "cell_type": "markdown",
   "metadata": {
    "id": "VNUa-WSz5Oqu"
   },
   "source": [
    "#### Final Training Hyperparameters"
   ]
  },
  {
   "cell_type": "code",
   "execution_count": 28,
   "metadata": {
    "id": "FgCcvBfEwImu"
   },
   "outputs": [
    {
     "data": {
      "text/html": [
       "<dl>\n",
       "\t<dt>$boosting</dt>\n",
       "\t\t<dd>'gbdt'</dd>\n",
       "\t<dt>$objective</dt>\n",
       "\t\t<dd>'binary'</dd>\n",
       "\t<dt>$metric</dt>\n",
       "\t\t<dd>'auc'</dd>\n",
       "\t<dt>$first_metric_only</dt>\n",
       "\t\t<dd>FALSE</dd>\n",
       "\t<dt>$boost_from_average</dt>\n",
       "\t\t<dd>TRUE</dd>\n",
       "\t<dt>$feature_pre_filter</dt>\n",
       "\t\t<dd>FALSE</dd>\n",
       "\t<dt>$force_row_wise</dt>\n",
       "\t\t<dd>TRUE</dd>\n",
       "\t<dt>$verbosity</dt>\n",
       "\t\t<dd>-100</dd>\n",
       "\t<dt>$seed</dt>\n",
       "\t\t<dd>100129</dd>\n",
       "\t<dt>$max_depth</dt>\n",
       "\t\t<dd>11</dd>\n",
       "\t<dt>$min_gain_to_split</dt>\n",
       "\t\t<dd>0.0763539093465533</dd>\n",
       "\t<dt>$min_sum_hessian_in_leaf</dt>\n",
       "\t\t<dd>0.001</dd>\n",
       "\t<dt>$lambda_l1</dt>\n",
       "\t\t<dd>4.33440619253468</dd>\n",
       "\t<dt>$lambda_l2</dt>\n",
       "\t\t<dd>3.57994274811219</dd>\n",
       "\t<dt>$max_bin</dt>\n",
       "\t\t<dd>31</dd>\n",
       "\t<dt>$bagging_fraction</dt>\n",
       "\t\t<dd>0.892352552140949</dd>\n",
       "\t<dt>$pos_bagging_fraction</dt>\n",
       "\t\t<dd>1</dd>\n",
       "\t<dt>$neg_bagging_fraction</dt>\n",
       "\t\t<dd>1</dd>\n",
       "\t<dt>$is_unbalance</dt>\n",
       "\t\t<dd>FALSE</dd>\n",
       "\t<dt>$scale_pos_weight</dt>\n",
       "\t\t<dd>1</dd>\n",
       "\t<dt>$drop_rate</dt>\n",
       "\t\t<dd>0.1</dd>\n",
       "\t<dt>$max_drop</dt>\n",
       "\t\t<dd>50</dd>\n",
       "\t<dt>$skip_drop</dt>\n",
       "\t\t<dd>0.5</dd>\n",
       "\t<dt>$extra_trees</dt>\n",
       "\t\t<dd>FALSE</dd>\n",
       "\t<dt>$num_iterations</dt>\n",
       "\t\t<dd>861</dd>\n",
       "\t<dt>$learning_rate</dt>\n",
       "\t\t<dd>0.0184840780218678</dd>\n",
       "\t<dt>$feature_fraction</dt>\n",
       "\t\t<dd>0.374540972222453</dd>\n",
       "\t<dt>$num_leaves</dt>\n",
       "\t\t<dd>207</dd>\n",
       "\t<dt>$min_data_in_leaf</dt>\n",
       "\t\t<dd>343</dd>\n",
       "</dl>\n"
      ],
      "text/latex": [
       "\\begin{description}\n",
       "\\item[\\$boosting] 'gbdt'\n",
       "\\item[\\$objective] 'binary'\n",
       "\\item[\\$metric] 'auc'\n",
       "\\item[\\$first\\_metric\\_only] FALSE\n",
       "\\item[\\$boost\\_from\\_average] TRUE\n",
       "\\item[\\$feature\\_pre\\_filter] FALSE\n",
       "\\item[\\$force\\_row\\_wise] TRUE\n",
       "\\item[\\$verbosity] -100\n",
       "\\item[\\$seed] 100129\n",
       "\\item[\\$max\\_depth] 11\n",
       "\\item[\\$min\\_gain\\_to\\_split] 0.0763539093465533\n",
       "\\item[\\$min\\_sum\\_hessian\\_in\\_leaf] 0.001\n",
       "\\item[\\$lambda\\_l1] 4.33440619253468\n",
       "\\item[\\$lambda\\_l2] 3.57994274811219\n",
       "\\item[\\$max\\_bin] 31\n",
       "\\item[\\$bagging\\_fraction] 0.892352552140949\n",
       "\\item[\\$pos\\_bagging\\_fraction] 1\n",
       "\\item[\\$neg\\_bagging\\_fraction] 1\n",
       "\\item[\\$is\\_unbalance] FALSE\n",
       "\\item[\\$scale\\_pos\\_weight] 1\n",
       "\\item[\\$drop\\_rate] 0.1\n",
       "\\item[\\$max\\_drop] 50\n",
       "\\item[\\$skip\\_drop] 0.5\n",
       "\\item[\\$extra\\_trees] FALSE\n",
       "\\item[\\$num\\_iterations] 861\n",
       "\\item[\\$learning\\_rate] 0.0184840780218678\n",
       "\\item[\\$feature\\_fraction] 0.374540972222453\n",
       "\\item[\\$num\\_leaves] 207\n",
       "\\item[\\$min\\_data\\_in\\_leaf] 343\n",
       "\\end{description}\n"
      ],
      "text/markdown": [
       "$boosting\n",
       ":   'gbdt'\n",
       "$objective\n",
       ":   'binary'\n",
       "$metric\n",
       ":   'auc'\n",
       "$first_metric_only\n",
       ":   FALSE\n",
       "$boost_from_average\n",
       ":   TRUE\n",
       "$feature_pre_filter\n",
       ":   FALSE\n",
       "$force_row_wise\n",
       ":   TRUE\n",
       "$verbosity\n",
       ":   -100\n",
       "$seed\n",
       ":   100129\n",
       "$max_depth\n",
       ":   11\n",
       "$min_gain_to_split\n",
       ":   0.0763539093465533\n",
       "$min_sum_hessian_in_leaf\n",
       ":   0.001\n",
       "$lambda_l1\n",
       ":   4.33440619253468\n",
       "$lambda_l2\n",
       ":   3.57994274811219\n",
       "$max_bin\n",
       ":   31\n",
       "$bagging_fraction\n",
       ":   0.892352552140949\n",
       "$pos_bagging_fraction\n",
       ":   1\n",
       "$neg_bagging_fraction\n",
       ":   1\n",
       "$is_unbalance\n",
       ":   FALSE\n",
       "$scale_pos_weight\n",
       ":   1\n",
       "$drop_rate\n",
       ":   0.1\n",
       "$max_drop\n",
       ":   50\n",
       "$skip_drop\n",
       ":   0.5\n",
       "$extra_trees\n",
       ":   FALSE\n",
       "$num_iterations\n",
       ":   861\n",
       "$learning_rate\n",
       ":   0.0184840780218678\n",
       "$feature_fraction\n",
       ":   0.374540972222453\n",
       "$num_leaves\n",
       ":   207\n",
       "$min_data_in_leaf\n",
       ":   343\n",
       "\n",
       "\n"
      ],
      "text/plain": [
       "$boosting\n",
       "[1] \"gbdt\"\n",
       "\n",
       "$objective\n",
       "[1] \"binary\"\n",
       "\n",
       "$metric\n",
       "[1] \"auc\"\n",
       "\n",
       "$first_metric_only\n",
       "[1] FALSE\n",
       "\n",
       "$boost_from_average\n",
       "[1] TRUE\n",
       "\n",
       "$feature_pre_filter\n",
       "[1] FALSE\n",
       "\n",
       "$force_row_wise\n",
       "[1] TRUE\n",
       "\n",
       "$verbosity\n",
       "[1] -100\n",
       "\n",
       "$seed\n",
       "[1] 100129\n",
       "\n",
       "$max_depth\n",
       "[1] 11\n",
       "\n",
       "$min_gain_to_split\n",
       "[1] 0.07635391\n",
       "\n",
       "$min_sum_hessian_in_leaf\n",
       "[1] 0.001\n",
       "\n",
       "$lambda_l1\n",
       "[1] 4.334406\n",
       "\n",
       "$lambda_l2\n",
       "[1] 3.579943\n",
       "\n",
       "$max_bin\n",
       "[1] 31\n",
       "\n",
       "$bagging_fraction\n",
       "[1] 0.8923526\n",
       "\n",
       "$pos_bagging_fraction\n",
       "[1] 1\n",
       "\n",
       "$neg_bagging_fraction\n",
       "[1] 1\n",
       "\n",
       "$is_unbalance\n",
       "[1] FALSE\n",
       "\n",
       "$scale_pos_weight\n",
       "[1] 1\n",
       "\n",
       "$drop_rate\n",
       "[1] 0.1\n",
       "\n",
       "$max_drop\n",
       "[1] 50\n",
       "\n",
       "$skip_drop\n",
       "[1] 0.5\n",
       "\n",
       "$extra_trees\n",
       "[1] FALSE\n",
       "\n",
       "$num_iterations\n",
       "[1] 861\n",
       "\n",
       "$learning_rate\n",
       "[1] 0.01848408\n",
       "\n",
       "$feature_fraction\n",
       "[1] 0.374541\n",
       "\n",
       "$num_leaves\n",
       "[1] 207\n",
       "\n",
       "$min_data_in_leaf\n",
       "[1] 343\n"
      ]
     },
     "metadata": {},
     "output_type": "display_data"
    }
   ],
   "source": [
    "param_final <- modifyList(PARAM$lgbm$param_fijos,\n",
    "  PARAM$out$lgbm$mejores_hiperparametros)\n",
    "\n",
    "param_final"
   ]
  },
  {
   "cell_type": "markdown",
   "metadata": {
    "id": "TZIYn4l95TBH"
   },
   "source": [
    "#### Training\n",
    "Genero el modelo final, siempre sobre TODOS los datos de  final_train, sin hacer ningun tipo de undersampling de la clase mayoritaria"
   ]
  },
  {
   "cell_type": "code",
   "execution_count": 29,
   "metadata": {
    "id": "vPLsd4mMRe4u"
   },
   "outputs": [],
   "source": [
    "# este punto es muy SUTIL  y será revisado en la Clase 05\n",
    "\n",
    "param_normalizado <- copy(param_final)\n",
    "param_normalizado$min_data_in_leaf <-  param_final$min_data_in_leaf / PARAM$trainingstrategy$undersampling"
   ]
  },
  {
   "cell_type": "code",
   "execution_count": 30,
   "metadata": {
    "id": "WRI_-taRwOXO"
   },
   "outputs": [],
   "source": [
    "  # entreno LightGBM\n",
    "\n",
    "  modelo_final <- lgb.train(\n",
    "    data= dtrain,\n",
    "    param= param_normalizado\n",
    "  )"
   ]
  },
  {
   "cell_type": "code",
   "execution_count": 31,
   "metadata": {
    "id": "_bkhnCvj0g3Q"
   },
   "outputs": [],
   "source": [
    "# ahora imprimo la importancia de variables\n",
    "\n",
    "tb_importancia <- as.data.table(lgb.importance(modelo_final))\n",
    "archivo_importancia <- \"impo.txt\"\n",
    "\n",
    "fwrite(tb_importancia,\n",
    "  file= archivo_importancia,\n",
    "  sep= \"\\t\"\n",
    ")"
   ]
  },
  {
   "cell_type": "code",
   "execution_count": 32,
   "metadata": {
    "id": "lZ3sLmbh0kFj"
   },
   "outputs": [],
   "source": [
    "# grabo a disco el modelo en un formato para seres humanos ... ponele ...\n",
    "\n",
    "lgb.save(modelo_final, \"modelo.txt\" )"
   ]
  },
  {
   "cell_type": "markdown",
   "metadata": {
    "id": "VEtp2--t5Ymg"
   },
   "source": [
    "### Scoring"
   ]
  },
  {
   "cell_type": "markdown",
   "metadata": {
    "id": "hI5008Mj5ZdI"
   },
   "source": [
    "Aplico el modelo final a los datos del futuro"
   ]
  },
  {
   "cell_type": "code",
   "execution_count": 33,
   "metadata": {
    "id": "PimBY3N_0ryP"
   },
   "outputs": [],
   "source": [
    "# aplico el modelo a los datos sin clase\n",
    "dfuture <- dataset[foto_mes == 202109]\n",
    "\n",
    "# aplico el modelo a los datos nuevos\n",
    "prediccion <- predict(\n",
    "  modelo_final,\n",
    "  data.matrix(dfuture[, campos_buenos, with= FALSE])\n",
    ")"
   ]
  },
  {
   "cell_type": "markdown",
   "metadata": {
    "id": "D26rNRh55gpw"
   },
   "source": [
    "#### Tabla Prediccion"
   ]
  },
  {
   "cell_type": "code",
   "execution_count": 34,
   "metadata": {
    "id": "RJwg7LHd11yu"
   },
   "outputs": [],
   "source": [
    "# tabla de prediccion\n",
    "\n",
    "tb_prediccion <- dfuture[, list(numero_de_cliente)]\n",
    "tb_prediccion[, prob := prediccion ]\n",
    "\n",
    "# grabo las probabilidad del modelo\n",
    "fwrite(tb_prediccion,\n",
    "  file= \"prediccion.txt\",\n",
    "  sep= \"\\t\"\n",
    ")"
   ]
  },
  {
   "cell_type": "markdown",
   "metadata": {
    "id": "jOt4eG_55ltv"
   },
   "source": [
    "Kaggle Competition Submit"
   ]
  },
  {
   "cell_type": "code",
   "execution_count": 35,
   "metadata": {
    "id": "gWW3tatE12je"
   },
   "outputs": [
    {
     "name": "stdout",
     "output_type": "stream",
     "text": [
      "Successfully submitted to Data Mining, Analista Sr 2025A \n",
      "Successfully submitted to Data Mining, Analista Sr 2025A \n",
      "Successfully submitted to Data Mining, Analista Sr 2025A \n",
      "Successfully submitted to Data Mining, Analista Sr 2025A \n",
      "Successfully submitted to Data Mining, Analista Sr 2025A \n"
     ]
    }
   ],
   "source": [
    "# genero archivos con los  \"envios\" mejores\n",
    "# suba TODOS los archivos a Kaggle\n",
    "\n",
    "# ordeno por probabilidad descendente\n",
    "setorder(tb_prediccion, -prob)\n",
    "\n",
    "dir.create(\"kaggle\")\n",
    "\n",
    "for (envios in PARAM$kaggle$cortes) {\n",
    "\n",
    "  tb_prediccion[, Predicted := 0L] # seteo inicial a 0\n",
    "  tb_prediccion[1:envios, Predicted := 1L] # marclo los primeros\n",
    "\n",
    "  archivo_kaggle <- paste0(\"./kaggle/KA\", PARAM$experimento, \"_\", envios, \".csv\")\n",
    "\n",
    "  # grabo el archivo\n",
    "  fwrite(tb_prediccion[, list(numero_de_cliente, Predicted)],\n",
    "    file= archivo_kaggle,\n",
    "    sep= \",\"\n",
    "  )\n",
    "\n",
    "  # subida a Kaggle, armo la linea de comando\n",
    "  comando <- \"kaggle competitions submit\"\n",
    "  competencia <- paste(\"-c\", PARAM$kaggle$competencia)\n",
    "  arch <- paste( \"-f\", archivo_kaggle)\n",
    "\n",
    "  mensaje <- paste0(\"-m 'envios=\", envios,\n",
    "  \"  semilla=\", PARAM$semilla_primigenia,\n",
    "    \"'\" )\n",
    "\n",
    "  linea <- paste( comando, competencia, arch, mensaje)\n",
    "\n",
    "  salida <- system(linea, intern=TRUE) # el submit a Kaggle\n",
    "  cat(salida, \"\\n\")\n",
    "}"
   ]
  },
  {
   "cell_type": "code",
   "execution_count": null,
   "metadata": {
    "id": "B9tB2X4439Hg"
   },
   "outputs": [],
   "source": [
    "write_yaml( PARAM, file=\"PARAM.yml\")"
   ]
  },
  {
   "cell_type": "code",
   "execution_count": null,
   "metadata": {
    "id": "9zA_W25c15DP"
   },
   "outputs": [],
   "source": [
    "format(Sys.time(), \"%a %b %d %X %Y\")"
   ]
  },
  {
   "cell_type": "markdown",
   "metadata": {
    "id": "UdVZucdLHzZ0"
   },
   "source": [
    "Finalmente usted deberá cargar el resultado de su corrida en la Google Sheet Colaborativa,  hoja **TareaHogar04**\n",
    "<br> Siéntase libre de agregar las columnas que hagan falta a la planilla"
   ]
  },
  {
   "cell_type": "code",
   "execution_count": null,
   "metadata": {
    "id": "WMHh7uNVIJkT"
   },
   "outputs": [],
   "source": []
  }
 ],
 "metadata": {
  "colab": {
   "provenance": []
  },
  "kernelspec": {
   "display_name": "R",
   "language": "R",
   "name": "ir"
  },
  "language_info": {
   "codemirror_mode": "r",
   "file_extension": ".r",
   "mimetype": "text/x-r-source",
   "name": "R",
   "pygments_lexer": "r",
   "version": "4.4.3"
  }
 },
 "nbformat": 4,
 "nbformat_minor": 4
}
