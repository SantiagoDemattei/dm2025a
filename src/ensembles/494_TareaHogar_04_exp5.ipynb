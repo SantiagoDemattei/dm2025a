{
 "cells": [
  {
   "cell_type": "markdown",
   "metadata": {
    "id": "0cEmzeUKFkPh"
   },
   "source": [
    "# Tarea para el Hogar 04"
   ]
  },
  {
   "cell_type": "markdown",
   "metadata": {
    "id": "nSICPpyTGQmC"
   },
   "source": [
    "Esta Tarea para el Hogar 02 se entrega el final de la cuarta clase\n",
    "<br> se espera de usted que intente avanzar con los desafios propuestos y que los traiga terminados para la Clase 05 que será el viernes 01-agosto"
   ]
  },
  {
   "cell_type": "markdown",
   "metadata": {
    "id": "DenyKXkiJ5JN"
   },
   "source": [
    "##  1. Cazatalentos"
   ]
  },
  {
   "cell_type": "markdown",
   "metadata": {
    "id": "l-K2_ZsZGrVD"
   },
   "source": [
    "En la Clase 03 nos hemos enfrentado a  \"La Maldicion del Ganandor\",  elegir el modelo con el mejor puntaje simple no suele ser la mejor estrategia.\n",
    "<br> Lea y ejecute el notebook  **src/CazaTalentos/CazaTalentos.ipynb**\n",
    "<br> en caso de interesarle, participe del Desafío Ordenamiento  que vence el sábado 02 de agosto a las 19:00"
   ]
  },
  {
   "cell_type": "markdown",
   "metadata": {
    "id": "K9GkTOk5J9t3"
   },
   "source": [
    "## 2. Hiperparámetros del LightGBM"
   ]
  },
  {
   "cell_type": "markdown",
   "metadata": {
    "id": "VmEFy0ukKL5T"
   },
   "source": [
    "Los objetivos de esta tarea son:\n",
    "\n",
    "\n",
    "*   Aumentar la rentabilidad de la campaña de marketing de retención proactiva de clientes.\n",
    "*   Generar un mejor modelo optimizando sus hiperparámetros\n",
    "*   Conceptual : investigar los mas relevantes hiperparámetros de LightGBM\n",
    "*   Familiarizarse con la Bayesian Optimization, sus largos tiempos de corrida y opciones para reducirlos\n",
    "*   Familiarizarse con el uso de máquinas virtuales de Google Colab\n",
    "*   Ver un pipeline completo de optimización de hiperparámetros y puesta en producción"
   ]
  },
  {
   "cell_type": "markdown",
   "metadata": {
    "id": "5yvlS6JQLRMd"
   },
   "source": [
    "LightGBM cuenta con mas de 60 hiperparámetros, siendo posible utilizar 40 al mismo tiempo, aunque no razonable.\n",
    "<br> La documentación oficial de los hiperparámetros de LightGBM es  https://lightgbm.readthedocs.io/en/latest/Parameters.html#core-parameters\n"
   ]
  },
  {
   "cell_type": "markdown",
   "metadata": {
    "id": "eydI4YNAsFaf"
   },
   "source": [
    "Se lo alerta sobre que una Optimizacion Bayesiana lleva varias horas de corrida, y usted deberá correr VARIAS optimizaciones para descubrir cuales parámetros conviene optimizar.\n",
    "<br> A pesar que la próxima clase es recien en viernes 01 de agosto, inicie la tarea con tiempo, aprenda a planificar estratégicamente sus corridas como un@ científ@  de datos."
   ]
  },
  {
   "cell_type": "markdown",
   "metadata": {
    "id": "RzU4S0SeMcpp"
   },
   "source": [
    "Es necesario investigar cuales son los hiperparámetros de LightGBM que vale la pena optimizar en una Bayesian Optimization, ya que los realmente utiles son apenas un reducido subconjunto.\n",
    "<br>Usted deberá investigar cuales son los hiperparámetros mas relevantes de LightGBM, su primer alternativa es preguntándole a su amigo con capacidades especiales ChatGPT o sus endogámicos familiares Claude, DeepSeek, Gemini, Grok, etc\n",
    "<br> La segunda alternativa es la propia documentación de LightGBM  https://lightgbm.readthedocs.io/en/latest/Parameters-Tuning.html\n"
   ]
  },
  {
   "cell_type": "markdown",
   "metadata": {
    "id": "LNptUgI_NWWG"
   },
   "source": [
    "Adicionalmente podra buscar información como la que proveen esta diminuta muestra aleatoria de artículos ligeros:\n",
    "*  https://medium.com/@sarahzouinina/a-deep-dive-into-lightgbm-how-to-choose-and-tune-parameters-7c584945842e\n",
    "*  https://www.kaggle.com/code/somang1418/tuning-hyperparameters-under-10-minutes-lgbm\n",
    "*  https://towardsdatascience.com/beginners-guide-to-the-must-know-lightgbm-hyperparameters-a0005a812702/\n",
    "\n",
    "\n",
    "<br>  La muestra anterior se brinda a modo de ejemplo, usted deberá buscar muuuuchas  fuentes adicionales de información\n",
    "<br> Tenga presente que LightGBM es el estado del arte en modelado predictivo para datasets estructurado, que son el 90% del trabajo del 95% de los Data Scientists en Argentina."
   ]
  },
  {
   "cell_type": "markdown",
   "metadata": {
    "id": "WpUThBojODyK"
   },
   "source": [
    "El desafío de esta tarea es:\n",
    "* Qué hiperparparámetros conviene optimizar?  Las recomendaciones de los artículos ligeros es siempre sensata?  Sus autores realmente hicieron experimentos o son siemplemente escritores de entretenimiento carente de base científica?\n",
    "* Elegidos los hiperparámetros, cual es el  <desde, hasta> que se debe utilizar en la Bayesian Optimization ?\n",
    "* Realmente vale la pena optimizar 10 o 16 hiperparámetros al mismo tiempo ?  No resulta contraproducente una búsqueda en un espacio de tal alta dimensionalidad ?"
   ]
  },
  {
   "cell_type": "markdown",
   "metadata": {
    "id": "PX0qg_c0yqob"
   },
   "source": [
    "#### 2.1  Seteo del ambiente en Google Colab"
   ]
  },
  {
   "cell_type": "markdown",
   "metadata": {
    "id": "NGY7H9xza7Zr"
   },
   "source": [
    "Esta parte se debe correr con el runtime en Python3\n",
    "<br>Ir al menu, Runtime -> Change Runtime Type -> Runtime type ->  **Python 3**"
   ]
  },
  {
   "cell_type": "markdown",
   "metadata": {
    "id": "7PupIBNba7Zr"
   },
   "source": [
    "Conectar la virtual machine donde esta corriendo Google Colab con el  Google Drive, para poder tener persistencia de archivos"
   ]
  },
  {
   "cell_type": "code",
   "execution_count": null,
   "metadata": {
    "id": "9LpZCst5a7Zs"
   },
   "outputs": [],
   "source": [
    "# primero establecer el Runtime de Python 3\n",
    "from google.colab import drive\n",
    "drive.mount('/content/.drive')"
   ]
  },
  {
   "cell_type": "markdown",
   "metadata": {
    "id": "JYC_F-wla7Zs"
   },
   "source": [
    "Para correr la siguiente celda es fundamental en Arranque en Frio haber copiado el archivo kaggle.json al Google Drive, en la carpeta indicada en el instructivo\n",
    "\n",
    "<br>los siguientes comando estan en shell script de Linux\n",
    "*   Crear las carpetas en el Google Drive\n",
    "*   \"instalar\" el archivo kaggle.json desde el Google Drive a la virtual machine para que pueda ser utilizado por la libreria  kaggle de Python\n",
    "*   Bajar el  **dataset_pequeno**  al  Google Drive  y tambien al disco local de la virtual machine que esta corriendo Google Colab\n",
    "\n"
   ]
  },
  {
   "cell_type": "code",
   "execution_count": null,
   "metadata": {
    "id": "XWLelftXa7Zt"
   },
   "outputs": [],
   "source": [
    "%%shell\n",
    "\n",
    "mkdir -p \"/content/.drive/My Drive/dm\"\n",
    "mkdir -p \"/content/buckets\"\n",
    "ln -s \"/content/.drive/My Drive/dm\" /content/buckets/b1\n",
    "\n",
    "mkdir -p ~/.kaggle\n",
    "cp /content/buckets/b1/kaggle/kaggle.json  ~/.kaggle\n",
    "chmod 600 ~/.kaggle/kaggle.json\n",
    "\n",
    "\n",
    "mkdir -p /content/buckets/b1/exp\n",
    "mkdir -p /content/buckets/b1/datasets\n",
    "mkdir -p /content/datasets\n",
    "\n",
    "\n",
    "\n",
    "archivo_origen=\"https://storage.googleapis.com/open-courses/itba2025-8d0a/dataset_pequeno.csv\"\n",
    "archivo_destino=\"/content/datasets/dataset_pequeno.csv\"\n",
    "archivo_destino_bucket=\"/content/buckets/b1/datasets/dataset_pequeno.csv\"\n",
    "\n",
    "if ! test -f $archivo_destino_bucket; then\n",
    "  wget  $archivo_origen  -O $archivo_destino_bucket\n",
    "fi\n",
    "\n",
    "\n",
    "if ! test -f $archivo_destino; then\n",
    "  cp  $archivo_destino_bucket  $archivo_destino\n",
    "fi\n"
   ]
  },
  {
   "cell_type": "markdown",
   "metadata": {
    "id": "oSKhZRToy2F7"
   },
   "source": [
    "### 2.2 Optimizacion Hiperparámetros"
   ]
  },
  {
   "cell_type": "markdown",
   "metadata": {
    "id": "2kwPpHAtSmix"
   },
   "source": [
    "Esta parte se debe correr con el runtime en lenguaje R Ir al menu, Runtime -> Change Runtime Type -> Runtime type -> R"
   ]
  },
  {
   "cell_type": "markdown",
   "metadata": {
    "id": "xp4-Bj3aYI8d"
   },
   "source": [
    "### 2.2.1 Inicio"
   ]
  },
  {
   "cell_type": "markdown",
   "metadata": {
    "id": "zy8YTZfESxeJ"
   },
   "source": [
    "limpio el ambiente de R"
   ]
  },
  {
   "cell_type": "code",
   "execution_count": 1,
   "metadata": {
    "id": "gBq__iAdQliq"
   },
   "outputs": [
    {
     "data": {
      "text/html": [
       "'Wed Jul 23 20:58:55 2025'"
      ],
      "text/latex": [
       "'Wed Jul 23 20:58:55 2025'"
      ],
      "text/markdown": [
       "'Wed Jul 23 20:58:55 2025'"
      ],
      "text/plain": [
       "[1] \"Wed Jul 23 20:58:55 2025\""
      ]
     },
     "metadata": {},
     "output_type": "display_data"
    }
   ],
   "source": [
    "format(Sys.time(), \"%a %b %d %X %Y\")"
   ]
  },
  {
   "cell_type": "code",
   "execution_count": 2,
   "metadata": {
    "id": "7rdVrBojS1IV"
   },
   "outputs": [
    {
     "data": {
      "text/html": [
       "<table class=\"dataframe\">\n",
       "<caption>A matrix: 2 × 6 of type dbl</caption>\n",
       "<thead>\n",
       "\t<tr><th></th><th scope=col>used</th><th scope=col>(Mb)</th><th scope=col>gc trigger</th><th scope=col>(Mb)</th><th scope=col>max used</th><th scope=col>(Mb)</th></tr>\n",
       "</thead>\n",
       "<tbody>\n",
       "\t<tr><th scope=row>Ncells</th><td> 656930</td><td>35.1</td><td>1439380</td><td>76.9</td><td>1431360</td><td>76.5</td></tr>\n",
       "\t<tr><th scope=row>Vcells</th><td>1224911</td><td> 9.4</td><td>8388608</td><td>64.0</td><td>1924961</td><td>14.7</td></tr>\n",
       "</tbody>\n",
       "</table>\n"
      ],
      "text/latex": [
       "A matrix: 2 × 6 of type dbl\n",
       "\\begin{tabular}{r|llllll}\n",
       "  & used & (Mb) & gc trigger & (Mb) & max used & (Mb)\\\\\n",
       "\\hline\n",
       "\tNcells &  656930 & 35.1 & 1439380 & 76.9 & 1431360 & 76.5\\\\\n",
       "\tVcells & 1224911 &  9.4 & 8388608 & 64.0 & 1924961 & 14.7\\\\\n",
       "\\end{tabular}\n"
      ],
      "text/markdown": [
       "\n",
       "A matrix: 2 × 6 of type dbl\n",
       "\n",
       "| <!--/--> | used | (Mb) | gc trigger | (Mb) | max used | (Mb) |\n",
       "|---|---|---|---|---|---|---|\n",
       "| Ncells |  656930 | 35.1 | 1439380 | 76.9 | 1431360 | 76.5 |\n",
       "| Vcells | 1224911 |  9.4 | 8388608 | 64.0 | 1924961 | 14.7 |\n",
       "\n"
      ],
      "text/plain": [
       "       used    (Mb) gc trigger (Mb) max used (Mb)\n",
       "Ncells  656930 35.1 1439380    76.9 1431360  76.5\n",
       "Vcells 1224911  9.4 8388608    64.0 1924961  14.7"
      ]
     },
     "metadata": {},
     "output_type": "display_data"
    }
   ],
   "source": [
    "# limpio la memoria\n",
    "rm(list=ls(all.names=TRUE)) # remove all objects\n",
    "gc(full=TRUE, verbose=FALSE) # garbage collection"
   ]
  },
  {
   "cell_type": "markdown",
   "metadata": {
    "id": "kuPfQ7ksjwW3"
   },
   "source": [
    "### 2.2.2 Carga de Librerias"
   ]
  },
  {
   "cell_type": "code",
   "execution_count": 3,
   "metadata": {
    "id": "lVyxLaJ1j1J_"
   },
   "outputs": [
    {
     "name": "stderr",
     "output_type": "stream",
     "text": [
      "Loading required package: data.table\n",
      "\n",
      "Loading required package: parallel\n",
      "\n",
      "Loading required package: primes\n",
      "\n",
      "Loading required package: rlist\n",
      "\n",
      "Loading required package: yaml\n",
      "\n",
      "Loading required package: lightgbm\n",
      "\n",
      "Loading required package: DiceKriging\n",
      "\n",
      "Loading required package: mlrMBO\n",
      "\n",
      "Loading required package: mlr\n",
      "\n",
      "Loading required package: ParamHelpers\n",
      "\n",
      "Loading required package: smoof\n",
      "\n",
      "Loading required package: checkmate\n",
      "\n",
      "\n",
      "Attaching package: ‘checkmate’\n",
      "\n",
      "\n",
      "The following object is masked from ‘package:DiceKriging’:\n",
      "\n",
      "    checkNames\n",
      "\n",
      "\n"
     ]
    }
   ],
   "source": [
    "# cargo las librerias que necesito\n",
    "require(\"data.table\")\n",
    "require(\"parallel\")\n",
    "\n",
    "if( !require(\"primes\") ) install.packages(\"primes\")\n",
    "require(\"primes\")\n",
    "\n",
    "if( !require(\"utils\") ) install.packages(\"utils\")\n",
    "require(\"utils\")\n",
    "\n",
    "if( !require(\"rlist\") ) install.packages(\"rlist\")\n",
    "require(\"rlist\")\n",
    "\n",
    "if( !require(\"yaml\")) install.packages(\"yaml\")\n",
    "require(\"yaml\")\n",
    "\n",
    "if( !require(\"lightgbm\") ) install.packages(\"lightgbm\")\n",
    "require(\"lightgbm\")\n",
    "\n",
    "if( !require(\"DiceKriging\") ) install.packages(\"DiceKriging\")\n",
    "require(\"DiceKriging\")\n",
    "\n",
    "if( !require(\"mlrMBO\") ) install.packages(\"mlrMBO\")\n",
    "require(\"mlrMBO\")"
   ]
  },
  {
   "cell_type": "markdown",
   "metadata": {
    "id": "Iz-6Qt6BUaA3"
   },
   "source": [
    "### 2.2.3 Definicion de Parametros"
   ]
  },
  {
   "cell_type": "markdown",
   "metadata": {
    "id": "cOdlKd7lUm2I"
   },
   "source": [
    "aqui debe cargar SU semilla primigenia\n",
    "<br>recuerde cambiar el numero de experimento en cada corrida nueva"
   ]
  },
  {
   "cell_type": "code",
   "execution_count": 5,
   "metadata": {
    "id": "ASYkebOu2mF6"
   },
   "outputs": [],
   "source": [
    "PARAM <- list()\n",
    "PARAM$experimento <- 4945\n",
    "PARAM$semilla_primigenia <- 100129\n"
   ]
  },
  {
   "cell_type": "code",
   "execution_count": 6,
   "metadata": {
    "id": "ezOhQdbA293o"
   },
   "outputs": [],
   "source": [
    "PARAM$kaggle$competencia <- \"data-mining-analista-sr-2025-a\"\n",
    "PARAM$kaggle$cortes <- seq(10000, 12000, by= 500)"
   ]
  },
  {
   "cell_type": "code",
   "execution_count": 7,
   "metadata": {
    "id": "jtB0Lub42rHO"
   },
   "outputs": [],
   "source": [
    "# un undersampling de 0.1  toma solo el 10% de los CONTINUA\n",
    "# undersampling de 1.0  implica tomar TODOS los datos\n",
    "\n",
    "PARAM$trainingstrategy$undersampling <- 0.5"
   ]
  },
  {
   "cell_type": "code",
   "execution_count": 8,
   "metadata": {
    "id": "OFxm-xiNUOJX"
   },
   "outputs": [],
   "source": [
    "# Parametros LightGBM\n",
    "\n",
    "PARAM$hyperparametertuning$xval_folds <- 5\n",
    "\n",
    "# parametros fijos del LightGBM que se pisaran con la parte variable de la BO\n",
    "PARAM$lgbm$param_fijos <-  list(\n",
    "  boosting= \"gbdt\", # puede ir  dart  , ni pruebe random_forest\n",
    "  objective= \"binary\",\n",
    "  metric= \"auc\",\n",
    "  first_metric_only= FALSE,\n",
    "  boost_from_average= TRUE,\n",
    "  feature_pre_filter= FALSE,\n",
    "  force_row_wise= TRUE, # para reducir warnings\n",
    "  verbosity= -100,\n",
    "\n",
    "  seed= PARAM$semilla_primigenia,\n",
    "\n",
    "  max_depth= -1L, # -1 significa no limitar,  por ahora lo dejo fijo\n",
    "  min_gain_to_split= 0, # min_gain_to_split >= 0\n",
    "  min_sum_hessian_in_leaf= 0.001, #  min_sum_hessian_in_leaf >= 0.0\n",
    "  lambda_l1= 0.0, # lambda_l1 >= 0.0\n",
    "  lambda_l2= 0.0, # lambda_l2 >= 0.0\n",
    "  max_bin= 31L, # lo debo dejar fijo, no participa de la BO\n",
    "\n",
    "  bagging_fraction= 1.0, # 0.0 < bagging_fraction <= 1.0\n",
    "  pos_bagging_fraction= 1.0, # 0.0 < pos_bagging_fraction <= 1.0\n",
    "  neg_bagging_fraction= 1.0, # 0.0 < neg_bagging_fraction <= 1.0\n",
    "  is_unbalance= FALSE, #\n",
    "  scale_pos_weight= 1.0, # scale_pos_weight > 0.0\n",
    "\n",
    "  drop_rate= 0.1, # 0.0 < neg_bagging_fraction <= 1.0\n",
    "  max_drop= 50, # <=0 means no limit\n",
    "  skip_drop= 0.5, # 0.0 <= skip_drop <= 1.0\n",
    "\n",
    "  extra_trees= FALSE,\n",
    "\n",
    "  num_iterations= 1200,\n",
    "  learning_rate= 0.02,\n",
    "  feature_fraction= 0.5,\n",
    "  num_leaves= 750,\n",
    "  min_data_in_leaf= 5000\n",
    ")\n"
   ]
  },
  {
   "cell_type": "markdown",
   "metadata": {
    "id": "D5Yj-JV4yvOt"
   },
   "source": [
    "Aqui se definen los hiperparámetros de LightGBM que participan de la Bayesian Optimization\n",
    "<br> si es un numero entero debe ir  makeIntegerParam\n",
    "<br> si es un numero real (con decimales) debe ir  makeNumericParam\n",
    "<br> es muy importante leer cuales son un lower y upper  permitidos y ademas razonables"
   ]
  },
  {
   "cell_type": "code",
   "execution_count": 9,
   "metadata": {
    "id": "jENpR26ZyuS8"
   },
   "outputs": [],
   "source": [
    "# Aqui se cargan los bordes de los hiperparametros de la BO\n",
    "PARAM$hypeparametertuning$hs <- makeParamSet(\n",
    "  makeIntegerParam(\"num_iterations\", lower = 800L, upper = 1050L),\n",
    "  makeNumericParam(\"learning_rate\", lower = 0.016, upper = 0.021),\n",
    "  makeNumericParam(\"feature_fraction\", lower = 0.38, upper = 0.48),\n",
    "  makeIntegerParam(\"min_data_in_leaf\", lower = 300L, upper = 500L),\n",
    "  makeIntegerParam(\"num_leaves\", lower = 180L, upper = 240L),\n",
    "  makeIntegerParam(\"max_depth\", lower = 9L, upper = 12L),\n",
    "  makeNumericParam(\"lambda_l1\", lower = 3.5, upper = 5.0),\n",
    "  makeNumericParam(\"lambda_l2\", lower = 3.0, upper = 4.0),\n",
    "  makeNumericParam(\"min_gain_to_split\", lower = 0.08, upper = 0.15),\n",
    "  makeNumericParam(\"bagging_fraction\", lower = 0.85, upper = 0.95)\n",
    ")"
   ]
  },
  {
   "cell_type": "markdown",
   "metadata": {
    "id": "-_RPFUb3zMoW"
   },
   "source": [
    "A mayor cantidad de hiperparámetros, se debe aumentar las iteraciones de la Bayesian Optimization\n",
    "<br> 30 es un valor muy tacaño, pero corre rápido\n",
    "<br> deberia partir de 50, alcanzando los 100 si se dispone de tiempo"
   ]
  },
  {
   "cell_type": "code",
   "execution_count": 10,
   "metadata": {
    "id": "q5Rd3pnbzSiG"
   },
   "outputs": [],
   "source": [
    "PARAM$hyperparametertuning$iteraciones <- 50 # iteraciones bayesianas"
   ]
  },
  {
   "cell_type": "markdown",
   "metadata": {
    "id": "4RWZXL1VZjMI"
   },
   "source": [
    "### 2.2.4  Preprocesamiento"
   ]
  },
  {
   "cell_type": "code",
   "execution_count": 11,
   "metadata": {
    "id": "j3toG9-lZm4K"
   },
   "outputs": [],
   "source": [
    "# carpeta de trabajo\n",
    "\n",
    "setwd(\"/content/buckets/b1/exp\")\n",
    "experimento_folder <- paste0(\"HT\", PARAM$experimento)\n",
    "dir.create(experimento_folder, showWarnings=FALSE)\n",
    "setwd( paste0(\"/content/buckets/b1/exp/\", experimento_folder ))"
   ]
  },
  {
   "cell_type": "code",
   "execution_count": 12,
   "metadata": {
    "id": "FM3lxKoLZ643"
   },
   "outputs": [],
   "source": [
    "# lectura del dataset\n",
    "\n",
    "dataset <- fread(\"/content/datasets/dataset_pequeno.csv\")"
   ]
  },
  {
   "cell_type": "code",
   "execution_count": 13,
   "metadata": {
    "id": "OsJ-91UeZ-I_"
   },
   "outputs": [],
   "source": [
    "dataset_train <- dataset[foto_mes %in% c(202107)]"
   ]
  },
  {
   "cell_type": "code",
   "execution_count": 14,
   "metadata": {
    "id": "vrWE7BE0aB2J"
   },
   "outputs": [],
   "source": [
    "# paso la clase a binaria que tome valores {0,1}  enteros\n",
    "#  BAJA+1 y BAJA+2  son  1,   CONTINUA es 0\n",
    "\n",
    "dataset_train[,\n",
    "  clase01 := ifelse(clase_ternaria %in% c(\"BAJA+2\",\"BAJA+1\"), 1L, 0L)\n",
    "]"
   ]
  },
  {
   "cell_type": "code",
   "execution_count": 15,
   "metadata": {
    "id": "jP7YlQBnaW6W"
   },
   "outputs": [],
   "source": [
    "# defino los datos que forma parte del training\n",
    "# aqui se hace el undersampling de los CONTINUA\n",
    "# notar que para esto utilizo la SEGUNDA semilla\n",
    "\n",
    "set.seed(PARAM$semilla_primigenia, kind = \"L'Ecuyer-CMRG\")\n",
    "dataset_train[, azar := runif(nrow(dataset_train))]\n",
    "dataset_train[, training := 0L]\n",
    "\n",
    "dataset_train[\n",
    "  foto_mes %in% c(202107) &\n",
    "    (azar <= PARAM$trainingstrategy$undersampling | clase_ternaria %in% c(\"BAJA+1\", \"BAJA+2\")),\n",
    "  training := 1L\n",
    "]"
   ]
  },
  {
   "cell_type": "code",
   "execution_count": 16,
   "metadata": {
    "id": "xElu4s5W4rX7"
   },
   "outputs": [],
   "source": [
    "# los campos que se van a utilizar\n",
    "\n",
    "campos_buenos <- setdiff(\n",
    "  colnames(dataset_train),\n",
    "  c(\"clase_ternaria\", \"clase01\", \"azar\", \"training\")\n",
    ")"
   ]
  },
  {
   "cell_type": "code",
   "execution_count": 17,
   "metadata": {
    "id": "PppMHcGYaaol"
   },
   "outputs": [
    {
     "data": {
      "text/html": [
       "83679"
      ],
      "text/latex": [
       "83679"
      ],
      "text/markdown": [
       "83679"
      ],
      "text/plain": [
       "[1] 83679"
      ]
     },
     "metadata": {},
     "output_type": "display_data"
    },
    {
     "data": {
      "text/html": [
       "154"
      ],
      "text/latex": [
       "154"
      ],
      "text/markdown": [
       "154"
      ],
      "text/plain": [
       "[1] 154"
      ]
     },
     "metadata": {},
     "output_type": "display_data"
    }
   ],
   "source": [
    "# dejo los datos en el formato que necesita LightGBM\n",
    "\n",
    "dtrain <- lgb.Dataset(\n",
    "  data= data.matrix(dataset_train[training == 1L, campos_buenos, with= FALSE]),\n",
    "  label= dataset_train[training == 1L, clase01],\n",
    "  free_raw_data= FALSE\n",
    ")\n",
    "\n",
    "nrow(dtrain)\n",
    "ncol(dtrain)"
   ]
  },
  {
   "cell_type": "markdown",
   "metadata": {
    "id": "Ta-EkOu3cphF"
   },
   "source": [
    "2.2.5 Configuracion Bayesian Optimization"
   ]
  },
  {
   "cell_type": "code",
   "execution_count": 18,
   "metadata": {
    "id": "cjgfurjdfiXb"
   },
   "outputs": [],
   "source": [
    "# En el argumento x llegan los parmaetros de la bayesiana\n",
    "#  devuelve la AUC en cross validation del modelo entrenado\n",
    "\n",
    "EstimarGanancia_AUC_lightgbm <- function(x) {\n",
    "\n",
    "  # x pisa (o agrega) a param_fijos\n",
    "  param_completo <- modifyList(PARAM$lgbm$param_fijos, x)\n",
    "\n",
    "  # entreno LightGBM\n",
    "  modelocv <- lgb.cv(\n",
    "    data= dtrain,\n",
    "    nfold= PARAM$hyperparametertuning$xval_folds,\n",
    "    stratified= TRUE,\n",
    "    param= param_completo\n",
    "  )\n",
    "\n",
    "  # obtengo la ganancia\n",
    "  AUC <- modelocv$best_score\n",
    "\n",
    "  # hago espacio en la memoria\n",
    "  rm(modelocv)\n",
    "  gc(full= TRUE, verbose= FALSE)\n",
    "\n",
    "  message(format(Sys.time(), \"%a %b %d %X %Y\"), \" AUC \", AUC)\n",
    "\n",
    "  return(AUC)\n",
    "}"
   ]
  },
  {
   "cell_type": "code",
   "execution_count": 19,
   "metadata": {
    "id": "WLi_o1hocvN-"
   },
   "outputs": [],
   "source": [
    "# Aqui comienza la configuracion de la Bayesian Optimization\n",
    "\n",
    "# en este archivo quedan la evolucion binaria de la BO\n",
    "kbayesiana <- \"bayesiana.RDATA\"\n",
    "\n",
    "funcion_optimizar <- EstimarGanancia_AUC_lightgbm # la funcion que voy a maximizar\n",
    "\n",
    "configureMlr(show.learner.output= FALSE)\n",
    "\n",
    "# configuro la busqueda bayesiana,  los hiperparametros que se van a optimizar\n",
    "# por favor, no desesperarse por lo complejo\n",
    "\n",
    "obj.fun <- makeSingleObjectiveFunction(\n",
    "  fn= funcion_optimizar, # la funcion que voy a maximizar\n",
    "  minimize= FALSE, # estoy Maximizando la ganancia\n",
    "  noisy= TRUE,\n",
    "  par.set= PARAM$hypeparametertuning$hs, # definido al comienzo del programa\n",
    "  has.simple.signature= FALSE # paso los parametros en una lista\n",
    ")\n",
    "\n",
    "# cada 600 segundos guardo el resultado intermedio\n",
    "ctrl <- makeMBOControl(\n",
    "  save.on.disk.at.time= 600, # se graba cada 600 segundos\n",
    "  save.file.path= kbayesiana\n",
    ") # se graba cada 600 segundos\n",
    "\n",
    "# indico la cantidad de iteraciones que va a tener la Bayesian Optimization\n",
    "ctrl <- setMBOControlTermination(\n",
    "  ctrl,\n",
    "  iters= PARAM$hyperparametertuning$iteraciones\n",
    ") # cantidad de iteraciones\n",
    "\n",
    "# defino el método estandar para la creacion de los puntos iniciales,\n",
    "# los \"No Inteligentes\"\n",
    "ctrl <- setMBOControlInfill(ctrl, crit= makeMBOInfillCritEI())\n",
    "\n",
    "# establezco la funcion que busca el maximo\n",
    "surr.km <- makeLearner(\n",
    "  \"regr.km\",\n",
    "  predict.type= \"se\",\n",
    "  covtype= \"matern3_2\",\n",
    "  control= list(trace= TRUE)\n",
    ")\n"
   ]
  },
  {
   "cell_type": "markdown",
   "metadata": {
    "id": "_uUeVo5pc4zc"
   },
   "source": [
    "2.2.6 Corrida Bayesian Optimization"
   ]
  },
  {
   "cell_type": "code",
   "execution_count": 20,
   "metadata": {
    "id": "RcABNaKGciaz"
   },
   "outputs": [
    {
     "name": "stderr",
     "output_type": "stream",
     "text": [
      "Computing y column(s) for design. Not provided.\n",
      "\n",
      "Wed Jul 23 21:05:09 2025 AUC 0.930839016705306\n",
      "\n",
      "Wed Jul 23 21:06:01 2025 AUC 0.93086737674811\n",
      "\n",
      "Wed Jul 23 21:06:51 2025 AUC 0.930648381527704\n",
      "\n",
      "Wed Jul 23 21:07:42 2025 AUC 0.930612224188208\n",
      "\n",
      "Wed Jul 23 21:08:32 2025 AUC 0.930734683140257\n",
      "\n",
      "Wed Jul 23 21:09:25 2025 AUC 0.93065398034073\n",
      "\n",
      "Wed Jul 23 21:10:15 2025 AUC 0.93149593725729\n",
      "\n",
      "Wed Jul 23 21:11:05 2025 AUC 0.931191160462517\n",
      "\n",
      "Wed Jul 23 21:11:55 2025 AUC 0.931553620687745\n",
      "\n",
      "Wed Jul 23 21:12:47 2025 AUC 0.931052938060304\n",
      "\n",
      "Wed Jul 23 21:13:40 2025 AUC 0.930828887284644\n",
      "\n",
      "Wed Jul 23 21:14:25 2025 AUC 0.931543048585009\n",
      "\n",
      "Wed Jul 23 21:15:21 2025 AUC 0.930744725153327\n",
      "\n",
      "Wed Jul 23 21:16:21 2025 AUC 0.93086682137997\n",
      "\n",
      "Wed Jul 23 21:17:11 2025 AUC 0.931732082390469\n",
      "\n",
      "Wed Jul 23 21:18:06 2025 AUC 0.930874987718547\n",
      "\n",
      "Wed Jul 23 21:18:56 2025 AUC 0.930652804712404\n",
      "\n",
      "Wed Jul 23 21:19:51 2025 AUC 0.931418696386867\n",
      "\n",
      "Wed Jul 23 21:20:44 2025 AUC 0.931003147899677\n",
      "\n",
      "Wed Jul 23 21:21:32 2025 AUC 0.93134485235382\n",
      "\n",
      "Wed Jul 23 21:22:23 2025 AUC 0.931190725436812\n",
      "\n",
      "Wed Jul 23 21:23:18 2025 AUC 0.930163108157085\n",
      "\n",
      "Wed Jul 23 21:24:09 2025 AUC 0.930731248279117\n",
      "\n",
      "Wed Jul 23 21:25:02 2025 AUC 0.930773061361777\n",
      "\n",
      "Wed Jul 23 21:25:52 2025 AUC 0.930759696133585\n",
      "\n",
      "Wed Jul 23 21:26:50 2025 AUC 0.930869383843114\n",
      "\n",
      "Wed Jul 23 21:27:49 2025 AUC 0.931108947540768\n",
      "\n",
      "Wed Jul 23 21:28:36 2025 AUC 0.930694093079757\n",
      "\n",
      "Wed Jul 23 21:29:27 2025 AUC 0.931436427230454\n",
      "\n",
      "Wed Jul 23 21:30:19 2025 AUC 0.931507556393049\n",
      "\n",
      "Wed Jul 23 21:31:15 2025 AUC 0.931259640651219\n",
      "\n",
      "Wed Jul 23 21:32:13 2025 AUC 0.931056324475607\n",
      "\n",
      "Wed Jul 23 21:33:10 2025 AUC 0.931333882652535\n",
      "\n",
      "Wed Jul 23 21:34:03 2025 AUC 0.930369126682248\n",
      "\n",
      "Wed Jul 23 21:34:53 2025 AUC 0.92997791946756\n",
      "\n",
      "Wed Jul 23 21:35:39 2025 AUC 0.931372233810516\n",
      "\n",
      "Wed Jul 23 21:36:31 2025 AUC 0.930523736338863\n",
      "\n",
      "Wed Jul 23 21:37:27 2025 AUC 0.931069396122042\n",
      "\n",
      "Wed Jul 23 21:38:28 2025 AUC 0.930474062838799\n",
      "\n",
      "Wed Jul 23 21:39:17 2025 AUC 0.931147693084058\n",
      "\n",
      "[mbo] 0: num_iterations=959; learning_rate=0.0194; feature_fraction=0.389; min_data_in_leaf=306; num_leaves=207; max_depth=11; lambda_l1=4.81; lambda_l2=3.48; min_gain_to_split=0.136; bagging_fraction=0.904 : y = 0.931 : 52.5 secs : initdesign\n",
      "\n",
      "[mbo] 0: num_iterations=892; learning_rate=0.0179; feature_fraction=0.448; min_data_in_leaf=453; num_leaves=212; max_depth=11; lambda_l1=4.29; lambda_l2=3.17; min_gain_to_split=0.136; bagging_fraction=0.898 : y = 0.931 : 51.5 secs : initdesign\n",
      "\n",
      "[mbo] 0: num_iterations=900; learning_rate=0.0183; feature_fraction=0.467; min_data_in_leaf=375; num_leaves=195; max_depth=10; lambda_l1=4.77; lambda_l2=3.55; min_gain_to_split=0.142; bagging_fraction=0.894 : y = 0.931 : 50.4 secs : initdesign\n",
      "\n",
      "[mbo] 0: num_iterations=894; learning_rate=0.0184; feature_fraction=0.4; min_data_in_leaf=402; num_leaves=186; max_depth=10; lambda_l1=4; lambda_l2=3.42; min_gain_to_split=0.0991; bagging_fraction=0.93 : y = 0.931 : 51.1 secs : initdesign\n",
      "\n",
      "[mbo] 0: num_iterations=917; learning_rate=0.0198; feature_fraction=0.404; min_data_in_leaf=424; num_leaves=222; max_depth=11; lambda_l1=4.34; lambda_l2=3.47; min_gain_to_split=0.14; bagging_fraction=0.868 : y = 0.931 : 49.6 secs : initdesign\n",
      "\n",
      "[mbo] 0: num_iterations=951; learning_rate=0.0186; feature_fraction=0.421; min_data_in_leaf=415; num_leaves=199; max_depth=11; lambda_l1=3.76; lambda_l2=3.79; min_gain_to_split=0.125; bagging_fraction=0.851 : y = 0.931 : 53.7 secs : initdesign\n",
      "\n",
      "[mbo] 0: num_iterations=865; learning_rate=0.0166; feature_fraction=0.437; min_data_in_leaf=327; num_leaves=201; max_depth=9; lambda_l1=4.4; lambda_l2=3.38; min_gain_to_split=0.116; bagging_fraction=0.918 : y = 0.931 : 49.4 secs : initdesign\n",
      "\n",
      "[mbo] 0: num_iterations=878; learning_rate=0.0162; feature_fraction=0.408; min_data_in_leaf=410; num_leaves=232; max_depth=10; lambda_l1=4.19; lambda_l2=3.26; min_gain_to_split=0.113; bagging_fraction=0.889 : y = 0.931 : 50.1 secs : initdesign\n",
      "\n",
      "[mbo] 0: num_iterations=845; learning_rate=0.0188; feature_fraction=0.43; min_data_in_leaf=338; num_leaves=209; max_depth=12; lambda_l1=4.29; lambda_l2=3.05; min_gain_to_split=0.106; bagging_fraction=0.902 : y = 0.932 : 50.4 secs : initdesign\n",
      "\n",
      "[mbo] 0: num_iterations=948; learning_rate=0.0202; feature_fraction=0.419; min_data_in_leaf=384; num_leaves=214; max_depth=10; lambda_l1=4.46; lambda_l2=3.69; min_gain_to_split=0.109; bagging_fraction=0.933 : y = 0.931 : 51.7 secs : initdesign\n",
      "\n",
      "[mbo] 0: num_iterations=992; learning_rate=0.0181; feature_fraction=0.415; min_data_in_leaf=488; num_leaves=206; max_depth=9; lambda_l1=4.83; lambda_l2=3.01; min_gain_to_split=0.103; bagging_fraction=0.938 : y = 0.931 : 53.3 secs : initdesign\n",
      "\n",
      "[mbo] 0: num_iterations=800; learning_rate=0.0172; feature_fraction=0.444; min_data_in_leaf=468; num_leaves=196; max_depth=9; lambda_l1=4.03; lambda_l2=3.71; min_gain_to_split=0.121; bagging_fraction=0.945 : y = 0.932 : 44.1 secs : initdesign\n",
      "\n",
      "[mbo] 0: num_iterations=1022; learning_rate=0.0191; feature_fraction=0.429; min_data_in_leaf=419; num_leaves=220; max_depth=12; lambda_l1=4.08; lambda_l2=3.09; min_gain_to_split=0.11; bagging_fraction=0.916 : y = 0.931 : 56.9 secs : initdesign\n",
      "\n",
      "[mbo] 0: num_iterations=999; learning_rate=0.0164; feature_fraction=0.479; min_data_in_leaf=365; num_leaves=240; max_depth=11; lambda_l1=4.24; lambda_l2=3.43; min_gain_to_split=0.119; bagging_fraction=0.865 : y = 0.931 : 59.4 secs : initdesign\n",
      "\n",
      "[mbo] 0: num_iterations=857; learning_rate=0.02; feature_fraction=0.457; min_data_in_leaf=474; num_leaves=228; max_depth=10; lambda_l1=3.63; lambda_l2=3.64; min_gain_to_split=0.0886; bagging_fraction=0.91 : y = 0.932 : 50.4 secs : initdesign\n",
      "\n",
      "[mbo] 0: num_iterations=912; learning_rate=0.0187; feature_fraction=0.455; min_data_in_leaf=315; num_leaves=224; max_depth=10; lambda_l1=4.5; lambda_l2=3.29; min_gain_to_split=0.0841; bagging_fraction=0.91 : y = 0.931 : 54.6 secs : initdesign\n",
      "\n",
      "[mbo] 0: num_iterations=843; learning_rate=0.0197; feature_fraction=0.442; min_data_in_leaf=321; num_leaves=192; max_depth=10; lambda_l1=3.78; lambda_l2=3.53; min_gain_to_split=0.123; bagging_fraction=0.879 : y = 0.931 : 49.7 secs : initdesign\n",
      "\n",
      "[mbo] 0: num_iterations=1001; learning_rate=0.0178; feature_fraction=0.391; min_data_in_leaf=400; num_leaves=205; max_depth=10; lambda_l1=4.56; lambda_l2=3.93; min_gain_to_split=0.1; bagging_fraction=0.875 : y = 0.931 : 55.3 secs : initdesign\n",
      "\n",
      "[mbo] 0: num_iterations=985; learning_rate=0.0195; feature_fraction=0.423; min_data_in_leaf=449; num_leaves=202; max_depth=12; lambda_l1=4.43; lambda_l2=3.97; min_gain_to_split=0.146; bagging_fraction=0.937 : y = 0.931 : 53.1 secs : initdesign\n",
      "\n",
      "[mbo] 0: num_iterations=831; learning_rate=0.0176; feature_fraction=0.451; min_data_in_leaf=435; num_leaves=188; max_depth=11; lambda_l1=4.73; lambda_l2=3.61; min_gain_to_split=0.127; bagging_fraction=0.855 : y = 0.931 : 47.7 secs : initdesign\n",
      "\n",
      "[mbo] 0: num_iterations=874; learning_rate=0.0201; feature_fraction=0.384; min_data_in_leaf=357; num_leaves=239; max_depth=12; lambda_l1=4.1; lambda_l2=3.13; min_gain_to_split=0.0922; bagging_fraction=0.906 : y = 0.931 : 51.2 secs : initdesign\n",
      "\n",
      "[mbo] 0: num_iterations=942; learning_rate=0.0175; feature_fraction=0.381; min_data_in_leaf=394; num_leaves=226; max_depth=11; lambda_l1=3.69; lambda_l2=3.59; min_gain_to_split=0.131; bagging_fraction=0.924 : y = 0.93 : 54.9 secs : initdesign\n",
      "\n",
      "[mbo] 0: num_iterations=968; learning_rate=0.0192; feature_fraction=0.396; min_data_in_leaf=354; num_leaves=211; max_depth=9; lambda_l1=4.69; lambda_l2=3.03; min_gain_to_split=0.128; bagging_fraction=0.884 : y = 0.931 : 51.0 secs : initdesign\n",
      "\n",
      "[mbo] 0: num_iterations=971; learning_rate=0.0207; feature_fraction=0.44; min_data_in_leaf=435; num_leaves=182; max_depth=9; lambda_l1=4.15; lambda_l2=3.89; min_gain_to_split=0.105; bagging_fraction=0.873 : y = 0.931 : 53.2 secs : initdesign\n",
      "\n",
      "[mbo] 0: num_iterations=884; learning_rate=0.0181; feature_fraction=0.394; min_data_in_leaf=478; num_leaves=231; max_depth=9; lambda_l1=3.58; lambda_l2=3.87; min_gain_to_split=0.0858; bagging_fraction=0.887 : y = 0.931 : 49.8 secs : initdesign\n",
      "\n",
      "[mbo] 0: num_iterations=1017; learning_rate=0.0166; feature_fraction=0.459; min_data_in_leaf=344; num_leaves=197; max_depth=11; lambda_l1=4.86; lambda_l2=3.36; min_gain_to_split=0.117; bagging_fraction=0.915 : y = 0.931 : 58.4 secs : initdesign\n",
      "\n",
      "[mbo] 0: num_iterations=931; learning_rate=0.0168; feature_fraction=0.465; min_data_in_leaf=386; num_leaves=217; max_depth=12; lambda_l1=3.82; lambda_l2=3.66; min_gain_to_split=0.0831; bagging_fraction=0.948 : y = 0.931 : 58.6 secs : initdesign\n",
      "\n",
      "[mbo] 0: num_iterations=822; learning_rate=0.0189; feature_fraction=0.426; min_data_in_leaf=464; num_leaves=216; max_depth=11; lambda_l1=4.94; lambda_l2=3.92; min_gain_to_split=0.0803; bagging_fraction=0.892 : y = 0.931 : 47.7 secs : initdesign\n",
      "\n",
      "[mbo] 0: num_iterations=828; learning_rate=0.0177; feature_fraction=0.447; min_data_in_leaf=444; num_leaves=237; max_depth=12; lambda_l1=3.68; lambda_l2=3.77; min_gain_to_split=0.13; bagging_fraction=0.857 : y = 0.931 : 50.5 secs : initdesign\n",
      "\n",
      "[mbo] 0: num_iterations=921; learning_rate=0.0208; feature_fraction=0.476; min_data_in_leaf=363; num_leaves=234; max_depth=9; lambda_l1=3.52; lambda_l2=3.19; min_gain_to_split=0.134; bagging_fraction=0.881 : y = 0.932 : 51.7 secs : initdesign\n",
      "\n",
      "[mbo] 0: num_iterations=1032; learning_rate=0.0205; feature_fraction=0.472; min_data_in_leaf=485; num_leaves=183; max_depth=12; lambda_l1=4.89; lambda_l2=3.33; min_gain_to_split=0.0948; bagging_fraction=0.922 : y = 0.931 : 56.2 secs : initdesign\n",
      "\n",
      "[mbo] 0: num_iterations=1048; learning_rate=0.0173; feature_fraction=0.434; min_data_in_leaf=497; num_leaves=229; max_depth=9; lambda_l1=4.59; lambda_l2=3.32; min_gain_to_split=0.0936; bagging_fraction=0.858 : y = 0.931 : 58.4 secs : initdesign\n",
      "\n",
      "[mbo] 0: num_iterations=1011; learning_rate=0.0209; feature_fraction=0.411; min_data_in_leaf=332; num_leaves=203; max_depth=12; lambda_l1=3.92; lambda_l2=3.22; min_gain_to_split=0.0963; bagging_fraction=0.862 : y = 0.931 : 56.4 secs : initdesign\n",
      "\n",
      "[mbo] 0: num_iterations=1040; learning_rate=0.0203; feature_fraction=0.474; min_data_in_leaf=376; num_leaves=219; max_depth=9; lambda_l1=4.99; lambda_l2=3.5; min_gain_to_split=0.144; bagging_fraction=0.895 : y = 0.93 : 53.2 secs : initdesign\n",
      "\n",
      "[mbo] 0: num_iterations=815; learning_rate=0.0171; feature_fraction=0.468; min_data_in_leaf=349; num_leaves=180; max_depth=11; lambda_l1=3.85; lambda_l2=3.82; min_gain_to_split=0.139; bagging_fraction=0.943 : y = 0.93 : 50.6 secs : initdesign\n",
      "\n",
      "[mbo] 0: num_iterations=811; learning_rate=0.0205; feature_fraction=0.401; min_data_in_leaf=301; num_leaves=185; max_depth=10; lambda_l1=4.63; lambda_l2=3.84; min_gain_to_split=0.102; bagging_fraction=0.926 : y = 0.931 : 45.7 secs : initdesign\n",
      "\n",
      "[mbo] 0: num_iterations=932; learning_rate=0.0169; feature_fraction=0.385; min_data_in_leaf=492; num_leaves=189; max_depth=12; lambda_l1=4.53; lambda_l2=3.23; min_gain_to_split=0.147; bagging_fraction=0.87 : y = 0.931 : 51.9 secs : initdesign\n",
      "\n",
      "[mbo] 0: num_iterations=978; learning_rate=0.0163; feature_fraction=0.406; min_data_in_leaf=313; num_leaves=190; max_depth=9; lambda_l1=3.88; lambda_l2=3.73; min_gain_to_split=0.0894; bagging_fraction=0.867 : y = 0.931 : 56.2 secs : initdesign\n",
      "\n",
      "[mbo] 0: num_iterations=1026; learning_rate=0.0161; feature_fraction=0.461; min_data_in_leaf=428; num_leaves=234; max_depth=12; lambda_l1=3.55; lambda_l2=3.99; min_gain_to_split=0.149; bagging_fraction=0.929 : y = 0.93 : 60.9 secs : initdesign\n",
      "\n",
      "[mbo] 0: num_iterations=854; learning_rate=0.0196; feature_fraction=0.415; min_data_in_leaf=455; num_leaves=224; max_depth=10; lambda_l1=3.98; lambda_l2=3.11; min_gain_to_split=0.114; bagging_fraction=0.941 : y = 0.931 : 48.8 secs : initdesign\n",
      "\n",
      "Saved the current state after iteration 1 in the file bayesiana.RDATA.\n",
      "\n",
      "Wed Jul 23 21:40:12 2025 AUC 0.931271162007994\n",
      "\n",
      "[mbo] 1: num_iterations=845; learning_rate=0.0184; feature_fraction=0.465; min_data_in_leaf=490; num_leaves=238; max_depth=10; lambda_l1=3.55; lambda_l2=3.14; min_gain_to_split=0.0873; bagging_fraction=0.905 : y = 0.931 : 50.4 secs : infill_ei\n",
      "\n",
      "Wed Jul 23 21:41:03 2025 AUC 0.931959070329599\n",
      "\n",
      "[mbo] 2: num_iterations=865; learning_rate=0.0202; feature_fraction=0.418; min_data_in_leaf=467; num_leaves=229; max_depth=10; lambda_l1=3.67; lambda_l2=3.9; min_gain_to_split=0.0893; bagging_fraction=0.894 : y = 0.932 : 49.9 secs : infill_ei\n",
      "\n",
      "Wed Jul 23 21:41:54 2025 AUC 0.931155610924003\n",
      "\n",
      "[mbo] 3: num_iterations=872; learning_rate=0.02; feature_fraction=0.424; min_data_in_leaf=454; num_leaves=228; max_depth=10; lambda_l1=3.71; lambda_l2=4; min_gain_to_split=0.0883; bagging_fraction=0.867 : y = 0.931 : 50.5 secs : infill_ei\n",
      "\n",
      "Wed Jul 23 21:42:44 2025 AUC 0.931225161823162\n",
      "\n",
      "[mbo] 4: num_iterations=858; learning_rate=0.0204; feature_fraction=0.417; min_data_in_leaf=469; num_leaves=225; max_depth=10; lambda_l1=3.86; lambda_l2=3.57; min_gain_to_split=0.0899; bagging_fraction=0.898 : y = 0.931 : 48.6 secs : infill_ei\n",
      "\n",
      "Wed Jul 23 21:43:34 2025 AUC 0.930847691443101\n",
      "\n",
      "[mbo] 5: num_iterations=864; learning_rate=0.0174; feature_fraction=0.411; min_data_in_leaf=450; num_leaves=194; max_depth=10; lambda_l1=4.66; lambda_l2=3.86; min_gain_to_split=0.0892; bagging_fraction=0.914 : y = 0.931 : 48.4 secs : infill_ei\n",
      "\n",
      "Wed Jul 23 21:44:27 2025 AUC 0.93195465605944\n",
      "\n",
      "[mbo] 6: num_iterations=878; learning_rate=0.018; feature_fraction=0.44; min_data_in_leaf=474; num_leaves=191; max_depth=10; lambda_l1=3.66; lambda_l2=3.81; min_gain_to_split=0.0895; bagging_fraction=0.898 : y = 0.932 : 51.8 secs : infill_ei\n",
      "\n",
      "Wed Jul 23 21:45:18 2025 AUC 0.930438629094818\n",
      "\n",
      "[mbo] 7: num_iterations=849; learning_rate=0.0198; feature_fraction=0.454; min_data_in_leaf=471; num_leaves=221; max_depth=10; lambda_l1=3.66; lambda_l2=3.73; min_gain_to_split=0.0947; bagging_fraction=0.912 : y = 0.93 : 50.3 secs : infill_ei\n",
      "\n",
      "Wed Jul 23 21:46:10 2025 AUC 0.930675936512709\n",
      "\n",
      "[mbo] 8: num_iterations=865; learning_rate=0.0202; feature_fraction=0.452; min_data_in_leaf=342; num_leaves=231; max_depth=10; lambda_l1=4.52; lambda_l2=3.63; min_gain_to_split=0.0893; bagging_fraction=0.924 : y = 0.931 : 51.0 secs : infill_ei\n",
      "\n",
      "Wed Jul 23 21:47:06 2025 AUC 0.930388179361627\n",
      "\n",
      "[mbo] 9: num_iterations=910; learning_rate=0.02; feature_fraction=0.474; min_data_in_leaf=485; num_leaves=191; max_depth=10; lambda_l1=3.67; lambda_l2=3.56; min_gain_to_split=0.0894; bagging_fraction=0.904 : y = 0.93 : 54.2 secs : infill_ei\n",
      "\n",
      "Wed Jul 23 21:47:55 2025 AUC 0.931676446543094\n",
      "\n",
      "[mbo] 10: num_iterations=832; learning_rate=0.0189; feature_fraction=0.398; min_data_in_leaf=467; num_leaves=228; max_depth=10; lambda_l1=3.79; lambda_l2=3.47; min_gain_to_split=0.104; bagging_fraction=0.912 : y = 0.932 : 47.6 secs : infill_ei\n",
      "\n",
      "Wed Jul 23 21:48:52 2025 AUC 0.931631668648789\n",
      "\n",
      "[mbo] 11: num_iterations=952; learning_rate=0.0206; feature_fraction=0.412; min_data_in_leaf=467; num_leaves=225; max_depth=11; lambda_l1=3.66; lambda_l2=3.87; min_gain_to_split=0.0832; bagging_fraction=0.886 : y = 0.932 : 55.6 secs : infill_ei\n",
      "\n",
      "Wed Jul 23 21:49:45 2025 AUC 0.93039811737896\n",
      "\n",
      "[mbo] 12: num_iterations=919; learning_rate=0.0179; feature_fraction=0.44; min_data_in_leaf=459; num_leaves=216; max_depth=10; lambda_l1=4.6; lambda_l2=3.17; min_gain_to_split=0.103; bagging_fraction=0.921 : y = 0.93 : 52.3 secs : infill_ei\n",
      "\n",
      "Saved the current state after iteration 13 in the file bayesiana.RDATA.\n",
      "\n",
      "Wed Jul 23 21:50:40 2025 AUC 0.930808590866593\n",
      "\n",
      "[mbo] 13: num_iterations=874; learning_rate=0.0176; feature_fraction=0.444; min_data_in_leaf=473; num_leaves=191; max_depth=10; lambda_l1=3.96; lambda_l2=4; min_gain_to_split=0.0889; bagging_fraction=0.885 : y = 0.931 : 50.5 secs : infill_ei\n",
      "\n",
      "Wed Jul 23 21:51:30 2025 AUC 0.930192030933809\n",
      "\n",
      "[mbo] 14: num_iterations=851; learning_rate=0.02; feature_fraction=0.451; min_data_in_leaf=467; num_leaves=214; max_depth=9; lambda_l1=3.65; lambda_l2=3.92; min_gain_to_split=0.0986; bagging_fraction=0.87 : y = 0.93 : 48.8 secs : infill_ei\n",
      "\n",
      "Wed Jul 23 21:52:28 2025 AUC 0.931206117105606\n",
      "\n",
      "[mbo] 15: num_iterations=1016; learning_rate=0.018; feature_fraction=0.427; min_data_in_leaf=475; num_leaves=195; max_depth=10; lambda_l1=3.69; lambda_l2=3.81; min_gain_to_split=0.149; bagging_fraction=0.907 : y = 0.931 : 56.7 secs : infill_ei\n",
      "\n",
      "Wed Jul 23 21:53:29 2025 AUC 0.930265405400979\n",
      "\n",
      "[mbo] 16: num_iterations=1024; learning_rate=0.0171; feature_fraction=0.398; min_data_in_leaf=331; num_leaves=182; max_depth=12; lambda_l1=3.71; lambda_l2=3.21; min_gain_to_split=0.111; bagging_fraction=0.918 : y = 0.93 : 60.0 secs : infill_ei\n",
      "\n",
      "Wed Jul 23 21:54:21 2025 AUC 0.930590508313149\n",
      "\n",
      "[mbo] 17: num_iterations=866; learning_rate=0.0202; feature_fraction=0.418; min_data_in_leaf=444; num_leaves=229; max_depth=10; lambda_l1=3.52; lambda_l2=3.77; min_gain_to_split=0.0918; bagging_fraction=0.932 : y = 0.931 : 50.4 secs : infill_ei\n",
      "\n",
      "Wed Jul 23 21:55:10 2025 AUC 0.931043671483594\n",
      "\n",
      "[mbo] 18: num_iterations=857; learning_rate=0.0208; feature_fraction=0.389; min_data_in_leaf=396; num_leaves=216; max_depth=9; lambda_l1=3.83; lambda_l2=3.6; min_gain_to_split=0.111; bagging_fraction=0.862 : y = 0.931 : 47.6 secs : infill_ei\n",
      "\n",
      "Wed Jul 23 21:55:59 2025 AUC 0.931319312553648\n",
      "\n",
      "[mbo] 19: num_iterations=892; learning_rate=0.0192; feature_fraction=0.396; min_data_in_leaf=354; num_leaves=181; max_depth=10; lambda_l1=4.9; lambda_l2=3.6; min_gain_to_split=0.122; bagging_fraction=0.945 : y = 0.931 : 48.1 secs : infill_ei\n",
      "\n",
      "Wed Jul 23 21:56:51 2025 AUC 0.930685265292257\n",
      "\n",
      "[mbo] 20: num_iterations=881; learning_rate=0.0175; feature_fraction=0.407; min_data_in_leaf=374; num_leaves=197; max_depth=12; lambda_l1=4.01; lambda_l2=3.09; min_gain_to_split=0.13; bagging_fraction=0.893 : y = 0.931 : 51.5 secs : infill_ei\n",
      "\n",
      "Wed Jul 23 21:57:44 2025 AUC 0.930741490047126\n",
      "\n",
      "[mbo] 21: num_iterations=922; learning_rate=0.0191; feature_fraction=0.39; min_data_in_leaf=305; num_leaves=199; max_depth=11; lambda_l1=3.53; lambda_l2=3.08; min_gain_to_split=0.118; bagging_fraction=0.927 : y = 0.931 : 51.9 secs : infill_ei\n",
      "\n",
      "Wed Jul 23 21:58:36 2025 AUC 0.930238668735413\n",
      "\n",
      "[mbo] 22: num_iterations=854; learning_rate=0.0163; feature_fraction=0.443; min_data_in_leaf=405; num_leaves=181; max_depth=11; lambda_l1=4.66; lambda_l2=3.9; min_gain_to_split=0.115; bagging_fraction=0.908 : y = 0.93 : 50.6 secs : infill_ei\n",
      "\n",
      "Wed Jul 23 21:59:30 2025 AUC 0.930786992461177\n",
      "\n",
      "[mbo] 23: num_iterations=1030; learning_rate=0.0209; feature_fraction=0.424; min_data_in_leaf=423; num_leaves=185; max_depth=11; lambda_l1=4.97; lambda_l2=3.53; min_gain_to_split=0.12; bagging_fraction=0.912 : y = 0.931 : 52.9 secs : infill_ei\n",
      "\n",
      "Wed Jul 23 22:00:27 2025 AUC 0.931420292665004\n",
      "\n",
      "[mbo] 24: num_iterations=947; learning_rate=0.017; feature_fraction=0.432; min_data_in_leaf=396; num_leaves=209; max_depth=10; lambda_l1=4.28; lambda_l2=3.23; min_gain_to_split=0.0863; bagging_fraction=0.883 : y = 0.931 : 55.9 secs : infill_ei\n",
      "\n",
      "Saved the current state after iteration 25 in the file bayesiana.RDATA.\n",
      "\n",
      "Wed Jul 23 22:01:27 2025 AUC 0.930896304476025\n",
      "\n",
      "[mbo] 25: num_iterations=941; learning_rate=0.0173; feature_fraction=0.451; min_data_in_leaf=498; num_leaves=205; max_depth=11; lambda_l1=4.31; lambda_l2=3.25; min_gain_to_split=0.116; bagging_fraction=0.922 : y = 0.931 : 54.6 secs : infill_ei\n",
      "\n",
      "Wed Jul 23 22:02:21 2025 AUC 0.931034337768415\n",
      "\n",
      "[mbo] 26: num_iterations=862; learning_rate=0.0173; feature_fraction=0.455; min_data_in_leaf=468; num_leaves=236; max_depth=11; lambda_l1=3.82; lambda_l2=3.95; min_gain_to_split=0.0894; bagging_fraction=0.896 : y = 0.931 : 52.2 secs : infill_ei\n",
      "\n",
      "Wed Jul 23 22:03:16 2025 AUC 0.931119766585892\n",
      "\n",
      "[mbo] 27: num_iterations=1014; learning_rate=0.0175; feature_fraction=0.384; min_data_in_leaf=480; num_leaves=216; max_depth=11; lambda_l1=5; lambda_l2=3.88; min_gain_to_split=0.118; bagging_fraction=0.857 : y = 0.931 : 54.4 secs : infill_ei\n",
      "\n",
      "Wed Jul 23 22:04:05 2025 AUC 0.930594834518315\n",
      "\n",
      "[mbo] 28: num_iterations=832; learning_rate=0.0176; feature_fraction=0.394; min_data_in_leaf=341; num_leaves=205; max_depth=12; lambda_l1=4.98; lambda_l2=3.1; min_gain_to_split=0.143; bagging_fraction=0.928 : y = 0.931 : 47.2 secs : infill_ei\n",
      "\n",
      "Wed Jul 23 22:05:00 2025 AUC 0.930171017448784\n",
      "\n",
      "[mbo] 29: num_iterations=932; learning_rate=0.0191; feature_fraction=0.445; min_data_in_leaf=340; num_leaves=180; max_depth=11; lambda_l1=4.73; lambda_l2=3.69; min_gain_to_split=0.0844; bagging_fraction=0.868 : y = 0.93 : 54.4 secs : infill_ei\n",
      "\n",
      "Wed Jul 23 22:05:54 2025 AUC 0.930595071380011\n",
      "\n",
      "[mbo] 30: num_iterations=918; learning_rate=0.0166; feature_fraction=0.403; min_data_in_leaf=359; num_leaves=221; max_depth=10; lambda_l1=3.8; lambda_l2=3.66; min_gain_to_split=0.0894; bagging_fraction=0.897 : y = 0.931 : 52.6 secs : infill_ei\n",
      "\n",
      "Wed Jul 23 22:06:49 2025 AUC 0.930798223827632\n",
      "\n",
      "[mbo] 31: num_iterations=939; learning_rate=0.0186; feature_fraction=0.447; min_data_in_leaf=399; num_leaves=217; max_depth=9; lambda_l1=3.6; lambda_l2=3.48; min_gain_to_split=0.123; bagging_fraction=0.895 : y = 0.931 : 53.5 secs : infill_ei\n",
      "\n",
      "Wed Jul 23 22:07:47 2025 AUC 0.930735820317366\n",
      "\n",
      "[mbo] 32: num_iterations=966; learning_rate=0.0176; feature_fraction=0.44; min_data_in_leaf=456; num_leaves=191; max_depth=10; lambda_l1=3.66; lambda_l2=3.85; min_gain_to_split=0.0992; bagging_fraction=0.857 : y = 0.931 : 56.1 secs : infill_ei\n",
      "\n",
      "Wed Jul 23 22:08:42 2025 AUC 0.930887399906432\n",
      "\n",
      "[mbo] 33: num_iterations=962; learning_rate=0.0172; feature_fraction=0.389; min_data_in_leaf=410; num_leaves=209; max_depth=12; lambda_l1=4.2; lambda_l2=3.16; min_gain_to_split=0.146; bagging_fraction=0.851 : y = 0.931 : 53.8 secs : infill_ei\n",
      "\n",
      "Wed Jul 23 22:09:36 2025 AUC 0.930987412879919\n",
      "\n",
      "[mbo] 34: num_iterations=997; learning_rate=0.0191; feature_fraction=0.449; min_data_in_leaf=319; num_leaves=192; max_depth=11; lambda_l1=4.75; lambda_l2=4; min_gain_to_split=0.14; bagging_fraction=0.876 : y = 0.931 : 53.6 secs : infill_ei\n",
      "\n",
      "Wed Jul 23 22:10:27 2025 AUC 0.931094980853103\n",
      "\n",
      "[mbo] 35: num_iterations=909; learning_rate=0.0167; feature_fraction=0.381; min_data_in_leaf=480; num_leaves=188; max_depth=9; lambda_l1=4.14; lambda_l2=3.02; min_gain_to_split=0.0943; bagging_fraction=0.895 : y = 0.931 : 49.3 secs : infill_ei\n",
      "\n",
      "Wed Jul 23 22:11:17 2025 AUC 0.930167307281355\n",
      "\n",
      "[mbo] 36: num_iterations=829; learning_rate=0.0177; feature_fraction=0.458; min_data_in_leaf=427; num_leaves=194; max_depth=10; lambda_l1=3.66; lambda_l2=3.58; min_gain_to_split=0.122; bagging_fraction=0.927 : y = 0.93 : 49.0 secs : infill_ei\n",
      "\n",
      "Saved the current state after iteration 37 in the file bayesiana.RDATA.\n",
      "\n",
      "Wed Jul 23 22:12:19 2025 AUC 0.930780407393739\n",
      "\n",
      "[mbo] 37: num_iterations=987; learning_rate=0.0164; feature_fraction=0.47; min_data_in_leaf=330; num_leaves=232; max_depth=11; lambda_l1=4.63; lambda_l2=3.03; min_gain_to_split=0.129; bagging_fraction=0.869 : y = 0.931 : 56.7 secs : infill_ei\n",
      "\n",
      "Wed Jul 23 22:13:15 2025 AUC 0.930517030217365\n",
      "\n",
      "[mbo] 38: num_iterations=954; learning_rate=0.0172; feature_fraction=0.449; min_data_in_leaf=361; num_leaves=192; max_depth=9; lambda_l1=3.61; lambda_l2=3.31; min_gain_to_split=0.126; bagging_fraction=0.867 : y = 0.931 : 54.7 secs : infill_ei\n",
      "\n",
      "Wed Jul 23 22:14:05 2025 AUC 0.931004695813424\n",
      "\n",
      "[mbo] 39: num_iterations=853; learning_rate=0.0187; feature_fraction=0.471; min_data_in_leaf=316; num_leaves=196; max_depth=9; lambda_l1=4.23; lambda_l2=3.13; min_gain_to_split=0.138; bagging_fraction=0.943 : y = 0.931 : 48.2 secs : infill_ei\n",
      "\n",
      "Wed Jul 23 22:14:58 2025 AUC 0.931217672405429\n",
      "\n",
      "[mbo] 40: num_iterations=860; learning_rate=0.0199; feature_fraction=0.415; min_data_in_leaf=343; num_leaves=215; max_depth=12; lambda_l1=3.53; lambda_l2=3.99; min_gain_to_split=0.086; bagging_fraction=0.89 : y = 0.931 : 52.5 secs : infill_ei\n",
      "\n",
      "Wed Jul 23 22:15:54 2025 AUC 0.931189504555927\n",
      "\n",
      "[mbo] 41: num_iterations=885; learning_rate=0.0177; feature_fraction=0.461; min_data_in_leaf=447; num_leaves=233; max_depth=11; lambda_l1=4; lambda_l2=3.06; min_gain_to_split=0.0839; bagging_fraction=0.946 : y = 0.931 : 54.0 secs : infill_ei\n",
      "\n",
      "Wed Jul 23 22:16:41 2025 AUC 0.930748092623158\n",
      "\n",
      "[mbo] 42: num_iterations=815; learning_rate=0.019; feature_fraction=0.385; min_data_in_leaf=500; num_leaves=183; max_depth=11; lambda_l1=3.65; lambda_l2=3.81; min_gain_to_split=0.148; bagging_fraction=0.919 : y = 0.931 : 46.1 secs : infill_ei\n",
      "\n",
      "Wed Jul 23 22:17:31 2025 AUC 0.93065026654874\n",
      "\n",
      "[mbo] 43: num_iterations=859; learning_rate=0.0206; feature_fraction=0.428; min_data_in_leaf=421; num_leaves=188; max_depth=10; lambda_l1=4.29; lambda_l2=3.38; min_gain_to_split=0.111; bagging_fraction=0.88 : y = 0.931 : 48.5 secs : infill_ei\n",
      "\n",
      "Wed Jul 23 22:18:19 2025 AUC 0.93044451223682\n",
      "\n",
      "[mbo] 44: num_iterations=829; learning_rate=0.0171; feature_fraction=0.393; min_data_in_leaf=387; num_leaves=219; max_depth=11; lambda_l1=4.77; lambda_l2=3.08; min_gain_to_split=0.13; bagging_fraction=0.916 : y = 0.93 : 47.5 secs : infill_ei\n",
      "\n",
      "Wed Jul 23 22:19:06 2025 AUC 0.931197104548254\n",
      "\n",
      "[mbo] 45: num_iterations=839; learning_rate=0.021; feature_fraction=0.404; min_data_in_leaf=379; num_leaves=202; max_depth=12; lambda_l1=4.68; lambda_l2=3.57; min_gain_to_split=0.145; bagging_fraction=0.86 : y = 0.931 : 45.4 secs : infill_ei\n",
      "\n",
      "Wed Jul 23 22:20:02 2025 AUC 0.931062377571019\n",
      "\n",
      "[mbo] 46: num_iterations=1004; learning_rate=0.0172; feature_fraction=0.434; min_data_in_leaf=389; num_leaves=197; max_depth=9; lambda_l1=4.46; lambda_l2=3.57; min_gain_to_split=0.121; bagging_fraction=0.94 : y = 0.931 : 54.4 secs : infill_ei\n",
      "\n",
      "Wed Jul 23 22:20:51 2025 AUC 0.930309471326481\n",
      "\n",
      "[mbo] 47: num_iterations=840; learning_rate=0.0178; feature_fraction=0.44; min_data_in_leaf=475; num_leaves=191; max_depth=10; lambda_l1=3.62; lambda_l2=3.81; min_gain_to_split=0.132; bagging_fraction=0.897 : y = 0.93 : 47.7 secs : infill_ei\n",
      "\n",
      "Wed Jul 23 22:21:46 2025 AUC 0.931283740786178\n",
      "\n",
      "[mbo] 48: num_iterations=932; learning_rate=0.0166; feature_fraction=0.433; min_data_in_leaf=428; num_leaves=219; max_depth=12; lambda_l1=4.84; lambda_l2=3.93; min_gain_to_split=0.126; bagging_fraction=0.877 : y = 0.931 : 53.9 secs : infill_ei\n",
      "\n",
      "Saved the current state after iteration 49 in the file bayesiana.RDATA.\n",
      "\n",
      "Wed Jul 23 22:22:41 2025 AUC 0.930925700920863\n",
      "\n",
      "[mbo] 49: num_iterations=851; learning_rate=0.0178; feature_fraction=0.397; min_data_in_leaf=441; num_leaves=238; max_depth=10; lambda_l1=3.52; lambda_l2=3.87; min_gain_to_split=0.137; bagging_fraction=0.927 : y = 0.931 : 48.4 secs : infill_ei\n",
      "\n",
      "Wed Jul 23 22:23:32 2025 AUC 0.930766895593042\n",
      "\n",
      "[mbo] 50: num_iterations=829; learning_rate=0.0202; feature_fraction=0.431; min_data_in_leaf=443; num_leaves=229; max_depth=11; lambda_l1=3.71; lambda_l2=3.88; min_gain_to_split=0.0932; bagging_fraction=0.89 : y = 0.931 : 49.7 secs : infill_ei\n",
      "\n",
      "Saved the final state in the file bayesiana.RDATA\n",
      "\n"
     ]
    }
   ],
   "source": [
    "# inicio la optimizacion bayesiana, retomando si ya existe\n",
    "# es la celda mas lenta de todo el notebook\n",
    "\n",
    "if (!file.exists(kbayesiana)) {\n",
    "  bayesiana_salida <- mbo(obj.fun, learner= surr.km, control= ctrl)\n",
    "} else {\n",
    "  bayesiana_salida <- mboContinue(kbayesiana) # retomo en caso que ya exista\n",
    "}"
   ]
  },
  {
   "cell_type": "code",
   "execution_count": 21,
   "metadata": {
    "id": "ssk5nnMk6INK"
   },
   "outputs": [
    {
     "data": {
      "text/html": [
       "<style>\n",
       ".list-inline {list-style: none; margin:0; padding: 0}\n",
       ".list-inline>li {display: inline-block}\n",
       ".list-inline>li:not(:last-child)::after {content: \"\\00b7\"; padding: 0 .5ex}\n",
       "</style>\n",
       "<ol class=list-inline><li>'num_iterations'</li><li>'learning_rate'</li><li>'feature_fraction'</li><li>'min_data_in_leaf'</li><li>'num_leaves'</li><li>'max_depth'</li><li>'lambda_l1'</li><li>'lambda_l2'</li><li>'min_gain_to_split'</li><li>'bagging_fraction'</li><li>'y'</li><li>'dob'</li><li>'eol'</li><li>'error.message'</li><li>'exec.time'</li><li>'ei'</li><li>'error.model'</li><li>'train.time'</li><li>'prop.type'</li><li>'propose.time'</li><li>'se'</li><li>'mean'</li></ol>\n"
      ],
      "text/latex": [
       "\\begin{enumerate*}\n",
       "\\item 'num\\_iterations'\n",
       "\\item 'learning\\_rate'\n",
       "\\item 'feature\\_fraction'\n",
       "\\item 'min\\_data\\_in\\_leaf'\n",
       "\\item 'num\\_leaves'\n",
       "\\item 'max\\_depth'\n",
       "\\item 'lambda\\_l1'\n",
       "\\item 'lambda\\_l2'\n",
       "\\item 'min\\_gain\\_to\\_split'\n",
       "\\item 'bagging\\_fraction'\n",
       "\\item 'y'\n",
       "\\item 'dob'\n",
       "\\item 'eol'\n",
       "\\item 'error.message'\n",
       "\\item 'exec.time'\n",
       "\\item 'ei'\n",
       "\\item 'error.model'\n",
       "\\item 'train.time'\n",
       "\\item 'prop.type'\n",
       "\\item 'propose.time'\n",
       "\\item 'se'\n",
       "\\item 'mean'\n",
       "\\end{enumerate*}\n"
      ],
      "text/markdown": [
       "1. 'num_iterations'\n",
       "2. 'learning_rate'\n",
       "3. 'feature_fraction'\n",
       "4. 'min_data_in_leaf'\n",
       "5. 'num_leaves'\n",
       "6. 'max_depth'\n",
       "7. 'lambda_l1'\n",
       "8. 'lambda_l2'\n",
       "9. 'min_gain_to_split'\n",
       "10. 'bagging_fraction'\n",
       "11. 'y'\n",
       "12. 'dob'\n",
       "13. 'eol'\n",
       "14. 'error.message'\n",
       "15. 'exec.time'\n",
       "16. 'ei'\n",
       "17. 'error.model'\n",
       "18. 'train.time'\n",
       "19. 'prop.type'\n",
       "20. 'propose.time'\n",
       "21. 'se'\n",
       "22. 'mean'\n",
       "\n",
       "\n"
      ],
      "text/plain": [
       " [1] \"num_iterations\"    \"learning_rate\"     \"feature_fraction\" \n",
       " [4] \"min_data_in_leaf\"  \"num_leaves\"        \"max_depth\"        \n",
       " [7] \"lambda_l1\"         \"lambda_l2\"         \"min_gain_to_split\"\n",
       "[10] \"bagging_fraction\"  \"y\"                 \"dob\"              \n",
       "[13] \"eol\"               \"error.message\"     \"exec.time\"        \n",
       "[16] \"ei\"                \"error.model\"       \"train.time\"       \n",
       "[19] \"prop.type\"         \"propose.time\"      \"se\"               \n",
       "[22] \"mean\"             "
      ]
     },
     "metadata": {},
     "output_type": "display_data"
    }
   ],
   "source": [
    "\n",
    "tb_bayesiana <- as.data.table(bayesiana_salida$opt.path)\n",
    "colnames( tb_bayesiana)"
   ]
  },
  {
   "cell_type": "code",
   "execution_count": 22,
   "metadata": {
    "id": "u4zq-vknhjGc"
   },
   "outputs": [],
   "source": [
    "# almaceno los resultados de la Bayesian Optimization\n",
    "# y capturo los mejores hiperparametros encontrados\n",
    "\n",
    "tb_bayesiana <- as.data.table(bayesiana_salida$opt.path)\n",
    "\n",
    "tb_bayesiana[, iter := .I]\n",
    "\n",
    "# ordeno en forma descendente por AUC = y\n",
    "setorder(tb_bayesiana, -y)\n",
    "\n",
    "# grabo para eventualmente poder utilizarlos en OTRA corrida\n",
    "fwrite( tb_bayesiana,\n",
    "  file= \"BO_log.txt\",\n",
    "  sep= \"\\t\"\n",
    ")\n",
    "\n",
    "# los mejores hiperparámetros son los que quedaron en el registro 1 de la tabla\n",
    "PARAM$out$lgbm$mejores_hiperparametros <- tb_bayesiana[\n",
    "  1, # el primero es el de mejor AUC\n",
    "  setdiff(colnames(tb_bayesiana),\n",
    "    c(\"y\",\"dob\",\"eol\",\"error.message\",\"exec.time\",\"ei\",\"error.model\",\n",
    "      \"train.time\",\"prop.type\",\"propose.time\",\"se\",\"mean\",\"iter\")),\n",
    "  with= FALSE\n",
    "]\n",
    "\n",
    "\n",
    "PARAM$out$lgbm$y <- tb_bayesiana[1, y]\n"
   ]
  },
  {
   "cell_type": "code",
   "execution_count": 23,
   "metadata": {
    "id": "E8v2eA427N8e"
   },
   "outputs": [],
   "source": [
    "write_yaml( PARAM, file=\"PARAM.yml\")"
   ]
  },
  {
   "cell_type": "code",
   "execution_count": 24,
   "metadata": {
    "id": "iBTWexVU7PGC"
   },
   "outputs": [
    {
     "name": "stdout",
     "output_type": "stream",
     "text": [
      "   num_iterations learning_rate feature_fraction min_data_in_leaf num_leaves\n",
      "            <int>         <num>            <num>            <int>      <int>\n",
      "1:            865     0.0202422        0.4177905              467        229\n",
      "   max_depth lambda_l1 lambda_l2 min_gain_to_split bagging_fraction\n",
      "       <int>     <num>     <num>             <num>            <num>\n",
      "1:        10  3.669922  3.901225        0.08932829        0.8944576\n",
      "[1] 0.9319591\n"
     ]
    }
   ],
   "source": [
    "print(PARAM$out$lgbm$mejores_hiperparametros)\n",
    "print(PARAM$out$lgbm$y)"
   ]
  },
  {
   "cell_type": "markdown",
   "metadata": {
    "id": "TKsVZmAnhwX-"
   },
   "source": [
    "## 2.3  Produccion"
   ]
  },
  {
   "cell_type": "markdown",
   "metadata": {
    "id": "RQ_C33Tr5B_9"
   },
   "source": [
    "### Final Training\n",
    "Construyo el modelo final, que es uno solo, no hace ningun tipo de particion < training, validation, testing>]"
   ]
  },
  {
   "cell_type": "code",
   "execution_count": 25,
   "metadata": {
    "id": "eDqfyA14hzwv"
   },
   "outputs": [],
   "source": [
    "setwd(\"/content/buckets/b1/exp\")\n",
    "experimento <- paste0(\"exp\", PARAM$experimento)\n",
    "dir.create(experimento, showWarnings= FALSE)\n",
    "setwd( paste0(\"/content/buckets/b1/exp/\", experimento ))"
   ]
  },
  {
   "cell_type": "markdown",
   "metadata": {
    "id": "8qFmFivf5Iet"
   },
   "source": [
    "#### Final Training Dataset\n",
    "\n",
    "Aqui esta la gran decision de en qué meses hago el Final Training\n",
    "<br> debo utilizar los mejores hiperparámetros que encontré en la optimización bayesiana"
   ]
  },
  {
   "cell_type": "code",
   "execution_count": 26,
   "metadata": {
    "id": "lg5WVZncvc7H"
   },
   "outputs": [],
   "source": [
    "# clase01\n",
    "dataset[, clase01 := ifelse(clase_ternaria %in% c(\"BAJA+1\", \"BAJA+2\"), 1L, 0L)]"
   ]
  },
  {
   "cell_type": "code",
   "execution_count": 27,
   "metadata": {
    "id": "yc9QzXREv0xf"
   },
   "outputs": [],
   "source": [
    "dataset_train <- dataset[foto_mes %in% c(202107)]"
   ]
  },
  {
   "cell_type": "code",
   "execution_count": 28,
   "metadata": {
    "id": "thjdqEBLuvNt"
   },
   "outputs": [],
   "source": [
    "# dejo los datos en el formato que necesita LightGBM\n",
    "\n",
    "dtrain <- lgb.Dataset(\n",
    "  data= data.matrix(dataset_train[, campos_buenos, with= FALSE]),\n",
    "  label= dataset_train[, clase01]\n",
    ")"
   ]
  },
  {
   "cell_type": "markdown",
   "metadata": {
    "id": "VNUa-WSz5Oqu"
   },
   "source": [
    "#### Final Training Hyperparameters"
   ]
  },
  {
   "cell_type": "code",
   "execution_count": 29,
   "metadata": {
    "id": "FgCcvBfEwImu"
   },
   "outputs": [
    {
     "data": {
      "text/html": [
       "<dl>\n",
       "\t<dt>$boosting</dt>\n",
       "\t\t<dd>'gbdt'</dd>\n",
       "\t<dt>$objective</dt>\n",
       "\t\t<dd>'binary'</dd>\n",
       "\t<dt>$metric</dt>\n",
       "\t\t<dd>'auc'</dd>\n",
       "\t<dt>$first_metric_only</dt>\n",
       "\t\t<dd>FALSE</dd>\n",
       "\t<dt>$boost_from_average</dt>\n",
       "\t\t<dd>TRUE</dd>\n",
       "\t<dt>$feature_pre_filter</dt>\n",
       "\t\t<dd>FALSE</dd>\n",
       "\t<dt>$force_row_wise</dt>\n",
       "\t\t<dd>TRUE</dd>\n",
       "\t<dt>$verbosity</dt>\n",
       "\t\t<dd>-100</dd>\n",
       "\t<dt>$seed</dt>\n",
       "\t\t<dd>100129</dd>\n",
       "\t<dt>$max_depth</dt>\n",
       "\t\t<dd>10</dd>\n",
       "\t<dt>$min_gain_to_split</dt>\n",
       "\t\t<dd>0.0893282856957182</dd>\n",
       "\t<dt>$min_sum_hessian_in_leaf</dt>\n",
       "\t\t<dd>0.001</dd>\n",
       "\t<dt>$lambda_l1</dt>\n",
       "\t\t<dd>3.66992238950201</dd>\n",
       "\t<dt>$lambda_l2</dt>\n",
       "\t\t<dd>3.90122505043704</dd>\n",
       "\t<dt>$max_bin</dt>\n",
       "\t\t<dd>31</dd>\n",
       "\t<dt>$bagging_fraction</dt>\n",
       "\t\t<dd>0.894457557396117</dd>\n",
       "\t<dt>$pos_bagging_fraction</dt>\n",
       "\t\t<dd>1</dd>\n",
       "\t<dt>$neg_bagging_fraction</dt>\n",
       "\t\t<dd>1</dd>\n",
       "\t<dt>$is_unbalance</dt>\n",
       "\t\t<dd>FALSE</dd>\n",
       "\t<dt>$scale_pos_weight</dt>\n",
       "\t\t<dd>1</dd>\n",
       "\t<dt>$drop_rate</dt>\n",
       "\t\t<dd>0.1</dd>\n",
       "\t<dt>$max_drop</dt>\n",
       "\t\t<dd>50</dd>\n",
       "\t<dt>$skip_drop</dt>\n",
       "\t\t<dd>0.5</dd>\n",
       "\t<dt>$extra_trees</dt>\n",
       "\t\t<dd>FALSE</dd>\n",
       "\t<dt>$num_iterations</dt>\n",
       "\t\t<dd>865</dd>\n",
       "\t<dt>$learning_rate</dt>\n",
       "\t\t<dd>0.0202422017170549</dd>\n",
       "\t<dt>$feature_fraction</dt>\n",
       "\t\t<dd>0.41779051777269</dd>\n",
       "\t<dt>$num_leaves</dt>\n",
       "\t\t<dd>229</dd>\n",
       "\t<dt>$min_data_in_leaf</dt>\n",
       "\t\t<dd>467</dd>\n",
       "</dl>\n"
      ],
      "text/latex": [
       "\\begin{description}\n",
       "\\item[\\$boosting] 'gbdt'\n",
       "\\item[\\$objective] 'binary'\n",
       "\\item[\\$metric] 'auc'\n",
       "\\item[\\$first\\_metric\\_only] FALSE\n",
       "\\item[\\$boost\\_from\\_average] TRUE\n",
       "\\item[\\$feature\\_pre\\_filter] FALSE\n",
       "\\item[\\$force\\_row\\_wise] TRUE\n",
       "\\item[\\$verbosity] -100\n",
       "\\item[\\$seed] 100129\n",
       "\\item[\\$max\\_depth] 10\n",
       "\\item[\\$min\\_gain\\_to\\_split] 0.0893282856957182\n",
       "\\item[\\$min\\_sum\\_hessian\\_in\\_leaf] 0.001\n",
       "\\item[\\$lambda\\_l1] 3.66992238950201\n",
       "\\item[\\$lambda\\_l2] 3.90122505043704\n",
       "\\item[\\$max\\_bin] 31\n",
       "\\item[\\$bagging\\_fraction] 0.894457557396117\n",
       "\\item[\\$pos\\_bagging\\_fraction] 1\n",
       "\\item[\\$neg\\_bagging\\_fraction] 1\n",
       "\\item[\\$is\\_unbalance] FALSE\n",
       "\\item[\\$scale\\_pos\\_weight] 1\n",
       "\\item[\\$drop\\_rate] 0.1\n",
       "\\item[\\$max\\_drop] 50\n",
       "\\item[\\$skip\\_drop] 0.5\n",
       "\\item[\\$extra\\_trees] FALSE\n",
       "\\item[\\$num\\_iterations] 865\n",
       "\\item[\\$learning\\_rate] 0.0202422017170549\n",
       "\\item[\\$feature\\_fraction] 0.41779051777269\n",
       "\\item[\\$num\\_leaves] 229\n",
       "\\item[\\$min\\_data\\_in\\_leaf] 467\n",
       "\\end{description}\n"
      ],
      "text/markdown": [
       "$boosting\n",
       ":   'gbdt'\n",
       "$objective\n",
       ":   'binary'\n",
       "$metric\n",
       ":   'auc'\n",
       "$first_metric_only\n",
       ":   FALSE\n",
       "$boost_from_average\n",
       ":   TRUE\n",
       "$feature_pre_filter\n",
       ":   FALSE\n",
       "$force_row_wise\n",
       ":   TRUE\n",
       "$verbosity\n",
       ":   -100\n",
       "$seed\n",
       ":   100129\n",
       "$max_depth\n",
       ":   10\n",
       "$min_gain_to_split\n",
       ":   0.0893282856957182\n",
       "$min_sum_hessian_in_leaf\n",
       ":   0.001\n",
       "$lambda_l1\n",
       ":   3.66992238950201\n",
       "$lambda_l2\n",
       ":   3.90122505043704\n",
       "$max_bin\n",
       ":   31\n",
       "$bagging_fraction\n",
       ":   0.894457557396117\n",
       "$pos_bagging_fraction\n",
       ":   1\n",
       "$neg_bagging_fraction\n",
       ":   1\n",
       "$is_unbalance\n",
       ":   FALSE\n",
       "$scale_pos_weight\n",
       ":   1\n",
       "$drop_rate\n",
       ":   0.1\n",
       "$max_drop\n",
       ":   50\n",
       "$skip_drop\n",
       ":   0.5\n",
       "$extra_trees\n",
       ":   FALSE\n",
       "$num_iterations\n",
       ":   865\n",
       "$learning_rate\n",
       ":   0.0202422017170549\n",
       "$feature_fraction\n",
       ":   0.41779051777269\n",
       "$num_leaves\n",
       ":   229\n",
       "$min_data_in_leaf\n",
       ":   467\n",
       "\n",
       "\n"
      ],
      "text/plain": [
       "$boosting\n",
       "[1] \"gbdt\"\n",
       "\n",
       "$objective\n",
       "[1] \"binary\"\n",
       "\n",
       "$metric\n",
       "[1] \"auc\"\n",
       "\n",
       "$first_metric_only\n",
       "[1] FALSE\n",
       "\n",
       "$boost_from_average\n",
       "[1] TRUE\n",
       "\n",
       "$feature_pre_filter\n",
       "[1] FALSE\n",
       "\n",
       "$force_row_wise\n",
       "[1] TRUE\n",
       "\n",
       "$verbosity\n",
       "[1] -100\n",
       "\n",
       "$seed\n",
       "[1] 100129\n",
       "\n",
       "$max_depth\n",
       "[1] 10\n",
       "\n",
       "$min_gain_to_split\n",
       "[1] 0.08932829\n",
       "\n",
       "$min_sum_hessian_in_leaf\n",
       "[1] 0.001\n",
       "\n",
       "$lambda_l1\n",
       "[1] 3.669922\n",
       "\n",
       "$lambda_l2\n",
       "[1] 3.901225\n",
       "\n",
       "$max_bin\n",
       "[1] 31\n",
       "\n",
       "$bagging_fraction\n",
       "[1] 0.8944576\n",
       "\n",
       "$pos_bagging_fraction\n",
       "[1] 1\n",
       "\n",
       "$neg_bagging_fraction\n",
       "[1] 1\n",
       "\n",
       "$is_unbalance\n",
       "[1] FALSE\n",
       "\n",
       "$scale_pos_weight\n",
       "[1] 1\n",
       "\n",
       "$drop_rate\n",
       "[1] 0.1\n",
       "\n",
       "$max_drop\n",
       "[1] 50\n",
       "\n",
       "$skip_drop\n",
       "[1] 0.5\n",
       "\n",
       "$extra_trees\n",
       "[1] FALSE\n",
       "\n",
       "$num_iterations\n",
       "[1] 865\n",
       "\n",
       "$learning_rate\n",
       "[1] 0.0202422\n",
       "\n",
       "$feature_fraction\n",
       "[1] 0.4177905\n",
       "\n",
       "$num_leaves\n",
       "[1] 229\n",
       "\n",
       "$min_data_in_leaf\n",
       "[1] 467\n"
      ]
     },
     "metadata": {},
     "output_type": "display_data"
    }
   ],
   "source": [
    "param_final <- modifyList(PARAM$lgbm$param_fijos,\n",
    "  PARAM$out$lgbm$mejores_hiperparametros)\n",
    "\n",
    "param_final"
   ]
  },
  {
   "cell_type": "markdown",
   "metadata": {
    "id": "TZIYn4l95TBH"
   },
   "source": [
    "#### Training\n",
    "Genero el modelo final, siempre sobre TODOS los datos de  final_train, sin hacer ningun tipo de undersampling de la clase mayoritaria"
   ]
  },
  {
   "cell_type": "code",
   "execution_count": 30,
   "metadata": {
    "id": "vPLsd4mMRe4u"
   },
   "outputs": [],
   "source": [
    "# este punto es muy SUTIL  y será revisado en la Clase 05\n",
    "\n",
    "param_normalizado <- copy(param_final)\n",
    "param_normalizado$min_data_in_leaf <-  param_final$min_data_in_leaf / PARAM$trainingstrategy$undersampling"
   ]
  },
  {
   "cell_type": "code",
   "execution_count": 31,
   "metadata": {
    "id": "WRI_-taRwOXO"
   },
   "outputs": [],
   "source": [
    "  # entreno LightGBM\n",
    "\n",
    "  modelo_final <- lgb.train(\n",
    "    data= dtrain,\n",
    "    param= param_normalizado\n",
    "  )"
   ]
  },
  {
   "cell_type": "code",
   "execution_count": 32,
   "metadata": {
    "id": "_bkhnCvj0g3Q"
   },
   "outputs": [],
   "source": [
    "# ahora imprimo la importancia de variables\n",
    "\n",
    "tb_importancia <- as.data.table(lgb.importance(modelo_final))\n",
    "archivo_importancia <- \"impo.txt\"\n",
    "\n",
    "fwrite(tb_importancia,\n",
    "  file= archivo_importancia,\n",
    "  sep= \"\\t\"\n",
    ")"
   ]
  },
  {
   "cell_type": "code",
   "execution_count": null,
   "metadata": {
    "id": "lZ3sLmbh0kFj"
   },
   "outputs": [],
   "source": [
    "# grabo a disco el modelo en un formato para seres humanos ... ponele ...\n",
    "\n",
    "lgb.save(modelo_final, \"modelo.txt\" )"
   ]
  },
  {
   "cell_type": "markdown",
   "metadata": {
    "id": "VEtp2--t5Ymg"
   },
   "source": [
    "### Scoring"
   ]
  },
  {
   "cell_type": "markdown",
   "metadata": {
    "id": "hI5008Mj5ZdI"
   },
   "source": [
    "Aplico el modelo final a los datos del futuro"
   ]
  },
  {
   "cell_type": "code",
   "execution_count": null,
   "metadata": {
    "id": "PimBY3N_0ryP"
   },
   "outputs": [],
   "source": [
    "# aplico el modelo a los datos sin clase\n",
    "dfuture <- dataset[foto_mes == 202109]\n",
    "\n",
    "# aplico el modelo a los datos nuevos\n",
    "prediccion <- predict(\n",
    "  modelo_final,\n",
    "  data.matrix(dfuture[, campos_buenos, with= FALSE])\n",
    ")"
   ]
  },
  {
   "cell_type": "markdown",
   "metadata": {
    "id": "D26rNRh55gpw"
   },
   "source": [
    "#### Tabla Prediccion"
   ]
  },
  {
   "cell_type": "code",
   "execution_count": null,
   "metadata": {
    "id": "RJwg7LHd11yu"
   },
   "outputs": [],
   "source": [
    "# tabla de prediccion\n",
    "\n",
    "tb_prediccion <- dfuture[, list(numero_de_cliente)]\n",
    "tb_prediccion[, prob := prediccion ]\n",
    "\n",
    "# grabo las probabilidad del modelo\n",
    "fwrite(tb_prediccion,\n",
    "  file= \"prediccion.txt\",\n",
    "  sep= \"\\t\"\n",
    ")"
   ]
  },
  {
   "cell_type": "markdown",
   "metadata": {
    "id": "jOt4eG_55ltv"
   },
   "source": [
    "Kaggle Competition Submit"
   ]
  },
  {
   "cell_type": "code",
   "execution_count": null,
   "metadata": {
    "id": "gWW3tatE12je"
   },
   "outputs": [],
   "source": [
    "# genero archivos con los  \"envios\" mejores\n",
    "# suba TODOS los archivos a Kaggle\n",
    "\n",
    "# ordeno por probabilidad descendente\n",
    "setorder(tb_prediccion, -prob)\n",
    "\n",
    "dir.create(\"kaggle\")\n",
    "\n",
    "for (envios in PARAM$kaggle$cortes) {\n",
    "\n",
    "  tb_prediccion[, Predicted := 0L] # seteo inicial a 0\n",
    "  tb_prediccion[1:envios, Predicted := 1L] # marclo los primeros\n",
    "\n",
    "  archivo_kaggle <- paste0(\"./kaggle/KA\", PARAM$experimento, \"_\", envios, \".csv\")\n",
    "\n",
    "  # grabo el archivo\n",
    "  fwrite(tb_prediccion[, list(numero_de_cliente, Predicted)],\n",
    "    file= archivo_kaggle,\n",
    "    sep= \",\"\n",
    "  )\n",
    "\n",
    "  # subida a Kaggle, armo la linea de comando\n",
    "  comando <- \"kaggle competitions submit\"\n",
    "  competencia <- paste(\"-c\", PARAM$kaggle$competencia)\n",
    "  arch <- paste( \"-f\", archivo_kaggle)\n",
    "\n",
    "  mensaje <- paste0(\"-m 'envios=\", envios,\n",
    "  \"  semilla=\", PARAM$semilla_primigenia,\n",
    "    \"'\" )\n",
    "\n",
    "  linea <- paste( comando, competencia, arch, mensaje)\n",
    "\n",
    "  salida <- system(linea, intern=TRUE) # el submit a Kaggle\n",
    "  cat(salida, \"\\n\")\n",
    "}"
   ]
  },
  {
   "cell_type": "code",
   "execution_count": null,
   "metadata": {
    "id": "B9tB2X4439Hg"
   },
   "outputs": [],
   "source": [
    "write_yaml( PARAM, file=\"PARAM.yml\")"
   ]
  },
  {
   "cell_type": "code",
   "execution_count": null,
   "metadata": {
    "id": "9zA_W25c15DP"
   },
   "outputs": [],
   "source": [
    "format(Sys.time(), \"%a %b %d %X %Y\")"
   ]
  },
  {
   "cell_type": "markdown",
   "metadata": {
    "id": "UdVZucdLHzZ0"
   },
   "source": [
    "Finalmente usted deberá cargar el resultado de su corrida en la Google Sheet Colaborativa,  hoja **TareaHogar04**\n",
    "<br> Siéntase libre de agregar las columnas que hagan falta a la planilla"
   ]
  },
  {
   "cell_type": "code",
   "execution_count": null,
   "metadata": {
    "id": "WMHh7uNVIJkT"
   },
   "outputs": [],
   "source": []
  }
 ],
 "metadata": {
  "colab": {
   "provenance": []
  },
  "kernelspec": {
   "display_name": "R",
   "language": "R",
   "name": "ir"
  },
  "language_info": {
   "codemirror_mode": "r",
   "file_extension": ".r",
   "mimetype": "text/x-r-source",
   "name": "R",
   "pygments_lexer": "r",
   "version": "4.4.3"
  }
 },
 "nbformat": 4,
 "nbformat_minor": 4
}
