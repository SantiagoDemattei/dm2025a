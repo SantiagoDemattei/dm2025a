{
 "cells": [
  {
   "cell_type": "markdown",
   "metadata": {
    "id": "0cEmzeUKFkPh"
   },
   "source": [
    "# Tarea para el Hogar 04"
   ]
  },
  {
   "cell_type": "markdown",
   "metadata": {
    "id": "nSICPpyTGQmC"
   },
   "source": [
    "Esta Tarea para el Hogar 02 se entrega el final de la cuarta clase\n",
    "<br> se espera de usted que intente avanzar con los desafios propuestos y que los traiga terminados para la Clase 05 que será el viernes 01-agosto"
   ]
  },
  {
   "cell_type": "markdown",
   "metadata": {
    "id": "DenyKXkiJ5JN"
   },
   "source": [
    "##  1. Cazatalentos"
   ]
  },
  {
   "cell_type": "markdown",
   "metadata": {
    "id": "l-K2_ZsZGrVD"
   },
   "source": [
    "En la Clase 03 nos hemos enfrentado a  \"La Maldicion del Ganandor\",  elegir el modelo con el mejor puntaje simple no suele ser la mejor estrategia.\n",
    "<br> Lea y ejecute el notebook  **src/CazaTalentos/CazaTalentos.ipynb**\n",
    "<br> en caso de interesarle, participe del Desafío Ordenamiento  que vence el sábado 02 de agosto a las 19:00"
   ]
  },
  {
   "cell_type": "markdown",
   "metadata": {
    "id": "K9GkTOk5J9t3"
   },
   "source": [
    "## 2. Hiperparámetros del LightGBM"
   ]
  },
  {
   "cell_type": "markdown",
   "metadata": {
    "id": "VmEFy0ukKL5T"
   },
   "source": [
    "Los objetivos de esta tarea son:\n",
    "\n",
    "\n",
    "*   Aumentar la rentabilidad de la campaña de marketing de retención proactiva de clientes.\n",
    "*   Generar un mejor modelo optimizando sus hiperparámetros\n",
    "*   Conceptual : investigar los mas relevantes hiperparámetros de LightGBM\n",
    "*   Familiarizarse con la Bayesian Optimization, sus largos tiempos de corrida y opciones para reducirlos\n",
    "*   Familiarizarse con el uso de máquinas virtuales de Google Colab\n",
    "*   Ver un pipeline completo de optimización de hiperparámetros y puesta en producción"
   ]
  },
  {
   "cell_type": "markdown",
   "metadata": {
    "id": "5yvlS6JQLRMd"
   },
   "source": [
    "LightGBM cuenta con mas de 60 hiperparámetros, siendo posible utilizar 40 al mismo tiempo, aunque no razonable.\n",
    "<br> La documentación oficial de los hiperparámetros de LightGBM es  https://lightgbm.readthedocs.io/en/latest/Parameters.html#core-parameters\n"
   ]
  },
  {
   "cell_type": "markdown",
   "metadata": {
    "id": "eydI4YNAsFaf"
   },
   "source": [
    "Se lo alerta sobre que una Optimizacion Bayesiana lleva varias horas de corrida, y usted deberá correr VARIAS optimizaciones para descubrir cuales parámetros conviene optimizar.\n",
    "<br> A pesar que la próxima clase es recien en viernes 01 de agosto, inicie la tarea con tiempo, aprenda a planificar estratégicamente sus corridas como un@ científ@  de datos."
   ]
  },
  {
   "cell_type": "markdown",
   "metadata": {
    "id": "RzU4S0SeMcpp"
   },
   "source": [
    "Es necesario investigar cuales son los hiperparámetros de LightGBM que vale la pena optimizar en una Bayesian Optimization, ya que los realmente utiles son apenas un reducido subconjunto.\n",
    "<br>Usted deberá investigar cuales son los hiperparámetros mas relevantes de LightGBM, su primer alternativa es preguntándole a su amigo con capacidades especiales ChatGPT o sus endogámicos familiares Claude, DeepSeek, Gemini, Grok, etc\n",
    "<br> La segunda alternativa es la propia documentación de LightGBM  https://lightgbm.readthedocs.io/en/latest/Parameters-Tuning.html\n"
   ]
  },
  {
   "cell_type": "markdown",
   "metadata": {
    "id": "LNptUgI_NWWG"
   },
   "source": [
    "Adicionalmente podra buscar información como la que proveen esta diminuta muestra aleatoria de artículos ligeros:\n",
    "*  https://medium.com/@sarahzouinina/a-deep-dive-into-lightgbm-how-to-choose-and-tune-parameters-7c584945842e\n",
    "*  https://www.kaggle.com/code/somang1418/tuning-hyperparameters-under-10-minutes-lgbm\n",
    "*  https://towardsdatascience.com/beginners-guide-to-the-must-know-lightgbm-hyperparameters-a0005a812702/\n",
    "\n",
    "\n",
    "<br>  La muestra anterior se brinda a modo de ejemplo, usted deberá buscar muuuuchas  fuentes adicionales de información\n",
    "<br> Tenga presente que LightGBM es el estado del arte en modelado predictivo para datasets estructurado, que son el 90% del trabajo del 95% de los Data Scientists en Argentina."
   ]
  },
  {
   "cell_type": "markdown",
   "metadata": {
    "id": "WpUThBojODyK"
   },
   "source": [
    "El desafío de esta tarea es:\n",
    "* Qué hiperparparámetros conviene optimizar?  Las recomendaciones de los artículos ligeros es siempre sensata?  Sus autores realmente hicieron experimentos o son siemplemente escritores de entretenimiento carente de base científica?\n",
    "* Elegidos los hiperparámetros, cual es el  <desde, hasta> que se debe utilizar en la Bayesian Optimization ?\n",
    "* Realmente vale la pena optimizar 10 o 16 hiperparámetros al mismo tiempo ?  No resulta contraproducente una búsqueda en un espacio de tal alta dimensionalidad ?"
   ]
  },
  {
   "cell_type": "markdown",
   "metadata": {
    "id": "PX0qg_c0yqob"
   },
   "source": [
    "#### 2.1  Seteo del ambiente en Google Colab"
   ]
  },
  {
   "cell_type": "markdown",
   "metadata": {
    "id": "NGY7H9xza7Zr"
   },
   "source": [
    "Esta parte se debe correr con el runtime en Python3\n",
    "<br>Ir al menu, Runtime -> Change Runtime Type -> Runtime type ->  **Python 3**"
   ]
  },
  {
   "cell_type": "markdown",
   "metadata": {
    "id": "7PupIBNba7Zr"
   },
   "source": [
    "Conectar la virtual machine donde esta corriendo Google Colab con el  Google Drive, para poder tener persistencia de archivos"
   ]
  },
  {
   "cell_type": "code",
   "execution_count": null,
   "metadata": {
    "id": "9LpZCst5a7Zs"
   },
   "outputs": [],
   "source": [
    "# primero establecer el Runtime de Python 3\n",
    "from google.colab import drive\n",
    "drive.mount('/content/.drive')"
   ]
  },
  {
   "cell_type": "markdown",
   "metadata": {
    "id": "JYC_F-wla7Zs"
   },
   "source": [
    "Para correr la siguiente celda es fundamental en Arranque en Frio haber copiado el archivo kaggle.json al Google Drive, en la carpeta indicada en el instructivo\n",
    "\n",
    "<br>los siguientes comando estan en shell script de Linux\n",
    "*   Crear las carpetas en el Google Drive\n",
    "*   \"instalar\" el archivo kaggle.json desde el Google Drive a la virtual machine para que pueda ser utilizado por la libreria  kaggle de Python\n",
    "*   Bajar el  **dataset_pequeno**  al  Google Drive  y tambien al disco local de la virtual machine que esta corriendo Google Colab\n",
    "\n"
   ]
  },
  {
   "cell_type": "code",
   "execution_count": null,
   "metadata": {
    "id": "XWLelftXa7Zt"
   },
   "outputs": [],
   "source": [
    "%%shell\n",
    "\n",
    "mkdir -p \"/content/.drive/My Drive/dm\"\n",
    "mkdir -p \"/content/buckets\"\n",
    "ln -s \"/content/.drive/My Drive/dm\" /content/buckets/b1\n",
    "\n",
    "mkdir -p ~/.kaggle\n",
    "cp /content/buckets/b1/kaggle/kaggle.json  ~/.kaggle\n",
    "chmod 600 ~/.kaggle/kaggle.json\n",
    "\n",
    "\n",
    "mkdir -p /content/buckets/b1/exp\n",
    "mkdir -p /content/buckets/b1/datasets\n",
    "mkdir -p /content/datasets\n",
    "\n",
    "\n",
    "\n",
    "archivo_origen=\"https://storage.googleapis.com/open-courses/itba2025-8d0a/dataset_pequeno.csv\"\n",
    "archivo_destino=\"/content/datasets/dataset_pequeno.csv\"\n",
    "archivo_destino_bucket=\"/content/buckets/b1/datasets/dataset_pequeno.csv\"\n",
    "\n",
    "if ! test -f $archivo_destino_bucket; then\n",
    "  wget  $archivo_origen  -O $archivo_destino_bucket\n",
    "fi\n",
    "\n",
    "\n",
    "if ! test -f $archivo_destino; then\n",
    "  cp  $archivo_destino_bucket  $archivo_destino\n",
    "fi\n"
   ]
  },
  {
   "cell_type": "markdown",
   "metadata": {
    "id": "oSKhZRToy2F7"
   },
   "source": [
    "### 2.2 Optimizacion Hiperparámetros"
   ]
  },
  {
   "cell_type": "markdown",
   "metadata": {
    "id": "2kwPpHAtSmix"
   },
   "source": [
    "Esta parte se debe correr con el runtime en lenguaje R Ir al menu, Runtime -> Change Runtime Type -> Runtime type -> R"
   ]
  },
  {
   "cell_type": "markdown",
   "metadata": {
    "id": "xp4-Bj3aYI8d"
   },
   "source": [
    "### 2.2.1 Inicio"
   ]
  },
  {
   "cell_type": "markdown",
   "metadata": {
    "id": "zy8YTZfESxeJ"
   },
   "source": [
    "limpio el ambiente de R"
   ]
  },
  {
   "cell_type": "code",
   "execution_count": 1,
   "metadata": {
    "id": "gBq__iAdQliq"
   },
   "outputs": [
    {
     "data": {
      "text/html": [
       "'Thu Jul 24 18:55:23 2025'"
      ],
      "text/latex": [
       "'Thu Jul 24 18:55:23 2025'"
      ],
      "text/markdown": [
       "'Thu Jul 24 18:55:23 2025'"
      ],
      "text/plain": [
       "[1] \"Thu Jul 24 18:55:23 2025\""
      ]
     },
     "metadata": {},
     "output_type": "display_data"
    }
   ],
   "source": [
    "format(Sys.time(), \"%a %b %d %X %Y\")"
   ]
  },
  {
   "cell_type": "code",
   "execution_count": 2,
   "metadata": {
    "id": "7rdVrBojS1IV"
   },
   "outputs": [
    {
     "data": {
      "text/html": [
       "<table class=\"dataframe\">\n",
       "<caption>A matrix: 2 × 6 of type dbl</caption>\n",
       "<thead>\n",
       "\t<tr><th></th><th scope=col>used</th><th scope=col>(Mb)</th><th scope=col>gc trigger</th><th scope=col>(Mb)</th><th scope=col>max used</th><th scope=col>(Mb)</th></tr>\n",
       "</thead>\n",
       "<tbody>\n",
       "\t<tr><th scope=row>Ncells</th><td> 656930</td><td>35.1</td><td>1439374</td><td>76.9</td><td>1431359</td><td>76.5</td></tr>\n",
       "\t<tr><th scope=row>Vcells</th><td>1224911</td><td> 9.4</td><td>8388608</td><td>64.0</td><td>1924961</td><td>14.7</td></tr>\n",
       "</tbody>\n",
       "</table>\n"
      ],
      "text/latex": [
       "A matrix: 2 × 6 of type dbl\n",
       "\\begin{tabular}{r|llllll}\n",
       "  & used & (Mb) & gc trigger & (Mb) & max used & (Mb)\\\\\n",
       "\\hline\n",
       "\tNcells &  656930 & 35.1 & 1439374 & 76.9 & 1431359 & 76.5\\\\\n",
       "\tVcells & 1224911 &  9.4 & 8388608 & 64.0 & 1924961 & 14.7\\\\\n",
       "\\end{tabular}\n"
      ],
      "text/markdown": [
       "\n",
       "A matrix: 2 × 6 of type dbl\n",
       "\n",
       "| <!--/--> | used | (Mb) | gc trigger | (Mb) | max used | (Mb) |\n",
       "|---|---|---|---|---|---|---|\n",
       "| Ncells |  656930 | 35.1 | 1439374 | 76.9 | 1431359 | 76.5 |\n",
       "| Vcells | 1224911 |  9.4 | 8388608 | 64.0 | 1924961 | 14.7 |\n",
       "\n"
      ],
      "text/plain": [
       "       used    (Mb) gc trigger (Mb) max used (Mb)\n",
       "Ncells  656930 35.1 1439374    76.9 1431359  76.5\n",
       "Vcells 1224911  9.4 8388608    64.0 1924961  14.7"
      ]
     },
     "metadata": {},
     "output_type": "display_data"
    }
   ],
   "source": [
    "# limpio la memoria\n",
    "rm(list=ls(all.names=TRUE)) # remove all objects\n",
    "gc(full=TRUE, verbose=FALSE) # garbage collection"
   ]
  },
  {
   "cell_type": "markdown",
   "metadata": {
    "id": "kuPfQ7ksjwW3"
   },
   "source": [
    "### 2.2.2 Carga de Librerias"
   ]
  },
  {
   "cell_type": "code",
   "execution_count": 3,
   "metadata": {
    "id": "lVyxLaJ1j1J_"
   },
   "outputs": [
    {
     "name": "stderr",
     "output_type": "stream",
     "text": [
      "Loading required package: data.table\n",
      "\n",
      "Loading required package: parallel\n",
      "\n",
      "Loading required package: primes\n",
      "\n",
      "Loading required package: rlist\n",
      "\n",
      "Loading required package: yaml\n",
      "\n",
      "Loading required package: lightgbm\n",
      "\n",
      "Loading required package: DiceKriging\n",
      "\n",
      "Loading required package: mlrMBO\n",
      "\n",
      "Loading required package: mlr\n",
      "\n",
      "Loading required package: ParamHelpers\n",
      "\n",
      "Loading required package: smoof\n",
      "\n",
      "Loading required package: checkmate\n",
      "\n",
      "\n",
      "Attaching package: ‘checkmate’\n",
      "\n",
      "\n",
      "The following object is masked from ‘package:DiceKriging’:\n",
      "\n",
      "    checkNames\n",
      "\n",
      "\n"
     ]
    }
   ],
   "source": [
    "# cargo las librerias que necesito\n",
    "require(\"data.table\")\n",
    "require(\"parallel\")\n",
    "\n",
    "if( !require(\"primes\") ) install.packages(\"primes\")\n",
    "require(\"primes\")\n",
    "\n",
    "if( !require(\"utils\") ) install.packages(\"utils\")\n",
    "require(\"utils\")\n",
    "\n",
    "if( !require(\"rlist\") ) install.packages(\"rlist\")\n",
    "require(\"rlist\")\n",
    "\n",
    "if( !require(\"yaml\")) install.packages(\"yaml\")\n",
    "require(\"yaml\")\n",
    "\n",
    "if( !require(\"lightgbm\") ) install.packages(\"lightgbm\")\n",
    "require(\"lightgbm\")\n",
    "\n",
    "if( !require(\"DiceKriging\") ) install.packages(\"DiceKriging\")\n",
    "require(\"DiceKriging\")\n",
    "\n",
    "if( !require(\"mlrMBO\") ) install.packages(\"mlrMBO\")\n",
    "require(\"mlrMBO\")"
   ]
  },
  {
   "cell_type": "markdown",
   "metadata": {
    "id": "Iz-6Qt6BUaA3"
   },
   "source": [
    "### 2.2.3 Definicion de Parametros"
   ]
  },
  {
   "cell_type": "markdown",
   "metadata": {
    "id": "cOdlKd7lUm2I"
   },
   "source": [
    "aqui debe cargar SU semilla primigenia\n",
    "<br>recuerde cambiar el numero de experimento en cada corrida nueva"
   ]
  },
  {
   "cell_type": "code",
   "execution_count": 4,
   "metadata": {
    "id": "ASYkebOu2mF6"
   },
   "outputs": [],
   "source": [
    "PARAM <- list()\n",
    "PARAM$experimento <- 4947\n",
    "PARAM$semilla_primigenia <- 100129\n"
   ]
  },
  {
   "cell_type": "code",
   "execution_count": 5,
   "metadata": {
    "id": "ezOhQdbA293o"
   },
   "outputs": [],
   "source": [
    "PARAM$kaggle$competencia <- \"data-mining-analista-sr-2025-a\"\n",
    "PARAM$kaggle$cortes <- seq(10000, 12000, by= 500)"
   ]
  },
  {
   "cell_type": "code",
   "execution_count": 6,
   "metadata": {
    "id": "jtB0Lub42rHO"
   },
   "outputs": [],
   "source": [
    "# un undersampling de 0.1  toma solo el 10% de los CONTINUA\n",
    "# undersampling de 1.0  implica tomar TODOS los datos\n",
    "\n",
    "PARAM$trainingstrategy$undersampling <- 0.5"
   ]
  },
  {
   "cell_type": "code",
   "execution_count": 7,
   "metadata": {
    "id": "OFxm-xiNUOJX"
   },
   "outputs": [],
   "source": [
    "# Parametros LightGBM\n",
    "\n",
    "PARAM$hyperparametertuning$xval_folds <- 5\n",
    "\n",
    "# parametros fijos del LightGBM que se pisaran con la parte variable de la BO\n",
    "PARAM$lgbm$param_fijos <-  list(\n",
    "  boosting= \"gbdt\", # puede ir  dart  , ni pruebe random_forest\n",
    "  objective= \"binary\",\n",
    "  metric= \"auc\",\n",
    "  first_metric_only= FALSE,\n",
    "  boost_from_average= TRUE,\n",
    "  feature_pre_filter= FALSE,\n",
    "  force_row_wise= TRUE, # para reducir warnings\n",
    "  verbosity= -100,\n",
    "\n",
    "  seed= PARAM$semilla_primigenia,\n",
    "\n",
    "  max_depth= -1L, # -1 significa no limitar,  por ahora lo dejo fijo\n",
    "  min_gain_to_split= 0, # min_gain_to_split >= 0\n",
    "  min_sum_hessian_in_leaf= 0.001, #  min_sum_hessian_in_leaf >= 0.0\n",
    "  lambda_l1= 0.0, # lambda_l1 >= 0.0\n",
    "  lambda_l2= 0.0, # lambda_l2 >= 0.0\n",
    "  max_bin= 31L, # lo debo dejar fijo, no participa de la BO\n",
    "\n",
    "  bagging_fraction= 1.0, # 0.0 < bagging_fraction <= 1.0\n",
    "  pos_bagging_fraction= 1.0, # 0.0 < pos_bagging_fraction <= 1.0\n",
    "  neg_bagging_fraction= 1.0, # 0.0 < neg_bagging_fraction <= 1.0\n",
    "  is_unbalance= FALSE, #\n",
    "  scale_pos_weight= 1.0, # scale_pos_weight > 0.0\n",
    "\n",
    "  drop_rate= 0.1, # 0.0 < neg_bagging_fraction <= 1.0\n",
    "  max_drop= 50, # <=0 means no limit\n",
    "  skip_drop= 0.5, # 0.0 <= skip_drop <= 1.0\n",
    "\n",
    "  extra_trees= FALSE,\n",
    "\n",
    "  num_iterations= 1200,\n",
    "  learning_rate= 0.02,\n",
    "  feature_fraction= 0.5,\n",
    "  num_leaves= 750,\n",
    "  min_data_in_leaf= 5000\n",
    ")\n"
   ]
  },
  {
   "cell_type": "markdown",
   "metadata": {
    "id": "D5Yj-JV4yvOt"
   },
   "source": [
    "Aqui se definen los hiperparámetros de LightGBM que participan de la Bayesian Optimization\n",
    "<br> si es un numero entero debe ir  makeIntegerParam\n",
    "<br> si es un numero real (con decimales) debe ir  makeNumericParam\n",
    "<br> es muy importante leer cuales son un lower y upper  permitidos y ademas razonables"
   ]
  },
  {
   "cell_type": "code",
   "execution_count": 8,
   "metadata": {
    "id": "jENpR26ZyuS8"
   },
   "outputs": [],
   "source": [
    "# Aqui se cargan los bordes de los hiperparametros de la BO\n",
    "PARAM$hypeparametertuning$hs <- makeParamSet(\n",
    "  makeIntegerParam(\"num_iterations\", lower = 500L, upper = 900L),\n",
    "  makeNumericParam(\"learning_rate\", lower = 0.025, upper = 0.045),\n",
    "  makeNumericParam(\"feature_fraction\", lower = 0.40, upper = 0.50),\n",
    "  makeIntegerParam(\"min_data_in_leaf\", lower = 350L, upper = 600L),\n",
    "  makeIntegerParam(\"num_leaves\", lower = 80L, upper = 160L),\n",
    "  makeIntegerParam(\"max_depth\", lower = 6L, upper = 10L),\n",
    "  makeNumericParam(\"lambda_l1\", lower = 4.0, upper = 7.0),\n",
    "  makeNumericParam(\"lambda_l2\", lower = 3.0, upper = 5.0),\n",
    "  makeNumericParam(\"min_gain_to_split\", lower = 0.15, upper = 0.35),\n",
    "  makeNumericParam(\"bagging_fraction\", lower = 0.75, upper = 0.90)\n",
    ")"
   ]
  },
  {
   "cell_type": "markdown",
   "metadata": {
    "id": "-_RPFUb3zMoW"
   },
   "source": [
    "A mayor cantidad de hiperparámetros, se debe aumentar las iteraciones de la Bayesian Optimization\n",
    "<br> 30 es un valor muy tacaño, pero corre rápido\n",
    "<br> deberia partir de 50, alcanzando los 100 si se dispone de tiempo"
   ]
  },
  {
   "cell_type": "code",
   "execution_count": 9,
   "metadata": {
    "id": "q5Rd3pnbzSiG"
   },
   "outputs": [],
   "source": [
    "PARAM$hyperparametertuning$iteraciones <- 100 # iteraciones bayesianas"
   ]
  },
  {
   "cell_type": "markdown",
   "metadata": {
    "id": "4RWZXL1VZjMI"
   },
   "source": [
    "### 2.2.4  Preprocesamiento"
   ]
  },
  {
   "cell_type": "code",
   "execution_count": 10,
   "metadata": {
    "id": "j3toG9-lZm4K"
   },
   "outputs": [],
   "source": [
    "# carpeta de trabajo\n",
    "\n",
    "setwd(\"/content/buckets/b1/exp\")\n",
    "experimento_folder <- paste0(\"HT\", PARAM$experimento)\n",
    "dir.create(experimento_folder, showWarnings=FALSE)\n",
    "setwd( paste0(\"/content/buckets/b1/exp/\", experimento_folder ))"
   ]
  },
  {
   "cell_type": "code",
   "execution_count": 11,
   "metadata": {
    "id": "FM3lxKoLZ643"
   },
   "outputs": [],
   "source": [
    "# lectura del dataset\n",
    "\n",
    "dataset <- fread(\"/content/datasets/dataset_pequeno.csv\")"
   ]
  },
  {
   "cell_type": "code",
   "execution_count": 12,
   "metadata": {
    "id": "OsJ-91UeZ-I_"
   },
   "outputs": [],
   "source": [
    "dataset_train <- dataset[foto_mes %in% c(202107)]"
   ]
  },
  {
   "cell_type": "code",
   "execution_count": 13,
   "metadata": {
    "id": "vrWE7BE0aB2J"
   },
   "outputs": [],
   "source": [
    "# paso la clase a binaria que tome valores {0,1}  enteros\n",
    "#  BAJA+1 y BAJA+2  son  1,   CONTINUA es 0\n",
    "\n",
    "dataset_train[,\n",
    "  clase01 := ifelse(clase_ternaria %in% c(\"BAJA+2\",\"BAJA+1\"), 1L, 0L)\n",
    "]"
   ]
  },
  {
   "cell_type": "code",
   "execution_count": 14,
   "metadata": {
    "id": "jP7YlQBnaW6W"
   },
   "outputs": [],
   "source": [
    "# defino los datos que forma parte del training\n",
    "# aqui se hace el undersampling de los CONTINUA\n",
    "# notar que para esto utilizo la SEGUNDA semilla\n",
    "\n",
    "set.seed(PARAM$semilla_primigenia, kind = \"L'Ecuyer-CMRG\")\n",
    "dataset_train[, azar := runif(nrow(dataset_train))]\n",
    "dataset_train[, training := 0L]\n",
    "\n",
    "dataset_train[\n",
    "  foto_mes %in% c(202107) &\n",
    "    (azar <= PARAM$trainingstrategy$undersampling | clase_ternaria %in% c(\"BAJA+1\", \"BAJA+2\")),\n",
    "  training := 1L\n",
    "]"
   ]
  },
  {
   "cell_type": "code",
   "execution_count": 15,
   "metadata": {
    "id": "xElu4s5W4rX7"
   },
   "outputs": [],
   "source": [
    "# los campos que se van a utilizar\n",
    "\n",
    "campos_buenos <- setdiff(\n",
    "  colnames(dataset_train),\n",
    "  c(\"clase_ternaria\", \"clase01\", \"azar\", \"training\")\n",
    ")"
   ]
  },
  {
   "cell_type": "code",
   "execution_count": 16,
   "metadata": {
    "id": "PppMHcGYaaol"
   },
   "outputs": [
    {
     "data": {
      "text/html": [
       "83679"
      ],
      "text/latex": [
       "83679"
      ],
      "text/markdown": [
       "83679"
      ],
      "text/plain": [
       "[1] 83679"
      ]
     },
     "metadata": {},
     "output_type": "display_data"
    },
    {
     "data": {
      "text/html": [
       "154"
      ],
      "text/latex": [
       "154"
      ],
      "text/markdown": [
       "154"
      ],
      "text/plain": [
       "[1] 154"
      ]
     },
     "metadata": {},
     "output_type": "display_data"
    }
   ],
   "source": [
    "# dejo los datos en el formato que necesita LightGBM\n",
    "\n",
    "dtrain <- lgb.Dataset(\n",
    "  data= data.matrix(dataset_train[training == 1L, campos_buenos, with= FALSE]),\n",
    "  label= dataset_train[training == 1L, clase01],\n",
    "  free_raw_data= FALSE\n",
    ")\n",
    "\n",
    "nrow(dtrain)\n",
    "ncol(dtrain)"
   ]
  },
  {
   "cell_type": "markdown",
   "metadata": {
    "id": "Ta-EkOu3cphF"
   },
   "source": [
    "2.2.5 Configuracion Bayesian Optimization"
   ]
  },
  {
   "cell_type": "code",
   "execution_count": 17,
   "metadata": {
    "id": "cjgfurjdfiXb"
   },
   "outputs": [],
   "source": [
    "# En el argumento x llegan los parmaetros de la bayesiana\n",
    "#  devuelve la AUC en cross validation del modelo entrenado\n",
    "\n",
    "EstimarGanancia_AUC_lightgbm <- function(x) {\n",
    "\n",
    "  # x pisa (o agrega) a param_fijos\n",
    "  param_completo <- modifyList(PARAM$lgbm$param_fijos, x)\n",
    "\n",
    "  # entreno LightGBM\n",
    "  modelocv <- lgb.cv(\n",
    "    data= dtrain,\n",
    "    nfold= PARAM$hyperparametertuning$xval_folds,\n",
    "    stratified= TRUE,\n",
    "    param= param_completo\n",
    "  )\n",
    "\n",
    "  # obtengo la ganancia\n",
    "  AUC <- modelocv$best_score\n",
    "\n",
    "  # hago espacio en la memoria\n",
    "  rm(modelocv)\n",
    "  gc(full= TRUE, verbose= FALSE)\n",
    "\n",
    "  message(format(Sys.time(), \"%a %b %d %X %Y\"), \" AUC \", AUC)\n",
    "\n",
    "  return(AUC)\n",
    "}"
   ]
  },
  {
   "cell_type": "code",
   "execution_count": 18,
   "metadata": {
    "id": "WLi_o1hocvN-"
   },
   "outputs": [],
   "source": [
    "# Aqui comienza la configuracion de la Bayesian Optimization\n",
    "\n",
    "# en este archivo quedan la evolucion binaria de la BO\n",
    "kbayesiana <- \"bayesiana.RDATA\"\n",
    "\n",
    "funcion_optimizar <- EstimarGanancia_AUC_lightgbm # la funcion que voy a maximizar\n",
    "\n",
    "configureMlr(show.learner.output= FALSE)\n",
    "\n",
    "# configuro la busqueda bayesiana,  los hiperparametros que se van a optimizar\n",
    "# por favor, no desesperarse por lo complejo\n",
    "\n",
    "obj.fun <- makeSingleObjectiveFunction(\n",
    "  fn= funcion_optimizar, # la funcion que voy a maximizar\n",
    "  minimize= FALSE, # estoy Maximizando la ganancia\n",
    "  noisy= TRUE,\n",
    "  par.set= PARAM$hypeparametertuning$hs, # definido al comienzo del programa\n",
    "  has.simple.signature= FALSE # paso los parametros en una lista\n",
    ")\n",
    "\n",
    "# cada 600 segundos guardo el resultado intermedio\n",
    "ctrl <- makeMBOControl(\n",
    "  save.on.disk.at.time= 600, # se graba cada 600 segundos\n",
    "  save.file.path= kbayesiana\n",
    ") # se graba cada 600 segundos\n",
    "\n",
    "# indico la cantidad de iteraciones que va a tener la Bayesian Optimization\n",
    "ctrl <- setMBOControlTermination(\n",
    "  ctrl,\n",
    "  iters= PARAM$hyperparametertuning$iteraciones\n",
    ") # cantidad de iteraciones\n",
    "\n",
    "# defino el método estandar para la creacion de los puntos iniciales,\n",
    "# los \"No Inteligentes\"\n",
    "ctrl <- setMBOControlInfill(ctrl, crit= makeMBOInfillCritEI())\n",
    "\n",
    "# establezco la funcion que busca el maximo\n",
    "surr.km <- makeLearner(\n",
    "  \"regr.km\",\n",
    "  predict.type= \"se\",\n",
    "  covtype= \"matern3_2\",\n",
    "  control= list(trace= TRUE)\n",
    ")\n"
   ]
  },
  {
   "cell_type": "markdown",
   "metadata": {
    "id": "_uUeVo5pc4zc"
   },
   "source": [
    "2.2.6 Corrida Bayesian Optimization"
   ]
  },
  {
   "cell_type": "code",
   "execution_count": 19,
   "metadata": {
    "id": "RcABNaKGciaz"
   },
   "outputs": [
    {
     "name": "stderr",
     "output_type": "stream",
     "text": [
      "Computing y column(s) for design. Not provided.\n",
      "\n",
      "Thu Jul 24 19:01:17 2025 AUC 0.930325356583218\n",
      "\n",
      "Thu Jul 24 19:01:49 2025 AUC 0.931075363548793\n",
      "\n",
      "Thu Jul 24 19:02:19 2025 AUC 0.930041853739289\n",
      "\n",
      "Thu Jul 24 19:02:52 2025 AUC 0.930769108282763\n",
      "\n",
      "Thu Jul 24 19:03:23 2025 AUC 0.93035853257373\n",
      "\n",
      "Thu Jul 24 19:03:58 2025 AUC 0.930681065014725\n",
      "\n",
      "Thu Jul 24 19:04:29 2025 AUC 0.930832250424666\n",
      "\n",
      "Thu Jul 24 19:05:01 2025 AUC 0.931080062151149\n",
      "\n",
      "Thu Jul 24 19:05:31 2025 AUC 0.931106002361931\n",
      "\n",
      "Thu Jul 24 19:06:03 2025 AUC 0.930515993859386\n",
      "\n",
      "Thu Jul 24 19:06:41 2025 AUC 0.930121597582389\n",
      "\n",
      "Thu Jul 24 19:07:09 2025 AUC 0.931434160393716\n",
      "\n",
      "Thu Jul 24 19:07:52 2025 AUC 0.931078967876765\n",
      "\n",
      "Thu Jul 24 19:08:34 2025 AUC 0.930930385527707\n",
      "\n",
      "Thu Jul 24 19:09:06 2025 AUC 0.931288717322342\n",
      "\n",
      "Thu Jul 24 19:09:39 2025 AUC 0.930650655205108\n",
      "\n",
      "Thu Jul 24 19:10:09 2025 AUC 0.930605340835837\n",
      "\n",
      "Thu Jul 24 19:10:46 2025 AUC 0.931477194193448\n",
      "\n",
      "Thu Jul 24 19:11:23 2025 AUC 0.930542595695579\n",
      "\n",
      "Thu Jul 24 19:11:50 2025 AUC 0.930339052621414\n",
      "\n",
      "Thu Jul 24 19:12:20 2025 AUC 0.931036684475544\n",
      "\n",
      "Thu Jul 24 19:12:56 2025 AUC 0.929952009413302\n",
      "\n",
      "Thu Jul 24 19:13:29 2025 AUC 0.930583650018821\n",
      "\n",
      "Thu Jul 24 19:14:04 2025 AUC 0.930742367243407\n",
      "\n",
      "Thu Jul 24 19:14:36 2025 AUC 0.930921856357799\n",
      "\n",
      "Thu Jul 24 19:15:18 2025 AUC 0.930163087305675\n",
      "\n",
      "Thu Jul 24 19:15:57 2025 AUC 0.931138145735525\n",
      "\n",
      "Thu Jul 24 19:16:24 2025 AUC 0.93046199037416\n",
      "\n",
      "Thu Jul 24 19:16:54 2025 AUC 0.931539751730794\n",
      "\n",
      "Thu Jul 24 19:17:27 2025 AUC 0.931305501126552\n",
      "\n",
      "Thu Jul 24 19:18:07 2025 AUC 0.930749833708223\n",
      "\n",
      "Thu Jul 24 19:18:49 2025 AUC 0.930593107412565\n",
      "\n",
      "Thu Jul 24 19:19:27 2025 AUC 0.931077197125027\n",
      "\n",
      "Thu Jul 24 19:20:05 2025 AUC 0.929245371564077\n",
      "\n",
      "Thu Jul 24 19:20:34 2025 AUC 0.929906316098629\n",
      "\n",
      "Thu Jul 24 19:20:59 2025 AUC 0.931303752739178\n",
      "\n",
      "Thu Jul 24 19:21:33 2025 AUC 0.929959039962995\n",
      "\n",
      "Thu Jul 24 19:22:12 2025 AUC 0.931125853030027\n",
      "\n",
      "Thu Jul 24 19:22:57 2025 AUC 0.930299939902489\n",
      "\n",
      "Thu Jul 24 19:23:25 2025 AUC 0.930998829457284\n",
      "\n",
      "[mbo] 0: num_iterations=755; learning_rate=0.0385; feature_fraction=0.409; min_data_in_leaf=357; num_leaves=117; max_depth=9; lambda_l1=6.61; lambda_l2=3.96; min_gain_to_split=0.311; bagging_fraction=0.831 : y = 0.93 : 34.4 secs : initdesign\n",
      "\n",
      "[mbo] 0: num_iterations=647; learning_rate=0.0327; feature_fraction=0.468; min_data_in_leaf=541; num_leaves=123; max_depth=9; lambda_l1=5.59; lambda_l2=3.34; min_gain_to_split=0.309; bagging_fraction=0.822 : y = 0.931 : 32.1 secs : initdesign\n",
      "\n",
      "[mbo] 0: num_iterations=660; learning_rate=0.0342; feature_fraction=0.487; min_data_in_leaf=444; num_leaves=100; max_depth=7; lambda_l1=6.54; lambda_l2=4.11; min_gain_to_split=0.328; bagging_fraction=0.815 : y = 0.93 : 30.6 secs : initdesign\n",
      "\n",
      "[mbo] 0: num_iterations=651; learning_rate=0.0345; feature_fraction=0.42; min_data_in_leaf=477; num_leaves=88; max_depth=7; lambda_l1=5; lambda_l2=3.84; min_gain_to_split=0.205; bagging_fraction=0.871 : y = 0.931 : 32.7 secs : initdesign\n",
      "\n",
      "[mbo] 0: num_iterations=687; learning_rate=0.0404; feature_fraction=0.424; min_data_in_leaf=505; num_leaves=136; max_depth=8; lambda_l1=5.69; lambda_l2=3.94; min_gain_to_split=0.323; bagging_fraction=0.777 : y = 0.93 : 30.6 secs : initdesign\n",
      "\n",
      "[mbo] 0: num_iterations=742; learning_rate=0.0353; feature_fraction=0.441; min_data_in_leaf=494; num_leaves=105; max_depth=9; lambda_l1=4.52; lambda_l2=4.59; min_gain_to_split=0.279; bagging_fraction=0.751 : y = 0.931 : 35.0 secs : initdesign\n",
      "\n",
      "[mbo] 0: num_iterations=605; learning_rate=0.0275; feature_fraction=0.457; min_data_in_leaf=384; num_leaves=108; max_depth=6; lambda_l1=5.8; lambda_l2=3.75; min_gain_to_split=0.252; bagging_fraction=0.852 : y = 0.931 : 31.1 secs : initdesign\n",
      "\n",
      "[mbo] 0: num_iterations=625; learning_rate=0.0259; feature_fraction=0.428; min_data_in_leaf=487; num_leaves=150; max_depth=7; lambda_l1=5.38; lambda_l2=3.51; min_gain_to_split=0.245; bagging_fraction=0.808 : y = 0.931 : 32.4 secs : initdesign\n",
      "\n",
      "[mbo] 0: num_iterations=572; learning_rate=0.0363; feature_fraction=0.45; min_data_in_leaf=398; num_leaves=119; max_depth=10; lambda_l1=5.57; lambda_l2=3.11; min_gain_to_split=0.225; bagging_fraction=0.828 : y = 0.931 : 29.7 secs : initdesign\n",
      "\n",
      "[mbo] 0: num_iterations=737; learning_rate=0.0418; feature_fraction=0.439; min_data_in_leaf=455; num_leaves=125; max_depth=8; lambda_l1=5.93; lambda_l2=4.37; min_gain_to_split=0.233; bagging_fraction=0.874 : y = 0.931 : 32.5 secs : initdesign\n",
      "\n",
      "[mbo] 0: num_iterations=807; learning_rate=0.0335; feature_fraction=0.435; min_data_in_leaf=585; num_leaves=115; max_depth=6; lambda_l1=6.66; lambda_l2=3.02; min_gain_to_split=0.215; bagging_fraction=0.882 : y = 0.93 : 37.2 secs : initdesign\n",
      "\n",
      "[mbo] 0: num_iterations=500; learning_rate=0.03; feature_fraction=0.464; min_data_in_leaf=560; num_leaves=102; max_depth=6; lambda_l1=5.07; lambda_l2=4.43; min_gain_to_split=0.266; bagging_fraction=0.893 : y = 0.931 : 28.9 secs : initdesign\n",
      "\n",
      "[mbo] 0: num_iterations=856; learning_rate=0.0373; feature_fraction=0.449; min_data_in_leaf=499; num_leaves=133; max_depth=10; lambda_l1=5.17; lambda_l2=3.19; min_gain_to_split=0.237; bagging_fraction=0.849 : y = 0.931 : 42.5 secs : initdesign\n",
      "\n",
      "[mbo] 0: num_iterations=819; learning_rate=0.0266; feature_fraction=0.499; min_data_in_leaf=432; num_leaves=160; max_depth=9; lambda_l1=5.49; lambda_l2=3.87; min_gain_to_split=0.26; bagging_fraction=0.772 : y = 0.931 : 41.9 secs : initdesign\n",
      "\n",
      "[mbo] 0: num_iterations=592; learning_rate=0.0409; feature_fraction=0.477; min_data_in_leaf=567; num_leaves=143; max_depth=8; lambda_l1=4.26; lambda_l2=4.27; min_gain_to_split=0.175; bagging_fraction=0.84 : y = 0.931 : 32.6 secs : initdesign\n",
      "\n",
      "[mbo] 0: num_iterations=679; learning_rate=0.0357; feature_fraction=0.475; min_data_in_leaf=369; num_leaves=138; max_depth=7; lambda_l1=5.99; lambda_l2=3.59; min_gain_to_split=0.162; bagging_fraction=0.84 : y = 0.931 : 33.0 secs : initdesign\n",
      "\n",
      "[mbo] 0: num_iterations=569; learning_rate=0.0397; feature_fraction=0.462; min_data_in_leaf=376; num_leaves=96; max_depth=8; lambda_l1=4.56; lambda_l2=4.06; min_gain_to_split=0.274; bagging_fraction=0.794 : y = 0.931 : 29.2 secs : initdesign\n",
      "\n",
      "[mbo] 0: num_iterations=821; learning_rate=0.0324; feature_fraction=0.411; min_data_in_leaf=475; num_leaves=113; max_depth=8; lambda_l1=6.12; lambda_l2=4.86; min_gain_to_split=0.208; bagging_fraction=0.788 : y = 0.931 : 37.5 secs : initdesign\n",
      "\n",
      "[mbo] 0: num_iterations=795; learning_rate=0.0389; feature_fraction=0.443; min_data_in_leaf=536; num_leaves=109; max_depth=9; lambda_l1=5.86; lambda_l2=4.95; min_gain_to_split=0.339; bagging_fraction=0.881 : y = 0.931 : 36.4 secs : initdesign\n",
      "\n",
      "[mbo] 0: num_iterations=550; learning_rate=0.0314; feature_fraction=0.471; min_data_in_leaf=518; num_leaves=90; max_depth=8; lambda_l1=6.47; lambda_l2=4.21; min_gain_to_split=0.283; bagging_fraction=0.757 : y = 0.93 : 27.6 secs : initdesign\n",
      "\n",
      "[mbo] 0: num_iterations=619; learning_rate=0.0413; feature_fraction=0.404; min_data_in_leaf=421; num_leaves=158; max_depth=10; lambda_l1=5.21; lambda_l2=3.27; min_gain_to_split=0.185; bagging_fraction=0.834 : y = 0.931 : 30.0 secs : initdesign\n",
      "\n",
      "[mbo] 0: num_iterations=728; learning_rate=0.0309; feature_fraction=0.401; min_data_in_leaf=467; num_leaves=142; max_depth=8; lambda_l1=4.38; lambda_l2=4.18; min_gain_to_split=0.297; bagging_fraction=0.86 : y = 0.93 : 35.7 secs : initdesign\n",
      "\n",
      "[mbo] 0: num_iterations=768; learning_rate=0.0376; feature_fraction=0.416; min_data_in_leaf=418; num_leaves=122; max_depth=6; lambda_l1=6.38; lambda_l2=3.06; min_gain_to_split=0.286; bagging_fraction=0.801 : y = 0.931 : 33.3 secs : initdesign\n",
      "\n",
      "[mbo] 0: num_iterations=773; learning_rate=0.0439; feature_fraction=0.46; min_data_in_leaf=519; num_leaves=83; max_depth=6; lambda_l1=5.31; lambda_l2=4.79; min_gain_to_split=0.222; bagging_fraction=0.784 : y = 0.931 : 35.3 secs : initdesign\n",
      "\n",
      "[mbo] 0: num_iterations=634; learning_rate=0.0336; feature_fraction=0.414; min_data_in_leaf=572; num_leaves=148; max_depth=6; lambda_l1=4.16; lambda_l2=4.74; min_gain_to_split=0.167; bagging_fraction=0.805 : y = 0.931 : 31.8 secs : initdesign\n",
      "\n",
      "[mbo] 0: num_iterations=846; learning_rate=0.0272; feature_fraction=0.479; min_data_in_leaf=405; num_leaves=102; max_depth=9; lambda_l1=6.72; lambda_l2=3.72; min_gain_to_split=0.255; bagging_fraction=0.847 : y = 0.93 : 41.3 secs : initdesign\n",
      "\n",
      "[mbo] 0: num_iterations=709; learning_rate=0.0282; feature_fraction=0.485; min_data_in_leaf=458; num_leaves=129; max_depth=9; lambda_l1=4.64; lambda_l2=4.31; min_gain_to_split=0.159; bagging_fraction=0.897 : y = 0.931 : 39.0 secs : initdesign\n",
      "\n",
      "[mbo] 0: num_iterations=536; learning_rate=0.0367; feature_fraction=0.446; min_data_in_leaf=555; num_leaves=127; max_depth=8; lambda_l1=6.87; lambda_l2=4.84; min_gain_to_split=0.151; bagging_fraction=0.813 : y = 0.93 : 27.9 secs : initdesign\n",
      "\n",
      "[mbo] 0: num_iterations=546; learning_rate=0.0319; feature_fraction=0.467; min_data_in_leaf=530; num_leaves=156; max_depth=10; lambda_l1=4.35; lambda_l2=4.55; min_gain_to_split=0.292; bagging_fraction=0.76 : y = 0.932 : 29.5 secs : initdesign\n",
      "\n",
      "[mbo] 0: num_iterations=694; learning_rate=0.044; feature_fraction=0.496; min_data_in_leaf=428; num_leaves=152; max_depth=7; lambda_l1=4.04; lambda_l2=3.38; min_gain_to_split=0.304; bagging_fraction=0.796 : y = 0.931 : 33.1 secs : initdesign\n",
      "\n",
      "[mbo] 0: num_iterations=871; learning_rate=0.0428; feature_fraction=0.492; min_data_in_leaf=581; num_leaves=85; max_depth=10; lambda_l1=6.78; lambda_l2=3.67; min_gain_to_split=0.192; bagging_fraction=0.858 : y = 0.931 : 40.0 secs : initdesign\n",
      "\n",
      "[mbo] 0: num_iterations=896; learning_rate=0.03; feature_fraction=0.454; min_data_in_leaf=596; num_leaves=145; max_depth=7; lambda_l1=6.18; lambda_l2=3.64; min_gain_to_split=0.189; bagging_fraction=0.762 : y = 0.931 : 42.4 secs : initdesign\n",
      "\n",
      "[mbo] 0: num_iterations=838; learning_rate=0.0446; feature_fraction=0.431; min_data_in_leaf=390; num_leaves=110; max_depth=10; lambda_l1=4.84; lambda_l2=3.44; min_gain_to_split=0.197; bagging_fraction=0.768 : y = 0.931 : 37.9 secs : initdesign\n",
      "\n",
      "[mbo] 0: num_iterations=884; learning_rate=0.0423; feature_fraction=0.494; min_data_in_leaf=445; num_leaves=132; max_depth=6; lambda_l1=6.98; lambda_l2=4.01; min_gain_to_split=0.334; bagging_fraction=0.818 : y = 0.929 : 37.5 secs : initdesign\n",
      "\n",
      "[mbo] 0: num_iterations=524; learning_rate=0.0293; feature_fraction=0.488; min_data_in_leaf=411; num_leaves=81; max_depth=9; lambda_l1=4.69; lambda_l2=4.64; min_gain_to_split=0.32; bagging_fraction=0.889 : y = 0.93 : 29.3 secs : initdesign\n",
      "\n",
      "[mbo] 0: num_iterations=519; learning_rate=0.0432; feature_fraction=0.421; min_data_in_leaf=352; num_leaves=87; max_depth=7; lambda_l1=6.25; lambda_l2=4.67; min_gain_to_split=0.212; bagging_fraction=0.864 : y = 0.931 : 24.5 secs : initdesign\n",
      "\n",
      "[mbo] 0: num_iterations=712; learning_rate=0.0286; feature_fraction=0.405; min_data_in_leaf=590; num_leaves=93; max_depth=10; lambda_l1=6.07; lambda_l2=3.46; min_gain_to_split=0.341; bagging_fraction=0.78 : y = 0.93 : 33.9 secs : initdesign\n",
      "\n",
      "[mbo] 0: num_iterations=785; learning_rate=0.0263; feature_fraction=0.426; min_data_in_leaf=366; num_leaves=94; max_depth=6; lambda_l1=4.77; lambda_l2=4.47; min_gain_to_split=0.177; bagging_fraction=0.775 : y = 0.931 : 39.1 secs : initdesign\n",
      "\n",
      "[mbo] 0: num_iterations=861; learning_rate=0.0253; feature_fraction=0.481; min_data_in_leaf=509; num_leaves=151; max_depth=10; lambda_l1=4.1; lambda_l2=4.97; min_gain_to_split=0.346; bagging_fraction=0.868 : y = 0.93 : 45.0 secs : initdesign\n",
      "\n",
      "[mbo] 0: num_iterations=587; learning_rate=0.0393; feature_fraction=0.435; min_data_in_leaf=544; num_leaves=138; max_depth=7; lambda_l1=4.96; lambda_l2=3.22; min_gain_to_split=0.246; bagging_fraction=0.887 : y = 0.931 : 28.3 secs : initdesign\n",
      "\n",
      "Saved the current state after iteration 1 in the file bayesiana.RDATA.\n",
      "\n",
      "Thu Jul 24 19:23:58 2025 AUC 0.93148644425088\n",
      "\n",
      "[mbo] 1: num_iterations=543; learning_rate=0.0307; feature_fraction=0.467; min_data_in_leaf=553; num_leaves=150; max_depth=9; lambda_l1=4.87; lambda_l2=3.75; min_gain_to_split=0.258; bagging_fraction=0.821 : y = 0.931 : 28.9 secs : infill_ei\n",
      "\n",
      "Thu Jul 24 19:24:26 2025 AUC 0.93182771592137\n",
      "\n",
      "[mbo] 2: num_iterations=509; learning_rate=0.0347; feature_fraction=0.476; min_data_in_leaf=541; num_leaves=154; max_depth=7; lambda_l1=4.3; lambda_l2=3.88; min_gain_to_split=0.268; bagging_fraction=0.754 : y = 0.932 : 26.5 secs : infill_ei\n",
      "\n",
      "Thu Jul 24 19:24:54 2025 AUC 0.931271173887982\n",
      "\n",
      "[mbo] 3: num_iterations=514; learning_rate=0.0417; feature_fraction=0.488; min_data_in_leaf=540; num_leaves=160; max_depth=8; lambda_l1=4.18; lambda_l2=3.36; min_gain_to_split=0.275; bagging_fraction=0.77 : y = 0.931 : 27.0 secs : infill_ei\n",
      "\n",
      "Thu Jul 24 19:25:23 2025 AUC 0.931046824439793\n",
      "\n",
      "[mbo] 4: num_iterations=524; learning_rate=0.0275; feature_fraction=0.469; min_data_in_leaf=591; num_leaves=152; max_depth=6; lambda_l1=4.36; lambda_l2=4.14; min_gain_to_split=0.261; bagging_fraction=0.772 : y = 0.931 : 27.7 secs : infill_ei\n",
      "\n",
      "Thu Jul 24 19:25:54 2025 AUC 0.930674694332036\n",
      "\n",
      "[mbo] 5: num_iterations=569; learning_rate=0.0349; feature_fraction=0.475; min_data_in_leaf=498; num_leaves=152; max_depth=8; lambda_l1=4.44; lambda_l2=3.26; min_gain_to_split=0.24; bagging_fraction=0.754 : y = 0.931 : 29.6 secs : infill_ei\n",
      "\n",
      "Thu Jul 24 19:26:25 2025 AUC 0.931733832483307\n",
      "\n",
      "[mbo] 6: num_iterations=582; learning_rate=0.0373; feature_fraction=0.485; min_data_in_leaf=529; num_leaves=159; max_depth=8; lambda_l1=4.21; lambda_l2=3.8; min_gain_to_split=0.268; bagging_fraction=0.799 : y = 0.932 : 30.4 secs : infill_ei\n",
      "\n",
      "Thu Jul 24 19:26:53 2025 AUC 0.930576906314718\n",
      "\n",
      "[mbo] 7: num_iterations=512; learning_rate=0.0406; feature_fraction=0.48; min_data_in_leaf=540; num_leaves=134; max_depth=8; lambda_l1=4.31; lambda_l2=4.13; min_gain_to_split=0.271; bagging_fraction=0.792 : y = 0.931 : 26.2 secs : infill_ei\n",
      "\n",
      "Thu Jul 24 19:27:22 2025 AUC 0.93119688603604\n",
      "\n",
      "[mbo] 8: num_iterations=504; learning_rate=0.0283; feature_fraction=0.479; min_data_in_leaf=572; num_leaves=160; max_depth=7; lambda_l1=4.4; lambda_l2=3.81; min_gain_to_split=0.274; bagging_fraction=0.75 : y = 0.931 : 28.5 secs : infill_ei\n",
      "\n",
      "Thu Jul 24 19:27:52 2025 AUC 0.930726800965348\n",
      "\n",
      "[mbo] 9: num_iterations=526; learning_rate=0.0348; feature_fraction=0.48; min_data_in_leaf=573; num_leaves=158; max_depth=9; lambda_l1=4.27; lambda_l2=4.55; min_gain_to_split=0.238; bagging_fraction=0.815 : y = 0.931 : 28.7 secs : infill_ei\n",
      "\n",
      "Thu Jul 24 19:28:23 2025 AUC 0.931507758891869\n",
      "\n",
      "[mbo] 10: num_iterations=575; learning_rate=0.0355; feature_fraction=0.47; min_data_in_leaf=455; num_leaves=154; max_depth=9; lambda_l1=4.58; lambda_l2=3.86; min_gain_to_split=0.268; bagging_fraction=0.763 : y = 0.932 : 29.4 secs : infill_ei\n",
      "\n",
      "Thu Jul 24 19:28:54 2025 AUC 0.93127021712962\n",
      "\n",
      "[mbo] 11: num_iterations=545; learning_rate=0.0345; feature_fraction=0.475; min_data_in_leaf=563; num_leaves=160; max_depth=7; lambda_l1=4.19; lambda_l2=3.98; min_gain_to_split=0.277; bagging_fraction=0.77 : y = 0.931 : 29.4 secs : infill_ei\n",
      "\n",
      "Thu Jul 24 19:29:21 2025 AUC 0.930470876285002\n",
      "\n",
      "[mbo] 12: num_iterations=507; learning_rate=0.0377; feature_fraction=0.446; min_data_in_leaf=542; num_leaves=156; max_depth=7; lambda_l1=4.96; lambda_l2=3.86; min_gain_to_split=0.262; bagging_fraction=0.868 : y = 0.93 : 25.6 secs : infill_ei\n",
      "\n",
      "Thu Jul 24 19:29:50 2025 AUC 0.930689840531631\n",
      "\n",
      "[mbo] 13: num_iterations=538; learning_rate=0.0407; feature_fraction=0.478; min_data_in_leaf=526; num_leaves=154; max_depth=9; lambda_l1=4.28; lambda_l2=3.87; min_gain_to_split=0.27; bagging_fraction=0.759 : y = 0.931 : 28.2 secs : infill_ei\n",
      "\n",
      "Thu Jul 24 19:30:22 2025 AUC 0.930462366103696\n",
      "\n",
      "[mbo] 14: num_iterations=534; learning_rate=0.0336; feature_fraction=0.482; min_data_in_leaf=501; num_leaves=157; max_depth=8; lambda_l1=4.68; lambda_l2=4.37; min_gain_to_split=0.266; bagging_fraction=0.855 : y = 0.93 : 30.7 secs : infill_ei\n",
      "\n",
      "Thu Jul 24 19:30:54 2025 AUC 0.930986134183679\n",
      "\n",
      "[mbo] 15: num_iterations=579; learning_rate=0.0331; feature_fraction=0.462; min_data_in_leaf=541; num_leaves=156; max_depth=9; lambda_l1=4.65; lambda_l2=3.8; min_gain_to_split=0.268; bagging_fraction=0.801 : y = 0.931 : 30.8 secs : infill_ei\n",
      "\n",
      "Thu Jul 24 19:31:28 2025 AUC 0.931258677124104\n",
      "\n",
      "[mbo] 16: num_iterations=564; learning_rate=0.0352; feature_fraction=0.489; min_data_in_leaf=577; num_leaves=155; max_depth=7; lambda_l1=4.29; lambda_l2=4.31; min_gain_to_split=0.218; bagging_fraction=0.811 : y = 0.931 : 32.3 secs : infill_ei\n",
      "\n",
      "Thu Jul 24 19:32:00 2025 AUC 0.930259944764042\n",
      "\n",
      "[mbo] 17: num_iterations=573; learning_rate=0.0335; feature_fraction=0.476; min_data_in_leaf=419; num_leaves=129; max_depth=9; lambda_l1=4.22; lambda_l2=3.27; min_gain_to_split=0.268; bagging_fraction=0.796 : y = 0.93 : 31.0 secs : infill_ei\n",
      "\n",
      "Thu Jul 24 19:32:30 2025 AUC 0.930424755096693\n",
      "\n",
      "[mbo] 18: num_iterations=501; learning_rate=0.041; feature_fraction=0.471; min_data_in_leaf=522; num_leaves=150; max_depth=7; lambda_l1=4.3; lambda_l2=3.77; min_gain_to_split=0.185; bagging_fraction=0.833 : y = 0.93 : 28.1 secs : infill_ei\n",
      "\n",
      "Thu Jul 24 19:33:00 2025 AUC 0.931131275520723\n",
      "\n",
      "[mbo] 19: num_iterations=566; learning_rate=0.0358; feature_fraction=0.486; min_data_in_leaf=555; num_leaves=152; max_depth=7; lambda_l1=4.36; lambda_l2=3.8; min_gain_to_split=0.268; bagging_fraction=0.762 : y = 0.931 : 29.2 secs : infill_ei\n",
      "\n",
      "Thu Jul 24 19:33:34 2025 AUC 0.930435096920821\n",
      "\n",
      "[mbo] 20: num_iterations=580; learning_rate=0.0351; feature_fraction=0.495; min_data_in_leaf=533; num_leaves=151; max_depth=9; lambda_l1=4.26; lambda_l2=3.83; min_gain_to_split=0.182; bagging_fraction=0.758 : y = 0.93 : 32.2 secs : infill_ei\n",
      "\n",
      "Saved the current state after iteration 21 in the file bayesiana.RDATA.\n",
      "\n",
      "Thu Jul 24 19:34:10 2025 AUC 0.930473704757126\n",
      "\n",
      "[mbo] 21: num_iterations=597; learning_rate=0.0343; feature_fraction=0.481; min_data_in_leaf=538; num_leaves=160; max_depth=7; lambda_l1=4.11; lambda_l2=3.75; min_gain_to_split=0.273; bagging_fraction=0.831 : y = 0.93 : 30.8 secs : infill_ei\n",
      "\n",
      "Thu Jul 24 19:34:41 2025 AUC 0.930494475785307\n",
      "\n",
      "[mbo] 22: num_iterations=574; learning_rate=0.0338; feature_fraction=0.491; min_data_in_leaf=487; num_leaves=155; max_depth=7; lambda_l1=5.86; lambda_l2=4.52; min_gain_to_split=0.277; bagging_fraction=0.757 : y = 0.93 : 29.4 secs : infill_ei\n",
      "\n",
      "Thu Jul 24 19:35:19 2025 AUC 0.931387223688002\n",
      "\n",
      "[mbo] 23: num_iterations=779; learning_rate=0.0315; feature_fraction=0.468; min_data_in_leaf=407; num_leaves=148; max_depth=7; lambda_l1=4.35; lambda_l2=4.55; min_gain_to_split=0.297; bagging_fraction=0.757 : y = 0.931 : 37.2 secs : infill_ei\n",
      "\n",
      "Thu Jul 24 19:36:00 2025 AUC 0.930721792258184\n",
      "\n",
      "[mbo] 24: num_iterations=899; learning_rate=0.0386; feature_fraction=0.453; min_data_in_leaf=407; num_leaves=146; max_depth=7; lambda_l1=5.49; lambda_l2=4.34; min_gain_to_split=0.227; bagging_fraction=0.811 : y = 0.931 : 40.1 secs : infill_ei\n",
      "\n",
      "Thu Jul 24 19:36:34 2025 AUC 0.931785387721144\n",
      "\n",
      "[mbo] 25: num_iterations=574; learning_rate=0.0322; feature_fraction=0.477; min_data_in_leaf=513; num_leaves=157; max_depth=7; lambda_l1=4.37; lambda_l2=4.5; min_gain_to_split=0.201; bagging_fraction=0.768 : y = 0.932 : 31.9 secs : infill_ei\n",
      "\n",
      "Thu Jul 24 19:37:05 2025 AUC 0.930858078423294\n",
      "\n",
      "[mbo] 26: num_iterations=537; learning_rate=0.0257; feature_fraction=0.477; min_data_in_leaf=526; num_leaves=155; max_depth=7; lambda_l1=4.32; lambda_l2=4.01; min_gain_to_split=0.219; bagging_fraction=0.758 : y = 0.931 : 29.9 secs : infill_ei\n",
      "\n",
      "Thu Jul 24 19:37:35 2025 AUC 0.930793311549795\n",
      "\n",
      "[mbo] 27: num_iterations=513; learning_rate=0.0329; feature_fraction=0.477; min_data_in_leaf=564; num_leaves=156; max_depth=7; lambda_l1=4.32; lambda_l2=3.76; min_gain_to_split=0.282; bagging_fraction=0.799 : y = 0.931 : 28.3 secs : infill_ei\n",
      "\n",
      "Thu Jul 24 19:38:11 2025 AUC 0.931219863532843\n",
      "\n",
      "[mbo] 28: num_iterations=765; learning_rate=0.0377; feature_fraction=0.447; min_data_in_leaf=531; num_leaves=160; max_depth=7; lambda_l1=4.72; lambda_l2=3.67; min_gain_to_split=0.256; bagging_fraction=0.81 : y = 0.931 : 35.0 secs : infill_ei\n",
      "\n",
      "Thu Jul 24 19:38:43 2025 AUC 0.931109293306374\n",
      "\n",
      "[mbo] 29: num_iterations=565; learning_rate=0.0345; feature_fraction=0.433; min_data_in_leaf=447; num_leaves=155; max_depth=7; lambda_l1=4.22; lambda_l2=4.3; min_gain_to_split=0.275; bagging_fraction=0.765 : y = 0.931 : 29.7 secs : infill_ei\n",
      "\n",
      "Thu Jul 24 19:39:12 2025 AUC 0.930720000191083\n",
      "\n",
      "[mbo] 30: num_iterations=535; learning_rate=0.0293; feature_fraction=0.475; min_data_in_leaf=513; num_leaves=132; max_depth=8; lambda_l1=5.84; lambda_l2=3.58; min_gain_to_split=0.344; bagging_fraction=0.869 : y = 0.931 : 27.8 secs : infill_ei\n",
      "\n",
      "Thu Jul 24 19:39:44 2025 AUC 0.930771250553211\n",
      "\n",
      "[mbo] 31: num_iterations=582; learning_rate=0.032; feature_fraction=0.499; min_data_in_leaf=414; num_leaves=156; max_depth=7; lambda_l1=4.36; lambda_l2=4.53; min_gain_to_split=0.235; bagging_fraction=0.754 : y = 0.931 : 31.3 secs : infill_ei\n",
      "\n",
      "Thu Jul 24 19:40:13 2025 AUC 0.930426931398703\n",
      "\n",
      "[mbo] 32: num_iterations=513; learning_rate=0.039; feature_fraction=0.415; min_data_in_leaf=462; num_leaves=90; max_depth=7; lambda_l1=4.81; lambda_l2=3.26; min_gain_to_split=0.201; bagging_fraction=0.857 : y = 0.93 : 27.4 secs : infill_ei\n",
      "\n",
      "Thu Jul 24 19:40:47 2025 AUC 0.930577652387243\n",
      "\n",
      "[mbo] 33: num_iterations=699; learning_rate=0.0412; feature_fraction=0.445; min_data_in_leaf=382; num_leaves=133; max_depth=7; lambda_l1=5.6; lambda_l2=3.7; min_gain_to_split=0.193; bagging_fraction=0.876 : y = 0.931 : 33.2 secs : infill_ei\n",
      "\n",
      "Thu Jul 24 19:41:15 2025 AUC 0.930474035561086\n",
      "\n",
      "[mbo] 34: num_iterations=510; learning_rate=0.0347; feature_fraction=0.427; min_data_in_leaf=463; num_leaves=132; max_depth=8; lambda_l1=4.92; lambda_l2=3.9; min_gain_to_split=0.27; bagging_fraction=0.79 : y = 0.93 : 26.7 secs : infill_ei\n",
      "\n",
      "Thu Jul 24 19:41:48 2025 AUC 0.931573221254675\n",
      "\n",
      "[mbo] 35: num_iterations=661; learning_rate=0.0398; feature_fraction=0.486; min_data_in_leaf=523; num_leaves=115; max_depth=8; lambda_l1=4.21; lambda_l2=3.77; min_gain_to_split=0.331; bagging_fraction=0.805 : y = 0.932 : 31.9 secs : infill_ei\n",
      "\n",
      "Thu Jul 24 19:42:18 2025 AUC 0.931338980715803\n",
      "\n",
      "[mbo] 36: num_iterations=506; learning_rate=0.0322; feature_fraction=0.425; min_data_in_leaf=529; num_leaves=156; max_depth=7; lambda_l1=4.16; lambda_l2=3.51; min_gain_to_split=0.165; bagging_fraction=0.753 : y = 0.931 : 27.9 secs : infill_ei\n",
      "\n",
      "Thu Jul 24 19:42:53 2025 AUC 0.930431091428519\n",
      "\n",
      "[mbo] 37: num_iterations=620; learning_rate=0.0346; feature_fraction=0.475; min_data_in_leaf=546; num_leaves=145; max_depth=7; lambda_l1=4.36; lambda_l2=4.58; min_gain_to_split=0.211; bagging_fraction=0.762 : y = 0.93 : 33.0 secs : infill_ei\n",
      "\n",
      "Thu Jul 24 19:43:22 2025 AUC 0.931587109396196\n",
      "\n",
      "[mbo] 38: num_iterations=511; learning_rate=0.0343; feature_fraction=0.443; min_data_in_leaf=543; num_leaves=157; max_depth=7; lambda_l1=4.81; lambda_l2=3.89; min_gain_to_split=0.198; bagging_fraction=0.761 : y = 0.932 : 27.5 secs : infill_ei\n",
      "\n",
      "Thu Jul 24 19:43:51 2025 AUC 0.93068296768152\n",
      "\n",
      "[mbo] 39: num_iterations=500; learning_rate=0.0317; feature_fraction=0.467; min_data_in_leaf=380; num_leaves=150; max_depth=6; lambda_l1=5.35; lambda_l2=3.37; min_gain_to_split=0.207; bagging_fraction=0.755 : y = 0.931 : 28.0 secs : infill_ei\n",
      "\n",
      "Saved the current state after iteration 40 in the file bayesiana.RDATA.\n",
      "\n",
      "Thu Jul 24 19:44:34 2025 AUC 0.929802478119989\n",
      "\n",
      "[mbo] 40: num_iterations=727; learning_rate=0.0348; feature_fraction=0.463; min_data_in_leaf=491; num_leaves=142; max_depth=8; lambda_l1=4.55; lambda_l2=3.87; min_gain_to_split=0.181; bagging_fraction=0.757 : y = 0.93 : 36.5 secs : infill_ei\n",
      "\n",
      "Thu Jul 24 19:45:06 2025 AUC 0.931435265437275\n",
      "\n",
      "[mbo] 41: num_iterations=573; learning_rate=0.0356; feature_fraction=0.479; min_data_in_leaf=542; num_leaves=156; max_depth=8; lambda_l1=4.39; lambda_l2=4.41; min_gain_to_split=0.245; bagging_fraction=0.767 : y = 0.931 : 30.2 secs : infill_ei\n",
      "\n",
      "Thu Jul 24 19:45:38 2025 AUC 0.930503832075282\n",
      "\n",
      "[mbo] 42: num_iterations=569; learning_rate=0.0321; feature_fraction=0.466; min_data_in_leaf=530; num_leaves=158; max_depth=8; lambda_l1=5.92; lambda_l2=4.6; min_gain_to_split=0.23; bagging_fraction=0.765 : y = 0.931 : 30.8 secs : infill_ei\n",
      "\n",
      "Thu Jul 24 19:46:08 2025 AUC 0.930499509228739\n",
      "\n",
      "[mbo] 43: num_iterations=503; learning_rate=0.0357; feature_fraction=0.486; min_data_in_leaf=484; num_leaves=141; max_depth=7; lambda_l1=4.33; lambda_l2=4.12; min_gain_to_split=0.209; bagging_fraction=0.754 : y = 0.93 : 27.8 secs : infill_ei\n",
      "\n",
      "Thu Jul 24 19:46:47 2025 AUC 0.930136268882442\n",
      "\n",
      "[mbo] 44: num_iterations=686; learning_rate=0.033; feature_fraction=0.476; min_data_in_leaf=561; num_leaves=157; max_depth=7; lambda_l1=4.31; lambda_l2=3.73; min_gain_to_split=0.199; bagging_fraction=0.769 : y = 0.93 : 36.9 secs : infill_ei\n",
      "\n",
      "Thu Jul 24 19:47:17 2025 AUC 0.93049442487815\n",
      "\n",
      "[mbo] 45: num_iterations=509; learning_rate=0.0304; feature_fraction=0.464; min_data_in_leaf=549; num_leaves=94; max_depth=7; lambda_l1=4.38; lambda_l2=3.99; min_gain_to_split=0.272; bagging_fraction=0.754 : y = 0.93 : 29.3 secs : infill_ei\n",
      "\n",
      "Thu Jul 24 19:47:47 2025 AUC 0.930375747105531\n",
      "\n",
      "[mbo] 46: num_iterations=509; learning_rate=0.0352; feature_fraction=0.489; min_data_in_leaf=440; num_leaves=158; max_depth=7; lambda_l1=4.3; lambda_l2=3.77; min_gain_to_split=0.31; bagging_fraction=0.76 : y = 0.93 : 27.8 secs : infill_ei\n",
      "\n",
      "Thu Jul 24 19:48:21 2025 AUC 0.930376174955413\n",
      "\n",
      "[mbo] 47: num_iterations=640; learning_rate=0.0292; feature_fraction=0.427; min_data_in_leaf=468; num_leaves=97; max_depth=9; lambda_l1=6.95; lambda_l2=4.37; min_gain_to_split=0.308; bagging_fraction=0.852 : y = 0.93 : 32.5 secs : infill_ei\n",
      "\n",
      "Thu Jul 24 19:48:58 2025 AUC 0.92972316335937\n",
      "\n",
      "[mbo] 48: num_iterations=763; learning_rate=0.0312; feature_fraction=0.475; min_data_in_leaf=415; num_leaves=127; max_depth=7; lambda_l1=6.46; lambda_l2=3.41; min_gain_to_split=0.338; bagging_fraction=0.783 : y = 0.93 : 36.1 secs : infill_ei\n",
      "\n",
      "Thu Jul 24 19:49:37 2025 AUC 0.929797805968684\n",
      "\n",
      "[mbo] 49: num_iterations=753; learning_rate=0.0311; feature_fraction=0.432; min_data_in_leaf=366; num_leaves=97; max_depth=10; lambda_l1=5.84; lambda_l2=4.97; min_gain_to_split=0.32; bagging_fraction=0.759 : y = 0.93 : 37.5 secs : infill_ei\n",
      "\n",
      "Thu Jul 24 19:50:04 2025 AUC 0.930702986287214\n",
      "\n",
      "[mbo] 50: num_iterations=531; learning_rate=0.0387; feature_fraction=0.445; min_data_in_leaf=505; num_leaves=155; max_depth=8; lambda_l1=6.73; lambda_l2=3.9; min_gain_to_split=0.227; bagging_fraction=0.762 : y = 0.931 : 25.9 secs : infill_ei\n",
      "\n",
      "Thu Jul 24 19:50:44 2025 AUC 0.930755729862762\n",
      "\n",
      "[mbo] 51: num_iterations=699; learning_rate=0.0334; feature_fraction=0.486; min_data_in_leaf=447; num_leaves=126; max_depth=8; lambda_l1=4.21; lambda_l2=3.83; min_gain_to_split=0.171; bagging_fraction=0.774 : y = 0.931 : 38.6 secs : infill_ei\n",
      "\n",
      "Thu Jul 24 19:51:18 2025 AUC 0.931550473670984\n",
      "\n",
      "[mbo] 52: num_iterations=644; learning_rate=0.0384; feature_fraction=0.464; min_data_in_leaf=518; num_leaves=156; max_depth=7; lambda_l1=4.19; lambda_l2=3.58; min_gain_to_split=0.261; bagging_fraction=0.803 : y = 0.932 : 31.6 secs : infill_ei\n",
      "\n",
      "Thu Jul 24 19:51:49 2025 AUC 0.930057971520625\n",
      "\n",
      "[mbo] 53: num_iterations=592; learning_rate=0.0311; feature_fraction=0.422; min_data_in_leaf=589; num_leaves=90; max_depth=6; lambda_l1=4.6; lambda_l2=3.92; min_gain_to_split=0.317; bagging_fraction=0.855 : y = 0.93 : 30.1 secs : infill_ei\n",
      "\n",
      "Thu Jul 24 19:52:28 2025 AUC 0.930771561910441\n",
      "\n",
      "[mbo] 54: num_iterations=768; learning_rate=0.0312; feature_fraction=0.466; min_data_in_leaf=457; num_leaves=159; max_depth=8; lambda_l1=5.31; lambda_l2=3.47; min_gain_to_split=0.268; bagging_fraction=0.816 : y = 0.931 : 37.1 secs : infill_ei\n",
      "\n",
      "Thu Jul 24 19:53:09 2025 AUC 0.930468428337687\n",
      "\n",
      "[mbo] 55: num_iterations=835; learning_rate=0.0283; feature_fraction=0.419; min_data_in_leaf=365; num_leaves=108; max_depth=10; lambda_l1=6.34; lambda_l2=3.49; min_gain_to_split=0.303; bagging_fraction=0.828 : y = 0.93 : 40.6 secs : infill_ei\n",
      "\n",
      "Thu Jul 24 19:53:39 2025 AUC 0.930294304033468\n",
      "\n",
      "[mbo] 56: num_iterations=511; learning_rate=0.0341; feature_fraction=0.499; min_data_in_leaf=556; num_leaves=88; max_depth=7; lambda_l1=4.58; lambda_l2=3.88; min_gain_to_split=0.233; bagging_fraction=0.765 : y = 0.93 : 27.8 secs : infill_ei\n",
      "\n",
      "Thu Jul 24 19:54:19 2025 AUC 0.929876360514475\n",
      "\n",
      "[mbo] 57: num_iterations=857; learning_rate=0.0421; feature_fraction=0.494; min_data_in_leaf=569; num_leaves=109; max_depth=8; lambda_l1=5.42; lambda_l2=3.33; min_gain_to_split=0.301; bagging_fraction=0.892 : y = 0.93 : 38.9 secs : infill_ei\n",
      "\n",
      "Saved the current state after iteration 58 in the file bayesiana.RDATA.\n",
      "\n",
      "Thu Jul 24 19:54:57 2025 AUC 0.930057874584226\n",
      "\n",
      "[mbo] 58: num_iterations=578; learning_rate=0.0327; feature_fraction=0.462; min_data_in_leaf=530; num_leaves=158; max_depth=7; lambda_l1=4.34; lambda_l2=4.58; min_gain_to_split=0.29; bagging_fraction=0.765 : y = 0.93 : 29.9 secs : infill_ei\n",
      "\n",
      "Thu Jul 24 19:55:37 2025 AUC 0.930506115418818\n",
      "\n",
      "[mbo] 59: num_iterations=820; learning_rate=0.0299; feature_fraction=0.428; min_data_in_leaf=460; num_leaves=85; max_depth=6; lambda_l1=6.88; lambda_l2=4.76; min_gain_to_split=0.226; bagging_fraction=0.851 : y = 0.931 : 39.2 secs : infill_ei\n",
      "\n",
      "Thu Jul 24 19:56:06 2025 AUC 0.930095687914167\n",
      "\n",
      "[mbo] 60: num_iterations=515; learning_rate=0.0358; feature_fraction=0.477; min_data_in_leaf=537; num_leaves=156; max_depth=7; lambda_l1=4.26; lambda_l2=3.9; min_gain_to_split=0.261; bagging_fraction=0.782 : y = 0.93 : 27.2 secs : infill_ei\n",
      "\n",
      "Thu Jul 24 19:56:34 2025 AUC 0.929933126670472\n",
      "\n",
      "[mbo] 61: num_iterations=519; learning_rate=0.0346; feature_fraction=0.49; min_data_in_leaf=517; num_leaves=80; max_depth=10; lambda_l1=6.94; lambda_l2=4.11; min_gain_to_split=0.331; bagging_fraction=0.872 : y = 0.93 : 26.7 secs : infill_ei\n",
      "\n",
      "Thu Jul 24 19:57:03 2025 AUC 0.930073839701155\n",
      "\n",
      "[mbo] 62: num_iterations=508; learning_rate=0.0343; feature_fraction=0.474; min_data_in_leaf=569; num_leaves=113; max_depth=10; lambda_l1=6.46; lambda_l2=3.67; min_gain_to_split=0.242; bagging_fraction=0.8 : y = 0.93 : 26.9 secs : infill_ei\n",
      "\n",
      "Thu Jul 24 19:57:43 2025 AUC 0.930327076898914\n",
      "\n",
      "[mbo] 63: num_iterations=794; learning_rate=0.0369; feature_fraction=0.489; min_data_in_leaf=461; num_leaves=86; max_depth=10; lambda_l1=6.06; lambda_l2=4.56; min_gain_to_split=0.193; bagging_fraction=0.836 : y = 0.93 : 38.8 secs : infill_ei\n",
      "\n",
      "Thu Jul 24 19:58:16 2025 AUC 0.930528449835377\n",
      "\n",
      "[mbo] 64: num_iterations=697; learning_rate=0.04; feature_fraction=0.437; min_data_in_leaf=422; num_leaves=81; max_depth=6; lambda_l1=4.68; lambda_l2=3.89; min_gain_to_split=0.201; bagging_fraction=0.776 : y = 0.931 : 32.2 secs : infill_ei\n",
      "\n",
      "Thu Jul 24 19:58:52 2025 AUC 0.930639142007232\n",
      "\n",
      "[mbo] 65: num_iterations=705; learning_rate=0.0328; feature_fraction=0.491; min_data_in_leaf=560; num_leaves=158; max_depth=8; lambda_l1=4.44; lambda_l2=4.11; min_gain_to_split=0.339; bagging_fraction=0.893 : y = 0.931 : 34.1 secs : infill_ei\n",
      "\n",
      "Thu Jul 24 19:59:26 2025 AUC 0.931098733516821\n",
      "\n",
      "[mbo] 66: num_iterations=684; learning_rate=0.0356; feature_fraction=0.446; min_data_in_leaf=551; num_leaves=159; max_depth=8; lambda_l1=6.04; lambda_l2=4.74; min_gain_to_split=0.32; bagging_fraction=0.784 : y = 0.931 : 32.7 secs : infill_ei\n",
      "\n",
      "Thu Jul 24 20:00:07 2025 AUC 0.930739142394858\n",
      "\n",
      "[mbo] 67: num_iterations=851; learning_rate=0.0341; feature_fraction=0.451; min_data_in_leaf=399; num_leaves=87; max_depth=6; lambda_l1=5.16; lambda_l2=3.07; min_gain_to_split=0.32; bagging_fraction=0.813 : y = 0.931 : 39.9 secs : infill_ei\n",
      "\n",
      "Thu Jul 24 20:00:43 2025 AUC 0.930766761513956\n",
      "\n",
      "[mbo] 68: num_iterations=723; learning_rate=0.0388; feature_fraction=0.407; min_data_in_leaf=385; num_leaves=160; max_depth=8; lambda_l1=6.49; lambda_l2=3.56; min_gain_to_split=0.169; bagging_fraction=0.866 : y = 0.931 : 34.7 secs : infill_ei\n",
      "\n",
      "Thu Jul 24 20:01:18 2025 AUC 0.931387437218512\n",
      "\n",
      "[mbo] 69: num_iterations=538; learning_rate=0.0251; feature_fraction=0.447; min_data_in_leaf=356; num_leaves=140; max_depth=7; lambda_l1=4.21; lambda_l2=3.04; min_gain_to_split=0.257; bagging_fraction=0.754 : y = 0.931 : 33.0 secs : infill_ei\n",
      "\n",
      "Thu Jul 24 20:01:50 2025 AUC 0.929823934697847\n",
      "\n",
      "[mbo] 70: num_iterations=633; learning_rate=0.0389; feature_fraction=0.43; min_data_in_leaf=565; num_leaves=80; max_depth=10; lambda_l1=5.49; lambda_l2=4.9; min_gain_to_split=0.256; bagging_fraction=0.82 : y = 0.93 : 31.2 secs : infill_ei\n",
      "\n",
      "Thu Jul 24 20:02:27 2025 AUC 0.930299087800652\n",
      "\n",
      "[mbo] 71: num_iterations=718; learning_rate=0.0294; feature_fraction=0.415; min_data_in_leaf=421; num_leaves=156; max_depth=10; lambda_l1=6.91; lambda_l2=4.33; min_gain_to_split=0.183; bagging_fraction=0.758 : y = 0.93 : 35.1 secs : infill_ei\n",
      "\n",
      "Thu Jul 24 20:03:08 2025 AUC 0.929639188712019\n",
      "\n",
      "[mbo] 72: num_iterations=834; learning_rate=0.031; feature_fraction=0.475; min_data_in_leaf=427; num_leaves=114; max_depth=9; lambda_l1=5.23; lambda_l2=4.66; min_gain_to_split=0.325; bagging_fraction=0.841 : y = 0.93 : 39.9 secs : infill_ei\n",
      "\n",
      "Thu Jul 24 20:03:46 2025 AUC 0.931418302448818\n",
      "\n",
      "[mbo] 73: num_iterations=749; learning_rate=0.028; feature_fraction=0.464; min_data_in_leaf=560; num_leaves=108; max_depth=9; lambda_l1=4.1; lambda_l2=4.66; min_gain_to_split=0.342; bagging_fraction=0.839 : y = 0.931 : 37.1 secs : infill_ei\n",
      "\n",
      "Thu Jul 24 20:04:24 2025 AUC 0.930132637517586\n",
      "\n",
      "[mbo] 74: num_iterations=713; learning_rate=0.0303; feature_fraction=0.499; min_data_in_leaf=428; num_leaves=135; max_depth=9; lambda_l1=4.87; lambda_l2=4.95; min_gain_to_split=0.283; bagging_fraction=0.798 : y = 0.93 : 36.6 secs : infill_ei\n",
      "\n",
      "Saved the current state after iteration 75 in the file bayesiana.RDATA.\n",
      "\n",
      "Thu Jul 24 20:05:10 2025 AUC 0.930363143614256\n",
      "\n",
      "[mbo] 75: num_iterations=756; learning_rate=0.0269; feature_fraction=0.423; min_data_in_leaf=364; num_leaves=99; max_depth=9; lambda_l1=5.68; lambda_l2=3.96; min_gain_to_split=0.255; bagging_fraction=0.853 : y = 0.93 : 38.4 secs : infill_ei\n",
      "\n",
      "Thu Jul 24 20:05:41 2025 AUC 0.930373449162878\n",
      "\n",
      "[mbo] 76: num_iterations=630; learning_rate=0.038; feature_fraction=0.474; min_data_in_leaf=523; num_leaves=139; max_depth=8; lambda_l1=4.55; lambda_l2=3.72; min_gain_to_split=0.294; bagging_fraction=0.801 : y = 0.93 : 30.3 secs : infill_ei\n",
      "\n",
      "Thu Jul 24 20:06:10 2025 AUC 0.930413735933832\n",
      "\n",
      "[mbo] 77: num_iterations=557; learning_rate=0.0402; feature_fraction=0.497; min_data_in_leaf=537; num_leaves=145; max_depth=7; lambda_l1=5.87; lambda_l2=4.03; min_gain_to_split=0.241; bagging_fraction=0.878 : y = 0.93 : 27.0 secs : infill_ei\n",
      "\n",
      "Thu Jul 24 20:06:44 2025 AUC 0.931008690065179\n",
      "\n",
      "[mbo] 78: num_iterations=676; learning_rate=0.0394; feature_fraction=0.438; min_data_in_leaf=566; num_leaves=122; max_depth=6; lambda_l1=4.75; lambda_l2=4.09; min_gain_to_split=0.192; bagging_fraction=0.871 : y = 0.931 : 32.7 secs : infill_ei\n",
      "\n",
      "Thu Jul 24 20:07:19 2025 AUC 0.929846504707521\n",
      "\n",
      "[mbo] 79: num_iterations=756; learning_rate=0.0411; feature_fraction=0.498; min_data_in_leaf=427; num_leaves=114; max_depth=6; lambda_l1=5.42; lambda_l2=3.73; min_gain_to_split=0.325; bagging_fraction=0.765 : y = 0.93 : 33.7 secs : infill_ei\n",
      "\n",
      "Thu Jul 24 20:07:57 2025 AUC 0.930295250574921\n",
      "\n",
      "[mbo] 80: num_iterations=791; learning_rate=0.0361; feature_fraction=0.425; min_data_in_leaf=374; num_leaves=108; max_depth=9; lambda_l1=6.73; lambda_l2=3.66; min_gain_to_split=0.189; bagging_fraction=0.767 : y = 0.93 : 36.8 secs : infill_ei\n",
      "\n",
      "Thu Jul 24 20:08:34 2025 AUC 0.930562724914023\n",
      "\n",
      "[mbo] 81: num_iterations=682; learning_rate=0.0269; feature_fraction=0.461; min_data_in_leaf=529; num_leaves=159; max_depth=8; lambda_l1=5.79; lambda_l2=3.61; min_gain_to_split=0.225; bagging_fraction=0.8 : y = 0.931 : 34.4 secs : infill_ei\n",
      "\n",
      "Thu Jul 24 20:09:05 2025 AUC 0.930840946697697\n",
      "\n",
      "[mbo] 82: num_iterations=613; learning_rate=0.0441; feature_fraction=0.453; min_data_in_leaf=399; num_leaves=117; max_depth=8; lambda_l1=5.95; lambda_l2=3.42; min_gain_to_split=0.167; bagging_fraction=0.87 : y = 0.931 : 30.2 secs : infill_ei\n",
      "\n",
      "Thu Jul 24 20:09:32 2025 AUC 0.930158931261306\n",
      "\n",
      "[mbo] 83: num_iterations=501; learning_rate=0.0339; feature_fraction=0.452; min_data_in_leaf=407; num_leaves=127; max_depth=7; lambda_l1=5.19; lambda_l2=4.46; min_gain_to_split=0.339; bagging_fraction=0.779 : y = 0.93 : 24.6 secs : infill_ei\n",
      "\n",
      "Thu Jul 24 20:10:09 2025 AUC 0.929854240136309\n",
      "\n",
      "[mbo] 84: num_iterations=744; learning_rate=0.0272; feature_fraction=0.459; min_data_in_leaf=540; num_leaves=136; max_depth=6; lambda_l1=5.9; lambda_l2=3.56; min_gain_to_split=0.293; bagging_fraction=0.831 : y = 0.93 : 35.9 secs : infill_ei\n",
      "\n",
      "Thu Jul 24 20:10:48 2025 AUC 0.930989662222422\n",
      "\n",
      "[mbo] 85: num_iterations=704; learning_rate=0.0279; feature_fraction=0.495; min_data_in_leaf=468; num_leaves=154; max_depth=10; lambda_l1=4.51; lambda_l2=3.44; min_gain_to_split=0.227; bagging_fraction=0.761 : y = 0.931 : 38.0 secs : infill_ei\n",
      "\n",
      "Thu Jul 24 20:11:30 2025 AUC 0.930089385853985\n",
      "\n",
      "[mbo] 86: num_iterations=834; learning_rate=0.0275; feature_fraction=0.415; min_data_in_leaf=357; num_leaves=133; max_depth=9; lambda_l1=6.45; lambda_l2=3.51; min_gain_to_split=0.17; bagging_fraction=0.847 : y = 0.93 : 40.8 secs : infill_ei\n",
      "\n",
      "Thu Jul 24 20:12:02 2025 AUC 0.930249124013415\n",
      "\n",
      "[mbo] 87: num_iterations=558; learning_rate=0.0322; feature_fraction=0.404; min_data_in_leaf=368; num_leaves=157; max_depth=7; lambda_l1=5.12; lambda_l2=4.47; min_gain_to_split=0.155; bagging_fraction=0.768 : y = 0.93 : 29.9 secs : infill_ei\n",
      "\n",
      "Thu Jul 24 20:12:44 2025 AUC 0.930291260364657\n",
      "\n",
      "[mbo] 88: num_iterations=779; learning_rate=0.032; feature_fraction=0.413; min_data_in_leaf=530; num_leaves=85; max_depth=10; lambda_l1=5; lambda_l2=3.41; min_gain_to_split=0.171; bagging_fraction=0.842 : y = 0.93 : 40.2 secs : infill_ei\n",
      "\n",
      "Thu Jul 24 20:13:11 2025 AUC 0.929672174624168\n",
      "\n",
      "[mbo] 89: num_iterations=523; learning_rate=0.0436; feature_fraction=0.489; min_data_in_leaf=361; num_leaves=129; max_depth=9; lambda_l1=6.62; lambda_l2=3.05; min_gain_to_split=0.252; bagging_fraction=0.796 : y = 0.93 : 25.6 secs : infill_ei\n",
      "\n",
      "Thu Jul 24 20:13:56 2025 AUC 0.930747943950749\n",
      "\n",
      "[mbo] 90: num_iterations=884; learning_rate=0.0296; feature_fraction=0.464; min_data_in_leaf=564; num_leaves=158; max_depth=8; lambda_l1=5.62; lambda_l2=3.1; min_gain_to_split=0.188; bagging_fraction=0.81 : y = 0.931 : 43.8 secs : infill_ei\n",
      "\n",
      "Thu Jul 24 20:14:27 2025 AUC 0.930384931780752\n",
      "\n",
      "[mbo] 91: num_iterations=589; learning_rate=0.0388; feature_fraction=0.46; min_data_in_leaf=529; num_leaves=159; max_depth=8; lambda_l1=5.96; lambda_l2=4.41; min_gain_to_split=0.271; bagging_fraction=0.797 : y = 0.93 : 28.0 secs : infill_ei\n",
      "\n",
      "Thu Jul 24 20:15:07 2025 AUC 0.930768048149077\n",
      "\n",
      "[mbo] 92: num_iterations=842; learning_rate=0.0396; feature_fraction=0.472; min_data_in_leaf=585; num_leaves=88; max_depth=8; lambda_l1=5.6; lambda_l2=4.65; min_gain_to_split=0.284; bagging_fraction=0.798 : y = 0.931 : 38.8 secs : infill_ei\n",
      "\n",
      "Saved the current state after iteration 93 in the file bayesiana.RDATA.\n",
      "\n",
      "Thu Jul 24 20:15:41 2025 AUC 0.930734681152684\n",
      "\n",
      "[mbo] 93: num_iterations=593; learning_rate=0.0303; feature_fraction=0.403; min_data_in_leaf=432; num_leaves=101; max_depth=7; lambda_l1=6.28; lambda_l2=4.01; min_gain_to_split=0.227; bagging_fraction=0.845 : y = 0.931 : 28.7 secs : infill_ei\n",
      "\n",
      "Thu Jul 24 20:16:27 2025 AUC 0.931625714045794\n",
      "\n",
      "[mbo] 94: num_iterations=890; learning_rate=0.0311; feature_fraction=0.474; min_data_in_leaf=573; num_leaves=143; max_depth=9; lambda_l1=4.81; lambda_l2=3.99; min_gain_to_split=0.168; bagging_fraction=0.823 : y = 0.932 : 44.7 secs : infill_ei\n",
      "\n",
      "Thu Jul 24 20:16:58 2025 AUC 0.93051471792907\n",
      "\n",
      "[mbo] 95: num_iterations=561; learning_rate=0.0276; feature_fraction=0.404; min_data_in_leaf=458; num_leaves=159; max_depth=8; lambda_l1=4.99; lambda_l2=3.89; min_gain_to_split=0.297; bagging_fraction=0.853 : y = 0.931 : 29.4 secs : infill_ei\n",
      "\n",
      "Thu Jul 24 20:17:37 2025 AUC 0.930973381131408\n",
      "\n",
      "[mbo] 96: num_iterations=829; learning_rate=0.0424; feature_fraction=0.421; min_data_in_leaf=592; num_leaves=155; max_depth=7; lambda_l1=5.85; lambda_l2=3.39; min_gain_to_split=0.204; bagging_fraction=0.791 : y = 0.931 : 37.1 secs : infill_ei\n",
      "\n",
      "Thu Jul 24 20:18:11 2025 AUC 0.930876965965661\n",
      "\n",
      "[mbo] 97: num_iterations=666; learning_rate=0.0342; feature_fraction=0.485; min_data_in_leaf=581; num_leaves=127; max_depth=8; lambda_l1=4.46; lambda_l2=3.79; min_gain_to_split=0.338; bagging_fraction=0.826 : y = 0.931 : 31.9 secs : infill_ei\n",
      "\n",
      "Thu Jul 24 20:18:45 2025 AUC 0.93096861120861\n",
      "\n",
      "[mbo] 98: num_iterations=633; learning_rate=0.0281; feature_fraction=0.4; min_data_in_leaf=447; num_leaves=145; max_depth=7; lambda_l1=4.38; lambda_l2=3.78; min_gain_to_split=0.222; bagging_fraction=0.849 : y = 0.931 : 32.1 secs : infill_ei\n",
      "\n",
      "Thu Jul 24 20:19:25 2025 AUC 0.930598476448691\n",
      "\n",
      "[mbo] 99: num_iterations=801; learning_rate=0.0337; feature_fraction=0.405; min_data_in_leaf=530; num_leaves=143; max_depth=8; lambda_l1=5.49; lambda_l2=3.96; min_gain_to_split=0.175; bagging_fraction=0.766 : y = 0.931 : 38.3 secs : infill_ei\n",
      "\n",
      "Thu Jul 24 20:20:11 2025 AUC 0.930921979891165\n",
      "\n",
      "[mbo] 100: num_iterations=896; learning_rate=0.0271; feature_fraction=0.462; min_data_in_leaf=545; num_leaves=103; max_depth=10; lambda_l1=4.04; lambda_l2=4.79; min_gain_to_split=0.259; bagging_fraction=0.789 : y = 0.931 : 44.5 secs : infill_ei\n",
      "\n",
      "Saved the final state in the file bayesiana.RDATA\n",
      "\n"
     ]
    }
   ],
   "source": [
    "# inicio la optimizacion bayesiana, retomando si ya existe\n",
    "# es la celda mas lenta de todo el notebook\n",
    "\n",
    "if (!file.exists(kbayesiana)) {\n",
    "  bayesiana_salida <- mbo(obj.fun, learner= surr.km, control= ctrl)\n",
    "} else {\n",
    "  bayesiana_salida <- mboContinue(kbayesiana) # retomo en caso que ya exista\n",
    "}"
   ]
  },
  {
   "cell_type": "code",
   "execution_count": 20,
   "metadata": {
    "id": "ssk5nnMk6INK"
   },
   "outputs": [
    {
     "data": {
      "text/html": [
       "<style>\n",
       ".list-inline {list-style: none; margin:0; padding: 0}\n",
       ".list-inline>li {display: inline-block}\n",
       ".list-inline>li:not(:last-child)::after {content: \"\\00b7\"; padding: 0 .5ex}\n",
       "</style>\n",
       "<ol class=list-inline><li>'num_iterations'</li><li>'learning_rate'</li><li>'feature_fraction'</li><li>'min_data_in_leaf'</li><li>'num_leaves'</li><li>'max_depth'</li><li>'lambda_l1'</li><li>'lambda_l2'</li><li>'min_gain_to_split'</li><li>'bagging_fraction'</li><li>'y'</li><li>'dob'</li><li>'eol'</li><li>'error.message'</li><li>'exec.time'</li><li>'ei'</li><li>'error.model'</li><li>'train.time'</li><li>'prop.type'</li><li>'propose.time'</li><li>'se'</li><li>'mean'</li></ol>\n"
      ],
      "text/latex": [
       "\\begin{enumerate*}\n",
       "\\item 'num\\_iterations'\n",
       "\\item 'learning\\_rate'\n",
       "\\item 'feature\\_fraction'\n",
       "\\item 'min\\_data\\_in\\_leaf'\n",
       "\\item 'num\\_leaves'\n",
       "\\item 'max\\_depth'\n",
       "\\item 'lambda\\_l1'\n",
       "\\item 'lambda\\_l2'\n",
       "\\item 'min\\_gain\\_to\\_split'\n",
       "\\item 'bagging\\_fraction'\n",
       "\\item 'y'\n",
       "\\item 'dob'\n",
       "\\item 'eol'\n",
       "\\item 'error.message'\n",
       "\\item 'exec.time'\n",
       "\\item 'ei'\n",
       "\\item 'error.model'\n",
       "\\item 'train.time'\n",
       "\\item 'prop.type'\n",
       "\\item 'propose.time'\n",
       "\\item 'se'\n",
       "\\item 'mean'\n",
       "\\end{enumerate*}\n"
      ],
      "text/markdown": [
       "1. 'num_iterations'\n",
       "2. 'learning_rate'\n",
       "3. 'feature_fraction'\n",
       "4. 'min_data_in_leaf'\n",
       "5. 'num_leaves'\n",
       "6. 'max_depth'\n",
       "7. 'lambda_l1'\n",
       "8. 'lambda_l2'\n",
       "9. 'min_gain_to_split'\n",
       "10. 'bagging_fraction'\n",
       "11. 'y'\n",
       "12. 'dob'\n",
       "13. 'eol'\n",
       "14. 'error.message'\n",
       "15. 'exec.time'\n",
       "16. 'ei'\n",
       "17. 'error.model'\n",
       "18. 'train.time'\n",
       "19. 'prop.type'\n",
       "20. 'propose.time'\n",
       "21. 'se'\n",
       "22. 'mean'\n",
       "\n",
       "\n"
      ],
      "text/plain": [
       " [1] \"num_iterations\"    \"learning_rate\"     \"feature_fraction\" \n",
       " [4] \"min_data_in_leaf\"  \"num_leaves\"        \"max_depth\"        \n",
       " [7] \"lambda_l1\"         \"lambda_l2\"         \"min_gain_to_split\"\n",
       "[10] \"bagging_fraction\"  \"y\"                 \"dob\"              \n",
       "[13] \"eol\"               \"error.message\"     \"exec.time\"        \n",
       "[16] \"ei\"                \"error.model\"       \"train.time\"       \n",
       "[19] \"prop.type\"         \"propose.time\"      \"se\"               \n",
       "[22] \"mean\"             "
      ]
     },
     "metadata": {},
     "output_type": "display_data"
    }
   ],
   "source": [
    "\n",
    "tb_bayesiana <- as.data.table(bayesiana_salida$opt.path)\n",
    "colnames( tb_bayesiana)"
   ]
  },
  {
   "cell_type": "code",
   "execution_count": 21,
   "metadata": {
    "id": "u4zq-vknhjGc"
   },
   "outputs": [],
   "source": [
    "# almaceno los resultados de la Bayesian Optimization\n",
    "# y capturo los mejores hiperparametros encontrados\n",
    "\n",
    "tb_bayesiana <- as.data.table(bayesiana_salida$opt.path)\n",
    "\n",
    "tb_bayesiana[, iter := .I]\n",
    "\n",
    "# ordeno en forma descendente por AUC = y\n",
    "setorder(tb_bayesiana, -y)\n",
    "\n",
    "# grabo para eventualmente poder utilizarlos en OTRA corrida\n",
    "fwrite( tb_bayesiana,\n",
    "  file= \"BO_log.txt\",\n",
    "  sep= \"\\t\"\n",
    ")\n",
    "\n",
    "# los mejores hiperparámetros son los que quedaron en el registro 1 de la tabla\n",
    "PARAM$out$lgbm$mejores_hiperparametros <- tb_bayesiana[\n",
    "  1, # el primero es el de mejor AUC\n",
    "  setdiff(colnames(tb_bayesiana),\n",
    "    c(\"y\",\"dob\",\"eol\",\"error.message\",\"exec.time\",\"ei\",\"error.model\",\n",
    "      \"train.time\",\"prop.type\",\"propose.time\",\"se\",\"mean\",\"iter\")),\n",
    "  with= FALSE\n",
    "]\n",
    "\n",
    "\n",
    "PARAM$out$lgbm$y <- tb_bayesiana[1, y]\n"
   ]
  },
  {
   "cell_type": "code",
   "execution_count": 22,
   "metadata": {
    "id": "E8v2eA427N8e"
   },
   "outputs": [],
   "source": [
    "write_yaml( PARAM, file=\"PARAM.yml\")"
   ]
  },
  {
   "cell_type": "code",
   "execution_count": 23,
   "metadata": {
    "id": "iBTWexVU7PGC"
   },
   "outputs": [
    {
     "name": "stdout",
     "output_type": "stream",
     "text": [
      "   num_iterations learning_rate feature_fraction min_data_in_leaf num_leaves\n",
      "            <int>         <num>            <num>            <int>      <int>\n",
      "1:            509    0.03468258        0.4763614              541        154\n",
      "   max_depth lambda_l1 lambda_l2 min_gain_to_split bagging_fraction\n",
      "       <int>     <num>     <num>             <num>            <num>\n",
      "1:         7  4.301575  3.876002         0.2676159        0.7539043\n",
      "[1] 0.9318277\n"
     ]
    }
   ],
   "source": [
    "print(PARAM$out$lgbm$mejores_hiperparametros)\n",
    "print(PARAM$out$lgbm$y)"
   ]
  },
  {
   "cell_type": "markdown",
   "metadata": {
    "id": "TKsVZmAnhwX-"
   },
   "source": [
    "## 2.3  Produccion"
   ]
  },
  {
   "cell_type": "markdown",
   "metadata": {
    "id": "RQ_C33Tr5B_9"
   },
   "source": [
    "### Final Training\n",
    "Construyo el modelo final, que es uno solo, no hace ningun tipo de particion < training, validation, testing>]"
   ]
  },
  {
   "cell_type": "code",
   "execution_count": 24,
   "metadata": {
    "id": "eDqfyA14hzwv"
   },
   "outputs": [],
   "source": [
    "setwd(\"/content/buckets/b1/exp\")\n",
    "experimento <- paste0(\"exp\", PARAM$experimento)\n",
    "dir.create(experimento, showWarnings= FALSE)\n",
    "setwd( paste0(\"/content/buckets/b1/exp/\", experimento ))"
   ]
  },
  {
   "cell_type": "markdown",
   "metadata": {
    "id": "8qFmFivf5Iet"
   },
   "source": [
    "#### Final Training Dataset\n",
    "\n",
    "Aqui esta la gran decision de en qué meses hago el Final Training\n",
    "<br> debo utilizar los mejores hiperparámetros que encontré en la optimización bayesiana"
   ]
  },
  {
   "cell_type": "code",
   "execution_count": 25,
   "metadata": {
    "id": "lg5WVZncvc7H"
   },
   "outputs": [],
   "source": [
    "# clase01\n",
    "dataset[, clase01 := ifelse(clase_ternaria %in% c(\"BAJA+1\", \"BAJA+2\"), 1L, 0L)]"
   ]
  },
  {
   "cell_type": "code",
   "execution_count": 26,
   "metadata": {
    "id": "yc9QzXREv0xf"
   },
   "outputs": [],
   "source": [
    "dataset_train <- dataset[foto_mes %in% c(202107)]"
   ]
  },
  {
   "cell_type": "code",
   "execution_count": 27,
   "metadata": {
    "id": "thjdqEBLuvNt"
   },
   "outputs": [],
   "source": [
    "# dejo los datos en el formato que necesita LightGBM\n",
    "\n",
    "dtrain <- lgb.Dataset(\n",
    "  data= data.matrix(dataset_train[, campos_buenos, with= FALSE]),\n",
    "  label= dataset_train[, clase01]\n",
    ")"
   ]
  },
  {
   "cell_type": "markdown",
   "metadata": {
    "id": "VNUa-WSz5Oqu"
   },
   "source": [
    "#### Final Training Hyperparameters"
   ]
  },
  {
   "cell_type": "code",
   "execution_count": 28,
   "metadata": {
    "id": "FgCcvBfEwImu"
   },
   "outputs": [
    {
     "data": {
      "text/html": [
       "<dl>\n",
       "\t<dt>$boosting</dt>\n",
       "\t\t<dd>'gbdt'</dd>\n",
       "\t<dt>$objective</dt>\n",
       "\t\t<dd>'binary'</dd>\n",
       "\t<dt>$metric</dt>\n",
       "\t\t<dd>'auc'</dd>\n",
       "\t<dt>$first_metric_only</dt>\n",
       "\t\t<dd>FALSE</dd>\n",
       "\t<dt>$boost_from_average</dt>\n",
       "\t\t<dd>TRUE</dd>\n",
       "\t<dt>$feature_pre_filter</dt>\n",
       "\t\t<dd>FALSE</dd>\n",
       "\t<dt>$force_row_wise</dt>\n",
       "\t\t<dd>TRUE</dd>\n",
       "\t<dt>$verbosity</dt>\n",
       "\t\t<dd>-100</dd>\n",
       "\t<dt>$seed</dt>\n",
       "\t\t<dd>100129</dd>\n",
       "\t<dt>$max_depth</dt>\n",
       "\t\t<dd>7</dd>\n",
       "\t<dt>$min_gain_to_split</dt>\n",
       "\t\t<dd>0.267615894961415</dd>\n",
       "\t<dt>$min_sum_hessian_in_leaf</dt>\n",
       "\t\t<dd>0.001</dd>\n",
       "\t<dt>$lambda_l1</dt>\n",
       "\t\t<dd>4.30157477478407</dd>\n",
       "\t<dt>$lambda_l2</dt>\n",
       "\t\t<dd>3.87600194056186</dd>\n",
       "\t<dt>$max_bin</dt>\n",
       "\t\t<dd>31</dd>\n",
       "\t<dt>$bagging_fraction</dt>\n",
       "\t\t<dd>0.753904274626077</dd>\n",
       "\t<dt>$pos_bagging_fraction</dt>\n",
       "\t\t<dd>1</dd>\n",
       "\t<dt>$neg_bagging_fraction</dt>\n",
       "\t\t<dd>1</dd>\n",
       "\t<dt>$is_unbalance</dt>\n",
       "\t\t<dd>FALSE</dd>\n",
       "\t<dt>$scale_pos_weight</dt>\n",
       "\t\t<dd>1</dd>\n",
       "\t<dt>$drop_rate</dt>\n",
       "\t\t<dd>0.1</dd>\n",
       "\t<dt>$max_drop</dt>\n",
       "\t\t<dd>50</dd>\n",
       "\t<dt>$skip_drop</dt>\n",
       "\t\t<dd>0.5</dd>\n",
       "\t<dt>$extra_trees</dt>\n",
       "\t\t<dd>FALSE</dd>\n",
       "\t<dt>$num_iterations</dt>\n",
       "\t\t<dd>509</dd>\n",
       "\t<dt>$learning_rate</dt>\n",
       "\t\t<dd>0.0346825836998352</dd>\n",
       "\t<dt>$feature_fraction</dt>\n",
       "\t\t<dd>0.476361391272374</dd>\n",
       "\t<dt>$num_leaves</dt>\n",
       "\t\t<dd>154</dd>\n",
       "\t<dt>$min_data_in_leaf</dt>\n",
       "\t\t<dd>541</dd>\n",
       "</dl>\n"
      ],
      "text/latex": [
       "\\begin{description}\n",
       "\\item[\\$boosting] 'gbdt'\n",
       "\\item[\\$objective] 'binary'\n",
       "\\item[\\$metric] 'auc'\n",
       "\\item[\\$first\\_metric\\_only] FALSE\n",
       "\\item[\\$boost\\_from\\_average] TRUE\n",
       "\\item[\\$feature\\_pre\\_filter] FALSE\n",
       "\\item[\\$force\\_row\\_wise] TRUE\n",
       "\\item[\\$verbosity] -100\n",
       "\\item[\\$seed] 100129\n",
       "\\item[\\$max\\_depth] 7\n",
       "\\item[\\$min\\_gain\\_to\\_split] 0.267615894961415\n",
       "\\item[\\$min\\_sum\\_hessian\\_in\\_leaf] 0.001\n",
       "\\item[\\$lambda\\_l1] 4.30157477478407\n",
       "\\item[\\$lambda\\_l2] 3.87600194056186\n",
       "\\item[\\$max\\_bin] 31\n",
       "\\item[\\$bagging\\_fraction] 0.753904274626077\n",
       "\\item[\\$pos\\_bagging\\_fraction] 1\n",
       "\\item[\\$neg\\_bagging\\_fraction] 1\n",
       "\\item[\\$is\\_unbalance] FALSE\n",
       "\\item[\\$scale\\_pos\\_weight] 1\n",
       "\\item[\\$drop\\_rate] 0.1\n",
       "\\item[\\$max\\_drop] 50\n",
       "\\item[\\$skip\\_drop] 0.5\n",
       "\\item[\\$extra\\_trees] FALSE\n",
       "\\item[\\$num\\_iterations] 509\n",
       "\\item[\\$learning\\_rate] 0.0346825836998352\n",
       "\\item[\\$feature\\_fraction] 0.476361391272374\n",
       "\\item[\\$num\\_leaves] 154\n",
       "\\item[\\$min\\_data\\_in\\_leaf] 541\n",
       "\\end{description}\n"
      ],
      "text/markdown": [
       "$boosting\n",
       ":   'gbdt'\n",
       "$objective\n",
       ":   'binary'\n",
       "$metric\n",
       ":   'auc'\n",
       "$first_metric_only\n",
       ":   FALSE\n",
       "$boost_from_average\n",
       ":   TRUE\n",
       "$feature_pre_filter\n",
       ":   FALSE\n",
       "$force_row_wise\n",
       ":   TRUE\n",
       "$verbosity\n",
       ":   -100\n",
       "$seed\n",
       ":   100129\n",
       "$max_depth\n",
       ":   7\n",
       "$min_gain_to_split\n",
       ":   0.267615894961415\n",
       "$min_sum_hessian_in_leaf\n",
       ":   0.001\n",
       "$lambda_l1\n",
       ":   4.30157477478407\n",
       "$lambda_l2\n",
       ":   3.87600194056186\n",
       "$max_bin\n",
       ":   31\n",
       "$bagging_fraction\n",
       ":   0.753904274626077\n",
       "$pos_bagging_fraction\n",
       ":   1\n",
       "$neg_bagging_fraction\n",
       ":   1\n",
       "$is_unbalance\n",
       ":   FALSE\n",
       "$scale_pos_weight\n",
       ":   1\n",
       "$drop_rate\n",
       ":   0.1\n",
       "$max_drop\n",
       ":   50\n",
       "$skip_drop\n",
       ":   0.5\n",
       "$extra_trees\n",
       ":   FALSE\n",
       "$num_iterations\n",
       ":   509\n",
       "$learning_rate\n",
       ":   0.0346825836998352\n",
       "$feature_fraction\n",
       ":   0.476361391272374\n",
       "$num_leaves\n",
       ":   154\n",
       "$min_data_in_leaf\n",
       ":   541\n",
       "\n",
       "\n"
      ],
      "text/plain": [
       "$boosting\n",
       "[1] \"gbdt\"\n",
       "\n",
       "$objective\n",
       "[1] \"binary\"\n",
       "\n",
       "$metric\n",
       "[1] \"auc\"\n",
       "\n",
       "$first_metric_only\n",
       "[1] FALSE\n",
       "\n",
       "$boost_from_average\n",
       "[1] TRUE\n",
       "\n",
       "$feature_pre_filter\n",
       "[1] FALSE\n",
       "\n",
       "$force_row_wise\n",
       "[1] TRUE\n",
       "\n",
       "$verbosity\n",
       "[1] -100\n",
       "\n",
       "$seed\n",
       "[1] 100129\n",
       "\n",
       "$max_depth\n",
       "[1] 7\n",
       "\n",
       "$min_gain_to_split\n",
       "[1] 0.2676159\n",
       "\n",
       "$min_sum_hessian_in_leaf\n",
       "[1] 0.001\n",
       "\n",
       "$lambda_l1\n",
       "[1] 4.301575\n",
       "\n",
       "$lambda_l2\n",
       "[1] 3.876002\n",
       "\n",
       "$max_bin\n",
       "[1] 31\n",
       "\n",
       "$bagging_fraction\n",
       "[1] 0.7539043\n",
       "\n",
       "$pos_bagging_fraction\n",
       "[1] 1\n",
       "\n",
       "$neg_bagging_fraction\n",
       "[1] 1\n",
       "\n",
       "$is_unbalance\n",
       "[1] FALSE\n",
       "\n",
       "$scale_pos_weight\n",
       "[1] 1\n",
       "\n",
       "$drop_rate\n",
       "[1] 0.1\n",
       "\n",
       "$max_drop\n",
       "[1] 50\n",
       "\n",
       "$skip_drop\n",
       "[1] 0.5\n",
       "\n",
       "$extra_trees\n",
       "[1] FALSE\n",
       "\n",
       "$num_iterations\n",
       "[1] 509\n",
       "\n",
       "$learning_rate\n",
       "[1] 0.03468258\n",
       "\n",
       "$feature_fraction\n",
       "[1] 0.4763614\n",
       "\n",
       "$num_leaves\n",
       "[1] 154\n",
       "\n",
       "$min_data_in_leaf\n",
       "[1] 541\n"
      ]
     },
     "metadata": {},
     "output_type": "display_data"
    }
   ],
   "source": [
    "param_final <- modifyList(PARAM$lgbm$param_fijos,\n",
    "  PARAM$out$lgbm$mejores_hiperparametros)\n",
    "\n",
    "param_final"
   ]
  },
  {
   "cell_type": "markdown",
   "metadata": {
    "id": "TZIYn4l95TBH"
   },
   "source": [
    "#### Training\n",
    "Genero el modelo final, siempre sobre TODOS los datos de  final_train, sin hacer ningun tipo de undersampling de la clase mayoritaria"
   ]
  },
  {
   "cell_type": "code",
   "execution_count": 29,
   "metadata": {
    "id": "vPLsd4mMRe4u"
   },
   "outputs": [],
   "source": [
    "# este punto es muy SUTIL  y será revisado en la Clase 05\n",
    "\n",
    "param_normalizado <- copy(param_final)\n",
    "param_normalizado$min_data_in_leaf <-  param_final$min_data_in_leaf / PARAM$trainingstrategy$undersampling"
   ]
  },
  {
   "cell_type": "code",
   "execution_count": 30,
   "metadata": {
    "id": "WRI_-taRwOXO"
   },
   "outputs": [],
   "source": [
    "  # entreno LightGBM\n",
    "\n",
    "  modelo_final <- lgb.train(\n",
    "    data= dtrain,\n",
    "    param= param_normalizado\n",
    "  )"
   ]
  },
  {
   "cell_type": "code",
   "execution_count": 31,
   "metadata": {
    "id": "_bkhnCvj0g3Q"
   },
   "outputs": [],
   "source": [
    "# ahora imprimo la importancia de variables\n",
    "\n",
    "tb_importancia <- as.data.table(lgb.importance(modelo_final))\n",
    "archivo_importancia <- \"impo.txt\"\n",
    "\n",
    "fwrite(tb_importancia,\n",
    "  file= archivo_importancia,\n",
    "  sep= \"\\t\"\n",
    ")"
   ]
  },
  {
   "cell_type": "code",
   "execution_count": 32,
   "metadata": {
    "id": "lZ3sLmbh0kFj"
   },
   "outputs": [],
   "source": [
    "# grabo a disco el modelo en un formato para seres humanos ... ponele ...\n",
    "\n",
    "lgb.save(modelo_final, \"modelo.txt\" )"
   ]
  },
  {
   "cell_type": "markdown",
   "metadata": {
    "id": "VEtp2--t5Ymg"
   },
   "source": [
    "### Scoring"
   ]
  },
  {
   "cell_type": "markdown",
   "metadata": {
    "id": "hI5008Mj5ZdI"
   },
   "source": [
    "Aplico el modelo final a los datos del futuro"
   ]
  },
  {
   "cell_type": "code",
   "execution_count": 33,
   "metadata": {
    "id": "PimBY3N_0ryP"
   },
   "outputs": [],
   "source": [
    "# aplico el modelo a los datos sin clase\n",
    "dfuture <- dataset[foto_mes == 202109]\n",
    "\n",
    "# aplico el modelo a los datos nuevos\n",
    "prediccion <- predict(\n",
    "  modelo_final,\n",
    "  data.matrix(dfuture[, campos_buenos, with= FALSE])\n",
    ")"
   ]
  },
  {
   "cell_type": "markdown",
   "metadata": {
    "id": "D26rNRh55gpw"
   },
   "source": [
    "#### Tabla Prediccion"
   ]
  },
  {
   "cell_type": "code",
   "execution_count": 34,
   "metadata": {
    "id": "RJwg7LHd11yu"
   },
   "outputs": [],
   "source": [
    "# tabla de prediccion\n",
    "\n",
    "tb_prediccion <- dfuture[, list(numero_de_cliente)]\n",
    "tb_prediccion[, prob := prediccion ]\n",
    "\n",
    "# grabo las probabilidad del modelo\n",
    "fwrite(tb_prediccion,\n",
    "  file= \"prediccion.txt\",\n",
    "  sep= \"\\t\"\n",
    ")"
   ]
  },
  {
   "cell_type": "markdown",
   "metadata": {
    "id": "jOt4eG_55ltv"
   },
   "source": [
    "Kaggle Competition Submit"
   ]
  },
  {
   "cell_type": "code",
   "execution_count": 35,
   "metadata": {
    "id": "gWW3tatE12je"
   },
   "outputs": [
    {
     "name": "stdout",
     "output_type": "stream",
     "text": [
      "Successfully submitted to Data Mining, Analista Sr 2025A \n",
      "Successfully submitted to Data Mining, Analista Sr 2025A \n",
      "Successfully submitted to Data Mining, Analista Sr 2025A \n",
      "Successfully submitted to Data Mining, Analista Sr 2025A \n",
      "Successfully submitted to Data Mining, Analista Sr 2025A \n"
     ]
    }
   ],
   "source": [
    "# genero archivos con los  \"envios\" mejores\n",
    "# suba TODOS los archivos a Kaggle\n",
    "\n",
    "# ordeno por probabilidad descendente\n",
    "setorder(tb_prediccion, -prob)\n",
    "\n",
    "dir.create(\"kaggle\")\n",
    "\n",
    "for (envios in PARAM$kaggle$cortes) {\n",
    "\n",
    "  tb_prediccion[, Predicted := 0L] # seteo inicial a 0\n",
    "  tb_prediccion[1:envios, Predicted := 1L] # marclo los primeros\n",
    "\n",
    "  archivo_kaggle <- paste0(\"./kaggle/KA\", PARAM$experimento, \"_\", envios, \".csv\")\n",
    "\n",
    "  # grabo el archivo\n",
    "  fwrite(tb_prediccion[, list(numero_de_cliente, Predicted)],\n",
    "    file= archivo_kaggle,\n",
    "    sep= \",\"\n",
    "  )\n",
    "\n",
    "  # subida a Kaggle, armo la linea de comando\n",
    "  comando <- \"kaggle competitions submit\"\n",
    "  competencia <- paste(\"-c\", PARAM$kaggle$competencia)\n",
    "  arch <- paste( \"-f\", archivo_kaggle)\n",
    "\n",
    "  mensaje <- paste0(\"-m 'envios=\", envios,\n",
    "  \"  semilla=\", PARAM$semilla_primigenia,\n",
    "    \"'\" )\n",
    "\n",
    "  linea <- paste( comando, competencia, arch, mensaje)\n",
    "\n",
    "  salida <- system(linea, intern=TRUE) # el submit a Kaggle\n",
    "  cat(salida, \"\\n\")\n",
    "}"
   ]
  },
  {
   "cell_type": "code",
   "execution_count": null,
   "metadata": {
    "id": "B9tB2X4439Hg"
   },
   "outputs": [],
   "source": [
    "write_yaml( PARAM, file=\"PARAM.yml\")"
   ]
  },
  {
   "cell_type": "code",
   "execution_count": null,
   "metadata": {
    "id": "9zA_W25c15DP"
   },
   "outputs": [],
   "source": [
    "format(Sys.time(), \"%a %b %d %X %Y\")"
   ]
  },
  {
   "cell_type": "markdown",
   "metadata": {
    "id": "UdVZucdLHzZ0"
   },
   "source": [
    "Finalmente usted deberá cargar el resultado de su corrida en la Google Sheet Colaborativa,  hoja **TareaHogar04**\n",
    "<br> Siéntase libre de agregar las columnas que hagan falta a la planilla"
   ]
  },
  {
   "cell_type": "code",
   "execution_count": null,
   "metadata": {
    "id": "WMHh7uNVIJkT"
   },
   "outputs": [],
   "source": []
  }
 ],
 "metadata": {
  "colab": {
   "provenance": []
  },
  "kernelspec": {
   "display_name": "R",
   "language": "R",
   "name": "ir"
  },
  "language_info": {
   "codemirror_mode": "r",
   "file_extension": ".r",
   "mimetype": "text/x-r-source",
   "name": "R",
   "pygments_lexer": "r",
   "version": "4.4.3"
  }
 },
 "nbformat": 4,
 "nbformat_minor": 4
}
