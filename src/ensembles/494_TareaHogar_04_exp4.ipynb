{
 "cells": [
  {
   "cell_type": "markdown",
   "metadata": {
    "id": "0cEmzeUKFkPh"
   },
   "source": [
    "# Tarea para el Hogar 04"
   ]
  },
  {
   "cell_type": "markdown",
   "metadata": {
    "id": "nSICPpyTGQmC"
   },
   "source": [
    "Esta Tarea para el Hogar 02 se entrega el final de la cuarta clase\n",
    "<br> se espera de usted que intente avanzar con los desafios propuestos y que los traiga terminados para la Clase 05 que será el viernes 01-agosto"
   ]
  },
  {
   "cell_type": "markdown",
   "metadata": {
    "id": "DenyKXkiJ5JN"
   },
   "source": [
    "##  1. Cazatalentos"
   ]
  },
  {
   "cell_type": "markdown",
   "metadata": {
    "id": "l-K2_ZsZGrVD"
   },
   "source": [
    "En la Clase 03 nos hemos enfrentado a  \"La Maldicion del Ganandor\",  elegir el modelo con el mejor puntaje simple no suele ser la mejor estrategia.\n",
    "<br> Lea y ejecute el notebook  **src/CazaTalentos/CazaTalentos.ipynb**\n",
    "<br> en caso de interesarle, participe del Desafío Ordenamiento  que vence el sábado 02 de agosto a las 19:00"
   ]
  },
  {
   "cell_type": "markdown",
   "metadata": {
    "id": "K9GkTOk5J9t3"
   },
   "source": [
    "## 2. Hiperparámetros del LightGBM"
   ]
  },
  {
   "cell_type": "markdown",
   "metadata": {
    "id": "VmEFy0ukKL5T"
   },
   "source": [
    "Los objetivos de esta tarea son:\n",
    "\n",
    "\n",
    "*   Aumentar la rentabilidad de la campaña de marketing de retención proactiva de clientes.\n",
    "*   Generar un mejor modelo optimizando sus hiperparámetros\n",
    "*   Conceptual : investigar los mas relevantes hiperparámetros de LightGBM\n",
    "*   Familiarizarse con la Bayesian Optimization, sus largos tiempos de corrida y opciones para reducirlos\n",
    "*   Familiarizarse con el uso de máquinas virtuales de Google Colab\n",
    "*   Ver un pipeline completo de optimización de hiperparámetros y puesta en producción"
   ]
  },
  {
   "cell_type": "markdown",
   "metadata": {
    "id": "5yvlS6JQLRMd"
   },
   "source": [
    "LightGBM cuenta con mas de 60 hiperparámetros, siendo posible utilizar 40 al mismo tiempo, aunque no razonable.\n",
    "<br> La documentación oficial de los hiperparámetros de LightGBM es  https://lightgbm.readthedocs.io/en/latest/Parameters.html#core-parameters\n"
   ]
  },
  {
   "cell_type": "markdown",
   "metadata": {
    "id": "eydI4YNAsFaf"
   },
   "source": [
    "Se lo alerta sobre que una Optimizacion Bayesiana lleva varias horas de corrida, y usted deberá correr VARIAS optimizaciones para descubrir cuales parámetros conviene optimizar.\n",
    "<br> A pesar que la próxima clase es recien en viernes 01 de agosto, inicie la tarea con tiempo, aprenda a planificar estratégicamente sus corridas como un@ científ@  de datos."
   ]
  },
  {
   "cell_type": "markdown",
   "metadata": {
    "id": "RzU4S0SeMcpp"
   },
   "source": [
    "Es necesario investigar cuales son los hiperparámetros de LightGBM que vale la pena optimizar en una Bayesian Optimization, ya que los realmente utiles son apenas un reducido subconjunto.\n",
    "<br>Usted deberá investigar cuales son los hiperparámetros mas relevantes de LightGBM, su primer alternativa es preguntándole a su amigo con capacidades especiales ChatGPT o sus endogámicos familiares Claude, DeepSeek, Gemini, Grok, etc\n",
    "<br> La segunda alternativa es la propia documentación de LightGBM  https://lightgbm.readthedocs.io/en/latest/Parameters-Tuning.html\n"
   ]
  },
  {
   "cell_type": "markdown",
   "metadata": {
    "id": "LNptUgI_NWWG"
   },
   "source": [
    "Adicionalmente podra buscar información como la que proveen esta diminuta muestra aleatoria de artículos ligeros:\n",
    "*  https://medium.com/@sarahzouinina/a-deep-dive-into-lightgbm-how-to-choose-and-tune-parameters-7c584945842e\n",
    "*  https://www.kaggle.com/code/somang1418/tuning-hyperparameters-under-10-minutes-lgbm\n",
    "*  https://towardsdatascience.com/beginners-guide-to-the-must-know-lightgbm-hyperparameters-a0005a812702/\n",
    "\n",
    "\n",
    "<br>  La muestra anterior se brinda a modo de ejemplo, usted deberá buscar muuuuchas  fuentes adicionales de información\n",
    "<br> Tenga presente que LightGBM es el estado del arte en modelado predictivo para datasets estructurado, que son el 90% del trabajo del 95% de los Data Scientists en Argentina."
   ]
  },
  {
   "cell_type": "markdown",
   "metadata": {
    "id": "WpUThBojODyK"
   },
   "source": [
    "El desafío de esta tarea es:\n",
    "* Qué hiperparparámetros conviene optimizar?  Las recomendaciones de los artículos ligeros es siempre sensata?  Sus autores realmente hicieron experimentos o son siemplemente escritores de entretenimiento carente de base científica?\n",
    "* Elegidos los hiperparámetros, cual es el  <desde, hasta> que se debe utilizar en la Bayesian Optimization ?\n",
    "* Realmente vale la pena optimizar 10 o 16 hiperparámetros al mismo tiempo ?  No resulta contraproducente una búsqueda en un espacio de tal alta dimensionalidad ?"
   ]
  },
  {
   "cell_type": "markdown",
   "metadata": {
    "id": "PX0qg_c0yqob"
   },
   "source": [
    "#### 2.1  Seteo del ambiente en Google Colab"
   ]
  },
  {
   "cell_type": "markdown",
   "metadata": {
    "id": "NGY7H9xza7Zr"
   },
   "source": [
    "Esta parte se debe correr con el runtime en Python3\n",
    "<br>Ir al menu, Runtime -> Change Runtime Type -> Runtime type ->  **Python 3**"
   ]
  },
  {
   "cell_type": "markdown",
   "metadata": {
    "id": "7PupIBNba7Zr"
   },
   "source": [
    "Conectar la virtual machine donde esta corriendo Google Colab con el  Google Drive, para poder tener persistencia de archivos"
   ]
  },
  {
   "cell_type": "code",
   "execution_count": null,
   "metadata": {
    "id": "9LpZCst5a7Zs"
   },
   "outputs": [],
   "source": [
    "# primero establecer el Runtime de Python 3\n",
    "from google.colab import drive\n",
    "drive.mount('/content/.drive')"
   ]
  },
  {
   "cell_type": "markdown",
   "metadata": {
    "id": "JYC_F-wla7Zs"
   },
   "source": [
    "Para correr la siguiente celda es fundamental en Arranque en Frio haber copiado el archivo kaggle.json al Google Drive, en la carpeta indicada en el instructivo\n",
    "\n",
    "<br>los siguientes comando estan en shell script de Linux\n",
    "*   Crear las carpetas en el Google Drive\n",
    "*   \"instalar\" el archivo kaggle.json desde el Google Drive a la virtual machine para que pueda ser utilizado por la libreria  kaggle de Python\n",
    "*   Bajar el  **dataset_pequeno**  al  Google Drive  y tambien al disco local de la virtual machine que esta corriendo Google Colab\n",
    "\n"
   ]
  },
  {
   "cell_type": "code",
   "execution_count": null,
   "metadata": {
    "id": "XWLelftXa7Zt"
   },
   "outputs": [],
   "source": [
    "%%shell\n",
    "\n",
    "mkdir -p \"/content/.drive/My Drive/dm\"\n",
    "mkdir -p \"/content/buckets\"\n",
    "ln -s \"/content/.drive/My Drive/dm\" /content/buckets/b1\n",
    "\n",
    "mkdir -p ~/.kaggle\n",
    "cp /content/buckets/b1/kaggle/kaggle.json  ~/.kaggle\n",
    "chmod 600 ~/.kaggle/kaggle.json\n",
    "\n",
    "\n",
    "mkdir -p /content/buckets/b1/exp\n",
    "mkdir -p /content/buckets/b1/datasets\n",
    "mkdir -p /content/datasets\n",
    "\n",
    "\n",
    "\n",
    "archivo_origen=\"https://storage.googleapis.com/open-courses/itba2025-8d0a/dataset_pequeno.csv\"\n",
    "archivo_destino=\"/content/datasets/dataset_pequeno.csv\"\n",
    "archivo_destino_bucket=\"/content/buckets/b1/datasets/dataset_pequeno.csv\"\n",
    "\n",
    "if ! test -f $archivo_destino_bucket; then\n",
    "  wget  $archivo_origen  -O $archivo_destino_bucket\n",
    "fi\n",
    "\n",
    "\n",
    "if ! test -f $archivo_destino; then\n",
    "  cp  $archivo_destino_bucket  $archivo_destino\n",
    "fi\n"
   ]
  },
  {
   "cell_type": "markdown",
   "metadata": {
    "id": "oSKhZRToy2F7"
   },
   "source": [
    "### 2.2 Optimizacion Hiperparámetros"
   ]
  },
  {
   "cell_type": "markdown",
   "metadata": {
    "id": "2kwPpHAtSmix"
   },
   "source": [
    "Esta parte se debe correr con el runtime en lenguaje R Ir al menu, Runtime -> Change Runtime Type -> Runtime type -> R"
   ]
  },
  {
   "cell_type": "markdown",
   "metadata": {
    "id": "xp4-Bj3aYI8d"
   },
   "source": [
    "### 2.2.1 Inicio"
   ]
  },
  {
   "cell_type": "markdown",
   "metadata": {
    "id": "zy8YTZfESxeJ"
   },
   "source": [
    "limpio el ambiente de R"
   ]
  },
  {
   "cell_type": "code",
   "execution_count": 1,
   "metadata": {
    "id": "gBq__iAdQliq"
   },
   "outputs": [
    {
     "data": {
      "text/html": [
       "'Wed Jul 23 18:17:15 2025'"
      ],
      "text/latex": [
       "'Wed Jul 23 18:17:15 2025'"
      ],
      "text/markdown": [
       "'Wed Jul 23 18:17:15 2025'"
      ],
      "text/plain": [
       "[1] \"Wed Jul 23 18:17:15 2025\""
      ]
     },
     "metadata": {},
     "output_type": "display_data"
    }
   ],
   "source": [
    "format(Sys.time(), \"%a %b %d %X %Y\")"
   ]
  },
  {
   "cell_type": "code",
   "execution_count": 2,
   "metadata": {
    "id": "7rdVrBojS1IV"
   },
   "outputs": [
    {
     "data": {
      "text/html": [
       "<table class=\"dataframe\">\n",
       "<caption>A matrix: 2 × 6 of type dbl</caption>\n",
       "<thead>\n",
       "\t<tr><th></th><th scope=col>used</th><th scope=col>(Mb)</th><th scope=col>gc trigger</th><th scope=col>(Mb)</th><th scope=col>max used</th><th scope=col>(Mb)</th></tr>\n",
       "</thead>\n",
       "<tbody>\n",
       "\t<tr><th scope=row>Ncells</th><td> 656930</td><td>35.1</td><td>1439374</td><td>76.9</td><td>1431355</td><td>76.5</td></tr>\n",
       "\t<tr><th scope=row>Vcells</th><td>1224911</td><td> 9.4</td><td>8388608</td><td>64.0</td><td>1924961</td><td>14.7</td></tr>\n",
       "</tbody>\n",
       "</table>\n"
      ],
      "text/latex": [
       "A matrix: 2 × 6 of type dbl\n",
       "\\begin{tabular}{r|llllll}\n",
       "  & used & (Mb) & gc trigger & (Mb) & max used & (Mb)\\\\\n",
       "\\hline\n",
       "\tNcells &  656930 & 35.1 & 1439374 & 76.9 & 1431355 & 76.5\\\\\n",
       "\tVcells & 1224911 &  9.4 & 8388608 & 64.0 & 1924961 & 14.7\\\\\n",
       "\\end{tabular}\n"
      ],
      "text/markdown": [
       "\n",
       "A matrix: 2 × 6 of type dbl\n",
       "\n",
       "| <!--/--> | used | (Mb) | gc trigger | (Mb) | max used | (Mb) |\n",
       "|---|---|---|---|---|---|---|\n",
       "| Ncells |  656930 | 35.1 | 1439374 | 76.9 | 1431355 | 76.5 |\n",
       "| Vcells | 1224911 |  9.4 | 8388608 | 64.0 | 1924961 | 14.7 |\n",
       "\n"
      ],
      "text/plain": [
       "       used    (Mb) gc trigger (Mb) max used (Mb)\n",
       "Ncells  656930 35.1 1439374    76.9 1431355  76.5\n",
       "Vcells 1224911  9.4 8388608    64.0 1924961  14.7"
      ]
     },
     "metadata": {},
     "output_type": "display_data"
    }
   ],
   "source": [
    "# limpio la memoria\n",
    "rm(list=ls(all.names=TRUE)) # remove all objects\n",
    "gc(full=TRUE, verbose=FALSE) # garbage collection"
   ]
  },
  {
   "cell_type": "markdown",
   "metadata": {
    "id": "kuPfQ7ksjwW3"
   },
   "source": [
    "### 2.2.2 Carga de Librerias"
   ]
  },
  {
   "cell_type": "code",
   "execution_count": 3,
   "metadata": {
    "id": "lVyxLaJ1j1J_"
   },
   "outputs": [
    {
     "name": "stderr",
     "output_type": "stream",
     "text": [
      "Loading required package: data.table\n",
      "\n",
      "Loading required package: parallel\n",
      "\n",
      "Loading required package: primes\n",
      "\n",
      "Loading required package: rlist\n",
      "\n",
      "Loading required package: yaml\n",
      "\n",
      "Loading required package: lightgbm\n",
      "\n",
      "Loading required package: DiceKriging\n",
      "\n",
      "Loading required package: mlrMBO\n",
      "\n",
      "Loading required package: mlr\n",
      "\n",
      "Loading required package: ParamHelpers\n",
      "\n",
      "Loading required package: smoof\n",
      "\n",
      "Loading required package: checkmate\n",
      "\n",
      "\n",
      "Attaching package: ‘checkmate’\n",
      "\n",
      "\n",
      "The following object is masked from ‘package:DiceKriging’:\n",
      "\n",
      "    checkNames\n",
      "\n",
      "\n"
     ]
    }
   ],
   "source": [
    "# cargo las librerias que necesito\n",
    "require(\"data.table\")\n",
    "require(\"parallel\")\n",
    "\n",
    "if( !require(\"primes\") ) install.packages(\"primes\")\n",
    "require(\"primes\")\n",
    "\n",
    "if( !require(\"utils\") ) install.packages(\"utils\")\n",
    "require(\"utils\")\n",
    "\n",
    "if( !require(\"rlist\") ) install.packages(\"rlist\")\n",
    "require(\"rlist\")\n",
    "\n",
    "if( !require(\"yaml\")) install.packages(\"yaml\")\n",
    "require(\"yaml\")\n",
    "\n",
    "if( !require(\"lightgbm\") ) install.packages(\"lightgbm\")\n",
    "require(\"lightgbm\")\n",
    "\n",
    "if( !require(\"DiceKriging\") ) install.packages(\"DiceKriging\")\n",
    "require(\"DiceKriging\")\n",
    "\n",
    "if( !require(\"mlrMBO\") ) install.packages(\"mlrMBO\")\n",
    "require(\"mlrMBO\")"
   ]
  },
  {
   "cell_type": "markdown",
   "metadata": {
    "id": "Iz-6Qt6BUaA3"
   },
   "source": [
    "### 2.2.3 Definicion de Parametros"
   ]
  },
  {
   "cell_type": "markdown",
   "metadata": {
    "id": "cOdlKd7lUm2I"
   },
   "source": [
    "aqui debe cargar SU semilla primigenia\n",
    "<br>recuerde cambiar el numero de experimento en cada corrida nueva"
   ]
  },
  {
   "cell_type": "code",
   "execution_count": 4,
   "metadata": {
    "id": "ASYkebOu2mF6"
   },
   "outputs": [],
   "source": [
    "PARAM <- list()\n",
    "PARAM$experimento <- 4944\n",
    "PARAM$semilla_primigenia <- 100129\n"
   ]
  },
  {
   "cell_type": "code",
   "execution_count": 5,
   "metadata": {
    "id": "ezOhQdbA293o"
   },
   "outputs": [],
   "source": [
    "PARAM$kaggle$competencia <- \"data-mining-analista-sr-2025-a\"\n",
    "PARAM$kaggle$cortes <- seq(10000, 12000, by= 500)"
   ]
  },
  {
   "cell_type": "code",
   "execution_count": 6,
   "metadata": {
    "id": "jtB0Lub42rHO"
   },
   "outputs": [],
   "source": [
    "# un undersampling de 0.1  toma solo el 10% de los CONTINUA\n",
    "# undersampling de 1.0  implica tomar TODOS los datos\n",
    "\n",
    "PARAM$trainingstrategy$undersampling <- 0.5"
   ]
  },
  {
   "cell_type": "code",
   "execution_count": 7,
   "metadata": {
    "id": "OFxm-xiNUOJX"
   },
   "outputs": [],
   "source": [
    "# Parametros LightGBM\n",
    "\n",
    "PARAM$hyperparametertuning$xval_folds <- 5\n",
    "\n",
    "# parametros fijos del LightGBM que se pisaran con la parte variable de la BO\n",
    "PARAM$lgbm$param_fijos <-  list(\n",
    "  boosting= \"gbdt\", # puede ir  dart  , ni pruebe random_forest\n",
    "  objective= \"binary\",\n",
    "  metric= \"auc\",\n",
    "  first_metric_only= FALSE,\n",
    "  boost_from_average= TRUE,\n",
    "  feature_pre_filter= FALSE,\n",
    "  force_row_wise= TRUE, # para reducir warnings\n",
    "  verbosity= -100,\n",
    "\n",
    "  seed= PARAM$semilla_primigenia,\n",
    "\n",
    "  max_depth= -1L, # -1 significa no limitar,  por ahora lo dejo fijo\n",
    "  min_gain_to_split= 0, # min_gain_to_split >= 0\n",
    "  min_sum_hessian_in_leaf= 0.001, #  min_sum_hessian_in_leaf >= 0.0\n",
    "  lambda_l1= 0.0, # lambda_l1 >= 0.0\n",
    "  lambda_l2= 0.0, # lambda_l2 >= 0.0\n",
    "  max_bin= 31L, # lo debo dejar fijo, no participa de la BO\n",
    "\n",
    "  bagging_fraction= 1.0, # 0.0 < bagging_fraction <= 1.0\n",
    "  pos_bagging_fraction= 1.0, # 0.0 < pos_bagging_fraction <= 1.0\n",
    "  neg_bagging_fraction= 1.0, # 0.0 < neg_bagging_fraction <= 1.0\n",
    "  is_unbalance= FALSE, #\n",
    "  scale_pos_weight= 1.0, # scale_pos_weight > 0.0\n",
    "\n",
    "  drop_rate= 0.1, # 0.0 < neg_bagging_fraction <= 1.0\n",
    "  max_drop= 50, # <=0 means no limit\n",
    "  skip_drop= 0.5, # 0.0 <= skip_drop <= 1.0\n",
    "\n",
    "  extra_trees= FALSE,\n",
    "\n",
    "  num_iterations= 1200,\n",
    "  learning_rate= 0.02,\n",
    "  feature_fraction= 0.5,\n",
    "  num_leaves= 750,\n",
    "  min_data_in_leaf= 5000\n",
    ")\n"
   ]
  },
  {
   "cell_type": "markdown",
   "metadata": {
    "id": "D5Yj-JV4yvOt"
   },
   "source": [
    "Aqui se definen los hiperparámetros de LightGBM que participan de la Bayesian Optimization\n",
    "<br> si es un numero entero debe ir  makeIntegerParam\n",
    "<br> si es un numero real (con decimales) debe ir  makeNumericParam\n",
    "<br> es muy importante leer cuales son un lower y upper  permitidos y ademas razonables"
   ]
  },
  {
   "cell_type": "code",
   "execution_count": 8,
   "metadata": {
    "id": "jENpR26ZyuS8"
   },
   "outputs": [],
   "source": [
    "# Aqui se cargan los bordes de los hiperparametros de la BO\n",
    "PARAM$hypeparametertuning$hs <- makeParamSet(\n",
    "  makeIntegerParam(\"num_iterations\", lower = 750L, upper = 950L),\n",
    "  makeNumericParam(\"learning_rate\", lower = 0.012, upper = 0.025),\n",
    "  makeNumericParam(\"feature_fraction\", lower = 0.35, upper = 0.55),\n",
    "  makeIntegerParam(\"min_data_in_leaf\", lower = 220L, upper = 450L),\n",
    "  makeIntegerParam(\"num_leaves\", lower = 160L, upper = 280L),\n",
    "  makeIntegerParam(\"max_depth\", lower = 10L, upper = 13L),\n",
    "  makeNumericParam(\"lambda_l1\", lower = 2.5, upper = 4.2),\n",
    "  makeNumericParam(\"lambda_l2\", lower = 2.8, upper = 4.0),\n",
    "  makeNumericParam(\"min_gain_to_split\", lower = 0.04, upper = 0.18),\n",
    "  makeNumericParam(\"bagging_fraction\", lower = 0.88, upper = 1.0)\n",
    ")"
   ]
  },
  {
   "cell_type": "markdown",
   "metadata": {
    "id": "-_RPFUb3zMoW"
   },
   "source": [
    "A mayor cantidad de hiperparámetros, se debe aumentar las iteraciones de la Bayesian Optimization\n",
    "<br> 30 es un valor muy tacaño, pero corre rápido\n",
    "<br> deberia partir de 50, alcanzando los 100 si se dispone de tiempo"
   ]
  },
  {
   "cell_type": "code",
   "execution_count": 9,
   "metadata": {
    "id": "q5Rd3pnbzSiG"
   },
   "outputs": [],
   "source": [
    "PARAM$hyperparametertuning$iteraciones <- 100 # iteraciones bayesianas"
   ]
  },
  {
   "cell_type": "markdown",
   "metadata": {
    "id": "4RWZXL1VZjMI"
   },
   "source": [
    "### 2.2.4  Preprocesamiento"
   ]
  },
  {
   "cell_type": "code",
   "execution_count": 10,
   "metadata": {
    "id": "j3toG9-lZm4K"
   },
   "outputs": [],
   "source": [
    "# carpeta de trabajo\n",
    "\n",
    "setwd(\"/content/buckets/b1/exp\")\n",
    "experimento_folder <- paste0(\"HT\", PARAM$experimento)\n",
    "dir.create(experimento_folder, showWarnings=FALSE)\n",
    "setwd( paste0(\"/content/buckets/b1/exp/\", experimento_folder ))"
   ]
  },
  {
   "cell_type": "code",
   "execution_count": 11,
   "metadata": {
    "id": "FM3lxKoLZ643"
   },
   "outputs": [],
   "source": [
    "# lectura del dataset\n",
    "\n",
    "dataset <- fread(\"/content/datasets/dataset_pequeno.csv\")"
   ]
  },
  {
   "cell_type": "code",
   "execution_count": 12,
   "metadata": {
    "id": "OsJ-91UeZ-I_"
   },
   "outputs": [],
   "source": [
    "dataset_train <- dataset[foto_mes %in% c(202107)]"
   ]
  },
  {
   "cell_type": "code",
   "execution_count": 13,
   "metadata": {
    "id": "vrWE7BE0aB2J"
   },
   "outputs": [],
   "source": [
    "# paso la clase a binaria que tome valores {0,1}  enteros\n",
    "#  BAJA+1 y BAJA+2  son  1,   CONTINUA es 0\n",
    "\n",
    "dataset_train[,\n",
    "  clase01 := ifelse(clase_ternaria %in% c(\"BAJA+2\",\"BAJA+1\"), 1L, 0L)\n",
    "]"
   ]
  },
  {
   "cell_type": "code",
   "execution_count": 14,
   "metadata": {
    "id": "jP7YlQBnaW6W"
   },
   "outputs": [],
   "source": [
    "# defino los datos que forma parte del training\n",
    "# aqui se hace el undersampling de los CONTINUA\n",
    "# notar que para esto utilizo la SEGUNDA semilla\n",
    "\n",
    "set.seed(PARAM$semilla_primigenia, kind = \"L'Ecuyer-CMRG\")\n",
    "dataset_train[, azar := runif(nrow(dataset_train))]\n",
    "dataset_train[, training := 0L]\n",
    "\n",
    "dataset_train[\n",
    "  foto_mes %in% c(202107) &\n",
    "    (azar <= PARAM$trainingstrategy$undersampling | clase_ternaria %in% c(\"BAJA+1\", \"BAJA+2\")),\n",
    "  training := 1L\n",
    "]"
   ]
  },
  {
   "cell_type": "code",
   "execution_count": 15,
   "metadata": {
    "id": "xElu4s5W4rX7"
   },
   "outputs": [],
   "source": [
    "# los campos que se van a utilizar\n",
    "\n",
    "campos_buenos <- setdiff(\n",
    "  colnames(dataset_train),\n",
    "  c(\"clase_ternaria\", \"clase01\", \"azar\", \"training\")\n",
    ")"
   ]
  },
  {
   "cell_type": "code",
   "execution_count": 16,
   "metadata": {
    "id": "PppMHcGYaaol"
   },
   "outputs": [
    {
     "data": {
      "text/html": [
       "83679"
      ],
      "text/latex": [
       "83679"
      ],
      "text/markdown": [
       "83679"
      ],
      "text/plain": [
       "[1] 83679"
      ]
     },
     "metadata": {},
     "output_type": "display_data"
    },
    {
     "data": {
      "text/html": [
       "154"
      ],
      "text/latex": [
       "154"
      ],
      "text/markdown": [
       "154"
      ],
      "text/plain": [
       "[1] 154"
      ]
     },
     "metadata": {},
     "output_type": "display_data"
    }
   ],
   "source": [
    "# dejo los datos en el formato que necesita LightGBM\n",
    "\n",
    "dtrain <- lgb.Dataset(\n",
    "  data= data.matrix(dataset_train[training == 1L, campos_buenos, with= FALSE]),\n",
    "  label= dataset_train[training == 1L, clase01],\n",
    "  free_raw_data= FALSE\n",
    ")\n",
    "\n",
    "nrow(dtrain)\n",
    "ncol(dtrain)"
   ]
  },
  {
   "cell_type": "markdown",
   "metadata": {
    "id": "Ta-EkOu3cphF"
   },
   "source": [
    "2.2.5 Configuracion Bayesian Optimization"
   ]
  },
  {
   "cell_type": "code",
   "execution_count": 17,
   "metadata": {
    "id": "cjgfurjdfiXb"
   },
   "outputs": [],
   "source": [
    "# En el argumento x llegan los parmaetros de la bayesiana\n",
    "#  devuelve la AUC en cross validation del modelo entrenado\n",
    "\n",
    "EstimarGanancia_AUC_lightgbm <- function(x) {\n",
    "\n",
    "  # x pisa (o agrega) a param_fijos\n",
    "  param_completo <- modifyList(PARAM$lgbm$param_fijos, x)\n",
    "\n",
    "  # entreno LightGBM\n",
    "  modelocv <- lgb.cv(\n",
    "    data= dtrain,\n",
    "    nfold= PARAM$hyperparametertuning$xval_folds,\n",
    "    stratified= TRUE,\n",
    "    param= param_completo\n",
    "  )\n",
    "\n",
    "  # obtengo la ganancia\n",
    "  AUC <- modelocv$best_score\n",
    "\n",
    "  # hago espacio en la memoria\n",
    "  rm(modelocv)\n",
    "  gc(full= TRUE, verbose= FALSE)\n",
    "\n",
    "  message(format(Sys.time(), \"%a %b %d %X %Y\"), \" AUC \", AUC)\n",
    "\n",
    "  return(AUC)\n",
    "}"
   ]
  },
  {
   "cell_type": "code",
   "execution_count": 18,
   "metadata": {
    "id": "WLi_o1hocvN-"
   },
   "outputs": [],
   "source": [
    "# Aqui comienza la configuracion de la Bayesian Optimization\n",
    "\n",
    "# en este archivo quedan la evolucion binaria de la BO\n",
    "kbayesiana <- \"bayesiana.RDATA\"\n",
    "\n",
    "funcion_optimizar <- EstimarGanancia_AUC_lightgbm # la funcion que voy a maximizar\n",
    "\n",
    "configureMlr(show.learner.output= FALSE)\n",
    "\n",
    "# configuro la busqueda bayesiana,  los hiperparametros que se van a optimizar\n",
    "# por favor, no desesperarse por lo complejo\n",
    "\n",
    "obj.fun <- makeSingleObjectiveFunction(\n",
    "  fn= funcion_optimizar, # la funcion que voy a maximizar\n",
    "  minimize= FALSE, # estoy Maximizando la ganancia\n",
    "  noisy= TRUE,\n",
    "  par.set= PARAM$hypeparametertuning$hs, # definido al comienzo del programa\n",
    "  has.simple.signature= FALSE # paso los parametros en una lista\n",
    ")\n",
    "\n",
    "# cada 600 segundos guardo el resultado intermedio\n",
    "ctrl <- makeMBOControl(\n",
    "  save.on.disk.at.time= 600, # se graba cada 600 segundos\n",
    "  save.file.path= kbayesiana\n",
    ") # se graba cada 600 segundos\n",
    "\n",
    "# indico la cantidad de iteraciones que va a tener la Bayesian Optimization\n",
    "ctrl <- setMBOControlTermination(\n",
    "  ctrl,\n",
    "  iters= PARAM$hyperparametertuning$iteraciones\n",
    ") # cantidad de iteraciones\n",
    "\n",
    "# defino el método estandar para la creacion de los puntos iniciales,\n",
    "# los \"No Inteligentes\"\n",
    "ctrl <- setMBOControlInfill(ctrl, crit= makeMBOInfillCritEI())\n",
    "\n",
    "# establezco la funcion que busca el maximo\n",
    "surr.km <- makeLearner(\n",
    "  \"regr.km\",\n",
    "  predict.type= \"se\",\n",
    "  covtype= \"matern3_2\",\n",
    "  control= list(trace= TRUE)\n",
    ")\n"
   ]
  },
  {
   "cell_type": "markdown",
   "metadata": {
    "id": "_uUeVo5pc4zc"
   },
   "source": [
    "2.2.6 Corrida Bayesian Optimization"
   ]
  },
  {
   "cell_type": "code",
   "execution_count": 19,
   "metadata": {
    "id": "RcABNaKGciaz"
   },
   "outputs": [
    {
     "name": "stderr",
     "output_type": "stream",
     "text": [
      "Computing y column(s) for design. Not provided.\n",
      "\n",
      "Wed Jul 23 18:24:23 2025 AUC 0.93104971621012\n",
      "\n",
      "Wed Jul 23 18:25:15 2025 AUC 0.930685717964994\n",
      "\n",
      "Wed Jul 23 18:26:04 2025 AUC 0.930612580748796\n",
      "\n",
      "Wed Jul 23 18:26:55 2025 AUC 0.930291460350345\n",
      "\n",
      "Wed Jul 23 18:27:41 2025 AUC 0.930612125613088\n",
      "\n",
      "Wed Jul 23 18:28:37 2025 AUC 0.930544109953269\n",
      "\n",
      "Wed Jul 23 18:29:29 2025 AUC 0.931104934040728\n",
      "\n",
      "Wed Jul 23 18:30:20 2025 AUC 0.930599108648721\n",
      "\n",
      "Wed Jul 23 18:31:14 2025 AUC 0.931276950180722\n",
      "\n",
      "Wed Jul 23 18:32:04 2025 AUC 0.930854587924735\n",
      "\n",
      "Wed Jul 23 18:32:58 2025 AUC 0.930556689241376\n",
      "\n",
      "Wed Jul 23 18:33:44 2025 AUC 0.931438525439685\n",
      "\n",
      "Wed Jul 23 18:34:42 2025 AUC 0.931065117025364\n",
      "\n",
      "Wed Jul 23 18:35:44 2025 AUC 0.930577960704018\n",
      "\n",
      "Wed Jul 23 18:36:36 2025 AUC 0.931346894564854\n",
      "\n",
      "Wed Jul 23 18:37:34 2025 AUC 0.930314382448977\n",
      "\n",
      "Wed Jul 23 18:38:24 2025 AUC 0.930622635054166\n",
      "\n",
      "Wed Jul 23 18:39:19 2025 AUC 0.931467830102134\n",
      "\n",
      "Wed Jul 23 18:40:09 2025 AUC 0.930627171711325\n",
      "\n",
      "Wed Jul 23 18:40:58 2025 AUC 0.930804225182716\n",
      "\n",
      "Wed Jul 23 18:41:51 2025 AUC 0.930844646615767\n",
      "\n",
      "Wed Jul 23 18:42:44 2025 AUC 0.929821992216215\n",
      "\n",
      "Wed Jul 23 18:43:33 2025 AUC 0.930775514386689\n",
      "\n",
      "Wed Jul 23 18:44:26 2025 AUC 0.930980498934489\n",
      "\n",
      "Wed Jul 23 18:45:13 2025 AUC 0.931088661336502\n",
      "\n",
      "Wed Jul 23 18:46:15 2025 AUC 0.930418211801726\n",
      "\n",
      "Wed Jul 23 18:47:14 2025 AUC 0.931079912710999\n",
      "\n",
      "Wed Jul 23 18:48:03 2025 AUC 0.930294040766587\n",
      "\n",
      "Wed Jul 23 18:48:54 2025 AUC 0.93132793692772\n",
      "\n",
      "Wed Jul 23 18:49:43 2025 AUC 0.930752813956365\n",
      "\n",
      "Wed Jul 23 18:50:37 2025 AUC 0.931126374190437\n",
      "\n",
      "Wed Jul 23 18:51:34 2025 AUC 0.930748094004093\n",
      "\n",
      "Wed Jul 23 18:52:29 2025 AUC 0.93147349208085\n",
      "\n",
      "Wed Jul 23 18:53:16 2025 AUC 0.929876747137094\n",
      "\n",
      "Wed Jul 23 18:54:07 2025 AUC 0.929988381209001\n",
      "\n",
      "Wed Jul 23 18:54:54 2025 AUC 0.930920342338552\n",
      "\n",
      "Wed Jul 23 18:55:43 2025 AUC 0.930412803085415\n",
      "\n",
      "Wed Jul 23 18:56:38 2025 AUC 0.930790688533883\n",
      "\n",
      "Wed Jul 23 18:57:41 2025 AUC 0.930290689848012\n",
      "\n",
      "Wed Jul 23 18:58:30 2025 AUC 0.930714596613627\n",
      "\n",
      "[mbo] 0: num_iterations=877; learning_rate=0.0208; feature_fraction=0.367; min_data_in_leaf=226; num_leaves=215; max_depth=12; lambda_l1=3.98; lambda_l2=3.37; min_gain_to_split=0.153; bagging_fraction=0.945 : y = 0.931 : 49.5 secs : initdesign\n",
      "\n",
      "[mbo] 0: num_iterations=823; learning_rate=0.017; feature_fraction=0.486; min_data_in_leaf=396; num_leaves=225; max_depth=12; lambda_l1=3.4; lambda_l2=3; min_gain_to_split=0.151; bagging_fraction=0.937 : y = 0.931 : 52.2 secs : initdesign\n",
      "\n",
      "[mbo] 0: num_iterations=830; learning_rate=0.018; feature_fraction=0.524; min_data_in_leaf=306; num_leaves=189; max_depth=11; lambda_l1=3.94; lambda_l2=3.46; min_gain_to_split=0.164; bagging_fraction=0.932 : y = 0.931 : 49.5 secs : initdesign\n",
      "\n",
      "[mbo] 0: num_iterations=826; learning_rate=0.0182; feature_fraction=0.39; min_data_in_leaf=337; num_leaves=173; max_depth=11; lambda_l1=3.07; lambda_l2=3.3; min_gain_to_split=0.0782; bagging_fraction=0.977 : y = 0.93 : 50.5 secs : initdesign\n",
      "\n",
      "[mbo] 0: num_iterations=844; learning_rate=0.022; feature_fraction=0.397; min_data_in_leaf=362; num_leaves=243; max_depth=12; lambda_l1=3.46; lambda_l2=3.37; min_gain_to_split=0.161; bagging_fraction=0.902 : y = 0.931 : 46.7 secs : initdesign\n",
      "\n",
      "[mbo] 0: num_iterations=871; learning_rate=0.0187; feature_fraction=0.431; min_data_in_leaf=352; num_leaves=198; max_depth=12; lambda_l1=2.79; lambda_l2=3.75; min_gain_to_split=0.13; bagging_fraction=0.881 : y = 0.931 : 55.6 secs : initdesign\n",
      "\n",
      "[mbo] 0: num_iterations=802; learning_rate=0.0136; feature_fraction=0.464; min_data_in_leaf=251; num_leaves=202; max_depth=10; lambda_l1=3.52; lambda_l2=3.25; min_gain_to_split=0.112; bagging_fraction=0.962 : y = 0.931 : 51.7 secs : initdesign\n",
      "\n",
      "[mbo] 0: num_iterations=812; learning_rate=0.0126; feature_fraction=0.407; min_data_in_leaf=346; num_leaves=265; max_depth=11; lambda_l1=3.28; lambda_l2=3.11; min_gain_to_split=0.106; bagging_fraction=0.927 : y = 0.931 : 50.9 secs : initdesign\n",
      "\n",
      "[mbo] 0: num_iterations=786; learning_rate=0.0193; feature_fraction=0.451; min_data_in_leaf=264; num_leaves=218; max_depth=13; lambda_l1=3.39; lambda_l2=2.86; min_gain_to_split=0.0927; bagging_fraction=0.942 : y = 0.931 : 53.9 secs : initdesign\n",
      "\n",
      "[mbo] 0: num_iterations=868; learning_rate=0.0229; feature_fraction=0.428; min_data_in_leaf=317; num_leaves=228; max_depth=11; lambda_l1=3.59; lambda_l2=3.62; min_gain_to_split=0.0979; bagging_fraction=0.979 : y = 0.931 : 50.8 secs : initdesign\n",
      "\n",
      "[mbo] 0: num_iterations=903; learning_rate=0.0175; feature_fraction=0.42; min_data_in_leaf=436; num_leaves=213; max_depth=10; lambda_l1=4.01; lambda_l2=2.81; min_gain_to_split=0.0856; bagging_fraction=0.985 : y = 0.931 : 53.3 secs : initdesign\n",
      "\n",
      "[mbo] 0: num_iterations=750; learning_rate=0.0152; feature_fraction=0.479; min_data_in_leaf=413; num_leaves=192; max_depth=10; lambda_l1=3.11; lambda_l2=3.66; min_gain_to_split=0.121; bagging_fraction=0.994 : y = 0.931 : 46.1 secs : initdesign\n",
      "\n",
      "[mbo] 0: num_iterations=928; learning_rate=0.02; feature_fraction=0.448; min_data_in_leaf=357; num_leaves=239; max_depth=13; lambda_l1=3.16; lambda_l2=2.91; min_gain_to_split=0.101; bagging_fraction=0.959 : y = 0.931 : 58.1 secs : initdesign\n",
      "\n",
      "[mbo] 0: num_iterations=909; learning_rate=0.0131; feature_fraction=0.549; min_data_in_leaf=295; num_leaves=280; max_depth=12; lambda_l1=3.34; lambda_l2=3.32; min_gain_to_split=0.117; bagging_fraction=0.898 : y = 0.931 : 61.7 secs : initdesign\n",
      "\n",
      "[mbo] 0: num_iterations=796; learning_rate=0.0223; feature_fraction=0.505; min_data_in_leaf=420; num_leaves=255; max_depth=11; lambda_l1=2.65; lambda_l2=3.56; min_gain_to_split=0.0572; bagging_fraction=0.952 : y = 0.931 : 52.3 secs : initdesign\n",
      "\n",
      "[mbo] 0: num_iterations=839; learning_rate=0.0189; feature_fraction=0.5; min_data_in_leaf=237; num_leaves=247; max_depth=11; lambda_l1=3.63; lambda_l2=3.15; min_gain_to_split=0.0482; bagging_fraction=0.952 : y = 0.93 : 58.3 secs : initdesign\n",
      "\n",
      "[mbo] 0: num_iterations=784; learning_rate=0.0215; feature_fraction=0.475; min_data_in_leaf=244; num_leaves=184; max_depth=11; lambda_l1=2.82; lambda_l2=3.43; min_gain_to_split=0.127; bagging_fraction=0.915 : y = 0.931 : 50.1 secs : initdesign\n",
      "\n",
      "[mbo] 0: num_iterations=911; learning_rate=0.0168; feature_fraction=0.373; min_data_in_leaf=335; num_leaves=209; max_depth=11; lambda_l1=3.7; lambda_l2=3.92; min_gain_to_split=0.0809; bagging_fraction=0.911 : y = 0.931 : 54.6 secs : initdesign\n",
      "\n",
      "[mbo] 0: num_iterations=898; learning_rate=0.021; feature_fraction=0.436; min_data_in_leaf=391; num_leaves=204; max_depth=13; lambda_l1=3.55; lambda_l2=3.97; min_gain_to_split=0.172; bagging_fraction=0.985 : y = 0.931 : 49.6 secs : initdesign\n",
      "\n",
      "[mbo] 0: num_iterations=775; learning_rate=0.0162; feature_fraction=0.491; min_data_in_leaf=375; num_leaves=176; max_depth=12; lambda_l1=3.9; lambda_l2=3.53; min_gain_to_split=0.133; bagging_fraction=0.886 : y = 0.931 : 49.9 secs : initdesign\n",
      "\n",
      "[mbo] 0: num_iterations=809; learning_rate=0.0226; feature_fraction=0.358; min_data_in_leaf=285; num_leaves=277; max_depth=13; lambda_l1=3.18; lambda_l2=2.96; min_gain_to_split=0.0643; bagging_fraction=0.947 : y = 0.931 : 52.3 secs : initdesign\n",
      "\n",
      "[mbo] 0: num_iterations=864; learning_rate=0.0158; feature_fraction=0.353; min_data_in_leaf=328; num_leaves=252; max_depth=12; lambda_l1=2.72; lambda_l2=3.51; min_gain_to_split=0.143; bagging_fraction=0.968 : y = 0.93 : 53.0 secs : initdesign\n",
      "\n",
      "[mbo] 0: num_iterations=884; learning_rate=0.0202; feature_fraction=0.382; min_data_in_leaf=282; num_leaves=223; max_depth=10; lambda_l1=3.85; lambda_l2=2.83; min_gain_to_split=0.135; bagging_fraction=0.921 : y = 0.931 : 49.3 secs : initdesign\n",
      "\n",
      "[mbo] 0: num_iterations=887; learning_rate=0.0243; feature_fraction=0.47; min_data_in_leaf=376; num_leaves=165; max_depth=10; lambda_l1=3.24; lambda_l2=3.87; min_gain_to_split=0.0907; bagging_fraction=0.907 : y = 0.931 : 52.7 secs : initdesign\n",
      "\n",
      "[mbo] 0: num_iterations=817; learning_rate=0.0176; feature_fraction=0.379; min_data_in_leaf=425; num_leaves=262; max_depth=10; lambda_l1=2.59; lambda_l2=3.84; min_gain_to_split=0.0517; bagging_fraction=0.924 : y = 0.931 : 47.2 secs : initdesign\n",
      "\n",
      "[mbo] 0: num_iterations=923; learning_rate=0.0135; feature_fraction=0.508; min_data_in_leaf=270; num_leaves=194; max_depth=12; lambda_l1=4.04; lambda_l2=3.23; min_gain_to_split=0.114; bagging_fraction=0.958 : y = 0.93 : 61.8 secs : initdesign\n",
      "\n",
      "[mbo] 0: num_iterations=854; learning_rate=0.0141; feature_fraction=0.52; min_data_in_leaf=319; num_leaves=234; max_depth=13; lambda_l1=2.86; lambda_l2=3.59; min_gain_to_split=0.0461; bagging_fraction=0.997 : y = 0.931 : 59.3 secs : initdesign\n",
      "\n",
      "[mbo] 0: num_iterations=768; learning_rate=0.0196; feature_fraction=0.442; min_data_in_leaf=409; num_leaves=231; max_depth=12; lambda_l1=4.13; lambda_l2=3.91; min_gain_to_split=0.0406; bagging_fraction=0.931 : y = 0.93 : 48.9 secs : initdesign\n",
      "\n",
      "[mbo] 0: num_iterations=773; learning_rate=0.0165; feature_fraction=0.485; min_data_in_leaf=385; num_leaves=274; max_depth=13; lambda_l1=2.7; lambda_l2=3.73; min_gain_to_split=0.139; bagging_fraction=0.888 : y = 0.931 : 51.3 secs : initdesign\n",
      "\n",
      "[mbo] 0: num_iterations=847; learning_rate=0.0244; feature_fraction=0.543; min_data_in_leaf=292; num_leaves=269; max_depth=10; lambda_l1=2.52; lambda_l2=3.03; min_gain_to_split=0.148; bagging_fraction=0.917 : y = 0.931 : 48.3 secs : initdesign\n",
      "\n",
      "[mbo] 0: num_iterations=936; learning_rate=0.0236; feature_fraction=0.533; min_data_in_leaf=433; num_leaves=167; max_depth=13; lambda_l1=4.08; lambda_l2=3.2; min_gain_to_split=0.0696; bagging_fraction=0.967 : y = 0.931 : 54.4 secs : initdesign\n",
      "\n",
      "[mbo] 0: num_iterations=948; learning_rate=0.0153; feature_fraction=0.459; min_data_in_leaf=447; num_leaves=258; max_depth=10; lambda_l1=3.74; lambda_l2=3.18; min_gain_to_split=0.0672; bagging_fraction=0.889 : y = 0.931 : 56.7 secs : initdesign\n",
      "\n",
      "[mbo] 0: num_iterations=919; learning_rate=0.0247; feature_fraction=0.413; min_data_in_leaf=257; num_leaves=205; max_depth=13; lambda_l1=2.98; lambda_l2=3.07; min_gain_to_split=0.0726; bagging_fraction=0.895 : y = 0.931 : 55.2 secs : initdesign\n",
      "\n",
      "[mbo] 0: num_iterations=942; learning_rate=0.0233; feature_fraction=0.538; min_data_in_leaf=308; num_leaves=238; max_depth=10; lambda_l1=4.19; lambda_l2=3.4; min_gain_to_split=0.169; bagging_fraction=0.934 : y = 0.93 : 47.5 secs : initdesign\n",
      "\n",
      "[mbo] 0: num_iterations=762; learning_rate=0.0148; feature_fraction=0.527; min_data_in_leaf=276; num_leaves=161; max_depth=12; lambda_l1=2.89; lambda_l2=3.79; min_gain_to_split=0.159; bagging_fraction=0.991 : y = 0.93 : 51.1 secs : initdesign\n",
      "\n",
      "[mbo] 0: num_iterations=759; learning_rate=0.0238; feature_fraction=0.391; min_data_in_leaf=221; num_leaves=171; max_depth=11; lambda_l1=3.78; lambda_l2=3.8; min_gain_to_split=0.0835; bagging_fraction=0.971 : y = 0.931 : 46.1 secs : initdesign\n",
      "\n",
      "[mbo] 0: num_iterations=856; learning_rate=0.0144; feature_fraction=0.361; min_data_in_leaf=441; num_leaves=179; max_depth=13; lambda_l1=3.67; lambda_l2=3.08; min_gain_to_split=0.174; bagging_fraction=0.904 : y = 0.93 : 49.8 secs : initdesign\n",
      "\n",
      "[mbo] 0: num_iterations=893; learning_rate=0.0129; feature_fraction=0.402; min_data_in_leaf=235; num_leaves=181; max_depth=10; lambda_l1=2.94; lambda_l2=3.68; min_gain_to_split=0.0588; bagging_fraction=0.9 : y = 0.931 : 54.9 secs : initdesign\n",
      "\n",
      "[mbo] 0: num_iterations=931; learning_rate=0.0122; feature_fraction=0.511; min_data_in_leaf=367; num_leaves=267; max_depth=13; lambda_l1=2.56; lambda_l2=3.98; min_gain_to_split=0.177; bagging_fraction=0.974 : y = 0.93 : 62.7 secs : initdesign\n",
      "\n",
      "[mbo] 0: num_iterations=793; learning_rate=0.0213; feature_fraction=0.419; min_data_in_leaf=399; num_leaves=248; max_depth=11; lambda_l1=3.04; lambda_l2=2.93; min_gain_to_split=0.107; bagging_fraction=0.99 : y = 0.931 : 48.6 secs : initdesign\n",
      "\n",
      "Saved the current state after iteration 1 in the file bayesiana.RDATA.\n",
      "\n",
      "Wed Jul 23 18:59:31 2025 AUC 0.930748223997511\n",
      "\n",
      "[mbo] 1: num_iterations=840; learning_rate=0.0211; feature_fraction=0.381; min_data_in_leaf=256; num_leaves=209; max_depth=12; lambda_l1=3.01; lambda_l2=3.23; min_gain_to_split=0.0823; bagging_fraction=0.919 : y = 0.931 : 54.3 secs : infill_ei\n",
      "\n",
      "Wed Jul 23 19:00:29 2025 AUC 0.931250888129146\n",
      "\n",
      "[mbo] 2: num_iterations=882; learning_rate=0.0239; feature_fraction=0.495; min_data_in_leaf=246; num_leaves=194; max_depth=13; lambda_l1=3.37; lambda_l2=3.03; min_gain_to_split=0.058; bagging_fraction=0.91 : y = 0.931 : 57.5 secs : infill_ei\n",
      "\n",
      "Wed Jul 23 19:01:24 2025 AUC 0.930865121396121\n",
      "\n",
      "[mbo] 3: num_iterations=883; learning_rate=0.0176; feature_fraction=0.426; min_data_in_leaf=385; num_leaves=227; max_depth=11; lambda_l1=3.41; lambda_l2=3.91; min_gain_to_split=0.0789; bagging_fraction=0.913 : y = 0.931 : 53.9 secs : infill_ei\n",
      "\n",
      "Wed Jul 23 19:02:29 2025 AUC 0.931146085942599\n",
      "\n",
      "[mbo] 4: num_iterations=932; learning_rate=0.0182; feature_fraction=0.454; min_data_in_leaf=260; num_leaves=231; max_depth=13; lambda_l1=2.71; lambda_l2=2.95; min_gain_to_split=0.099; bagging_fraction=0.89 : y = 0.931 : 63.5 secs : infill_ei\n",
      "\n",
      "Wed Jul 23 19:03:25 2025 AUC 0.930348352123355\n",
      "\n",
      "[mbo] 5: num_iterations=915; learning_rate=0.0162; feature_fraction=0.39; min_data_in_leaf=335; num_leaves=206; max_depth=11; lambda_l1=3.98; lambda_l2=3.95; min_gain_to_split=0.0862; bagging_fraction=0.924 : y = 0.93 : 54.3 secs : infill_ei\n",
      "\n",
      "Wed Jul 23 19:04:23 2025 AUC 0.93135979677311\n",
      "\n",
      "[mbo] 6: num_iterations=881; learning_rate=0.0206; feature_fraction=0.456; min_data_in_leaf=322; num_leaves=245; max_depth=13; lambda_l1=2.92; lambda_l2=3.26; min_gain_to_split=0.0896; bagging_fraction=0.891 : y = 0.931 : 57.5 secs : infill_ei\n",
      "\n",
      "Wed Jul 23 19:05:23 2025 AUC 0.930387746780087\n",
      "\n",
      "[mbo] 7: num_iterations=897; learning_rate=0.0209; feature_fraction=0.475; min_data_in_leaf=234; num_leaves=196; max_depth=13; lambda_l1=2.99; lambda_l2=3.18; min_gain_to_split=0.0991; bagging_fraction=0.91 : y = 0.93 : 58.6 secs : infill_ei\n",
      "\n",
      "Wed Jul 23 19:06:21 2025 AUC 0.92994734753874\n",
      "\n",
      "[mbo] 8: num_iterations=881; learning_rate=0.0211; feature_fraction=0.458; min_data_in_leaf=250; num_leaves=230; max_depth=13; lambda_l1=2.85; lambda_l2=3.09; min_gain_to_split=0.108; bagging_fraction=0.895 : y = 0.93 : 56.8 secs : infill_ei\n",
      "\n",
      "Wed Jul 23 19:07:14 2025 AUC 0.931117696378765\n",
      "\n",
      "[mbo] 9: num_iterations=806; learning_rate=0.017; feature_fraction=0.488; min_data_in_leaf=349; num_leaves=200; max_depth=11; lambda_l1=3.27; lambda_l2=3.53; min_gain_to_split=0.125; bagging_fraction=0.886 : y = 0.931 : 51.9 secs : infill_ei\n",
      "\n",
      "Wed Jul 23 19:08:10 2025 AUC 0.930764729890883\n",
      "\n",
      "[mbo] 10: num_iterations=869; learning_rate=0.0204; feature_fraction=0.37; min_data_in_leaf=316; num_leaves=272; max_depth=12; lambda_l1=2.78; lambda_l2=3.16; min_gain_to_split=0.0775; bagging_fraction=0.936 : y = 0.931 : 54.6 secs : infill_ei\n",
      "\n",
      "Wed Jul 23 19:08:57 2025 AUC 0.930222208942478\n",
      "\n",
      "[mbo] 11: num_iterations=768; learning_rate=0.0204; feature_fraction=0.377; min_data_in_leaf=301; num_leaves=215; max_depth=10; lambda_l1=3.29; lambda_l2=3.35; min_gain_to_split=0.121; bagging_fraction=0.975 : y = 0.93 : 46.3 secs : infill_ei\n",
      "\n",
      "Saved the current state after iteration 12 in the file bayesiana.RDATA.\n",
      "\n",
      "Wed Jul 23 19:09:54 2025 AUC 0.930923168694251\n",
      "\n",
      "[mbo] 12: num_iterations=873; learning_rate=0.0216; feature_fraction=0.428; min_data_in_leaf=448; num_leaves=223; max_depth=13; lambda_l1=2.93; lambda_l2=2.89; min_gain_to_split=0.139; bagging_fraction=0.964 : y = 0.931 : 51.8 secs : infill_ei\n",
      "\n",
      "Wed Jul 23 19:10:46 2025 AUC 0.930696874594645\n",
      "\n",
      "[mbo] 13: num_iterations=829; learning_rate=0.017; feature_fraction=0.369; min_data_in_leaf=231; num_leaves=227; max_depth=11; lambda_l1=3.04; lambda_l2=2.8; min_gain_to_split=0.163; bagging_fraction=0.951 : y = 0.931 : 50.9 secs : infill_ei\n",
      "\n",
      "Wed Jul 23 19:11:31 2025 AUC 0.930997130684082\n",
      "\n",
      "[mbo] 14: num_iterations=790; learning_rate=0.0203; feature_fraction=0.364; min_data_in_leaf=269; num_leaves=256; max_depth=13; lambda_l1=3.88; lambda_l2=3.4; min_gain_to_split=0.169; bagging_fraction=0.967 : y = 0.931 : 44.1 secs : infill_ei\n",
      "\n",
      "Wed Jul 23 19:12:24 2025 AUC 0.930460869097562\n",
      "\n",
      "[mbo] 15: num_iterations=803; learning_rate=0.0174; feature_fraction=0.501; min_data_in_leaf=343; num_leaves=244; max_depth=13; lambda_l1=2.97; lambda_l2=3.64; min_gain_to_split=0.163; bagging_fraction=0.992 : y = 0.93 : 52.1 secs : infill_ei\n",
      "\n",
      "Wed Jul 23 19:13:17 2025 AUC 0.930677390833344\n",
      "\n",
      "[mbo] 16: num_iterations=926; learning_rate=0.0229; feature_fraction=0.372; min_data_in_leaf=346; num_leaves=207; max_depth=11; lambda_l1=3.7; lambda_l2=2.99; min_gain_to_split=0.0799; bagging_fraction=0.967 : y = 0.931 : 52.0 secs : infill_ei\n",
      "\n",
      "Wed Jul 23 19:14:05 2025 AUC 0.930439686001052\n",
      "\n",
      "[mbo] 17: num_iterations=891; learning_rate=0.0247; feature_fraction=0.356; min_data_in_leaf=400; num_leaves=209; max_depth=12; lambda_l1=4.01; lambda_l2=3.56; min_gain_to_split=0.139; bagging_fraction=0.941 : y = 0.93 : 46.6 secs : infill_ei\n",
      "\n",
      "Wed Jul 23 19:14:52 2025 AUC 0.931186960620286\n",
      "\n",
      "[mbo] 18: num_iterations=816; learning_rate=0.0224; feature_fraction=0.422; min_data_in_leaf=221; num_leaves=235; max_depth=12; lambda_l1=3.9; lambda_l2=3.51; min_gain_to_split=0.177; bagging_fraction=0.97 : y = 0.931 : 45.8 secs : infill_ei\n",
      "\n",
      "Wed Jul 23 19:15:47 2025 AUC 0.930732798710561\n",
      "\n",
      "[mbo] 19: num_iterations=925; learning_rate=0.0217; feature_fraction=0.517; min_data_in_leaf=393; num_leaves=197; max_depth=11; lambda_l1=3.45; lambda_l2=3.12; min_gain_to_split=0.104; bagging_fraction=0.924 : y = 0.931 : 54.6 secs : infill_ei\n",
      "\n",
      "Wed Jul 23 19:16:37 2025 AUC 0.930449807486743\n",
      "\n",
      "[mbo] 20: num_iterations=944; learning_rate=0.0218; feature_fraction=0.352; min_data_in_leaf=304; num_leaves=259; max_depth=10; lambda_l1=4.13; lambda_l2=3.18; min_gain_to_split=0.152; bagging_fraction=0.945 : y = 0.93 : 48.4 secs : infill_ei\n",
      "\n",
      "Wed Jul 23 19:17:23 2025 AUC 0.931577436622205\n",
      "\n",
      "[mbo] 21: num_iterations=799; learning_rate=0.0162; feature_fraction=0.376; min_data_in_leaf=388; num_leaves=251; max_depth=10; lambda_l1=3.45; lambda_l2=2.95; min_gain_to_split=0.14; bagging_fraction=0.985 : y = 0.932 : 44.9 secs : infill_ei\n",
      "\n",
      "Wed Jul 23 19:18:14 2025 AUC 0.930647390408735\n",
      "\n",
      "[mbo] 22: num_iterations=923; learning_rate=0.0241; feature_fraction=0.523; min_data_in_leaf=246; num_leaves=280; max_depth=12; lambda_l1=3.97; lambda_l2=3.74; min_gain_to_split=0.149; bagging_fraction=0.982 : y = 0.931 : 50.3 secs : infill_ei\n",
      "\n",
      "Wed Jul 23 19:19:10 2025 AUC 0.931676377606124\n",
      "\n",
      "[mbo] 23: num_iterations=930; learning_rate=0.0173; feature_fraction=0.428; min_data_in_leaf=228; num_leaves=163; max_depth=10; lambda_l1=3.13; lambda_l2=3.73; min_gain_to_split=0.178; bagging_fraction=0.983 : y = 0.932 : 55.2 secs : infill_ei\n",
      "\n",
      "Saved the current state after iteration 24 in the file bayesiana.RDATA.\n",
      "\n",
      "Wed Jul 23 19:20:08 2025 AUC 0.929672676556908\n",
      "\n",
      "[mbo] 24: num_iterations=935; learning_rate=0.0247; feature_fraction=0.43; min_data_in_leaf=311; num_leaves=165; max_depth=10; lambda_l1=2.61; lambda_l2=3.54; min_gain_to_split=0.172; bagging_fraction=0.898 : y = 0.93 : 50.9 secs : infill_ei\n",
      "\n",
      "Wed Jul 23 19:21:04 2025 AUC 0.930771708407653\n",
      "\n",
      "[mbo] 25: num_iterations=876; learning_rate=0.0229; feature_fraction=0.397; min_data_in_leaf=234; num_leaves=257; max_depth=12; lambda_l1=3.93; lambda_l2=2.96; min_gain_to_split=0.0489; bagging_fraction=0.928 : y = 0.931 : 55.6 secs : infill_ei\n",
      "\n",
      "Wed Jul 23 19:21:59 2025 AUC 0.930018415770691\n",
      "\n",
      "[mbo] 26: num_iterations=895; learning_rate=0.0172; feature_fraction=0.495; min_data_in_leaf=440; num_leaves=168; max_depth=10; lambda_l1=3.27; lambda_l2=2.9; min_gain_to_split=0.175; bagging_fraction=0.994 : y = 0.93 : 53.3 secs : infill_ei\n",
      "\n",
      "Wed Jul 23 19:22:50 2025 AUC 0.931535851520134\n",
      "\n",
      "[mbo] 27: num_iterations=938; learning_rate=0.0225; feature_fraction=0.452; min_data_in_leaf=431; num_leaves=176; max_depth=10; lambda_l1=3.9; lambda_l2=3.62; min_gain_to_split=0.146; bagging_fraction=0.937 : y = 0.932 : 50.4 secs : infill_ei\n",
      "\n",
      "Wed Jul 23 19:23:42 2025 AUC 0.93010682788928\n",
      "\n",
      "[mbo] 28: num_iterations=846; learning_rate=0.0239; feature_fraction=0.398; min_data_in_leaf=320; num_leaves=184; max_depth=11; lambda_l1=2.61; lambda_l2=3.64; min_gain_to_split=0.102; bagging_fraction=0.922 : y = 0.93 : 50.4 secs : infill_ei\n",
      "\n",
      "Wed Jul 23 19:24:37 2025 AUC 0.930378907621063\n",
      "\n",
      "[mbo] 29: num_iterations=937; learning_rate=0.0138; feature_fraction=0.41; min_data_in_leaf=441; num_leaves=195; max_depth=11; lambda_l1=2.8; lambda_l2=2.81; min_gain_to_split=0.18; bagging_fraction=0.908 : y = 0.93 : 54.3 secs : infill_ei\n",
      "\n",
      "Wed Jul 23 19:25:24 2025 AUC 0.931692823512893\n",
      "\n",
      "[mbo] 30: num_iterations=802; learning_rate=0.0162; feature_fraction=0.396; min_data_in_leaf=396; num_leaves=166; max_depth=10; lambda_l1=3.39; lambda_l2=2.95; min_gain_to_split=0.149; bagging_fraction=0.992 : y = 0.932 : 45.6 secs : infill_ei\n",
      "\n",
      "Wed Jul 23 19:26:22 2025 AUC 0.931323623170681\n",
      "\n",
      "[mbo] 31: num_iterations=908; learning_rate=0.0174; feature_fraction=0.395; min_data_in_leaf=261; num_leaves=184; max_depth=11; lambda_l1=3.13; lambda_l2=3.8; min_gain_to_split=0.137; bagging_fraction=0.99 : y = 0.931 : 55.6 secs : infill_ei\n",
      "\n",
      "Wed Jul 23 19:27:24 2025 AUC 0.931539517745847\n",
      "\n",
      "[mbo] 32: num_iterations=906; learning_rate=0.0147; feature_fraction=0.419; min_data_in_leaf=253; num_leaves=209; max_depth=13; lambda_l1=3.15; lambda_l2=3.21; min_gain_to_split=0.0828; bagging_fraction=0.905 : y = 0.932 : 60.9 secs : infill_ei\n",
      "\n",
      "Wed Jul 23 19:28:16 2025 AUC 0.930859018822515\n",
      "\n",
      "[mbo] 33: num_iterations=888; learning_rate=0.0181; feature_fraction=0.459; min_data_in_leaf=244; num_leaves=165; max_depth=10; lambda_l1=3.96; lambda_l2=3.73; min_gain_to_split=0.178; bagging_fraction=0.918 : y = 0.931 : 51.2 secs : infill_ei\n",
      "\n",
      "Wed Jul 23 19:29:05 2025 AUC 0.931475986418429\n",
      "\n",
      "[mbo] 34: num_iterations=817; learning_rate=0.0156; feature_fraction=0.396; min_data_in_leaf=398; num_leaves=171; max_depth=10; lambda_l1=2.97; lambda_l2=3.04; min_gain_to_split=0.124; bagging_fraction=0.983 : y = 0.931 : 47.7 secs : infill_ei\n",
      "\n",
      "Wed Jul 23 19:29:56 2025 AUC 0.931410725710596\n",
      "\n",
      "[mbo] 35: num_iterations=807; learning_rate=0.0161; feature_fraction=0.393; min_data_in_leaf=393; num_leaves=212; max_depth=12; lambda_l1=3.14; lambda_l2=3.11; min_gain_to_split=0.0899; bagging_fraction=0.99 : y = 0.931 : 49.3 secs : infill_ei\n",
      "\n",
      "Saved the current state after iteration 36 in the file bayesiana.RDATA.\n",
      "\n",
      "Wed Jul 23 19:31:03 2025 AUC 0.930399363327109\n",
      "\n",
      "[mbo] 36: num_iterations=938; learning_rate=0.0172; feature_fraction=0.48; min_data_in_leaf=232; num_leaves=189; max_depth=10; lambda_l1=3.12; lambda_l2=3.81; min_gain_to_split=0.103; bagging_fraction=0.984 : y = 0.93 : 59.1 secs : infill_ei\n",
      "\n",
      "Wed Jul 23 19:31:52 2025 AUC 0.93093315493256\n",
      "\n",
      "[mbo] 37: num_iterations=819; learning_rate=0.0237; feature_fraction=0.395; min_data_in_leaf=393; num_leaves=169; max_depth=11; lambda_l1=3.33; lambda_l2=3.2; min_gain_to_split=0.0985; bagging_fraction=0.999 : y = 0.931 : 47.2 secs : infill_ei\n",
      "\n",
      "Wed Jul 23 19:32:38 2025 AUC 0.930769204222556\n",
      "\n",
      "[mbo] 38: num_iterations=804; learning_rate=0.0204; feature_fraction=0.391; min_data_in_leaf=418; num_leaves=207; max_depth=10; lambda_l1=2.93; lambda_l2=2.96; min_gain_to_split=0.146; bagging_fraction=0.988 : y = 0.931 : 44.9 secs : infill_ei\n",
      "\n",
      "Wed Jul 23 19:33:25 2025 AUC 0.931010527594311\n",
      "\n",
      "[mbo] 39: num_iterations=770; learning_rate=0.0161; feature_fraction=0.39; min_data_in_leaf=321; num_leaves=209; max_depth=10; lambda_l1=3.29; lambda_l2=2.98; min_gain_to_split=0.12; bagging_fraction=0.966 : y = 0.931 : 45.2 secs : infill_ei\n",
      "\n",
      "Wed Jul 23 19:34:14 2025 AUC 0.930987290117178\n",
      "\n",
      "[mbo] 40: num_iterations=809; learning_rate=0.0136; feature_fraction=0.433; min_data_in_leaf=395; num_leaves=258; max_depth=11; lambda_l1=3.87; lambda_l2=3.69; min_gain_to_split=0.159; bagging_fraction=0.951 : y = 0.931 : 48.2 secs : infill_ei\n",
      "\n",
      "Wed Jul 23 19:35:04 2025 AUC 0.930813796350224\n",
      "\n",
      "[mbo] 41: num_iterations=873; learning_rate=0.0213; feature_fraction=0.363; min_data_in_leaf=288; num_leaves=223; max_depth=13; lambda_l1=4.11; lambda_l2=3.86; min_gain_to_split=0.127; bagging_fraction=0.961 : y = 0.931 : 48.5 secs : infill_ei\n",
      "\n",
      "Wed Jul 23 19:35:49 2025 AUC 0.930781869415748\n",
      "\n",
      "[mbo] 42: num_iterations=755; learning_rate=0.0182; feature_fraction=0.364; min_data_in_leaf=433; num_leaves=245; max_depth=13; lambda_l1=4.17; lambda_l2=3.3; min_gain_to_split=0.113; bagging_fraction=0.904 : y = 0.931 : 44.3 secs : infill_ei\n",
      "\n",
      "Wed Jul 23 19:36:38 2025 AUC 0.930497770281947\n",
      "\n",
      "[mbo] 43: num_iterations=859; learning_rate=0.0207; feature_fraction=0.417; min_data_in_leaf=286; num_leaves=256; max_depth=11; lambda_l1=3.93; lambda_l2=3.98; min_gain_to_split=0.136; bagging_fraction=0.881 : y = 0.93 : 47.8 secs : infill_ei\n",
      "\n",
      "Wed Jul 23 19:37:31 2025 AUC 0.930418844527441\n",
      "\n",
      "[mbo] 44: num_iterations=834; learning_rate=0.016; feature_fraction=0.506; min_data_in_leaf=395; num_leaves=200; max_depth=10; lambda_l1=3.47; lambda_l2=3.21; min_gain_to_split=0.129; bagging_fraction=0.991 : y = 0.93 : 50.6 secs : infill_ei\n",
      "\n",
      "Wed Jul 23 19:38:30 2025 AUC 0.930938090032861\n",
      "\n",
      "[mbo] 45: num_iterations=916; learning_rate=0.0152; feature_fraction=0.405; min_data_in_leaf=245; num_leaves=173; max_depth=12; lambda_l1=3.76; lambda_l2=3.75; min_gain_to_split=0.09; bagging_fraction=0.959 : y = 0.931 : 58.2 secs : infill_ei\n",
      "\n",
      "Wed Jul 23 19:39:19 2025 AUC 0.9307001130054\n",
      "\n",
      "[mbo] 46: num_iterations=796; learning_rate=0.0197; feature_fraction=0.376; min_data_in_leaf=288; num_leaves=250; max_depth=10; lambda_l1=3.61; lambda_l2=2.98; min_gain_to_split=0.0486; bagging_fraction=0.971 : y = 0.931 : 47.6 secs : infill_ei\n",
      "\n",
      "Wed Jul 23 19:40:07 2025 AUC 0.930372041022925\n",
      "\n",
      "[mbo] 47: num_iterations=817; learning_rate=0.0162; feature_fraction=0.391; min_data_in_leaf=414; num_leaves=246; max_depth=10; lambda_l1=3.33; lambda_l2=3.75; min_gain_to_split=0.138; bagging_fraction=0.989 : y = 0.93 : 46.7 secs : infill_ei\n",
      "\n",
      "Saved the current state after iteration 48 in the file bayesiana.RDATA.\n",
      "\n",
      "Wed Jul 23 19:41:11 2025 AUC 0.930836418986129\n",
      "\n",
      "[mbo] 48: num_iterations=853; learning_rate=0.0162; feature_fraction=0.471; min_data_in_leaf=248; num_leaves=239; max_depth=12; lambda_l1=2.71; lambda_l2=3.4; min_gain_to_split=0.0932; bagging_fraction=0.918 : y = 0.931 : 57.7 secs : infill_ei\n",
      "\n",
      "Wed Jul 23 19:42:01 2025 AUC 0.931135299142101\n",
      "\n",
      "[mbo] 49: num_iterations=832; learning_rate=0.0162; feature_fraction=0.39; min_data_in_leaf=398; num_leaves=218; max_depth=10; lambda_l1=3.45; lambda_l2=2.96; min_gain_to_split=0.0827; bagging_fraction=0.992 : y = 0.931 : 47.9 secs : infill_ei\n",
      "\n",
      "Wed Jul 23 19:42:49 2025 AUC 0.931085146017707\n",
      "\n",
      "[mbo] 50: num_iterations=770; learning_rate=0.0183; feature_fraction=0.388; min_data_in_leaf=367; num_leaves=254; max_depth=11; lambda_l1=2.59; lambda_l2=3.4; min_gain_to_split=0.144; bagging_fraction=0.969 : y = 0.931 : 46.3 secs : infill_ei\n",
      "\n",
      "Wed Jul 23 19:43:46 2025 AUC 0.931022157469319\n",
      "\n",
      "[mbo] 51: num_iterations=917; learning_rate=0.0167; feature_fraction=0.427; min_data_in_leaf=315; num_leaves=176; max_depth=12; lambda_l1=3.14; lambda_l2=3.56; min_gain_to_split=0.158; bagging_fraction=0.958 : y = 0.931 : 55.0 secs : infill_ei\n",
      "\n",
      "Wed Jul 23 19:44:38 2025 AUC 0.930955138703531\n",
      "\n",
      "[mbo] 52: num_iterations=935; learning_rate=0.0185; feature_fraction=0.408; min_data_in_leaf=401; num_leaves=270; max_depth=10; lambda_l1=3.8; lambda_l2=2.98; min_gain_to_split=0.166; bagging_fraction=0.954 : y = 0.931 : 51.5 secs : infill_ei\n",
      "\n",
      "Wed Jul 23 19:45:27 2025 AUC 0.93076146816032\n",
      "\n",
      "[mbo] 53: num_iterations=844; learning_rate=0.0121; feature_fraction=0.37; min_data_in_leaf=445; num_leaves=161; max_depth=10; lambda_l1=3.74; lambda_l2=3.83; min_gain_to_split=0.0425; bagging_fraction=0.992 : y = 0.931 : 47.3 secs : infill_ei\n",
      "\n",
      "Wed Jul 23 19:46:23 2025 AUC 0.931414712057318\n",
      "\n",
      "[mbo] 54: num_iterations=851; learning_rate=0.015; feature_fraction=0.427; min_data_in_leaf=266; num_leaves=190; max_depth=12; lambda_l1=3.81; lambda_l2=3.6; min_gain_to_split=0.143; bagging_fraction=0.971 : y = 0.931 : 55.4 secs : infill_ei\n",
      "\n",
      "Wed Jul 23 19:47:13 2025 AUC 0.931423010600019\n",
      "\n",
      "[mbo] 55: num_iterations=804; learning_rate=0.0161; feature_fraction=0.396; min_data_in_leaf=422; num_leaves=202; max_depth=11; lambda_l1=2.81; lambda_l2=2.98; min_gain_to_split=0.132; bagging_fraction=0.991 : y = 0.931 : 47.6 secs : infill_ei\n",
      "\n",
      "Wed Jul 23 19:48:04 2025 AUC 0.931275761265833\n",
      "\n",
      "[mbo] 56: num_iterations=910; learning_rate=0.0223; feature_fraction=0.438; min_data_in_leaf=226; num_leaves=176; max_depth=10; lambda_l1=3.9; lambda_l2=3.51; min_gain_to_split=0.143; bagging_fraction=0.969 : y = 0.931 : 49.1 secs : infill_ei\n",
      "\n",
      "Wed Jul 23 19:49:03 2025 AUC 0.929706849293536\n",
      "\n",
      "[mbo] 57: num_iterations=856; learning_rate=0.0149; feature_fraction=0.532; min_data_in_leaf=253; num_leaves=253; max_depth=13; lambda_l1=3.48; lambda_l2=3.21; min_gain_to_split=0.133; bagging_fraction=0.934 : y = 0.93 : 57.5 secs : infill_ei\n",
      "\n",
      "Wed Jul 23 19:50:00 2025 AUC 0.931481073856818\n",
      "\n",
      "[mbo] 58: num_iterations=915; learning_rate=0.0132; feature_fraction=0.528; min_data_in_leaf=394; num_leaves=249; max_depth=10; lambda_l1=2.67; lambda_l2=2.87; min_gain_to_split=0.0901; bagging_fraction=0.952 : y = 0.931 : 55.8 secs : infill_ei\n",
      "\n",
      "Wed Jul 23 19:50:47 2025 AUC 0.931366342692552\n",
      "\n",
      "[mbo] 59: num_iterations=803; learning_rate=0.0162; feature_fraction=0.407; min_data_in_leaf=401; num_leaves=207; max_depth=10; lambda_l1=3.25; lambda_l2=2.96; min_gain_to_split=0.157; bagging_fraction=0.957 : y = 0.931 : 45.4 secs : infill_ei\n",
      "\n",
      "Saved the current state after iteration 60 in the file bayesiana.RDATA.\n",
      "\n",
      "Wed Jul 23 19:51:44 2025 AUC 0.931488719308461\n",
      "\n",
      "[mbo] 60: num_iterations=875; learning_rate=0.016; feature_fraction=0.399; min_data_in_leaf=394; num_leaves=167; max_depth=10; lambda_l1=3.08; lambda_l2=2.99; min_gain_to_split=0.163; bagging_fraction=0.904 : y = 0.931 : 49.1 secs : infill_ei\n",
      "\n",
      "Wed Jul 23 19:52:32 2025 AUC 0.930224446585486\n",
      "\n",
      "[mbo] 61: num_iterations=808; learning_rate=0.0161; feature_fraction=0.396; min_data_in_leaf=401; num_leaves=168; max_depth=10; lambda_l1=3.03; lambda_l2=3.03; min_gain_to_split=0.142; bagging_fraction=0.919 : y = 0.93 : 46.4 secs : infill_ei\n",
      "\n",
      "Wed Jul 23 19:53:23 2025 AUC 0.930487674851135\n",
      "\n",
      "[mbo] 62: num_iterations=787; learning_rate=0.0161; feature_fraction=0.473; min_data_in_leaf=376; num_leaves=166; max_depth=11; lambda_l1=3.29; lambda_l2=2.9; min_gain_to_split=0.148; bagging_fraction=0.992 : y = 0.93 : 48.7 secs : infill_ei\n",
      "\n",
      "Wed Jul 23 19:54:14 2025 AUC 0.931149718011529\n",
      "\n",
      "[mbo] 63: num_iterations=831; learning_rate=0.016; feature_fraction=0.401; min_data_in_leaf=407; num_leaves=244; max_depth=10; lambda_l1=3.38; lambda_l2=3.1; min_gain_to_split=0.0763; bagging_fraction=0.928 : y = 0.931 : 48.6 secs : infill_ei\n",
      "\n",
      "Wed Jul 23 19:55:14 2025 AUC 0.93037938226886\n",
      "\n",
      "[mbo] 64: num_iterations=892; learning_rate=0.0228; feature_fraction=0.509; min_data_in_leaf=438; num_leaves=260; max_depth=13; lambda_l1=2.91; lambda_l2=3.12; min_gain_to_split=0.0549; bagging_fraction=0.961 : y = 0.93 : 59.0 secs : infill_ei\n",
      "\n",
      "Wed Jul 23 19:56:13 2025 AUC 0.930770673937191\n",
      "\n",
      "[mbo] 65: num_iterations=889; learning_rate=0.0162; feature_fraction=0.52; min_data_in_leaf=442; num_leaves=258; max_depth=13; lambda_l1=4.02; lambda_l2=3.62; min_gain_to_split=0.0531; bagging_fraction=0.99 : y = 0.931 : 57.6 secs : infill_ei\n",
      "\n",
      "Wed Jul 23 19:57:06 2025 AUC 0.930953227834623\n",
      "\n",
      "[mbo] 66: num_iterations=856; learning_rate=0.0169; feature_fraction=0.426; min_data_in_leaf=380; num_leaves=177; max_depth=10; lambda_l1=3.13; lambda_l2=3.16; min_gain_to_split=0.111; bagging_fraction=0.984 : y = 0.931 : 50.9 secs : infill_ei\n",
      "\n",
      "Wed Jul 23 19:58:01 2025 AUC 0.930293344052654\n",
      "\n",
      "[mbo] 67: num_iterations=789; learning_rate=0.0154; feature_fraction=0.499; min_data_in_leaf=223; num_leaves=199; max_depth=13; lambda_l1=3.51; lambda_l2=3.53; min_gain_to_split=0.147; bagging_fraction=0.955 : y = 0.93 : 53.7 secs : infill_ei\n",
      "\n",
      "Wed Jul 23 19:59:00 2025 AUC 0.930417190580579\n",
      "\n",
      "[mbo] 68: num_iterations=903; learning_rate=0.0173; feature_fraction=0.468; min_data_in_leaf=228; num_leaves=180; max_depth=10; lambda_l1=3.13; lambda_l2=2.88; min_gain_to_split=0.127; bagging_fraction=0.989 : y = 0.93 : 56.6 secs : infill_ei\n",
      "\n",
      "Wed Jul 23 19:59:51 2025 AUC 0.930730626590033\n",
      "\n",
      "[mbo] 69: num_iterations=861; learning_rate=0.0205; feature_fraction=0.425; min_data_in_leaf=403; num_leaves=188; max_depth=12; lambda_l1=2.57; lambda_l2=3.85; min_gain_to_split=0.165; bagging_fraction=0.954 : y = 0.931 : 49.8 secs : infill_ei\n",
      "\n",
      "Wed Jul 23 20:00:46 2025 AUC 0.931277166044912\n",
      "\n",
      "[mbo] 70: num_iterations=771; learning_rate=0.0179; feature_fraction=0.478; min_data_in_leaf=239; num_leaves=169; max_depth=12; lambda_l1=3.29; lambda_l2=3.09; min_gain_to_split=0.0663; bagging_fraction=0.954 : y = 0.931 : 53.6 secs : infill_ei\n",
      "\n",
      "Wed Jul 23 20:01:34 2025 AUC 0.931099352069066\n",
      "\n",
      "[mbo] 71: num_iterations=795; learning_rate=0.0238; feature_fraction=0.474; min_data_in_leaf=308; num_leaves=199; max_depth=10; lambda_l1=4.17; lambda_l2=3.72; min_gain_to_split=0.0829; bagging_fraction=0.881 : y = 0.931 : 47.4 secs : infill_ei\n",
      "\n",
      "Saved the current state after iteration 72 in the file bayesiana.RDATA.\n",
      "\n",
      "Wed Jul 23 20:02:30 2025 AUC 0.931058666570095\n",
      "\n",
      "[mbo] 72: num_iterations=804; learning_rate=0.0162; feature_fraction=0.408; min_data_in_leaf=377; num_leaves=164; max_depth=11; lambda_l1=2.63; lambda_l2=2.99; min_gain_to_split=0.136; bagging_fraction=0.94 : y = 0.931 : 48.7 secs : infill_ei\n",
      "\n",
      "Wed Jul 23 20:03:25 2025 AUC 0.930354848502736\n",
      "\n",
      "[mbo] 73: num_iterations=797; learning_rate=0.0129; feature_fraction=0.456; min_data_in_leaf=229; num_leaves=223; max_depth=13; lambda_l1=3.41; lambda_l2=3.75; min_gain_to_split=0.124; bagging_fraction=0.941 : y = 0.93 : 54.0 secs : infill_ei\n",
      "\n",
      "Wed Jul 23 20:04:16 2025 AUC 0.931323593791207\n",
      "\n",
      "[mbo] 74: num_iterations=947; learning_rate=0.025; feature_fraction=0.353; min_data_in_leaf=448; num_leaves=245; max_depth=11; lambda_l1=4.04; lambda_l2=3.69; min_gain_to_split=0.0976; bagging_fraction=0.997 : y = 0.931 : 49.2 secs : infill_ei\n",
      "\n",
      "Wed Jul 23 20:05:12 2025 AUC 0.931271974162722\n",
      "\n",
      "[mbo] 75: num_iterations=915; learning_rate=0.0185; feature_fraction=0.496; min_data_in_leaf=289; num_leaves=207; max_depth=13; lambda_l1=3.72; lambda_l2=2.98; min_gain_to_split=0.153; bagging_fraction=0.988 : y = 0.931 : 54.7 secs : infill_ei\n",
      "\n",
      "Wed Jul 23 20:06:05 2025 AUC 0.930534444003007\n",
      "\n",
      "[mbo] 76: num_iterations=887; learning_rate=0.0167; feature_fraction=0.397; min_data_in_leaf=394; num_leaves=204; max_depth=10; lambda_l1=3.54; lambda_l2=3; min_gain_to_split=0.131; bagging_fraction=0.992 : y = 0.931 : 50.9 secs : infill_ei\n",
      "\n",
      "Wed Jul 23 20:06:55 2025 AUC 0.93055231194607\n",
      "\n",
      "[mbo] 77: num_iterations=753; learning_rate=0.0224; feature_fraction=0.421; min_data_in_leaf=222; num_leaves=176; max_depth=11; lambda_l1=3.33; lambda_l2=3.33; min_gain_to_split=0.065; bagging_fraction=0.931 : y = 0.931 : 48.5 secs : infill_ei\n",
      "\n",
      "Wed Jul 23 20:07:44 2025 AUC 0.929658301026156\n",
      "\n",
      "[mbo] 78: num_iterations=769; learning_rate=0.0217; feature_fraction=0.451; min_data_in_leaf=290; num_leaves=262; max_depth=10; lambda_l1=3.32; lambda_l2=3.61; min_gain_to_split=0.104; bagging_fraction=0.923 : y = 0.93 : 47.4 secs : infill_ei\n",
      "\n",
      "Wed Jul 23 20:08:49 2025 AUC 0.931035864721359\n",
      "\n",
      "[mbo] 79: num_iterations=856; learning_rate=0.019; feature_fraction=0.534; min_data_in_leaf=356; num_leaves=180; max_depth=11; lambda_l1=3.27; lambda_l2=3.71; min_gain_to_split=0.057; bagging_fraction=0.924 : y = 0.931 : 63.6 secs : infill_ei\n",
      "\n",
      "Wed Jul 23 20:09:52 2025 AUC 0.930857320360818\n",
      "\n",
      "[mbo] 80: num_iterations=938; learning_rate=0.0162; feature_fraction=0.476; min_data_in_leaf=302; num_leaves=203; max_depth=10; lambda_l1=3.42; lambda_l2=2.95; min_gain_to_split=0.149; bagging_fraction=0.998 : y = 0.931 : 61.0 secs : infill_ei\n",
      "\n",
      "Wed Jul 23 20:10:48 2025 AUC 0.932090425493743\n",
      "\n",
      "[mbo] 81: num_iterations=753; learning_rate=0.0203; feature_fraction=0.446; min_data_in_leaf=403; num_leaves=209; max_depth=12; lambda_l1=3.87; lambda_l2=2.96; min_gain_to_split=0.109; bagging_fraction=0.929 : y = 0.932 : 54.0 secs : infill_ei\n",
      "\n",
      "Wed Jul 23 20:11:46 2025 AUC 0.931646519420367\n",
      "\n",
      "[mbo] 82: num_iterations=888; learning_rate=0.0231; feature_fraction=0.355; min_data_in_leaf=445; num_leaves=203; max_depth=13; lambda_l1=2.82; lambda_l2=2.97; min_gain_to_split=0.073; bagging_fraction=0.963 : y = 0.932 : 56.5 secs : infill_ei\n",
      "\n",
      "Saved the current state after iteration 83 in the file bayesiana.RDATA.\n",
      "\n",
      "Wed Jul 23 20:12:57 2025 AUC 0.930733237450237\n",
      "\n",
      "[mbo] 83: num_iterations=882; learning_rate=0.0206; feature_fraction=0.445; min_data_in_leaf=240; num_leaves=209; max_depth=12; lambda_l1=3.18; lambda_l2=3.53; min_gain_to_split=0.154; bagging_fraction=0.941 : y = 0.931 : 66.2 secs : infill_ei\n",
      "\n",
      "Wed Jul 23 20:13:51 2025 AUC 0.931155946447468\n",
      "\n",
      "[mbo] 84: num_iterations=842; learning_rate=0.0201; feature_fraction=0.46; min_data_in_leaf=314; num_leaves=184; max_depth=12; lambda_l1=3.88; lambda_l2=3.13; min_gain_to_split=0.118; bagging_fraction=0.947 : y = 0.931 : 51.7 secs : infill_ei\n",
      "\n",
      "Wed Jul 23 20:14:48 2025 AUC 0.930423889098132\n",
      "\n",
      "[mbo] 85: num_iterations=903; learning_rate=0.0213; feature_fraction=0.5; min_data_in_leaf=321; num_leaves=211; max_depth=11; lambda_l1=3.01; lambda_l2=3.68; min_gain_to_split=0.129; bagging_fraction=0.95 : y = 0.93 : 55.2 secs : infill_ei\n",
      "\n",
      "Wed Jul 23 20:15:39 2025 AUC 0.930419068722389\n",
      "\n",
      "[mbo] 86: num_iterations=821; learning_rate=0.0227; feature_fraction=0.36; min_data_in_leaf=431; num_leaves=243; max_depth=12; lambda_l1=3.05; lambda_l2=2.89; min_gain_to_split=0.0636; bagging_fraction=0.884 : y = 0.93 : 50.2 secs : infill_ei\n",
      "\n",
      "Wed Jul 23 20:16:29 2025 AUC 0.929822794127666\n",
      "\n",
      "[mbo] 87: num_iterations=786; learning_rate=0.0221; feature_fraction=0.354; min_data_in_leaf=254; num_leaves=230; max_depth=10; lambda_l1=3.43; lambda_l2=3.37; min_gain_to_split=0.0414; bagging_fraction=0.983 : y = 0.93 : 48.5 secs : infill_ei\n",
      "\n",
      "Wed Jul 23 20:17:28 2025 AUC 0.931189931872771\n",
      "\n",
      "[mbo] 88: num_iterations=758; learning_rate=0.0125; feature_fraction=0.549; min_data_in_leaf=427; num_leaves=262; max_depth=12; lambda_l1=3.84; lambda_l2=2.93; min_gain_to_split=0.135; bagging_fraction=0.936 : y = 0.931 : 57.2 secs : infill_ei\n",
      "\n",
      "Wed Jul 23 20:18:32 2025 AUC 0.930942738998154\n",
      "\n",
      "[mbo] 89: num_iterations=946; learning_rate=0.0191; feature_fraction=0.539; min_data_in_leaf=238; num_leaves=241; max_depth=10; lambda_l1=2.68; lambda_l2=3.76; min_gain_to_split=0.0874; bagging_fraction=0.91 : y = 0.931 : 62.3 secs : infill_ei\n",
      "\n",
      "Wed Jul 23 20:19:28 2025 AUC 0.930329798962576\n",
      "\n",
      "[mbo] 90: num_iterations=923; learning_rate=0.0223; feature_fraction=0.475; min_data_in_leaf=235; num_leaves=186; max_depth=13; lambda_l1=3.57; lambda_l2=3.27; min_gain_to_split=0.107; bagging_fraction=0.954 : y = 0.93 : 55.0 secs : infill_ei\n",
      "\n",
      "Wed Jul 23 20:20:20 2025 AUC 0.930917717877267\n",
      "\n",
      "[mbo] 91: num_iterations=839; learning_rate=0.0187; feature_fraction=0.49; min_data_in_leaf=407; num_leaves=222; max_depth=11; lambda_l1=3.74; lambda_l2=3.17; min_gain_to_split=0.157; bagging_fraction=0.929 : y = 0.931 : 50.9 secs : infill_ei\n",
      "\n",
      "Wed Jul 23 20:21:10 2025 AUC 0.930853067250252\n",
      "\n",
      "[mbo] 92: num_iterations=756; learning_rate=0.0206; feature_fraction=0.48; min_data_in_leaf=385; num_leaves=212; max_depth=11; lambda_l1=3.87; lambda_l2=2.98; min_gain_to_split=0.1; bagging_fraction=0.911 : y = 0.931 : 47.2 secs : infill_ei\n",
      "\n",
      "Wed Jul 23 20:22:02 2025 AUC 0.931551342900304\n",
      "\n",
      "[mbo] 93: num_iterations=814; learning_rate=0.0135; feature_fraction=0.404; min_data_in_leaf=242; num_leaves=219; max_depth=12; lambda_l1=2.64; lambda_l2=3.1; min_gain_to_split=0.161; bagging_fraction=0.942 : y = 0.932 : 51.1 secs : infill_ei\n",
      "\n",
      "Saved the current state after iteration 94 in the file bayesiana.RDATA.\n",
      "\n",
      "Wed Jul 23 20:22:56 2025 AUC 0.930632355104245\n",
      "\n",
      "[mbo] 94: num_iterations=827; learning_rate=0.0203; feature_fraction=0.483; min_data_in_leaf=400; num_leaves=218; max_depth=12; lambda_l1=3.85; lambda_l2=2.97; min_gain_to_split=0.169; bagging_fraction=0.93 : y = 0.931 : 46.7 secs : infill_ei\n",
      "\n",
      "Wed Jul 23 20:23:46 2025 AUC 0.930600549932228\n",
      "\n",
      "[mbo] 95: num_iterations=907; learning_rate=0.024; feature_fraction=0.493; min_data_in_leaf=372; num_leaves=202; max_depth=13; lambda_l1=4.14; lambda_l2=3.24; min_gain_to_split=0.167; bagging_fraction=0.887 : y = 0.931 : 48.6 secs : infill_ei\n",
      "\n",
      "Wed Jul 23 20:24:49 2025 AUC 0.930510683909992\n",
      "\n",
      "[mbo] 96: num_iterations=926; learning_rate=0.0155; feature_fraction=0.427; min_data_in_leaf=328; num_leaves=273; max_depth=13; lambda_l1=2.68; lambda_l2=3.2; min_gain_to_split=0.0884; bagging_fraction=0.907 : y = 0.931 : 61.5 secs : infill_ei\n",
      "\n",
      "Wed Jul 23 20:25:44 2025 AUC 0.929967759561366\n",
      "\n",
      "[mbo] 97: num_iterations=845; learning_rate=0.0196; feature_fraction=0.44; min_data_in_leaf=228; num_leaves=260; max_depth=10; lambda_l1=3.14; lambda_l2=3.98; min_gain_to_split=0.0663; bagging_fraction=0.902 : y = 0.93 : 53.9 secs : infill_ei\n",
      "\n",
      "Wed Jul 23 20:26:42 2025 AUC 0.930557041290969\n",
      "\n",
      "[mbo] 98: num_iterations=942; learning_rate=0.0161; feature_fraction=0.444; min_data_in_leaf=310; num_leaves=168; max_depth=12; lambda_l1=4.02; lambda_l2=3.94; min_gain_to_split=0.161; bagging_fraction=0.948 : y = 0.931 : 55.8 secs : infill_ei\n",
      "\n",
      "Wed Jul 23 20:27:35 2025 AUC 0.930966447193555\n",
      "\n",
      "[mbo] 99: num_iterations=773; learning_rate=0.0157; feature_fraction=0.484; min_data_in_leaf=297; num_leaves=224; max_depth=13; lambda_l1=3.08; lambda_l2=3.69; min_gain_to_split=0.176; bagging_fraction=0.912 : y = 0.931 : 51.6 secs : infill_ei\n",
      "\n",
      "Wed Jul 23 20:28:34 2025 AUC 0.930618787224132\n",
      "\n",
      "[mbo] 100: num_iterations=888; learning_rate=0.0153; feature_fraction=0.408; min_data_in_leaf=344; num_leaves=188; max_depth=13; lambda_l1=3.14; lambda_l2=3.14; min_gain_to_split=0.0861; bagging_fraction=0.893 : y = 0.931 : 56.8 secs : infill_ei\n",
      "\n",
      "Saved the final state in the file bayesiana.RDATA\n",
      "\n"
     ]
    }
   ],
   "source": [
    "# inicio la optimizacion bayesiana, retomando si ya existe\n",
    "# es la celda mas lenta de todo el notebook\n",
    "\n",
    "if (!file.exists(kbayesiana)) {\n",
    "  bayesiana_salida <- mbo(obj.fun, learner= surr.km, control= ctrl)\n",
    "} else {\n",
    "  bayesiana_salida <- mboContinue(kbayesiana) # retomo en caso que ya exista\n",
    "}"
   ]
  },
  {
   "cell_type": "code",
   "execution_count": 20,
   "metadata": {
    "id": "ssk5nnMk6INK"
   },
   "outputs": [
    {
     "data": {
      "text/html": [
       "<style>\n",
       ".list-inline {list-style: none; margin:0; padding: 0}\n",
       ".list-inline>li {display: inline-block}\n",
       ".list-inline>li:not(:last-child)::after {content: \"\\00b7\"; padding: 0 .5ex}\n",
       "</style>\n",
       "<ol class=list-inline><li>'num_iterations'</li><li>'learning_rate'</li><li>'feature_fraction'</li><li>'min_data_in_leaf'</li><li>'num_leaves'</li><li>'max_depth'</li><li>'lambda_l1'</li><li>'lambda_l2'</li><li>'min_gain_to_split'</li><li>'bagging_fraction'</li><li>'y'</li><li>'dob'</li><li>'eol'</li><li>'error.message'</li><li>'exec.time'</li><li>'ei'</li><li>'error.model'</li><li>'train.time'</li><li>'prop.type'</li><li>'propose.time'</li><li>'se'</li><li>'mean'</li></ol>\n"
      ],
      "text/latex": [
       "\\begin{enumerate*}\n",
       "\\item 'num\\_iterations'\n",
       "\\item 'learning\\_rate'\n",
       "\\item 'feature\\_fraction'\n",
       "\\item 'min\\_data\\_in\\_leaf'\n",
       "\\item 'num\\_leaves'\n",
       "\\item 'max\\_depth'\n",
       "\\item 'lambda\\_l1'\n",
       "\\item 'lambda\\_l2'\n",
       "\\item 'min\\_gain\\_to\\_split'\n",
       "\\item 'bagging\\_fraction'\n",
       "\\item 'y'\n",
       "\\item 'dob'\n",
       "\\item 'eol'\n",
       "\\item 'error.message'\n",
       "\\item 'exec.time'\n",
       "\\item 'ei'\n",
       "\\item 'error.model'\n",
       "\\item 'train.time'\n",
       "\\item 'prop.type'\n",
       "\\item 'propose.time'\n",
       "\\item 'se'\n",
       "\\item 'mean'\n",
       "\\end{enumerate*}\n"
      ],
      "text/markdown": [
       "1. 'num_iterations'\n",
       "2. 'learning_rate'\n",
       "3. 'feature_fraction'\n",
       "4. 'min_data_in_leaf'\n",
       "5. 'num_leaves'\n",
       "6. 'max_depth'\n",
       "7. 'lambda_l1'\n",
       "8. 'lambda_l2'\n",
       "9. 'min_gain_to_split'\n",
       "10. 'bagging_fraction'\n",
       "11. 'y'\n",
       "12. 'dob'\n",
       "13. 'eol'\n",
       "14. 'error.message'\n",
       "15. 'exec.time'\n",
       "16. 'ei'\n",
       "17. 'error.model'\n",
       "18. 'train.time'\n",
       "19. 'prop.type'\n",
       "20. 'propose.time'\n",
       "21. 'se'\n",
       "22. 'mean'\n",
       "\n",
       "\n"
      ],
      "text/plain": [
       " [1] \"num_iterations\"    \"learning_rate\"     \"feature_fraction\" \n",
       " [4] \"min_data_in_leaf\"  \"num_leaves\"        \"max_depth\"        \n",
       " [7] \"lambda_l1\"         \"lambda_l2\"         \"min_gain_to_split\"\n",
       "[10] \"bagging_fraction\"  \"y\"                 \"dob\"              \n",
       "[13] \"eol\"               \"error.message\"     \"exec.time\"        \n",
       "[16] \"ei\"                \"error.model\"       \"train.time\"       \n",
       "[19] \"prop.type\"         \"propose.time\"      \"se\"               \n",
       "[22] \"mean\"             "
      ]
     },
     "metadata": {},
     "output_type": "display_data"
    }
   ],
   "source": [
    "\n",
    "tb_bayesiana <- as.data.table(bayesiana_salida$opt.path)\n",
    "colnames( tb_bayesiana)"
   ]
  },
  {
   "cell_type": "code",
   "execution_count": 21,
   "metadata": {
    "id": "u4zq-vknhjGc"
   },
   "outputs": [],
   "source": [
    "# almaceno los resultados de la Bayesian Optimization\n",
    "# y capturo los mejores hiperparametros encontrados\n",
    "\n",
    "tb_bayesiana <- as.data.table(bayesiana_salida$opt.path)\n",
    "\n",
    "tb_bayesiana[, iter := .I]\n",
    "\n",
    "# ordeno en forma descendente por AUC = y\n",
    "setorder(tb_bayesiana, -y)\n",
    "\n",
    "# grabo para eventualmente poder utilizarlos en OTRA corrida\n",
    "fwrite( tb_bayesiana,\n",
    "  file= \"BO_log.txt\",\n",
    "  sep= \"\\t\"\n",
    ")\n",
    "\n",
    "# los mejores hiperparámetros son los que quedaron en el registro 1 de la tabla\n",
    "PARAM$out$lgbm$mejores_hiperparametros <- tb_bayesiana[\n",
    "  1, # el primero es el de mejor AUC\n",
    "  setdiff(colnames(tb_bayesiana),\n",
    "    c(\"y\",\"dob\",\"eol\",\"error.message\",\"exec.time\",\"ei\",\"error.model\",\n",
    "      \"train.time\",\"prop.type\",\"propose.time\",\"se\",\"mean\",\"iter\")),\n",
    "  with= FALSE\n",
    "]\n",
    "\n",
    "\n",
    "PARAM$out$lgbm$y <- tb_bayesiana[1, y]\n"
   ]
  },
  {
   "cell_type": "code",
   "execution_count": 23,
   "metadata": {
    "id": "E8v2eA427N8e"
   },
   "outputs": [],
   "source": [
    "write_yaml( PARAM, file=\"PARAM.yml\")"
   ]
  },
  {
   "cell_type": "code",
   "execution_count": 24,
   "metadata": {
    "id": "iBTWexVU7PGC"
   },
   "outputs": [
    {
     "name": "stdout",
     "output_type": "stream",
     "text": [
      "   num_iterations learning_rate feature_fraction min_data_in_leaf num_leaves\n",
      "            <int>         <num>            <num>            <int>      <int>\n",
      "1:            753    0.02031546        0.4455054              403        209\n",
      "   max_depth lambda_l1 lambda_l2 min_gain_to_split bagging_fraction\n",
      "       <int>     <num>     <num>             <num>            <num>\n",
      "1:        12  3.867425  2.963876         0.1094156         0.929265\n",
      "[1] 0.9320904\n"
     ]
    }
   ],
   "source": [
    "print(PARAM$out$lgbm$mejores_hiperparametros)\n",
    "print(PARAM$out$lgbm$y)"
   ]
  },
  {
   "cell_type": "markdown",
   "metadata": {
    "id": "TKsVZmAnhwX-"
   },
   "source": [
    "## 2.3  Produccion"
   ]
  },
  {
   "cell_type": "markdown",
   "metadata": {
    "id": "RQ_C33Tr5B_9"
   },
   "source": [
    "### Final Training\n",
    "Construyo el modelo final, que es uno solo, no hace ningun tipo de particion < training, validation, testing>]"
   ]
  },
  {
   "cell_type": "code",
   "execution_count": 25,
   "metadata": {
    "id": "eDqfyA14hzwv"
   },
   "outputs": [],
   "source": [
    "setwd(\"/content/buckets/b1/exp\")\n",
    "experimento <- paste0(\"exp\", PARAM$experimento)\n",
    "dir.create(experimento, showWarnings= FALSE)\n",
    "setwd( paste0(\"/content/buckets/b1/exp/\", experimento ))"
   ]
  },
  {
   "cell_type": "markdown",
   "metadata": {
    "id": "8qFmFivf5Iet"
   },
   "source": [
    "#### Final Training Dataset\n",
    "\n",
    "Aqui esta la gran decision de en qué meses hago el Final Training\n",
    "<br> debo utilizar los mejores hiperparámetros que encontré en la optimización bayesiana"
   ]
  },
  {
   "cell_type": "code",
   "execution_count": 26,
   "metadata": {
    "id": "lg5WVZncvc7H"
   },
   "outputs": [],
   "source": [
    "# clase01\n",
    "dataset[, clase01 := ifelse(clase_ternaria %in% c(\"BAJA+1\", \"BAJA+2\"), 1L, 0L)]"
   ]
  },
  {
   "cell_type": "code",
   "execution_count": 27,
   "metadata": {
    "id": "yc9QzXREv0xf"
   },
   "outputs": [],
   "source": [
    "dataset_train <- dataset[foto_mes %in% c(202107)]"
   ]
  },
  {
   "cell_type": "code",
   "execution_count": 28,
   "metadata": {
    "id": "thjdqEBLuvNt"
   },
   "outputs": [],
   "source": [
    "# dejo los datos en el formato que necesita LightGBM\n",
    "\n",
    "dtrain <- lgb.Dataset(\n",
    "  data= data.matrix(dataset_train[, campos_buenos, with= FALSE]),\n",
    "  label= dataset_train[, clase01]\n",
    ")"
   ]
  },
  {
   "cell_type": "markdown",
   "metadata": {
    "id": "VNUa-WSz5Oqu"
   },
   "source": [
    "#### Final Training Hyperparameters"
   ]
  },
  {
   "cell_type": "code",
   "execution_count": 29,
   "metadata": {
    "id": "FgCcvBfEwImu"
   },
   "outputs": [
    {
     "data": {
      "text/html": [
       "<dl>\n",
       "\t<dt>$boosting</dt>\n",
       "\t\t<dd>'gbdt'</dd>\n",
       "\t<dt>$objective</dt>\n",
       "\t\t<dd>'binary'</dd>\n",
       "\t<dt>$metric</dt>\n",
       "\t\t<dd>'auc'</dd>\n",
       "\t<dt>$first_metric_only</dt>\n",
       "\t\t<dd>FALSE</dd>\n",
       "\t<dt>$boost_from_average</dt>\n",
       "\t\t<dd>TRUE</dd>\n",
       "\t<dt>$feature_pre_filter</dt>\n",
       "\t\t<dd>FALSE</dd>\n",
       "\t<dt>$force_row_wise</dt>\n",
       "\t\t<dd>TRUE</dd>\n",
       "\t<dt>$verbosity</dt>\n",
       "\t\t<dd>-100</dd>\n",
       "\t<dt>$seed</dt>\n",
       "\t\t<dd>100129</dd>\n",
       "\t<dt>$max_depth</dt>\n",
       "\t\t<dd>12</dd>\n",
       "\t<dt>$min_gain_to_split</dt>\n",
       "\t\t<dd>0.109415609763788</dd>\n",
       "\t<dt>$min_sum_hessian_in_leaf</dt>\n",
       "\t\t<dd>0.001</dd>\n",
       "\t<dt>$lambda_l1</dt>\n",
       "\t\t<dd>3.86742546130095</dd>\n",
       "\t<dt>$lambda_l2</dt>\n",
       "\t\t<dd>2.96387586167058</dd>\n",
       "\t<dt>$max_bin</dt>\n",
       "\t\t<dd>31</dd>\n",
       "\t<dt>$bagging_fraction</dt>\n",
       "\t\t<dd>0.929265024801159</dd>\n",
       "\t<dt>$pos_bagging_fraction</dt>\n",
       "\t\t<dd>1</dd>\n",
       "\t<dt>$neg_bagging_fraction</dt>\n",
       "\t\t<dd>1</dd>\n",
       "\t<dt>$is_unbalance</dt>\n",
       "\t\t<dd>FALSE</dd>\n",
       "\t<dt>$scale_pos_weight</dt>\n",
       "\t\t<dd>1</dd>\n",
       "\t<dt>$drop_rate</dt>\n",
       "\t\t<dd>0.1</dd>\n",
       "\t<dt>$max_drop</dt>\n",
       "\t\t<dd>50</dd>\n",
       "\t<dt>$skip_drop</dt>\n",
       "\t\t<dd>0.5</dd>\n",
       "\t<dt>$extra_trees</dt>\n",
       "\t\t<dd>FALSE</dd>\n",
       "\t<dt>$num_iterations</dt>\n",
       "\t\t<dd>753</dd>\n",
       "\t<dt>$learning_rate</dt>\n",
       "\t\t<dd>0.0203154598276873</dd>\n",
       "\t<dt>$feature_fraction</dt>\n",
       "\t\t<dd>0.445505422796478</dd>\n",
       "\t<dt>$num_leaves</dt>\n",
       "\t\t<dd>209</dd>\n",
       "\t<dt>$min_data_in_leaf</dt>\n",
       "\t\t<dd>403</dd>\n",
       "</dl>\n"
      ],
      "text/latex": [
       "\\begin{description}\n",
       "\\item[\\$boosting] 'gbdt'\n",
       "\\item[\\$objective] 'binary'\n",
       "\\item[\\$metric] 'auc'\n",
       "\\item[\\$first\\_metric\\_only] FALSE\n",
       "\\item[\\$boost\\_from\\_average] TRUE\n",
       "\\item[\\$feature\\_pre\\_filter] FALSE\n",
       "\\item[\\$force\\_row\\_wise] TRUE\n",
       "\\item[\\$verbosity] -100\n",
       "\\item[\\$seed] 100129\n",
       "\\item[\\$max\\_depth] 12\n",
       "\\item[\\$min\\_gain\\_to\\_split] 0.109415609763788\n",
       "\\item[\\$min\\_sum\\_hessian\\_in\\_leaf] 0.001\n",
       "\\item[\\$lambda\\_l1] 3.86742546130095\n",
       "\\item[\\$lambda\\_l2] 2.96387586167058\n",
       "\\item[\\$max\\_bin] 31\n",
       "\\item[\\$bagging\\_fraction] 0.929265024801159\n",
       "\\item[\\$pos\\_bagging\\_fraction] 1\n",
       "\\item[\\$neg\\_bagging\\_fraction] 1\n",
       "\\item[\\$is\\_unbalance] FALSE\n",
       "\\item[\\$scale\\_pos\\_weight] 1\n",
       "\\item[\\$drop\\_rate] 0.1\n",
       "\\item[\\$max\\_drop] 50\n",
       "\\item[\\$skip\\_drop] 0.5\n",
       "\\item[\\$extra\\_trees] FALSE\n",
       "\\item[\\$num\\_iterations] 753\n",
       "\\item[\\$learning\\_rate] 0.0203154598276873\n",
       "\\item[\\$feature\\_fraction] 0.445505422796478\n",
       "\\item[\\$num\\_leaves] 209\n",
       "\\item[\\$min\\_data\\_in\\_leaf] 403\n",
       "\\end{description}\n"
      ],
      "text/markdown": [
       "$boosting\n",
       ":   'gbdt'\n",
       "$objective\n",
       ":   'binary'\n",
       "$metric\n",
       ":   'auc'\n",
       "$first_metric_only\n",
       ":   FALSE\n",
       "$boost_from_average\n",
       ":   TRUE\n",
       "$feature_pre_filter\n",
       ":   FALSE\n",
       "$force_row_wise\n",
       ":   TRUE\n",
       "$verbosity\n",
       ":   -100\n",
       "$seed\n",
       ":   100129\n",
       "$max_depth\n",
       ":   12\n",
       "$min_gain_to_split\n",
       ":   0.109415609763788\n",
       "$min_sum_hessian_in_leaf\n",
       ":   0.001\n",
       "$lambda_l1\n",
       ":   3.86742546130095\n",
       "$lambda_l2\n",
       ":   2.96387586167058\n",
       "$max_bin\n",
       ":   31\n",
       "$bagging_fraction\n",
       ":   0.929265024801159\n",
       "$pos_bagging_fraction\n",
       ":   1\n",
       "$neg_bagging_fraction\n",
       ":   1\n",
       "$is_unbalance\n",
       ":   FALSE\n",
       "$scale_pos_weight\n",
       ":   1\n",
       "$drop_rate\n",
       ":   0.1\n",
       "$max_drop\n",
       ":   50\n",
       "$skip_drop\n",
       ":   0.5\n",
       "$extra_trees\n",
       ":   FALSE\n",
       "$num_iterations\n",
       ":   753\n",
       "$learning_rate\n",
       ":   0.0203154598276873\n",
       "$feature_fraction\n",
       ":   0.445505422796478\n",
       "$num_leaves\n",
       ":   209\n",
       "$min_data_in_leaf\n",
       ":   403\n",
       "\n",
       "\n"
      ],
      "text/plain": [
       "$boosting\n",
       "[1] \"gbdt\"\n",
       "\n",
       "$objective\n",
       "[1] \"binary\"\n",
       "\n",
       "$metric\n",
       "[1] \"auc\"\n",
       "\n",
       "$first_metric_only\n",
       "[1] FALSE\n",
       "\n",
       "$boost_from_average\n",
       "[1] TRUE\n",
       "\n",
       "$feature_pre_filter\n",
       "[1] FALSE\n",
       "\n",
       "$force_row_wise\n",
       "[1] TRUE\n",
       "\n",
       "$verbosity\n",
       "[1] -100\n",
       "\n",
       "$seed\n",
       "[1] 100129\n",
       "\n",
       "$max_depth\n",
       "[1] 12\n",
       "\n",
       "$min_gain_to_split\n",
       "[1] 0.1094156\n",
       "\n",
       "$min_sum_hessian_in_leaf\n",
       "[1] 0.001\n",
       "\n",
       "$lambda_l1\n",
       "[1] 3.867425\n",
       "\n",
       "$lambda_l2\n",
       "[1] 2.963876\n",
       "\n",
       "$max_bin\n",
       "[1] 31\n",
       "\n",
       "$bagging_fraction\n",
       "[1] 0.929265\n",
       "\n",
       "$pos_bagging_fraction\n",
       "[1] 1\n",
       "\n",
       "$neg_bagging_fraction\n",
       "[1] 1\n",
       "\n",
       "$is_unbalance\n",
       "[1] FALSE\n",
       "\n",
       "$scale_pos_weight\n",
       "[1] 1\n",
       "\n",
       "$drop_rate\n",
       "[1] 0.1\n",
       "\n",
       "$max_drop\n",
       "[1] 50\n",
       "\n",
       "$skip_drop\n",
       "[1] 0.5\n",
       "\n",
       "$extra_trees\n",
       "[1] FALSE\n",
       "\n",
       "$num_iterations\n",
       "[1] 753\n",
       "\n",
       "$learning_rate\n",
       "[1] 0.02031546\n",
       "\n",
       "$feature_fraction\n",
       "[1] 0.4455054\n",
       "\n",
       "$num_leaves\n",
       "[1] 209\n",
       "\n",
       "$min_data_in_leaf\n",
       "[1] 403\n"
      ]
     },
     "metadata": {},
     "output_type": "display_data"
    }
   ],
   "source": [
    "param_final <- modifyList(PARAM$lgbm$param_fijos,\n",
    "  PARAM$out$lgbm$mejores_hiperparametros)\n",
    "\n",
    "param_final"
   ]
  },
  {
   "cell_type": "markdown",
   "metadata": {
    "id": "TZIYn4l95TBH"
   },
   "source": [
    "#### Training\n",
    "Genero el modelo final, siempre sobre TODOS los datos de  final_train, sin hacer ningun tipo de undersampling de la clase mayoritaria"
   ]
  },
  {
   "cell_type": "code",
   "execution_count": 30,
   "metadata": {
    "id": "vPLsd4mMRe4u"
   },
   "outputs": [],
   "source": [
    "# este punto es muy SUTIL  y será revisado en la Clase 05\n",
    "\n",
    "param_normalizado <- copy(param_final)\n",
    "param_normalizado$min_data_in_leaf <-  param_final$min_data_in_leaf / PARAM$trainingstrategy$undersampling"
   ]
  },
  {
   "cell_type": "code",
   "execution_count": 31,
   "metadata": {
    "id": "WRI_-taRwOXO"
   },
   "outputs": [],
   "source": [
    "  # entreno LightGBM\n",
    "\n",
    "  modelo_final <- lgb.train(\n",
    "    data= dtrain,\n",
    "    param= param_normalizado\n",
    "  )"
   ]
  },
  {
   "cell_type": "code",
   "execution_count": 32,
   "metadata": {
    "id": "_bkhnCvj0g3Q"
   },
   "outputs": [],
   "source": [
    "# ahora imprimo la importancia de variables\n",
    "\n",
    "tb_importancia <- as.data.table(lgb.importance(modelo_final))\n",
    "archivo_importancia <- \"impo.txt\"\n",
    "\n",
    "fwrite(tb_importancia,\n",
    "  file= archivo_importancia,\n",
    "  sep= \"\\t\"\n",
    ")"
   ]
  },
  {
   "cell_type": "code",
   "execution_count": 33,
   "metadata": {
    "id": "lZ3sLmbh0kFj"
   },
   "outputs": [],
   "source": [
    "# grabo a disco el modelo en un formato para seres humanos ... ponele ...\n",
    "\n",
    "lgb.save(modelo_final, \"modelo.txt\" )"
   ]
  },
  {
   "cell_type": "markdown",
   "metadata": {
    "id": "VEtp2--t5Ymg"
   },
   "source": [
    "### Scoring"
   ]
  },
  {
   "cell_type": "markdown",
   "metadata": {
    "id": "hI5008Mj5ZdI"
   },
   "source": [
    "Aplico el modelo final a los datos del futuro"
   ]
  },
  {
   "cell_type": "code",
   "execution_count": 34,
   "metadata": {
    "id": "PimBY3N_0ryP"
   },
   "outputs": [],
   "source": [
    "# aplico el modelo a los datos sin clase\n",
    "dfuture <- dataset[foto_mes == 202109]\n",
    "\n",
    "# aplico el modelo a los datos nuevos\n",
    "prediccion <- predict(\n",
    "  modelo_final,\n",
    "  data.matrix(dfuture[, campos_buenos, with= FALSE])\n",
    ")"
   ]
  },
  {
   "cell_type": "markdown",
   "metadata": {
    "id": "D26rNRh55gpw"
   },
   "source": [
    "#### Tabla Prediccion"
   ]
  },
  {
   "cell_type": "code",
   "execution_count": 35,
   "metadata": {
    "id": "RJwg7LHd11yu"
   },
   "outputs": [],
   "source": [
    "# tabla de prediccion\n",
    "\n",
    "tb_prediccion <- dfuture[, list(numero_de_cliente)]\n",
    "tb_prediccion[, prob := prediccion ]\n",
    "\n",
    "# grabo las probabilidad del modelo\n",
    "fwrite(tb_prediccion,\n",
    "  file= \"prediccion.txt\",\n",
    "  sep= \"\\t\"\n",
    ")"
   ]
  },
  {
   "cell_type": "markdown",
   "metadata": {
    "id": "jOt4eG_55ltv"
   },
   "source": [
    "Kaggle Competition Submit"
   ]
  },
  {
   "cell_type": "code",
   "execution_count": 36,
   "metadata": {
    "id": "gWW3tatE12je"
   },
   "outputs": [
    {
     "name": "stdout",
     "output_type": "stream",
     "text": [
      "Successfully submitted to Data Mining, Analista Sr 2025A \n",
      "Successfully submitted to Data Mining, Analista Sr 2025A \n",
      "Successfully submitted to Data Mining, Analista Sr 2025A \n",
      "Successfully submitted to Data Mining, Analista Sr 2025A \n",
      "Successfully submitted to Data Mining, Analista Sr 2025A \n"
     ]
    }
   ],
   "source": [
    "# genero archivos con los  \"envios\" mejores\n",
    "# suba TODOS los archivos a Kaggle\n",
    "\n",
    "# ordeno por probabilidad descendente\n",
    "setorder(tb_prediccion, -prob)\n",
    "\n",
    "dir.create(\"kaggle\")\n",
    "\n",
    "for (envios in PARAM$kaggle$cortes) {\n",
    "\n",
    "  tb_prediccion[, Predicted := 0L] # seteo inicial a 0\n",
    "  tb_prediccion[1:envios, Predicted := 1L] # marclo los primeros\n",
    "\n",
    "  archivo_kaggle <- paste0(\"./kaggle/KA\", PARAM$experimento, \"_\", envios, \".csv\")\n",
    "\n",
    "  # grabo el archivo\n",
    "  fwrite(tb_prediccion[, list(numero_de_cliente, Predicted)],\n",
    "    file= archivo_kaggle,\n",
    "    sep= \",\"\n",
    "  )\n",
    "\n",
    "  # subida a Kaggle, armo la linea de comando\n",
    "  comando <- \"kaggle competitions submit\"\n",
    "  competencia <- paste(\"-c\", PARAM$kaggle$competencia)\n",
    "  arch <- paste( \"-f\", archivo_kaggle)\n",
    "\n",
    "  mensaje <- paste0(\"-m 'envios=\", envios,\n",
    "  \"  semilla=\", PARAM$semilla_primigenia,\n",
    "    \"'\" )\n",
    "\n",
    "  linea <- paste( comando, competencia, arch, mensaje)\n",
    "\n",
    "  salida <- system(linea, intern=TRUE) # el submit a Kaggle\n",
    "  cat(salida, \"\\n\")\n",
    "}"
   ]
  },
  {
   "cell_type": "code",
   "execution_count": 37,
   "metadata": {
    "id": "B9tB2X4439Hg"
   },
   "outputs": [],
   "source": [
    "write_yaml( PARAM, file=\"PARAM.yml\")"
   ]
  },
  {
   "cell_type": "code",
   "execution_count": 38,
   "metadata": {
    "id": "9zA_W25c15DP"
   },
   "outputs": [
    {
     "data": {
      "text/html": [
       "'Wed Jul 23 20:39:43 2025'"
      ],
      "text/latex": [
       "'Wed Jul 23 20:39:43 2025'"
      ],
      "text/markdown": [
       "'Wed Jul 23 20:39:43 2025'"
      ],
      "text/plain": [
       "[1] \"Wed Jul 23 20:39:43 2025\""
      ]
     },
     "metadata": {},
     "output_type": "display_data"
    }
   ],
   "source": [
    "format(Sys.time(), \"%a %b %d %X %Y\")"
   ]
  },
  {
   "cell_type": "markdown",
   "metadata": {
    "id": "UdVZucdLHzZ0"
   },
   "source": [
    "Finalmente usted deberá cargar el resultado de su corrida en la Google Sheet Colaborativa,  hoja **TareaHogar04**\n",
    "<br> Siéntase libre de agregar las columnas que hagan falta a la planilla"
   ]
  },
  {
   "cell_type": "code",
   "execution_count": null,
   "metadata": {
    "id": "WMHh7uNVIJkT"
   },
   "outputs": [],
   "source": []
  }
 ],
 "metadata": {
  "colab": {
   "provenance": []
  },
  "kernelspec": {
   "display_name": "R",
   "language": "R",
   "name": "ir"
  },
  "language_info": {
   "codemirror_mode": "r",
   "file_extension": ".r",
   "mimetype": "text/x-r-source",
   "name": "R",
   "pygments_lexer": "r",
   "version": "4.4.3"
  }
 },
 "nbformat": 4,
 "nbformat_minor": 4
}
