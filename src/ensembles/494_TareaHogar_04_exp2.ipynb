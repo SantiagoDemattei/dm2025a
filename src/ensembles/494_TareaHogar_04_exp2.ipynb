{
 "cells": [
  {
   "cell_type": "markdown",
   "metadata": {
    "id": "0cEmzeUKFkPh"
   },
   "source": [
    "# Tarea para el Hogar 04"
   ]
  },
  {
   "cell_type": "markdown",
   "metadata": {
    "id": "nSICPpyTGQmC"
   },
   "source": [
    "Esta Tarea para el Hogar 02 se entrega el final de la cuarta clase\n",
    "<br> se espera de usted que intente avanzar con los desafios propuestos y que los traiga terminados para la Clase 05 que será el viernes 01-agosto"
   ]
  },
  {
   "cell_type": "markdown",
   "metadata": {
    "id": "DenyKXkiJ5JN"
   },
   "source": [
    "##  1. Cazatalentos"
   ]
  },
  {
   "cell_type": "markdown",
   "metadata": {
    "id": "l-K2_ZsZGrVD"
   },
   "source": [
    "En la Clase 03 nos hemos enfrentado a  \"La Maldicion del Ganandor\",  elegir el modelo con el mejor puntaje simple no suele ser la mejor estrategia.\n",
    "<br> Lea y ejecute el notebook  **src/CazaTalentos/CazaTalentos.ipynb**\n",
    "<br> en caso de interesarle, participe del Desafío Ordenamiento  que vence el sábado 02 de agosto a las 19:00"
   ]
  },
  {
   "cell_type": "markdown",
   "metadata": {
    "id": "K9GkTOk5J9t3"
   },
   "source": [
    "## 2. Hiperparámetros del LightGBM"
   ]
  },
  {
   "cell_type": "markdown",
   "metadata": {
    "id": "VmEFy0ukKL5T"
   },
   "source": [
    "Los objetivos de esta tarea son:\n",
    "\n",
    "\n",
    "*   Aumentar la rentabilidad de la campaña de marketing de retención proactiva de clientes.\n",
    "*   Generar un mejor modelo optimizando sus hiperparámetros\n",
    "*   Conceptual : investigar los mas relevantes hiperparámetros de LightGBM\n",
    "*   Familiarizarse con la Bayesian Optimization, sus largos tiempos de corrida y opciones para reducirlos\n",
    "*   Familiarizarse con el uso de máquinas virtuales de Google Colab\n",
    "*   Ver un pipeline completo de optimización de hiperparámetros y puesta en producción"
   ]
  },
  {
   "cell_type": "markdown",
   "metadata": {
    "id": "5yvlS6JQLRMd"
   },
   "source": [
    "LightGBM cuenta con mas de 60 hiperparámetros, siendo posible utilizar 40 al mismo tiempo, aunque no razonable.\n",
    "<br> La documentación oficial de los hiperparámetros de LightGBM es  https://lightgbm.readthedocs.io/en/latest/Parameters.html#core-parameters\n"
   ]
  },
  {
   "cell_type": "markdown",
   "metadata": {
    "id": "eydI4YNAsFaf"
   },
   "source": [
    "Se lo alerta sobre que una Optimizacion Bayesiana lleva varias horas de corrida, y usted deberá correr VARIAS optimizaciones para descubrir cuales parámetros conviene optimizar.\n",
    "<br> A pesar que la próxima clase es recien en viernes 01 de agosto, inicie la tarea con tiempo, aprenda a planificar estratégicamente sus corridas como un@ científ@  de datos."
   ]
  },
  {
   "cell_type": "markdown",
   "metadata": {
    "id": "RzU4S0SeMcpp"
   },
   "source": [
    "Es necesario investigar cuales son los hiperparámetros de LightGBM que vale la pena optimizar en una Bayesian Optimization, ya que los realmente utiles son apenas un reducido subconjunto.\n",
    "<br>Usted deberá investigar cuales son los hiperparámetros mas relevantes de LightGBM, su primer alternativa es preguntándole a su amigo con capacidades especiales ChatGPT o sus endogámicos familiares Claude, DeepSeek, Gemini, Grok, etc\n",
    "<br> La segunda alternativa es la propia documentación de LightGBM  https://lightgbm.readthedocs.io/en/latest/Parameters-Tuning.html\n"
   ]
  },
  {
   "cell_type": "markdown",
   "metadata": {
    "id": "LNptUgI_NWWG"
   },
   "source": [
    "Adicionalmente podra buscar información como la que proveen esta diminuta muestra aleatoria de artículos ligeros:\n",
    "*  https://medium.com/@sarahzouinina/a-deep-dive-into-lightgbm-how-to-choose-and-tune-parameters-7c584945842e\n",
    "*  https://www.kaggle.com/code/somang1418/tuning-hyperparameters-under-10-minutes-lgbm\n",
    "*  https://towardsdatascience.com/beginners-guide-to-the-must-know-lightgbm-hyperparameters-a0005a812702/\n",
    "\n",
    "\n",
    "<br>  La muestra anterior se brinda a modo de ejemplo, usted deberá buscar muuuuchas  fuentes adicionales de información\n",
    "<br> Tenga presente que LightGBM es el estado del arte en modelado predictivo para datasets estructurado, que son el 90% del trabajo del 95% de los Data Scientists en Argentina."
   ]
  },
  {
   "cell_type": "markdown",
   "metadata": {
    "id": "WpUThBojODyK"
   },
   "source": [
    "El desafío de esta tarea es:\n",
    "* Qué hiperparparámetros conviene optimizar?  Las recomendaciones de los artículos ligeros es siempre sensata?  Sus autores realmente hicieron experimentos o son siemplemente escritores de entretenimiento carente de base científica?\n",
    "* Elegidos los hiperparámetros, cual es el  <desde, hasta> que se debe utilizar en la Bayesian Optimization ?\n",
    "* Realmente vale la pena optimizar 10 o 16 hiperparámetros al mismo tiempo ?  No resulta contraproducente una búsqueda en un espacio de tal alta dimensionalidad ?"
   ]
  },
  {
   "cell_type": "markdown",
   "metadata": {
    "id": "PX0qg_c0yqob"
   },
   "source": [
    "#### 2.1  Seteo del ambiente en Google Colab"
   ]
  },
  {
   "cell_type": "markdown",
   "metadata": {
    "id": "NGY7H9xza7Zr"
   },
   "source": [
    "Esta parte se debe correr con el runtime en Python3\n",
    "<br>Ir al menu, Runtime -> Change Runtime Type -> Runtime type ->  **Python 3**"
   ]
  },
  {
   "cell_type": "markdown",
   "metadata": {
    "id": "7PupIBNba7Zr"
   },
   "source": [
    "Conectar la virtual machine donde esta corriendo Google Colab con el  Google Drive, para poder tener persistencia de archivos"
   ]
  },
  {
   "cell_type": "code",
   "execution_count": null,
   "metadata": {
    "id": "9LpZCst5a7Zs"
   },
   "outputs": [],
   "source": [
    "# primero establecer el Runtime de Python 3\n",
    "from google.colab import drive\n",
    "drive.mount('/content/.drive')"
   ]
  },
  {
   "cell_type": "markdown",
   "metadata": {
    "id": "JYC_F-wla7Zs"
   },
   "source": [
    "Para correr la siguiente celda es fundamental en Arranque en Frio haber copiado el archivo kaggle.json al Google Drive, en la carpeta indicada en el instructivo\n",
    "\n",
    "<br>los siguientes comando estan en shell script de Linux\n",
    "*   Crear las carpetas en el Google Drive\n",
    "*   \"instalar\" el archivo kaggle.json desde el Google Drive a la virtual machine para que pueda ser utilizado por la libreria  kaggle de Python\n",
    "*   Bajar el  **dataset_pequeno**  al  Google Drive  y tambien al disco local de la virtual machine que esta corriendo Google Colab\n",
    "\n"
   ]
  },
  {
   "cell_type": "code",
   "execution_count": null,
   "metadata": {
    "id": "XWLelftXa7Zt"
   },
   "outputs": [],
   "source": [
    "%%shell\n",
    "\n",
    "mkdir -p \"/content/.drive/My Drive/dm\"\n",
    "mkdir -p \"/content/buckets\"\n",
    "ln -s \"/content/.drive/My Drive/dm\" /content/buckets/b1\n",
    "\n",
    "mkdir -p ~/.kaggle\n",
    "cp /content/buckets/b1/kaggle/kaggle.json  ~/.kaggle\n",
    "chmod 600 ~/.kaggle/kaggle.json\n",
    "\n",
    "\n",
    "mkdir -p /content/buckets/b1/exp\n",
    "mkdir -p /content/buckets/b1/datasets\n",
    "mkdir -p /content/datasets\n",
    "\n",
    "\n",
    "\n",
    "archivo_origen=\"https://storage.googleapis.com/open-courses/itba2025-8d0a/dataset_pequeno.csv\"\n",
    "archivo_destino=\"/content/datasets/dataset_pequeno.csv\"\n",
    "archivo_destino_bucket=\"/content/buckets/b1/datasets/dataset_pequeno.csv\"\n",
    "\n",
    "if ! test -f $archivo_destino_bucket; then\n",
    "  wget  $archivo_origen  -O $archivo_destino_bucket\n",
    "fi\n",
    "\n",
    "\n",
    "if ! test -f $archivo_destino; then\n",
    "  cp  $archivo_destino_bucket  $archivo_destino\n",
    "fi\n"
   ]
  },
  {
   "cell_type": "markdown",
   "metadata": {
    "id": "oSKhZRToy2F7"
   },
   "source": [
    "### 2.2 Optimizacion Hiperparámetros"
   ]
  },
  {
   "cell_type": "markdown",
   "metadata": {
    "id": "2kwPpHAtSmix"
   },
   "source": [
    "Esta parte se debe correr con el runtime en lenguaje R Ir al menu, Runtime -> Change Runtime Type -> Runtime type -> R"
   ]
  },
  {
   "cell_type": "markdown",
   "metadata": {
    "id": "xp4-Bj3aYI8d"
   },
   "source": [
    "### 2.2.1 Inicio"
   ]
  },
  {
   "cell_type": "markdown",
   "metadata": {
    "id": "zy8YTZfESxeJ"
   },
   "source": [
    "limpio el ambiente de R"
   ]
  },
  {
   "cell_type": "code",
   "execution_count": 1,
   "metadata": {
    "id": "gBq__iAdQliq"
   },
   "outputs": [
    {
     "data": {
      "text/html": [
       "'Tue Jul 22 20:50:22 2025'"
      ],
      "text/latex": [
       "'Tue Jul 22 20:50:22 2025'"
      ],
      "text/markdown": [
       "'Tue Jul 22 20:50:22 2025'"
      ],
      "text/plain": [
       "[1] \"Tue Jul 22 20:50:22 2025\""
      ]
     },
     "metadata": {},
     "output_type": "display_data"
    }
   ],
   "source": [
    "format(Sys.time(), \"%a %b %d %X %Y\")"
   ]
  },
  {
   "cell_type": "code",
   "execution_count": 2,
   "metadata": {
    "id": "7rdVrBojS1IV"
   },
   "outputs": [
    {
     "data": {
      "text/html": [
       "<table class=\"dataframe\">\n",
       "<caption>A matrix: 2 × 6 of type dbl</caption>\n",
       "<thead>\n",
       "\t<tr><th></th><th scope=col>used</th><th scope=col>(Mb)</th><th scope=col>gc trigger</th><th scope=col>(Mb)</th><th scope=col>max used</th><th scope=col>(Mb)</th></tr>\n",
       "</thead>\n",
       "<tbody>\n",
       "\t<tr><th scope=row>Ncells</th><td> 656846</td><td>35.1</td><td>1439371</td><td>76.9</td><td>1439371</td><td>76.9</td></tr>\n",
       "\t<tr><th scope=row>Vcells</th><td>1224771</td><td> 9.4</td><td>8388608</td><td>64.0</td><td>1924961</td><td>14.7</td></tr>\n",
       "</tbody>\n",
       "</table>\n"
      ],
      "text/latex": [
       "A matrix: 2 × 6 of type dbl\n",
       "\\begin{tabular}{r|llllll}\n",
       "  & used & (Mb) & gc trigger & (Mb) & max used & (Mb)\\\\\n",
       "\\hline\n",
       "\tNcells &  656846 & 35.1 & 1439371 & 76.9 & 1439371 & 76.9\\\\\n",
       "\tVcells & 1224771 &  9.4 & 8388608 & 64.0 & 1924961 & 14.7\\\\\n",
       "\\end{tabular}\n"
      ],
      "text/markdown": [
       "\n",
       "A matrix: 2 × 6 of type dbl\n",
       "\n",
       "| <!--/--> | used | (Mb) | gc trigger | (Mb) | max used | (Mb) |\n",
       "|---|---|---|---|---|---|---|\n",
       "| Ncells |  656846 | 35.1 | 1439371 | 76.9 | 1439371 | 76.9 |\n",
       "| Vcells | 1224771 |  9.4 | 8388608 | 64.0 | 1924961 | 14.7 |\n",
       "\n"
      ],
      "text/plain": [
       "       used    (Mb) gc trigger (Mb) max used (Mb)\n",
       "Ncells  656846 35.1 1439371    76.9 1439371  76.9\n",
       "Vcells 1224771  9.4 8388608    64.0 1924961  14.7"
      ]
     },
     "metadata": {},
     "output_type": "display_data"
    }
   ],
   "source": [
    "# limpio la memoria\n",
    "rm(list=ls(all.names=TRUE)) # remove all objects\n",
    "gc(full=TRUE, verbose=FALSE) # garbage collection"
   ]
  },
  {
   "cell_type": "markdown",
   "metadata": {
    "id": "kuPfQ7ksjwW3"
   },
   "source": [
    "### 2.2.2 Carga de Librerias"
   ]
  },
  {
   "cell_type": "code",
   "execution_count": 3,
   "metadata": {
    "id": "lVyxLaJ1j1J_"
   },
   "outputs": [
    {
     "name": "stderr",
     "output_type": "stream",
     "text": [
      "Loading required package: data.table\n",
      "\n",
      "Loading required package: parallel\n",
      "\n",
      "Loading required package: primes\n",
      "\n",
      "Loading required package: rlist\n",
      "\n",
      "Loading required package: yaml\n",
      "\n",
      "Loading required package: lightgbm\n",
      "\n",
      "Loading required package: DiceKriging\n",
      "\n",
      "Loading required package: mlrMBO\n",
      "\n",
      "Loading required package: mlr\n",
      "\n",
      "Loading required package: ParamHelpers\n",
      "\n",
      "Loading required package: smoof\n",
      "\n",
      "Loading required package: checkmate\n",
      "\n",
      "\n",
      "Attaching package: ‘checkmate’\n",
      "\n",
      "\n",
      "The following object is masked from ‘package:DiceKriging’:\n",
      "\n",
      "    checkNames\n",
      "\n",
      "\n"
     ]
    }
   ],
   "source": [
    "# cargo las librerias que necesito\n",
    "require(\"data.table\")\n",
    "require(\"parallel\")\n",
    "\n",
    "if( !require(\"primes\") ) install.packages(\"primes\")\n",
    "require(\"primes\")\n",
    "\n",
    "if( !require(\"utils\") ) install.packages(\"utils\")\n",
    "require(\"utils\")\n",
    "\n",
    "if( !require(\"rlist\") ) install.packages(\"rlist\")\n",
    "require(\"rlist\")\n",
    "\n",
    "if( !require(\"yaml\")) install.packages(\"yaml\")\n",
    "require(\"yaml\")\n",
    "\n",
    "if( !require(\"lightgbm\") ) install.packages(\"lightgbm\")\n",
    "require(\"lightgbm\")\n",
    "\n",
    "if( !require(\"DiceKriging\") ) install.packages(\"DiceKriging\")\n",
    "require(\"DiceKriging\")\n",
    "\n",
    "if( !require(\"mlrMBO\") ) install.packages(\"mlrMBO\")\n",
    "require(\"mlrMBO\")"
   ]
  },
  {
   "cell_type": "markdown",
   "metadata": {
    "id": "Iz-6Qt6BUaA3"
   },
   "source": [
    "### 2.2.3 Definicion de Parametros"
   ]
  },
  {
   "cell_type": "markdown",
   "metadata": {
    "id": "cOdlKd7lUm2I"
   },
   "source": [
    "aqui debe cargar SU semilla primigenia\n",
    "<br>recuerde cambiar el numero de experimento en cada corrida nueva"
   ]
  },
  {
   "cell_type": "code",
   "execution_count": 4,
   "metadata": {
    "id": "ASYkebOu2mF6"
   },
   "outputs": [],
   "source": [
    "PARAM <- list()\n",
    "PARAM$experimento <- 4942\n",
    "PARAM$semilla_primigenia <- 100129\n"
   ]
  },
  {
   "cell_type": "code",
   "execution_count": 5,
   "metadata": {
    "id": "ezOhQdbA293o"
   },
   "outputs": [],
   "source": [
    "PARAM$kaggle$competencia <- \"data-mining-analista-sr-2025-a\"\n",
    "PARAM$kaggle$cortes <- seq(10000, 12000, by= 500)"
   ]
  },
  {
   "cell_type": "code",
   "execution_count": 6,
   "metadata": {
    "id": "jtB0Lub42rHO"
   },
   "outputs": [],
   "source": [
    "# un undersampling de 0.1  toma solo el 10% de los CONTINUA\n",
    "# undersampling de 1.0  implica tomar TODOS los datos\n",
    "\n",
    "PARAM$trainingstrategy$undersampling <- 0.5"
   ]
  },
  {
   "cell_type": "code",
   "execution_count": 7,
   "metadata": {
    "id": "OFxm-xiNUOJX"
   },
   "outputs": [],
   "source": [
    "# Parametros LightGBM\n",
    "\n",
    "PARAM$hyperparametertuning$xval_folds <- 5\n",
    "\n",
    "# parametros fijos del LightGBM que se pisaran con la parte variable de la BO\n",
    "PARAM$lgbm$param_fijos <-  list(\n",
    "  boosting= \"gbdt\", # puede ir  dart  , ni pruebe random_forest\n",
    "  objective= \"binary\",\n",
    "  metric= \"auc\",\n",
    "  first_metric_only= FALSE,\n",
    "  boost_from_average= TRUE,\n",
    "  feature_pre_filter= FALSE,\n",
    "  force_row_wise= TRUE, # para reducir warnings\n",
    "  verbosity= -100,\n",
    "\n",
    "  seed= PARAM$semilla_primigenia,\n",
    "\n",
    "  max_depth= -1L, # -1 significa no limitar,  por ahora lo dejo fijo\n",
    "  min_gain_to_split= 0, # min_gain_to_split >= 0\n",
    "  min_sum_hessian_in_leaf= 0.001, #  min_sum_hessian_in_leaf >= 0.0\n",
    "  lambda_l1= 0.0, # lambda_l1 >= 0.0\n",
    "  lambda_l2= 0.0, # lambda_l2 >= 0.0\n",
    "  max_bin= 31L, # lo debo dejar fijo, no participa de la BO\n",
    "\n",
    "  bagging_fraction= 1.0, # 0.0 < bagging_fraction <= 1.0\n",
    "  pos_bagging_fraction= 1.0, # 0.0 < pos_bagging_fraction <= 1.0\n",
    "  neg_bagging_fraction= 1.0, # 0.0 < neg_bagging_fraction <= 1.0\n",
    "  is_unbalance= FALSE, #\n",
    "  scale_pos_weight= 1.0, # scale_pos_weight > 0.0\n",
    "\n",
    "  drop_rate= 0.1, # 0.0 < neg_bagging_fraction <= 1.0\n",
    "  max_drop= 50, # <=0 means no limit\n",
    "  skip_drop= 0.5, # 0.0 <= skip_drop <= 1.0\n",
    "\n",
    "  extra_trees= FALSE,\n",
    "\n",
    "  num_iterations= 1200,\n",
    "  learning_rate= 0.02,\n",
    "  feature_fraction= 0.5,\n",
    "  num_leaves= 750,\n",
    "  min_data_in_leaf= 5000\n",
    ")\n"
   ]
  },
  {
   "cell_type": "markdown",
   "metadata": {
    "id": "D5Yj-JV4yvOt"
   },
   "source": [
    "Aqui se definen los hiperparámetros de LightGBM que participan de la Bayesian Optimization\n",
    "<br> si es un numero entero debe ir  makeIntegerParam\n",
    "<br> si es un numero real (con decimales) debe ir  makeNumericParam\n",
    "<br> es muy importante leer cuales son un lower y upper  permitidos y ademas razonables"
   ]
  },
  {
   "cell_type": "code",
   "execution_count": 9,
   "metadata": {
    "id": "jENpR26ZyuS8"
   },
   "outputs": [],
   "source": [
    "# Aqui se cargan los bordes de los hiperparametros de la BO\n",
    "PARAM$hypeparametertuning$hs <- makeParamSet(\n",
    "  makeIntegerParam(\"num_iterations\", lower=700L, upper=1000L),\n",
    "  makeNumericParam(\"learning_rate\", lower=0.01, upper=0.03),\n",
    "  makeNumericParam(\"feature_fraction\", lower=0.3, upper=0.5),\n",
    "  makeIntegerParam(\"min_data_in_leaf\", lower=200L, upper=500L),\n",
    "  makeIntegerParam(\"num_leaves\", lower=150L, upper=250L),\n",
    "  makeIntegerParam(\"max_depth\", lower=9L, upper=13L),\n",
    "  makeNumericParam(\"lambda_l1\", lower=3.0, upper=5.0),\n",
    "  makeNumericParam(\"lambda_l2\", lower=3.0, upper=5.0),\n",
    "  makeNumericParam(\"min_gain_to_split\", lower=0.05, upper=0.2),\n",
    "  makeNumericParam(\"bagging_fraction\", lower=0.85, upper=1.0)\n",
    ")"
   ]
  },
  {
   "cell_type": "markdown",
   "metadata": {
    "id": "-_RPFUb3zMoW"
   },
   "source": [
    "A mayor cantidad de hiperparámetros, se debe aumentar las iteraciones de la Bayesian Optimization\n",
    "<br> 30 es un valor muy tacaño, pero corre rápido\n",
    "<br> deberia partir de 50, alcanzando los 100 si se dispone de tiempo"
   ]
  },
  {
   "cell_type": "code",
   "execution_count": 10,
   "metadata": {
    "id": "q5Rd3pnbzSiG"
   },
   "outputs": [],
   "source": [
    "PARAM$hyperparametertuning$iteraciones <- 50 # iteraciones bayesianas"
   ]
  },
  {
   "cell_type": "markdown",
   "metadata": {
    "id": "4RWZXL1VZjMI"
   },
   "source": [
    "### 2.2.4  Preprocesamiento"
   ]
  },
  {
   "cell_type": "code",
   "execution_count": 11,
   "metadata": {
    "id": "j3toG9-lZm4K"
   },
   "outputs": [],
   "source": [
    "# carpeta de trabajo\n",
    "\n",
    "setwd(\"/content/buckets/b1/exp\")\n",
    "experimento_folder <- paste0(\"HT\", PARAM$experimento)\n",
    "dir.create(experimento_folder, showWarnings=FALSE)\n",
    "setwd( paste0(\"/content/buckets/b1/exp/\", experimento_folder ))"
   ]
  },
  {
   "cell_type": "code",
   "execution_count": 12,
   "metadata": {
    "id": "FM3lxKoLZ643"
   },
   "outputs": [],
   "source": [
    "# lectura del dataset\n",
    "\n",
    "dataset <- fread(\"/content/datasets/dataset_pequeno.csv\")"
   ]
  },
  {
   "cell_type": "code",
   "execution_count": 13,
   "metadata": {
    "id": "OsJ-91UeZ-I_"
   },
   "outputs": [],
   "source": [
    "dataset_train <- dataset[foto_mes %in% c(202107)]"
   ]
  },
  {
   "cell_type": "code",
   "execution_count": 14,
   "metadata": {
    "id": "vrWE7BE0aB2J"
   },
   "outputs": [],
   "source": [
    "# paso la clase a binaria que tome valores {0,1}  enteros\n",
    "#  BAJA+1 y BAJA+2  son  1,   CONTINUA es 0\n",
    "\n",
    "dataset_train[,\n",
    "  clase01 := ifelse(clase_ternaria %in% c(\"BAJA+2\",\"BAJA+1\"), 1L, 0L)\n",
    "]"
   ]
  },
  {
   "cell_type": "code",
   "execution_count": 15,
   "metadata": {
    "id": "jP7YlQBnaW6W"
   },
   "outputs": [],
   "source": [
    "# defino los datos que forma parte del training\n",
    "# aqui se hace el undersampling de los CONTINUA\n",
    "# notar que para esto utilizo la SEGUNDA semilla\n",
    "\n",
    "set.seed(PARAM$semilla_primigenia, kind = \"L'Ecuyer-CMRG\")\n",
    "dataset_train[, azar := runif(nrow(dataset_train))]\n",
    "dataset_train[, training := 0L]\n",
    "\n",
    "dataset_train[\n",
    "  foto_mes %in% c(202107) &\n",
    "    (azar <= PARAM$trainingstrategy$undersampling | clase_ternaria %in% c(\"BAJA+1\", \"BAJA+2\")),\n",
    "  training := 1L\n",
    "]"
   ]
  },
  {
   "cell_type": "code",
   "execution_count": 16,
   "metadata": {
    "id": "xElu4s5W4rX7"
   },
   "outputs": [],
   "source": [
    "# los campos que se van a utilizar\n",
    "\n",
    "campos_buenos <- setdiff(\n",
    "  colnames(dataset_train),\n",
    "  c(\"clase_ternaria\", \"clase01\", \"azar\", \"training\")\n",
    ")"
   ]
  },
  {
   "cell_type": "code",
   "execution_count": 17,
   "metadata": {
    "id": "PppMHcGYaaol"
   },
   "outputs": [
    {
     "data": {
      "text/html": [
       "83679"
      ],
      "text/latex": [
       "83679"
      ],
      "text/markdown": [
       "83679"
      ],
      "text/plain": [
       "[1] 83679"
      ]
     },
     "metadata": {},
     "output_type": "display_data"
    },
    {
     "data": {
      "text/html": [
       "154"
      ],
      "text/latex": [
       "154"
      ],
      "text/markdown": [
       "154"
      ],
      "text/plain": [
       "[1] 154"
      ]
     },
     "metadata": {},
     "output_type": "display_data"
    }
   ],
   "source": [
    "# dejo los datos en el formato que necesita LightGBM\n",
    "\n",
    "dtrain <- lgb.Dataset(\n",
    "  data= data.matrix(dataset_train[training == 1L, campos_buenos, with= FALSE]),\n",
    "  label= dataset_train[training == 1L, clase01],\n",
    "  free_raw_data= FALSE\n",
    ")\n",
    "\n",
    "nrow(dtrain)\n",
    "ncol(dtrain)"
   ]
  },
  {
   "cell_type": "markdown",
   "metadata": {
    "id": "Ta-EkOu3cphF"
   },
   "source": [
    "2.2.5 Configuracion Bayesian Optimization"
   ]
  },
  {
   "cell_type": "code",
   "execution_count": 18,
   "metadata": {
    "id": "cjgfurjdfiXb"
   },
   "outputs": [],
   "source": [
    "# En el argumento x llegan los parmaetros de la bayesiana\n",
    "#  devuelve la AUC en cross validation del modelo entrenado\n",
    "\n",
    "EstimarGanancia_AUC_lightgbm <- function(x) {\n",
    "\n",
    "  # x pisa (o agrega) a param_fijos\n",
    "  param_completo <- modifyList(PARAM$lgbm$param_fijos, x)\n",
    "\n",
    "  # entreno LightGBM\n",
    "  modelocv <- lgb.cv(\n",
    "    data= dtrain,\n",
    "    nfold= PARAM$hyperparametertuning$xval_folds,\n",
    "    stratified= TRUE,\n",
    "    param= param_completo\n",
    "  )\n",
    "\n",
    "  # obtengo la ganancia\n",
    "  AUC <- modelocv$best_score\n",
    "\n",
    "  # hago espacio en la memoria\n",
    "  rm(modelocv)\n",
    "  gc(full= TRUE, verbose= FALSE)\n",
    "\n",
    "  message(format(Sys.time(), \"%a %b %d %X %Y\"), \" AUC \", AUC)\n",
    "\n",
    "  return(AUC)\n",
    "}"
   ]
  },
  {
   "cell_type": "code",
   "execution_count": 19,
   "metadata": {
    "id": "WLi_o1hocvN-"
   },
   "outputs": [],
   "source": [
    "# Aqui comienza la configuracion de la Bayesian Optimization\n",
    "\n",
    "# en este archivo quedan la evolucion binaria de la BO\n",
    "kbayesiana <- \"bayesiana.RDATA\"\n",
    "\n",
    "funcion_optimizar <- EstimarGanancia_AUC_lightgbm # la funcion que voy a maximizar\n",
    "\n",
    "configureMlr(show.learner.output= FALSE)\n",
    "\n",
    "# configuro la busqueda bayesiana,  los hiperparametros que se van a optimizar\n",
    "# por favor, no desesperarse por lo complejo\n",
    "\n",
    "obj.fun <- makeSingleObjectiveFunction(\n",
    "  fn= funcion_optimizar, # la funcion que voy a maximizar\n",
    "  minimize= FALSE, # estoy Maximizando la ganancia\n",
    "  noisy= TRUE,\n",
    "  par.set= PARAM$hypeparametertuning$hs, # definido al comienzo del programa\n",
    "  has.simple.signature= FALSE # paso los parametros en una lista\n",
    ")\n",
    "\n",
    "# cada 600 segundos guardo el resultado intermedio\n",
    "ctrl <- makeMBOControl(\n",
    "  save.on.disk.at.time= 600, # se graba cada 600 segundos\n",
    "  save.file.path= kbayesiana\n",
    ") # se graba cada 600 segundos\n",
    "\n",
    "# indico la cantidad de iteraciones que va a tener la Bayesian Optimization\n",
    "ctrl <- setMBOControlTermination(\n",
    "  ctrl,\n",
    "  iters= PARAM$hyperparametertuning$iteraciones\n",
    ") # cantidad de iteraciones\n",
    "\n",
    "# defino el método estandar para la creacion de los puntos iniciales,\n",
    "# los \"No Inteligentes\"\n",
    "ctrl <- setMBOControlInfill(ctrl, crit= makeMBOInfillCritEI())\n",
    "\n",
    "# establezco la funcion que busca el maximo\n",
    "surr.km <- makeLearner(\n",
    "  \"regr.km\",\n",
    "  predict.type= \"se\",\n",
    "  covtype= \"matern3_2\",\n",
    "  control= list(trace= TRUE)\n",
    ")\n"
   ]
  },
  {
   "cell_type": "markdown",
   "metadata": {
    "id": "_uUeVo5pc4zc"
   },
   "source": [
    "2.2.6 Corrida Bayesian Optimization"
   ]
  },
  {
   "cell_type": "code",
   "execution_count": 20,
   "metadata": {
    "id": "RcABNaKGciaz"
   },
   "outputs": [
    {
     "name": "stderr",
     "output_type": "stream",
     "text": [
      "Computing y column(s) for design. Not provided.\n",
      "\n",
      "Tue Jul 22 20:54:09 2025 AUC 0.930923196765135\n",
      "\n",
      "Tue Jul 22 20:54:47 2025 AUC 0.930827659260126\n",
      "\n",
      "Tue Jul 22 20:55:20 2025 AUC 0.930703551397939\n",
      "\n",
      "Tue Jul 22 20:55:55 2025 AUC 0.930461848448213\n",
      "\n",
      "Tue Jul 22 20:56:26 2025 AUC 0.930353650055551\n",
      "\n",
      "Tue Jul 22 20:57:05 2025 AUC 0.9305594347786\n",
      "\n",
      "Tue Jul 22 20:57:39 2025 AUC 0.931175247604888\n",
      "\n",
      "Tue Jul 22 20:58:14 2025 AUC 0.93063165644494\n",
      "\n",
      "Tue Jul 22 20:58:50 2025 AUC 0.931278482146205\n",
      "\n",
      "Tue Jul 22 20:59:23 2025 AUC 0.930664276924428\n",
      "\n",
      "Tue Jul 22 21:00:00 2025 AUC 0.930637849879706\n",
      "\n",
      "Tue Jul 22 21:00:30 2025 AUC 0.931373598079255\n",
      "\n",
      "Tue Jul 22 21:01:11 2025 AUC 0.930938878330094\n",
      "\n",
      "Tue Jul 22 21:02:00 2025 AUC 0.930902601408029\n",
      "\n",
      "Tue Jul 22 21:02:37 2025 AUC 0.931273790861921\n",
      "\n",
      "Tue Jul 22 21:03:18 2025 AUC 0.930739250494786\n",
      "\n",
      "Tue Jul 22 21:03:53 2025 AUC 0.930701397023934\n",
      "\n",
      "Tue Jul 22 21:04:34 2025 AUC 0.931641440019752\n",
      "\n",
      "Tue Jul 22 21:05:07 2025 AUC 0.930694379283243\n",
      "\n",
      "Tue Jul 22 21:05:40 2025 AUC 0.931199183188975\n",
      "\n",
      "Tue Jul 22 21:06:16 2025 AUC 0.930789947856287\n",
      "\n",
      "Tue Jul 22 21:06:54 2025 AUC 0.930083722365299\n",
      "\n",
      "Tue Jul 22 21:07:25 2025 AUC 0.930497274083286\n",
      "\n",
      "Tue Jul 22 21:07:59 2025 AUC 0.930846453650049\n",
      "\n",
      "Tue Jul 22 21:08:30 2025 AUC 0.93104606970261\n",
      "\n",
      "Tue Jul 22 21:09:19 2025 AUC 0.930837853011362\n",
      "\n",
      "Tue Jul 22 21:10:04 2025 AUC 0.931105700253047\n",
      "\n",
      "Tue Jul 22 21:10:37 2025 AUC 0.930526908524535\n",
      "\n",
      "Tue Jul 22 21:11:12 2025 AUC 0.931381615255311\n",
      "\n",
      "Tue Jul 22 21:11:44 2025 AUC 0.930779837968892\n",
      "\n",
      "Tue Jul 22 21:12:21 2025 AUC 0.93133349316517\n",
      "\n",
      "Tue Jul 22 21:13:03 2025 AUC 0.930755675919255\n",
      "\n",
      "Tue Jul 22 21:13:40 2025 AUC 0.930438775475897\n",
      "\n",
      "Tue Jul 22 21:14:12 2025 AUC 0.930193482951406\n",
      "\n",
      "Tue Jul 22 21:14:48 2025 AUC 0.930154203944397\n",
      "\n",
      "Tue Jul 22 21:15:18 2025 AUC 0.931307035760542\n",
      "\n",
      "Tue Jul 22 21:15:54 2025 AUC 0.930623636897435\n",
      "\n",
      "Tue Jul 22 21:16:34 2025 AUC 0.931048855971099\n",
      "\n",
      "Tue Jul 22 21:17:21 2025 AUC 0.93060137739268\n",
      "\n",
      "Tue Jul 22 21:17:52 2025 AUC 0.930482070460833\n",
      "\n",
      "[mbo] 0: num_iterations=891; learning_rate=0.0235; feature_fraction=0.317; min_data_in_leaf=209; num_leaves=196; max_depth=12; lambda_l1=4.74; lambda_l2=3.96; min_gain_to_split=0.171; bagging_fraction=0.931 : y = 0.931 : 32.3 secs : initdesign\n",
      "\n",
      "[mbo] 0: num_iterations=810; learning_rate=0.0177; feature_fraction=0.436; min_data_in_leaf=429; num_leaves=204; max_depth=12; lambda_l1=4.06; lambda_l2=3.34; min_gain_to_split=0.169; bagging_fraction=0.922 : y = 0.931 : 37.0 secs : initdesign\n",
      "\n",
      "[mbo] 0: num_iterations=820; learning_rate=0.0192; feature_fraction=0.474; min_data_in_leaf=312; num_leaves=174; max_depth=10; lambda_l1=4.69; lambda_l2=4.11; min_gain_to_split=0.183; bagging_fraction=0.915 : y = 0.931 : 33.0 secs : initdesign\n",
      "\n",
      "[mbo] 0: num_iterations=813; learning_rate=0.0195; feature_fraction=0.34; min_data_in_leaf=352; num_leaves=161; max_depth=10; lambda_l1=3.67; lambda_l2=3.84; min_gain_to_split=0.0909; bagging_fraction=0.971 : y = 0.93 : 35.8 secs : initdesign\n",
      "\n",
      "[mbo] 0: num_iterations=841; learning_rate=0.0254; feature_fraction=0.347; min_data_in_leaf=385; num_leaves=219; max_depth=11; lambda_l1=4.13; lambda_l2=3.94; min_gain_to_split=0.179; bagging_fraction=0.877 : y = 0.93 : 30.3 secs : initdesign\n",
      "\n",
      "[mbo] 0: num_iterations=881; learning_rate=0.0203; feature_fraction=0.381; min_data_in_leaf=372; num_leaves=182; max_depth=12; lambda_l1=3.34; lambda_l2=4.59; min_gain_to_split=0.146; bagging_fraction=0.851 : y = 0.931 : 39.5 secs : initdesign\n",
      "\n",
      "[mbo] 0: num_iterations=779; learning_rate=0.0125; feature_fraction=0.414; min_data_in_leaf=241; num_leaves=185; max_depth=9; lambda_l1=4.2; lambda_l2=3.75; min_gain_to_split=0.127; bagging_fraction=0.952 : y = 0.931 : 33.8 secs : initdesign\n",
      "\n",
      "[mbo] 0: num_iterations=794; learning_rate=0.0109; feature_fraction=0.357; min_data_in_leaf=364; num_leaves=237; max_depth=10; lambda_l1=3.92; lambda_l2=3.51; min_gain_to_split=0.121; bagging_fraction=0.908 : y = 0.931 : 34.5 secs : initdesign\n",
      "\n",
      "[mbo] 0: num_iterations=754; learning_rate=0.0213; feature_fraction=0.401; min_data_in_leaf=258; num_leaves=199; max_depth=13; lambda_l1=4.05; lambda_l2=3.11; min_gain_to_split=0.106; bagging_fraction=0.928 : y = 0.931 : 37.0 secs : initdesign\n",
      "\n",
      "[mbo] 0: num_iterations=878; learning_rate=0.0268; feature_fraction=0.378; min_data_in_leaf=326; num_leaves=206; max_depth=11; lambda_l1=4.28; lambda_l2=4.37; min_gain_to_split=0.112; bagging_fraction=0.974 : y = 0.931 : 32.8 secs : initdesign\n",
      "\n",
      "[mbo] 0: num_iterations=930; learning_rate=0.0185; feature_fraction=0.37; min_data_in_leaf=482; num_leaves=194; max_depth=9; lambda_l1=4.77; lambda_l2=3.02; min_gain_to_split=0.0989; bagging_fraction=0.982 : y = 0.931 : 37.2 secs : initdesign\n",
      "\n",
      "[mbo] 0: num_iterations=700; learning_rate=0.015; feature_fraction=0.429; min_data_in_leaf=452; num_leaves=177; max_depth=9; lambda_l1=3.71; lambda_l2=4.43; min_gain_to_split=0.137; bagging_fraction=0.993 : y = 0.931 : 29.7 secs : initdesign\n",
      "\n",
      "[mbo] 0: num_iterations=967; learning_rate=0.0223; feature_fraction=0.398; min_data_in_leaf=378; num_leaves=216; max_depth=13; lambda_l1=3.78; lambda_l2=3.19; min_gain_to_split=0.115; bagging_fraction=0.949 : y = 0.931 : 40.5 secs : initdesign\n",
      "\n",
      "[mbo] 0: num_iterations=939; learning_rate=0.0116; feature_fraction=0.499; min_data_in_leaf=298; num_leaves=250; max_depth=12; lambda_l1=3.99; lambda_l2=3.87; min_gain_to_split=0.133; bagging_fraction=0.872 : y = 0.931 : 49.4 secs : initdesign\n",
      "\n",
      "[mbo] 0: num_iterations=769; learning_rate=0.0259; feature_fraction=0.455; min_data_in_leaf=460; num_leaves=229; max_depth=11; lambda_l1=3.18; lambda_l2=4.27; min_gain_to_split=0.0684; bagging_fraction=0.94 : y = 0.931 : 36.8 secs : initdesign\n",
      "\n",
      "[mbo] 0: num_iterations=834; learning_rate=0.0207; feature_fraction=0.45; min_data_in_leaf=223; num_leaves=222; max_depth=10; lambda_l1=4.33; lambda_l2=3.59; min_gain_to_split=0.0587; bagging_fraction=0.94 : y = 0.931 : 41.3 secs : initdesign\n",
      "\n",
      "[mbo] 0: num_iterations=751; learning_rate=0.0247; feature_fraction=0.425; min_data_in_leaf=231; num_leaves=170; max_depth=11; lambda_l1=3.38; lambda_l2=4.06; min_gain_to_split=0.143; bagging_fraction=0.894 : y = 0.931 : 34.8 secs : initdesign\n",
      "\n",
      "[mbo] 0: num_iterations=941; learning_rate=0.0174; feature_fraction=0.323; min_data_in_leaf=350; num_leaves=191; max_depth=11; lambda_l1=4.41; lambda_l2=4.86; min_gain_to_split=0.0938; bagging_fraction=0.888 : y = 0.932 : 40.9 secs : initdesign\n",
      "\n",
      "[mbo] 0: num_iterations=921; learning_rate=0.0239; feature_fraction=0.386; min_data_in_leaf=423; num_leaves=187; max_depth=12; lambda_l1=4.24; lambda_l2=4.95; min_gain_to_split=0.192; bagging_fraction=0.981 : y = 0.931 : 33.3 secs : initdesign\n",
      "\n",
      "[mbo] 0: num_iterations=738; learning_rate=0.0164; feature_fraction=0.441; min_data_in_leaf=402; num_leaves=163; max_depth=11; lambda_l1=4.64; lambda_l2=4.21; min_gain_to_split=0.15; bagging_fraction=0.857 : y = 0.931 : 33.4 secs : initdesign\n",
      "\n",
      "[mbo] 0: num_iterations=789; learning_rate=0.0263; feature_fraction=0.308; min_data_in_leaf=285; num_leaves=248; max_depth=13; lambda_l1=3.8; lambda_l2=3.27; min_gain_to_split=0.076; bagging_fraction=0.934 : y = 0.931 : 35.7 secs : initdesign\n",
      "\n",
      "[mbo] 0: num_iterations=871; learning_rate=0.0159; feature_fraction=0.303; min_data_in_leaf=341; num_leaves=227; max_depth=11; lambda_l1=3.26; lambda_l2=4.18; min_gain_to_split=0.16; bagging_fraction=0.96 : y = 0.93 : 37.6 secs : initdesign\n",
      "\n",
      "[mbo] 0: num_iterations=901; learning_rate=0.0226; feature_fraction=0.332; min_data_in_leaf=281; num_leaves=202; max_depth=9; lambda_l1=4.59; lambda_l2=3.06; min_gain_to_split=0.152; bagging_fraction=0.901 : y = 0.93 : 31.3 secs : initdesign\n",
      "\n",
      "[mbo] 0: num_iterations=905; learning_rate=0.0289; feature_fraction=0.42; min_data_in_leaf=403; num_leaves=154; max_depth=9; lambda_l1=3.87; lambda_l2=4.79; min_gain_to_split=0.104; bagging_fraction=0.884 : y = 0.931 : 33.8 secs : initdesign\n",
      "\n",
      "[mbo] 0: num_iterations=800; learning_rate=0.0186; feature_fraction=0.329; min_data_in_leaf=467; num_leaves=235; max_depth=9; lambda_l1=3.11; lambda_l2=4.74; min_gain_to_split=0.0625; bagging_fraction=0.905 : y = 0.931 : 31.6 secs : initdesign\n",
      "\n",
      "[mbo] 0: num_iterations=960; learning_rate=0.0122; feature_fraction=0.458; min_data_in_leaf=266; num_leaves=178; max_depth=12; lambda_l1=4.81; lambda_l2=3.72; min_gain_to_split=0.129; bagging_fraction=0.947 : y = 0.931 : 48.4 secs : initdesign\n",
      "\n",
      "[mbo] 0: num_iterations=857; learning_rate=0.0132; feature_fraction=0.47; min_data_in_leaf=329; num_leaves=212; max_depth=12; lambda_l1=3.42; lambda_l2=4.31; min_gain_to_split=0.0566; bagging_fraction=0.997 : y = 0.931 : 44.8 secs : initdesign\n",
      "\n",
      "[mbo] 0: num_iterations=727; learning_rate=0.0217; feature_fraction=0.392; min_data_in_leaf=446; num_leaves=209; max_depth=11; lambda_l1=4.91; lambda_l2=4.84; min_gain_to_split=0.0506; bagging_fraction=0.913 : y = 0.931 : 33.1 secs : initdesign\n",
      "\n",
      "[mbo] 0: num_iterations=734; learning_rate=0.0169; feature_fraction=0.435; min_data_in_leaf=416; num_leaves=245; max_depth=13; lambda_l1=3.24; lambda_l2=4.55; min_gain_to_split=0.156; bagging_fraction=0.86 : y = 0.931 : 35.3 secs : initdesign\n",
      "\n",
      "[mbo] 0: num_iterations=845; learning_rate=0.029; feature_fraction=0.493; min_data_in_leaf=294; num_leaves=240; max_depth=10; lambda_l1=3.03; lambda_l2=3.38; min_gain_to_split=0.166; bagging_fraction=0.896 : y = 0.931 : 31.8 secs : initdesign\n",
      "\n",
      "[mbo] 0: num_iterations=978; learning_rate=0.0278; feature_fraction=0.483; min_data_in_leaf=478; num_leaves=156; max_depth=13; lambda_l1=4.85; lambda_l2=3.67; min_gain_to_split=0.0817; bagging_fraction=0.958 : y = 0.931 : 36.9 secs : initdesign\n",
      "\n",
      "[mbo] 0: num_iterations=997; learning_rate=0.015; feature_fraction=0.409; min_data_in_leaf=496; num_leaves=232; max_depth=10; lambda_l1=4.46; lambda_l2=3.64; min_gain_to_split=0.0792; bagging_fraction=0.862 : y = 0.931 : 42.3 secs : initdesign\n",
      "\n",
      "[mbo] 0: num_iterations=953; learning_rate=0.0296; feature_fraction=0.363; min_data_in_leaf=248; num_leaves=188; max_depth=13; lambda_l1=3.56; lambda_l2=3.44; min_gain_to_split=0.0849; bagging_fraction=0.868 : y = 0.93 : 36.5 secs : initdesign\n",
      "\n",
      "[mbo] 0: num_iterations=988; learning_rate=0.0273; feature_fraction=0.488; min_data_in_leaf=315; num_leaves=215; max_depth=9; lambda_l1=4.99; lambda_l2=4.01; min_gain_to_split=0.188; bagging_fraction=0.918 : y = 0.93 : 32.4 secs : initdesign\n",
      "\n",
      "[mbo] 0: num_iterations=718; learning_rate=0.0143; feature_fraction=0.477; min_data_in_leaf=273; num_leaves=151; max_depth=12; lambda_l1=3.46; lambda_l2=4.64; min_gain_to_split=0.177; bagging_fraction=0.989 : y = 0.93 : 36.2 secs : initdesign\n",
      "\n",
      "[mbo] 0: num_iterations=714; learning_rate=0.0282; feature_fraction=0.341; min_data_in_leaf=202; num_leaves=159; max_depth=10; lambda_l1=4.5; lambda_l2=4.67; min_gain_to_split=0.0966; bagging_fraction=0.964 : y = 0.931 : 29.8 secs : initdesign\n",
      "\n",
      "[mbo] 0: num_iterations=859; learning_rate=0.0136; feature_fraction=0.311; min_data_in_leaf=488; num_leaves=166; max_depth=13; lambda_l1=4.38; lambda_l2=3.46; min_gain_to_split=0.193; bagging_fraction=0.88 : y = 0.931 : 36.0 secs : initdesign\n",
      "\n",
      "[mbo] 0: num_iterations=914; learning_rate=0.0113; feature_fraction=0.352; min_data_in_leaf=219; num_leaves=167; max_depth=9; lambda_l1=3.51; lambda_l2=4.47; min_gain_to_split=0.0701; bagging_fraction=0.875 : y = 0.931 : 39.8 secs : initdesign\n",
      "\n",
      "[mbo] 0: num_iterations=971; learning_rate=0.0103; feature_fraction=0.461; min_data_in_leaf=391; num_leaves=239; max_depth=13; lambda_l1=3.06; lambda_l2=4.97; min_gain_to_split=0.197; bagging_fraction=0.968 : y = 0.931 : 47.7 secs : initdesign\n",
      "\n",
      "[mbo] 0: num_iterations=765; learning_rate=0.0243; feature_fraction=0.369; min_data_in_leaf=433; num_leaves=223; max_depth=10; lambda_l1=3.64; lambda_l2=3.22; min_gain_to_split=0.122; bagging_fraction=0.987 : y = 0.93 : 31.0 secs : initdesign\n",
      "\n",
      "Saved the current state after iteration 1 in the file bayesiana.RDATA.\n",
      "\n",
      "Tue Jul 22 21:18:33 2025 AUC 0.930767293499798\n",
      "\n",
      "[mbo] 1: num_iterations=905; learning_rate=0.0152; feature_fraction=0.377; min_data_in_leaf=455; num_leaves=161; max_depth=10; lambda_l1=4.4; lambda_l2=4.42; min_gain_to_split=0.156; bagging_fraction=0.96 : y = 0.931 : 36.8 secs : infill_ei\n",
      "\n",
      "Tue Jul 22 21:19:15 2025 AUC 0.930185646349376\n",
      "\n",
      "[mbo] 2: num_iterations=982; learning_rate=0.016; feature_fraction=0.328; min_data_in_leaf=352; num_leaves=204; max_depth=11; lambda_l1=4.54; lambda_l2=4.65; min_gain_to_split=0.122; bagging_fraction=0.888 : y = 0.93 : 41.3 secs : infill_ei\n",
      "\n",
      "Tue Jul 22 21:19:56 2025 AUC 0.930562945253885\n",
      "\n",
      "[mbo] 3: num_iterations=937; learning_rate=0.0205; feature_fraction=0.433; min_data_in_leaf=350; num_leaves=189; max_depth=11; lambda_l1=4.72; lambda_l2=4.9; min_gain_to_split=0.0918; bagging_fraction=0.907 : y = 0.931 : 40.4 secs : infill_ei\n",
      "\n",
      "Tue Jul 22 21:20:37 2025 AUC 0.930485579463411\n",
      "\n",
      "[mbo] 4: num_iterations=941; learning_rate=0.0166; feature_fraction=0.323; min_data_in_leaf=316; num_leaves=227; max_depth=10; lambda_l1=3.92; lambda_l2=4.52; min_gain_to_split=0.0947; bagging_fraction=0.919 : y = 0.93 : 40.1 secs : infill_ei\n",
      "\n",
      "Tue Jul 22 21:21:14 2025 AUC 0.931237736529944\n",
      "\n",
      "[mbo] 5: num_iterations=834; learning_rate=0.0172; feature_fraction=0.321; min_data_in_leaf=347; num_leaves=191; max_depth=11; lambda_l1=3.7; lambda_l2=4.8; min_gain_to_split=0.122; bagging_fraction=0.864 : y = 0.931 : 36.8 secs : infill_ei\n",
      "\n",
      "Tue Jul 22 21:21:45 2025 AUC 0.931284977391046\n",
      "\n",
      "[mbo] 6: num_iterations=765; learning_rate=0.0243; feature_fraction=0.307; min_data_in_leaf=296; num_leaves=213; max_depth=11; lambda_l1=3.31; lambda_l2=3.57; min_gain_to_split=0.167; bagging_fraction=0.983 : y = 0.931 : 29.9 secs : infill_ei\n",
      "\n",
      "Tue Jul 22 21:22:25 2025 AUC 0.930621892895465\n",
      "\n",
      "[mbo] 7: num_iterations=836; learning_rate=0.0199; feature_fraction=0.477; min_data_in_leaf=374; num_leaves=224; max_depth=13; lambda_l1=3.44; lambda_l2=4.21; min_gain_to_split=0.141; bagging_fraction=0.859 : y = 0.931 : 39.9 secs : infill_ei\n",
      "\n",
      "Tue Jul 22 21:23:02 2025 AUC 0.930591915631587\n",
      "\n",
      "[mbo] 8: num_iterations=791; learning_rate=0.0105; feature_fraction=0.377; min_data_in_leaf=337; num_leaves=209; max_depth=12; lambda_l1=3.59; lambda_l2=4.02; min_gain_to_split=0.136; bagging_fraction=0.98 : y = 0.931 : 36.5 secs : infill_ei\n",
      "\n",
      "Tue Jul 22 21:23:38 2025 AUC 0.931271151902778\n",
      "\n",
      "[mbo] 9: num_iterations=949; learning_rate=0.0216; feature_fraction=0.321; min_data_in_leaf=337; num_leaves=191; max_depth=11; lambda_l1=4.74; lambda_l2=4.35; min_gain_to_split=0.127; bagging_fraction=0.964 : y = 0.931 : 34.7 secs : infill_ei\n",
      "\n",
      "Tue Jul 22 21:24:17 2025 AUC 0.930237766992381\n",
      "\n",
      "[mbo] 10: num_iterations=952; learning_rate=0.0223; feature_fraction=0.326; min_data_in_leaf=402; num_leaves=191; max_depth=10; lambda_l1=3.86; lambda_l2=3.32; min_gain_to_split=0.0864; bagging_fraction=0.887 : y = 0.93 : 38.2 secs : infill_ei\n",
      "\n",
      "Tue Jul 22 21:24:53 2025 AUC 0.931291062099658\n",
      "\n",
      "[mbo] 11: num_iterations=835; learning_rate=0.0192; feature_fraction=0.323; min_data_in_leaf=375; num_leaves=191; max_depth=12; lambda_l1=3.8; lambda_l2=4.88; min_gain_to_split=0.13; bagging_fraction=0.997 : y = 0.931 : 35.5 secs : infill_ei\n",
      "\n",
      "Tue Jul 22 21:25:34 2025 AUC 0.930790043222031\n",
      "\n",
      "[mbo] 12: num_iterations=944; learning_rate=0.0203; feature_fraction=0.323; min_data_in_leaf=413; num_leaves=210; max_depth=12; lambda_l1=3.84; lambda_l2=4.86; min_gain_to_split=0.104; bagging_fraction=0.897 : y = 0.931 : 40.1 secs : infill_ei\n",
      "\n",
      "Tue Jul 22 21:26:13 2025 AUC 0.930346233731486\n",
      "\n",
      "[mbo] 13: num_iterations=902; learning_rate=0.0174; feature_fraction=0.433; min_data_in_leaf=351; num_leaves=191; max_depth=11; lambda_l1=4.61; lambda_l2=4.71; min_gain_to_split=0.15; bagging_fraction=0.954 : y = 0.93 : 38.6 secs : infill_ei\n",
      "\n",
      "Tue Jul 22 21:26:49 2025 AUC 0.931052327724174\n",
      "\n",
      "[mbo] 14: num_iterations=918; learning_rate=0.0174; feature_fraction=0.322; min_data_in_leaf=323; num_leaves=193; max_depth=10; lambda_l1=4.6; lambda_l2=4.7; min_gain_to_split=0.181; bagging_fraction=0.858 : y = 0.931 : 35.5 secs : infill_ei\n",
      "\n",
      "Tue Jul 22 21:27:34 2025 AUC 0.931806071881668\n",
      "\n",
      "[mbo] 15: num_iterations=999; learning_rate=0.0176; feature_fraction=0.417; min_data_in_leaf=323; num_leaves=196; max_depth=10; lambda_l1=4.18; lambda_l2=3.57; min_gain_to_split=0.111; bagging_fraction=0.854 : y = 0.932 : 44.1 secs : infill_ei\n",
      "\n",
      "Tue Jul 22 21:28:04 2025 AUC 0.930719448700703\n",
      "\n",
      "[mbo] 16: num_iterations=855; learning_rate=0.0297; feature_fraction=0.36; min_data_in_leaf=234; num_leaves=207; max_depth=11; lambda_l1=4.65; lambda_l2=3.91; min_gain_to_split=0.172; bagging_fraction=0.874 : y = 0.931 : 29.0 secs : infill_ei\n",
      "\n",
      "Saved the current state after iteration 17 in the file bayesiana.RDATA.\n",
      "\n",
      "Tue Jul 22 21:28:54 2025 AUC 0.930429177553723\n",
      "\n",
      "[mbo] 17: num_iterations=962; learning_rate=0.0163; feature_fraction=0.478; min_data_in_leaf=245; num_leaves=190; max_depth=13; lambda_l1=4.88; lambda_l2=3.62; min_gain_to_split=0.0941; bagging_fraction=0.952 : y = 0.93 : 46.1 secs : infill_ei\n",
      "\n",
      "Tue Jul 22 21:29:29 2025 AUC 0.93110128958154\n",
      "\n",
      "[mbo] 18: num_iterations=829; learning_rate=0.0191; feature_fraction=0.317; min_data_in_leaf=464; num_leaves=210; max_depth=11; lambda_l1=4.43; lambda_l2=3.15; min_gain_to_split=0.0583; bagging_fraction=0.969 : y = 0.931 : 34.8 secs : infill_ei\n",
      "\n",
      "Tue Jul 22 21:30:03 2025 AUC 0.930644821955496\n",
      "\n",
      "[mbo] 19: num_iterations=848; learning_rate=0.0252; feature_fraction=0.347; min_data_in_leaf=260; num_leaves=250; max_depth=12; lambda_l1=4.13; lambda_l2=3.66; min_gain_to_split=0.117; bagging_fraction=0.877 : y = 0.931 : 33.3 secs : infill_ei\n",
      "\n",
      "Tue Jul 22 21:30:47 2025 AUC 0.93128625944776\n",
      "\n",
      "[mbo] 20: num_iterations=976; learning_rate=0.0175; feature_fraction=0.346; min_data_in_leaf=340; num_leaves=207; max_depth=12; lambda_l1=4.13; lambda_l2=4.03; min_gain_to_split=0.103; bagging_fraction=0.858 : y = 0.931 : 43.4 secs : infill_ei\n",
      "\n",
      "Tue Jul 22 21:31:30 2025 AUC 0.93119977989739\n",
      "\n",
      "[mbo] 21: num_iterations=999; learning_rate=0.0175; feature_fraction=0.446; min_data_in_leaf=320; num_leaves=202; max_depth=12; lambda_l1=4.02; lambda_l2=3.64; min_gain_to_split=0.168; bagging_fraction=0.856 : y = 0.931 : 41.6 secs : infill_ei\n",
      "\n",
      "Tue Jul 22 21:32:17 2025 AUC 0.930724986768216\n",
      "\n",
      "[mbo] 22: num_iterations=979; learning_rate=0.0157; feature_fraction=0.418; min_data_in_leaf=288; num_leaves=196; max_depth=12; lambda_l1=4.18; lambda_l2=3.62; min_gain_to_split=0.115; bagging_fraction=0.879 : y = 0.931 : 46.5 secs : infill_ei\n",
      "\n",
      "Tue Jul 22 21:32:59 2025 AUC 0.930516144679893\n",
      "\n",
      "[mbo] 23: num_iterations=903; learning_rate=0.0188; feature_fraction=0.383; min_data_in_leaf=448; num_leaves=228; max_depth=12; lambda_l1=4.69; lambda_l2=4.44; min_gain_to_split=0.0848; bagging_fraction=0.963 : y = 0.931 : 40.3 secs : infill_ei\n",
      "\n",
      "Tue Jul 22 21:33:38 2025 AUC 0.930391827254594\n",
      "\n",
      "[mbo] 24: num_iterations=918; learning_rate=0.0135; feature_fraction=0.367; min_data_in_leaf=466; num_leaves=160; max_depth=10; lambda_l1=3.56; lambda_l2=3.41; min_gain_to_split=0.0805; bagging_fraction=0.896 : y = 0.93 : 39.2 secs : infill_ei\n",
      "\n",
      "Tue Jul 22 21:34:14 2025 AUC 0.930669968474685\n",
      "\n",
      "[mbo] 25: num_iterations=862; learning_rate=0.0181; feature_fraction=0.323; min_data_in_leaf=321; num_leaves=188; max_depth=11; lambda_l1=4.66; lambda_l2=4.86; min_gain_to_split=0.169; bagging_fraction=0.945 : y = 0.931 : 35.0 secs : infill_ei\n",
      "\n",
      "Tue Jul 22 21:34:51 2025 AUC 0.931662829521813\n",
      "\n",
      "[mbo] 26: num_iterations=875; learning_rate=0.0188; feature_fraction=0.385; min_data_in_leaf=305; num_leaves=233; max_depth=9; lambda_l1=3.24; lambda_l2=4.59; min_gain_to_split=0.144; bagging_fraction=0.997 : y = 0.932 : 35.6 secs : infill_ei\n",
      "\n",
      "Tue Jul 22 21:35:23 2025 AUC 0.929582113416938\n",
      "\n",
      "[mbo] 27: num_iterations=875; learning_rate=0.0288; feature_fraction=0.421; min_data_in_leaf=252; num_leaves=233; max_depth=12; lambda_l1=3.82; lambda_l2=3.38; min_gain_to_split=0.196; bagging_fraction=0.909 : y = 0.93 : 31.7 secs : infill_ei\n",
      "\n",
      "Tue Jul 22 21:36:02 2025 AUC 0.930385763786999\n",
      "\n",
      "[mbo] 28: num_iterations=828; learning_rate=0.0172; feature_fraction=0.473; min_data_in_leaf=469; num_leaves=219; max_depth=12; lambda_l1=4.42; lambda_l2=4.69; min_gain_to_split=0.108; bagging_fraction=0.957 : y = 0.93 : 38.1 secs : infill_ei\n",
      "\n",
      "Tue Jul 22 21:36:37 2025 AUC 0.929960315832225\n",
      "\n",
      "[mbo] 29: num_iterations=882; learning_rate=0.024; feature_fraction=0.322; min_data_in_leaf=355; num_leaves=191; max_depth=12; lambda_l1=4.32; lambda_l2=3.27; min_gain_to_split=0.0927; bagging_fraction=0.949 : y = 0.93 : 34.5 secs : infill_ei\n",
      "\n",
      "Tue Jul 22 21:37:20 2025 AUC 0.930537189783851\n",
      "\n",
      "[mbo] 30: num_iterations=896; learning_rate=0.0124; feature_fraction=0.422; min_data_in_leaf=280; num_leaves=211; max_depth=12; lambda_l1=4.4; lambda_l2=3.26; min_gain_to_split=0.156; bagging_fraction=0.94 : y = 0.931 : 42.0 secs : infill_ei\n",
      "\n",
      "Tue Jul 22 21:37:58 2025 AUC 0.931181892467726\n",
      "\n",
      "[mbo] 31: num_iterations=842; learning_rate=0.0175; feature_fraction=0.433; min_data_in_leaf=281; num_leaves=193; max_depth=10; lambda_l1=4.24; lambda_l2=4.46; min_gain_to_split=0.109; bagging_fraction=0.864 : y = 0.931 : 37.7 secs : infill_ei\n",
      "\n",
      "Tue Jul 22 21:38:43 2025 AUC 0.930546002317628\n",
      "\n",
      "[mbo] 32: num_iterations=999; learning_rate=0.0176; feature_fraction=0.474; min_data_in_leaf=391; num_leaves=196; max_depth=10; lambda_l1=3.99; lambda_l2=4.74; min_gain_to_split=0.136; bagging_fraction=0.867 : y = 0.931 : 43.7 secs : infill_ei\n",
      "\n",
      "Saved the current state after iteration 33 in the file bayesiana.RDATA.\n",
      "\n",
      "Tue Jul 22 21:39:28 2025 AUC 0.930503309329834\n",
      "\n",
      "[mbo] 33: num_iterations=901; learning_rate=0.0175; feature_fraction=0.401; min_data_in_leaf=323; num_leaves=241; max_depth=10; lambda_l1=3.64; lambda_l2=4.19; min_gain_to_split=0.0861; bagging_fraction=0.904 : y = 0.931 : 41.0 secs : infill_ei\n",
      "\n",
      "Tue Jul 22 21:40:05 2025 AUC 0.930641849407516\n",
      "\n",
      "[mbo] 34: num_iterations=845; learning_rate=0.0201; feature_fraction=0.378; min_data_in_leaf=258; num_leaves=168; max_depth=9; lambda_l1=3.98; lambda_l2=3.31; min_gain_to_split=0.102; bagging_fraction=0.94 : y = 0.931 : 36.0 secs : infill_ei\n",
      "\n",
      "Tue Jul 22 21:40:45 2025 AUC 0.930369021103681\n",
      "\n",
      "[mbo] 35: num_iterations=872; learning_rate=0.0141; feature_fraction=0.396; min_data_in_leaf=267; num_leaves=230; max_depth=10; lambda_l1=3.86; lambda_l2=4.56; min_gain_to_split=0.122; bagging_fraction=0.998 : y = 0.93 : 39.2 secs : infill_ei\n",
      "\n",
      "Tue Jul 22 21:41:27 2025 AUC 0.930233886815436\n",
      "\n",
      "[mbo] 36: num_iterations=914; learning_rate=0.0193; feature_fraction=0.336; min_data_in_leaf=218; num_leaves=157; max_depth=12; lambda_l1=4.1; lambda_l2=3.39; min_gain_to_split=0.101; bagging_fraction=0.888 : y = 0.93 : 41.1 secs : infill_ei\n",
      "\n",
      "Tue Jul 22 21:42:10 2025 AUC 0.930860711989327\n",
      "\n",
      "[mbo] 37: num_iterations=954; learning_rate=0.0125; feature_fraction=0.323; min_data_in_leaf=339; num_leaves=210; max_depth=11; lambda_l1=3.37; lambda_l2=4.76; min_gain_to_split=0.0978; bagging_fraction=0.982 : y = 0.931 : 42.1 secs : infill_ei\n",
      "\n",
      "Tue Jul 22 21:42:46 2025 AUC 0.930275781409983\n",
      "\n",
      "[mbo] 38: num_iterations=957; learning_rate=0.0252; feature_fraction=0.417; min_data_in_leaf=323; num_leaves=220; max_depth=11; lambda_l1=4.9; lambda_l2=3.64; min_gain_to_split=0.0954; bagging_fraction=0.881 : y = 0.93 : 35.2 secs : infill_ei\n",
      "\n",
      "Tue Jul 22 21:43:26 2025 AUC 0.930356303619011\n",
      "\n",
      "[mbo] 39: num_iterations=946; learning_rate=0.0176; feature_fraction=0.384; min_data_in_leaf=444; num_leaves=199; max_depth=11; lambda_l1=3.38; lambda_l2=4.55; min_gain_to_split=0.184; bagging_fraction=0.96 : y = 0.93 : 39.0 secs : infill_ei\n",
      "\n",
      "Tue Jul 22 21:43:57 2025 AUC 0.930654815746387\n",
      "\n",
      "[mbo] 40: num_iterations=754; learning_rate=0.0193; feature_fraction=0.422; min_data_in_leaf=400; num_leaves=232; max_depth=9; lambda_l1=3.62; lambda_l2=4; min_gain_to_split=0.145; bagging_fraction=0.982 : y = 0.931 : 30.7 secs : infill_ei\n",
      "\n",
      "Tue Jul 22 21:44:40 2025 AUC 0.931368035082593\n",
      "\n",
      "[mbo] 41: num_iterations=933; learning_rate=0.0205; feature_fraction=0.499; min_data_in_leaf=465; num_leaves=250; max_depth=11; lambda_l1=4.02; lambda_l2=3.73; min_gain_to_split=0.0841; bagging_fraction=0.865 : y = 0.931 : 42.4 secs : infill_ei\n",
      "\n",
      "Tue Jul 22 21:45:18 2025 AUC 0.930578230213486\n",
      "\n",
      "[mbo] 42: num_iterations=850; learning_rate=0.0156; feature_fraction=0.34; min_data_in_leaf=250; num_leaves=219; max_depth=12; lambda_l1=4.04; lambda_l2=3.29; min_gain_to_split=0.19; bagging_fraction=0.929 : y = 0.931 : 36.7 secs : infill_ei\n",
      "\n",
      "Tue Jul 22 21:45:55 2025 AUC 0.930836208079721\n",
      "\n",
      "[mbo] 43: num_iterations=854; learning_rate=0.0236; feature_fraction=0.487; min_data_in_leaf=435; num_leaves=249; max_depth=11; lambda_l1=3.12; lambda_l2=4.07; min_gain_to_split=0.144; bagging_fraction=0.934 : y = 0.931 : 36.6 secs : infill_ei\n",
      "\n",
      "Tue Jul 22 21:46:38 2025 AUC 0.93002742179525\n",
      "\n",
      "[mbo] 44: num_iterations=958; learning_rate=0.0176; feature_fraction=0.414; min_data_in_leaf=296; num_leaves=161; max_depth=11; lambda_l1=4.68; lambda_l2=3.8; min_gain_to_split=0.105; bagging_fraction=0.853 : y = 0.93 : 42.1 secs : infill_ei\n",
      "\n",
      "Tue Jul 22 21:47:10 2025 AUC 0.93058188451523\n",
      "\n",
      "[mbo] 45: num_iterations=764; learning_rate=0.0188; feature_fraction=0.326; min_data_in_leaf=306; num_leaves=214; max_depth=9; lambda_l1=3.41; lambda_l2=4.59; min_gain_to_split=0.168; bagging_fraction=0.991 : y = 0.931 : 30.7 secs : infill_ei\n",
      "\n",
      "Tue Jul 22 21:47:50 2025 AUC 0.93150991970318\n",
      "\n",
      "[mbo] 46: num_iterations=871; learning_rate=0.0175; feature_fraction=0.421; min_data_in_leaf=323; num_leaves=196; max_depth=10; lambda_l1=3.16; lambda_l2=3.25; min_gain_to_split=0.0967; bagging_fraction=0.856 : y = 0.932 : 38.9 secs : infill_ei\n",
      "\n",
      "Tue Jul 22 21:48:29 2025 AUC 0.93136523563668\n",
      "\n",
      "[mbo] 47: num_iterations=812; learning_rate=0.0176; feature_fraction=0.433; min_data_in_leaf=295; num_leaves=196; max_depth=10; lambda_l1=4.26; lambda_l2=3.47; min_gain_to_split=0.108; bagging_fraction=0.852 : y = 0.931 : 37.5 secs : infill_ei\n",
      "\n",
      "Tue Jul 22 21:49:04 2025 AUC 0.931014152312916\n",
      "\n",
      "[mbo] 48: num_iterations=780; learning_rate=0.024; feature_fraction=0.431; min_data_in_leaf=301; num_leaves=169; max_depth=9; lambda_l1=3.49; lambda_l2=3.15; min_gain_to_split=0.0505; bagging_fraction=0.882 : y = 0.931 : 34.7 secs : infill_ei\n",
      "\n",
      "Saved the current state after iteration 49 in the file bayesiana.RDATA.\n",
      "\n",
      "Tue Jul 22 21:49:49 2025 AUC 0.931273937848291\n",
      "\n",
      "[mbo] 49: num_iterations=907; learning_rate=0.0175; feature_fraction=0.403; min_data_in_leaf=320; num_leaves=199; max_depth=10; lambda_l1=4.36; lambda_l2=4.13; min_gain_to_split=0.104; bagging_fraction=0.856 : y = 0.931 : 38.7 secs : infill_ei\n",
      "\n",
      "Tue Jul 22 21:50:27 2025 AUC 0.931081011347394\n",
      "\n",
      "[mbo] 50: num_iterations=998; learning_rate=0.0222; feature_fraction=0.414; min_data_in_leaf=375; num_leaves=196; max_depth=10; lambda_l1=4.6; lambda_l2=3.5; min_gain_to_split=0.117; bagging_fraction=0.917 : y = 0.931 : 37.6 secs : infill_ei\n",
      "\n",
      "Saved the final state in the file bayesiana.RDATA\n",
      "\n"
     ]
    }
   ],
   "source": [
    "# inicio la optimizacion bayesiana, retomando si ya existe\n",
    "# es la celda mas lenta de todo el notebook\n",
    "\n",
    "if (!file.exists(kbayesiana)) {\n",
    "  bayesiana_salida <- mbo(obj.fun, learner= surr.km, control= ctrl)\n",
    "} else {\n",
    "  bayesiana_salida <- mboContinue(kbayesiana) # retomo en caso que ya exista\n",
    "}"
   ]
  },
  {
   "cell_type": "code",
   "execution_count": 21,
   "metadata": {
    "id": "ssk5nnMk6INK"
   },
   "outputs": [
    {
     "data": {
      "text/html": [
       "<style>\n",
       ".list-inline {list-style: none; margin:0; padding: 0}\n",
       ".list-inline>li {display: inline-block}\n",
       ".list-inline>li:not(:last-child)::after {content: \"\\00b7\"; padding: 0 .5ex}\n",
       "</style>\n",
       "<ol class=list-inline><li>'num_iterations'</li><li>'learning_rate'</li><li>'feature_fraction'</li><li>'min_data_in_leaf'</li><li>'num_leaves'</li><li>'max_depth'</li><li>'lambda_l1'</li><li>'lambda_l2'</li><li>'min_gain_to_split'</li><li>'bagging_fraction'</li><li>'y'</li><li>'dob'</li><li>'eol'</li><li>'error.message'</li><li>'exec.time'</li><li>'ei'</li><li>'error.model'</li><li>'train.time'</li><li>'prop.type'</li><li>'propose.time'</li><li>'se'</li><li>'mean'</li></ol>\n"
      ],
      "text/latex": [
       "\\begin{enumerate*}\n",
       "\\item 'num\\_iterations'\n",
       "\\item 'learning\\_rate'\n",
       "\\item 'feature\\_fraction'\n",
       "\\item 'min\\_data\\_in\\_leaf'\n",
       "\\item 'num\\_leaves'\n",
       "\\item 'max\\_depth'\n",
       "\\item 'lambda\\_l1'\n",
       "\\item 'lambda\\_l2'\n",
       "\\item 'min\\_gain\\_to\\_split'\n",
       "\\item 'bagging\\_fraction'\n",
       "\\item 'y'\n",
       "\\item 'dob'\n",
       "\\item 'eol'\n",
       "\\item 'error.message'\n",
       "\\item 'exec.time'\n",
       "\\item 'ei'\n",
       "\\item 'error.model'\n",
       "\\item 'train.time'\n",
       "\\item 'prop.type'\n",
       "\\item 'propose.time'\n",
       "\\item 'se'\n",
       "\\item 'mean'\n",
       "\\end{enumerate*}\n"
      ],
      "text/markdown": [
       "1. 'num_iterations'\n",
       "2. 'learning_rate'\n",
       "3. 'feature_fraction'\n",
       "4. 'min_data_in_leaf'\n",
       "5. 'num_leaves'\n",
       "6. 'max_depth'\n",
       "7. 'lambda_l1'\n",
       "8. 'lambda_l2'\n",
       "9. 'min_gain_to_split'\n",
       "10. 'bagging_fraction'\n",
       "11. 'y'\n",
       "12. 'dob'\n",
       "13. 'eol'\n",
       "14. 'error.message'\n",
       "15. 'exec.time'\n",
       "16. 'ei'\n",
       "17. 'error.model'\n",
       "18. 'train.time'\n",
       "19. 'prop.type'\n",
       "20. 'propose.time'\n",
       "21. 'se'\n",
       "22. 'mean'\n",
       "\n",
       "\n"
      ],
      "text/plain": [
       " [1] \"num_iterations\"    \"learning_rate\"     \"feature_fraction\" \n",
       " [4] \"min_data_in_leaf\"  \"num_leaves\"        \"max_depth\"        \n",
       " [7] \"lambda_l1\"         \"lambda_l2\"         \"min_gain_to_split\"\n",
       "[10] \"bagging_fraction\"  \"y\"                 \"dob\"              \n",
       "[13] \"eol\"               \"error.message\"     \"exec.time\"        \n",
       "[16] \"ei\"                \"error.model\"       \"train.time\"       \n",
       "[19] \"prop.type\"         \"propose.time\"      \"se\"               \n",
       "[22] \"mean\"             "
      ]
     },
     "metadata": {},
     "output_type": "display_data"
    }
   ],
   "source": [
    "\n",
    "tb_bayesiana <- as.data.table(bayesiana_salida$opt.path)\n",
    "colnames( tb_bayesiana)"
   ]
  },
  {
   "cell_type": "code",
   "execution_count": 22,
   "metadata": {
    "id": "u4zq-vknhjGc"
   },
   "outputs": [],
   "source": [
    "# almaceno los resultados de la Bayesian Optimization\n",
    "# y capturo los mejores hiperparametros encontrados\n",
    "\n",
    "tb_bayesiana <- as.data.table(bayesiana_salida$opt.path)\n",
    "\n",
    "tb_bayesiana[, iter := .I]\n",
    "\n",
    "# ordeno en forma descendente por AUC = y\n",
    "setorder(tb_bayesiana, -y)\n",
    "\n",
    "# grabo para eventualmente poder utilizarlos en OTRA corrida\n",
    "fwrite( tb_bayesiana,\n",
    "  file= \"BO_log.txt\",\n",
    "  sep= \"\\t\"\n",
    ")\n",
    "\n",
    "# los mejores hiperparámetros son los que quedaron en el registro 1 de la tabla\n",
    "PARAM$out$lgbm$mejores_hiperparametros <- tb_bayesiana[\n",
    "  1, # el primero es el de mejor AUC\n",
    "  setdiff(colnames(tb_bayesiana),\n",
    "    c(\"y\",\"dob\",\"eol\",\"error.message\",\"exec.time\",\"ei\",\"error.model\",\n",
    "      \"train.time\",\"prop.type\",\"propose.time\",\"se\",\"mean\",\"iter\")),\n",
    "  with= FALSE\n",
    "]\n",
    "\n",
    "\n",
    "PARAM$out$lgbm$y <- tb_bayesiana[1, y]\n"
   ]
  },
  {
   "cell_type": "code",
   "execution_count": 23,
   "metadata": {
    "id": "E8v2eA427N8e"
   },
   "outputs": [],
   "source": [
    "write_yaml( PARAM, file=\"PARAM.yml\")"
   ]
  },
  {
   "cell_type": "code",
   "execution_count": 24,
   "metadata": {
    "id": "iBTWexVU7PGC"
   },
   "outputs": [
    {
     "name": "stdout",
     "output_type": "stream",
     "text": [
      "   num_iterations learning_rate feature_fraction min_data_in_leaf num_leaves\n",
      "            <int>         <num>            <num>            <int>      <int>\n",
      "1:            999    0.01756288        0.4167571              323        196\n",
      "   max_depth lambda_l1 lambda_l2 min_gain_to_split bagging_fraction\n",
      "       <int>     <num>     <num>             <num>            <num>\n",
      "1:        10  4.176683  3.565814          0.111077        0.8538742\n",
      "[1] 0.9318061\n"
     ]
    }
   ],
   "source": [
    "print(PARAM$out$lgbm$mejores_hiperparametros)\n",
    "print(PARAM$out$lgbm$y)"
   ]
  },
  {
   "cell_type": "markdown",
   "metadata": {
    "id": "TKsVZmAnhwX-"
   },
   "source": [
    "## 2.3  Produccion"
   ]
  },
  {
   "cell_type": "markdown",
   "metadata": {
    "id": "RQ_C33Tr5B_9"
   },
   "source": [
    "### Final Training\n",
    "Construyo el modelo final, que es uno solo, no hace ningun tipo de particion < training, validation, testing>]"
   ]
  },
  {
   "cell_type": "code",
   "execution_count": 25,
   "metadata": {
    "id": "eDqfyA14hzwv"
   },
   "outputs": [],
   "source": [
    "setwd(\"/content/buckets/b1/exp\")\n",
    "experimento <- paste0(\"exp\", PARAM$experimento)\n",
    "dir.create(experimento, showWarnings= FALSE)\n",
    "setwd( paste0(\"/content/buckets/b1/exp/\", experimento ))"
   ]
  },
  {
   "cell_type": "markdown",
   "metadata": {
    "id": "8qFmFivf5Iet"
   },
   "source": [
    "#### Final Training Dataset\n",
    "\n",
    "Aqui esta la gran decision de en qué meses hago el Final Training\n",
    "<br> debo utilizar los mejores hiperparámetros que encontré en la optimización bayesiana"
   ]
  },
  {
   "cell_type": "code",
   "execution_count": 26,
   "metadata": {
    "id": "lg5WVZncvc7H"
   },
   "outputs": [],
   "source": [
    "# clase01\n",
    "dataset[, clase01 := ifelse(clase_ternaria %in% c(\"BAJA+1\", \"BAJA+2\"), 1L, 0L)]"
   ]
  },
  {
   "cell_type": "code",
   "execution_count": 27,
   "metadata": {
    "id": "yc9QzXREv0xf"
   },
   "outputs": [],
   "source": [
    "dataset_train <- dataset[foto_mes %in% c(202107)]"
   ]
  },
  {
   "cell_type": "code",
   "execution_count": 28,
   "metadata": {
    "id": "thjdqEBLuvNt"
   },
   "outputs": [],
   "source": [
    "# dejo los datos en el formato que necesita LightGBM\n",
    "\n",
    "dtrain <- lgb.Dataset(\n",
    "  data= data.matrix(dataset_train[, campos_buenos, with= FALSE]),\n",
    "  label= dataset_train[, clase01]\n",
    ")"
   ]
  },
  {
   "cell_type": "markdown",
   "metadata": {
    "id": "VNUa-WSz5Oqu"
   },
   "source": [
    "#### Final Training Hyperparameters"
   ]
  },
  {
   "cell_type": "code",
   "execution_count": 29,
   "metadata": {
    "id": "FgCcvBfEwImu"
   },
   "outputs": [
    {
     "data": {
      "text/html": [
       "<dl>\n",
       "\t<dt>$boosting</dt>\n",
       "\t\t<dd>'gbdt'</dd>\n",
       "\t<dt>$objective</dt>\n",
       "\t\t<dd>'binary'</dd>\n",
       "\t<dt>$metric</dt>\n",
       "\t\t<dd>'auc'</dd>\n",
       "\t<dt>$first_metric_only</dt>\n",
       "\t\t<dd>FALSE</dd>\n",
       "\t<dt>$boost_from_average</dt>\n",
       "\t\t<dd>TRUE</dd>\n",
       "\t<dt>$feature_pre_filter</dt>\n",
       "\t\t<dd>FALSE</dd>\n",
       "\t<dt>$force_row_wise</dt>\n",
       "\t\t<dd>TRUE</dd>\n",
       "\t<dt>$verbosity</dt>\n",
       "\t\t<dd>-100</dd>\n",
       "\t<dt>$seed</dt>\n",
       "\t\t<dd>100129</dd>\n",
       "\t<dt>$max_depth</dt>\n",
       "\t\t<dd>10</dd>\n",
       "\t<dt>$min_gain_to_split</dt>\n",
       "\t\t<dd>0.111076957177943</dd>\n",
       "\t<dt>$min_sum_hessian_in_leaf</dt>\n",
       "\t\t<dd>0.001</dd>\n",
       "\t<dt>$lambda_l1</dt>\n",
       "\t\t<dd>4.17668337270109</dd>\n",
       "\t<dt>$lambda_l2</dt>\n",
       "\t\t<dd>3.56581361875619</dd>\n",
       "\t<dt>$max_bin</dt>\n",
       "\t\t<dd>31</dd>\n",
       "\t<dt>$bagging_fraction</dt>\n",
       "\t\t<dd>0.853874188543305</dd>\n",
       "\t<dt>$pos_bagging_fraction</dt>\n",
       "\t\t<dd>1</dd>\n",
       "\t<dt>$neg_bagging_fraction</dt>\n",
       "\t\t<dd>1</dd>\n",
       "\t<dt>$is_unbalance</dt>\n",
       "\t\t<dd>FALSE</dd>\n",
       "\t<dt>$scale_pos_weight</dt>\n",
       "\t\t<dd>1</dd>\n",
       "\t<dt>$drop_rate</dt>\n",
       "\t\t<dd>0.1</dd>\n",
       "\t<dt>$max_drop</dt>\n",
       "\t\t<dd>50</dd>\n",
       "\t<dt>$skip_drop</dt>\n",
       "\t\t<dd>0.5</dd>\n",
       "\t<dt>$extra_trees</dt>\n",
       "\t\t<dd>FALSE</dd>\n",
       "\t<dt>$num_iterations</dt>\n",
       "\t\t<dd>999</dd>\n",
       "\t<dt>$learning_rate</dt>\n",
       "\t\t<dd>0.017562878837357</dd>\n",
       "\t<dt>$feature_fraction</dt>\n",
       "\t\t<dd>0.416757076150056</dd>\n",
       "\t<dt>$num_leaves</dt>\n",
       "\t\t<dd>196</dd>\n",
       "\t<dt>$min_data_in_leaf</dt>\n",
       "\t\t<dd>323</dd>\n",
       "</dl>\n"
      ],
      "text/latex": [
       "\\begin{description}\n",
       "\\item[\\$boosting] 'gbdt'\n",
       "\\item[\\$objective] 'binary'\n",
       "\\item[\\$metric] 'auc'\n",
       "\\item[\\$first\\_metric\\_only] FALSE\n",
       "\\item[\\$boost\\_from\\_average] TRUE\n",
       "\\item[\\$feature\\_pre\\_filter] FALSE\n",
       "\\item[\\$force\\_row\\_wise] TRUE\n",
       "\\item[\\$verbosity] -100\n",
       "\\item[\\$seed] 100129\n",
       "\\item[\\$max\\_depth] 10\n",
       "\\item[\\$min\\_gain\\_to\\_split] 0.111076957177943\n",
       "\\item[\\$min\\_sum\\_hessian\\_in\\_leaf] 0.001\n",
       "\\item[\\$lambda\\_l1] 4.17668337270109\n",
       "\\item[\\$lambda\\_l2] 3.56581361875619\n",
       "\\item[\\$max\\_bin] 31\n",
       "\\item[\\$bagging\\_fraction] 0.853874188543305\n",
       "\\item[\\$pos\\_bagging\\_fraction] 1\n",
       "\\item[\\$neg\\_bagging\\_fraction] 1\n",
       "\\item[\\$is\\_unbalance] FALSE\n",
       "\\item[\\$scale\\_pos\\_weight] 1\n",
       "\\item[\\$drop\\_rate] 0.1\n",
       "\\item[\\$max\\_drop] 50\n",
       "\\item[\\$skip\\_drop] 0.5\n",
       "\\item[\\$extra\\_trees] FALSE\n",
       "\\item[\\$num\\_iterations] 999\n",
       "\\item[\\$learning\\_rate] 0.017562878837357\n",
       "\\item[\\$feature\\_fraction] 0.416757076150056\n",
       "\\item[\\$num\\_leaves] 196\n",
       "\\item[\\$min\\_data\\_in\\_leaf] 323\n",
       "\\end{description}\n"
      ],
      "text/markdown": [
       "$boosting\n",
       ":   'gbdt'\n",
       "$objective\n",
       ":   'binary'\n",
       "$metric\n",
       ":   'auc'\n",
       "$first_metric_only\n",
       ":   FALSE\n",
       "$boost_from_average\n",
       ":   TRUE\n",
       "$feature_pre_filter\n",
       ":   FALSE\n",
       "$force_row_wise\n",
       ":   TRUE\n",
       "$verbosity\n",
       ":   -100\n",
       "$seed\n",
       ":   100129\n",
       "$max_depth\n",
       ":   10\n",
       "$min_gain_to_split\n",
       ":   0.111076957177943\n",
       "$min_sum_hessian_in_leaf\n",
       ":   0.001\n",
       "$lambda_l1\n",
       ":   4.17668337270109\n",
       "$lambda_l2\n",
       ":   3.56581361875619\n",
       "$max_bin\n",
       ":   31\n",
       "$bagging_fraction\n",
       ":   0.853874188543305\n",
       "$pos_bagging_fraction\n",
       ":   1\n",
       "$neg_bagging_fraction\n",
       ":   1\n",
       "$is_unbalance\n",
       ":   FALSE\n",
       "$scale_pos_weight\n",
       ":   1\n",
       "$drop_rate\n",
       ":   0.1\n",
       "$max_drop\n",
       ":   50\n",
       "$skip_drop\n",
       ":   0.5\n",
       "$extra_trees\n",
       ":   FALSE\n",
       "$num_iterations\n",
       ":   999\n",
       "$learning_rate\n",
       ":   0.017562878837357\n",
       "$feature_fraction\n",
       ":   0.416757076150056\n",
       "$num_leaves\n",
       ":   196\n",
       "$min_data_in_leaf\n",
       ":   323\n",
       "\n",
       "\n"
      ],
      "text/plain": [
       "$boosting\n",
       "[1] \"gbdt\"\n",
       "\n",
       "$objective\n",
       "[1] \"binary\"\n",
       "\n",
       "$metric\n",
       "[1] \"auc\"\n",
       "\n",
       "$first_metric_only\n",
       "[1] FALSE\n",
       "\n",
       "$boost_from_average\n",
       "[1] TRUE\n",
       "\n",
       "$feature_pre_filter\n",
       "[1] FALSE\n",
       "\n",
       "$force_row_wise\n",
       "[1] TRUE\n",
       "\n",
       "$verbosity\n",
       "[1] -100\n",
       "\n",
       "$seed\n",
       "[1] 100129\n",
       "\n",
       "$max_depth\n",
       "[1] 10\n",
       "\n",
       "$min_gain_to_split\n",
       "[1] 0.111077\n",
       "\n",
       "$min_sum_hessian_in_leaf\n",
       "[1] 0.001\n",
       "\n",
       "$lambda_l1\n",
       "[1] 4.176683\n",
       "\n",
       "$lambda_l2\n",
       "[1] 3.565814\n",
       "\n",
       "$max_bin\n",
       "[1] 31\n",
       "\n",
       "$bagging_fraction\n",
       "[1] 0.8538742\n",
       "\n",
       "$pos_bagging_fraction\n",
       "[1] 1\n",
       "\n",
       "$neg_bagging_fraction\n",
       "[1] 1\n",
       "\n",
       "$is_unbalance\n",
       "[1] FALSE\n",
       "\n",
       "$scale_pos_weight\n",
       "[1] 1\n",
       "\n",
       "$drop_rate\n",
       "[1] 0.1\n",
       "\n",
       "$max_drop\n",
       "[1] 50\n",
       "\n",
       "$skip_drop\n",
       "[1] 0.5\n",
       "\n",
       "$extra_trees\n",
       "[1] FALSE\n",
       "\n",
       "$num_iterations\n",
       "[1] 999\n",
       "\n",
       "$learning_rate\n",
       "[1] 0.01756288\n",
       "\n",
       "$feature_fraction\n",
       "[1] 0.4167571\n",
       "\n",
       "$num_leaves\n",
       "[1] 196\n",
       "\n",
       "$min_data_in_leaf\n",
       "[1] 323\n"
      ]
     },
     "metadata": {},
     "output_type": "display_data"
    }
   ],
   "source": [
    "param_final <- modifyList(PARAM$lgbm$param_fijos,\n",
    "  PARAM$out$lgbm$mejores_hiperparametros)\n",
    "\n",
    "param_final"
   ]
  },
  {
   "cell_type": "markdown",
   "metadata": {
    "id": "TZIYn4l95TBH"
   },
   "source": [
    "#### Training\n",
    "Genero el modelo final, siempre sobre TODOS los datos de  final_train, sin hacer ningun tipo de undersampling de la clase mayoritaria"
   ]
  },
  {
   "cell_type": "code",
   "execution_count": 30,
   "metadata": {
    "id": "vPLsd4mMRe4u"
   },
   "outputs": [],
   "source": [
    "# este punto es muy SUTIL  y será revisado en la Clase 05\n",
    "\n",
    "param_normalizado <- copy(param_final)\n",
    "param_normalizado$min_data_in_leaf <-  param_final$min_data_in_leaf / PARAM$trainingstrategy$undersampling"
   ]
  },
  {
   "cell_type": "code",
   "execution_count": 31,
   "metadata": {
    "id": "WRI_-taRwOXO"
   },
   "outputs": [],
   "source": [
    "  # entreno LightGBM\n",
    "\n",
    "  modelo_final <- lgb.train(\n",
    "    data= dtrain,\n",
    "    param= param_normalizado\n",
    "  )"
   ]
  },
  {
   "cell_type": "code",
   "execution_count": 32,
   "metadata": {
    "id": "_bkhnCvj0g3Q"
   },
   "outputs": [],
   "source": [
    "# ahora imprimo la importancia de variables\n",
    "\n",
    "tb_importancia <- as.data.table(lgb.importance(modelo_final))\n",
    "archivo_importancia <- \"impo.txt\"\n",
    "\n",
    "fwrite(tb_importancia,\n",
    "  file= archivo_importancia,\n",
    "  sep= \"\\t\"\n",
    ")"
   ]
  },
  {
   "cell_type": "code",
   "execution_count": 33,
   "metadata": {
    "id": "lZ3sLmbh0kFj"
   },
   "outputs": [],
   "source": [
    "# grabo a disco el modelo en un formato para seres humanos ... ponele ...\n",
    "\n",
    "lgb.save(modelo_final, \"modelo.txt\" )"
   ]
  },
  {
   "cell_type": "markdown",
   "metadata": {
    "id": "VEtp2--t5Ymg"
   },
   "source": [
    "### Scoring"
   ]
  },
  {
   "cell_type": "markdown",
   "metadata": {
    "id": "hI5008Mj5ZdI"
   },
   "source": [
    "Aplico el modelo final a los datos del futuro"
   ]
  },
  {
   "cell_type": "code",
   "execution_count": 34,
   "metadata": {
    "id": "PimBY3N_0ryP"
   },
   "outputs": [],
   "source": [
    "# aplico el modelo a los datos sin clase\n",
    "dfuture <- dataset[foto_mes == 202109]\n",
    "\n",
    "# aplico el modelo a los datos nuevos\n",
    "prediccion <- predict(\n",
    "  modelo_final,\n",
    "  data.matrix(dfuture[, campos_buenos, with= FALSE])\n",
    ")"
   ]
  },
  {
   "cell_type": "markdown",
   "metadata": {
    "id": "D26rNRh55gpw"
   },
   "source": [
    "#### Tabla Prediccion"
   ]
  },
  {
   "cell_type": "code",
   "execution_count": 35,
   "metadata": {
    "id": "RJwg7LHd11yu"
   },
   "outputs": [],
   "source": [
    "# tabla de prediccion\n",
    "\n",
    "tb_prediccion <- dfuture[, list(numero_de_cliente)]\n",
    "tb_prediccion[, prob := prediccion ]\n",
    "\n",
    "# grabo las probabilidad del modelo\n",
    "fwrite(tb_prediccion,\n",
    "  file= \"prediccion.txt\",\n",
    "  sep= \"\\t\"\n",
    ")"
   ]
  },
  {
   "cell_type": "markdown",
   "metadata": {
    "id": "jOt4eG_55ltv"
   },
   "source": [
    "Kaggle Competition Submit"
   ]
  },
  {
   "cell_type": "code",
   "execution_count": 36,
   "metadata": {
    "id": "gWW3tatE12je"
   },
   "outputs": [
    {
     "name": "stdout",
     "output_type": "stream",
     "text": [
      "Successfully submitted to Data Mining, Analista Sr 2025A \n",
      "Successfully submitted to Data Mining, Analista Sr 2025A \n",
      "Successfully submitted to Data Mining, Analista Sr 2025A \n",
      "Successfully submitted to Data Mining, Analista Sr 2025A \n",
      "Successfully submitted to Data Mining, Analista Sr 2025A \n"
     ]
    }
   ],
   "source": [
    "# genero archivos con los  \"envios\" mejores\n",
    "# suba TODOS los archivos a Kaggle\n",
    "\n",
    "# ordeno por probabilidad descendente\n",
    "setorder(tb_prediccion, -prob)\n",
    "\n",
    "dir.create(\"kaggle\")\n",
    "\n",
    "for (envios in PARAM$kaggle$cortes) {\n",
    "\n",
    "  tb_prediccion[, Predicted := 0L] # seteo inicial a 0\n",
    "  tb_prediccion[1:envios, Predicted := 1L] # marclo los primeros\n",
    "\n",
    "  archivo_kaggle <- paste0(\"./kaggle/KA\", PARAM$experimento, \"_\", envios, \".csv\")\n",
    "\n",
    "  # grabo el archivo\n",
    "  fwrite(tb_prediccion[, list(numero_de_cliente, Predicted)],\n",
    "    file= archivo_kaggle,\n",
    "    sep= \",\"\n",
    "  )\n",
    "\n",
    "  # subida a Kaggle, armo la linea de comando\n",
    "  comando <- \"kaggle competitions submit\"\n",
    "  competencia <- paste(\"-c\", PARAM$kaggle$competencia)\n",
    "  arch <- paste( \"-f\", archivo_kaggle)\n",
    "\n",
    "  mensaje <- paste0(\"-m 'envios=\", envios,\n",
    "  \"  semilla=\", PARAM$semilla_primigenia,\n",
    "    \"'\" )\n",
    "\n",
    "  linea <- paste( comando, competencia, arch, mensaje)\n",
    "\n",
    "  salida <- system(linea, intern=TRUE) # el submit a Kaggle\n",
    "  cat(salida, \"\\n\")\n",
    "}"
   ]
  },
  {
   "cell_type": "code",
   "execution_count": 37,
   "metadata": {
    "id": "B9tB2X4439Hg"
   },
   "outputs": [],
   "source": [
    "write_yaml( PARAM, file=\"PARAM.yml\")"
   ]
  },
  {
   "cell_type": "code",
   "execution_count": 38,
   "metadata": {
    "id": "9zA_W25c15DP"
   },
   "outputs": [
    {
     "data": {
      "text/html": [
       "'Tue Jul 22 21:52:53 2025'"
      ],
      "text/latex": [
       "'Tue Jul 22 21:52:53 2025'"
      ],
      "text/markdown": [
       "'Tue Jul 22 21:52:53 2025'"
      ],
      "text/plain": [
       "[1] \"Tue Jul 22 21:52:53 2025\""
      ]
     },
     "metadata": {},
     "output_type": "display_data"
    }
   ],
   "source": [
    "format(Sys.time(), \"%a %b %d %X %Y\")"
   ]
  },
  {
   "cell_type": "markdown",
   "metadata": {
    "id": "UdVZucdLHzZ0"
   },
   "source": [
    "Finalmente usted deberá cargar el resultado de su corrida en la Google Sheet Colaborativa,  hoja **TareaHogar04**\n",
    "<br> Siéntase libre de agregar las columnas que hagan falta a la planilla"
   ]
  },
  {
   "cell_type": "code",
   "execution_count": null,
   "metadata": {
    "id": "WMHh7uNVIJkT"
   },
   "outputs": [],
   "source": []
  }
 ],
 "metadata": {
  "colab": {
   "provenance": []
  },
  "kernelspec": {
   "display_name": "R",
   "language": "R",
   "name": "ir"
  },
  "language_info": {
   "codemirror_mode": "r",
   "file_extension": ".r",
   "mimetype": "text/x-r-source",
   "name": "R",
   "pygments_lexer": "r",
   "version": "4.4.3"
  }
 },
 "nbformat": 4,
 "nbformat_minor": 4
}
