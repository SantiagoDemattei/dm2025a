{
 "cells": [
  {
   "cell_type": "markdown",
   "metadata": {
    "id": "0cEmzeUKFkPh"
   },
   "source": [
    "# Tarea para el Hogar 04"
   ]
  },
  {
   "cell_type": "markdown",
   "metadata": {
    "id": "nSICPpyTGQmC"
   },
   "source": [
    "Esta Tarea para el Hogar 02 se entrega el final de la cuarta clase\n",
    "<br> se espera de usted que intente avanzar con los desafios propuestos y que los traiga terminados para la Clase 05 que será el viernes 01-agosto"
   ]
  },
  {
   "cell_type": "markdown",
   "metadata": {
    "id": "DenyKXkiJ5JN"
   },
   "source": [
    "##  1. Cazatalentos"
   ]
  },
  {
   "cell_type": "markdown",
   "metadata": {
    "id": "l-K2_ZsZGrVD"
   },
   "source": [
    "En la Clase 03 nos hemos enfrentado a  \"La Maldicion del Ganandor\",  elegir el modelo con el mejor puntaje simple no suele ser la mejor estrategia.\n",
    "<br> Lea y ejecute el notebook  **src/CazaTalentos/CazaTalentos.ipynb**\n",
    "<br> en caso de interesarle, participe del Desafío Ordenamiento  que vence el sábado 02 de agosto a las 19:00"
   ]
  },
  {
   "cell_type": "markdown",
   "metadata": {
    "id": "K9GkTOk5J9t3"
   },
   "source": [
    "## 2. Hiperparámetros del LightGBM"
   ]
  },
  {
   "cell_type": "markdown",
   "metadata": {
    "id": "VmEFy0ukKL5T"
   },
   "source": [
    "Los objetivos de esta tarea son:\n",
    "\n",
    "\n",
    "*   Aumentar la rentabilidad de la campaña de marketing de retención proactiva de clientes.\n",
    "*   Generar un mejor modelo optimizando sus hiperparámetros\n",
    "*   Conceptual : investigar los mas relevantes hiperparámetros de LightGBM\n",
    "*   Familiarizarse con la Bayesian Optimization, sus largos tiempos de corrida y opciones para reducirlos\n",
    "*   Familiarizarse con el uso de máquinas virtuales de Google Colab\n",
    "*   Ver un pipeline completo de optimización de hiperparámetros y puesta en producción"
   ]
  },
  {
   "cell_type": "markdown",
   "metadata": {
    "id": "5yvlS6JQLRMd"
   },
   "source": [
    "LightGBM cuenta con mas de 60 hiperparámetros, siendo posible utilizar 40 al mismo tiempo, aunque no razonable.\n",
    "<br> La documentación oficial de los hiperparámetros de LightGBM es  https://lightgbm.readthedocs.io/en/latest/Parameters.html#core-parameters\n"
   ]
  },
  {
   "cell_type": "markdown",
   "metadata": {
    "id": "eydI4YNAsFaf"
   },
   "source": [
    "Se lo alerta sobre que una Optimizacion Bayesiana lleva varias horas de corrida, y usted deberá correr VARIAS optimizaciones para descubrir cuales parámetros conviene optimizar.\n",
    "<br> A pesar que la próxima clase es recien en viernes 01 de agosto, inicie la tarea con tiempo, aprenda a planificar estratégicamente sus corridas como un@ científ@  de datos."
   ]
  },
  {
   "cell_type": "markdown",
   "metadata": {
    "id": "RzU4S0SeMcpp"
   },
   "source": [
    "Es necesario investigar cuales son los hiperparámetros de LightGBM que vale la pena optimizar en una Bayesian Optimization, ya que los realmente utiles son apenas un reducido subconjunto.\n",
    "<br>Usted deberá investigar cuales son los hiperparámetros mas relevantes de LightGBM, su primer alternativa es preguntándole a su amigo con capacidades especiales ChatGPT o sus endogámicos familiares Claude, DeepSeek, Gemini, Grok, etc\n",
    "<br> La segunda alternativa es la propia documentación de LightGBM  https://lightgbm.readthedocs.io/en/latest/Parameters-Tuning.html\n"
   ]
  },
  {
   "cell_type": "markdown",
   "metadata": {
    "id": "LNptUgI_NWWG"
   },
   "source": [
    "Adicionalmente podra buscar información como la que proveen esta diminuta muestra aleatoria de artículos ligeros:\n",
    "*  https://medium.com/@sarahzouinina/a-deep-dive-into-lightgbm-how-to-choose-and-tune-parameters-7c584945842e\n",
    "*  https://www.kaggle.com/code/somang1418/tuning-hyperparameters-under-10-minutes-lgbm\n",
    "*  https://towardsdatascience.com/beginners-guide-to-the-must-know-lightgbm-hyperparameters-a0005a812702/\n",
    "\n",
    "\n",
    "<br>  La muestra anterior se brinda a modo de ejemplo, usted deberá buscar muuuuchas  fuentes adicionales de información\n",
    "<br> Tenga presente que LightGBM es el estado del arte en modelado predictivo para datasets estructurado, que son el 90% del trabajo del 95% de los Data Scientists en Argentina."
   ]
  },
  {
   "cell_type": "markdown",
   "metadata": {
    "id": "WpUThBojODyK"
   },
   "source": [
    "El desafío de esta tarea es:\n",
    "* Qué hiperparparámetros conviene optimizar?  Las recomendaciones de los artículos ligeros es siempre sensata?  Sus autores realmente hicieron experimentos o son siemplemente escritores de entretenimiento carente de base científica?\n",
    "* Elegidos los hiperparámetros, cual es el  <desde, hasta> que se debe utilizar en la Bayesian Optimization ?\n",
    "* Realmente vale la pena optimizar 10 o 16 hiperparámetros al mismo tiempo ?  No resulta contraproducente una búsqueda en un espacio de tal alta dimensionalidad ?"
   ]
  },
  {
   "cell_type": "markdown",
   "metadata": {
    "id": "PX0qg_c0yqob"
   },
   "source": [
    "#### 2.1  Seteo del ambiente en Google Colab"
   ]
  },
  {
   "cell_type": "markdown",
   "metadata": {
    "id": "NGY7H9xza7Zr"
   },
   "source": [
    "Esta parte se debe correr con el runtime en Python3\n",
    "<br>Ir al menu, Runtime -> Change Runtime Type -> Runtime type ->  **Python 3**"
   ]
  },
  {
   "cell_type": "markdown",
   "metadata": {
    "id": "7PupIBNba7Zr"
   },
   "source": [
    "Conectar la virtual machine donde esta corriendo Google Colab con el  Google Drive, para poder tener persistencia de archivos"
   ]
  },
  {
   "cell_type": "code",
   "execution_count": null,
   "metadata": {
    "id": "9LpZCst5a7Zs"
   },
   "outputs": [],
   "source": [
    "# primero establecer el Runtime de Python 3\n",
    "from google.colab import drive\n",
    "drive.mount('/content/.drive')"
   ]
  },
  {
   "cell_type": "markdown",
   "metadata": {
    "id": "JYC_F-wla7Zs"
   },
   "source": [
    "Para correr la siguiente celda es fundamental en Arranque en Frio haber copiado el archivo kaggle.json al Google Drive, en la carpeta indicada en el instructivo\n",
    "\n",
    "<br>los siguientes comando estan en shell script de Linux\n",
    "*   Crear las carpetas en el Google Drive\n",
    "*   \"instalar\" el archivo kaggle.json desde el Google Drive a la virtual machine para que pueda ser utilizado por la libreria  kaggle de Python\n",
    "*   Bajar el  **dataset_pequeno**  al  Google Drive  y tambien al disco local de la virtual machine que esta corriendo Google Colab\n",
    "\n"
   ]
  },
  {
   "cell_type": "code",
   "execution_count": null,
   "metadata": {
    "id": "XWLelftXa7Zt"
   },
   "outputs": [],
   "source": [
    "%%shell\n",
    "\n",
    "mkdir -p \"/content/.drive/My Drive/dm\"\n",
    "mkdir -p \"/content/buckets\"\n",
    "ln -s \"/content/.drive/My Drive/dm\" /content/buckets/b1\n",
    "\n",
    "mkdir -p ~/.kaggle\n",
    "cp /content/buckets/b1/kaggle/kaggle.json  ~/.kaggle\n",
    "chmod 600 ~/.kaggle/kaggle.json\n",
    "\n",
    "\n",
    "mkdir -p /content/buckets/b1/exp\n",
    "mkdir -p /content/buckets/b1/datasets\n",
    "mkdir -p /content/datasets\n",
    "\n",
    "\n",
    "\n",
    "archivo_origen=\"https://storage.googleapis.com/open-courses/itba2025-8d0a/dataset_pequeno.csv\"\n",
    "archivo_destino=\"/content/datasets/dataset_pequeno.csv\"\n",
    "archivo_destino_bucket=\"/content/buckets/b1/datasets/dataset_pequeno.csv\"\n",
    "\n",
    "if ! test -f $archivo_destino_bucket; then\n",
    "  wget  $archivo_origen  -O $archivo_destino_bucket\n",
    "fi\n",
    "\n",
    "\n",
    "if ! test -f $archivo_destino; then\n",
    "  cp  $archivo_destino_bucket  $archivo_destino\n",
    "fi\n"
   ]
  },
  {
   "cell_type": "markdown",
   "metadata": {
    "id": "oSKhZRToy2F7"
   },
   "source": [
    "### 2.2 Optimizacion Hiperparámetros"
   ]
  },
  {
   "cell_type": "markdown",
   "metadata": {
    "id": "2kwPpHAtSmix"
   },
   "source": [
    "Esta parte se debe correr con el runtime en lenguaje R Ir al menu, Runtime -> Change Runtime Type -> Runtime type -> R"
   ]
  },
  {
   "cell_type": "markdown",
   "metadata": {
    "id": "xp4-Bj3aYI8d"
   },
   "source": [
    "### 2.2.1 Inicio"
   ]
  },
  {
   "cell_type": "markdown",
   "metadata": {
    "id": "zy8YTZfESxeJ"
   },
   "source": [
    "limpio el ambiente de R"
   ]
  },
  {
   "cell_type": "code",
   "execution_count": 2,
   "metadata": {
    "id": "gBq__iAdQliq"
   },
   "outputs": [
    {
     "data": {
      "text/html": [
       "'Thu Jul 24 16:29:13 2025'"
      ],
      "text/latex": [
       "'Thu Jul 24 16:29:13 2025'"
      ],
      "text/markdown": [
       "'Thu Jul 24 16:29:13 2025'"
      ],
      "text/plain": [
       "[1] \"Thu Jul 24 16:29:13 2025\""
      ]
     },
     "metadata": {},
     "output_type": "display_data"
    }
   ],
   "source": [
    "format(Sys.time(), \"%a %b %d %X %Y\")"
   ]
  },
  {
   "cell_type": "code",
   "execution_count": 3,
   "metadata": {
    "id": "7rdVrBojS1IV"
   },
   "outputs": [
    {
     "data": {
      "text/html": [
       "<table class=\"dataframe\">\n",
       "<caption>A matrix: 2 × 6 of type dbl</caption>\n",
       "<thead>\n",
       "\t<tr><th></th><th scope=col>used</th><th scope=col>(Mb)</th><th scope=col>gc trigger</th><th scope=col>(Mb)</th><th scope=col>max used</th><th scope=col>(Mb)</th></tr>\n",
       "</thead>\n",
       "<tbody>\n",
       "\t<tr><th scope=row>Ncells</th><td> 656849</td><td>35.1</td><td>1439377</td><td>76.9</td><td>1439377</td><td>76.9</td></tr>\n",
       "\t<tr><th scope=row>Vcells</th><td>1224776</td><td> 9.4</td><td>8388608</td><td>64.0</td><td>1924961</td><td>14.7</td></tr>\n",
       "</tbody>\n",
       "</table>\n"
      ],
      "text/latex": [
       "A matrix: 2 × 6 of type dbl\n",
       "\\begin{tabular}{r|llllll}\n",
       "  & used & (Mb) & gc trigger & (Mb) & max used & (Mb)\\\\\n",
       "\\hline\n",
       "\tNcells &  656849 & 35.1 & 1439377 & 76.9 & 1439377 & 76.9\\\\\n",
       "\tVcells & 1224776 &  9.4 & 8388608 & 64.0 & 1924961 & 14.7\\\\\n",
       "\\end{tabular}\n"
      ],
      "text/markdown": [
       "\n",
       "A matrix: 2 × 6 of type dbl\n",
       "\n",
       "| <!--/--> | used | (Mb) | gc trigger | (Mb) | max used | (Mb) |\n",
       "|---|---|---|---|---|---|---|\n",
       "| Ncells |  656849 | 35.1 | 1439377 | 76.9 | 1439377 | 76.9 |\n",
       "| Vcells | 1224776 |  9.4 | 8388608 | 64.0 | 1924961 | 14.7 |\n",
       "\n"
      ],
      "text/plain": [
       "       used    (Mb) gc trigger (Mb) max used (Mb)\n",
       "Ncells  656849 35.1 1439377    76.9 1439377  76.9\n",
       "Vcells 1224776  9.4 8388608    64.0 1924961  14.7"
      ]
     },
     "metadata": {},
     "output_type": "display_data"
    }
   ],
   "source": [
    "# limpio la memoria\n",
    "rm(list=ls(all.names=TRUE)) # remove all objects\n",
    "gc(full=TRUE, verbose=FALSE) # garbage collection"
   ]
  },
  {
   "cell_type": "markdown",
   "metadata": {
    "id": "kuPfQ7ksjwW3"
   },
   "source": [
    "### 2.2.2 Carga de Librerias"
   ]
  },
  {
   "cell_type": "code",
   "execution_count": 4,
   "metadata": {
    "id": "lVyxLaJ1j1J_"
   },
   "outputs": [
    {
     "name": "stderr",
     "output_type": "stream",
     "text": [
      "Loading required package: data.table\n",
      "\n",
      "Loading required package: parallel\n",
      "\n",
      "Loading required package: primes\n",
      "\n",
      "Loading required package: rlist\n",
      "\n",
      "Loading required package: yaml\n",
      "\n",
      "Loading required package: lightgbm\n",
      "\n",
      "Loading required package: DiceKriging\n",
      "\n",
      "Loading required package: mlrMBO\n",
      "\n",
      "Loading required package: mlr\n",
      "\n",
      "Loading required package: ParamHelpers\n",
      "\n",
      "Loading required package: smoof\n",
      "\n",
      "Loading required package: checkmate\n",
      "\n",
      "\n",
      "Attaching package: ‘checkmate’\n",
      "\n",
      "\n",
      "The following object is masked from ‘package:DiceKriging’:\n",
      "\n",
      "    checkNames\n",
      "\n",
      "\n"
     ]
    }
   ],
   "source": [
    "# cargo las librerias que necesito\n",
    "require(\"data.table\")\n",
    "require(\"parallel\")\n",
    "\n",
    "if( !require(\"primes\") ) install.packages(\"primes\")\n",
    "require(\"primes\")\n",
    "\n",
    "if( !require(\"utils\") ) install.packages(\"utils\")\n",
    "require(\"utils\")\n",
    "\n",
    "if( !require(\"rlist\") ) install.packages(\"rlist\")\n",
    "require(\"rlist\")\n",
    "\n",
    "if( !require(\"yaml\")) install.packages(\"yaml\")\n",
    "require(\"yaml\")\n",
    "\n",
    "if( !require(\"lightgbm\") ) install.packages(\"lightgbm\")\n",
    "require(\"lightgbm\")\n",
    "\n",
    "if( !require(\"DiceKriging\") ) install.packages(\"DiceKriging\")\n",
    "require(\"DiceKriging\")\n",
    "\n",
    "if( !require(\"mlrMBO\") ) install.packages(\"mlrMBO\")\n",
    "require(\"mlrMBO\")"
   ]
  },
  {
   "cell_type": "markdown",
   "metadata": {
    "id": "Iz-6Qt6BUaA3"
   },
   "source": [
    "### 2.2.3 Definicion de Parametros"
   ]
  },
  {
   "cell_type": "markdown",
   "metadata": {
    "id": "cOdlKd7lUm2I"
   },
   "source": [
    "aqui debe cargar SU semilla primigenia\n",
    "<br>recuerde cambiar el numero de experimento en cada corrida nueva"
   ]
  },
  {
   "cell_type": "code",
   "execution_count": 5,
   "metadata": {
    "id": "ASYkebOu2mF6"
   },
   "outputs": [],
   "source": [
    "PARAM <- list()\n",
    "PARAM$experimento <- 4946\n",
    "PARAM$semilla_primigenia <- 100129\n"
   ]
  },
  {
   "cell_type": "code",
   "execution_count": 6,
   "metadata": {
    "id": "ezOhQdbA293o"
   },
   "outputs": [],
   "source": [
    "PARAM$kaggle$competencia <- \"data-mining-analista-sr-2025-a\"\n",
    "PARAM$kaggle$cortes <- seq(10000, 12000, by= 500)"
   ]
  },
  {
   "cell_type": "code",
   "execution_count": 7,
   "metadata": {
    "id": "jtB0Lub42rHO"
   },
   "outputs": [],
   "source": [
    "# un undersampling de 0.1  toma solo el 10% de los CONTINUA\n",
    "# undersampling de 1.0  implica tomar TODOS los datos\n",
    "\n",
    "PARAM$trainingstrategy$undersampling <- 0.5"
   ]
  },
  {
   "cell_type": "code",
   "execution_count": 8,
   "metadata": {
    "id": "OFxm-xiNUOJX"
   },
   "outputs": [],
   "source": [
    "# Parametros LightGBM\n",
    "\n",
    "PARAM$hyperparametertuning$xval_folds <- 5\n",
    "\n",
    "# parametros fijos del LightGBM que se pisaran con la parte variable de la BO\n",
    "PARAM$lgbm$param_fijos <-  list(\n",
    "  boosting= \"gbdt\", # puede ir  dart  , ni pruebe random_forest\n",
    "  objective= \"binary\",\n",
    "  metric= \"auc\",\n",
    "  first_metric_only= FALSE,\n",
    "  boost_from_average= TRUE,\n",
    "  feature_pre_filter= FALSE,\n",
    "  force_row_wise= TRUE, # para reducir warnings\n",
    "  verbosity= -100,\n",
    "\n",
    "  seed= PARAM$semilla_primigenia,\n",
    "\n",
    "  max_depth= -1L, # -1 significa no limitar,  por ahora lo dejo fijo\n",
    "  min_gain_to_split= 0, # min_gain_to_split >= 0\n",
    "  min_sum_hessian_in_leaf= 0.001, #  min_sum_hessian_in_leaf >= 0.0\n",
    "  lambda_l1= 0.0, # lambda_l1 >= 0.0\n",
    "  lambda_l2= 0.0, # lambda_l2 >= 0.0\n",
    "  max_bin= 31L, # lo debo dejar fijo, no participa de la BO\n",
    "\n",
    "  bagging_fraction= 1.0, # 0.0 < bagging_fraction <= 1.0\n",
    "  pos_bagging_fraction= 1.0, # 0.0 < pos_bagging_fraction <= 1.0\n",
    "  neg_bagging_fraction= 1.0, # 0.0 < neg_bagging_fraction <= 1.0\n",
    "  is_unbalance= FALSE, #\n",
    "  scale_pos_weight= 1.0, # scale_pos_weight > 0.0\n",
    "\n",
    "  drop_rate= 0.1, # 0.0 < neg_bagging_fraction <= 1.0\n",
    "  max_drop= 50, # <=0 means no limit\n",
    "  skip_drop= 0.5, # 0.0 <= skip_drop <= 1.0\n",
    "\n",
    "  extra_trees= FALSE,\n",
    "\n",
    "  num_iterations= 1200,\n",
    "  learning_rate= 0.02,\n",
    "  feature_fraction= 0.5,\n",
    "  num_leaves= 750,\n",
    "  min_data_in_leaf= 5000\n",
    ")\n"
   ]
  },
  {
   "cell_type": "markdown",
   "metadata": {
    "id": "D5Yj-JV4yvOt"
   },
   "source": [
    "Aqui se definen los hiperparámetros de LightGBM que participan de la Bayesian Optimization\n",
    "<br> si es un numero entero debe ir  makeIntegerParam\n",
    "<br> si es un numero real (con decimales) debe ir  makeNumericParam\n",
    "<br> es muy importante leer cuales son un lower y upper  permitidos y ademas razonables"
   ]
  },
  {
   "cell_type": "code",
   "execution_count": 21,
   "metadata": {
    "id": "jENpR26ZyuS8"
   },
   "outputs": [],
   "source": [
    "# Aqui se cargan los bordes de los hiperparametros de la BO\n",
    "PARAM$hypeparametertuning$hs <- makeParamSet(\n",
    "  makeIntegerParam(\"num_iterations\", lower = 600L, upper = 1200L),\n",
    "  makeNumericParam(\"learning_rate\", lower = 0.012, upper = 0.035),\n",
    "  makeNumericParam(\"feature_fraction\", lower = 0.35, upper = 0.65),\n",
    "  makeIntegerParam(\"min_data_in_leaf\", lower = 150L, upper = 600L),\n",
    "  makeIntegerParam(\"num_leaves\", lower = 120L, upper = 280L),\n",
    "  makeIntegerParam(\"max_depth\", lower = 8L, upper = 13L),\n",
    "  makeNumericParam(\"lambda_l1\", lower = 2.5, upper = 6.0),\n",
    "  makeNumericParam(\"lambda_l2\", lower = 2.8, upper = 5.0),\n",
    "  makeNumericParam(\"min_gain_to_split\", lower = 0.03, upper = 0.25),\n",
    "  makeNumericParam(\"bagging_fraction\", lower = 0.75, upper = 1.0)\n",
    ")"
   ]
  },
  {
   "cell_type": "markdown",
   "metadata": {
    "id": "-_RPFUb3zMoW"
   },
   "source": [
    "A mayor cantidad de hiperparámetros, se debe aumentar las iteraciones de la Bayesian Optimization\n",
    "<br> 30 es un valor muy tacaño, pero corre rápido\n",
    "<br> deberia partir de 50, alcanzando los 100 si se dispone de tiempo"
   ]
  },
  {
   "cell_type": "code",
   "execution_count": 22,
   "metadata": {
    "id": "q5Rd3pnbzSiG"
   },
   "outputs": [],
   "source": [
    "PARAM$hyperparametertuning$iteraciones <- 100 # iteraciones bayesianas"
   ]
  },
  {
   "cell_type": "markdown",
   "metadata": {
    "id": "4RWZXL1VZjMI"
   },
   "source": [
    "### 2.2.4  Preprocesamiento"
   ]
  },
  {
   "cell_type": "code",
   "execution_count": 23,
   "metadata": {
    "id": "j3toG9-lZm4K"
   },
   "outputs": [],
   "source": [
    "# carpeta de trabajo\n",
    "\n",
    "setwd(\"/content/buckets/b1/exp\")\n",
    "experimento_folder <- paste0(\"HT\", PARAM$experimento)\n",
    "dir.create(experimento_folder, showWarnings=FALSE)\n",
    "setwd( paste0(\"/content/buckets/b1/exp/\", experimento_folder ))"
   ]
  },
  {
   "cell_type": "code",
   "execution_count": 24,
   "metadata": {
    "id": "FM3lxKoLZ643"
   },
   "outputs": [],
   "source": [
    "# lectura del dataset\n",
    "\n",
    "dataset <- fread(\"/content/datasets/dataset_pequeno.csv\")"
   ]
  },
  {
   "cell_type": "code",
   "execution_count": 25,
   "metadata": {
    "id": "OsJ-91UeZ-I_"
   },
   "outputs": [],
   "source": [
    "dataset_train <- dataset[foto_mes %in% c(202107)]"
   ]
  },
  {
   "cell_type": "code",
   "execution_count": 26,
   "metadata": {
    "id": "vrWE7BE0aB2J"
   },
   "outputs": [],
   "source": [
    "# paso la clase a binaria que tome valores {0,1}  enteros\n",
    "#  BAJA+1 y BAJA+2  son  1,   CONTINUA es 0\n",
    "\n",
    "dataset_train[,\n",
    "  clase01 := ifelse(clase_ternaria %in% c(\"BAJA+2\",\"BAJA+1\"), 1L, 0L)\n",
    "]"
   ]
  },
  {
   "cell_type": "code",
   "execution_count": 27,
   "metadata": {
    "id": "jP7YlQBnaW6W"
   },
   "outputs": [],
   "source": [
    "# defino los datos que forma parte del training\n",
    "# aqui se hace el undersampling de los CONTINUA\n",
    "# notar que para esto utilizo la SEGUNDA semilla\n",
    "\n",
    "set.seed(PARAM$semilla_primigenia, kind = \"L'Ecuyer-CMRG\")\n",
    "dataset_train[, azar := runif(nrow(dataset_train))]\n",
    "dataset_train[, training := 0L]\n",
    "\n",
    "dataset_train[\n",
    "  foto_mes %in% c(202107) &\n",
    "    (azar <= PARAM$trainingstrategy$undersampling | clase_ternaria %in% c(\"BAJA+1\", \"BAJA+2\")),\n",
    "  training := 1L\n",
    "]"
   ]
  },
  {
   "cell_type": "code",
   "execution_count": 28,
   "metadata": {
    "id": "xElu4s5W4rX7"
   },
   "outputs": [],
   "source": [
    "# los campos que se van a utilizar\n",
    "\n",
    "campos_buenos <- setdiff(\n",
    "  colnames(dataset_train),\n",
    "  c(\"clase_ternaria\", \"clase01\", \"azar\", \"training\")\n",
    ")"
   ]
  },
  {
   "cell_type": "code",
   "execution_count": 29,
   "metadata": {
    "id": "PppMHcGYaaol"
   },
   "outputs": [
    {
     "data": {
      "text/html": [
       "83679"
      ],
      "text/latex": [
       "83679"
      ],
      "text/markdown": [
       "83679"
      ],
      "text/plain": [
       "[1] 83679"
      ]
     },
     "metadata": {},
     "output_type": "display_data"
    },
    {
     "data": {
      "text/html": [
       "154"
      ],
      "text/latex": [
       "154"
      ],
      "text/markdown": [
       "154"
      ],
      "text/plain": [
       "[1] 154"
      ]
     },
     "metadata": {},
     "output_type": "display_data"
    }
   ],
   "source": [
    "# dejo los datos en el formato que necesita LightGBM\n",
    "\n",
    "dtrain <- lgb.Dataset(\n",
    "  data= data.matrix(dataset_train[training == 1L, campos_buenos, with= FALSE]),\n",
    "  label= dataset_train[training == 1L, clase01],\n",
    "  free_raw_data= FALSE\n",
    ")\n",
    "\n",
    "nrow(dtrain)\n",
    "ncol(dtrain)"
   ]
  },
  {
   "cell_type": "markdown",
   "metadata": {
    "id": "Ta-EkOu3cphF"
   },
   "source": [
    "2.2.5 Configuracion Bayesian Optimization"
   ]
  },
  {
   "cell_type": "code",
   "execution_count": 30,
   "metadata": {
    "id": "cjgfurjdfiXb"
   },
   "outputs": [],
   "source": [
    "# En el argumento x llegan los parmaetros de la bayesiana\n",
    "#  devuelve la AUC en cross validation del modelo entrenado\n",
    "\n",
    "EstimarGanancia_AUC_lightgbm <- function(x) {\n",
    "\n",
    "  # x pisa (o agrega) a param_fijos\n",
    "  param_completo <- modifyList(PARAM$lgbm$param_fijos, x)\n",
    "\n",
    "  # entreno LightGBM\n",
    "  modelocv <- lgb.cv(\n",
    "    data= dtrain,\n",
    "    nfold= PARAM$hyperparametertuning$xval_folds,\n",
    "    stratified= TRUE,\n",
    "    param= param_completo\n",
    "  )\n",
    "\n",
    "  # obtengo la ganancia\n",
    "  AUC <- modelocv$best_score\n",
    "\n",
    "  # hago espacio en la memoria\n",
    "  rm(modelocv)\n",
    "  gc(full= TRUE, verbose= FALSE)\n",
    "\n",
    "  message(format(Sys.time(), \"%a %b %d %X %Y\"), \" AUC \", AUC)\n",
    "\n",
    "  return(AUC)\n",
    "}"
   ]
  },
  {
   "cell_type": "code",
   "execution_count": 31,
   "metadata": {
    "id": "WLi_o1hocvN-"
   },
   "outputs": [],
   "source": [
    "# Aqui comienza la configuracion de la Bayesian Optimization\n",
    "\n",
    "# en este archivo quedan la evolucion binaria de la BO\n",
    "kbayesiana <- \"bayesiana.RDATA\"\n",
    "\n",
    "funcion_optimizar <- EstimarGanancia_AUC_lightgbm # la funcion que voy a maximizar\n",
    "\n",
    "configureMlr(show.learner.output= FALSE)\n",
    "\n",
    "# configuro la busqueda bayesiana,  los hiperparametros que se van a optimizar\n",
    "# por favor, no desesperarse por lo complejo\n",
    "\n",
    "obj.fun <- makeSingleObjectiveFunction(\n",
    "  fn= funcion_optimizar, # la funcion que voy a maximizar\n",
    "  minimize= FALSE, # estoy Maximizando la ganancia\n",
    "  noisy= TRUE,\n",
    "  par.set= PARAM$hypeparametertuning$hs, # definido al comienzo del programa\n",
    "  has.simple.signature= FALSE # paso los parametros en una lista\n",
    ")\n",
    "\n",
    "# cada 600 segundos guardo el resultado intermedio\n",
    "ctrl <- makeMBOControl(\n",
    "  save.on.disk.at.time= 600, # se graba cada 600 segundos\n",
    "  save.file.path= kbayesiana\n",
    ") # se graba cada 600 segundos\n",
    "\n",
    "# indico la cantidad de iteraciones que va a tener la Bayesian Optimization\n",
    "ctrl <- setMBOControlTermination(\n",
    "  ctrl,\n",
    "  iters= PARAM$hyperparametertuning$iteraciones\n",
    ") # cantidad de iteraciones\n",
    "\n",
    "# defino el método estandar para la creacion de los puntos iniciales,\n",
    "# los \"No Inteligentes\"\n",
    "ctrl <- setMBOControlInfill(ctrl, crit= makeMBOInfillCritEI())\n",
    "\n",
    "# establezco la funcion que busca el maximo\n",
    "surr.km <- makeLearner(\n",
    "  \"regr.km\",\n",
    "  predict.type= \"se\",\n",
    "  covtype= \"matern3_2\",\n",
    "  control= list(trace= TRUE)\n",
    ")\n"
   ]
  },
  {
   "cell_type": "markdown",
   "metadata": {
    "id": "_uUeVo5pc4zc"
   },
   "source": [
    "2.2.6 Corrida Bayesian Optimization"
   ]
  },
  {
   "cell_type": "code",
   "execution_count": 32,
   "metadata": {
    "id": "RcABNaKGciaz"
   },
   "outputs": [
    {
     "name": "stderr",
     "output_type": "stream",
     "text": [
      "Computing y column(s) for design. Not provided.\n",
      "\n",
      "Thu Jul 24 16:40:41 2025 AUC 0.930520002290532\n",
      "\n",
      "Thu Jul 24 16:41:29 2025 AUC 0.930767467476263\n",
      "\n",
      "Thu Jul 24 16:42:03 2025 AUC 0.930371550081785\n",
      "\n",
      "Thu Jul 24 16:42:56 2025 AUC 0.930710960879517\n",
      "\n",
      "Thu Jul 24 16:43:41 2025 AUC 0.930442888889343\n",
      "\n",
      "Thu Jul 24 16:44:37 2025 AUC 0.93040474920755\n",
      "\n",
      "Thu Jul 24 16:45:26 2025 AUC 0.931221273509082\n",
      "\n",
      "Thu Jul 24 16:46:17 2025 AUC 0.931036831424537\n",
      "\n",
      "Thu Jul 24 16:47:03 2025 AUC 0.931139659360019\n",
      "\n",
      "Thu Jul 24 16:47:53 2025 AUC 0.93073017973092\n",
      "\n",
      "Thu Jul 24 16:48:51 2025 AUC 0.930393258810653\n",
      "\n",
      "Thu Jul 24 16:49:27 2025 AUC 0.931288862782996\n",
      "\n",
      "Thu Jul 24 16:50:30 2025 AUC 0.930716841206303\n",
      "\n",
      "Thu Jul 24 16:51:25 2025 AUC 0.930561715111559\n",
      "\n",
      "Thu Jul 24 16:52:12 2025 AUC 0.93145775380211\n",
      "\n",
      "Thu Jul 24 16:53:05 2025 AUC 0.930644038632396\n",
      "\n",
      "Thu Jul 24 16:53:51 2025 AUC 0.930587952469001\n",
      "\n",
      "Thu Jul 24 16:54:53 2025 AUC 0.931616413989215\n",
      "\n",
      "Thu Jul 24 16:55:46 2025 AUC 0.930667932154932\n",
      "\n",
      "Thu Jul 24 16:56:27 2025 AUC 0.930815896390062\n",
      "\n",
      "Thu Jul 24 16:57:16 2025 AUC 0.930218138400351\n",
      "\n",
      "Thu Jul 24 16:58:13 2025 AUC 0.93005129463222\n",
      "\n",
      "Thu Jul 24 16:59:02 2025 AUC 0.930451018329915\n",
      "\n",
      "Thu Jul 24 16:59:55 2025 AUC 0.930022786858925\n",
      "\n",
      "Thu Jul 24 17:00:44 2025 AUC 0.931101560500904\n",
      "\n",
      "Thu Jul 24 17:01:47 2025 AUC 0.930321007504988\n",
      "\n",
      "Thu Jul 24 17:02:50 2025 AUC 0.931024307675267\n",
      "\n",
      "Thu Jul 24 17:03:34 2025 AUC 0.930119898216035\n",
      "\n",
      "Thu Jul 24 17:04:21 2025 AUC 0.931135620950934\n",
      "\n",
      "Thu Jul 24 17:04:51 2025 AUC 0.930682428923238\n",
      "\n",
      "Thu Jul 24 17:05:30 2025 AUC 0.930682499510907\n",
      "\n",
      "Thu Jul 24 17:06:42 2025 AUC 0.930603760626618\n",
      "\n",
      "Thu Jul 24 17:07:44 2025 AUC 0.930790147810446\n",
      "\n",
      "Thu Jul 24 17:08:13 2025 AUC 0.929658762966535\n",
      "\n",
      "Thu Jul 24 17:08:51 2025 AUC 0.929809103097452\n",
      "\n",
      "Thu Jul 24 17:09:28 2025 AUC 0.931491152255979\n",
      "\n",
      "Thu Jul 24 17:10:19 2025 AUC 0.930492831290306\n",
      "\n",
      "Thu Jul 24 17:11:25 2025 AUC 0.93099462147861\n",
      "\n",
      "Thu Jul 24 17:12:34 2025 AUC 0.930493423477497\n",
      "\n",
      "Thu Jul 24 17:13:18 2025 AUC 0.930702468321025\n",
      "\n",
      "[mbo] 0: num_iterations=982; learning_rate=0.0275; feature_fraction=0.376; min_data_in_leaf=163; num_leaves=193; max_depth=12; lambda_l1=5.55; lambda_l2=3.85; min_gain_to_split=0.207; bagging_fraction=0.885 : y = 0.931 : 49.1 secs : initdesign\n",
      "\n",
      "[mbo] 0: num_iterations=820; learning_rate=0.0209; feature_fraction=0.554; min_data_in_leaf=494; num_leaves=206; max_depth=12; lambda_l1=4.35; lambda_l2=3.17; min_gain_to_split=0.205; bagging_fraction=0.869 : y = 0.931 : 47.9 secs : initdesign\n",
      "\n",
      "[mbo] 0: num_iterations=840; learning_rate=0.0226; feature_fraction=0.612; min_data_in_leaf=318; num_leaves=159; max_depth=10; lambda_l1=5.47; lambda_l2=4.02; min_gain_to_split=0.225; bagging_fraction=0.859 : y = 0.93 : 33.6 secs : initdesign\n",
      "\n",
      "[mbo] 0: num_iterations=827; learning_rate=0.0229; feature_fraction=0.41; min_data_in_leaf=379; num_leaves=137; max_depth=9; lambda_l1=3.67; lambda_l2=3.72; min_gain_to_split=0.0901; bagging_fraction=0.951 : y = 0.931 : 53.4 secs : initdesign\n",
      "\n",
      "[mbo] 0: num_iterations=881; learning_rate=0.0297; feature_fraction=0.421; min_data_in_leaf=428; num_leaves=231; max_depth=11; lambda_l1=4.47; lambda_l2=3.84; min_gain_to_split=0.22; bagging_fraction=0.795 : y = 0.93 : 45.0 secs : initdesign\n",
      "\n",
      "[mbo] 0: num_iterations=963; learning_rate=0.0238; feature_fraction=0.472; min_data_in_leaf=409; num_leaves=171; max_depth=11; lambda_l1=3.1; lambda_l2=4.55; min_gain_to_split=0.171; bagging_fraction=0.752 : y = 0.93 : 56.1 secs : initdesign\n",
      "\n",
      "[mbo] 0: num_iterations=758; learning_rate=0.0149; feature_fraction=0.52; min_data_in_leaf=212; num_leaves=175; max_depth=8; lambda_l1=4.6; lambda_l2=3.63; min_gain_to_split=0.143; bagging_fraction=0.92 : y = 0.931 : 48.7 secs : initdesign\n",
      "\n",
      "[mbo] 0: num_iterations=788; learning_rate=0.0131; feature_fraction=0.435; min_data_in_leaf=397; num_leaves=259; max_depth=10; lambda_l1=4.11; lambda_l2=3.37; min_gain_to_split=0.134; bagging_fraction=0.847 : y = 0.931 : 50.8 secs : initdesign\n",
      "\n",
      "[mbo] 0: num_iterations=708; learning_rate=0.025; feature_fraction=0.501; min_data_in_leaf=237; num_leaves=198; max_depth=12; lambda_l1=4.33; lambda_l2=2.92; min_gain_to_split=0.113; bagging_fraction=0.88 : y = 0.931 : 46.6 secs : initdesign\n",
      "\n",
      "[mbo] 0: num_iterations=955; learning_rate=0.0313; feature_fraction=0.468; min_data_in_leaf=340; num_leaves=210; max_depth=10; lambda_l1=4.75; lambda_l2=4.31; min_gain_to_split=0.121; bagging_fraction=0.957 : y = 0.931 : 49.8 secs : initdesign\n",
      "\n",
      "[mbo] 0: num_iterations=1060; learning_rate=0.0217; feature_fraction=0.455; min_data_in_leaf=573; num_leaves=191; max_depth=9; lambda_l1=5.6; lambda_l2=2.82; min_gain_to_split=0.102; bagging_fraction=0.969 : y = 0.93 : 57.9 secs : initdesign\n",
      "\n",
      "[mbo] 0: num_iterations=601; learning_rate=0.0177; feature_fraction=0.543; min_data_in_leaf=527; num_leaves=163; max_depth=8; lambda_l1=3.75; lambda_l2=4.37; min_gain_to_split=0.157; bagging_fraction=0.988 : y = 0.931 : 36.2 secs : initdesign\n",
      "\n",
      "[mbo] 0: num_iterations=1133; learning_rate=0.0261; feature_fraction=0.496; min_data_in_leaf=417; num_leaves=226; max_depth=13; lambda_l1=3.86; lambda_l2=3.01; min_gain_to_split=0.125; bagging_fraction=0.915 : y = 0.931 : 62.7 secs : initdesign\n",
      "\n",
      "[mbo] 0: num_iterations=1078; learning_rate=0.0139; feature_fraction=0.648; min_data_in_leaf=297; num_leaves=280; max_depth=12; lambda_l1=4.23; lambda_l2=3.75; min_gain_to_split=0.151; bagging_fraction=0.787 : y = 0.931 : 55.5 secs : initdesign\n",
      "\n",
      "[mbo] 0: num_iterations=738; learning_rate=0.0303; feature_fraction=0.582; min_data_in_leaf=541; num_leaves=247; max_depth=10; lambda_l1=2.81; lambda_l2=4.2; min_gain_to_split=0.057; bagging_fraction=0.901 : y = 0.931 : 46.2 secs : initdesign\n",
      "\n",
      "[mbo] 0: num_iterations=868; learning_rate=0.0243; feature_fraction=0.574; min_data_in_leaf=184; num_leaves=236; max_depth=10; lambda_l1=4.82; lambda_l2=3.44; min_gain_to_split=0.0428; bagging_fraction=0.9 : y = 0.931 : 53.6 secs : initdesign\n",
      "\n",
      "[mbo] 0: num_iterations=703; learning_rate=0.0289; feature_fraction=0.537; min_data_in_leaf=197; num_leaves=152; max_depth=10; lambda_l1=3.16; lambda_l2=3.96; min_gain_to_split=0.166; bagging_fraction=0.823 : y = 0.931 : 45.8 secs : initdesign\n",
      "\n",
      "[mbo] 0: num_iterations=1081; learning_rate=0.0205; feature_fraction=0.384; min_data_in_leaf=375; num_leaves=186; max_depth=10; lambda_l1=4.97; lambda_l2=4.85; min_gain_to_split=0.0943; bagging_fraction=0.814 : y = 0.932 : 61.6 secs : initdesign\n",
      "\n",
      "[mbo] 0: num_iterations=1043; learning_rate=0.028; feature_fraction=0.48; min_data_in_leaf=485; num_leaves=179; max_depth=12; lambda_l1=4.67; lambda_l2=4.94; min_gain_to_split=0.238; bagging_fraction=0.968 : y = 0.931 : 53.0 secs : initdesign\n",
      "\n",
      "[mbo] 0: num_iterations=676; learning_rate=0.0194; feature_fraction=0.562; min_data_in_leaf=453; num_leaves=141; max_depth=11; lambda_l1=5.38; lambda_l2=4.14; min_gain_to_split=0.176; bagging_fraction=0.762 : y = 0.931 : 41.7 secs : initdesign\n",
      "\n",
      "[mbo] 0: num_iterations=779; learning_rate=0.0308; feature_fraction=0.362; min_data_in_leaf=278; num_leaves=276; max_depth=13; lambda_l1=3.91; lambda_l2=3.09; min_gain_to_split=0.0682; bagging_fraction=0.89 : y = 0.93 : 49.0 secs : initdesign\n",
      "\n",
      "[mbo] 0: num_iterations=942; learning_rate=0.0188; feature_fraction=0.354; min_data_in_leaf=361; num_leaves=243; max_depth=11; lambda_l1=2.95; lambda_l2=4.1; min_gain_to_split=0.191; bagging_fraction=0.934 : y = 0.93 : 56.8 secs : initdesign\n",
      "\n",
      "[mbo] 0: num_iterations=1002; learning_rate=0.0265; feature_fraction=0.398; min_data_in_leaf=272; num_leaves=204; max_depth=8; lambda_l1=5.28; lambda_l2=2.86; min_gain_to_split=0.18; bagging_fraction=0.835 : y = 0.93 : 48.9 secs : initdesign\n",
      "\n",
      "[mbo] 0: num_iterations=1010; learning_rate=0.0338; feature_fraction=0.53; min_data_in_leaf=455; num_leaves=126; max_depth=9; lambda_l1=4.02; lambda_l2=4.77; min_gain_to_split=0.11; bagging_fraction=0.807 : y = 0.93 : 52.8 secs : initdesign\n",
      "\n",
      "[mbo] 0: num_iterations=801; learning_rate=0.0218; feature_fraction=0.393; min_data_in_leaf=550; num_leaves=256; max_depth=8; lambda_l1=2.69; lambda_l2=4.71; min_gain_to_split=0.0483; bagging_fraction=0.841 : y = 0.931 : 49.4 secs : initdesign\n",
      "\n",
      "[mbo] 0: num_iterations=1119; learning_rate=0.0146; feature_fraction=0.587; min_data_in_leaf=249; num_leaves=165; max_depth=11; lambda_l1=5.67; lambda_l2=3.59; min_gain_to_split=0.146; bagging_fraction=0.912 : y = 0.93 : 62.4 secs : initdesign\n",
      "\n",
      "[mbo] 0: num_iterations=913; learning_rate=0.0157; feature_fraction=0.605; min_data_in_leaf=344; num_leaves=218; max_depth=12; lambda_l1=3.24; lambda_l2=4.24; min_gain_to_split=0.0396; bagging_fraction=0.995 : y = 0.931 : 63.3 secs : initdesign\n",
      "\n",
      "[mbo] 0: num_iterations=654; learning_rate=0.0255; feature_fraction=0.488; min_data_in_leaf=519; num_leaves=215; max_depth=11; lambda_l1=5.85; lambda_l2=4.83; min_gain_to_split=0.0309; bagging_fraction=0.855 : y = 0.93 : 44.2 secs : initdesign\n",
      "\n",
      "[mbo] 0: num_iterations=669; learning_rate=0.02; feature_fraction=0.552; min_data_in_leaf=473; num_leaves=272; max_depth=13; lambda_l1=2.91; lambda_l2=4.5; min_gain_to_split=0.186; bagging_fraction=0.767 : y = 0.931 : 47.4 secs : initdesign\n",
      "\n",
      "[mbo] 0: num_iterations=891; learning_rate=0.0339; feature_fraction=0.639; min_data_in_leaf=291; num_leaves=265; max_depth=9; lambda_l1=2.55; lambda_l2=3.21; min_gain_to_split=0.2; bagging_fraction=0.827 : y = 0.931 : 29.9 secs : initdesign\n",
      "\n",
      "[mbo] 0: num_iterations=1156; learning_rate=0.0325; feature_fraction=0.625; min_data_in_leaf=566; num_leaves=130; max_depth=13; lambda_l1=5.75; lambda_l2=3.54; min_gain_to_split=0.0765; bagging_fraction=0.93 : y = 0.931 : 38.9 secs : initdesign\n",
      "\n",
      "[mbo] 0: num_iterations=1194; learning_rate=0.0178; feature_fraction=0.513; min_data_in_leaf=593; num_leaves=250; max_depth=9; lambda_l1=5.05; lambda_l2=3.5; min_gain_to_split=0.0728; bagging_fraction=0.769 : y = 0.931 : 72.1 secs : initdesign\n",
      "\n",
      "[mbo] 0: num_iterations=1106; learning_rate=0.0345; feature_fraction=0.444; min_data_in_leaf=222; num_leaves=180; max_depth=13; lambda_l1=3.48; lambda_l2=3.29; min_gain_to_split=0.0812; bagging_fraction=0.78 : y = 0.931 : 61.6 secs : initdesign\n",
      "\n",
      "[mbo] 0: num_iterations=1176; learning_rate=0.0319; feature_fraction=0.631; min_data_in_leaf=322; num_leaves=224; max_depth=8; lambda_l1=5.98; lambda_l2=3.91; min_gain_to_split=0.232; bagging_fraction=0.863 : y = 0.93 : 29.6 secs : initdesign\n",
      "\n",
      "[mbo] 0: num_iterations=636; learning_rate=0.017; feature_fraction=0.615; min_data_in_leaf=260; num_leaves=122; max_depth=11; lambda_l1=3.31; lambda_l2=4.61; min_gain_to_split=0.217; bagging_fraction=0.982 : y = 0.93 : 37.3 secs : initdesign\n",
      "\n",
      "[mbo] 0: num_iterations=628; learning_rate=0.0329; feature_fraction=0.412; min_data_in_leaf=153; num_leaves=135; max_depth=9; lambda_l1=5.13; lambda_l2=4.64; min_gain_to_split=0.0984; bagging_fraction=0.94 : y = 0.931 : 37.0 secs : initdesign\n",
      "\n",
      "[mbo] 0: num_iterations=917; learning_rate=0.0162; feature_fraction=0.366; min_data_in_leaf=581; num_leaves=146; max_depth=13; lambda_l1=4.91; lambda_l2=3.31; min_gain_to_split=0.24; bagging_fraction=0.8 : y = 0.93 : 51.5 secs : initdesign\n",
      "\n",
      "[mbo] 0: num_iterations=1027; learning_rate=0.0136; feature_fraction=0.428; min_data_in_leaf=179; num_leaves=148; max_depth=8; lambda_l1=3.4; lambda_l2=4.41; min_gain_to_split=0.0595; bagging_fraction=0.792 : y = 0.931 : 65.5 secs : initdesign\n",
      "\n",
      "[mbo] 0: num_iterations=1142; learning_rate=0.0123; feature_fraction=0.592; min_data_in_leaf=437; num_leaves=262; max_depth=13; lambda_l1=2.61; lambda_l2=4.97; min_gain_to_split=0.246; bagging_fraction=0.947 : y = 0.93 : 69.5 secs : initdesign\n",
      "\n",
      "[mbo] 0: num_iterations=730; learning_rate=0.0285; feature_fraction=0.454; min_data_in_leaf=499; num_leaves=237; max_depth=9; lambda_l1=3.62; lambda_l2=3.04; min_gain_to_split=0.136; bagging_fraction=0.979 : y = 0.931 : 43.7 secs : initdesign\n",
      "\n",
      "Saved the current state after iteration 1 in the file bayesiana.RDATA.\n",
      "\n",
      "Thu Jul 24 17:14:13 2025 AUC 0.930810403895189\n",
      "\n",
      "[mbo] 1: num_iterations=956; learning_rate=0.0283; feature_fraction=0.392; min_data_in_leaf=258; num_leaves=168; max_depth=9; lambda_l1=5.17; lambda_l2=4.8; min_gain_to_split=0.09; bagging_fraction=0.859 : y = 0.931 : 50.7 secs : infill_ei\n",
      "\n",
      "Thu Jul 24 17:15:20 2025 AUC 0.931998522941801\n",
      "\n",
      "[mbo] 2: num_iterations=1077; learning_rate=0.0162; feature_fraction=0.355; min_data_in_leaf=533; num_leaves=205; max_depth=10; lambda_l1=3.97; lambda_l2=4.72; min_gain_to_split=0.0864; bagging_fraction=0.805 : y = 0.932 : 65.1 secs : infill_ei\n",
      "\n",
      "Thu Jul 24 17:16:33 2025 AUC 0.930905360072458\n",
      "\n",
      "[mbo] 3: num_iterations=1128; learning_rate=0.0183; feature_fraction=0.445; min_data_in_leaf=531; num_leaves=178; max_depth=10; lambda_l1=3.44; lambda_l2=4.8; min_gain_to_split=0.0703; bagging_fraction=0.804 : y = 0.931 : 71.9 secs : infill_ei\n",
      "\n",
      "Thu Jul 24 17:17:40 2025 AUC 0.931127950105816\n",
      "\n",
      "[mbo] 4: num_iterations=1086; learning_rate=0.0189; feature_fraction=0.357; min_data_in_leaf=465; num_leaves=223; max_depth=9; lambda_l1=3.22; lambda_l2=4.83; min_gain_to_split=0.0829; bagging_fraction=0.802 : y = 0.931 : 65.8 secs : infill_ei\n",
      "\n",
      "Thu Jul 24 17:18:52 2025 AUC 0.930495643710986\n",
      "\n",
      "[mbo] 5: num_iterations=1075; learning_rate=0.0185; feature_fraction=0.503; min_data_in_leaf=571; num_leaves=226; max_depth=10; lambda_l1=3.13; lambda_l2=4.7; min_gain_to_split=0.0953; bagging_fraction=0.762 : y = 0.93 : 70.5 secs : infill_ei\n",
      "\n",
      "Thu Jul 24 17:19:55 2025 AUC 0.93148441792121\n",
      "\n",
      "[mbo] 6: num_iterations=1032; learning_rate=0.0154; feature_fraction=0.35; min_data_in_leaf=466; num_leaves=208; max_depth=10; lambda_l1=4.7; lambda_l2=4.41; min_gain_to_split=0.0713; bagging_fraction=0.809 : y = 0.931 : 62.6 secs : infill_ei\n",
      "\n",
      "Thu Jul 24 17:21:03 2025 AUC 0.93116753500184\n",
      "\n",
      "[mbo] 7: num_iterations=1094; learning_rate=0.0154; feature_fraction=0.354; min_data_in_leaf=511; num_leaves=213; max_depth=10; lambda_l1=3.97; lambda_l2=4.01; min_gain_to_split=0.091; bagging_fraction=0.766 : y = 0.931 : 66.7 secs : infill_ei\n",
      "\n",
      "Thu Jul 24 17:22:04 2025 AUC 0.930991271749353\n",
      "\n",
      "[mbo] 8: num_iterations=1104; learning_rate=0.0236; feature_fraction=0.356; min_data_in_leaf=495; num_leaves=214; max_depth=10; lambda_l1=4.81; lambda_l2=4.77; min_gain_to_split=0.0906; bagging_fraction=0.801 : y = 0.931 : 59.6 secs : infill_ei\n",
      "\n",
      "Thu Jul 24 17:23:03 2025 AUC 0.930261219951076\n",
      "\n",
      "[mbo] 9: num_iterations=939; learning_rate=0.0251; feature_fraction=0.361; min_data_in_leaf=414; num_leaves=200; max_depth=10; lambda_l1=4.01; lambda_l2=4.59; min_gain_to_split=0.0642; bagging_fraction=0.819 : y = 0.93 : 57.1 secs : infill_ei\n",
      "\n",
      "Thu Jul 24 17:24:12 2025 AUC 0.93134767572786\n",
      "\n",
      "[mbo] 10: num_iterations=1073; learning_rate=0.0166; feature_fraction=0.368; min_data_in_leaf=399; num_leaves=195; max_depth=10; lambda_l1=2.83; lambda_l2=4.03; min_gain_to_split=0.0932; bagging_fraction=0.81 : y = 0.931 : 67.8 secs : infill_ei\n",
      "\n",
      "Saved the current state after iteration 11 in the file bayesiana.RDATA.\n",
      "\n",
      "Thu Jul 24 17:25:23 2025 AUC 0.931695056552455\n",
      "\n",
      "[mbo] 11: num_iterations=1065; learning_rate=0.0158; feature_fraction=0.364; min_data_in_leaf=543; num_leaves=180; max_depth=11; lambda_l1=2.76; lambda_l2=4.89; min_gain_to_split=0.0889; bagging_fraction=0.813 : y = 0.932 : 67.3 secs : infill_ei\n",
      "\n",
      "Thu Jul 24 17:26:28 2025 AUC 0.930235507317215\n",
      "\n",
      "[mbo] 12: num_iterations=1079; learning_rate=0.0164; feature_fraction=0.362; min_data_in_leaf=420; num_leaves=195; max_depth=9; lambda_l1=5.14; lambda_l2=4.75; min_gain_to_split=0.0905; bagging_fraction=0.811 : y = 0.93 : 62.7 secs : infill_ei\n",
      "\n",
      "Thu Jul 24 17:27:33 2025 AUC 0.930557349404083\n",
      "\n",
      "[mbo] 13: num_iterations=1058; learning_rate=0.0169; feature_fraction=0.353; min_data_in_leaf=533; num_leaves=185; max_depth=10; lambda_l1=3.29; lambda_l2=4.81; min_gain_to_split=0.0806; bagging_fraction=0.889 : y = 0.931 : 64.0 secs : infill_ei\n",
      "\n",
      "Thu Jul 24 17:28:28 2025 AUC 0.930452312295835\n",
      "\n",
      "[mbo] 14: num_iterations=1009; learning_rate=0.031; feature_fraction=0.466; min_data_in_leaf=199; num_leaves=263; max_depth=12; lambda_l1=4.55; lambda_l2=3.19; min_gain_to_split=0.0934; bagging_fraction=0.768 : y = 0.93 : 53.8 secs : infill_ei\n",
      "\n",
      "Thu Jul 24 17:29:18 2025 AUC 0.930893178197943\n",
      "\n",
      "[mbo] 15: num_iterations=883; learning_rate=0.0264; feature_fraction=0.458; min_data_in_leaf=547; num_leaves=187; max_depth=9; lambda_l1=4.88; lambda_l2=4.6; min_gain_to_split=0.102; bagging_fraction=0.898 : y = 0.931 : 49.4 secs : infill_ei\n",
      "\n",
      "Thu Jul 24 17:30:08 2025 AUC 0.930810011974498\n",
      "\n",
      "[mbo] 16: num_iterations=817; learning_rate=0.0165; feature_fraction=0.355; min_data_in_leaf=525; num_leaves=175; max_depth=10; lambda_l1=2.88; lambda_l2=3.96; min_gain_to_split=0.0855; bagging_fraction=0.806 : y = 0.931 : 48.5 secs : infill_ei\n",
      "\n",
      "Thu Jul 24 17:30:48 2025 AUC 0.931035182535207\n",
      "\n",
      "[mbo] 17: num_iterations=627; learning_rate=0.016; feature_fraction=0.354; min_data_in_leaf=564; num_leaves=238; max_depth=10; lambda_l1=4.13; lambda_l2=3.02; min_gain_to_split=0.106; bagging_fraction=0.805 : y = 0.931 : 37.9 secs : infill_ei\n",
      "\n",
      "Thu Jul 24 17:31:54 2025 AUC 0.930741453396612\n",
      "\n",
      "[mbo] 18: num_iterations=991; learning_rate=0.0162; feature_fraction=0.405; min_data_in_leaf=235; num_leaves=208; max_depth=10; lambda_l1=4.36; lambda_l2=4.44; min_gain_to_split=0.0863; bagging_fraction=0.874 : y = 0.931 : 65.7 secs : infill_ei\n",
      "\n",
      "Thu Jul 24 17:32:28 2025 AUC 0.930692079631264\n",
      "\n",
      "[mbo] 19: num_iterations=636; learning_rate=0.0299; feature_fraction=0.601; min_data_in_leaf=559; num_leaves=233; max_depth=8; lambda_l1=3.26; lambda_l2=3.85; min_gain_to_split=0.0859; bagging_fraction=0.769 : y = 0.931 : 32.9 secs : infill_ei\n",
      "\n",
      "Thu Jul 24 17:33:25 2025 AUC 0.930279057695265\n",
      "\n",
      "[mbo] 20: num_iterations=941; learning_rate=0.0227; feature_fraction=0.355; min_data_in_leaf=535; num_leaves=223; max_depth=10; lambda_l1=2.92; lambda_l2=4.84; min_gain_to_split=0.107; bagging_fraction=0.803 : y = 0.93 : 55.7 secs : infill_ei\n",
      "\n",
      "Thu Jul 24 17:34:26 2025 AUC 0.930940729369846\n",
      "\n",
      "[mbo] 21: num_iterations=1084; learning_rate=0.0178; feature_fraction=0.357; min_data_in_leaf=545; num_leaves=191; max_depth=10; lambda_l1=5.84; lambda_l2=4.42; min_gain_to_split=0.0861; bagging_fraction=0.803 : y = 0.931 : 59.5 secs : infill_ei\n",
      "\n",
      "Saved the current state after iteration 22 in the file bayesiana.RDATA.\n",
      "\n",
      "Thu Jul 24 17:35:28 2025 AUC 0.931360826492967\n",
      "\n",
      "[mbo] 22: num_iterations=873; learning_rate=0.0182; feature_fraction=0.486; min_data_in_leaf=529; num_leaves=199; max_depth=10; lambda_l1=3.97; lambda_l2=4.93; min_gain_to_split=0.166; bagging_fraction=0.774 : y = 0.931 : 55.0 secs : infill_ei\n",
      "\n",
      "Thu Jul 24 17:36:41 2025 AUC 0.931342420066568\n",
      "\n",
      "[mbo] 23: num_iterations=1091; learning_rate=0.0221; feature_fraction=0.45; min_data_in_leaf=404; num_leaves=121; max_depth=10; lambda_l1=2.82; lambda_l2=4.94; min_gain_to_split=0.0595; bagging_fraction=0.819 : y = 0.931 : 72.2 secs : infill_ei\n",
      "\n",
      "Thu Jul 24 17:37:46 2025 AUC 0.931086940286976\n",
      "\n",
      "[mbo] 24: num_iterations=1045; learning_rate=0.0143; feature_fraction=0.488; min_data_in_leaf=535; num_leaves=161; max_depth=9; lambda_l1=3.97; lambda_l2=4.2; min_gain_to_split=0.17; bagging_fraction=0.823 : y = 0.931 : 63.7 secs : infill_ei\n",
      "\n",
      "Thu Jul 24 17:38:45 2025 AUC 0.930548746681187\n",
      "\n",
      "[mbo] 25: num_iterations=819; learning_rate=0.0181; feature_fraction=0.49; min_data_in_leaf=343; num_leaves=175; max_depth=11; lambda_l1=3.23; lambda_l2=4.71; min_gain_to_split=0.0578; bagging_fraction=0.963 : y = 0.931 : 58.3 secs : infill_ei\n",
      "\n",
      "Thu Jul 24 17:39:46 2025 AUC 0.931356656767612\n",
      "\n",
      "[mbo] 26: num_iterations=1077; learning_rate=0.0211; feature_fraction=0.355; min_data_in_leaf=478; num_leaves=225; max_depth=12; lambda_l1=3.93; lambda_l2=3.53; min_gain_to_split=0.117; bagging_fraction=0.928 : y = 0.931 : 59.6 secs : infill_ei\n",
      "\n",
      "Thu Jul 24 17:40:52 2025 AUC 0.930675984307354\n",
      "\n",
      "[mbo] 27: num_iterations=1066; learning_rate=0.0153; feature_fraction=0.39; min_data_in_leaf=528; num_leaves=249; max_depth=10; lambda_l1=3.65; lambda_l2=4.21; min_gain_to_split=0.0867; bagging_fraction=0.856 : y = 0.931 : 64.7 secs : infill_ei\n",
      "\n",
      "Thu Jul 24 17:42:00 2025 AUC 0.931031775777299\n",
      "\n",
      "[mbo] 28: num_iterations=1134; learning_rate=0.016; feature_fraction=0.478; min_data_in_leaf=371; num_leaves=220; max_depth=13; lambda_l1=5.94; lambda_l2=3.59; min_gain_to_split=0.143; bagging_fraction=0.874 : y = 0.931 : 66.4 secs : infill_ei\n",
      "\n",
      "Thu Jul 24 17:42:59 2025 AUC 0.931892240068991\n",
      "\n",
      "[mbo] 29: num_iterations=954; learning_rate=0.0164; feature_fraction=0.397; min_data_in_leaf=555; num_leaves=205; max_depth=10; lambda_l1=4.5; lambda_l2=3.29; min_gain_to_split=0.139; bagging_fraction=0.798 : y = 0.932 : 57.9 secs : infill_ei\n",
      "\n",
      "Thu Jul 24 17:44:02 2025 AUC 0.931173877322023\n",
      "\n",
      "[mbo] 30: num_iterations=1076; learning_rate=0.0175; feature_fraction=0.436; min_data_in_leaf=579; num_leaves=213; max_depth=11; lambda_l1=3.96; lambda_l2=4.79; min_gain_to_split=0.191; bagging_fraction=0.94 : y = 0.931 : 62.1 secs : infill_ei\n",
      "\n",
      "Thu Jul 24 17:44:47 2025 AUC 0.9310210503408\n",
      "\n",
      "[mbo] 31: num_iterations=776; learning_rate=0.0208; feature_fraction=0.391; min_data_in_leaf=341; num_leaves=194; max_depth=11; lambda_l1=5.56; lambda_l2=4.99; min_gain_to_split=0.146; bagging_fraction=0.888 : y = 0.931 : 43.9 secs : infill_ei\n",
      "\n",
      "Saved the current state after iteration 32 in the file bayesiana.RDATA.\n",
      "\n",
      "Thu Jul 24 17:45:49 2025 AUC 0.93099630182491\n",
      "\n",
      "[mbo] 32: num_iterations=924; learning_rate=0.0336; feature_fraction=0.436; min_data_in_leaf=297; num_leaves=172; max_depth=8; lambda_l1=3.12; lambda_l2=3.81; min_gain_to_split=0.0325; bagging_fraction=0.995 : y = 0.931 : 57.4 secs : infill_ei\n",
      "\n",
      "Thu Jul 24 17:46:37 2025 AUC 0.930518510073569\n",
      "\n",
      "[mbo] 33: num_iterations=682; learning_rate=0.0135; feature_fraction=0.464; min_data_in_leaf=280; num_leaves=175; max_depth=11; lambda_l1=4.43; lambda_l2=3.95; min_gain_to_split=0.139; bagging_fraction=0.885 : y = 0.931 : 46.9 secs : infill_ei\n",
      "\n",
      "Thu Jul 24 17:47:23 2025 AUC 0.930198055530163\n",
      "\n",
      "[mbo] 34: num_iterations=779; learning_rate=0.0189; feature_fraction=0.412; min_data_in_leaf=315; num_leaves=237; max_depth=12; lambda_l1=5.94; lambda_l2=3.5; min_gain_to_split=0.232; bagging_fraction=0.987 : y = 0.93 : 44.6 secs : infill_ei\n",
      "\n",
      "Thu Jul 24 17:48:12 2025 AUC 0.930849676392611\n",
      "\n",
      "[mbo] 35: num_iterations=799; learning_rate=0.0328; feature_fraction=0.399; min_data_in_leaf=234; num_leaves=271; max_depth=8; lambda_l1=3.85; lambda_l2=4.09; min_gain_to_split=0.0406; bagging_fraction=0.772 : y = 0.931 : 47.9 secs : infill_ei\n",
      "\n",
      "Thu Jul 24 17:49:10 2025 AUC 0.931648080273697\n",
      "\n",
      "[mbo] 36: num_iterations=924; learning_rate=0.0161; feature_fraction=0.561; min_data_in_leaf=587; num_leaves=180; max_depth=10; lambda_l1=4.52; lambda_l2=3.21; min_gain_to_split=0.141; bagging_fraction=0.799 : y = 0.932 : 56.6 secs : infill_ei\n",
      "\n",
      "Thu Jul 24 17:50:14 2025 AUC 0.930299796787797\n",
      "\n",
      "[mbo] 37: num_iterations=1021; learning_rate=0.0164; feature_fraction=0.48; min_data_in_leaf=473; num_leaves=188; max_depth=10; lambda_l1=4.14; lambda_l2=4.14; min_gain_to_split=0.171; bagging_fraction=0.802 : y = 0.93 : 62.0 secs : infill_ei\n",
      "\n",
      "Thu Jul 24 17:50:57 2025 AUC 0.931365434673116\n",
      "\n",
      "[mbo] 38: num_iterations=719; learning_rate=0.0299; feature_fraction=0.427; min_data_in_leaf=158; num_leaves=145; max_depth=10; lambda_l1=2.96; lambda_l2=4.97; min_gain_to_split=0.182; bagging_fraction=0.814 : y = 0.931 : 41.9 secs : infill_ei\n",
      "\n",
      "Thu Jul 24 17:51:38 2025 AUC 0.930727916883807\n",
      "\n",
      "[mbo] 39: num_iterations=645; learning_rate=0.0129; feature_fraction=0.48; min_data_in_leaf=383; num_leaves=249; max_depth=8; lambda_l1=2.62; lambda_l2=4.99; min_gain_to_split=0.0394; bagging_fraction=0.906 : y = 0.931 : 39.5 secs : infill_ei\n",
      "\n",
      "Thu Jul 24 17:52:24 2025 AUC 0.929948372510407\n",
      "\n",
      "[mbo] 40: num_iterations=733; learning_rate=0.0186; feature_fraction=0.549; min_data_in_leaf=306; num_leaves=160; max_depth=8; lambda_l1=3.76; lambda_l2=3.51; min_gain_to_split=0.132; bagging_fraction=0.814 : y = 0.93 : 45.3 secs : infill_ei\n",
      "\n",
      "Thu Jul 24 17:53:10 2025 AUC 0.930558091267116\n",
      "\n",
      "[mbo] 41: num_iterations=1157; learning_rate=0.0313; feature_fraction=0.611; min_data_in_leaf=287; num_leaves=261; max_depth=12; lambda_l1=2.81; lambda_l2=3.25; min_gain_to_split=0.128; bagging_fraction=0.891 : y = 0.931 : 44.7 secs : infill_ei\n",
      "\n",
      "Thu Jul 24 17:54:07 2025 AUC 0.93072603060808\n",
      "\n",
      "[mbo] 42: num_iterations=958; learning_rate=0.0219; feature_fraction=0.402; min_data_in_leaf=243; num_leaves=125; max_depth=9; lambda_l1=5.13; lambda_l2=3.64; min_gain_to_split=0.065; bagging_fraction=0.963 : y = 0.931 : 55.4 secs : infill_ei\n",
      "\n",
      "Thu Jul 24 17:55:03 2025 AUC 0.931045426897405\n",
      "\n",
      "[mbo] 43: num_iterations=1168; learning_rate=0.026; feature_fraction=0.54; min_data_in_leaf=446; num_leaves=248; max_depth=9; lambda_l1=4.77; lambda_l2=4.68; min_gain_to_split=0.235; bagging_fraction=0.934 : y = 0.931 : 54.9 secs : infill_ei\n",
      "\n",
      "Saved the current state after iteration 44 in the file bayesiana.RDATA.\n",
      "\n",
      "Thu Jul 24 17:56:03 2025 AUC 0.930714687854084\n",
      "\n",
      "[mbo] 44: num_iterations=953; learning_rate=0.0163; feature_fraction=0.393; min_data_in_leaf=518; num_leaves=138; max_depth=10; lambda_l1=5.39; lambda_l2=3.33; min_gain_to_split=0.134; bagging_fraction=0.797 : y = 0.931 : 54.2 secs : infill_ei\n",
      "\n",
      "Thu Jul 24 17:57:02 2025 AUC 0.931072130864031\n",
      "\n",
      "[mbo] 45: num_iterations=969; learning_rate=0.0155; feature_fraction=0.383; min_data_in_leaf=501; num_leaves=265; max_depth=12; lambda_l1=5.88; lambda_l2=3.28; min_gain_to_split=0.0956; bagging_fraction=0.824 : y = 0.931 : 58.2 secs : infill_ei\n",
      "\n",
      "Thu Jul 24 17:57:56 2025 AUC 0.930617016652517\n",
      "\n",
      "[mbo] 46: num_iterations=1106; learning_rate=0.019; feature_fraction=0.608; min_data_in_leaf=300; num_leaves=204; max_depth=9; lambda_l1=3.74; lambda_l2=4.36; min_gain_to_split=0.117; bagging_fraction=0.863 : y = 0.931 : 52.6 secs : infill_ei\n",
      "\n",
      "Thu Jul 24 17:58:34 2025 AUC 0.930558365264102\n",
      "\n",
      "[mbo] 47: num_iterations=671; learning_rate=0.0137; feature_fraction=0.395; min_data_in_leaf=593; num_leaves=273; max_depth=8; lambda_l1=4.92; lambda_l2=4.95; min_gain_to_split=0.115; bagging_fraction=0.947 : y = 0.931 : 36.3 secs : infill_ei\n",
      "\n",
      "Thu Jul 24 17:59:20 2025 AUC 0.931155318922562\n",
      "\n",
      "[mbo] 48: num_iterations=736; learning_rate=0.016; feature_fraction=0.375; min_data_in_leaf=473; num_leaves=189; max_depth=10; lambda_l1=4.51; lambda_l2=3.41; min_gain_to_split=0.13; bagging_fraction=0.798 : y = 0.931 : 44.7 secs : infill_ei\n",
      "\n",
      "Thu Jul 24 18:00:09 2025 AUC 0.931415006612805\n",
      "\n",
      "[mbo] 49: num_iterations=744; learning_rate=0.0162; feature_fraction=0.409; min_data_in_leaf=548; num_leaves=201; max_depth=10; lambda_l1=3.97; lambda_l2=4.74; min_gain_to_split=0.0577; bagging_fraction=0.804 : y = 0.931 : 46.8 secs : infill_ei\n",
      "\n",
      "Thu Jul 24 18:01:18 2025 AUC 0.930448459734326\n",
      "\n",
      "[mbo] 50: num_iterations=1062; learning_rate=0.0162; feature_fraction=0.572; min_data_in_leaf=554; num_leaves=245; max_depth=10; lambda_l1=4.02; lambda_l2=4.38; min_gain_to_split=0.122; bagging_fraction=0.797 : y = 0.93 : 66.9 secs : infill_ei\n",
      "\n",
      "Thu Jul 24 18:02:22 2025 AUC 0.93093485274177\n",
      "\n",
      "[mbo] 51: num_iterations=962; learning_rate=0.0208; feature_fraction=0.409; min_data_in_leaf=517; num_leaves=192; max_depth=11; lambda_l1=2.78; lambda_l2=4.79; min_gain_to_split=0.0905; bagging_fraction=0.8 : y = 0.931 : 63.5 secs : infill_ei\n",
      "\n",
      "Thu Jul 24 18:03:26 2025 AUC 0.931652768636704\n",
      "\n",
      "[mbo] 52: num_iterations=1015; learning_rate=0.0163; feature_fraction=0.441; min_data_in_leaf=538; num_leaves=204; max_depth=10; lambda_l1=4.66; lambda_l2=3.78; min_gain_to_split=0.182; bagging_fraction=0.808 : y = 0.932 : 61.5 secs : infill_ei\n",
      "\n",
      "Thu Jul 24 18:04:07 2025 AUC 0.930599058969751\n",
      "\n",
      "[mbo] 53: num_iterations=625; learning_rate=0.0214; feature_fraction=0.501; min_data_in_leaf=189; num_leaves=191; max_depth=8; lambda_l1=4.67; lambda_l2=4.13; min_gain_to_split=0.191; bagging_fraction=0.871 : y = 0.931 : 39.2 secs : infill_ei\n",
      "\n",
      "Thu Jul 24 18:04:55 2025 AUC 0.930813666414957\n",
      "\n",
      "[mbo] 54: num_iterations=772; learning_rate=0.0167; feature_fraction=0.37; min_data_in_leaf=531; num_leaves=206; max_depth=10; lambda_l1=3.73; lambda_l2=4.07; min_gain_to_split=0.0935; bagging_fraction=0.915 : y = 0.931 : 46.1 secs : infill_ei\n",
      "\n",
      "Thu Jul 24 18:05:34 2025 AUC 0.931009195682848\n",
      "\n",
      "[mbo] 55: num_iterations=863; learning_rate=0.034; feature_fraction=0.602; min_data_in_leaf=538; num_leaves=140; max_depth=13; lambda_l1=4.52; lambda_l2=4.42; min_gain_to_split=0.0927; bagging_fraction=0.976 : y = 0.931 : 38.0 secs : infill_ei\n",
      "\n",
      "Saved the current state after iteration 56 in the file bayesiana.RDATA.\n",
      "\n",
      "Thu Jul 24 18:06:46 2025 AUC 0.930725782874259\n",
      "\n",
      "[mbo] 56: num_iterations=1094; learning_rate=0.016; feature_fraction=0.41; min_data_in_leaf=530; num_leaves=205; max_depth=10; lambda_l1=4.3; lambda_l2=2.91; min_gain_to_split=0.0836; bagging_fraction=0.791 : y = 0.931 : 66.1 secs : infill_ei\n",
      "\n",
      "Thu Jul 24 18:07:55 2025 AUC 0.930226000941079\n",
      "\n",
      "[mbo] 57: num_iterations=1077; learning_rate=0.0162; feature_fraction=0.586; min_data_in_leaf=337; num_leaves=161; max_depth=10; lambda_l1=3.96; lambda_l2=4.81; min_gain_to_split=0.0603; bagging_fraction=0.801 : y = 0.93 : 66.4 secs : infill_ei\n",
      "\n",
      "Thu Jul 24 18:08:48 2025 AUC 0.930714234372063\n",
      "\n",
      "[mbo] 58: num_iterations=914; learning_rate=0.0164; feature_fraction=0.451; min_data_in_leaf=552; num_leaves=205; max_depth=10; lambda_l1=4.54; lambda_l2=3.42; min_gain_to_split=0.241; bagging_fraction=0.801 : y = 0.931 : 52.0 secs : infill_ei\n",
      "\n",
      "Thu Jul 24 18:09:54 2025 AUC 0.930957081863931\n",
      "\n",
      "[mbo] 59: num_iterations=1054; learning_rate=0.016; feature_fraction=0.395; min_data_in_leaf=548; num_leaves=202; max_depth=10; lambda_l1=3.96; lambda_l2=4.38; min_gain_to_split=0.0882; bagging_fraction=0.806 : y = 0.931 : 63.4 secs : infill_ei\n",
      "\n",
      "Thu Jul 24 18:10:46 2025 AUC 0.93095907876989\n",
      "\n",
      "[mbo] 60: num_iterations=880; learning_rate=0.0216; feature_fraction=0.433; min_data_in_leaf=573; num_leaves=181; max_depth=10; lambda_l1=4.5; lambda_l2=3.56; min_gain_to_split=0.149; bagging_fraction=0.781 : y = 0.931 : 50.0 secs : infill_ei\n",
      "\n",
      "Thu Jul 24 18:11:31 2025 AUC 0.931279564863647\n",
      "\n",
      "[mbo] 61: num_iterations=688; learning_rate=0.0144; feature_fraction=0.402; min_data_in_leaf=478; num_leaves=190; max_depth=11; lambda_l1=3.09; lambda_l2=3.9; min_gain_to_split=0.0501; bagging_fraction=0.996 : y = 0.931 : 43.8 secs : infill_ei\n",
      "\n",
      "Thu Jul 24 18:12:16 2025 AUC 0.931038338502803\n",
      "\n",
      "[mbo] 62: num_iterations=670; learning_rate=0.0306; feature_fraction=0.475; min_data_in_leaf=484; num_leaves=269; max_depth=11; lambda_l1=3.14; lambda_l2=3.06; min_gain_to_split=0.0914; bagging_fraction=0.909 : y = 0.931 : 43.4 secs : infill_ei\n",
      "\n",
      "Thu Jul 24 18:13:13 2025 AUC 0.930862087263901\n",
      "\n",
      "[mbo] 63: num_iterations=1005; learning_rate=0.0267; feature_fraction=0.4; min_data_in_leaf=599; num_leaves=120; max_depth=8; lambda_l1=2.98; lambda_l2=4.38; min_gain_to_split=0.0972; bagging_fraction=0.877 : y = 0.931 : 56.3 secs : infill_ei\n",
      "\n",
      "Thu Jul 24 18:14:04 2025 AUC 0.929759101477027\n",
      "\n",
      "[mbo] 64: num_iterations=706; learning_rate=0.0236; feature_fraction=0.572; min_data_in_leaf=439; num_leaves=169; max_depth=13; lambda_l1=3.75; lambda_l2=4.25; min_gain_to_split=0.0598; bagging_fraction=0.81 : y = 0.93 : 49.5 secs : infill_ei\n",
      "\n",
      "Thu Jul 24 18:14:46 2025 AUC 0.931056307240772\n",
      "\n",
      "[mbo] 65: num_iterations=622; learning_rate=0.0135; feature_fraction=0.451; min_data_in_leaf=323; num_leaves=200; max_depth=11; lambda_l1=4.36; lambda_l2=3.96; min_gain_to_split=0.204; bagging_fraction=0.859 : y = 0.931 : 40.4 secs : infill_ei\n",
      "\n",
      "Thu Jul 24 18:16:03 2025 AUC 0.930697442277939\n",
      "\n",
      "[mbo] 66: num_iterations=1096; learning_rate=0.0169; feature_fraction=0.489; min_data_in_leaf=289; num_leaves=249; max_depth=13; lambda_l1=3; lambda_l2=3.04; min_gain_to_split=0.113; bagging_fraction=0.772 : y = 0.931 : 76.0 secs : infill_ei\n",
      "\n",
      "Saved the current state after iteration 67 in the file bayesiana.RDATA.\n",
      "\n",
      "Thu Jul 24 18:16:54 2025 AUC 0.931798193457939\n",
      "\n",
      "[mbo] 67: num_iterations=907; learning_rate=0.0311; feature_fraction=0.38; min_data_in_leaf=498; num_leaves=125; max_depth=9; lambda_l1=3.79; lambda_l2=4.21; min_gain_to_split=0.177; bagging_fraction=0.897 : y = 0.932 : 45.1 secs : infill_ei\n",
      "\n",
      "Thu Jul 24 18:17:50 2025 AUC 0.930399440468278\n",
      "\n",
      "[mbo] 68: num_iterations=798; learning_rate=0.0232; feature_fraction=0.509; min_data_in_leaf=411; num_leaves=174; max_depth=11; lambda_l1=3.98; lambda_l2=4.53; min_gain_to_split=0.0824; bagging_fraction=0.772 : y = 0.93 : 54.7 secs : infill_ei\n",
      "\n",
      "Thu Jul 24 18:18:47 2025 AUC 0.930412121202286\n",
      "\n",
      "[mbo] 69: num_iterations=1145; learning_rate=0.034; feature_fraction=0.432; min_data_in_leaf=426; num_leaves=244; max_depth=11; lambda_l1=2.61; lambda_l2=4.09; min_gain_to_split=0.183; bagging_fraction=0.873 : y = 0.93 : 56.1 secs : infill_ei\n",
      "\n",
      "Thu Jul 24 18:19:25 2025 AUC 0.931572151683692\n",
      "\n",
      "[mbo] 70: num_iterations=638; learning_rate=0.0217; feature_fraction=0.439; min_data_in_leaf=587; num_leaves=128; max_depth=8; lambda_l1=4.82; lambda_l2=4.32; min_gain_to_split=0.23; bagging_fraction=0.814 : y = 0.932 : 36.1 secs : infill_ei\n",
      "\n",
      "Thu Jul 24 18:20:07 2025 AUC 0.930804811554369\n",
      "\n",
      "[mbo] 71: num_iterations=863; learning_rate=0.0302; feature_fraction=0.382; min_data_in_leaf=434; num_leaves=178; max_depth=13; lambda_l1=5.31; lambda_l2=2.9; min_gain_to_split=0.202; bagging_fraction=0.88 : y = 0.931 : 40.8 secs : infill_ei\n",
      "\n",
      "Thu Jul 24 18:21:04 2025 AUC 0.929983950839911\n",
      "\n",
      "[mbo] 72: num_iterations=874; learning_rate=0.0141; feature_fraction=0.408; min_data_in_leaf=459; num_leaves=266; max_depth=11; lambda_l1=3.71; lambda_l2=3.01; min_gain_to_split=0.136; bagging_fraction=0.915 : y = 0.93 : 55.8 secs : infill_ei\n",
      "\n",
      "Thu Jul 24 18:22:06 2025 AUC 0.930902791089264\n",
      "\n",
      "[mbo] 73: num_iterations=1107; learning_rate=0.016; feature_fraction=0.353; min_data_in_leaf=444; num_leaves=188; max_depth=10; lambda_l1=5.04; lambda_l2=3.88; min_gain_to_split=0.121; bagging_fraction=0.871 : y = 0.931 : 61.3 secs : infill_ei\n",
      "\n",
      "Thu Jul 24 18:22:43 2025 AUC 0.930171597113963\n",
      "\n",
      "[mbo] 74: num_iterations=672; learning_rate=0.0299; feature_fraction=0.615; min_data_in_leaf=352; num_leaves=251; max_depth=12; lambda_l1=4.02; lambda_l2=3.98; min_gain_to_split=0.0793; bagging_fraction=0.791 : y = 0.93 : 35.5 secs : infill_ei\n",
      "\n",
      "Thu Jul 24 18:23:43 2025 AUC 0.931253415539554\n",
      "\n",
      "[mbo] 75: num_iterations=1069; learning_rate=0.0257; feature_fraction=0.411; min_data_in_leaf=530; num_leaves=160; max_depth=10; lambda_l1=3.97; lambda_l2=4.88; min_gain_to_split=0.0982; bagging_fraction=0.856 : y = 0.931 : 57.0 secs : infill_ei\n",
      "\n",
      "Thu Jul 24 18:24:24 2025 AUC 0.930359806304273\n",
      "\n",
      "[mbo] 76: num_iterations=668; learning_rate=0.0138; feature_fraction=0.593; min_data_in_leaf=251; num_leaves=135; max_depth=11; lambda_l1=5.45; lambda_l2=3.73; min_gain_to_split=0.241; bagging_fraction=0.842 : y = 0.93 : 39.6 secs : infill_ei\n",
      "\n",
      "Thu Jul 24 18:25:06 2025 AUC 0.930281960709393\n",
      "\n",
      "[mbo] 77: num_iterations=881; learning_rate=0.0315; feature_fraction=0.36; min_data_in_leaf=255; num_leaves=258; max_depth=11; lambda_l1=5.35; lambda_l2=3.13; min_gain_to_split=0.201; bagging_fraction=0.812 : y = 0.93 : 41.1 secs : infill_ei\n",
      "\n",
      "Thu Jul 24 18:26:10 2025 AUC 0.931115989942241\n",
      "\n",
      "[mbo] 78: num_iterations=870; learning_rate=0.0236; feature_fraction=0.393; min_data_in_leaf=307; num_leaves=170; max_depth=13; lambda_l1=2.93; lambda_l2=4.14; min_gain_to_split=0.047; bagging_fraction=0.812 : y = 0.931 : 62.1 secs : infill_ei\n",
      "\n",
      "Saved the current state after iteration 79 in the file bayesiana.RDATA.\n",
      "\n",
      "Thu Jul 24 18:27:24 2025 AUC 0.930638898738081\n",
      "\n",
      "[mbo] 79: num_iterations=1196; learning_rate=0.0179; feature_fraction=0.356; min_data_in_leaf=515; num_leaves=250; max_depth=8; lambda_l1=5.76; lambda_l2=3.83; min_gain_to_split=0.0404; bagging_fraction=0.806 : y = 0.931 : 68.2 secs : infill_ei\n",
      "\n",
      "Thu Jul 24 18:28:01 2025 AUC 0.930295956124463\n",
      "\n",
      "[mbo] 80: num_iterations=759; learning_rate=0.0305; feature_fraction=0.575; min_data_in_leaf=573; num_leaves=258; max_depth=9; lambda_l1=3.6; lambda_l2=4.31; min_gain_to_split=0.198; bagging_fraction=0.934 : y = 0.93 : 36.1 secs : infill_ei\n",
      "\n",
      "Thu Jul 24 18:28:59 2025 AUC 0.931145469452386\n",
      "\n",
      "[mbo] 81: num_iterations=1187; learning_rate=0.0301; feature_fraction=0.478; min_data_in_leaf=527; num_leaves=234; max_depth=13; lambda_l1=5.53; lambda_l2=4; min_gain_to_split=0.211; bagging_fraction=0.954 : y = 0.931 : 56.4 secs : infill_ei\n",
      "\n",
      "Thu Jul 24 18:29:42 2025 AUC 0.932107005733207\n",
      "\n",
      "[mbo] 82: num_iterations=847; learning_rate=0.0314; feature_fraction=0.439; min_data_in_leaf=418; num_leaves=120; max_depth=8; lambda_l1=4.92; lambda_l2=3.7; min_gain_to_split=0.237; bagging_fraction=0.8 : y = 0.932 : 41.2 secs : infill_ei\n",
      "\n",
      "Thu Jul 24 18:30:34 2025 AUC 0.931053575849752\n",
      "\n",
      "[mbo] 83: num_iterations=822; learning_rate=0.0127; feature_fraction=0.425; min_data_in_leaf=466; num_leaves=208; max_depth=9; lambda_l1=4.5; lambda_l2=4.71; min_gain_to_split=0.114; bagging_fraction=0.796 : y = 0.931 : 50.4 secs : infill_ei\n",
      "\n",
      "Thu Jul 24 18:31:34 2025 AUC 0.930967872075733\n",
      "\n",
      "[mbo] 84: num_iterations=1048; learning_rate=0.0139; feature_fraction=0.418; min_data_in_leaf=544; num_leaves=203; max_depth=11; lambda_l1=5.85; lambda_l2=3.53; min_gain_to_split=0.201; bagging_fraction=0.82 : y = 0.931 : 59.1 secs : infill_ei\n",
      "\n",
      "Thu Jul 24 18:32:29 2025 AUC 0.931006682388801\n",
      "\n",
      "[mbo] 85: num_iterations=1011; learning_rate=0.0257; feature_fraction=0.394; min_data_in_leaf=424; num_leaves=132; max_depth=10; lambda_l1=4.5; lambda_l2=3.44; min_gain_to_split=0.138; bagging_fraction=0.925 : y = 0.931 : 52.2 secs : infill_ei\n",
      "\n",
      "Thu Jul 24 18:33:12 2025 AUC 0.931558944349063\n",
      "\n",
      "[mbo] 86: num_iterations=750; learning_rate=0.0268; feature_fraction=0.363; min_data_in_leaf=522; num_leaves=182; max_depth=11; lambda_l1=2.81; lambda_l2=3.71; min_gain_to_split=0.202; bagging_fraction=0.832 : y = 0.932 : 42.0 secs : infill_ei\n",
      "\n",
      "Thu Jul 24 18:34:10 2025 AUC 0.931160382588935\n",
      "\n",
      "[mbo] 87: num_iterations=850; learning_rate=0.0157; feature_fraction=0.519; min_data_in_leaf=336; num_leaves=213; max_depth=12; lambda_l1=4.48; lambda_l2=4.93; min_gain_to_split=0.159; bagging_fraction=0.751 : y = 0.931 : 56.5 secs : infill_ei\n",
      "\n",
      "Thu Jul 24 18:34:58 2025 AUC 0.930532787554407\n",
      "\n",
      "[mbo] 88: num_iterations=905; learning_rate=0.0327; feature_fraction=0.369; min_data_in_leaf=449; num_leaves=158; max_depth=12; lambda_l1=5.48; lambda_l2=4.74; min_gain_to_split=0.0649; bagging_fraction=0.945 : y = 0.931 : 46.1 secs : infill_ei\n",
      "\n",
      "Thu Jul 24 18:35:52 2025 AUC 0.93057498844994\n",
      "\n",
      "[mbo] 89: num_iterations=1072; learning_rate=0.0325; feature_fraction=0.355; min_data_in_leaf=331; num_leaves=210; max_depth=10; lambda_l1=5.51; lambda_l2=3.51; min_gain_to_split=0.0698; bagging_fraction=0.774 : y = 0.931 : 52.1 secs : infill_ei\n",
      "\n",
      "Thu Jul 24 18:36:50 2025 AUC 0.931867887941917\n",
      "\n",
      "[mbo] 90: num_iterations=969; learning_rate=0.016; feature_fraction=0.405; min_data_in_leaf=504; num_leaves=211; max_depth=10; lambda_l1=4.62; lambda_l2=3.25; min_gain_to_split=0.188; bagging_fraction=0.799 : y = 0.932 : 55.0 secs : infill_ei\n",
      "\n",
      "Saved the current state after iteration 91 in the file bayesiana.RDATA.\n",
      "\n",
      "Thu Jul 24 18:37:47 2025 AUC 0.931210608110304\n",
      "\n",
      "[mbo] 91: num_iterations=903; learning_rate=0.0206; feature_fraction=0.434; min_data_in_leaf=397; num_leaves=127; max_depth=8; lambda_l1=4.92; lambda_l2=3.69; min_gain_to_split=0.211; bagging_fraction=0.969 : y = 0.931 : 47.4 secs : infill_ei\n",
      "\n",
      "Thu Jul 24 18:38:46 2025 AUC 0.930993181430068\n",
      "\n",
      "[mbo] 92: num_iterations=1022; learning_rate=0.0163; feature_fraction=0.437; min_data_in_leaf=522; num_leaves=186; max_depth=10; lambda_l1=5.01; lambda_l2=4.54; min_gain_to_split=0.191; bagging_fraction=0.805 : y = 0.931 : 56.6 secs : infill_ei\n",
      "\n",
      "Thu Jul 24 18:39:30 2025 AUC 0.930381889194051\n",
      "\n",
      "[mbo] 93: num_iterations=845; learning_rate=0.0277; feature_fraction=0.417; min_data_in_leaf=397; num_leaves=126; max_depth=8; lambda_l1=4.93; lambda_l2=3.65; min_gain_to_split=0.241; bagging_fraction=0.865 : y = 0.93 : 41.8 secs : infill_ei\n",
      "\n",
      "Thu Jul 24 18:40:19 2025 AUC 0.930941721620631\n",
      "\n",
      "[mbo] 94: num_iterations=774; learning_rate=0.0269; feature_fraction=0.452; min_data_in_leaf=372; num_leaves=254; max_depth=13; lambda_l1=3.4; lambda_l2=2.97; min_gain_to_split=0.153; bagging_fraction=0.919 : y = 0.931 : 47.2 secs : infill_ei\n",
      "\n",
      "Thu Jul 24 18:41:37 2025 AUC 0.930712405630228\n",
      "\n",
      "[mbo] 95: num_iterations=1169; learning_rate=0.0204; feature_fraction=0.453; min_data_in_leaf=578; num_leaves=238; max_depth=10; lambda_l1=3.84; lambda_l2=4.72; min_gain_to_split=0.0386; bagging_fraction=0.796 : y = 0.931 : 75.1 secs : infill_ei\n",
      "\n",
      "Thu Jul 24 18:42:27 2025 AUC 0.930608326234391\n",
      "\n",
      "[mbo] 96: num_iterations=869; learning_rate=0.0249; feature_fraction=0.439; min_data_in_leaf=412; num_leaves=140; max_depth=9; lambda_l1=4.85; lambda_l2=3.7; min_gain_to_split=0.103; bagging_fraction=0.908 : y = 0.931 : 47.8 secs : infill_ei\n",
      "\n",
      "Thu Jul 24 18:43:09 2025 AUC 0.929569392283568\n",
      "\n",
      "[mbo] 97: num_iterations=605; learning_rate=0.0297; feature_fraction=0.362; min_data_in_leaf=528; num_leaves=254; max_depth=13; lambda_l1=2.65; lambda_l2=2.85; min_gain_to_split=0.131; bagging_fraction=0.831 : y = 0.93 : 40.4 secs : infill_ei\n",
      "\n",
      "Thu Jul 24 18:43:55 2025 AUC 0.930921561431911\n",
      "\n",
      "[mbo] 98: num_iterations=621; learning_rate=0.0225; feature_fraction=0.426; min_data_in_leaf=279; num_leaves=215; max_depth=12; lambda_l1=3.9; lambda_l2=3.01; min_gain_to_split=0.0975; bagging_fraction=0.98 : y = 0.931 : 44.5 secs : infill_ei\n",
      "\n",
      "Thu Jul 24 18:44:56 2025 AUC 0.930959935717811\n",
      "\n",
      "[mbo] 99: num_iterations=979; learning_rate=0.0165; feature_fraction=0.57; min_data_in_leaf=534; num_leaves=134; max_depth=10; lambda_l1=4.16; lambda_l2=4.72; min_gain_to_split=0.15; bagging_fraction=0.841 : y = 0.931 : 58.1 secs : infill_ei\n",
      "\n",
      "Thu Jul 24 18:46:13 2025 AUC 0.931878061958104\n",
      "\n",
      "[mbo] 100: num_iterations=1066; learning_rate=0.0124; feature_fraction=0.432; min_data_in_leaf=391; num_leaves=214; max_depth=13; lambda_l1=3.71; lambda_l2=3.88; min_gain_to_split=0.0759; bagging_fraction=0.904 : y = 0.932 : 75.4 secs : infill_ei\n",
      "\n",
      "Saved the final state in the file bayesiana.RDATA\n",
      "\n"
     ]
    }
   ],
   "source": [
    "# inicio la optimizacion bayesiana, retomando si ya existe\n",
    "# es la celda mas lenta de todo el notebook\n",
    "\n",
    "if (!file.exists(kbayesiana)) {\n",
    "  bayesiana_salida <- mbo(obj.fun, learner= surr.km, control= ctrl)\n",
    "} else {\n",
    "  bayesiana_salida <- mboContinue(kbayesiana) # retomo en caso que ya exista\n",
    "}"
   ]
  },
  {
   "cell_type": "code",
   "execution_count": 33,
   "metadata": {
    "id": "ssk5nnMk6INK"
   },
   "outputs": [
    {
     "data": {
      "text/html": [
       "<style>\n",
       ".list-inline {list-style: none; margin:0; padding: 0}\n",
       ".list-inline>li {display: inline-block}\n",
       ".list-inline>li:not(:last-child)::after {content: \"\\00b7\"; padding: 0 .5ex}\n",
       "</style>\n",
       "<ol class=list-inline><li>'num_iterations'</li><li>'learning_rate'</li><li>'feature_fraction'</li><li>'min_data_in_leaf'</li><li>'num_leaves'</li><li>'max_depth'</li><li>'lambda_l1'</li><li>'lambda_l2'</li><li>'min_gain_to_split'</li><li>'bagging_fraction'</li><li>'y'</li><li>'dob'</li><li>'eol'</li><li>'error.message'</li><li>'exec.time'</li><li>'ei'</li><li>'error.model'</li><li>'train.time'</li><li>'prop.type'</li><li>'propose.time'</li><li>'se'</li><li>'mean'</li></ol>\n"
      ],
      "text/latex": [
       "\\begin{enumerate*}\n",
       "\\item 'num\\_iterations'\n",
       "\\item 'learning\\_rate'\n",
       "\\item 'feature\\_fraction'\n",
       "\\item 'min\\_data\\_in\\_leaf'\n",
       "\\item 'num\\_leaves'\n",
       "\\item 'max\\_depth'\n",
       "\\item 'lambda\\_l1'\n",
       "\\item 'lambda\\_l2'\n",
       "\\item 'min\\_gain\\_to\\_split'\n",
       "\\item 'bagging\\_fraction'\n",
       "\\item 'y'\n",
       "\\item 'dob'\n",
       "\\item 'eol'\n",
       "\\item 'error.message'\n",
       "\\item 'exec.time'\n",
       "\\item 'ei'\n",
       "\\item 'error.model'\n",
       "\\item 'train.time'\n",
       "\\item 'prop.type'\n",
       "\\item 'propose.time'\n",
       "\\item 'se'\n",
       "\\item 'mean'\n",
       "\\end{enumerate*}\n"
      ],
      "text/markdown": [
       "1. 'num_iterations'\n",
       "2. 'learning_rate'\n",
       "3. 'feature_fraction'\n",
       "4. 'min_data_in_leaf'\n",
       "5. 'num_leaves'\n",
       "6. 'max_depth'\n",
       "7. 'lambda_l1'\n",
       "8. 'lambda_l2'\n",
       "9. 'min_gain_to_split'\n",
       "10. 'bagging_fraction'\n",
       "11. 'y'\n",
       "12. 'dob'\n",
       "13. 'eol'\n",
       "14. 'error.message'\n",
       "15. 'exec.time'\n",
       "16. 'ei'\n",
       "17. 'error.model'\n",
       "18. 'train.time'\n",
       "19. 'prop.type'\n",
       "20. 'propose.time'\n",
       "21. 'se'\n",
       "22. 'mean'\n",
       "\n",
       "\n"
      ],
      "text/plain": [
       " [1] \"num_iterations\"    \"learning_rate\"     \"feature_fraction\" \n",
       " [4] \"min_data_in_leaf\"  \"num_leaves\"        \"max_depth\"        \n",
       " [7] \"lambda_l1\"         \"lambda_l2\"         \"min_gain_to_split\"\n",
       "[10] \"bagging_fraction\"  \"y\"                 \"dob\"              \n",
       "[13] \"eol\"               \"error.message\"     \"exec.time\"        \n",
       "[16] \"ei\"                \"error.model\"       \"train.time\"       \n",
       "[19] \"prop.type\"         \"propose.time\"      \"se\"               \n",
       "[22] \"mean\"             "
      ]
     },
     "metadata": {},
     "output_type": "display_data"
    }
   ],
   "source": [
    "\n",
    "tb_bayesiana <- as.data.table(bayesiana_salida$opt.path)\n",
    "colnames( tb_bayesiana)"
   ]
  },
  {
   "cell_type": "code",
   "execution_count": 34,
   "metadata": {
    "id": "u4zq-vknhjGc"
   },
   "outputs": [],
   "source": [
    "# almaceno los resultados de la Bayesian Optimization\n",
    "# y capturo los mejores hiperparametros encontrados\n",
    "\n",
    "tb_bayesiana <- as.data.table(bayesiana_salida$opt.path)\n",
    "\n",
    "tb_bayesiana[, iter := .I]\n",
    "\n",
    "# ordeno en forma descendente por AUC = y\n",
    "setorder(tb_bayesiana, -y)\n",
    "\n",
    "# grabo para eventualmente poder utilizarlos en OTRA corrida\n",
    "fwrite( tb_bayesiana,\n",
    "  file= \"BO_log.txt\",\n",
    "  sep= \"\\t\"\n",
    ")\n",
    "\n",
    "# los mejores hiperparámetros son los que quedaron en el registro 1 de la tabla\n",
    "PARAM$out$lgbm$mejores_hiperparametros <- tb_bayesiana[\n",
    "  1, # el primero es el de mejor AUC\n",
    "  setdiff(colnames(tb_bayesiana),\n",
    "    c(\"y\",\"dob\",\"eol\",\"error.message\",\"exec.time\",\"ei\",\"error.model\",\n",
    "      \"train.time\",\"prop.type\",\"propose.time\",\"se\",\"mean\",\"iter\")),\n",
    "  with= FALSE\n",
    "]\n",
    "\n",
    "\n",
    "PARAM$out$lgbm$y <- tb_bayesiana[1, y]\n"
   ]
  },
  {
   "cell_type": "code",
   "execution_count": 35,
   "metadata": {
    "id": "E8v2eA427N8e"
   },
   "outputs": [],
   "source": [
    "write_yaml( PARAM, file=\"PARAM.yml\")"
   ]
  },
  {
   "cell_type": "code",
   "execution_count": 36,
   "metadata": {
    "id": "iBTWexVU7PGC"
   },
   "outputs": [
    {
     "name": "stdout",
     "output_type": "stream",
     "text": [
      "   num_iterations learning_rate feature_fraction min_data_in_leaf num_leaves\n",
      "            <int>         <num>            <num>            <int>      <int>\n",
      "1:            847    0.03143623        0.4386769              418        120\n",
      "   max_depth lambda_l1 lambda_l2 min_gain_to_split bagging_fraction\n",
      "       <int>     <num>     <num>             <num>            <num>\n",
      "1:         8  4.924805  3.696983          0.237484        0.7997545\n",
      "[1] 0.932107\n"
     ]
    }
   ],
   "source": [
    "print(PARAM$out$lgbm$mejores_hiperparametros)\n",
    "print(PARAM$out$lgbm$y)"
   ]
  },
  {
   "cell_type": "markdown",
   "metadata": {
    "id": "TKsVZmAnhwX-"
   },
   "source": [
    "## 2.3  Produccion"
   ]
  },
  {
   "cell_type": "markdown",
   "metadata": {
    "id": "RQ_C33Tr5B_9"
   },
   "source": [
    "### Final Training\n",
    "Construyo el modelo final, que es uno solo, no hace ningun tipo de particion < training, validation, testing>]"
   ]
  },
  {
   "cell_type": "code",
   "execution_count": 37,
   "metadata": {
    "id": "eDqfyA14hzwv"
   },
   "outputs": [],
   "source": [
    "setwd(\"/content/buckets/b1/exp\")\n",
    "experimento <- paste0(\"exp\", PARAM$experimento)\n",
    "dir.create(experimento, showWarnings= FALSE)\n",
    "setwd( paste0(\"/content/buckets/b1/exp/\", experimento ))"
   ]
  },
  {
   "cell_type": "markdown",
   "metadata": {
    "id": "8qFmFivf5Iet"
   },
   "source": [
    "#### Final Training Dataset\n",
    "\n",
    "Aqui esta la gran decision de en qué meses hago el Final Training\n",
    "<br> debo utilizar los mejores hiperparámetros que encontré en la optimización bayesiana"
   ]
  },
  {
   "cell_type": "code",
   "execution_count": 38,
   "metadata": {
    "id": "lg5WVZncvc7H"
   },
   "outputs": [],
   "source": [
    "# clase01\n",
    "dataset[, clase01 := ifelse(clase_ternaria %in% c(\"BAJA+1\", \"BAJA+2\"), 1L, 0L)]"
   ]
  },
  {
   "cell_type": "code",
   "execution_count": 39,
   "metadata": {
    "id": "yc9QzXREv0xf"
   },
   "outputs": [],
   "source": [
    "dataset_train <- dataset[foto_mes %in% c(202107)]"
   ]
  },
  {
   "cell_type": "code",
   "execution_count": 40,
   "metadata": {
    "id": "thjdqEBLuvNt"
   },
   "outputs": [],
   "source": [
    "# dejo los datos en el formato que necesita LightGBM\n",
    "\n",
    "dtrain <- lgb.Dataset(\n",
    "  data= data.matrix(dataset_train[, campos_buenos, with= FALSE]),\n",
    "  label= dataset_train[, clase01]\n",
    ")"
   ]
  },
  {
   "cell_type": "markdown",
   "metadata": {
    "id": "VNUa-WSz5Oqu"
   },
   "source": [
    "#### Final Training Hyperparameters"
   ]
  },
  {
   "cell_type": "code",
   "execution_count": 41,
   "metadata": {
    "id": "FgCcvBfEwImu"
   },
   "outputs": [
    {
     "data": {
      "text/html": [
       "<dl>\n",
       "\t<dt>$boosting</dt>\n",
       "\t\t<dd>'gbdt'</dd>\n",
       "\t<dt>$objective</dt>\n",
       "\t\t<dd>'binary'</dd>\n",
       "\t<dt>$metric</dt>\n",
       "\t\t<dd>'auc'</dd>\n",
       "\t<dt>$first_metric_only</dt>\n",
       "\t\t<dd>FALSE</dd>\n",
       "\t<dt>$boost_from_average</dt>\n",
       "\t\t<dd>TRUE</dd>\n",
       "\t<dt>$feature_pre_filter</dt>\n",
       "\t\t<dd>FALSE</dd>\n",
       "\t<dt>$force_row_wise</dt>\n",
       "\t\t<dd>TRUE</dd>\n",
       "\t<dt>$verbosity</dt>\n",
       "\t\t<dd>-100</dd>\n",
       "\t<dt>$seed</dt>\n",
       "\t\t<dd>100129</dd>\n",
       "\t<dt>$max_depth</dt>\n",
       "\t\t<dd>8</dd>\n",
       "\t<dt>$min_gain_to_split</dt>\n",
       "\t\t<dd>0.237484011769084</dd>\n",
       "\t<dt>$min_sum_hessian_in_leaf</dt>\n",
       "\t\t<dd>0.001</dd>\n",
       "\t<dt>$lambda_l1</dt>\n",
       "\t\t<dd>4.92480479830257</dd>\n",
       "\t<dt>$lambda_l2</dt>\n",
       "\t\t<dd>3.69698273664359</dd>\n",
       "\t<dt>$max_bin</dt>\n",
       "\t\t<dd>31</dd>\n",
       "\t<dt>$bagging_fraction</dt>\n",
       "\t\t<dd>0.799754502520474</dd>\n",
       "\t<dt>$pos_bagging_fraction</dt>\n",
       "\t\t<dd>1</dd>\n",
       "\t<dt>$neg_bagging_fraction</dt>\n",
       "\t\t<dd>1</dd>\n",
       "\t<dt>$is_unbalance</dt>\n",
       "\t\t<dd>FALSE</dd>\n",
       "\t<dt>$scale_pos_weight</dt>\n",
       "\t\t<dd>1</dd>\n",
       "\t<dt>$drop_rate</dt>\n",
       "\t\t<dd>0.1</dd>\n",
       "\t<dt>$max_drop</dt>\n",
       "\t\t<dd>50</dd>\n",
       "\t<dt>$skip_drop</dt>\n",
       "\t\t<dd>0.5</dd>\n",
       "\t<dt>$extra_trees</dt>\n",
       "\t\t<dd>FALSE</dd>\n",
       "\t<dt>$num_iterations</dt>\n",
       "\t\t<dd>847</dd>\n",
       "\t<dt>$learning_rate</dt>\n",
       "\t\t<dd>0.0314362290072044</dd>\n",
       "\t<dt>$feature_fraction</dt>\n",
       "\t\t<dd>0.43867693635237</dd>\n",
       "\t<dt>$num_leaves</dt>\n",
       "\t\t<dd>120</dd>\n",
       "\t<dt>$min_data_in_leaf</dt>\n",
       "\t\t<dd>418</dd>\n",
       "</dl>\n"
      ],
      "text/latex": [
       "\\begin{description}\n",
       "\\item[\\$boosting] 'gbdt'\n",
       "\\item[\\$objective] 'binary'\n",
       "\\item[\\$metric] 'auc'\n",
       "\\item[\\$first\\_metric\\_only] FALSE\n",
       "\\item[\\$boost\\_from\\_average] TRUE\n",
       "\\item[\\$feature\\_pre\\_filter] FALSE\n",
       "\\item[\\$force\\_row\\_wise] TRUE\n",
       "\\item[\\$verbosity] -100\n",
       "\\item[\\$seed] 100129\n",
       "\\item[\\$max\\_depth] 8\n",
       "\\item[\\$min\\_gain\\_to\\_split] 0.237484011769084\n",
       "\\item[\\$min\\_sum\\_hessian\\_in\\_leaf] 0.001\n",
       "\\item[\\$lambda\\_l1] 4.92480479830257\n",
       "\\item[\\$lambda\\_l2] 3.69698273664359\n",
       "\\item[\\$max\\_bin] 31\n",
       "\\item[\\$bagging\\_fraction] 0.799754502520474\n",
       "\\item[\\$pos\\_bagging\\_fraction] 1\n",
       "\\item[\\$neg\\_bagging\\_fraction] 1\n",
       "\\item[\\$is\\_unbalance] FALSE\n",
       "\\item[\\$scale\\_pos\\_weight] 1\n",
       "\\item[\\$drop\\_rate] 0.1\n",
       "\\item[\\$max\\_drop] 50\n",
       "\\item[\\$skip\\_drop] 0.5\n",
       "\\item[\\$extra\\_trees] FALSE\n",
       "\\item[\\$num\\_iterations] 847\n",
       "\\item[\\$learning\\_rate] 0.0314362290072044\n",
       "\\item[\\$feature\\_fraction] 0.43867693635237\n",
       "\\item[\\$num\\_leaves] 120\n",
       "\\item[\\$min\\_data\\_in\\_leaf] 418\n",
       "\\end{description}\n"
      ],
      "text/markdown": [
       "$boosting\n",
       ":   'gbdt'\n",
       "$objective\n",
       ":   'binary'\n",
       "$metric\n",
       ":   'auc'\n",
       "$first_metric_only\n",
       ":   FALSE\n",
       "$boost_from_average\n",
       ":   TRUE\n",
       "$feature_pre_filter\n",
       ":   FALSE\n",
       "$force_row_wise\n",
       ":   TRUE\n",
       "$verbosity\n",
       ":   -100\n",
       "$seed\n",
       ":   100129\n",
       "$max_depth\n",
       ":   8\n",
       "$min_gain_to_split\n",
       ":   0.237484011769084\n",
       "$min_sum_hessian_in_leaf\n",
       ":   0.001\n",
       "$lambda_l1\n",
       ":   4.92480479830257\n",
       "$lambda_l2\n",
       ":   3.69698273664359\n",
       "$max_bin\n",
       ":   31\n",
       "$bagging_fraction\n",
       ":   0.799754502520474\n",
       "$pos_bagging_fraction\n",
       ":   1\n",
       "$neg_bagging_fraction\n",
       ":   1\n",
       "$is_unbalance\n",
       ":   FALSE\n",
       "$scale_pos_weight\n",
       ":   1\n",
       "$drop_rate\n",
       ":   0.1\n",
       "$max_drop\n",
       ":   50\n",
       "$skip_drop\n",
       ":   0.5\n",
       "$extra_trees\n",
       ":   FALSE\n",
       "$num_iterations\n",
       ":   847\n",
       "$learning_rate\n",
       ":   0.0314362290072044\n",
       "$feature_fraction\n",
       ":   0.43867693635237\n",
       "$num_leaves\n",
       ":   120\n",
       "$min_data_in_leaf\n",
       ":   418\n",
       "\n",
       "\n"
      ],
      "text/plain": [
       "$boosting\n",
       "[1] \"gbdt\"\n",
       "\n",
       "$objective\n",
       "[1] \"binary\"\n",
       "\n",
       "$metric\n",
       "[1] \"auc\"\n",
       "\n",
       "$first_metric_only\n",
       "[1] FALSE\n",
       "\n",
       "$boost_from_average\n",
       "[1] TRUE\n",
       "\n",
       "$feature_pre_filter\n",
       "[1] FALSE\n",
       "\n",
       "$force_row_wise\n",
       "[1] TRUE\n",
       "\n",
       "$verbosity\n",
       "[1] -100\n",
       "\n",
       "$seed\n",
       "[1] 100129\n",
       "\n",
       "$max_depth\n",
       "[1] 8\n",
       "\n",
       "$min_gain_to_split\n",
       "[1] 0.237484\n",
       "\n",
       "$min_sum_hessian_in_leaf\n",
       "[1] 0.001\n",
       "\n",
       "$lambda_l1\n",
       "[1] 4.924805\n",
       "\n",
       "$lambda_l2\n",
       "[1] 3.696983\n",
       "\n",
       "$max_bin\n",
       "[1] 31\n",
       "\n",
       "$bagging_fraction\n",
       "[1] 0.7997545\n",
       "\n",
       "$pos_bagging_fraction\n",
       "[1] 1\n",
       "\n",
       "$neg_bagging_fraction\n",
       "[1] 1\n",
       "\n",
       "$is_unbalance\n",
       "[1] FALSE\n",
       "\n",
       "$scale_pos_weight\n",
       "[1] 1\n",
       "\n",
       "$drop_rate\n",
       "[1] 0.1\n",
       "\n",
       "$max_drop\n",
       "[1] 50\n",
       "\n",
       "$skip_drop\n",
       "[1] 0.5\n",
       "\n",
       "$extra_trees\n",
       "[1] FALSE\n",
       "\n",
       "$num_iterations\n",
       "[1] 847\n",
       "\n",
       "$learning_rate\n",
       "[1] 0.03143623\n",
       "\n",
       "$feature_fraction\n",
       "[1] 0.4386769\n",
       "\n",
       "$num_leaves\n",
       "[1] 120\n",
       "\n",
       "$min_data_in_leaf\n",
       "[1] 418\n"
      ]
     },
     "metadata": {},
     "output_type": "display_data"
    }
   ],
   "source": [
    "param_final <- modifyList(PARAM$lgbm$param_fijos,\n",
    "  PARAM$out$lgbm$mejores_hiperparametros)\n",
    "\n",
    "param_final"
   ]
  },
  {
   "cell_type": "markdown",
   "metadata": {
    "id": "TZIYn4l95TBH"
   },
   "source": [
    "#### Training\n",
    "Genero el modelo final, siempre sobre TODOS los datos de  final_train, sin hacer ningun tipo de undersampling de la clase mayoritaria"
   ]
  },
  {
   "cell_type": "code",
   "execution_count": 42,
   "metadata": {
    "id": "vPLsd4mMRe4u"
   },
   "outputs": [],
   "source": [
    "# este punto es muy SUTIL  y será revisado en la Clase 05\n",
    "\n",
    "param_normalizado <- copy(param_final)\n",
    "param_normalizado$min_data_in_leaf <-  param_final$min_data_in_leaf / PARAM$trainingstrategy$undersampling"
   ]
  },
  {
   "cell_type": "code",
   "execution_count": 43,
   "metadata": {
    "id": "WRI_-taRwOXO"
   },
   "outputs": [],
   "source": [
    "  # entreno LightGBM\n",
    "\n",
    "  modelo_final <- lgb.train(\n",
    "    data= dtrain,\n",
    "    param= param_normalizado\n",
    "  )"
   ]
  },
  {
   "cell_type": "code",
   "execution_count": 44,
   "metadata": {
    "id": "_bkhnCvj0g3Q"
   },
   "outputs": [],
   "source": [
    "# ahora imprimo la importancia de variables\n",
    "\n",
    "tb_importancia <- as.data.table(lgb.importance(modelo_final))\n",
    "archivo_importancia <- \"impo.txt\"\n",
    "\n",
    "fwrite(tb_importancia,\n",
    "  file= archivo_importancia,\n",
    "  sep= \"\\t\"\n",
    ")"
   ]
  },
  {
   "cell_type": "code",
   "execution_count": 45,
   "metadata": {
    "id": "lZ3sLmbh0kFj"
   },
   "outputs": [],
   "source": [
    "# grabo a disco el modelo en un formato para seres humanos ... ponele ...\n",
    "\n",
    "lgb.save(modelo_final, \"modelo.txt\" )"
   ]
  },
  {
   "cell_type": "markdown",
   "metadata": {
    "id": "VEtp2--t5Ymg"
   },
   "source": [
    "### Scoring"
   ]
  },
  {
   "cell_type": "markdown",
   "metadata": {
    "id": "hI5008Mj5ZdI"
   },
   "source": [
    "Aplico el modelo final a los datos del futuro"
   ]
  },
  {
   "cell_type": "code",
   "execution_count": 46,
   "metadata": {
    "id": "PimBY3N_0ryP"
   },
   "outputs": [],
   "source": [
    "# aplico el modelo a los datos sin clase\n",
    "dfuture <- dataset[foto_mes == 202109]\n",
    "\n",
    "# aplico el modelo a los datos nuevos\n",
    "prediccion <- predict(\n",
    "  modelo_final,\n",
    "  data.matrix(dfuture[, campos_buenos, with= FALSE])\n",
    ")"
   ]
  },
  {
   "cell_type": "markdown",
   "metadata": {
    "id": "D26rNRh55gpw"
   },
   "source": [
    "#### Tabla Prediccion"
   ]
  },
  {
   "cell_type": "code",
   "execution_count": 47,
   "metadata": {
    "id": "RJwg7LHd11yu"
   },
   "outputs": [],
   "source": [
    "# tabla de prediccion\n",
    "\n",
    "tb_prediccion <- dfuture[, list(numero_de_cliente)]\n",
    "tb_prediccion[, prob := prediccion ]\n",
    "\n",
    "# grabo las probabilidad del modelo\n",
    "fwrite(tb_prediccion,\n",
    "  file= \"prediccion.txt\",\n",
    "  sep= \"\\t\"\n",
    ")"
   ]
  },
  {
   "cell_type": "markdown",
   "metadata": {
    "id": "jOt4eG_55ltv"
   },
   "source": [
    "Kaggle Competition Submit"
   ]
  },
  {
   "cell_type": "code",
   "execution_count": 48,
   "metadata": {
    "id": "gWW3tatE12je"
   },
   "outputs": [
    {
     "name": "stdout",
     "output_type": "stream",
     "text": [
      "Successfully submitted to Data Mining, Analista Sr 2025A \n",
      "Successfully submitted to Data Mining, Analista Sr 2025A \n",
      "Successfully submitted to Data Mining, Analista Sr 2025A \n",
      "Successfully submitted to Data Mining, Analista Sr 2025A \n",
      "Successfully submitted to Data Mining, Analista Sr 2025A \n"
     ]
    }
   ],
   "source": [
    "# genero archivos con los  \"envios\" mejores\n",
    "# suba TODOS los archivos a Kaggle\n",
    "\n",
    "# ordeno por probabilidad descendente\n",
    "setorder(tb_prediccion, -prob)\n",
    "\n",
    "dir.create(\"kaggle\")\n",
    "\n",
    "for (envios in PARAM$kaggle$cortes) {\n",
    "\n",
    "  tb_prediccion[, Predicted := 0L] # seteo inicial a 0\n",
    "  tb_prediccion[1:envios, Predicted := 1L] # marclo los primeros\n",
    "\n",
    "  archivo_kaggle <- paste0(\"./kaggle/KA\", PARAM$experimento, \"_\", envios, \".csv\")\n",
    "\n",
    "  # grabo el archivo\n",
    "  fwrite(tb_prediccion[, list(numero_de_cliente, Predicted)],\n",
    "    file= archivo_kaggle,\n",
    "    sep= \",\"\n",
    "  )\n",
    "\n",
    "  # subida a Kaggle, armo la linea de comando\n",
    "  comando <- \"kaggle competitions submit\"\n",
    "  competencia <- paste(\"-c\", PARAM$kaggle$competencia)\n",
    "  arch <- paste( \"-f\", archivo_kaggle)\n",
    "\n",
    "  mensaje <- paste0(\"-m 'envios=\", envios,\n",
    "  \"  semilla=\", PARAM$semilla_primigenia,\n",
    "    \"'\" )\n",
    "\n",
    "  linea <- paste( comando, competencia, arch, mensaje)\n",
    "\n",
    "  salida <- system(linea, intern=TRUE) # el submit a Kaggle\n",
    "  cat(salida, \"\\n\")\n",
    "}"
   ]
  },
  {
   "cell_type": "code",
   "execution_count": null,
   "metadata": {
    "id": "B9tB2X4439Hg"
   },
   "outputs": [],
   "source": [
    "write_yaml( PARAM, file=\"PARAM.yml\")"
   ]
  },
  {
   "cell_type": "code",
   "execution_count": null,
   "metadata": {
    "id": "9zA_W25c15DP"
   },
   "outputs": [],
   "source": [
    "format(Sys.time(), \"%a %b %d %X %Y\")"
   ]
  },
  {
   "cell_type": "markdown",
   "metadata": {
    "id": "UdVZucdLHzZ0"
   },
   "source": [
    "Finalmente usted deberá cargar el resultado de su corrida en la Google Sheet Colaborativa,  hoja **TareaHogar04**\n",
    "<br> Siéntase libre de agregar las columnas que hagan falta a la planilla"
   ]
  },
  {
   "cell_type": "code",
   "execution_count": null,
   "metadata": {
    "id": "WMHh7uNVIJkT"
   },
   "outputs": [],
   "source": []
  }
 ],
 "metadata": {
  "colab": {
   "provenance": []
  },
  "kernelspec": {
   "display_name": "R",
   "language": "R",
   "name": "ir"
  },
  "language_info": {
   "codemirror_mode": "r",
   "file_extension": ".r",
   "mimetype": "text/x-r-source",
   "name": "R",
   "pygments_lexer": "r",
   "version": "4.4.3"
  }
 },
 "nbformat": 4,
 "nbformat_minor": 4
}
