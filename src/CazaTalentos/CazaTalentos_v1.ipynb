{
  "nbformat": 4,
  "nbformat_minor": 0,
  "metadata": {
    "colab": {
      "provenance": [],
      "include_colab_link": true
    },
    "kernelspec": {
      "name": "ir",
      "display_name": "R"
    },
    "language_info": {
      "name": "R"
    }
  },
  "cells": [
    {
      "cell_type": "markdown",
      "metadata": {
        "id": "view-in-github",
        "colab_type": "text"
      },
      "source": [
        "<a href=\"https://colab.research.google.com/github/SantiagoDemattei/dm2025a/blob/main/src/CazaTalentos/CazaTalentos_v1.ipynb\" target=\"_parent\"><img src=\"https://colab.research.google.com/assets/colab-badge.svg\" alt=\"Open In Colab\"/></a>"
      ]
    },
    {
      "cell_type": "markdown",
      "source": [
        "# Cazatalentos\n",
        "## buscando a  “La verdadera mejor encestadora”"
      ],
      "metadata": {
        "id": "5NHQWdqh3Sro"
      }
    },
    {
      "cell_type": "markdown",
      "source": [
        "## 1.Introduccion\n",
        "Este notebook analiza de forma didáctica la razón por la que se produce el overfitting.\n",
        "\n",
        "Ver los cinco minutos de este video muy relacionado con lo que veremos\n",
        "[Veritasium El Éxito ¿es Suerte o Trabajo Duro?](https://storage.googleapis.com/open-courses/austral2025-af91/labo1r/veritasium_success_paradox.html)"
      ],
      "metadata": {
        "id": "q2mpBZS53jCQ"
      }
    },
    {
      "cell_type": "markdown",
      "source": [
        "### 1.1 Motivacion\n",
        "\n",
        "El siguiente desafío busca introducir el problema fundamental de la Ciencia de Datos que es el overfitting desde un ángulo distinto,  presentando los fenómenos del efecto del tamaño de la muestra,\n",
        "<br> el conocido problema de las múltiples comparaciones  y “la maldición del ganador”.\n",
        "<br>\n",
        "<br> Aunque anecdóticametne está basado en algo deportivo, se extiende fácilmente  a :\n",
        "*  la efectividad de acciones de marketing\n",
        "*  el testeo de medicamentos\n",
        "*  experimentos ciéntíficos https://www.ncbi.nlm.nih.gov/pmc/articles/PMC1182327/\n",
        "*  la comparación de modelos predictivos\n",
        "*  la elección del mejor corte en un nodo de un árbol de decisión, etc"
      ],
      "metadata": {
        "id": "BIwyaLbd3vAn"
      }
    },
    {
      "cell_type": "markdown",
      "source": [
        "### 1.2 Generalidades\n",
        "Vari@s cazatalent@s de la gran ciudad van recorriendo pueblos en búsqueda de las mejores jugadoras de basket para tiros libres en la Liga Femenina de Basket.\n",
        "<br>El procedimiento recomendado es el siguiente : un@ cazatalentos llega a un pueblo y va a la única cancha de basket del lugar donde la están esperando las adolescentes interesadas, las hace tirar tiros libres y elige a la mejor jugadora.\n",
        "<br>Posteriormente a la elección del mejor jugadora, si le parece a la entrenadora de la gran ciudad, se llevará a la jugadora a que demuestre que tan buena es.\n",
        "\n",
        "<br>A las jugadoras los podemos equiparar con modelos predictivos.\n"
      ],
      "metadata": {
        "id": "RDbj1N8U4Ain"
      }
    },
    {
      "cell_type": "markdown",
      "source": [
        "### 2 Definición del Problema\n",
        "\n",
        "¿Qué metodología de las que se plantearán es la que propone a la jugadora con mayor probabilidad de superar el umbral del 80% de aciertos en la nueva prueba que se hará en la gran ciudad?\n",
        "<br> Cada jugadora posee un “índice de enceste”, la cazatalentos no tiene forma de conocerlos; lo único que puede hacer la cazatalentos es hacer que las jugadoras hagan tiros libres, y medir los aciertos y no aciertos."
      ],
      "metadata": {
        "id": "-5pmca3q4NpX"
      }
    },
    {
      "cell_type": "markdown",
      "source": [
        "### 2.1  Caso fallido, una jugadora se quiere pasar de lista ...\n",
        "\n",
        "La cazatalentos llega a una pequeña localidad a la que le han dicho que hay dos adolescentes cuyas habilidades debe testear.\n",
        "<br> Una es super talentosa se llama Diana Taurasi  https://en.wikipedia.org/wiki/Diana_Taurasi, nosotros sabemos que tiene un “índice de enceste” del 0.85, es decir cada vez que hace un tiro libre su probabilidad de encestar es del 85%.   Si hace 100 tiros libres, en promedio encesta 85 veces,  a veces puede ser más, a veces menos, pero en promedio encesta 85 de 100.\n",
        "<br> La otra es un auténtico desastre, a quien llamaremos  Miss X, y su índice de enceste es de 0.10.  Esto quiere decir que si hace 100  tiros libres, en promedio encesta 10.\n",
        "<br> La cazatalentos NO tiene forma de conocer los valores de 0.85 y 0.10, solo puede hacerlas tirar y contar aciertos.\n",
        "\n",
        "<br>La cazatalentos llega al gimnasio,  y solo se encuentra Diana, con lo cual le indica que comience a tirar.  Al tiro 10, Diana lleva 8 encestes y 2 no-enceste.\n",
        "<br>En ese momento, llega con un andar cansino Miss X y las interrumpe :  ¿cuánto va Diana ? La cazatalentos le responde  8 de 10.  Miss X solicita permiso para tirar, tira una sola vez y acierta.\n",
        "<br>Ahí mismo dice : “paren las rotativas, yo soy la clara ganadora de este torneo,  mi indice de acierto es del  100% y el de Diana es del 80% ,  la matemática es clara”.\n",
        "<br>La cazatalentos monta en cólera y le dice :  pues usted joven solo ha realizado un tiro, ¿Si lo hubiera errado, aceptaría decir entonces que su indice de acierto es del 0%? Ciertamente no.\n",
        "<br>Pues ahora, usted deberá seguir tirando hasta completar sus 10 tiros libres, y recién ahí compararé.\n"
      ],
      "metadata": {
        "id": "nJj3sNJv4XYO"
      }
    },
    {
      "cell_type": "markdown",
      "source": [
        "### 2.2 Segundo Caso\n",
        "\n",
        "La cazatalentos tiene el siguiente algoritmo, hace que Diana Taurasi y Miss X hagan 10 tiros libres cada una, y elige a la ganadora de esos 10 tiros libres.\n",
        "¿Garantiza este método que por lo menos el 99% de las veces elige a Diana Taurasi?\n",
        "\n",
        "<br>¿La desastrosa Miss X puede llegar a encestar los 10 tiros libres?  <br>Efectivamente sí existe esa posibilidad, pero con una muy baja probabilidad, la probabilidad es de 0.10 ^10  =  1e-10\n",
        "<br>El símbolo de  ^  significa  \"elevado a la potencia de\"\n",
        "<br>\n",
        "<br>¿Cual es la probabilidad que Miss X tire una sola vez y acierte este tiro? <br>Simplemente 0.1 , una en diez, con lo cual ha tenido mucha suerte en su primer tiro, pero no la va a poder mantener !\n",
        "\n",
        "<br>¿La adolescente Diana Taurasi puede llegar a encestar los 10 tiros libres?  Efectivamente, su probabilidad es  0.85 ^10 = 0.1968744"
      ],
      "metadata": {
        "id": "zn2iG2Bw4wTm"
      }
    },
    {
      "cell_type": "markdown",
      "source": [
        "En el lenguaje R la instrucción  runif(10)  genera un vector con 10 números aleatorios con distribución uniforme en el intervalo [0,1], por ejemplo"
      ],
      "metadata": {
        "id": "ye8SFCwU6poc"
      }
    },
    {
      "cell_type": "code",
      "source": [
        "runif(10)"
      ],
      "metadata": {
        "id": "Q2s5D1po6t6d",
        "outputId": "3d4f68ec-0d2f-435f-ab75-faf89e4f9040",
        "colab": {
          "base_uri": "https://localhost:8080/",
          "height": 34
        }
      },
      "execution_count": null,
      "outputs": [
        {
          "output_type": "display_data",
          "data": {
            "text/html": [
              "<style>\n",
              ".list-inline {list-style: none; margin:0; padding: 0}\n",
              ".list-inline>li {display: inline-block}\n",
              ".list-inline>li:not(:last-child)::after {content: \"\\00b7\"; padding: 0 .5ex}\n",
              "</style>\n",
              "<ol class=list-inline><li>0.763544793939218</li><li>0.177362566813827</li><li>0.279086622176692</li><li>0.768616744782776</li><li>0.90664643375203</li><li>0.0539752731565386</li><li>0.718649002024904</li><li>0.709687982685864</li><li>0.926216300809756</li><li>0.441995185101405</li></ol>\n"
            ],
            "text/markdown": "1. 0.763544793939218\n2. 0.177362566813827\n3. 0.279086622176692\n4. 0.768616744782776\n5. 0.90664643375203\n6. 0.0539752731565386\n7. 0.718649002024904\n8. 0.709687982685864\n9. 0.926216300809756\n10. 0.441995185101405\n\n\n",
            "text/latex": "\\begin{enumerate*}\n\\item 0.763544793939218\n\\item 0.177362566813827\n\\item 0.279086622176692\n\\item 0.768616744782776\n\\item 0.90664643375203\n\\item 0.0539752731565386\n\\item 0.718649002024904\n\\item 0.709687982685864\n\\item 0.926216300809756\n\\item 0.441995185101405\n\\end{enumerate*}\n",
            "text/plain": [
              " [1] 0.76354479 0.17736257 0.27908662 0.76861674 0.90664643 0.05397527\n",
              " [7] 0.71864900 0.70968798 0.92621630 0.44199519"
            ]
          },
          "metadata": {}
        }
      ]
    },
    {
      "cell_type": "markdown",
      "source": [
        "Ahora simulamos 10000 veces la estrategia de tirar 10 tiros libres y quedarse con la ganadora."
      ],
      "metadata": {
        "id": "VR6fbLmd6yR4"
      }
    },
    {
      "cell_type": "code",
      "source": [
        "missx_ganadora <- 0\n",
        "\n",
        "for( i  in 1:10000 ) # repite 10.000 veces el algoritmo\n",
        "{\n",
        "  aciertos_taurasi <- sum( runif(10) < 0.85 ) # suma la cantidad de aciertos de taurasi (cada vez que la probabilidad sea menor a 0.85 [su indice de enceste])\n",
        "  aciertos_missx <- sum( runif(10) < 0.10 ) # lo mismo con miss X\n",
        "\n",
        "  if( aciertos_taurasi < aciertos_missx )  missx_ganadora <- missx_ganadora +1 # acumulo cada vez que miss X gana\n",
        "}\n",
        "\n",
        "cat( \"Miss X gano un total de : \", missx_ganadora )"
      ],
      "metadata": {
        "id": "ZD8ZjxDp5tqt",
        "outputId": "efbe62be-b0b3-4981-eaa1-143a6185720c",
        "colab": {
          "base_uri": "https://localhost:8080/"
        }
      },
      "execution_count": null,
      "outputs": [
        {
          "output_type": "stream",
          "name": "stdout",
          "text": [
            "Miss X gano un total de :  0"
          ]
        }
      ]
    },
    {
      "cell_type": "markdown",
      "source": [
        "Lo que da la cantidad de 0,  o sea que en 10000 veces, siempre ganó Diana Taurasi, con lo cual la estrategia de quedarse con el mejor de 10 tiros ha funcionado, para este obvio caso donde hay apenas dos jugadoras y hay una diferencia abismal entre ellas.\n",
        "\n",
        "En este caso NO aparece el overfitting por ningún lado"
      ],
      "metadata": {
        "id": "gYSZOgTv64Ta"
      }
    },
    {
      "cell_type": "markdown",
      "source": [
        "### 2.3  Aparece el Overfitting\n",
        "\n",
        "El cazatalentos llega ahora a un pueblo donde hay 100 jugadoras los que son mucho más parejas entre sí desde el punto de vista del ratio de enceste.\n",
        "\n",
        "Hay una jugadora, que llamaremos jugadora 1 que tiene un “índice de enceste” de  0.70.\n",
        "Las 99 jugadoras restantes que llamaremos “el pelotón”  tienen los índices de enceste  { 0.501, 0.0502, 0.503, …, 0.599  }\n",
        "Es decir la jugadora 1 tiene 0.70 y la mejor jugadar del pelotón tiene 0.599,  hay un poco más de 0.10 de diferencia.  La diferencia de 0.10 es significativa en basket.\n",
        "\n",
        "¿Qué sucede con el algoritmo del cazatalentos de hacer tirar 10 tiros libres a cada una de las jugadoras y elegir a la que más encestes logró ?\n"
      ],
      "metadata": {
        "id": "onrG79vw7CCQ"
      }
    },
    {
      "cell_type": "code",
      "source": [
        "\n",
        "\n",
        "set.seed( 102191 )\n",
        "\n",
        "# calcula cuantos encestes logra una jugadora con indice de enceste \"prob\"\n",
        "# haciendo \"qyt\" tiros libres\n",
        "\n",
        "ftirar  <- function( prob, qty ){\n",
        "  return( sum( runif(qty) < prob ) )\n",
        "}\n",
        "\n",
        "\n",
        "# defino las jugadoras\n",
        "jugadora1    <- 0.7\n",
        "peloton    <- ( 501:599 ) / 1000\n",
        "jugadoras  <- c( jugadora1, peloton )\n",
        "\n",
        "\n",
        "\n",
        "\n",
        "\n",
        "# hago que las 100 jugadoras tiren 10 veces cada una\n",
        "mapply( ftirar, jugadoras, 10 )\n",
        "\n",
        "primera_ganadora  <- 0\n",
        "\n",
        "for( i in 1:10000 ){  # diez mil experimentos\n",
        "\n",
        "  vaciertos  <- mapply( ftirar, jugadoras, 10 )  # 10 tiros libres cada jugadora\n",
        "\n",
        "  mejor  <- which.max( vaciertos )\n",
        "  if( mejor == 1 )  primera_ganadora  <- primera_ganadora + 1\n",
        "}\n",
        "\n",
        "cat(\"\\n\")\n",
        "cat( \"En los diez mil experimentos, se detecto correctamente a la mejor jugadora la cantidad de veces:\", primera_ganadora )\n"
      ],
      "metadata": {
        "id": "rjh8LUah7NRy",
        "outputId": "8dbeb8a0-cec3-4e97-e8d4-f6b4620b2634",
        "colab": {
          "base_uri": "https://localhost:8080/",
          "height": 89
        }
      },
      "execution_count": null,
      "outputs": [
        {
          "output_type": "display_data",
          "data": {
            "text/html": [
              "<style>\n",
              ".list-inline {list-style: none; margin:0; padding: 0}\n",
              ".list-inline>li {display: inline-block}\n",
              ".list-inline>li:not(:last-child)::after {content: \"\\00b7\"; padding: 0 .5ex}\n",
              "</style>\n",
              "<ol class=list-inline><li>8</li><li>3</li><li>4</li><li>4</li><li>10</li><li>2</li><li>4</li><li>6</li><li>4</li><li>5</li><li>4</li><li>7</li><li>5</li><li>5</li><li>7</li><li>6</li><li>4</li><li>6</li><li>2</li><li>6</li><li>6</li><li>7</li><li>5</li><li>8</li><li>5</li><li>4</li><li>3</li><li>8</li><li>6</li><li>2</li><li>5</li><li>4</li><li>6</li><li>7</li><li>6</li><li>8</li><li>9</li><li>4</li><li>8</li><li>5</li><li>4</li><li>7</li><li>6</li><li>6</li><li>7</li><li>6</li><li>7</li><li>7</li><li>3</li><li>6</li><li>5</li><li>5</li><li>2</li><li>5</li><li>4</li><li>6</li><li>7</li><li>3</li><li>8</li><li>9</li><li>3</li><li>6</li><li>6</li><li>9</li><li>5</li><li>4</li><li>5</li><li>6</li><li>6</li><li>3</li><li>7</li><li>4</li><li>7</li><li>6</li><li>3</li><li>6</li><li>6</li><li>7</li><li>5</li><li>2</li><li>3</li><li>6</li><li>4</li><li>7</li><li>5</li><li>7</li><li>3</li><li>6</li><li>7</li><li>7</li><li>6</li><li>7</li><li>6</li><li>9</li><li>6</li><li>7</li><li>7</li><li>6</li><li>6</li><li>9</li></ol>\n"
            ],
            "text/markdown": "1. 8\n2. 3\n3. 4\n4. 4\n5. 10\n6. 2\n7. 4\n8. 6\n9. 4\n10. 5\n11. 4\n12. 7\n13. 5\n14. 5\n15. 7\n16. 6\n17. 4\n18. 6\n19. 2\n20. 6\n21. 6\n22. 7\n23. 5\n24. 8\n25. 5\n26. 4\n27. 3\n28. 8\n29. 6\n30. 2\n31. 5\n32. 4\n33. 6\n34. 7\n35. 6\n36. 8\n37. 9\n38. 4\n39. 8\n40. 5\n41. 4\n42. 7\n43. 6\n44. 6\n45. 7\n46. 6\n47. 7\n48. 7\n49. 3\n50. 6\n51. 5\n52. 5\n53. 2\n54. 5\n55. 4\n56. 6\n57. 7\n58. 3\n59. 8\n60. 9\n61. 3\n62. 6\n63. 6\n64. 9\n65. 5\n66. 4\n67. 5\n68. 6\n69. 6\n70. 3\n71. 7\n72. 4\n73. 7\n74. 6\n75. 3\n76. 6\n77. 6\n78. 7\n79. 5\n80. 2\n81. 3\n82. 6\n83. 4\n84. 7\n85. 5\n86. 7\n87. 3\n88. 6\n89. 7\n90. 7\n91. 6\n92. 7\n93. 6\n94. 9\n95. 6\n96. 7\n97. 7\n98. 6\n99. 6\n100. 9\n\n\n",
            "text/latex": "\\begin{enumerate*}\n\\item 8\n\\item 3\n\\item 4\n\\item 4\n\\item 10\n\\item 2\n\\item 4\n\\item 6\n\\item 4\n\\item 5\n\\item 4\n\\item 7\n\\item 5\n\\item 5\n\\item 7\n\\item 6\n\\item 4\n\\item 6\n\\item 2\n\\item 6\n\\item 6\n\\item 7\n\\item 5\n\\item 8\n\\item 5\n\\item 4\n\\item 3\n\\item 8\n\\item 6\n\\item 2\n\\item 5\n\\item 4\n\\item 6\n\\item 7\n\\item 6\n\\item 8\n\\item 9\n\\item 4\n\\item 8\n\\item 5\n\\item 4\n\\item 7\n\\item 6\n\\item 6\n\\item 7\n\\item 6\n\\item 7\n\\item 7\n\\item 3\n\\item 6\n\\item 5\n\\item 5\n\\item 2\n\\item 5\n\\item 4\n\\item 6\n\\item 7\n\\item 3\n\\item 8\n\\item 9\n\\item 3\n\\item 6\n\\item 6\n\\item 9\n\\item 5\n\\item 4\n\\item 5\n\\item 6\n\\item 6\n\\item 3\n\\item 7\n\\item 4\n\\item 7\n\\item 6\n\\item 3\n\\item 6\n\\item 6\n\\item 7\n\\item 5\n\\item 2\n\\item 3\n\\item 6\n\\item 4\n\\item 7\n\\item 5\n\\item 7\n\\item 3\n\\item 6\n\\item 7\n\\item 7\n\\item 6\n\\item 7\n\\item 6\n\\item 9\n\\item 6\n\\item 7\n\\item 7\n\\item 6\n\\item 6\n\\item 9\n\\end{enumerate*}\n",
            "text/plain": [
              "  [1]  8  3  4  4 10  2  4  6  4  5  4  7  5  5  7  6  4  6  2  6  6  7  5  8  5\n",
              " [26]  4  3  8  6  2  5  4  6  7  6  8  9  4  8  5  4  7  6  6  7  6  7  7  3  6\n",
              " [51]  5  5  2  5  4  6  7  3  8  9  3  6  6  9  5  4  5  6  6  3  7  4  7  6  3\n",
              " [76]  6  6  7  5  2  3  6  4  7  5  7  3  6  7  7  6  7  6  9  6  7  7  6  6  9"
            ]
          },
          "metadata": {}
        },
        {
          "output_type": "stream",
          "name": "stdout",
          "text": [
            "\n",
            "En los diez mil experimentos, se detecto correctamente a la mejor jugadora la cantidad de veces: 1450"
          ]
        }
      ]
    },
    {
      "cell_type": "markdown",
      "source": [
        "Aquí ya pasa algo asombroso, el overfitting en todo su esplendor.\n",
        "Si hago tirar 10 tiros libres a cada uno de las 100 jugadoras, apenas 1450 veces de las 10000 este método  devuelve a la verdadera mejor, que es la jugadora con un índice de enceste de 0.70\n",
        "\n",
        "Intuitivamente, lo que está sucediendo es que la inmensa mayoría de las veces, una de las 99 jugadoras del pelotón tiene mucha suerte y supera a la jugadora de 0.70, con lo cual se elige a una del pelotón y no a la verdadera mejor !  \n",
        "<br>El tener 99 jugadoras en el pelotón hace que al ser tantas hay varias que tienen mala suerte, pero también hay varias con muy buena suerte, y la que tuvo más suerte supera a la verdadera mejor !\n"
      ],
      "metadata": {
        "id": "Ctw9S6A17w4f"
      }
    },
    {
      "cell_type": "markdown",
      "source": [
        "### 2.4 Nueva ronda\n",
        "\n",
        "Ahora pasemos a ver aún algo más notable.\n",
        "Tenemos a nuestra jugadora de 0.70, y a las 99 jugadoras del pelotón.\n",
        "1.  Las hacemos tirar a cada una 10 tiros libres, y elegimos a la ganadora registrando cuántos aciertos tuvo\n",
        "2.  solo a esa ganadora la hacemos tirar una nueva ronda de 10 tiros libres\n",
        "3.  finalmente comparamos estos nuevos aciertos con los originales.\n"
      ],
      "metadata": {
        "id": "B0uks59u792r"
      }
    },
    {
      "cell_type": "code",
      "source": [
        "\n",
        "\n",
        "set.seed( 102191 )\n",
        "\n",
        "# calcula cuantos encestes logra una jugadora con indice de enceste \"prob\"\n",
        "# haciendo \"qyt\" tiros libres\n",
        "\n",
        "ftirar  <- function( prob, qty ){\n",
        "  return( sum( runif(qty) < prob ) )\n",
        "}\n",
        "\n",
        "\n",
        "# defino los jugadoras\n",
        "jugadora1 <-  0.7\n",
        "peloton    <-  ( 501:599 ) / 1000\n",
        "jugadoras  <-  c( jugadora1, peloton )\n",
        "\n",
        "\n",
        "cat( \"Aciertos Ganadora\", \"\\t\", \"Nueva Ronda\", \"\\n\")\n",
        "\n",
        "for( i in 1:10 ){ # repito el experimento 10 veces\n",
        "  vaciertos  <- mapply( ftirar, jugadoras, 10 )  # cada jugadora tira 10 tiros libres\n",
        "  mejor  <- which.max( vaciertos ) # tomo a la mejor jugadora, es decir, a la que encestó más\n",
        "  aciertos_torneo  <- vaciertos[ mejor ] # tomo la cantidad de aciertos que tuvo esa jugadora\n",
        "\n",
        "  aciertos_segunda  <- ftirar( jugadoras[ mejor ], 10 ) # la hago tirar otra vez 10 veces y me guardo la cantidad de veces que encestó\n",
        "\n",
        "  cat( aciertos_torneo, \"\\t\\t\\t\", aciertos_segunda, \"\\n\" ) # imprimo ambas cantidades (primera y segunda tanda)\n",
        "}"
      ],
      "metadata": {
        "id": "3o6MUbsqUOPe",
        "outputId": "4069e585-5c3e-4a4b-f2dc-0786f060d8df",
        "colab": {
          "base_uri": "https://localhost:8080/"
        }
      },
      "execution_count": null,
      "outputs": [
        {
          "output_type": "stream",
          "name": "stdout",
          "text": [
            "Aciertos Ganadora \t Nueva Ronda \n",
            "10 \t\t\t 5 \n",
            "8 \t\t\t 7 \n",
            "9 \t\t\t 5 \n",
            "9 \t\t\t 7 \n",
            "9 \t\t\t 5 \n",
            "9 \t\t\t 7 \n",
            "10 \t\t\t 3 \n",
            "9 \t\t\t 5 \n",
            "10 \t\t\t 7 \n",
            "8 \t\t\t 2 \n"
          ]
        }
      ]
    },
    {
      "cell_type": "markdown",
      "source": [
        "Lo que se observa en este caso es “La maldición del ganador”,\n",
        "<br>la performance que la jugadora que logró más aciertos en la competencia general luego NO LA PUEDE MANTENER,\n",
        "<br>en todos los casos vemos que en la nueva ronda de diez tiene menos aciertos que en la primera ronda de diez.\n",
        "<br>La primera ronda  la jugadora que resultó ganadora fue debido a la suerte, y esa suerte ya no la acompaña para la segunda ronda de 10 tiros libres.\n",
        "\n",
        "Relacionado con las competencias Kaggle, una forma de pensar esto es  \"¿Cómo le va a ir al mejor modelo del Public Leaderboard en el Private?\" ,  esta es la razón por la que los puntajes que vemos en el Private son inferiores al Public.\n",
        "La primer ronda puede verse como quedarnos con el mejor modelo del Public Leaderboard, la nueva ronda es como le va a ese modelo en el Private Leaderboard.\n",
        "<br>Elegir el mejor modelo del Public, suele ser una pésima estrategia."
      ],
      "metadata": {
        "id": "fFOmnBma8Fuf"
      }
    },
    {
      "cell_type": "markdown",
      "source": [
        "### El overfitting en su plenitud\n",
        "\n",
        "¿Cuándo es más extremo el efecto de “La maldición del ganador” ?\n",
        "<br>Supongamos por un momento que ahora, en otro pueblo,  tenemos 100 jugadoras nuevas, todas con un “índice de enceste” de 0.70 ;  recordar que ese valor jamás es conocido por la cazatalentos.\n",
        "\n",
        "<br>Ahora nos ponemos más estrictos, y las hacemos tirar 100 veces a cada una, elegimos a la ganadora, y solo a esa ganadora la hacemos tirar 100 nuevos tiros libres.\n",
        "<br> Podemos pensarlo como que la cazatalentos se lleva a la mejor jugadora a la gran ciudad, le habla maravillas de ella a la entrenadora, y la entrenadora dice “probémosla a ver si es tan buena como decís, que haga 100 tiros libres aquí y ahora”"
      ],
      "metadata": {
        "id": "yvPC7A4x9fPl"
      }
    },
    {
      "cell_type": "code",
      "source": [
        "\n",
        "\n",
        "set.seed( 102191 )\n",
        "\n",
        "# calcula cuantos encestes logra una jugadora con indice de enceste \"prob\"\n",
        "# que hace \"qyt\" tiros libres\n",
        "\n",
        "ftirar  <- function( prob, qty ){\n",
        "  return( sum( runif(qty) < prob ) )\n",
        "}\n",
        "\n",
        "\n",
        "# defino los jugadoras\n",
        "jugadoras  <- rep( 0.7, 100 ) # todas con un ratio de 0.7\n",
        "\n",
        "\n",
        "\n",
        "\n",
        "cat( \"Aciertos Ganadora\", \"\\t\", \"Nueva Ronda\", \"\\n\")\n",
        "for( i in 1:10 ){ # repito el experimento 10 veces\n",
        "  vaciertos  <- mapply( ftirar, jugadoras, 100 )  # cada jugadora tira 100 tiros libres\n",
        "  mejor  <- which.max( vaciertos ) # capturo aquella jugadora que hizo más aciertos en toda la tanda\n",
        "  aciertos_torneo  <- vaciertos[ mejor ] # me guardo la cantidad que acertó dicha jugadora (que es la máxima en la tanda)\n",
        "\n",
        "  aciertos_segunda  <- ftirar( jugadoras[ mejor ], 100 ) # hago tirarla otra vez 100 veces y me guardo la cantidad de aciertos\n",
        "\n",
        "  cat( aciertos_torneo, \"\\t\\t\\t\", aciertos_segunda, \"\\n\" )\n",
        "}"
      ],
      "metadata": {
        "id": "Ro2WAmmi9vGq",
        "outputId": "873bc230-344f-4517-8843-1f2de4ff0d9d",
        "colab": {
          "base_uri": "https://localhost:8080/"
        }
      },
      "execution_count": null,
      "outputs": [
        {
          "output_type": "stream",
          "name": "stdout",
          "text": [
            "Aciertos Ganadora \t Nueva Ronda \n",
            "82 \t\t\t 68 \n",
            "82 \t\t\t 78 \n",
            "83 \t\t\t 78 \n",
            "79 \t\t\t 64 \n",
            "82 \t\t\t 69 \n",
            "81 \t\t\t 73 \n",
            "78 \t\t\t 71 \n",
            "80 \t\t\t 69 \n",
            "82 \t\t\t 61 \n",
            "80 \t\t\t 73 \n"
          ]
        }
      ]
    },
    {
      "cell_type": "markdown",
      "source": [
        "Nuevamente vemos, que el puntaje alcanzado por la mejor jugadora cuando compitió contra las otras 99,  NO ES VUELTO A ALCANZAR  en la nueva ronda de 100 tiros libres que hace esa jugadora.\n",
        "<br>Este efecto es exactamente el mismo que vemos cuando alguien se empecina en lograr en el Leaderboard Público el mayor puntaje de la clase,  le va muy bien en el Público, pero se derrumba catastróficamente en el Privado.\n",
        "<br>Decimos que  “overfitió / sobreajustó el Leaderboard Publico”."
      ],
      "metadata": {
        "id": "XjDoJam6Bi30"
      }
    },
    {
      "cell_type": "markdown",
      "source": [
        "### 2.5 medida de la diferencia\n",
        "\n",
        "Ahora nos preguntamos, en este caso, en promedio, cuanto más aciertos tiene la ganadora (debido a la suerte)  en la primera ronda  con respecto a la segunda ?\n"
      ],
      "metadata": {
        "id": "y3VZbvqTBuPq"
      }
    },
    {
      "cell_type": "code",
      "source": [
        "\n",
        "\n",
        "set.seed( 102191 )\n",
        "\n",
        "# calcula cuantos encestes logra una jugadora con indice de enceste prob\n",
        "# que hace qyt tiros libres\n",
        "\n",
        "ftirar  <- function( prob, qty ){\n",
        "  return( sum( runif(qty) < prob ) )\n",
        "}\n",
        "\n",
        "\n",
        "# defino las jugadoras\n",
        "jugadoras  <- rep( 0.7, 100 )\n",
        "\n",
        "\n",
        "\n",
        "\n",
        "suma_diferencias <- 0\n",
        "\n",
        "for( i in 1:10000 ){ # repito el experimento 10.000 veces\n",
        "  vaciertos  <- mapply( ftirar, jugadoras, 100 )  # cada jugadora tira 100 tiros libres\n",
        "  mejor  <- which.max( vaciertos ) # capturo aquella jugadora que hizo más aciertos en toda la tanda\n",
        "  aciertos_torneo  <- vaciertos[ mejor ] # me guardo la cantidad que acertó dicha jugadora (que es la máxima en la tanda)\n",
        "\n",
        "  aciertos_segunda  <- ftirar( jugadoras[mejor], 100 ) # hago tirarla otra vez 100 veces y me guardo la cantidad de aciertos\n",
        "\n",
        "  suma_diferencias  <- suma_diferencias +  (aciertos_torneo - aciertos_segunda ) # acumulo la diferencia entre la primera y segunda tanda\n",
        "}\n",
        "\n",
        "\n",
        "cat( \"Diferencia promedio:\",  suma_diferencias / 10000 ) # calculo el promedio\n"
      ],
      "metadata": {
        "id": "c2i376B9BzHX",
        "outputId": "b3437b24-1ae0-40f3-e818-5949a9b10dba",
        "colab": {
          "base_uri": "https://localhost:8080/"
        }
      },
      "execution_count": null,
      "outputs": [
        {
          "output_type": "stream",
          "name": "stdout",
          "text": [
            "Diferencia promedio: 11.0609"
          ]
        }
      ]
    },
    {
      "cell_type": "markdown",
      "source": [
        "Exactamente este mismo efecto se da en el marketing digital.  Si en un A/B testing se prueban cien alternativas y se elige a la que tiene más efectividad, se observará que en un nuevo experimento disminuirá el rendimiento de esa alternativa.\n",
        "\n",
        "También sucede si se prueban muchos medicamentos al mismo tiempo,   el que resulte más efectivo disminuirá su efectividad en la nueva prueba.\n",
        "\n",
        "Este problema es llamado “El problema de las múltiples comparaciones”"
      ],
      "metadata": {
        "id": "J8DD6d8qBzaF"
      }
    },
    {
      "cell_type": "markdown",
      "source": [
        "### 2.6 una sola jugadora MUY buena\n",
        "\n",
        "Sexto caso,  ¿cuándo se atenúa/desaparece  el overfitting?\n",
        "Supongamos 99 jugadoras con un índice de enceste de 0.60   y  ahora sumamos a la adolescente Diana Taurasi con su superlativo índice de enceste del 0.85.\n",
        "Las hacemos tirar a todas 100 tiros libres, llevamos a la ganadora a la gran ciudad, y allí le contamos a la entrenadora de nuestra ganadora Diana Taurasi."
      ],
      "metadata": {
        "id": "tkt4OngiCI_O"
      }
    },
    {
      "cell_type": "code",
      "source": [
        "\n",
        "\n",
        "set.seed( 102191 )\n",
        "\n",
        "# calcula cuantos encestes logra una jugadora con indice de enceste prob\n",
        "# que hace qyt tiros libres\n",
        "\n",
        "ftirar  <- function( prob, qty ){\n",
        "  return( sum( runif(qty) < prob ) )\n",
        "}\n",
        "\n",
        "\n",
        "# defino las jugadoras\n",
        "taurasi    <- 0.85\n",
        "peloton   <- rep( 0.6, 99 )  # jugadoras identicas\n",
        "jugadoras <- c( taurasi, peloton )\n",
        "\n",
        "\n",
        "\n",
        "cat( \"Aciertos Ganadora\", \"\\t\", \"Nueva Ronda\", \"\\n\")\n",
        "\n",
        "for( i in 1:10 ){ # repito 10 veces\n",
        "  vaciertos  <- mapply( ftirar, jugadoras, 100 )  # cada jugadora tira 100 tiros libres\n",
        "  mejor  <- which.max( vaciertos ) # capturo aquella jugadora que hizo más aciertos en toda la tanda\n",
        "  aciertos_torneo  <- vaciertos[ mejor ] # me guardo la cantidad que acertó dicha jugadora (que es la máxima en la tanda)\n",
        "\n",
        "  aciertos_segunda  <- ftirar( jugadoras[ mejor ], 100 ) # hago tirarla otra vez 100 veces y me guardo la cantidad de aciertos\n",
        "\n",
        "  cat(aciertos_torneo, \"\\t\\t\\t\", aciertos_segunda, \"\\n\" )\n",
        "}\n",
        "\n"
      ],
      "metadata": {
        "id": "o0N0WPw84JCR",
        "outputId": "c4d42d4f-c14f-49ff-f274-5cd89e0cf721",
        "colab": {
          "base_uri": "https://localhost:8080/"
        }
      },
      "execution_count": null,
      "outputs": [
        {
          "output_type": "stream",
          "name": "stdout",
          "text": [
            "Aciertos Ganadora \t Nueva Ronda \n",
            "88 \t\t\t 91 \n",
            "85 \t\t\t 86 \n",
            "79 \t\t\t 91 \n",
            "86 \t\t\t 81 \n",
            "87 \t\t\t 87 \n",
            "84 \t\t\t 84 \n",
            "86 \t\t\t 83 \n",
            "87 \t\t\t 86 \n",
            "85 \t\t\t 77 \n",
            "92 \t\t\t 83 \n"
          ]
        }
      ]
    },
    {
      "cell_type": "markdown",
      "source": [
        "En este caso observamos dos cosas, en primer lugar SIEMPRE la ganadora del torneo fue Diana Taurasi, y en segundo  cuando tuvo que mostrar en la ciudad su performance, fue la misma que en el primer torneo.  \n",
        "<br>Es tan buena Taurasi que le ganó a la que tuvo más suerte del pelotón, el efecto suerte no está afectando a Taurasi porque está sola, y gana por su superioridad, no por la suerte."
      ],
      "metadata": {
        "id": "JEiveN8aCSFQ"
      }
    },
    {
      "cell_type": "markdown",
      "source": [
        "### 2.7 Efectos del tamaño de la ronda\n",
        "\n",
        "La cazatalentos llega ahora a un pueblo donde hay 100 jugadoras las que son mucho más parejas entre sí desde el punto de vista del ratio de enceste.\n",
        "Hay un jugadora, que llamaremos jugadora 1 que tiene un “índice de enceste” de  0.70 ,  es una jugadora buena pero dista mucho de ser Diana Taurasi, jamás estará en el \"WNBA Hall of Fame\".\n",
        "\n",
        "Las 99 jugadoras restantes que llamaremos “el pelotón”  tienen los índices de enceste  { 0.501, 0.0502, 0.503, …, 0.599  }  Es decir la jugadora 1 tiene 0.70 y la mejor jugadora del pelotón tiene 0.599,  o sea hay un poco más de 0.10 de diferencia.  La diferencia de 0.10 es significativa en basket.\n",
        "\n",
        "¿Cuántos tiros libres debe la cazatalentos pedirles que haga cada jugadora para que  si elige a la mejor jugadora tiene la certeza de llevarse a “la verdadero mejor” el 99% de los casos ?\n"
      ],
      "metadata": {
        "id": "BYnlNCcdC3Aa"
      }
    },
    {
      "cell_type": "code",
      "source": [
        "# intencionalmente la mejor jugadora va al final de la lista de jugadoras\n",
        "# porque la funcion which.max() de R hace trampa\n",
        "# si hay un empate ( dos máximos) se queda con la que esta primera en el vector\n",
        "\n",
        "\n",
        "set.seed( 102191 )\n",
        "\n",
        "# calcula cuantos encestes logra una jugadora con indice de enceste prob\n",
        "# que hace qyt tiros libres\n",
        "\n",
        "ftirar  <- function( prob, qty ){\n",
        "  return( sum( runif(qty) < prob ) )\n",
        "}\n",
        "\n",
        "\n",
        "# defino los jugadoras\n",
        "taurasi    <- 0.7\n",
        "peloton    <- ( 501:599 ) / 1000\n",
        "jugadoras  <- c( peloton, taurasi) # intencionalmente la mejor esta al final\n",
        "\n",
        "\n",
        "for( tiros_libres in c(10, 20, 50, 100, 200, 300, 400, 415, 500, 600, 700, 1000 ) ){ # cantidades de tiros a hacer por cada jugadora\n",
        "\n",
        "  ultima_ganadora <- 0\n",
        "\n",
        "  for( i in 1:10000 ) { # diez mil experimentos\n",
        "\n",
        "    vaciertos  <- mapply( ftirar, jugadoras, tiros_libres ) # hago tirar a cada jugadora la cantidad \"tiros_libres\"\n",
        "    mejor  <- which.max( vaciertos ) # me guardo aquella jugadora que obtuvo la mayor cantidad de aciertos (el índice de la lista \"jugadoras\")\n",
        "\n",
        "    # taurasi (= ultima_jugadora) está en la posición 100 de la lista \"jugadoras\"\n",
        "    if( mejor == 100 )  ultima_ganadora  <- ultima_ganadora + 1 # acumulo cada vez que taurasi gana\n",
        "  }\n",
        "\n",
        "  cat( tiros_libres, \"\\t\", ultima_ganadora/10000, \"\\n\" ) # imprimo cantidad de tiros libres y el promedio de veces que ganó taurasi\n",
        "}\n",
        "\n"
      ],
      "metadata": {
        "id": "9lAZ2JWjC_7S",
        "colab": {
          "base_uri": "https://localhost:8080/"
        },
        "outputId": "a5aeadb6-1d42-45dd-972c-c097e48e04a7"
      },
      "execution_count": null,
      "outputs": [
        {
          "output_type": "stream",
          "name": "stdout",
          "text": [
            "10 \t 0.0299 \n",
            "20 \t 0.0868 \n",
            "50 \t 0.268 \n",
            "100 \t 0.5448 \n",
            "200 \t 0.8532 \n",
            "300 \t 0.9579 \n",
            "400 \t 0.9877 \n",
            "415 \t 0.9911 \n",
            "500 \t 0.9964 \n",
            "600 \t 0.9995 \n",
            "700 \t 0.9999 \n",
            "1000 \t 1 \n"
          ]
        }
      ]
    },
    {
      "cell_type": "markdown",
      "source": [
        "Haciendo tirar 415 tiros libres a cada una de los 100 jugadoras,\n",
        "<br> y quedándose con la ganadora de ese torneo,\n",
        "<br> en el 99.10%   ( 0.9910 )  de los casos se está segura que esa es \"la verdadera mejor\".\n"
      ],
      "metadata": {
        "id": "nusfuHtqDEF3"
      }
    },
    {
      "cell_type": "markdown",
      "source": [
        "## 3 Conclusiones\n",
        "\n",
        "El overfitting aparece cuando se comparan muchas jugadoras (modelos predictivos)  muy parecidas entre sí.  \n",
        "<br> En el modelado predictivo es la situación más común que se tengan modelos con similar poder predictivo ya que generalmente solo difieren apenas en valores de los hiperparámetros o algunas columnas nuevas con feature engineering.\n",
        "\n",
        "Las jugadoras no son determinísticas, sino probabilísticas, con lo cual al comparar muchas parecidas la ganadora es quien además de su talento tuvo más suerte en ese torneo.  La jugadora ganadora ganó por mera suerte, y  NO puede sostener esa suerte en un nuevo torneo, por lo que el puntaje del primer torneo es mentiroso, no se sostiene en el nuevo torneo.\n",
        "\n",
        "El overfitting se atenúa o puede llegar a desaparecer del todo, si en el torneo hay una jugadora ampliamente superior al resto. Esa jugadora SI mantiene su performance de un torneo al otro, ya que su puntaje en el primer torneo fue alto porque es realmente buena, porque no es el máximo de muchos parecidas a ella.\n",
        "\n",
        "La forma de combatir el overfitting es hacer torneos de muchos tiros libres.\n",
        "<br>Para estimar que tan buena es la jugadora ganadora de un torneo, hay que hacerla tirar nuevamente tiros libres.\n",
        "<br>El secreto está en hacer más de un torneo.\n"
      ],
      "metadata": {
        "id": "MJE_DbTMDI2x"
      }
    },
    {
      "cell_type": "markdown",
      "source": [
        "## 4 Desafio Cazatalentos Ordenamiento"
      ],
      "metadata": {
        "id": "on4_A7v8Fn8q"
      }
    },
    {
      "cell_type": "markdown",
      "source": [
        "### 4.1 Enunciado\n",
        "\n",
        "Se reúne la entrenadora  en la gran ciudad con algunas cazatalentos que visitaron regiones distintas.\n",
        "\n",
        "Entrenadora:  Bienvenidas a todas, veo que cada una de ustedes ha traído la estadística de su candidata. Sin embargo, yo debo ordenarlas de mejor a peor, y no me alcanza con que dos de ustedes me digan que que sus candidatas encestaron 80/100, necesito que me relaten exactamente el procedimiento que han seguido para elegir a la mejor jugadora.\n",
        "\n",
        "Cazatalentos 1:  Discúlpeme entrenadora, si dos de nosotras le presentamos casos que en distintos pueblos han encestado exactamente 80 de 100, probabilisticamente esas adolescentes son equivalentes. Es cierto que luego aquí en la gran ciudad el dia de la prueba una podrá encestar 77 de 100, la otra 83,  pero eso es la parte natural del random, ya sabemos que la distribución es binomial.  Ambas son equivalentes, no importa que pasó con el resto de las jugadoras de su pueblo.\n",
        "\n",
        "Entrenadora: Estimada “Cazatalentos 1”  tú estas equivocada, no consideras El Problema de las Multiples Comparaciones; elegir cuales de esas adolescentes vendrán a la gran ciudad a ser evaluadas es mi decisión. Comienza tú contando detalladamente el proceso que has seguido.\n",
        "4\n",
        "\n"
      ],
      "metadata": {
        "id": "6CRZMyXzDOj8"
      }
    },
    {
      "cell_type": "markdown",
      "source": [
        "**Cazatalentos 1**: Llegué a la localidad habían 100 adolescentes en el gimnasio, hice tirar a cada una 100 tiros, solo una obtuvo 80 aciertos, luego un par 79, otro par 78, y así descendían. La que logró 80 aciertos es mi candidata.\n"
      ],
      "metadata": {
        "id": "qrBHwlb-D8Aq"
      }
    },
    {
      "cell_type": "markdown",
      "source": [
        "**Cazatalentos 2:** Llegué a una pequeña ciudad y habían 200 adolescentes en el gimnasio, hice tirar a cada una 100 tiros, solo una obtuvo 80 aciertos, seis 79,  cinco 78, y así descendían. La que logró 80 aciertos es mi candidata."
      ],
      "metadata": {
        "id": "2aqYKT53EbOf"
      }
    },
    {
      "cell_type": "markdown",
      "source": [
        "**Cazatalentos 3:** Yo poseo 25 años de experiencia como cazatalentos y tengo muy buena intuición  para detectar el talento. Llegué a un pueblo donde habían 100 adolescentes, me senté en las gradas del gimnasio y las observé detenidamente mientras precalentaban sin tirar al aro.  A los 10 minutos, me paro, y señalo a una de ellas y le digo :  'tú, la número 13, a tirar 100 tiros; el resto gracias por haber venido pero se pueden ir cada una a su casa”. Y ahí al tirar esos 100 tiros logró 80 aciertos y esa es mi candidata."
      ],
      "metadata": {
        "id": "qVVDhqLLEdsG"
      }
    },
    {
      "cell_type": "markdown",
      "source": [
        "**Cazatalentos 4:** Llegué a minúsculo pueblo con un aro reglamentario en la pared de una escuela, habían solamente 2 adolescentes, hice tirar a cada una 100 tiros, una obtuvo 80 y la otra 75."
      ],
      "metadata": {
        "id": "fLGg_pXHElSG"
      }
    },
    {
      "cell_type": "markdown",
      "source": [
        "**Cazatalentos 5:** Le dice a la entrenadora : “fui a una localidad de 500 habitantes, había una sola adolescente interesada, la hice tirar 100 tiros libres, y encestó 80,  tengo una filmación con mi celular de los 100 tiros, sin edición ni cortes”\n",
        "En realidad, esa adolescente es la sobrina de la cazatalentos, la hizo tirar 10 rondas de 100 tiros cada una, grabó todas, pero tramposamente solo trae la grabación de la mejor ronda a la entrenadora.\n",
        "Los resultados obtenidos por su sobrina son\n",
        "\n",
        "\n",
        "| ronda | Tiros | Encestes |\n",
        "| ---: | ---: | ---: |\n",
        "| 1 | 100 | 68 |\n",
        "| 2 | 100 | 74 |\n",
        "| 3 | 100 | 78 |\n",
        "| 4 | 100 | 70 |\n",
        "| 5 | 100 | 68 |\n",
        "| 6 | 100 | 63 |\n",
        "| 7 | 100 | 80 |\n",
        "| 8 | 100 | 68 |\n",
        "| 9 | 100 | 67 |\n",
        "| 10 | 100 | 65 |\n",
        "\n",
        "\n",
        "(esta deshonestidad de la Cazatalentos 5 no debería parecerle extraña ni causarle gracia, es exactamente lo mismo que elegir como submit final el que le fue mejor en el Public Leaderboard,  algo muy común entre l@s alumn@s ...)\n",
        "<br>Por una persona espía en el pueblo, la entrenadora está al tanto de lo ocurrido y conoce la tabla anterior, usará dicha información para tomar la decisión, aunque no le dirá nada, por esta vez, a la cazatalentos."
      ],
      "metadata": {
        "id": "JGNSv31_EsZA"
      }
    },
    {
      "cell_type": "markdown",
      "source": [
        "### 4.2 Desafio\n",
        "\n",
        "Podemos suponer que la supertalentosa Diana Taurasi con su “índice de enceste” del 0.85 es superior a todas las jugadoras evaluadas en los pueblos por las cazatalentos.\n",
        "\n",
        "Desafío : ¿Si usted fuera la entrenadora, como ordena el valor esperado de encestes en una ronda de 100 tiros libres  a cada una de las candidatas propuestas por las cinco cazatalentos ?\n",
        "\n",
        "\n",
        "donde   Ci  < Cj   sii   prob(  #Encestes Ci  <  #Encestes Cj    | 100 tiros cada uno )  >  0.5\n",
        "es decir que, haciendo 100 tiros libres,  más de la mitad de las veces,  Ci va a lograr menos encestes que Cj\n",
        "\n",
        "La entrenadora de la gran ciudad NO quiere traer a la elegida de cada cazatalentos y hacerlas tirar 100 tiros delante de ella para constatar cual logra más encestes en esa ronda. Ella quiere, con la información que le brindó cada cazatalentos sobre el procedimiento y los resultados, elegir la mejor encestadora.\n"
      ],
      "metadata": {
        "id": "PRWG_L4tF0Ip"
      }
    },
    {
      "cell_type": "code",
      "source": [
        "bado"
      ],
      "metadata": {
        "id": "pmM-7H6zIlKv",
        "outputId": "cd5becfa-213a-473d-ce58-f27fe95261e6",
        "colab": {
          "base_uri": "https://localhost:8080/",
          "height": 74
        }
      },
      "execution_count": null,
      "outputs": [
        {
          "output_type": "error",
          "ename": "ERROR",
          "evalue": "Error: object 'bado' not found\n",
          "traceback": [
            "Error: object 'bado' not found\nTraceback:\n"
          ]
        }
      ]
    },
    {
      "cell_type": "markdown",
      "source": [
        "### 4.3  Reglas del Desafio\n",
        "\n",
        "\n",
        "*  La fecha de finalización del desafío es el sabado 02 de agosto a las 19:00\n",
        "Usted podrá trabajar en forma individual o formando grupo de dos personas.\n",
        "*  Entrega\n",
        "      * la entrega se realiza con un solo mensaje en Zulip canal #CazaTalentos\n",
        "         * Ordenamiento,  por ejemplo     C3 <  C5 <  C1 < C4 < C2\n",
        "         * Explicacion\n",
        "      * Si necesitará apoyarse en scripts para alguna de las comparaciones\n",
        "          * link a carpeta en GitHub\n",
        "      * Podrá enviar varios mensajes, el único que tendrá valor será el último\n",
        "\n",
        "*  Recompensa:\n",
        "     * Todos los integrantes de todos los grupos que logren un ordenamiento perfecto sumarán a su nota final el valor de 1.0 ,  siempre la nota máxima posible de toda la asignatura será de 10.0\n",
        "     * Un ordenamiento que no sea el correcto, suma 0 puntos.\n",
        "*  Será muy valioso el intercambio de ideas en Zulip channel  #CazaTalentos  topic  Intercambio de Ideas, este desafío suele ser muy polémico.\n",
        "*  La participación en este desafío es opcional.\n"
      ],
      "metadata": {
        "id": "WO9JHCzXF-9w"
      }
    },
    {
      "cell_type": "markdown",
      "source": [
        "# **Resolución**"
      ],
      "metadata": {
        "id": "qrlMgfo3Bi1_"
      }
    },
    {
      "cell_type": "code",
      "source": [
        "set.seed(102191)\n",
        "\n",
        "# función para tirar\n",
        "ftirar <- function(prob, qty) {\n",
        "  return(sum(runif(qty) < prob))\n",
        "}"
      ],
      "metadata": {
        "id": "a7kcvjG46kES"
      },
      "execution_count": 20,
      "outputs": []
    },
    {
      "cell_type": "markdown",
      "source": [
        "## **Análisis de cada Cazatalentos**\n",
        "Para resolver este problema, necesito estimar cuál es la probabilidad REAL\n",
        "de enceste de cada candidata, no solo confiar en el 80/100 que todas lograron\n",
        "\n",
        "El truco está en entender que:\n",
        "- Si una jugadora gana entre muchas, probablemente tuvo suerte\n",
        "- Si una jugadora es elegida sin competir, su resultado es más confiable\n",
        "- Si reportan solo la mejor de varias rondas, es trampa"
      ],
      "metadata": {
        "id": "G0x4afewBTt1"
      }
    },
    {
      "cell_type": "markdown",
      "source": [
        "## **Cazatalentos 5**"
      ],
      "metadata": {
        "id": "KOhiAF3xB6E2"
      }
    },
    {
      "cell_type": "code",
      "source": [
        "# C5 es fácil de analizar porque conozco TODAS sus rondas\n",
        "aciertos_c5 <- c(68, 74, 78, 70, 68, 63, 80, 68, 67, 65)\n",
        "promedio_c5 <- sum(aciertos_c5) / 10\n",
        "cat(\"C5 - Promedio real de todas las rondas:\", promedio_c5, \"\\n\")\n",
        "cat(\"C5 - Probabilidad real estimada:\", promedio_c5/100, \"\\n\")"
      ],
      "metadata": {
        "id": "uCjRe63EBR7a",
        "outputId": "f9a7a7a1-2609-4410-fe07-24294356d4e4",
        "colab": {
          "base_uri": "https://localhost:8080/"
        }
      },
      "execution_count": 21,
      "outputs": [
        {
          "output_type": "stream",
          "name": "stdout",
          "text": [
            "C5 - Promedio real de todas las rondas: 70.1 \n",
            "C5 - Probabilidad real estimada: 0.701 \n"
          ]
        }
      ]
    },
    {
      "cell_type": "markdown",
      "source": [
        "## **Simulo competencias para estimar las probabilidades reales**"
      ],
      "metadata": {
        "id": "SZRvbPDmCGz1"
      }
    },
    {
      "cell_type": "markdown",
      "source": [
        "Para los otros casos, voy a simular qué probabilidad real debería tener una jugadora para que, compitiendo contra N otras, tenga buenas chances de ganar con 80/100"
      ],
      "metadata": {
        "id": "tIthIKctCMR4"
      }
    },
    {
      "cell_type": "code",
      "source": [
        "# función para simular un torneo y ver si una jugadora con prob_real gana con 80+ aciertos\n",
        "simular_torneo <- function(prob_real, n_competidoras, tiros_por_jugadora) {\n",
        "\n",
        "  aciertos_candidata <- ftirar(prob_real, tiros_por_jugadora) # la jugadora que me interesa\n",
        "\n",
        "  # las otras jugadoras del pelotón (asumo que tienen probabilidades menores)\n",
        "  max_aciertos_peloton <- 0\n",
        "  for(i in 1:n_competidoras) {\n",
        "    prob_peloton <- runif(1, 0.5, prob_real - 0.05)  # hago que sean un poco peores que la candidata\n",
        "    aciertos_peloton <- ftirar(prob_peloton, tiros_por_jugadora)\n",
        "    if(aciertos_peloton > max_aciertos_peloton) {\n",
        "      max_aciertos_peloton <- aciertos_peloton\n",
        "    }\n",
        "  }\n",
        "\n",
        "  # devuelvo TRUE si mi candidata ganó con 80+ aciertos\n",
        "  return(aciertos_candidata >= 80 && aciertos_candidata > max_aciertos_peloton)\n",
        "}"
      ],
      "metadata": {
        "id": "VA05iIF3B-xI"
      },
      "execution_count": 22,
      "outputs": []
    },
    {
      "cell_type": "code",
      "source": [
        "# Para cada cazatalentos, encuentro qué probabilidad real hace que sea creíble ganar con 80/100\n",
        "\n",
        "# C1: 100 competidoras\n",
        "exitos_c1 <- 0\n",
        "for(prob_test in seq(0.75, 0.85, 0.01)) {\n",
        "  exitos <- 0\n",
        "  for(i in 1:1000) {\n",
        "    if(simular_torneo(prob_test, 99, 100)) exitos <- exitos + 1\n",
        "  }\n",
        "  if(exitos > 100) {  # si es creíble que gane con esta probabilidad\n",
        "    prob_real_c1 <- prob_test\n",
        "    break\n",
        "  }\n",
        "}\n",
        "\n",
        "# C2: 200 competidoras (más difícil ganar sin suerte)\n",
        "for(prob_test in seq(0.78, 0.88, 0.01)) {\n",
        "  exitos <- 0\n",
        "  for(i in 1:1000) {\n",
        "    if(simular_torneo(prob_test, 199, 100)) exitos <- exitos + 1\n",
        "  }\n",
        "  if(exitos > 100) {\n",
        "    prob_real_c2 <- prob_test\n",
        "    break\n",
        "  }\n",
        "}\n",
        "\n",
        "# C3: sin competencia, resultado directo\n",
        "prob_real_c3 <- 80/100  # es lo que realmente tiró\n",
        "\n",
        "# C4: Solo 2 competidoras\n",
        "for(prob_test in seq(0.72, 0.82, 0.01)) {\n",
        "  exitos <- 0\n",
        "  for(i in 1:1000) {\n",
        "    if(simular_torneo(prob_test, 1, 100)) exitos <- exitos + 1\n",
        "  }\n",
        "  if(exitos > 200) {  # más fácil con menos competencia\n",
        "    prob_real_c4 <- prob_test\n",
        "    break\n",
        "  }\n",
        "}\n",
        "\n",
        "# C5: ya la calculé antes\n",
        "prob_real_c5 <- promedio_c5/100\n",
        "\n",
        "cat(\"Probabilidades reales estimadas:\\n\")\n",
        "cat(\"C1 (100 competidoras):\", prob_real_c1, \"\\n\")\n",
        "cat(\"C2 (200 competidoras):\", prob_real_c2, \"\\n\")\n",
        "cat(\"C3 (sin competencia):\", prob_real_c3, \"\\n\")\n",
        "cat(\"C4 (2 competidoras):\", prob_real_c4, \"\\n\")\n",
        "cat(\"C5 (trampa):\", prob_real_c5, \"\\n\")"
      ],
      "metadata": {
        "id": "ytCPZIY8Cv_g",
        "outputId": "5ac54a30-0a85-4605-aa0a-2df010ee4998",
        "colab": {
          "base_uri": "https://localhost:8080/"
        }
      },
      "execution_count": 23,
      "outputs": [
        {
          "output_type": "stream",
          "name": "stdout",
          "text": [
            "Probabilidades reales estimadas:\n",
            "C1 (100 competidoras): 0.75 \n",
            "C2 (200 competidoras): 0.78 \n",
            "C3 (sin competencia): 0.8 \n",
            "C4 (2 competidoras): 0.77 \n",
            "C5 (trampa): 0.701 \n"
          ]
        }
      ]
    },
    {
      "cell_type": "markdown",
      "source": [
        "## **Simulo rendimiento futuro**\n",
        "Ahora simulo como les iría en una nueva ronda de 100 tiros"
      ],
      "metadata": {
        "id": "iX2wqBf8DwQV"
      }
    },
    {
      "cell_type": "code",
      "source": [
        "suma_c1 <- 0\n",
        "suma_c2 <- 0\n",
        "suma_c3 <- 0\n",
        "suma_c4 <- 0\n",
        "suma_c5 <- 0\n",
        "\n",
        "for(i in 1:10000) {\n",
        "  suma_c1 <- suma_c1 + ftirar(prob_real_c1, 100)\n",
        "  suma_c2 <- suma_c2 + ftirar(prob_real_c2, 100)\n",
        "  suma_c3 <- suma_c3 + ftirar(prob_real_c3, 100)\n",
        "  suma_c4 <- suma_c4 + ftirar(prob_real_c4, 100)\n",
        "  suma_c5 <- suma_c5 + ftirar(prob_real_c5, 100)\n",
        "}\n",
        "\n",
        "promedio_futuro_c1 <- suma_c1 / 10000\n",
        "promedio_futuro_c2 <- suma_c2 / 10000\n",
        "promedio_futuro_c3 <- suma_c3 / 10000\n",
        "promedio_futuro_c4 <- suma_c4 / 10000\n",
        "promedio_futuro_c5 <- suma_c5 / 10000\n",
        "\n",
        "cat(\"Aciertos esperados en nueva ronda de 100 tiros:\\n\")\n",
        "cat(\"C1:\", promedio_futuro_c1, \"\\n\")\n",
        "cat(\"C2:\", promedio_futuro_c2, \"\\n\")\n",
        "cat(\"C3:\", promedio_futuro_c3, \"\\n\")\n",
        "cat(\"C4:\", promedio_futuro_c4, \"\\n\")\n",
        "cat(\"C5:\", promedio_futuro_c5, \"\\n\")"
      ],
      "metadata": {
        "id": "wiuVhwbUDvnZ",
        "outputId": "88cd6751-d30e-48e0-8da5-74613cd88b72",
        "colab": {
          "base_uri": "https://localhost:8080/"
        }
      },
      "execution_count": 24,
      "outputs": [
        {
          "output_type": "stream",
          "name": "stdout",
          "text": [
            "Aciertos esperados en nueva ronda de 100 tiros:\n",
            "C1: 75.0133 \n",
            "C2: 77.9905 \n",
            "C3: 79.9245 \n",
            "C4: 76.9999 \n",
            "C5: 70.1173 \n"
          ]
        }
      ]
    },
    {
      "cell_type": "markdown",
      "source": [
        "Ahora comparo de a pares para determinar el orden de las candidatas. Esta simulación consiste en elegirlas de a pares y hacer un torneo de 100 tiros entre ellas. Repito dicho torneo 10.000 en cada par y me quedo con la mejor. De esta forma, las puedo ordenar de menor a mayor."
      ],
      "metadata": {
        "id": "n39izFKBBRSf"
      }
    },
    {
      "cell_type": "code",
      "source": [
        "matriz_victorias <- matrix(0, 5, 5)\n",
        "probs_reales <- c(prob_real_c1, prob_real_c2, prob_real_c3, prob_real_c4, prob_real_c5)\n",
        "\n",
        "# hago todas las comparaciones de a pares posibles\n",
        "for(i in 1:5) {\n",
        "  for(j in 1:5) {\n",
        "    if(i != j) {\n",
        "      victorias_i <- 0\n",
        "      for(sim in 1:10000) {\n",
        "        aciertos_i <- ftirar(probs_reales[i], 100)\n",
        "        aciertos_j <- ftirar(probs_reales[j], 100)\n",
        "        if(aciertos_i > aciertos_j) victorias_i <- victorias_i + 1\n",
        "      }\n",
        "      matriz_victorias[i,j] <- victorias_i # me guardo la cantidad de veces que le ganó i a j\n",
        "      cat(\"C\", i, \" vs C\", j, \": C\", i, \" gana \", victorias_i, \" veces de 10000\\n\", sep=\"\")\n",
        "    }\n",
        "  }\n",
        "}"
      ],
      "metadata": {
        "id": "aFH4fmBPD-2X",
        "outputId": "1b7e9144-f44c-4a6b-85a4-5c295b62f1e2",
        "colab": {
          "base_uri": "https://localhost:8080/"
        }
      },
      "execution_count": 25,
      "outputs": [
        {
          "output_type": "stream",
          "name": "stdout",
          "text": [
            "C1 vs C2: C1 gana 2810 veces de 10000\n",
            "C1 vs C3: C1 gana 1781 veces de 10000\n",
            "C1 vs C4: C1 gana 3389 veces de 10000\n",
            "C1 vs C5: C1 gana 7555 veces de 10000\n",
            "C2 vs C1: C2 gana 6668 veces de 10000\n",
            "C2 vs C3: C2 gana 3229 veces de 10000\n",
            "C2 vs C4: C2 gana 5346 veces de 10000\n",
            "C2 vs C5: C2 gana 8815 veces de 10000\n",
            "C3 vs C1: C3 gana 7732 veces de 10000\n",
            "C3 vs C2: C3 gana 5980 veces de 10000\n",
            "C3 vs C4: C3 gana 6661 veces de 10000\n",
            "C3 vs C5: C3 gana 9398 veces de 10000\n",
            "C4 vs C1: C4 gana 6011 veces de 10000\n",
            "C4 vs C2: C4 gana 4043 veces de 10000\n",
            "C4 vs C3: C4 gana 2675 veces de 10000\n",
            "C4 vs C5: C4 gana 8422 veces de 10000\n",
            "C5 vs C1: C5 gana 1964 veces de 10000\n",
            "C5 vs C2: C5 gana 847 veces de 10000\n",
            "C5 vs C3: C5 gana 481 veces de 10000\n",
            "C5 vs C4: C5 gana 1208 veces de 10000\n"
          ]
        }
      ]
    },
    {
      "cell_type": "markdown",
      "source": [
        "## **Conclusión**"
      ],
      "metadata": {
        "id": "dtdaSTh9Estr"
      }
    },
    {
      "cell_type": "markdown",
      "source": [
        "Luego de compararlas de a pares, determino el orden segun esos resultados."
      ],
      "metadata": {
        "id": "uAeZ-3C-HhrE"
      }
    },
    {
      "cell_type": "code",
      "source": [
        "puntos <- c(0, 0, 0, 0, 0)\n",
        "for(i in 1:5) {\n",
        "  for(j in 1:5) {\n",
        "    if(i != j && matriz_victorias[i,j] > 5000) {\n",
        "      puntos[i] <- puntos[i] + 1\n",
        "    }\n",
        "  }\n",
        "}\n",
        "\n",
        "cat(\"\\nPuntuación total (a cuántas candidatas le gana cada una):\\n\")\n",
        "for(i in 1:5) {\n",
        "  cat(\"C\", i, \": \", puntos[i], \" victorias\\n\", sep=\"\")\n",
        "}\n",
        "\n",
        "# Ordenamiento basado en puntuación (de menor a mayor puntos)\n",
        "cat(\"\\nOrdenamiento final de PEOR a MEJOR (basado en comparaciones pareadas):\\n\")\n",
        "\n",
        "# Encontramos manualmente el orden\n",
        "candidatas_ordenadas <- character(5)\n",
        "puntos_usados <- rep(FALSE, 5)\n",
        "\n",
        "for(posicion in 1:5) {\n",
        "  min_puntos <- 5  # Máximo posible + 1\n",
        "  candidata_min <- 0\n",
        "\n",
        "  for(i in 1:5) {\n",
        "    if(!puntos_usados[i] && puntos[i] < min_puntos) {\n",
        "      min_puntos <- puntos[i]\n",
        "      candidata_min <- i\n",
        "    }\n",
        "  }\n",
        "\n",
        "  candidatas_ordenadas[posicion] <- paste0(\"C\", candidata_min)\n",
        "  puntos_usados[candidata_min] <- TRUE\n",
        "}\n",
        "\n",
        "cat(paste(candidatas_ordenadas, collapse=\" < \"), \"\\n\")"
      ],
      "metadata": {
        "id": "Hy46TQfGErml",
        "outputId": "5bf67783-2635-44ca-bbbc-8360704beb12",
        "colab": {
          "base_uri": "https://localhost:8080/"
        }
      },
      "execution_count": 26,
      "outputs": [
        {
          "output_type": "stream",
          "name": "stdout",
          "text": [
            "\n",
            "Puntuación total (a cuántas candidatas le gana cada una):\n",
            "C1: 1 victorias\n",
            "C2: 3 victorias\n",
            "C3: 4 victorias\n",
            "C4: 2 victorias\n",
            "C5: 0 victorias\n",
            "\n",
            "Ordenamiento final de PEOR a MEJOR (basado en comparaciones pareadas):\n",
            "C5 < C1 < C4 < C2 < C3 \n"
          ]
        }
      ]
    },
    {
      "cell_type": "markdown",
      "source": [
        "Explicación:\n",
        "- C5 es la peor porque hizo trampa (eligió la mejor de 10 rondas)\n",
        "- C2 es peor que C1 porque compitió contra más jugadoras (200 vs 100)\n",
        "- C1 sufrió la 'Maldición del ganador' por competir contra 99\n",
        "- C4 compitió solo contra 1, menos efecto suerte\n",
        "- C3 es la mejor porque no hubo competencia, resultado puro"
      ],
      "metadata": {
        "id": "JYzpYz6sEp4S"
      }
    }
  ]
}